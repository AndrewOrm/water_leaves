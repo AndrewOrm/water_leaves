{
 "cells": [
  {
   "cell_type": "markdown",
   "metadata": {
    "toc": true
   },
   "source": [
    "<h1>Содержание<span class=\"tocSkip\"></span></h1>\n",
    "<div class=\"toc\"><ul class=\"toc-item\"><li><span><a href=\"#Обзор-данных\" data-toc-modified-id=\"Обзор-данных-1\"><span class=\"toc-item-num\">1&nbsp;&nbsp;</span>Обзор данных</a></span></li><li><span><a href=\"#Предобработка-данных\" data-toc-modified-id=\"Предобработка-данных-2\"><span class=\"toc-item-num\">2&nbsp;&nbsp;</span>Предобработка данных</a></span><ul class=\"toc-item\"><li><span><a href=\"#Стиль-заголовков\" data-toc-modified-id=\"Стиль-заголовков-2.1\"><span class=\"toc-item-num\">2.1&nbsp;&nbsp;</span>Стиль заголовков</a></span></li><li><span><a href=\"#Пропуски-значений\" data-toc-modified-id=\"Пропуски-значений-2.2\"><span class=\"toc-item-num\">2.2&nbsp;&nbsp;</span>Пропуски значений</a></span></li><li><span><a href=\"#Дубликаты\" data-toc-modified-id=\"Дубликаты-2.3\"><span class=\"toc-item-num\">2.3&nbsp;&nbsp;</span>Дубликаты</a></span></li></ul></li><li><span><a href=\"#Проверка-гипотез\" data-toc-modified-id=\"Проверка-гипотез-3\"><span class=\"toc-item-num\">3&nbsp;&nbsp;</span>Проверка гипотез</a></span><ul class=\"toc-item\"><li><span><a href=\"#Сравнение-поведения-пользователей-двух-столиц\" data-toc-modified-id=\"Сравнение-поведения-пользователей-двух-столиц-3.1\"><span class=\"toc-item-num\">3.1&nbsp;&nbsp;</span>Сравнение поведения пользователей двух столиц</a></span></li><li><span><a href=\"#Музыка-в-начале-и-в-конце-недели\" data-toc-modified-id=\"Музыка-в-начале-и-в-конце-недели-3.2\"><span class=\"toc-item-num\">3.2&nbsp;&nbsp;</span>Музыка в начале и в конце недели</a></span></li><li><span><a href=\"#Жанровые-предпочтения-в-Москве-и-Петербурге\" data-toc-modified-id=\"Жанровые-предпочтения-в-Москве-и-Петербурге-3.3\"><span class=\"toc-item-num\">3.3&nbsp;&nbsp;</span>Жанровые предпочтения в Москве и Петербурге</a></span></li></ul></li><li><span><a href=\"#Итоги-исследования\" data-toc-modified-id=\"Итоги-исследования-4\"><span class=\"toc-item-num\">4&nbsp;&nbsp;</span>Итоги исследования</a></span></li></ul></div>"
   ]
  },
  {
   "cell_type": "markdown",
   "metadata": {
    "id": "E0vqbgi9ay0H"
   },
   "source": [
    "# Яндекс.Музыка"
   ]
  },
  {
   "cell_type": "markdown",
   "metadata": {
    "id": "VUC88oWjTJw2"
   },
   "source": [
    "Сравнение Москвы и Петербурга окружено мифами. Например:\n",
    " * Москва — мегаполис, подчинённый жёсткому ритму рабочей недели;\n",
    " * Петербург — культурная столица, со своими вкусами.\n",
    "\n",
    "На данных Яндекс.Музыки мы сравним поведение пользователей двух столиц.\n",
    "\n",
    "**Цель исследования** — проверить три гипотезы:\n",
    "1. Активность пользователей зависит от дня недели. Причём в Москве и Петербурге это проявляется по-разному.\n",
    "2. В понедельник утром в Москве преобладают одни жанры, а в Петербурге — другие. Так же и вечером пятницы преобладают разные жанры — в зависимости от города. \n",
    "3. Москва и Петербург предпочитают разные жанры музыки. В Москве чаще слушают поп-музыку, в Петербурге — русский рэп.\n",
    "\n",
    "**Ход исследования**\n",
    "\n",
    "Данные о поведении пользователей мы получим из файла `yandex_music_project.csv`. О качестве данных ничего не известно. Поэтому перед проверкой гипотез понадобится обзор данных. \n",
    "\n",
    "Далее проверим данные на ошибки и оценим их влияние на исследование. Затем, на этапе предобработки поищем возможность исправить самые критичные ошибки данных.\n",
    " \n",
    "Таким образом, исследование пройдёт в три этапа:\n",
    " 1. Обзор данных.\n",
    " 2. Предобработка данных.\n",
    " 3. Проверка гипотез.\n",
    "\n"
   ]
  },
  {
   "cell_type": "markdown",
   "metadata": {
    "id": "Ml1hmfXC_Zcs"
   },
   "source": [
    "## Обзор данных\n",
    "\n",
    "Составим первое представление о данных Яндекс.Музыки."
   ]
  },
  {
   "cell_type": "markdown",
   "metadata": {
    "id": "57eAOGIz_Zcs"
   },
   "source": [
    "Основной инструмент аналитика — `pandas`. Импортируем эту библиотеку."
   ]
  },
  {
   "cell_type": "code",
   "execution_count": 1,
   "metadata": {
    "id": "AXN7PHPN_Zcs"
   },
   "outputs": [],
   "source": [
    "# импорт библиотеки pandas\n",
    "import pandas as pd"
   ]
  },
  {
   "cell_type": "markdown",
   "metadata": {
    "id": "SG23P8tt_Zcs"
   },
   "source": [
    "Прочитаем файл `yandex_music_project.csv` и сохраним его в переменной `df`:"
   ]
  },
  {
   "cell_type": "code",
   "execution_count": 2,
   "metadata": {
    "id": "fFVu7vqh_Zct"
   },
   "outputs": [],
   "source": [
    "# чтение файла с данными и сохранение в df\n",
    "df = pd.read_csv('yandex_music_project.csv')"
   ]
  },
  {
   "cell_type": "markdown",
   "metadata": {
    "id": "rDoOMd3uTqnZ"
   },
   "source": [
    "Выведем на экран первые десять строк таблицы:"
   ]
  },
  {
   "cell_type": "code",
   "execution_count": 3,
   "metadata": {
    "id": "oWTVX3gW_Zct"
   },
   "outputs": [
    {
     "data": {
      "text/html": [
       "<div>\n",
       "<style scoped>\n",
       "    .dataframe tbody tr th:only-of-type {\n",
       "        vertical-align: middle;\n",
       "    }\n",
       "\n",
       "    .dataframe tbody tr th {\n",
       "        vertical-align: top;\n",
       "    }\n",
       "\n",
       "    .dataframe thead th {\n",
       "        text-align: right;\n",
       "    }\n",
       "</style>\n",
       "<table border=\"1\" class=\"dataframe\">\n",
       "  <thead>\n",
       "    <tr style=\"text-align: right;\">\n",
       "      <th></th>\n",
       "      <th>userID</th>\n",
       "      <th>Track</th>\n",
       "      <th>artist</th>\n",
       "      <th>genre</th>\n",
       "      <th>City</th>\n",
       "      <th>time</th>\n",
       "      <th>Day</th>\n",
       "    </tr>\n",
       "  </thead>\n",
       "  <tbody>\n",
       "    <tr>\n",
       "      <th>0</th>\n",
       "      <td>FFB692EC</td>\n",
       "      <td>Kamigata To Boots</td>\n",
       "      <td>The Mass Missile</td>\n",
       "      <td>rock</td>\n",
       "      <td>Saint-Petersburg</td>\n",
       "      <td>20:28:33</td>\n",
       "      <td>Wednesday</td>\n",
       "    </tr>\n",
       "    <tr>\n",
       "      <th>1</th>\n",
       "      <td>55204538</td>\n",
       "      <td>Delayed Because of Accident</td>\n",
       "      <td>Andreas Rönnberg</td>\n",
       "      <td>rock</td>\n",
       "      <td>Moscow</td>\n",
       "      <td>14:07:09</td>\n",
       "      <td>Friday</td>\n",
       "    </tr>\n",
       "    <tr>\n",
       "      <th>2</th>\n",
       "      <td>20EC38</td>\n",
       "      <td>Funiculì funiculà</td>\n",
       "      <td>Mario Lanza</td>\n",
       "      <td>pop</td>\n",
       "      <td>Saint-Petersburg</td>\n",
       "      <td>20:58:07</td>\n",
       "      <td>Wednesday</td>\n",
       "    </tr>\n",
       "    <tr>\n",
       "      <th>3</th>\n",
       "      <td>A3DD03C9</td>\n",
       "      <td>Dragons in the Sunset</td>\n",
       "      <td>Fire + Ice</td>\n",
       "      <td>folk</td>\n",
       "      <td>Saint-Petersburg</td>\n",
       "      <td>08:37:09</td>\n",
       "      <td>Monday</td>\n",
       "    </tr>\n",
       "    <tr>\n",
       "      <th>4</th>\n",
       "      <td>E2DC1FAE</td>\n",
       "      <td>Soul People</td>\n",
       "      <td>Space Echo</td>\n",
       "      <td>dance</td>\n",
       "      <td>Moscow</td>\n",
       "      <td>08:34:34</td>\n",
       "      <td>Monday</td>\n",
       "    </tr>\n",
       "    <tr>\n",
       "      <th>5</th>\n",
       "      <td>842029A1</td>\n",
       "      <td>Преданная</td>\n",
       "      <td>IMPERVTOR</td>\n",
       "      <td>rusrap</td>\n",
       "      <td>Saint-Petersburg</td>\n",
       "      <td>13:09:41</td>\n",
       "      <td>Friday</td>\n",
       "    </tr>\n",
       "    <tr>\n",
       "      <th>6</th>\n",
       "      <td>4CB90AA5</td>\n",
       "      <td>True</td>\n",
       "      <td>Roman Messer</td>\n",
       "      <td>dance</td>\n",
       "      <td>Moscow</td>\n",
       "      <td>13:00:07</td>\n",
       "      <td>Wednesday</td>\n",
       "    </tr>\n",
       "    <tr>\n",
       "      <th>7</th>\n",
       "      <td>F03E1C1F</td>\n",
       "      <td>Feeling This Way</td>\n",
       "      <td>Polina Griffith</td>\n",
       "      <td>dance</td>\n",
       "      <td>Moscow</td>\n",
       "      <td>20:47:49</td>\n",
       "      <td>Wednesday</td>\n",
       "    </tr>\n",
       "    <tr>\n",
       "      <th>8</th>\n",
       "      <td>8FA1D3BE</td>\n",
       "      <td>И вновь продолжается бой</td>\n",
       "      <td>NaN</td>\n",
       "      <td>ruspop</td>\n",
       "      <td>Moscow</td>\n",
       "      <td>09:17:40</td>\n",
       "      <td>Friday</td>\n",
       "    </tr>\n",
       "    <tr>\n",
       "      <th>9</th>\n",
       "      <td>E772D5C0</td>\n",
       "      <td>Pessimist</td>\n",
       "      <td>NaN</td>\n",
       "      <td>dance</td>\n",
       "      <td>Saint-Petersburg</td>\n",
       "      <td>21:20:49</td>\n",
       "      <td>Wednesday</td>\n",
       "    </tr>\n",
       "  </tbody>\n",
       "</table>\n",
       "</div>"
      ],
      "text/plain": [
       "     userID                        Track            artist   genre  \\\n",
       "0  FFB692EC            Kamigata To Boots  The Mass Missile    rock   \n",
       "1  55204538  Delayed Because of Accident  Andreas Rönnberg    rock   \n",
       "2    20EC38            Funiculì funiculà       Mario Lanza     pop   \n",
       "3  A3DD03C9        Dragons in the Sunset        Fire + Ice    folk   \n",
       "4  E2DC1FAE                  Soul People        Space Echo   dance   \n",
       "5  842029A1                    Преданная         IMPERVTOR  rusrap   \n",
       "6  4CB90AA5                         True      Roman Messer   dance   \n",
       "7  F03E1C1F             Feeling This Way   Polina Griffith   dance   \n",
       "8  8FA1D3BE     И вновь продолжается бой               NaN  ruspop   \n",
       "9  E772D5C0                    Pessimist               NaN   dance   \n",
       "\n",
       "             City        time        Day  \n",
       "0  Saint-Petersburg  20:28:33  Wednesday  \n",
       "1            Moscow  14:07:09     Friday  \n",
       "2  Saint-Petersburg  20:58:07  Wednesday  \n",
       "3  Saint-Petersburg  08:37:09     Monday  \n",
       "4            Moscow  08:34:34     Monday  \n",
       "5  Saint-Petersburg  13:09:41     Friday  \n",
       "6            Moscow  13:00:07  Wednesday  \n",
       "7            Moscow  20:47:49  Wednesday  \n",
       "8            Moscow  09:17:40     Friday  \n",
       "9  Saint-Petersburg  21:20:49  Wednesday  "
      ]
     },
     "execution_count": 3,
     "metadata": {},
     "output_type": "execute_result"
    }
   ],
   "source": [
    "# получение первых 10 строк таблицы df\n",
    "df.head(10)"
   ]
  },
  {
   "cell_type": "markdown",
   "metadata": {
    "id": "EO73Kwic_Zct"
   },
   "source": [
    "Одной командой получим общую информацию о таблице:"
   ]
  },
  {
   "cell_type": "code",
   "execution_count": 4,
   "metadata": {
    "id": "DSf2kIb-_Zct"
   },
   "outputs": [
    {
     "name": "stdout",
     "output_type": "stream",
     "text": [
      "<class 'pandas.core.frame.DataFrame'>\n",
      "RangeIndex: 65079 entries, 0 to 65078\n",
      "Data columns (total 7 columns):\n",
      " #   Column    Non-Null Count  Dtype \n",
      "---  ------    --------------  ----- \n",
      " 0     userID  65079 non-null  object\n",
      " 1   Track     63848 non-null  object\n",
      " 2   artist    57876 non-null  object\n",
      " 3   genre     63881 non-null  object\n",
      " 4     City    65079 non-null  object\n",
      " 5   time      65079 non-null  object\n",
      " 6   Day       65079 non-null  object\n",
      "dtypes: object(7)\n",
      "memory usage: 3.5+ MB\n"
     ]
    }
   ],
   "source": [
    "# получение общей информации о данных в таблице df\n",
    "df.info()"
   ]
  },
  {
   "cell_type": "markdown",
   "metadata": {
    "id": "TaQ2Iwbr_Zct"
   },
   "source": [
    "Итак, в таблице семь столбцов. Тип данных во всех столбцах — `object`.\n",
    "\n",
    "Согласно документации к данным:\n",
    "* `  userID` — идентификатор пользователя;\n",
    "* `Track` — название трека;  \n",
    "* `artist` — имя исполнителя;\n",
    "* `genre` — название жанра;\n",
    "* `  City` — город пользователя;\n",
    "* `time` — время начала прослушивания;\n",
    "* `Day` — день недели.\n",
    "\n",
    "В названиях колонок видны четыре нарушения стиля:\n",
    "1. Строчные буквы сочетаются с прописными.\n",
    "2. Встречаются пробелы.\n",
    "3. Некорректное название дня недели, способное привести к путанице при анализе данных, - `Day` вместо `day_week`.\n",
    "4. Некорректное написание `userID` без пробела и с прописными буквами.\n",
    "\n",
    "\n",
    "Количество значений в столбцах различается. Значит, в данных есть пропущенные значения."
   ]
  },
  {
   "cell_type": "markdown",
   "metadata": {
    "id": "MCB6-dXG_Zct"
   },
   "source": [
    "**Выводы**\n",
    "\n",
    "В каждой строке таблицы — данные о прослушанном треке. Часть колонок описывает саму композицию: название, исполнителя и жанр. Остальные данные рассказывают о пользователе: из какого он города, когда он слушал музыку (день недели, время начала прослушивания). \n",
    "\n",
    "Предварительно можно утверждать, что данных достаточно для проверки гипотез - имеется более 57 тыс. полностью заполненных строк. Но в данных встречаются пропуски, а в названиях колонок — расхождения с хорошим стилем. Пропуски встречаются в названиях композиции, жанра и исполнителя. Возможно, есть и дубликаты.\n",
    "\n",
    "Чтобы двигаться дальше, нужно устранить проблемы в данных."
   ]
  },
  {
   "cell_type": "markdown",
   "metadata": {
    "id": "SjYF6Ub9_Zct"
   },
   "source": [
    "## Предобработка данных\n",
    "Исправим стиль в заголовках столбцов, исключим пропуски. Затем проверим данные на дубликаты."
   ]
  },
  {
   "cell_type": "markdown",
   "metadata": {
    "id": "dIaKXr29_Zct"
   },
   "source": [
    "### Стиль заголовков\n",
    "Выведем на экран названия столбцов:"
   ]
  },
  {
   "cell_type": "code",
   "execution_count": 5,
   "metadata": {
    "id": "oKOTdF_Q_Zct"
   },
   "outputs": [
    {
     "data": {
      "text/plain": [
       "Index(['  userID', 'Track', 'artist', 'genre', '  City  ', 'time', 'Day'], dtype='object')"
      ]
     },
     "execution_count": 5,
     "metadata": {},
     "output_type": "execute_result"
    }
   ],
   "source": [
    "# перечень названий столбцов таблицы df\n",
    "df.columns"
   ]
  },
  {
   "cell_type": "markdown",
   "metadata": {
    "id": "zj5534cv_Zct"
   },
   "source": [
    "Приведём названия в соответствие с хорошим стилем:\n",
    "* несколько слов в названии запишем в «змеином_регистре»,\n",
    "* заменим `day` на `day_week`,\n",
    "* все символы сделаем строчными,\n",
    "* устраним пробелы.\n",
    "\n",
    "Для этого переименуем колонки так:\n",
    "* `'  userID'` → `'user_id'`;\n",
    "* `'Track'` → `'track'`;\n",
    "* `'  City  '` → `'city'`;\n",
    "* `'Day'` → `'day_week'`."
   ]
  },
  {
   "cell_type": "code",
   "execution_count": 6,
   "metadata": {
    "id": "ISlFqs5y_Zct"
   },
   "outputs": [],
   "source": [
    "# переименование столбцов\n",
    "df = df.rename(columns = {'  userID':'user_id', 'Track':'track', '  City  ':'city', 'Day':'day_week'})"
   ]
  },
  {
   "cell_type": "markdown",
   "metadata": {
    "id": "1dqbh00J_Zct"
   },
   "source": [
    "Проверим результат. Для этого ещё раз выведем на экран названия столбцов:"
   ]
  },
  {
   "cell_type": "code",
   "execution_count": 7,
   "metadata": {
    "id": "d4NOAmTW_Zct"
   },
   "outputs": [
    {
     "data": {
      "text/plain": [
       "Index(['user_id', 'track', 'artist', 'genre', 'city', 'time', 'day_week'], dtype='object')"
      ]
     },
     "execution_count": 7,
     "metadata": {},
     "output_type": "execute_result"
    }
   ],
   "source": [
    "# проверка результатов - перечень названий столбцов\n",
    "df.columns"
   ]
  },
  {
   "cell_type": "markdown",
   "metadata": {
    "id": "5ISfbcfY_Zct"
   },
   "source": [
    "### Пропуски значений\n",
    "Сначала посчитаем, сколько в таблице пропущенных значений. Для этого достаточно двух методов `pandas`:"
   ]
  },
  {
   "cell_type": "code",
   "execution_count": 8,
   "metadata": {
    "id": "RskX29qr_Zct"
   },
   "outputs": [
    {
     "data": {
      "text/plain": [
       "user_id        0\n",
       "track       1231\n",
       "artist      7203\n",
       "genre       1198\n",
       "city           0\n",
       "time           0\n",
       "day_week       0\n",
       "dtype: int64"
      ]
     },
     "execution_count": 8,
     "metadata": {},
     "output_type": "execute_result"
    }
   ],
   "source": [
    "# подсчёт пропусков\n",
    "df.isna().sum()"
   ]
  },
  {
   "cell_type": "markdown",
   "metadata": {
    "id": "qubhgnlO_Zct"
   },
   "source": [
    "Не все пропущенные значения влияют на исследование. Так в `track` и `artist` пропуски не важны для вашей работы. Достаточно заменить их явными обозначениями.\n",
    "\n",
    "Но пропуски в `genre` могут помешать сравнению музыкальных вкусов в Москве и Санкт-Петербурге. На практике было бы правильно установить причину пропусков и восстановить данные. Такой возможности нет в учебном проекте. Поэтому придётся:\n",
    "* заполнить и эти пропуски явными обозначениями,\n",
    "* оценить, насколько они повредят расчётам. "
   ]
  },
  {
   "cell_type": "markdown",
   "metadata": {
    "id": "fSv2laPA_Zct"
   },
   "source": [
    "Заменим пропущенные значения в столбцах `track`, `artist` и `genre` на строку `'unknown'`. Для этого создадим список `columns_to_replace`, переберём его элементы циклом `for` и для каждого столбца выполним замену пропущенных значений:"
   ]
  },
  {
   "cell_type": "code",
   "execution_count": 9,
   "metadata": {
    "id": "KplB5qWs_Zct"
   },
   "outputs": [],
   "source": [
    "# перебор названий столбцов в цикле и замена пропущенных значений на 'unknown'\n",
    "columns_to_replace = ['track', 'artist', 'genre']\n",
    "for column in columns_to_replace:\n",
    "    df[column] = df[column].fillna('unknown')"
   ]
  },
  {
   "cell_type": "markdown",
   "metadata": {
    "id": "Ilsm-MZo_Zct"
   },
   "source": [
    "Убедимся, что в таблице не осталось пропусков. Для этого ещё раз посчитаем пропущенные значения."
   ]
  },
  {
   "cell_type": "code",
   "execution_count": 10,
   "metadata": {
    "id": "Tq4nYRX4_Zct"
   },
   "outputs": [
    {
     "data": {
      "text/plain": [
       "user_id     0\n",
       "track       0\n",
       "artist      0\n",
       "genre       0\n",
       "city        0\n",
       "time        0\n",
       "day_week    0\n",
       "dtype: int64"
      ]
     },
     "execution_count": 10,
     "metadata": {},
     "output_type": "execute_result"
    }
   ],
   "source": [
    "# подсчёт пропусков\n",
    "df.isna().sum()"
   ]
  },
  {
   "cell_type": "markdown",
   "metadata": {
    "id": "BWKRtBJ3_Zct"
   },
   "source": [
    "### Дубликаты\n",
    "Посчитаем явные дубликаты в таблице одной командой:"
   ]
  },
  {
   "cell_type": "code",
   "execution_count": 11,
   "metadata": {
    "id": "36eES_S0_Zct"
   },
   "outputs": [
    {
     "data": {
      "text/plain": [
       "3826"
      ]
     },
     "execution_count": 11,
     "metadata": {},
     "output_type": "execute_result"
    }
   ],
   "source": [
    "# подсчёт явных дубликатов\n",
    "df.duplicated().sum()"
   ]
  },
  {
   "cell_type": "markdown",
   "metadata": {
    "id": "Ot25h6XR_Zct"
   },
   "source": [
    "Вызовем специальный метод `pandas`, чтобы удалить явные дубликаты:"
   ]
  },
  {
   "cell_type": "code",
   "execution_count": 12,
   "metadata": {
    "id": "exFHq6tt_Zct"
   },
   "outputs": [],
   "source": [
    "# удаление явных дубликатов (с удалением старых индексов и формированием новых)\n",
    "df = df.drop_duplicates().reset_index(drop = True)"
   ]
  },
  {
   "cell_type": "markdown",
   "metadata": {
    "id": "Im2YwBEG_Zct"
   },
   "source": [
    "Ещё раз посчитаем явные дубликаты в таблице — убедимся, что полностью от них избавились:"
   ]
  },
  {
   "cell_type": "code",
   "execution_count": 13,
   "metadata": {
    "id": "-8PuNWQ0_Zct"
   },
   "outputs": [
    {
     "data": {
      "text/plain": [
       "0"
      ]
     },
     "execution_count": 13,
     "metadata": {},
     "output_type": "execute_result"
    }
   ],
   "source": [
    "# проверка на отсутствие дубликатов\n",
    "df.duplicated().sum()"
   ]
  },
  {
   "cell_type": "markdown",
   "metadata": {
    "id": "QlFBsxAr_Zct"
   },
   "source": [
    "Теперь избавимся от неявных дубликатов в колонке `genre`. Например, название одного и того же жанра может быть записано немного по-разному. Такие ошибки тоже повлияют на результат исследования."
   ]
  },
  {
   "cell_type": "markdown",
   "metadata": {
    "id": "eSjWwsOh_Zct"
   },
   "source": [
    "Выведем на экран список уникальных названий жанров, отсортированный в алфавитном порядке. Для этого:\n",
    "* извлекаем нужный столбец датафрейма, \n",
    "* применим к нему метод сортировки,\n",
    "* для отсортированного столбца вызовем метод, который вернёт уникальные значения из столбца."
   ]
  },
  {
   "cell_type": "code",
   "execution_count": 15,
   "metadata": {},
   "outputs": [
    {
     "data": {
      "text/plain": [
       "array(['acid', 'acoustic', 'action', 'adult', 'africa', 'afrikaans',\n",
       "       'alternative', 'alternativepunk', 'ambient', 'americana',\n",
       "       'animated', 'anime', 'arabesk', 'arabic', 'arena',\n",
       "       'argentinetango', 'art', 'audiobook', 'author', 'avantgarde',\n",
       "       'axé', 'baile', 'balkan', 'beats', 'bigroom', 'black', 'bluegrass',\n",
       "       'blues', 'bollywood', 'bossa', 'brazilian', 'breakbeat', 'breaks',\n",
       "       'broadway', 'cantautori', 'cantopop', 'canzone', 'caribbean',\n",
       "       'caucasian', 'celtic', 'chamber', 'chanson', 'children', 'chill',\n",
       "       'chinese', 'choral', 'christian', 'christmas', 'classical',\n",
       "       'classicmetal', 'club', 'colombian', 'comedy', 'conjazz',\n",
       "       'contemporary', 'country', 'cuban', 'dance', 'dancehall',\n",
       "       'dancepop', 'dark', 'death', 'deep', 'deutschrock', 'deutschspr',\n",
       "       'dirty', 'disco', 'dnb', 'documentary', 'downbeat', 'downtempo',\n",
       "       'drum', 'dub', 'dubstep', 'eastern', 'easy', 'electronic',\n",
       "       'electropop', 'emo', 'entehno', 'epicmetal', 'estrada', 'ethnic',\n",
       "       'eurofolk', 'european', 'experimental', 'extrememetal', 'fado',\n",
       "       'fairytail', 'film', 'fitness', 'flamenco', 'folk', 'folklore',\n",
       "       'folkmetal', 'folkrock', 'folktronica', 'forró', 'frankreich',\n",
       "       'französisch', 'french', 'funk', 'future', 'gangsta', 'garage',\n",
       "       'german', 'ghazal', 'gitarre', 'glitch', 'gospel', 'gothic',\n",
       "       'grime', 'grunge', 'gypsy', 'handsup', \"hard'n'heavy\", 'hardcore',\n",
       "       'hardstyle', 'hardtechno', 'hip', 'hip-hop', 'hiphop',\n",
       "       'historisch', 'holiday', 'hop', 'horror', 'house', 'hymn', 'idm',\n",
       "       'independent', 'indian', 'indie', 'indipop', 'industrial',\n",
       "       'inspirational', 'instrumental', 'international', 'irish', 'jam',\n",
       "       'japanese', 'jazz', 'jewish', 'jpop', 'jungle', 'k-pop',\n",
       "       'karadeniz', 'karaoke', 'kayokyoku', 'korean', 'laiko', 'latin',\n",
       "       'latino', 'leftfield', 'local', 'lounge', 'loungeelectronic',\n",
       "       'lovers', 'malaysian', 'mandopop', 'marschmusik', 'meditative',\n",
       "       'mediterranean', 'melodic', 'metal', 'metalcore', 'mexican',\n",
       "       'middle', 'minimal', 'miscellaneous', 'modern', 'mood', 'mpb',\n",
       "       'muslim', 'native', 'neoklassik', 'neue', 'new', 'newage',\n",
       "       'newwave', 'nu', 'nujazz', 'numetal', 'oceania', 'old', 'opera',\n",
       "       'orchestral', 'other', 'piano', 'podcasts', 'pop', 'popdance',\n",
       "       'popelectronic', 'popeurodance', 'poprussian', 'post',\n",
       "       'posthardcore', 'postrock', 'power', 'progmetal', 'progressive',\n",
       "       'psychedelic', 'punjabi', 'punk', 'quebecois', 'ragga', 'ram',\n",
       "       'rancheras', 'rap', 'rave', 'reggae', 'reggaeton', 'regional',\n",
       "       'relax', 'religious', 'retro', 'rhythm', 'rnb', 'rnr', 'rock',\n",
       "       'rockabilly', 'rockalternative', 'rockindie', 'rockother',\n",
       "       'romance', 'roots', 'ruspop', 'rusrap', 'rusrock', 'russian',\n",
       "       'salsa', 'samba', 'scenic', 'schlager', 'self', 'sertanejo',\n",
       "       'shanson', 'shoegazing', 'showtunes', 'singer', 'ska', 'skarock',\n",
       "       'slow', 'smooth', 'soft', 'soul', 'soulful', 'sound', 'soundtrack',\n",
       "       'southern', 'specialty', 'speech', 'spiritual', 'sport',\n",
       "       'stonerrock', 'surf', 'swing', 'synthpop', 'synthrock',\n",
       "       'sängerportrait', 'tango', 'tanzorchester', 'taraftar', 'tatar',\n",
       "       'tech', 'techno', 'teen', 'thrash', 'top', 'traditional',\n",
       "       'tradjazz', 'trance', 'tribal', 'trip', 'triphop', 'tropical',\n",
       "       'türk', 'türkçe', 'ukrrock', 'unknown', 'urban', 'uzbek',\n",
       "       'variété', 'vi', 'videogame', 'vocal', 'western', 'world',\n",
       "       'worldbeat', 'ïîï', 'электроника'], dtype=object)"
      ]
     },
     "execution_count": 15,
     "metadata": {},
     "output_type": "execute_result"
    }
   ],
   "source": [
    "df['genre'].sort_values().unique()"
   ]
  },
  {
   "cell_type": "markdown",
   "metadata": {
    "id": "qej-Qmuo_Zct"
   },
   "source": [
    "Посмотрим на список и найдём набор дублей. Это могут быть названия с ошибками или альтернативные названия того же жанра. Мы видим следующие неявные дубликаты:\n",
    "* `africa` (`africa`, `afrikaans`),\n",
    "* `author` (`author`, `cantautori`), \n",
    "* `estrada` (`estrada`, `schlager`),\n",
    "* `electronic` (`electronic`, `электроника`),\n",
    "* `folk` (`folk`, `folklore`),\n",
    "* `french` (`french`, `frankreich`, `französisch`),\n",
    "* `hiphop` (`hip`, `hip-hop`, `hiphop`, `hop`),\n",
    "* `independent` (`independent`, `indie`),\n",
    "* `latino` (`latin`, `latino`),\n",
    "* `local` (`local`, `regional`),\n",
    "* `mediterranean` (`mediterranean`, `middle`),\n",
    "* `new` (`neue`, `new`),\n",
    "* `religious` (`religious`, `spiritual`),\n",
    "* `shanson` (`canzone`, `chanson`, `shanson`),\n",
    "* `turkish` (`türk`, `türkçe`),\n",
    "* `vocal` (`singer`, `vocal`),\n",
    "* `world` (`international`, `world`)."
   ]
  },
  {
   "cell_type": "markdown",
   "metadata": {},
   "source": [
    "Есть несколько жанров бразильской музыки:\n",
    "* `axé`,\n",
    "* `baile`,\n",
    "* `bossa`,\n",
    "* просто `brazilian`,\n",
    "* `forró`,\n",
    "* `mpb`,\n",
    "* `sertanejo`.\n",
    "\n",
    "А также по несколько жанров американской, британской, китайской, корейской, мексиканской, немецкой, ямайской, японской музыки."
   ]
  },
  {
   "cell_type": "markdown",
   "metadata": {},
   "source": [
    "В столбце `genre` есть и набор значений, далеких от классических наименований жанров. Например, `adult`, `old`, `post`, `sängerportrait`, `self`, `slow`, название британских групп `arena` и `leftfield`, псевдоним российского рэпера `ram`. Однако ограничимся очевидными дублями жанров."
   ]
  },
  {
   "cell_type": "markdown",
   "metadata": {},
   "source": [
    "Одно из значений жанров, очевидно, ошибочное - `ïîï`. Заменим его на `unknown`."
   ]
  },
  {
   "cell_type": "markdown",
   "metadata": {},
   "source": [
    "Чтобы очистить таблицу от неявных дубликатов, напишем функцию `replace_wrong_genres()` с двумя параметрами: \n",
    "* `wrong_genres` — список дубликатов,\n",
    "* `correct_genre` — строка с правильным значением.\n",
    "\n",
    "Функция должна исправить колонку `genre` в таблице `df`: заменить каждое значение из списка `wrong_genres` на значение из `correct_genre`."
   ]
  },
  {
   "cell_type": "code",
   "execution_count": 16,
   "metadata": {
    "id": "ErNDkmns_Zct"
   },
   "outputs": [],
   "source": [
    "# Функция для замены неявных дубликатов\n",
    "def replace_wrong_genres(wrong_genres, correct_genre):\n",
    "    for wrong_genre in wrong_genres:\n",
    "        df['genre'] = df['genre'].replace(wrong_genre, correct_genre)"
   ]
  },
  {
   "cell_type": "markdown",
   "metadata": {
    "id": "aDoBJxbA_Zct"
   },
   "source": [
    "Начнём с хип-хопа. Вызовем `replace_wrong_genres()` и передадим ей такие аргументы, чтобы она устранила неявные дубликаты: вместо `hip`, `hop` и `hip-hop` в таблице должно быть значение `hiphop`."
   ]
  },
  {
   "cell_type": "markdown",
   "metadata": {},
   "source": [
    "Устраним и остальные дубликаты:"
   ]
  },
  {
   "cell_type": "code",
   "execution_count": 46,
   "metadata": {},
   "outputs": [],
   "source": [
    "replace_wrong_genres(['hip', 'hop', 'hip-hop'], 'hiphop')\n",
    "replace_wrong_genres(['afrikaans'], 'africa')\n",
    "replace_wrong_genres(['cantautori'], 'author')\n",
    "replace_wrong_genres(['schlager'], 'estrada')\n",
    "replace_wrong_genres(['электроника'], 'electronic')\n",
    "replace_wrong_genres(['folklore'], 'folk')\n",
    "replace_wrong_genres(['frankreich', 'französisch'], 'french')\n",
    "replace_wrong_genres(['indie'], 'independent')\n",
    "replace_wrong_genres(['latino'], 'latin')\n",
    "replace_wrong_genres(['regional'], 'local')\n",
    "replace_wrong_genres(['middle'], 'mediterranean')\n",
    "replace_wrong_genres(['neue'], 'new')\n",
    "replace_wrong_genres(['spiritual'], 'religious')\n",
    "replace_wrong_genres(['canzone', 'chanson'], 'shanson')\n",
    "replace_wrong_genres(['türk', 'türkçe'], 'turkish')\n",
    "replace_wrong_genres(['singer'], 'vocal')\n",
    "replace_wrong_genres(['international'], 'world')\n",
    "replace_wrong_genres(['ïîï'], 'unknown')"
   ]
  },
  {
   "cell_type": "markdown",
   "metadata": {
    "id": "zQKF16_RG15m"
   },
   "source": [
    "Проверим, что заменили неправильные названия:\n",
    "\n",
    "*   hip\n",
    "*   hop\n",
    "*   hip-hop\n",
    "\n",
    "Выведем отсортированный список уникальных значений столбца `genre`:"
   ]
  },
  {
   "cell_type": "code",
   "execution_count": 47,
   "metadata": {
    "id": "wvixALnFG15m"
   },
   "outputs": [
    {
     "data": {
      "text/plain": [
       "array(['acid', 'acoustic', 'action', 'adult', 'africa', 'alternative',\n",
       "       'alternativepunk', 'ambient', 'americana', 'animated', 'anime',\n",
       "       'arabesk', 'arabic', 'arena', 'argentinetango', 'art', 'audiobook',\n",
       "       'author', 'avantgarde', 'axé', 'baile', 'balkan', 'beats',\n",
       "       'bigroom', 'black', 'bluegrass', 'blues', 'bollywood', 'bossa',\n",
       "       'brazilian', 'breakbeat', 'breaks', 'broadway', 'cantopop',\n",
       "       'caribbean', 'caucasian', 'celtic', 'chamber', 'children', 'chill',\n",
       "       'chinese', 'choral', 'christian', 'christmas', 'classical',\n",
       "       'classicmetal', 'club', 'colombian', 'comedy', 'conjazz',\n",
       "       'contemporary', 'country', 'cuban', 'dance', 'dancehall',\n",
       "       'dancepop', 'dark', 'death', 'deep', 'deutschrock', 'deutschspr',\n",
       "       'dirty', 'disco', 'dnb', 'documentary', 'downbeat', 'downtempo',\n",
       "       'drum', 'dub', 'dubstep', 'eastern', 'easy', 'electronic',\n",
       "       'electropop', 'emo', 'entehno', 'epicmetal', 'estrada', 'ethnic',\n",
       "       'eurofolk', 'european', 'experimental', 'extrememetal', 'fado',\n",
       "       'fairytail', 'film', 'fitness', 'flamenco', 'folk', 'folkmetal',\n",
       "       'folkrock', 'folktronica', 'forró', 'french', 'funk', 'future',\n",
       "       'gangsta', 'garage', 'german', 'ghazal', 'gitarre', 'glitch',\n",
       "       'gospel', 'gothic', 'grime', 'grunge', 'gypsy', 'handsup',\n",
       "       \"hard'n'heavy\", 'hardcore', 'hardstyle', 'hardtechno', 'hiphop',\n",
       "       'historisch', 'holiday', 'horror', 'house', 'hymn', 'idm',\n",
       "       'independent', 'indian', 'indipop', 'industrial', 'inspirational',\n",
       "       'instrumental', 'irish', 'jam', 'japanese', 'jazz', 'jewish',\n",
       "       'jpop', 'jungle', 'k-pop', 'karadeniz', 'karaoke', 'kayokyoku',\n",
       "       'korean', 'laiko', 'latin', 'leftfield', 'local', 'lounge',\n",
       "       'loungeelectronic', 'lovers', 'malaysian', 'mandopop',\n",
       "       'marschmusik', 'meditative', 'mediterranean', 'melodic', 'metal',\n",
       "       'metalcore', 'mexican', 'minimal', 'miscellaneous', 'modern',\n",
       "       'mood', 'mpb', 'muslim', 'native', 'neoklassik', 'new', 'newage',\n",
       "       'newwave', 'nu', 'nujazz', 'numetal', 'oceania', 'old', 'opera',\n",
       "       'orchestral', 'other', 'piano', 'podcasts', 'pop', 'popdance',\n",
       "       'popelectronic', 'popeurodance', 'poprussian', 'post',\n",
       "       'posthardcore', 'postrock', 'power', 'progmetal', 'progressive',\n",
       "       'psychedelic', 'punjabi', 'punk', 'quebecois', 'ragga', 'ram',\n",
       "       'rancheras', 'rap', 'rave', 'reggae', 'reggaeton', 'relax',\n",
       "       'religious', 'retro', 'rhythm', 'rnb', 'rnr', 'rock', 'rockabilly',\n",
       "       'rockalternative', 'rockindie', 'rockother', 'romance', 'roots',\n",
       "       'ruspop', 'rusrap', 'rusrock', 'russian', 'salsa', 'samba',\n",
       "       'scenic', 'self', 'sertanejo', 'shanson', 'shoegazing',\n",
       "       'showtunes', 'ska', 'skarock', 'slow', 'smooth', 'soft', 'soul',\n",
       "       'soulful', 'sound', 'soundtrack', 'southern', 'specialty',\n",
       "       'speech', 'sport', 'stonerrock', 'surf', 'swing', 'synthpop',\n",
       "       'synthrock', 'sängerportrait', 'tango', 'tanzorchester',\n",
       "       'taraftar', 'tatar', 'tech', 'techno', 'teen', 'thrash', 'top',\n",
       "       'traditional', 'tradjazz', 'trance', 'tribal', 'trip', 'triphop',\n",
       "       'tropical', 'turkish', 'ukrrock', 'unknown', 'urban', 'uzbek',\n",
       "       'variété', 'vi', 'videogame', 'vocal', 'western', 'world',\n",
       "       'worldbeat'], dtype=object)"
      ]
     },
     "execution_count": 47,
     "metadata": {},
     "output_type": "execute_result"
    }
   ],
   "source": [
    "# Проверка на неявные дубликаты\n",
    "df['genre'].sort_values().unique()"
   ]
  },
  {
   "cell_type": "markdown",
   "metadata": {},
   "source": [
    "Получим заново общую информацию о нашей таблице после всех трансформаций:"
   ]
  },
  {
   "cell_type": "code",
   "execution_count": 20,
   "metadata": {},
   "outputs": [
    {
     "name": "stdout",
     "output_type": "stream",
     "text": [
      "<class 'pandas.core.frame.DataFrame'>\n",
      "RangeIndex: 61253 entries, 0 to 61252\n",
      "Data columns (total 7 columns):\n",
      " #   Column    Non-Null Count  Dtype \n",
      "---  ------    --------------  ----- \n",
      " 0   user_id   61253 non-null  object\n",
      " 1   track     61253 non-null  object\n",
      " 2   artist    61253 non-null  object\n",
      " 3   genre     61253 non-null  object\n",
      " 4   city      61253 non-null  object\n",
      " 5   time      61253 non-null  object\n",
      " 6   day_week  61253 non-null  object\n",
      "dtypes: object(7)\n",
      "memory usage: 3.3+ MB\n"
     ]
    }
   ],
   "source": [
    "# получение общей информации о данных в таблице df\n",
    "df.info()"
   ]
  },
  {
   "cell_type": "markdown",
   "metadata": {
    "id": "jz6a9-7HQUDd"
   },
   "source": [
    "**Выводы**\n",
    "\n",
    "Предобработка обнаружила три проблемы в данных:\n",
    "\n",
    "- нарушения в стиле заголовков,\n",
    "- пропущенные значения,\n",
    "- дубликаты — явные и неявные.\n",
    "\n",
    "Мы исправили названия четырех столбцов и заменили 9 632 пропущенных значения в столбцах `track`, `artist` и `genre` на строку `'unknown'`, чтобы упростить работу с таблицей. В дальнейшем ещё предстоит увидеть, не повредят ли нашему исследованию пропуски в колонке `genre`.\n",
    "\n",
    "Мы удалили 3 826 явных дубликатов записей и переименовали более двадцати неявных дубликатов в названиях жанров. Без дубликатов наше исследование станет более точным. Удаление затронуло 5,88% записей - это не сильно изменило нашу таблицу. Оставшихся 61 253 уникальных ненулевых записей достаточно для того, чтобы сделать релевантные выводы о поведении пользователей. \n",
    "\n",
    "Теперь можно перейти к проверке гипотез.  "
   ]
  },
  {
   "cell_type": "markdown",
   "metadata": {
    "id": "WttZHXH0SqKk"
   },
   "source": [
    "## Проверка гипотез"
   ]
  },
  {
   "cell_type": "markdown",
   "metadata": {
    "id": "Im936VVi_Zcu"
   },
   "source": [
    "### Сравнение поведения пользователей двух столиц"
   ]
  },
  {
   "cell_type": "markdown",
   "metadata": {
    "id": "nwt_MuaL_Zcu"
   },
   "source": [
    "Первая гипотеза утверждает, что активность пользователей меняется в зависимости от дня недели. Причём в Москве и Петербурге это проявляется по-разному.\n",
    "Проверим это предположение. Для этого: \n",
    "\n",
    "* Разделим пользователей Москвы и Санкт-Петербурга\n",
    "* Сравним, сколько треков послушала каждая группа пользователей в разные дни недели."
   ]
  },
  {
   "cell_type": "markdown",
   "metadata": {
    "id": "8Dw_YMmT_Zcu"
   },
   "source": [
    "Cначала создадим на основе нашей таблицы две новые: в одной будут пользователи из Москвы, а в другой - пользователи из Санкт-Петербурга. Поскольку исходная таблица может нам ещё понадобится для получения общей статистики, оставим её без изменений.\n",
    "\n"
   ]
  },
  {
   "cell_type": "code",
   "execution_count": 21,
   "metadata": {},
   "outputs": [
    {
     "data": {
      "text/html": [
       "<div>\n",
       "<style scoped>\n",
       "    .dataframe tbody tr th:only-of-type {\n",
       "        vertical-align: middle;\n",
       "    }\n",
       "\n",
       "    .dataframe tbody tr th {\n",
       "        vertical-align: top;\n",
       "    }\n",
       "\n",
       "    .dataframe thead th {\n",
       "        text-align: right;\n",
       "    }\n",
       "</style>\n",
       "<table border=\"1\" class=\"dataframe\">\n",
       "  <thead>\n",
       "    <tr style=\"text-align: right;\">\n",
       "      <th></th>\n",
       "      <th>user_id</th>\n",
       "      <th>track</th>\n",
       "      <th>artist</th>\n",
       "      <th>genre</th>\n",
       "      <th>city</th>\n",
       "      <th>time</th>\n",
       "      <th>day_week</th>\n",
       "    </tr>\n",
       "  </thead>\n",
       "  <tbody>\n",
       "    <tr>\n",
       "      <th>1</th>\n",
       "      <td>55204538</td>\n",
       "      <td>Delayed Because of Accident</td>\n",
       "      <td>Andreas Rönnberg</td>\n",
       "      <td>rock</td>\n",
       "      <td>Moscow</td>\n",
       "      <td>14:07:09</td>\n",
       "      <td>Friday</td>\n",
       "    </tr>\n",
       "    <tr>\n",
       "      <th>4</th>\n",
       "      <td>E2DC1FAE</td>\n",
       "      <td>Soul People</td>\n",
       "      <td>Space Echo</td>\n",
       "      <td>dance</td>\n",
       "      <td>Moscow</td>\n",
       "      <td>08:34:34</td>\n",
       "      <td>Monday</td>\n",
       "    </tr>\n",
       "    <tr>\n",
       "      <th>6</th>\n",
       "      <td>4CB90AA5</td>\n",
       "      <td>True</td>\n",
       "      <td>Roman Messer</td>\n",
       "      <td>dance</td>\n",
       "      <td>Moscow</td>\n",
       "      <td>13:00:07</td>\n",
       "      <td>Wednesday</td>\n",
       "    </tr>\n",
       "    <tr>\n",
       "      <th>7</th>\n",
       "      <td>F03E1C1F</td>\n",
       "      <td>Feeling This Way</td>\n",
       "      <td>Polina Griffith</td>\n",
       "      <td>dance</td>\n",
       "      <td>Moscow</td>\n",
       "      <td>20:47:49</td>\n",
       "      <td>Wednesday</td>\n",
       "    </tr>\n",
       "    <tr>\n",
       "      <th>8</th>\n",
       "      <td>8FA1D3BE</td>\n",
       "      <td>И вновь продолжается бой</td>\n",
       "      <td>unknown</td>\n",
       "      <td>ruspop</td>\n",
       "      <td>Moscow</td>\n",
       "      <td>09:17:40</td>\n",
       "      <td>Friday</td>\n",
       "    </tr>\n",
       "    <tr>\n",
       "      <th>10</th>\n",
       "      <td>BC5A3A29</td>\n",
       "      <td>Gool la Mita</td>\n",
       "      <td>Shireen Abdul Wahab</td>\n",
       "      <td>world</td>\n",
       "      <td>Moscow</td>\n",
       "      <td>14:08:42</td>\n",
       "      <td>Monday</td>\n",
       "    </tr>\n",
       "    <tr>\n",
       "      <th>11</th>\n",
       "      <td>8B5192C0</td>\n",
       "      <td>Is There Anybody Out There? (Panoramic Paralys...</td>\n",
       "      <td>Pink Floyd Floydhead</td>\n",
       "      <td>electronic</td>\n",
       "      <td>Moscow</td>\n",
       "      <td>13:47:49</td>\n",
       "      <td>Monday</td>\n",
       "    </tr>\n",
       "    <tr>\n",
       "      <th>12</th>\n",
       "      <td>FF3FD2BD</td>\n",
       "      <td>Мина син генэ кирэк</td>\n",
       "      <td>Ильдар Хакимов</td>\n",
       "      <td>pop</td>\n",
       "      <td>Moscow</td>\n",
       "      <td>09:19:49</td>\n",
       "      <td>Monday</td>\n",
       "    </tr>\n",
       "    <tr>\n",
       "      <th>13</th>\n",
       "      <td>CC782B0F</td>\n",
       "      <td>After School Special</td>\n",
       "      <td>Detroit Grand Pubahs</td>\n",
       "      <td>dance</td>\n",
       "      <td>Moscow</td>\n",
       "      <td>20:04:12</td>\n",
       "      <td>Friday</td>\n",
       "    </tr>\n",
       "    <tr>\n",
       "      <th>15</th>\n",
       "      <td>E3C5756F</td>\n",
       "      <td>unknown</td>\n",
       "      <td>unknown</td>\n",
       "      <td>unknown</td>\n",
       "      <td>Moscow</td>\n",
       "      <td>09:24:51</td>\n",
       "      <td>Monday</td>\n",
       "    </tr>\n",
       "    <tr>\n",
       "      <th>19</th>\n",
       "      <td>772F5B59</td>\n",
       "      <td>Sweetback</td>\n",
       "      <td>The Fabulous Three</td>\n",
       "      <td>rnb</td>\n",
       "      <td>Moscow</td>\n",
       "      <td>13:56:42</td>\n",
       "      <td>Wednesday</td>\n",
       "    </tr>\n",
       "    <tr>\n",
       "      <th>20</th>\n",
       "      <td>201CF2A8</td>\n",
       "      <td>Ya'll In Trouble</td>\n",
       "      <td>Lil Tee Chill Tank Young Buck Brother Mohammed...</td>\n",
       "      <td>hiphop</td>\n",
       "      <td>Moscow</td>\n",
       "      <td>08:46:03</td>\n",
       "      <td>Monday</td>\n",
       "    </tr>\n",
       "    <tr>\n",
       "      <th>21</th>\n",
       "      <td>44B8E869</td>\n",
       "      <td>Nanovirus</td>\n",
       "      <td>Exotype</td>\n",
       "      <td>rock</td>\n",
       "      <td>Moscow</td>\n",
       "      <td>21:36:40</td>\n",
       "      <td>Monday</td>\n",
       "    </tr>\n",
       "    <tr>\n",
       "      <th>23</th>\n",
       "      <td>A729591B</td>\n",
       "      <td>Gavotte</td>\n",
       "      <td>Hachidai Nakamura</td>\n",
       "      <td>jazz</td>\n",
       "      <td>Moscow</td>\n",
       "      <td>13:56:00</td>\n",
       "      <td>Monday</td>\n",
       "    </tr>\n",
       "    <tr>\n",
       "      <th>27</th>\n",
       "      <td>9CC6AA46</td>\n",
       "      <td>Mucho Corazón</td>\n",
       "      <td>Buena Vista Social Club</td>\n",
       "      <td>latin</td>\n",
       "      <td>Moscow</td>\n",
       "      <td>14:06:22</td>\n",
       "      <td>Monday</td>\n",
       "    </tr>\n",
       "    <tr>\n",
       "      <th>28</th>\n",
       "      <td>D8D698A9</td>\n",
       "      <td>Romantici</td>\n",
       "      <td>Viola Valentino</td>\n",
       "      <td>pop</td>\n",
       "      <td>Moscow</td>\n",
       "      <td>08:23:21</td>\n",
       "      <td>Wednesday</td>\n",
       "    </tr>\n",
       "    <tr>\n",
       "      <th>33</th>\n",
       "      <td>809CAFB1</td>\n",
       "      <td>Break Me Down</td>\n",
       "      <td>Steve Angello</td>\n",
       "      <td>dance</td>\n",
       "      <td>Moscow</td>\n",
       "      <td>14:42:31</td>\n",
       "      <td>Monday</td>\n",
       "    </tr>\n",
       "    <tr>\n",
       "      <th>34</th>\n",
       "      <td>B416A40F</td>\n",
       "      <td>Лучшая подруга</td>\n",
       "      <td>Супердетки</td>\n",
       "      <td>ruspop</td>\n",
       "      <td>Moscow</td>\n",
       "      <td>14:49:21</td>\n",
       "      <td>Friday</td>\n",
       "    </tr>\n",
       "    <tr>\n",
       "      <th>35</th>\n",
       "      <td>A8AE9169</td>\n",
       "      <td>unknown</td>\n",
       "      <td>unknown</td>\n",
       "      <td>unknown</td>\n",
       "      <td>Moscow</td>\n",
       "      <td>08:56:10</td>\n",
       "      <td>Monday</td>\n",
       "    </tr>\n",
       "    <tr>\n",
       "      <th>36</th>\n",
       "      <td>FCDF1C8E</td>\n",
       "      <td>Nasebanaru</td>\n",
       "      <td>Zen</td>\n",
       "      <td>reggae</td>\n",
       "      <td>Moscow</td>\n",
       "      <td>20:19:36</td>\n",
       "      <td>Wednesday</td>\n",
       "    </tr>\n",
       "  </tbody>\n",
       "</table>\n",
       "</div>"
      ],
      "text/plain": [
       "     user_id                                              track  \\\n",
       "1   55204538                        Delayed Because of Accident   \n",
       "4   E2DC1FAE                                        Soul People   \n",
       "6   4CB90AA5                                               True   \n",
       "7   F03E1C1F                                   Feeling This Way   \n",
       "8   8FA1D3BE                           И вновь продолжается бой   \n",
       "10  BC5A3A29                                       Gool la Mita   \n",
       "11  8B5192C0  Is There Anybody Out There? (Panoramic Paralys...   \n",
       "12  FF3FD2BD                                Мина син генэ кирэк   \n",
       "13  CC782B0F                               After School Special   \n",
       "15  E3C5756F                                            unknown   \n",
       "19  772F5B59                                          Sweetback   \n",
       "20  201CF2A8                                   Ya'll In Trouble   \n",
       "21  44B8E869                                          Nanovirus   \n",
       "23  A729591B                                            Gavotte   \n",
       "27  9CC6AA46                                      Mucho Corazón   \n",
       "28  D8D698A9                                          Romantici   \n",
       "33  809CAFB1                                      Break Me Down   \n",
       "34  B416A40F                                     Лучшая подруга   \n",
       "35  A8AE9169                                            unknown   \n",
       "36  FCDF1C8E                                         Nasebanaru   \n",
       "\n",
       "                                               artist       genre    city  \\\n",
       "1                                    Andreas Rönnberg        rock  Moscow   \n",
       "4                                          Space Echo       dance  Moscow   \n",
       "6                                        Roman Messer       dance  Moscow   \n",
       "7                                     Polina Griffith       dance  Moscow   \n",
       "8                                             unknown      ruspop  Moscow   \n",
       "10                                Shireen Abdul Wahab       world  Moscow   \n",
       "11                               Pink Floyd Floydhead  electronic  Moscow   \n",
       "12                                     Ильдар Хакимов         pop  Moscow   \n",
       "13                               Detroit Grand Pubahs       dance  Moscow   \n",
       "15                                            unknown     unknown  Moscow   \n",
       "19                                 The Fabulous Three         rnb  Moscow   \n",
       "20  Lil Tee Chill Tank Young Buck Brother Mohammed...      hiphop  Moscow   \n",
       "21                                            Exotype        rock  Moscow   \n",
       "23                                  Hachidai Nakamura        jazz  Moscow   \n",
       "27                            Buena Vista Social Club       latin  Moscow   \n",
       "28                                    Viola Valentino         pop  Moscow   \n",
       "33                                      Steve Angello       dance  Moscow   \n",
       "34                                         Супердетки      ruspop  Moscow   \n",
       "35                                            unknown     unknown  Moscow   \n",
       "36                                                Zen      reggae  Moscow   \n",
       "\n",
       "        time   day_week  \n",
       "1   14:07:09     Friday  \n",
       "4   08:34:34     Monday  \n",
       "6   13:00:07  Wednesday  \n",
       "7   20:47:49  Wednesday  \n",
       "8   09:17:40     Friday  \n",
       "10  14:08:42     Monday  \n",
       "11  13:47:49     Monday  \n",
       "12  09:19:49     Monday  \n",
       "13  20:04:12     Friday  \n",
       "15  09:24:51     Monday  \n",
       "19  13:56:42  Wednesday  \n",
       "20  08:46:03     Monday  \n",
       "21  21:36:40     Monday  \n",
       "23  13:56:00     Monday  \n",
       "27  14:06:22     Monday  \n",
       "28  08:23:21  Wednesday  \n",
       "33  14:42:31     Monday  \n",
       "34  14:49:21     Friday  \n",
       "35  08:56:10     Monday  \n",
       "36  20:19:36  Wednesday  "
      ]
     },
     "execution_count": 21,
     "metadata": {},
     "output_type": "execute_result"
    }
   ],
   "source": [
    "# создадим таблицу с данными по Москве\n",
    "df_moscow = df[df['city'] == 'Moscow']\n",
    "# для проверки выведем на экран первые 20 строк полученной таблицы\n",
    "df_moscow.head(20)"
   ]
  },
  {
   "cell_type": "markdown",
   "metadata": {},
   "source": [
    "Аналогично создадим таблицу с данными по Санкт-Петербургу:"
   ]
  },
  {
   "cell_type": "code",
   "execution_count": 22,
   "metadata": {},
   "outputs": [
    {
     "data": {
      "text/html": [
       "<div>\n",
       "<style scoped>\n",
       "    .dataframe tbody tr th:only-of-type {\n",
       "        vertical-align: middle;\n",
       "    }\n",
       "\n",
       "    .dataframe tbody tr th {\n",
       "        vertical-align: top;\n",
       "    }\n",
       "\n",
       "    .dataframe thead th {\n",
       "        text-align: right;\n",
       "    }\n",
       "</style>\n",
       "<table border=\"1\" class=\"dataframe\">\n",
       "  <thead>\n",
       "    <tr style=\"text-align: right;\">\n",
       "      <th></th>\n",
       "      <th>user_id</th>\n",
       "      <th>track</th>\n",
       "      <th>artist</th>\n",
       "      <th>genre</th>\n",
       "      <th>city</th>\n",
       "      <th>time</th>\n",
       "      <th>day_week</th>\n",
       "    </tr>\n",
       "  </thead>\n",
       "  <tbody>\n",
       "    <tr>\n",
       "      <th>0</th>\n",
       "      <td>FFB692EC</td>\n",
       "      <td>Kamigata To Boots</td>\n",
       "      <td>The Mass Missile</td>\n",
       "      <td>rock</td>\n",
       "      <td>Saint-Petersburg</td>\n",
       "      <td>20:28:33</td>\n",
       "      <td>Wednesday</td>\n",
       "    </tr>\n",
       "    <tr>\n",
       "      <th>2</th>\n",
       "      <td>20EC38</td>\n",
       "      <td>Funiculì funiculà</td>\n",
       "      <td>Mario Lanza</td>\n",
       "      <td>pop</td>\n",
       "      <td>Saint-Petersburg</td>\n",
       "      <td>20:58:07</td>\n",
       "      <td>Wednesday</td>\n",
       "    </tr>\n",
       "    <tr>\n",
       "      <th>3</th>\n",
       "      <td>A3DD03C9</td>\n",
       "      <td>Dragons in the Sunset</td>\n",
       "      <td>Fire + Ice</td>\n",
       "      <td>folk</td>\n",
       "      <td>Saint-Petersburg</td>\n",
       "      <td>08:37:09</td>\n",
       "      <td>Monday</td>\n",
       "    </tr>\n",
       "    <tr>\n",
       "      <th>5</th>\n",
       "      <td>842029A1</td>\n",
       "      <td>Преданная</td>\n",
       "      <td>IMPERVTOR</td>\n",
       "      <td>rusrap</td>\n",
       "      <td>Saint-Petersburg</td>\n",
       "      <td>13:09:41</td>\n",
       "      <td>Friday</td>\n",
       "    </tr>\n",
       "    <tr>\n",
       "      <th>9</th>\n",
       "      <td>E772D5C0</td>\n",
       "      <td>Pessimist</td>\n",
       "      <td>unknown</td>\n",
       "      <td>dance</td>\n",
       "      <td>Saint-Petersburg</td>\n",
       "      <td>21:20:49</td>\n",
       "      <td>Wednesday</td>\n",
       "    </tr>\n",
       "    <tr>\n",
       "      <th>14</th>\n",
       "      <td>94EB25C2</td>\n",
       "      <td>Make Love Whenever You Can</td>\n",
       "      <td>Arabesque</td>\n",
       "      <td>pop</td>\n",
       "      <td>Saint-Petersburg</td>\n",
       "      <td>13:22:08</td>\n",
       "      <td>Wednesday</td>\n",
       "    </tr>\n",
       "    <tr>\n",
       "      <th>16</th>\n",
       "      <td>81D05C7D</td>\n",
       "      <td>SLAVES OF FEAR</td>\n",
       "      <td>HEALTH</td>\n",
       "      <td>alternative</td>\n",
       "      <td>Saint-Petersburg</td>\n",
       "      <td>20:54:48</td>\n",
       "      <td>Monday</td>\n",
       "    </tr>\n",
       "    <tr>\n",
       "      <th>17</th>\n",
       "      <td>39DE290E</td>\n",
       "      <td>Веснянка</td>\n",
       "      <td>Веданъ Колодъ</td>\n",
       "      <td>folk</td>\n",
       "      <td>Saint-Petersburg</td>\n",
       "      <td>14:36:47</td>\n",
       "      <td>Monday</td>\n",
       "    </tr>\n",
       "    <tr>\n",
       "      <th>18</th>\n",
       "      <td>58AE138A</td>\n",
       "      <td>Pat-a-Cake</td>\n",
       "      <td>Mother Goose Club</td>\n",
       "      <td>children</td>\n",
       "      <td>Saint-Petersburg</td>\n",
       "      <td>20:04:56</td>\n",
       "      <td>Monday</td>\n",
       "    </tr>\n",
       "    <tr>\n",
       "      <th>22</th>\n",
       "      <td>B8E29C9C</td>\n",
       "      <td>Самота</td>\n",
       "      <td>unknown</td>\n",
       "      <td>folk</td>\n",
       "      <td>Saint-Petersburg</td>\n",
       "      <td>20:20:49</td>\n",
       "      <td>Wednesday</td>\n",
       "    </tr>\n",
       "    <tr>\n",
       "      <th>24</th>\n",
       "      <td>8BA8855</td>\n",
       "      <td>A Universal Weakness</td>\n",
       "      <td>Lowercase Noises</td>\n",
       "      <td>postrock</td>\n",
       "      <td>Saint-Petersburg</td>\n",
       "      <td>21:17:25</td>\n",
       "      <td>Wednesday</td>\n",
       "    </tr>\n",
       "    <tr>\n",
       "      <th>25</th>\n",
       "      <td>A4504035</td>\n",
       "      <td>Cradle in Bethlehem</td>\n",
       "      <td>Nat King Cole</td>\n",
       "      <td>jazz</td>\n",
       "      <td>Saint-Petersburg</td>\n",
       "      <td>09:23:01</td>\n",
       "      <td>Wednesday</td>\n",
       "    </tr>\n",
       "    <tr>\n",
       "      <th>26</th>\n",
       "      <td>982219FD</td>\n",
       "      <td>We Not Speak Americano</td>\n",
       "      <td>Genio Band</td>\n",
       "      <td>pop</td>\n",
       "      <td>Saint-Petersburg</td>\n",
       "      <td>20:03:03</td>\n",
       "      <td>Monday</td>\n",
       "    </tr>\n",
       "    <tr>\n",
       "      <th>29</th>\n",
       "      <td>5661F63E</td>\n",
       "      <td>Cюита из балета «Семь красавиц»: I. Вальс</td>\n",
       "      <td>Рауф Абдуллаев Азербайджанский государственный...</td>\n",
       "      <td>classical</td>\n",
       "      <td>Saint-Petersburg</td>\n",
       "      <td>08:33:58</td>\n",
       "      <td>Wednesday</td>\n",
       "    </tr>\n",
       "    <tr>\n",
       "      <th>30</th>\n",
       "      <td>EBA5A8B2</td>\n",
       "      <td>Päivän Nousu Nostajani</td>\n",
       "      <td>Värttinä</td>\n",
       "      <td>world</td>\n",
       "      <td>Saint-Petersburg</td>\n",
       "      <td>08:00:31</td>\n",
       "      <td>Friday</td>\n",
       "    </tr>\n",
       "    <tr>\n",
       "      <th>31</th>\n",
       "      <td>F6A44469</td>\n",
       "      <td>Veritas Universalis</td>\n",
       "      <td>Devathorn</td>\n",
       "      <td>metal</td>\n",
       "      <td>Saint-Petersburg</td>\n",
       "      <td>20:19:42</td>\n",
       "      <td>Friday</td>\n",
       "    </tr>\n",
       "    <tr>\n",
       "      <th>32</th>\n",
       "      <td>84AFC19A</td>\n",
       "      <td>Carry On</td>\n",
       "      <td>Young Rising Sons</td>\n",
       "      <td>alternative</td>\n",
       "      <td>Saint-Petersburg</td>\n",
       "      <td>20:24:51</td>\n",
       "      <td>Monday</td>\n",
       "    </tr>\n",
       "    <tr>\n",
       "      <th>38</th>\n",
       "      <td>14FBD1E5</td>\n",
       "      <td>Solteras</td>\n",
       "      <td>Beauty Brain</td>\n",
       "      <td>dance</td>\n",
       "      <td>Saint-Petersburg</td>\n",
       "      <td>20:33:11</td>\n",
       "      <td>Friday</td>\n",
       "    </tr>\n",
       "    <tr>\n",
       "      <th>39</th>\n",
       "      <td>2CF53316</td>\n",
       "      <td>Прочь от Земли</td>\n",
       "      <td>Космонавты</td>\n",
       "      <td>alternative</td>\n",
       "      <td>Saint-Petersburg</td>\n",
       "      <td>20:29:00</td>\n",
       "      <td>Wednesday</td>\n",
       "    </tr>\n",
       "    <tr>\n",
       "      <th>40</th>\n",
       "      <td>77979A66</td>\n",
       "      <td>Верните в моду любовь</td>\n",
       "      <td>Hazard</td>\n",
       "      <td>rusrap</td>\n",
       "      <td>Saint-Petersburg</td>\n",
       "      <td>08:45:43</td>\n",
       "      <td>Monday</td>\n",
       "    </tr>\n",
       "  </tbody>\n",
       "</table>\n",
       "</div>"
      ],
      "text/plain": [
       "     user_id                                      track  \\\n",
       "0   FFB692EC                          Kamigata To Boots   \n",
       "2     20EC38                          Funiculì funiculà   \n",
       "3   A3DD03C9                      Dragons in the Sunset   \n",
       "5   842029A1                                  Преданная   \n",
       "9   E772D5C0                                  Pessimist   \n",
       "14  94EB25C2                 Make Love Whenever You Can   \n",
       "16  81D05C7D                             SLAVES OF FEAR   \n",
       "17  39DE290E                                   Веснянка   \n",
       "18  58AE138A                                 Pat-a-Cake   \n",
       "22  B8E29C9C                                     Самота   \n",
       "24   8BA8855                       A Universal Weakness   \n",
       "25  A4504035                        Cradle in Bethlehem   \n",
       "26  982219FD                     We Not Speak Americano   \n",
       "29  5661F63E  Cюита из балета «Семь красавиц»: I. Вальс   \n",
       "30  EBA5A8B2                     Päivän Nousu Nostajani   \n",
       "31  F6A44469                        Veritas Universalis   \n",
       "32  84AFC19A                                   Carry On   \n",
       "38  14FBD1E5                                   Solteras   \n",
       "39  2CF53316                             Прочь от Земли   \n",
       "40  77979A66                      Верните в моду любовь   \n",
       "\n",
       "                                               artist        genre  \\\n",
       "0                                    The Mass Missile         rock   \n",
       "2                                         Mario Lanza          pop   \n",
       "3                                          Fire + Ice         folk   \n",
       "5                                           IMPERVTOR       rusrap   \n",
       "9                                             unknown        dance   \n",
       "14                                          Arabesque          pop   \n",
       "16                                             HEALTH  alternative   \n",
       "17                                      Веданъ Колодъ         folk   \n",
       "18                                  Mother Goose Club     children   \n",
       "22                                            unknown         folk   \n",
       "24                                   Lowercase Noises     postrock   \n",
       "25                                      Nat King Cole         jazz   \n",
       "26                                         Genio Band          pop   \n",
       "29  Рауф Абдуллаев Азербайджанский государственный...    classical   \n",
       "30                                          Värttinä        world   \n",
       "31                                          Devathorn        metal   \n",
       "32                                  Young Rising Sons  alternative   \n",
       "38                                       Beauty Brain        dance   \n",
       "39                                         Космонавты  alternative   \n",
       "40                                             Hazard       rusrap   \n",
       "\n",
       "                city      time   day_week  \n",
       "0   Saint-Petersburg  20:28:33  Wednesday  \n",
       "2   Saint-Petersburg  20:58:07  Wednesday  \n",
       "3   Saint-Petersburg  08:37:09     Monday  \n",
       "5   Saint-Petersburg  13:09:41     Friday  \n",
       "9   Saint-Petersburg  21:20:49  Wednesday  \n",
       "14  Saint-Petersburg  13:22:08  Wednesday  \n",
       "16  Saint-Petersburg  20:54:48     Monday  \n",
       "17  Saint-Petersburg  14:36:47     Monday  \n",
       "18  Saint-Petersburg  20:04:56     Monday  \n",
       "22  Saint-Petersburg  20:20:49  Wednesday  \n",
       "24  Saint-Petersburg  21:17:25  Wednesday  \n",
       "25  Saint-Petersburg  09:23:01  Wednesday  \n",
       "26  Saint-Petersburg  20:03:03     Monday  \n",
       "29  Saint-Petersburg  08:33:58  Wednesday  \n",
       "30  Saint-Petersburg  08:00:31     Friday  \n",
       "31  Saint-Petersburg  20:19:42     Friday  \n",
       "32  Saint-Petersburg  20:24:51     Monday  \n",
       "38  Saint-Petersburg  20:33:11     Friday  \n",
       "39  Saint-Petersburg  20:29:00  Wednesday  \n",
       "40  Saint-Petersburg  08:45:43     Monday  "
      ]
     },
     "execution_count": 22,
     "metadata": {},
     "output_type": "execute_result"
    }
   ],
   "source": [
    "# создадим таблицу с данными по Санкт-Петербургу\n",
    "df_piter = df[df['city'] == 'Saint-Petersburg']\n",
    "# для проверки выведем на экран первые 20 строк полученной таблицы\n",
    "df_piter.head(20)"
   ]
  },
  {
   "cell_type": "markdown",
   "metadata": {},
   "source": [
    "Проверим, все ли строки исходной таблицы вошли в две полученные таблицы.\n",
    "\n",
    "Для этого выведем на экран общую информацию о новых таблицах:"
   ]
  },
  {
   "cell_type": "code",
   "execution_count": 23,
   "metadata": {},
   "outputs": [
    {
     "name": "stdout",
     "output_type": "stream",
     "text": [
      "<class 'pandas.core.frame.DataFrame'>\n",
      "Int64Index: 42741 entries, 1 to 61252\n",
      "Data columns (total 7 columns):\n",
      " #   Column    Non-Null Count  Dtype \n",
      "---  ------    --------------  ----- \n",
      " 0   user_id   42741 non-null  object\n",
      " 1   track     42741 non-null  object\n",
      " 2   artist    42741 non-null  object\n",
      " 3   genre     42741 non-null  object\n",
      " 4   city      42741 non-null  object\n",
      " 5   time      42741 non-null  object\n",
      " 6   day_week  42741 non-null  object\n",
      "dtypes: object(7)\n",
      "memory usage: 2.6+ MB\n"
     ]
    }
   ],
   "source": [
    "# получение общей информации о данных в таблице df_moscow\n",
    "df_moscow.info()"
   ]
  },
  {
   "cell_type": "code",
   "execution_count": 24,
   "metadata": {},
   "outputs": [
    {
     "name": "stdout",
     "output_type": "stream",
     "text": [
      "<class 'pandas.core.frame.DataFrame'>\n",
      "Int64Index: 18512 entries, 0 to 61249\n",
      "Data columns (total 7 columns):\n",
      " #   Column    Non-Null Count  Dtype \n",
      "---  ------    --------------  ----- \n",
      " 0   user_id   18512 non-null  object\n",
      " 1   track     18512 non-null  object\n",
      " 2   artist    18512 non-null  object\n",
      " 3   genre     18512 non-null  object\n",
      " 4   city      18512 non-null  object\n",
      " 5   time      18512 non-null  object\n",
      " 6   day_week  18512 non-null  object\n",
      "dtypes: object(7)\n",
      "memory usage: 1.1+ MB\n"
     ]
    }
   ],
   "source": [
    "# получение общей информации о данных в таблице df_piter\n",
    "df_piter.info()"
   ]
  },
  {
   "cell_type": "markdown",
   "metadata": {},
   "source": [
    "Сумма строк данных в двух новых таблицах совпала с числом строк данных в таблице исходной - и составила 61 253.\n",
    "\n",
    "Оценим активность пользователей в каждом городе."
   ]
  },
  {
   "cell_type": "markdown",
   "metadata": {},
   "source": [
    "В Москве прослушиваний больше, чем в Петербурге - 42 741 и 18 512 соответственно. Но и проживает в Москве больше людей.\n",
    "\n",
    "Мы не знаем, за какой период собраны первичные данные. Поэтому, к сожалению, не сможем посчитать количество прослушиваний в день на одного жителя города. Однако мы можем узнать, соответствует ли разница в числе прослушиваний разнице в числе жителей этих городов (при условии, что данные по двум городам собраны за аналогичный период времени).\n",
    "\n",
    "[Согласно данным Ростата на 01.01.2021 г. число жителей Москвы составило 12 655 050 чел., а число жителей Санкт-Петербурга - 5 384 342 чел.](https://www.gks.ru/bgd/free/b00_24/IssWWW.exe/Stg/d000/i000070r.htm)\n",
    "\n",
    "Численность населения городов отличается в 2,35 раза. \n",
    "А число прослушиваний отличается в 2,31 раза.\n",
    "\n",
    "Цифры почти идентичны. Значит, выборка достаточна релевантна и пропорциональна реальному числу жителей двух городов.\n",
    "\n",
    "Теперь отсортируем данные по дням недели и проверим, за какие дни у нас есть данные:"
   ]
  },
  {
   "cell_type": "code",
   "execution_count": 25,
   "metadata": {
    "id": "0_Qs96oh_Zcu"
   },
   "outputs": [
    {
     "data": {
      "text/plain": [
       "['Friday', 'Monday', 'Wednesday']"
      ]
     },
     "execution_count": 25,
     "metadata": {},
     "output_type": "execute_result"
    }
   ],
   "source": [
    "# в таблице по Москве определим, по каким дням недели у нас есть данные:\n",
    "sorted(df_moscow['day_week'].unique())"
   ]
  },
  {
   "cell_type": "code",
   "execution_count": 26,
   "metadata": {},
   "outputs": [
    {
     "data": {
      "text/plain": [
       "['Friday', 'Monday', 'Wednesday']"
      ]
     },
     "execution_count": 26,
     "metadata": {},
     "output_type": "execute_result"
    }
   ],
   "source": [
    "# аналогично поступим с данными по Петербургу:\n",
    "sorted(df_piter['day_week'].unique())"
   ]
  },
  {
   "cell_type": "markdown",
   "metadata": {
    "id": "dzli3w8o_Zcu"
   },
   "source": [
    "Итак, в наших таблицах данные только по трём дням недели - понедельнику, среде и пятнице.\n",
    "\n",
    "Теперь напишим функцию `number_tracks()`, которая посчитает прослушивания для заданного дня и города. Ей понадобятся два параметра:\n",
    "* день недели,\n",
    "* название города.\n",
    "\n",
    "В функции сохраним в переменную строки исходной таблицы, у которых значение:\n",
    "  * в колонке `day_week` равно параметру `day_week`,\n",
    "  * в колонке `city` равно параметру `city`.\n",
    "\n",
    "Для этого применим последовательную фильтрацию с логической индексацией. Для усложнения задачи обратимся к таблице с данными по обоим городам.\n",
    "\n",
    "Затем посчитаем значения в столбце `user_id` получившейся таблицы. Результат сохраним в новую переменную. Вернём эту переменную из функции."
   ]
  },
  {
   "cell_type": "code",
   "execution_count": 27,
   "metadata": {
    "id": "Nz3GdQB1_Zcu"
   },
   "outputs": [],
   "source": [
    "# Объявляется функция с двумя параметрами: day_week, city.\n",
    "# В переменной track_list сохраняются те строки таблицы df, для которых \n",
    "# значение в столбце 'day_week' равно параметру day и одновременно значение\n",
    "# в столбце 'city' равно параметру city (используйте последовательную фильтрацию с помощью логической индексации).\n",
    "# В переменной track_list_count сохраняется число значений столбца 'user_id',\n",
    "# рассчитанное методом count() для таблицы track_list.\n",
    "# Функция возвращает число - значение track_list_count.\n",
    "def number_tracks(day_week, city):\n",
    "    track_list = df[df['day_week'] == day_week]\n",
    "    track_list = track_list[track_list['city'] == city]\n",
    "    track_list_count = track_list['user_id'].count()\n",
    "    return track_list_count"
   ]
  },
  {
   "cell_type": "markdown",
   "metadata": {
    "id": "ytf7xFrFJQ2r"
   },
   "source": [
    "Вызовем `number_tracks()` шесть раз, меняя значение параметров — так, чтобы получить данные для каждого города в каждый из трёх дней."
   ]
  },
  {
   "cell_type": "code",
   "execution_count": 28,
   "metadata": {
    "id": "rJcRATNQ_Zcu"
   },
   "outputs": [
    {
     "data": {
      "text/plain": [
       "15740"
      ]
     },
     "execution_count": 28,
     "metadata": {},
     "output_type": "execute_result"
    }
   ],
   "source": [
    "# количество прослушиваний в Москве по понедельникам\n",
    "number_tracks('Monday', 'Moscow')"
   ]
  },
  {
   "cell_type": "code",
   "execution_count": 29,
   "metadata": {
    "id": "hq_ncZ5T_Zcu"
   },
   "outputs": [
    {
     "data": {
      "text/plain": [
       "5614"
      ]
     },
     "execution_count": 29,
     "metadata": {},
     "output_type": "execute_result"
    }
   ],
   "source": [
    "# количество прослушиваний в Санкт-Петербурге по понедельникам\n",
    "number_tracks('Monday', 'Saint-Petersburg')"
   ]
  },
  {
   "cell_type": "code",
   "execution_count": 30,
   "metadata": {
    "id": "_NTy2VPU_Zcu"
   },
   "outputs": [
    {
     "data": {
      "text/plain": [
       "11056"
      ]
     },
     "execution_count": 30,
     "metadata": {},
     "output_type": "execute_result"
    }
   ],
   "source": [
    "# количество прослушиваний в Москве по средам\n",
    "number_tracks('Wednesday', 'Moscow')"
   ]
  },
  {
   "cell_type": "code",
   "execution_count": 31,
   "metadata": {
    "id": "j2y3TAwo_Zcu"
   },
   "outputs": [
    {
     "data": {
      "text/plain": [
       "7003"
      ]
     },
     "execution_count": 31,
     "metadata": {},
     "output_type": "execute_result"
    }
   ],
   "source": [
    "# количество прослушиваний в Санкт-Петербурге по средам\n",
    "number_tracks('Wednesday', 'Saint-Petersburg')"
   ]
  },
  {
   "cell_type": "code",
   "execution_count": 32,
   "metadata": {
    "id": "vYDw5u_K_Zcu"
   },
   "outputs": [
    {
     "data": {
      "text/plain": [
       "15945"
      ]
     },
     "execution_count": 32,
     "metadata": {},
     "output_type": "execute_result"
    }
   ],
   "source": [
    "# количество прослушиваний в Москве по пятницам\n",
    "number_tracks('Friday', 'Moscow')"
   ]
  },
  {
   "cell_type": "code",
   "execution_count": 33,
   "metadata": {
    "id": "8_yzFtW3_Zcu"
   },
   "outputs": [
    {
     "data": {
      "text/plain": [
       "5895"
      ]
     },
     "execution_count": 33,
     "metadata": {},
     "output_type": "execute_result"
    }
   ],
   "source": [
    "# количество прослушиваний в Санкт-Петербурге по пятницам\n",
    "number_tracks('Friday', 'Saint-Petersburg')"
   ]
  },
  {
   "cell_type": "markdown",
   "metadata": {
    "id": "7QXffbO-_Zcu"
   },
   "source": [
    "В среднем пользователи из двух городов менее активны по средам, а активность по пятницам немного превышает активность понедельника. \n",
    "\n",
    "Теперь рассмотрим каждый город в отдельности.\n",
    "\n",
    "Создадим c помощью конструктора `pd.DataFrame` таблицу, где\n",
    "* названия колонок — `['city', 'monday', 'wednesday', 'friday']`;\n",
    "* данные — результаты, которые мы получили с помощью `number_tracks`."
   ]
  },
  {
   "cell_type": "code",
   "execution_count": 34,
   "metadata": {
    "id": "APAcLpOr_Zcu"
   },
   "outputs": [
    {
     "name": "stdout",
     "output_type": "stream",
     "text": [
      "Распределение активности пользователей Москвы и Петербурга по дням недели\n"
     ]
    },
    {
     "data": {
      "text/html": [
       "<div>\n",
       "<style scoped>\n",
       "    .dataframe tbody tr th:only-of-type {\n",
       "        vertical-align: middle;\n",
       "    }\n",
       "\n",
       "    .dataframe tbody tr th {\n",
       "        vertical-align: top;\n",
       "    }\n",
       "\n",
       "    .dataframe thead th {\n",
       "        text-align: right;\n",
       "    }\n",
       "</style>\n",
       "<table border=\"1\" class=\"dataframe\">\n",
       "  <thead>\n",
       "    <tr style=\"text-align: right;\">\n",
       "      <th></th>\n",
       "      <th>city</th>\n",
       "      <th>monday</th>\n",
       "      <th>wednesday</th>\n",
       "      <th>friday</th>\n",
       "    </tr>\n",
       "  </thead>\n",
       "  <tbody>\n",
       "    <tr>\n",
       "      <th>0</th>\n",
       "      <td>Moscow</td>\n",
       "      <td>15740</td>\n",
       "      <td>11056</td>\n",
       "      <td>15945</td>\n",
       "    </tr>\n",
       "    <tr>\n",
       "      <th>1</th>\n",
       "      <td>Saint-Petersburg</td>\n",
       "      <td>5614</td>\n",
       "      <td>7003</td>\n",
       "      <td>5895</td>\n",
       "    </tr>\n",
       "  </tbody>\n",
       "</table>\n",
       "</div>"
      ],
      "text/plain": [
       "               city  monday  wednesday  friday\n",
       "0            Moscow   15740      11056   15945\n",
       "1  Saint-Petersburg    5614       7003    5895"
      ]
     },
     "metadata": {},
     "output_type": "display_data"
    }
   ],
   "source": [
    "# Таблица с результатами\n",
    "data = [\n",
    "    ['Moscow', 15740, 11056, 15945],\n",
    "    ['Saint-Petersburg', 5614, 7003, 5895]\n",
    "]\n",
    "days = ['city', 'monday', 'wednesday', 'friday']\n",
    "week_city = pd.DataFrame(data=data,columns=days)\n",
    "print('Распределение активности пользователей Москвы и Петербурга по дням недели')\n",
    "display(week_city)"
   ]
  },
  {
   "cell_type": "markdown",
   "metadata": {
    "id": "-EgPIHYu_Zcu"
   },
   "source": [
    "**Выводы**\n",
    "\n",
    "Данные действительно показывают разницу поведения пользователей:\n",
    "\n",
    "- В Москве пик прослушиваний приходится на понедельник и пятницу, а в среду заметен спад.\n",
    "- В Петербурге, наоборот, больше слушают музыку по средам. А активность в понедельник и пятницу здесь почти одинакова, как и в Москве.\n",
    "\n",
    "Значит, первая гипотеза оказалась верна."
   ]
  },
  {
   "cell_type": "markdown",
   "metadata": {
    "id": "atZAxtq4_Zcu"
   },
   "source": [
    "### Музыка в начале и в конце недели"
   ]
  },
  {
   "cell_type": "markdown",
   "metadata": {
    "id": "eXrQqXFH_Zcu"
   },
   "source": [
    "Согласно второй гипотезе, утром в понедельник в Москве преобладают одни жанры, а в Петербурге — другие. Так же и вечером пятницы преобладают разные жанры — в зависимости от города."
   ]
  },
  {
   "cell_type": "markdown",
   "metadata": {
    "id": "S8UcW6Hw_Zcu"
   },
   "source": [
    "Обратимся вновь к таблицам `df_moscow` и `df_piter`.\n",
    "\n",
    "Создадим функцию `genre_weekday()` с четырьмя параметрами:\n",
    "* таблица (датафрейм) с данными,\n",
    "* день недели,\n",
    "* начальная временная метка в формате 'hh:mm', \n",
    "* последняя временная метка в формате 'hh:mm'.\n",
    "\n",
    "Функция должна вернуть информацию о топ-10 жанров тех треков, которые прослушивали в указанный день, в промежутке между двумя отметками времени."
   ]
  },
  {
   "cell_type": "code",
   "execution_count": 35,
   "metadata": {},
   "outputs": [],
   "source": [
    "# Объявление функции genre_weekday() с параметрами table, day, time1, time2,\n",
    "# которая возвращает информацию о самых популярных жанрах в указанный день в\n",
    "# заданное время:\n",
    "# 1) в переменную genre_df сохраняются те строки переданного датафрейма table, для\n",
    "#    которых одновременно:\n",
    "#    - значение в столбце day равно значению аргумента day\n",
    "#    - значение в столбце time больше значения аргумента time1\n",
    "#    - значение в столбце time меньше значения аргумента time2\n",
    "#    Используйте последовательную фильтрацию с помощью логической индексации.\n",
    "# 2) сгруппировать датафрейм genre_df по столбцу genre, взять один из его\n",
    "#    столбцов и посчитать методом count() количество записей для каждого из\n",
    "#    присутствующих жанров, получившийся Series записать в переменную\n",
    "#    genre_df_count\n",
    "# 3) отсортировать genre_df_count по убыванию встречаемости и сохранить\n",
    "#    в переменную genre_df_sorted\n",
    "# 4) вернуть Series из 10 первых значений genre_df_sorted, это будут топ-10\n",
    "#    популярных жанров (в указанный день, в заданное время)\n",
    "def genre_weekday(table, day, time1, time2):\n",
    "    genre_df = table[(table['day_week'] == day) & (table['time'] > time1) & (table['time'] < time2)]\n",
    "    genre_df_count = genre_df.groupby('genre')['user_id'].count()\n",
    "    genre_df_sorted = genre_df_count.sort_values(ascending = False)\n",
    "    return genre_df_sorted.head(10)"
   ]
  },
  {
   "cell_type": "markdown",
   "metadata": {
    "id": "la2s2_PF_Zcu"
   },
   "source": [
    "Cравним результаты функции `genre_weekday()` для Москвы и Санкт-Петербурга в понедельник утром (с 7:00 до 11:00) и в пятницу вечером (с 17:00 до 23:00):"
   ]
  },
  {
   "cell_type": "code",
   "execution_count": 36,
   "metadata": {
    "id": "yz7itPUQ_Zcu"
   },
   "outputs": [
    {
     "data": {
      "text/plain": [
       "genre\n",
       "pop            781\n",
       "dance          549\n",
       "electronic     480\n",
       "rock           474\n",
       "hiphop         286\n",
       "ruspop         186\n",
       "world          181\n",
       "rusrap         175\n",
       "alternative    164\n",
       "unknown        161\n",
       "Name: user_id, dtype: int64"
      ]
     },
     "execution_count": 36,
     "metadata": {},
     "output_type": "execute_result"
    }
   ],
   "source": [
    "# вызов функции для утра понедельника в Москве (вместо df — таблица df_moscow)\n",
    "# объекты, хранящие время, являются строками и сравниваются как строки\n",
    "# пример вызова: genre_weekday(df_moscow, 'Monday', '07:00', '11:00')\n",
    "genre_weekday(df_moscow, 'Monday', '07:00', '11:00')"
   ]
  },
  {
   "cell_type": "code",
   "execution_count": 37,
   "metadata": {
    "id": "kwUcHPdy_Zcu"
   },
   "outputs": [
    {
     "data": {
      "text/plain": [
       "genre\n",
       "pop            218\n",
       "dance          182\n",
       "rock           162\n",
       "electronic     147\n",
       "hiphop          80\n",
       "ruspop          64\n",
       "alternative     58\n",
       "rusrap          55\n",
       "jazz            44\n",
       "classical       40\n",
       "Name: user_id, dtype: int64"
      ]
     },
     "execution_count": 37,
     "metadata": {},
     "output_type": "execute_result"
    }
   ],
   "source": [
    "# вызов функции для утра понедельника в Петербурге (вместо df — таблица df_piter)\n",
    "genre_weekday(df_piter, 'Monday', '07:00', '11:00')"
   ]
  },
  {
   "cell_type": "code",
   "execution_count": 38,
   "metadata": {
    "id": "EzXVRE1o_Zcu"
   },
   "outputs": [
    {
     "data": {
      "text/plain": [
       "genre\n",
       "pop            713\n",
       "rock           517\n",
       "dance          495\n",
       "electronic     482\n",
       "hiphop         273\n",
       "world          210\n",
       "ruspop         170\n",
       "alternative    163\n",
       "classical      163\n",
       "rusrap         142\n",
       "Name: user_id, dtype: int64"
      ]
     },
     "execution_count": 38,
     "metadata": {},
     "output_type": "execute_result"
    }
   ],
   "source": [
    "# вызов функции для вечера пятницы в Москве\n",
    "genre_weekday(df_moscow, 'Friday', '17:00', '23:00')"
   ]
  },
  {
   "cell_type": "code",
   "execution_count": 39,
   "metadata": {
    "id": "JZaEKu5v_Zcu"
   },
   "outputs": [
    {
     "data": {
      "text/plain": [
       "genre\n",
       "pop            256\n",
       "rock           216\n",
       "electronic     216\n",
       "dance          210\n",
       "hiphop          97\n",
       "alternative     63\n",
       "jazz            61\n",
       "classical       60\n",
       "rusrap          59\n",
       "world           54\n",
       "Name: user_id, dtype: int64"
      ]
     },
     "execution_count": 39,
     "metadata": {},
     "output_type": "execute_result"
    }
   ],
   "source": [
    "# вызов функции для вечера пятницы в Петербурге\n",
    "genre_weekday(df_piter, 'Friday', '17:00', '23:00')"
   ]
  },
  {
   "cell_type": "markdown",
   "metadata": {
    "id": "wrCe4MNX_Zcu"
   },
   "source": [
    "**Выводы**\n",
    "\n",
    "Если сравнить топ-10 жанров в понедельник утром, можно сделать следующие выводы:\n",
    "\n",
    "1. В Москве и Петербурге слушают похожую музыку. Единственное отличие — в московский рейтинг вошёл жанр “world”, а в петербургский — джаз и классика.\n",
    "\n",
    "2. В Москве пропущенных значений оказалось столько, что значение `'unknown'` заняло десятое место среди самых популярных жанров. Однако доля пропущенных значений лишь 1% от записей и они не угрожают достоверности исследования.\n",
    "\n",
    "Вечер пятницы не меняет существенно эту картину. Некоторые жанры поднимаются немного выше, другие спускаются, но в целом топ-10 остаётся тем же самым. Единственное, в Москве в рейтинг топ-10 поднимается классика (вместо `'unknown'`), а в Петербурге вместо русской поп-музыки в топ-10 входит жанр “world”.\n",
    "\n",
    "Таким образом, вторая гипотеза не подтвердилась:\n",
    "* Пользователи слушают похожую музыку в начале недели и в конце (изменяется лишь 10% жанров из топ-10).\n",
    "* Разница между Москвой и Петербургом не слишком выражена. В Москве чаще слушают “world” музыку, в Петербурге — джаз и классику."
   ]
  },
  {
   "cell_type": "markdown",
   "metadata": {
    "id": "JolODAqr_Zcu"
   },
   "source": [
    "### Жанровые предпочтения в Москве и Петербурге\n",
    "\n",
    "Гипотеза: Петербург — столица рэпа, музыку этого жанра там слушают чаще, чем в Москве.  А Москва — город контрастов, в котором, тем не менее, преобладает поп-музыка."
   ]
  },
  {
   "cell_type": "markdown",
   "metadata": {
    "id": "DlegSvaT_Zcu"
   },
   "source": [
    "Сгруппируем таблицу `df_moscow` по жанру и посчитаем прослушивания треков каждого жанра методом `count()`. Затем отсортируем результат в порядке убывания и сохраним его в таблице `moscow_genres`."
   ]
  },
  {
   "cell_type": "code",
   "execution_count": 40,
   "metadata": {
    "id": "r19lIPke_Zcu"
   },
   "outputs": [],
   "source": [
    "# одной строкой: группировка таблицы df_moscow по столбцу 'genre',\n",
    "# подсчёт числа значений 'genre' в этой группировке методом count(), \n",
    "# сортировка получившегося Series в порядке убывания и сохранение в moscow_genres\n",
    "moscow_genres = df_moscow.groupby('genre')['genre'].count().sort_values(ascending = False)"
   ]
  },
  {
   "cell_type": "markdown",
   "metadata": {
    "id": "6kMuomxTiIr8"
   },
   "source": [
    "Выведем на экран первые десять строк `moscow_genres`:"
   ]
  },
  {
   "cell_type": "code",
   "execution_count": 41,
   "metadata": {
    "id": "WhCSooF8_Zcv"
   },
   "outputs": [
    {
     "data": {
      "text/plain": [
       "genre\n",
       "pop            5892\n",
       "dance          4435\n",
       "rock           3965\n",
       "electronic     3786\n",
       "hiphop         2096\n",
       "classical      1616\n",
       "world          1445\n",
       "alternative    1379\n",
       "ruspop         1372\n",
       "rusrap         1161\n",
       "Name: genre, dtype: int64"
      ]
     },
     "execution_count": 41,
     "metadata": {},
     "output_type": "execute_result"
    }
   ],
   "source": [
    "# просмотр первых 10 строк moscow_genres\n",
    "moscow_genres.head(10)"
   ]
  },
  {
   "cell_type": "markdown",
   "metadata": {
    "id": "cnPG2vnN_Zcv"
   },
   "source": [
    "Теперь повторим то же и для Петербурга.\n",
    "\n",
    "Сгруппируем таблицу `df_piter` по жанру. Посчитаем прослушивания треков каждого жанра. Результат отсортируем в порядке убывания и сохраним в таблице `piter_genres`:\n"
   ]
  },
  {
   "cell_type": "code",
   "execution_count": 42,
   "metadata": {
    "id": "gluLIpE7_Zcv"
   },
   "outputs": [],
   "source": [
    "# одной строкой: группировка таблицы df_piter по столбцу 'genre', \n",
    "# подсчёт числа значений 'genre' в этой группировке методом count(), \n",
    "# сортировка получившегося Series в порядке убывания и сохранение в piter_genres\n",
    "piter_genres = df_piter.groupby('genre')['genre'].count().sort_values(ascending = False)"
   ]
  },
  {
   "cell_type": "markdown",
   "metadata": {
    "id": "5Doha_ODgyQ8"
   },
   "source": [
    "Выведем на экран первые десять строк `spb_genres`:"
   ]
  },
  {
   "cell_type": "code",
   "execution_count": 43,
   "metadata": {
    "id": "uaGJHjVU_Zcv"
   },
   "outputs": [
    {
     "data": {
      "text/plain": [
       "genre\n",
       "pop            2431\n",
       "dance          1932\n",
       "rock           1879\n",
       "electronic     1737\n",
       "hiphop          960\n",
       "alternative     649\n",
       "classical       646\n",
       "rusrap          564\n",
       "ruspop          538\n",
       "world           516\n",
       "Name: genre, dtype: int64"
      ]
     },
     "execution_count": 43,
     "metadata": {},
     "output_type": "execute_result"
    }
   ],
   "source": [
    "# просмотр первых 10 строк piter_genres\n",
    "piter_genres.head(10)"
   ]
  },
  {
   "cell_type": "markdown",
   "metadata": {
    "id": "RY51YJYu_Zcv"
   },
   "source": [
    "**Выводы**"
   ]
  },
  {
   "cell_type": "markdown",
   "metadata": {
    "id": "nVhnJEm__Zcv"
   },
   "source": [
    "Как можно было догадаться по итогам проверки второй гипотезы, третья гипотеза также не подтвердилась:\n",
    "* Поп-музыка — самый популярный жанр в Москве, как и предполагала гипотеза. Более того, в топ-10 жанров встречается близкий жанр — русская популярная музыка.\n",
    "* Аналогичная картина и в Петербурге. Русский рэп в Северной столице немного популярнее, чем в Москве, однако находится лишь на 8-м месте рейтинга."
   ]
  },
  {
   "cell_type": "markdown",
   "metadata": {
    "id": "ykKQ0N65_Zcv"
   },
   "source": [
    "## Итоги исследования"
   ]
  },
  {
   "cell_type": "markdown",
   "metadata": {
    "id": "tjUwbHb3_Zcv"
   },
   "source": [
    "Мы проверили три гипотезы и установили:\n",
    "\n",
    "1. День недели по-разному влияет на активность пользователей в Москве и Петербурге: \n",
    "* в Москве пик прослушиваний приходится на понедельник и пятницу, а в среду заметен спад.\n",
    "* в Петербурге, наоборот, больше слушают музыку по средам.\n",
    "\n",
    "Первая гипотеза подтвердилась.\n",
    "\n",
    "2. Музыкальные предпочтения не сильно меняются в течение недели — будь то Москва или Петербург — изменяется лишь 10% жанров из топ-10. \n",
    "Такие же небольшие различия и во вкусах жителей мегаполисов:\n",
    "* в Москве слушают больше музыку жанра “world”,\n",
    "* а в Петербурге — джаз и классику.\n",
    "\n",
    "Таким образом, вторая гипотеза не подтвердилась.\n",
    "\n",
    "3. Во вкусах пользователей Москвы и Петербурга оказалось больше общего, чем различий. Вопреки ожиданиям, предпочтения жанров в Петербурге напоминают московские.\n",
    "\n",
    "Третья гипотеза не подтвердилась. Если различия в предпочтениях и существуют, то на основной массе пользователей они незаметны."
   ]
  },
  {
   "cell_type": "markdown",
   "metadata": {},
   "source": [
    "Помимо рассмотренных гипотез, для оценки активности использования сервиса можно рассчитать, в каком мегаполисе и в какое время приходится больше треков на 1 пользователя.\n",
    "А для оценки разнообразия вкусов пользователей можно рассчитать, где и в какое время среднестатистический пользователь слушает больше исполнителей и жанров."
   ]
  }
 ],
 "metadata": {
  "ExecuteTimeLog": [
   {
    "duration": 439,
    "start_time": "2022-04-17T15:45:25.941Z"
   },
   {
    "duration": 169,
    "start_time": "2022-04-17T15:45:29.327Z"
   },
   {
    "duration": 103,
    "start_time": "2022-04-17T15:46:17.130Z"
   },
   {
    "duration": 97,
    "start_time": "2022-04-17T15:47:35.093Z"
   },
   {
    "duration": 7,
    "start_time": "2022-04-17T15:49:11.492Z"
   },
   {
    "duration": 213,
    "start_time": "2022-04-17T15:52:18.235Z"
   },
   {
    "duration": 16,
    "start_time": "2022-04-17T15:52:20.601Z"
   },
   {
    "duration": 29,
    "start_time": "2022-04-17T15:53:25.407Z"
   },
   {
    "duration": 373,
    "start_time": "2022-04-17T15:56:12.074Z"
   },
   {
    "duration": 219,
    "start_time": "2022-04-17T15:56:12.449Z"
   },
   {
    "duration": 16,
    "start_time": "2022-04-17T15:56:12.670Z"
   },
   {
    "duration": 25,
    "start_time": "2022-04-17T15:56:12.688Z"
   },
   {
    "duration": 2,
    "start_time": "2022-04-17T15:56:12.715Z"
   },
   {
    "duration": 2,
    "start_time": "2022-04-17T15:56:12.724Z"
   },
   {
    "duration": 5,
    "start_time": "2022-04-17T15:56:12.728Z"
   },
   {
    "duration": 5,
    "start_time": "2022-04-17T15:56:12.735Z"
   },
   {
    "duration": 5,
    "start_time": "2022-04-17T15:56:12.741Z"
   },
   {
    "duration": 4,
    "start_time": "2022-04-17T15:56:12.748Z"
   },
   {
    "duration": 4,
    "start_time": "2022-04-17T15:56:12.754Z"
   },
   {
    "duration": 5,
    "start_time": "2022-04-17T15:56:12.760Z"
   },
   {
    "duration": 8,
    "start_time": "2022-04-17T15:56:12.766Z"
   },
   {
    "duration": 4,
    "start_time": "2022-04-17T15:56:12.777Z"
   },
   {
    "duration": 5,
    "start_time": "2022-04-17T15:56:12.782Z"
   },
   {
    "duration": 6,
    "start_time": "2022-04-17T15:56:12.788Z"
   },
   {
    "duration": 5,
    "start_time": "2022-04-17T15:56:12.795Z"
   },
   {
    "duration": 23,
    "start_time": "2022-04-17T15:56:12.801Z"
   },
   {
    "duration": 5,
    "start_time": "2022-04-17T15:56:12.825Z"
   },
   {
    "duration": 6,
    "start_time": "2022-04-17T15:56:12.831Z"
   },
   {
    "duration": 8,
    "start_time": "2022-04-17T15:56:12.839Z"
   },
   {
    "duration": 6,
    "start_time": "2022-04-17T15:56:12.849Z"
   },
   {
    "duration": 8,
    "start_time": "2022-04-17T15:56:12.857Z"
   },
   {
    "duration": 7,
    "start_time": "2022-04-17T15:56:12.867Z"
   },
   {
    "duration": 7,
    "start_time": "2022-04-17T15:56:12.875Z"
   },
   {
    "duration": 7,
    "start_time": "2022-04-17T15:56:12.883Z"
   },
   {
    "duration": 3,
    "start_time": "2022-04-17T15:56:12.892Z"
   },
   {
    "duration": 5,
    "start_time": "2022-04-17T15:56:12.896Z"
   },
   {
    "duration": 5,
    "start_time": "2022-04-17T15:56:12.902Z"
   },
   {
    "duration": 4,
    "start_time": "2022-04-17T15:56:12.908Z"
   },
   {
    "duration": 9,
    "start_time": "2022-04-17T15:56:12.913Z"
   },
   {
    "duration": 7,
    "start_time": "2022-04-17T15:56:12.924Z"
   },
   {
    "duration": 8,
    "start_time": "2022-04-17T15:56:12.932Z"
   },
   {
    "duration": 6,
    "start_time": "2022-04-17T15:56:12.942Z"
   },
   {
    "duration": 10,
    "start_time": "2022-04-17T15:56:12.950Z"
   },
   {
    "duration": 7,
    "start_time": "2022-04-17T15:56:12.961Z"
   },
   {
    "duration": 7,
    "start_time": "2022-04-17T15:56:12.969Z"
   },
   {
    "duration": 5,
    "start_time": "2022-04-17T15:56:12.977Z"
   },
   {
    "duration": 5,
    "start_time": "2022-04-17T16:02:50.494Z"
   },
   {
    "duration": 10,
    "start_time": "2022-04-17T16:07:01.455Z"
   },
   {
    "duration": 4,
    "start_time": "2022-04-17T16:08:18.877Z"
   },
   {
    "duration": 27,
    "start_time": "2022-04-17T16:08:58.323Z"
   },
   {
    "duration": 15,
    "start_time": "2022-04-17T16:10:41.546Z"
   },
   {
    "duration": 5,
    "start_time": "2022-04-17T16:10:42.827Z"
   },
   {
    "duration": 10,
    "start_time": "2022-04-17T16:10:48.924Z"
   },
   {
    "duration": 11,
    "start_time": "2022-04-17T16:10:49.359Z"
   },
   {
    "duration": 5,
    "start_time": "2022-04-17T16:10:50.166Z"
   },
   {
    "duration": 367,
    "start_time": "2022-04-17T16:11:00.876Z"
   },
   {
    "duration": 314,
    "start_time": "2022-04-17T16:11:01.245Z"
   },
   {
    "duration": 23,
    "start_time": "2022-04-17T16:11:01.561Z"
   },
   {
    "duration": 27,
    "start_time": "2022-04-17T16:11:01.586Z"
   },
   {
    "duration": 11,
    "start_time": "2022-04-17T16:11:01.615Z"
   },
   {
    "duration": 28,
    "start_time": "2022-04-17T16:11:01.630Z"
   },
   {
    "duration": 15,
    "start_time": "2022-04-17T16:11:01.659Z"
   },
   {
    "duration": 45,
    "start_time": "2022-04-17T16:11:01.676Z"
   },
   {
    "duration": 26,
    "start_time": "2022-04-17T16:11:01.723Z"
   },
   {
    "duration": 36,
    "start_time": "2022-04-17T16:11:01.752Z"
   },
   {
    "duration": 15,
    "start_time": "2022-04-17T16:11:01.790Z"
   },
   {
    "duration": 15,
    "start_time": "2022-04-17T16:11:01.806Z"
   },
   {
    "duration": 18,
    "start_time": "2022-04-17T16:11:01.822Z"
   },
   {
    "duration": 24,
    "start_time": "2022-04-17T16:11:01.841Z"
   },
   {
    "duration": 6,
    "start_time": "2022-04-17T16:11:01.866Z"
   },
   {
    "duration": 49,
    "start_time": "2022-04-17T16:11:01.874Z"
   },
   {
    "duration": 17,
    "start_time": "2022-04-17T16:11:01.926Z"
   },
   {
    "duration": 6,
    "start_time": "2022-04-17T16:11:01.945Z"
   },
   {
    "duration": 6,
    "start_time": "2022-04-17T16:11:01.953Z"
   },
   {
    "duration": 8,
    "start_time": "2022-04-17T16:11:01.963Z"
   },
   {
    "duration": 9,
    "start_time": "2022-04-17T16:11:01.972Z"
   },
   {
    "duration": 10,
    "start_time": "2022-04-17T16:11:01.983Z"
   },
   {
    "duration": 15,
    "start_time": "2022-04-17T16:11:01.994Z"
   },
   {
    "duration": 10,
    "start_time": "2022-04-17T16:11:02.011Z"
   },
   {
    "duration": 17,
    "start_time": "2022-04-17T16:11:02.023Z"
   },
   {
    "duration": 12,
    "start_time": "2022-04-17T16:11:02.042Z"
   },
   {
    "duration": 5,
    "start_time": "2022-04-17T16:11:02.055Z"
   },
   {
    "duration": 5,
    "start_time": "2022-04-17T16:11:02.063Z"
   },
   {
    "duration": 16,
    "start_time": "2022-04-17T16:11:02.069Z"
   },
   {
    "duration": 5,
    "start_time": "2022-04-17T16:11:02.087Z"
   },
   {
    "duration": 16,
    "start_time": "2022-04-17T16:11:02.093Z"
   },
   {
    "duration": 5,
    "start_time": "2022-04-17T16:11:02.111Z"
   },
   {
    "duration": 26,
    "start_time": "2022-04-17T16:11:02.117Z"
   },
   {
    "duration": 20,
    "start_time": "2022-04-17T16:11:02.144Z"
   },
   {
    "duration": 8,
    "start_time": "2022-04-17T16:11:02.165Z"
   },
   {
    "duration": 14,
    "start_time": "2022-04-17T16:11:02.174Z"
   },
   {
    "duration": 11,
    "start_time": "2022-04-17T16:11:02.190Z"
   },
   {
    "duration": 6,
    "start_time": "2022-04-17T16:11:02.203Z"
   },
   {
    "duration": 12,
    "start_time": "2022-04-17T16:16:52.637Z"
   },
   {
    "duration": 4,
    "start_time": "2022-04-17T16:16:53.074Z"
   },
   {
    "duration": 21,
    "start_time": "2022-04-17T16:16:56.741Z"
   },
   {
    "duration": 17,
    "start_time": "2022-04-17T16:17:51.014Z"
   },
   {
    "duration": 21,
    "start_time": "2022-04-17T16:18:24.950Z"
   },
   {
    "duration": 56,
    "start_time": "2022-04-17T16:19:07.968Z"
   },
   {
    "duration": 58,
    "start_time": "2022-04-17T16:21:38.136Z"
   },
   {
    "duration": 78,
    "start_time": "2022-04-17T16:21:38.519Z"
   },
   {
    "duration": 64,
    "start_time": "2022-04-17T16:21:39.032Z"
   },
   {
    "duration": 9,
    "start_time": "2022-04-17T16:21:40.105Z"
   },
   {
    "duration": 102,
    "start_time": "2022-04-17T16:24:47.122Z"
   },
   {
    "duration": 110,
    "start_time": "2022-04-17T16:24:47.610Z"
   },
   {
    "duration": 3,
    "start_time": "2022-04-17T16:34:01.172Z"
   },
   {
    "duration": 13,
    "start_time": "2022-04-17T16:34:02.622Z"
   },
   {
    "duration": 138,
    "start_time": "2022-04-17T16:34:20.369Z"
   },
   {
    "duration": 67,
    "start_time": "2022-04-17T17:26:09.829Z"
   },
   {
    "duration": 96,
    "start_time": "2022-04-17T17:28:11.418Z"
   },
   {
    "duration": 97,
    "start_time": "2022-04-17T17:28:14.773Z"
   },
   {
    "duration": 9,
    "start_time": "2022-04-17T17:28:53.983Z"
   },
   {
    "duration": 100,
    "start_time": "2022-04-17T17:32:34.524Z"
   },
   {
    "duration": 83,
    "start_time": "2022-04-17T17:41:00.273Z"
   },
   {
    "duration": 9,
    "start_time": "2022-04-17T17:41:01.484Z"
   },
   {
    "duration": 41,
    "start_time": "2022-04-17T17:41:24.495Z"
   },
   {
    "duration": 8,
    "start_time": "2022-04-17T17:41:25.584Z"
   },
   {
    "duration": 24,
    "start_time": "2022-04-17T17:42:51.572Z"
   },
   {
    "duration": 22,
    "start_time": "2022-04-17T17:49:04.312Z"
   },
   {
    "duration": 20,
    "start_time": "2022-04-17T17:49:55.632Z"
   },
   {
    "duration": 18,
    "start_time": "2022-04-17T17:50:27.700Z"
   },
   {
    "duration": 15,
    "start_time": "2022-04-17T17:50:38.861Z"
   },
   {
    "duration": 5,
    "start_time": "2022-04-17T17:56:08.689Z"
   },
   {
    "duration": 5,
    "start_time": "2022-04-17T17:56:15.945Z"
   },
   {
    "duration": 5,
    "start_time": "2022-04-17T17:56:27.359Z"
   },
   {
    "duration": 3,
    "start_time": "2022-04-17T17:59:46.111Z"
   },
   {
    "duration": 16,
    "start_time": "2022-04-17T18:00:18.423Z"
   },
   {
    "duration": 15,
    "start_time": "2022-04-17T18:01:03.743Z"
   },
   {
    "duration": 15,
    "start_time": "2022-04-17T18:01:03.963Z"
   },
   {
    "duration": 13,
    "start_time": "2022-04-17T18:01:04.186Z"
   },
   {
    "duration": 16,
    "start_time": "2022-04-17T18:01:04.396Z"
   },
   {
    "duration": 14,
    "start_time": "2022-04-17T18:01:05.180Z"
   },
   {
    "duration": 8,
    "start_time": "2022-04-17T18:01:58.790Z"
   },
   {
    "duration": 113,
    "start_time": "2022-04-17T18:04:46.109Z"
   },
   {
    "duration": 4,
    "start_time": "2022-04-17T18:05:13.031Z"
   },
   {
    "duration": 4,
    "start_time": "2022-04-17T18:05:15.207Z"
   },
   {
    "duration": 4,
    "start_time": "2022-04-17T18:06:46.897Z"
   },
   {
    "duration": 22,
    "start_time": "2022-04-17T18:06:48.822Z"
   },
   {
    "duration": 4,
    "start_time": "2022-04-17T18:06:56.043Z"
   },
   {
    "duration": 20,
    "start_time": "2022-04-17T18:06:57.093Z"
   },
   {
    "duration": 15,
    "start_time": "2022-04-17T18:06:57.862Z"
   },
   {
    "duration": 19,
    "start_time": "2022-04-17T18:06:58.709Z"
   },
   {
    "duration": 15,
    "start_time": "2022-04-17T18:07:02.788Z"
   },
   {
    "duration": 4,
    "start_time": "2022-04-17T18:09:02.353Z"
   },
   {
    "duration": 24,
    "start_time": "2022-04-17T18:09:02.824Z"
   },
   {
    "duration": 370,
    "start_time": "2022-04-17T18:09:19.361Z"
   },
   {
    "duration": 271,
    "start_time": "2022-04-17T18:09:19.734Z"
   },
   {
    "duration": 16,
    "start_time": "2022-04-17T18:09:20.007Z"
   },
   {
    "duration": 37,
    "start_time": "2022-04-17T18:09:20.027Z"
   },
   {
    "duration": 4,
    "start_time": "2022-04-17T18:09:20.065Z"
   },
   {
    "duration": 23,
    "start_time": "2022-04-17T18:09:20.071Z"
   },
   {
    "duration": 16,
    "start_time": "2022-04-17T18:09:20.095Z"
   },
   {
    "duration": 33,
    "start_time": "2022-04-17T18:09:20.112Z"
   },
   {
    "duration": 15,
    "start_time": "2022-04-17T18:09:20.147Z"
   },
   {
    "duration": 22,
    "start_time": "2022-04-17T18:09:20.164Z"
   },
   {
    "duration": 71,
    "start_time": "2022-04-17T18:09:20.188Z"
   },
   {
    "duration": 81,
    "start_time": "2022-04-17T18:09:20.260Z"
   },
   {
    "duration": 53,
    "start_time": "2022-04-17T18:09:20.343Z"
   },
   {
    "duration": 9,
    "start_time": "2022-04-17T18:09:20.398Z"
   },
   {
    "duration": 16,
    "start_time": "2022-04-17T18:09:20.408Z"
   },
   {
    "duration": 14,
    "start_time": "2022-04-17T18:09:20.426Z"
   },
   {
    "duration": 38,
    "start_time": "2022-04-17T18:09:20.441Z"
   },
   {
    "duration": 9,
    "start_time": "2022-04-17T18:09:20.480Z"
   },
   {
    "duration": 52,
    "start_time": "2022-04-17T18:09:20.491Z"
   },
   {
    "duration": 18,
    "start_time": "2022-04-17T18:09:20.545Z"
   },
   {
    "duration": 16,
    "start_time": "2022-04-17T18:09:20.564Z"
   },
   {
    "duration": 43,
    "start_time": "2022-04-17T18:09:20.581Z"
   },
   {
    "duration": 20,
    "start_time": "2022-04-17T18:09:20.626Z"
   },
   {
    "duration": 5,
    "start_time": "2022-04-17T18:09:20.647Z"
   },
   {
    "duration": 8,
    "start_time": "2022-04-17T18:09:20.653Z"
   },
   {
    "duration": 3,
    "start_time": "2022-04-17T18:09:20.663Z"
   },
   {
    "duration": 16,
    "start_time": "2022-04-17T18:09:20.668Z"
   },
   {
    "duration": 40,
    "start_time": "2022-04-17T18:09:20.687Z"
   },
   {
    "duration": 16,
    "start_time": "2022-04-17T18:09:20.729Z"
   },
   {
    "duration": 11,
    "start_time": "2022-04-17T18:09:20.747Z"
   },
   {
    "duration": 14,
    "start_time": "2022-04-17T18:09:20.760Z"
   },
   {
    "duration": 12,
    "start_time": "2022-04-17T18:09:20.775Z"
   },
   {
    "duration": 7,
    "start_time": "2022-04-17T18:09:20.788Z"
   },
   {
    "duration": 4,
    "start_time": "2022-04-17T18:09:20.825Z"
   },
   {
    "duration": 82,
    "start_time": "2022-04-17T18:09:20.831Z"
   },
   {
    "duration": 0,
    "start_time": "2022-04-17T18:09:20.914Z"
   },
   {
    "duration": 0,
    "start_time": "2022-04-17T18:09:20.915Z"
   },
   {
    "duration": 0,
    "start_time": "2022-04-17T18:09:20.927Z"
   },
   {
    "duration": 0,
    "start_time": "2022-04-17T18:09:20.929Z"
   },
   {
    "duration": 0,
    "start_time": "2022-04-17T18:09:20.931Z"
   },
   {
    "duration": 0,
    "start_time": "2022-04-17T18:09:20.933Z"
   },
   {
    "duration": 0,
    "start_time": "2022-04-17T18:09:20.934Z"
   },
   {
    "duration": 4,
    "start_time": "2022-04-17T18:09:39.892Z"
   },
   {
    "duration": 15,
    "start_time": "2022-04-17T18:09:41.150Z"
   },
   {
    "duration": 10,
    "start_time": "2022-04-17T18:09:42.177Z"
   },
   {
    "duration": 15,
    "start_time": "2022-04-17T18:09:42.656Z"
   },
   {
    "duration": 17,
    "start_time": "2022-04-17T18:09:43.137Z"
   },
   {
    "duration": 8,
    "start_time": "2022-04-17T18:11:36.845Z"
   },
   {
    "duration": 5,
    "start_time": "2022-04-17T18:12:04.230Z"
   },
   {
    "duration": 6,
    "start_time": "2022-04-17T18:13:27.193Z"
   },
   {
    "duration": 5,
    "start_time": "2022-04-17T18:13:49.031Z"
   },
   {
    "duration": 8,
    "start_time": "2022-04-17T18:13:52.725Z"
   },
   {
    "duration": 401,
    "start_time": "2022-04-17T18:20:46.387Z"
   },
   {
    "duration": 296,
    "start_time": "2022-04-17T18:20:46.789Z"
   },
   {
    "duration": 16,
    "start_time": "2022-04-17T18:20:47.086Z"
   },
   {
    "duration": 50,
    "start_time": "2022-04-17T18:20:47.104Z"
   },
   {
    "duration": 5,
    "start_time": "2022-04-17T18:20:47.156Z"
   },
   {
    "duration": 13,
    "start_time": "2022-04-17T18:20:47.162Z"
   },
   {
    "duration": 7,
    "start_time": "2022-04-17T18:20:47.176Z"
   },
   {
    "duration": 22,
    "start_time": "2022-04-17T18:20:47.184Z"
   },
   {
    "duration": 31,
    "start_time": "2022-04-17T18:20:47.208Z"
   },
   {
    "duration": 21,
    "start_time": "2022-04-17T18:20:47.242Z"
   },
   {
    "duration": 78,
    "start_time": "2022-04-17T18:20:47.264Z"
   },
   {
    "duration": 118,
    "start_time": "2022-04-17T18:20:47.344Z"
   },
   {
    "duration": 93,
    "start_time": "2022-04-17T18:20:47.465Z"
   },
   {
    "duration": 13,
    "start_time": "2022-04-17T18:20:47.560Z"
   },
   {
    "duration": 3,
    "start_time": "2022-04-17T18:20:47.575Z"
   },
   {
    "duration": 16,
    "start_time": "2022-04-17T18:20:47.580Z"
   },
   {
    "duration": 80,
    "start_time": "2022-04-17T18:20:47.598Z"
   },
   {
    "duration": 10,
    "start_time": "2022-04-17T18:20:47.680Z"
   },
   {
    "duration": 33,
    "start_time": "2022-04-17T18:20:47.691Z"
   },
   {
    "duration": 21,
    "start_time": "2022-04-17T18:20:47.725Z"
   },
   {
    "duration": 18,
    "start_time": "2022-04-17T18:20:47.748Z"
   },
   {
    "duration": 21,
    "start_time": "2022-04-17T18:20:47.767Z"
   },
   {
    "duration": 46,
    "start_time": "2022-04-17T18:20:47.789Z"
   },
   {
    "duration": 6,
    "start_time": "2022-04-17T18:20:47.836Z"
   },
   {
    "duration": 7,
    "start_time": "2022-04-17T18:20:47.844Z"
   },
   {
    "duration": 4,
    "start_time": "2022-04-17T18:20:47.853Z"
   },
   {
    "duration": 31,
    "start_time": "2022-04-17T18:20:47.858Z"
   },
   {
    "duration": 42,
    "start_time": "2022-04-17T18:20:47.893Z"
   },
   {
    "duration": 13,
    "start_time": "2022-04-17T18:20:47.936Z"
   },
   {
    "duration": 13,
    "start_time": "2022-04-17T18:20:47.951Z"
   },
   {
    "duration": 15,
    "start_time": "2022-04-17T18:20:47.966Z"
   },
   {
    "duration": 47,
    "start_time": "2022-04-17T18:20:47.983Z"
   },
   {
    "duration": 9,
    "start_time": "2022-04-17T18:20:48.032Z"
   },
   {
    "duration": 10,
    "start_time": "2022-04-17T18:20:48.043Z"
   },
   {
    "duration": 24,
    "start_time": "2022-04-17T18:20:48.055Z"
   },
   {
    "duration": 13,
    "start_time": "2022-04-17T18:20:48.081Z"
   },
   {
    "duration": 42,
    "start_time": "2022-04-17T18:20:48.096Z"
   },
   {
    "duration": 12,
    "start_time": "2022-04-17T18:20:48.140Z"
   },
   {
    "duration": 7,
    "start_time": "2022-04-17T18:20:48.154Z"
   },
   {
    "duration": 8,
    "start_time": "2022-04-17T18:20:48.163Z"
   },
   {
    "duration": 7,
    "start_time": "2022-04-17T18:20:48.172Z"
   },
   {
    "duration": 9,
    "start_time": "2022-04-17T18:20:48.181Z"
   },
   {
    "duration": 10,
    "start_time": "2022-04-17T18:25:51.237Z"
   },
   {
    "duration": 424,
    "start_time": "2022-04-17T18:31:36.192Z"
   },
   {
    "duration": 10,
    "start_time": "2022-04-17T18:31:53.010Z"
   },
   {
    "duration": 10,
    "start_time": "2022-04-17T18:32:00.937Z"
   },
   {
    "duration": 411,
    "start_time": "2022-04-17T18:32:42.188Z"
   },
   {
    "duration": 308,
    "start_time": "2022-04-17T18:32:42.601Z"
   },
   {
    "duration": 16,
    "start_time": "2022-04-17T18:32:42.911Z"
   },
   {
    "duration": 26,
    "start_time": "2022-04-17T18:32:42.929Z"
   },
   {
    "duration": 4,
    "start_time": "2022-04-17T18:32:42.956Z"
   },
   {
    "duration": 11,
    "start_time": "2022-04-17T18:32:42.962Z"
   },
   {
    "duration": 6,
    "start_time": "2022-04-17T18:32:42.975Z"
   },
   {
    "duration": 44,
    "start_time": "2022-04-17T18:32:42.983Z"
   },
   {
    "duration": 16,
    "start_time": "2022-04-17T18:32:43.029Z"
   },
   {
    "duration": 20,
    "start_time": "2022-04-17T18:32:43.047Z"
   },
   {
    "duration": 74,
    "start_time": "2022-04-17T18:32:43.069Z"
   },
   {
    "duration": 72,
    "start_time": "2022-04-17T18:32:43.144Z"
   },
   {
    "duration": 54,
    "start_time": "2022-04-17T18:32:43.224Z"
   },
   {
    "duration": 8,
    "start_time": "2022-04-17T18:32:43.280Z"
   },
   {
    "duration": 3,
    "start_time": "2022-04-17T18:32:43.290Z"
   },
   {
    "duration": 31,
    "start_time": "2022-04-17T18:32:43.294Z"
   },
   {
    "duration": 37,
    "start_time": "2022-04-17T18:32:43.327Z"
   },
   {
    "duration": 8,
    "start_time": "2022-04-17T18:32:43.366Z"
   },
   {
    "duration": 25,
    "start_time": "2022-04-17T18:32:43.376Z"
   },
   {
    "duration": 35,
    "start_time": "2022-04-17T18:32:43.403Z"
   },
   {
    "duration": 16,
    "start_time": "2022-04-17T18:32:43.440Z"
   },
   {
    "duration": 20,
    "start_time": "2022-04-17T18:32:43.458Z"
   },
   {
    "duration": 15,
    "start_time": "2022-04-17T18:32:43.479Z"
   },
   {
    "duration": 31,
    "start_time": "2022-04-17T18:32:43.496Z"
   },
   {
    "duration": 6,
    "start_time": "2022-04-17T18:32:43.529Z"
   },
   {
    "duration": 4,
    "start_time": "2022-04-17T18:32:43.536Z"
   },
   {
    "duration": 22,
    "start_time": "2022-04-17T18:32:43.541Z"
   },
   {
    "duration": 14,
    "start_time": "2022-04-17T18:32:43.566Z"
   },
   {
    "duration": 13,
    "start_time": "2022-04-17T18:32:43.582Z"
   },
   {
    "duration": 37,
    "start_time": "2022-04-17T18:32:43.597Z"
   },
   {
    "duration": 14,
    "start_time": "2022-04-17T18:32:43.635Z"
   },
   {
    "duration": 11,
    "start_time": "2022-04-17T18:32:43.651Z"
   },
   {
    "duration": 7,
    "start_time": "2022-04-17T18:32:43.664Z"
   },
   {
    "duration": 5,
    "start_time": "2022-04-17T18:32:43.673Z"
   },
   {
    "duration": 48,
    "start_time": "2022-04-17T18:32:43.679Z"
   },
   {
    "duration": 13,
    "start_time": "2022-04-17T18:32:43.728Z"
   },
   {
    "duration": 16,
    "start_time": "2022-04-17T18:32:43.742Z"
   },
   {
    "duration": 11,
    "start_time": "2022-04-17T18:32:43.759Z"
   },
   {
    "duration": 8,
    "start_time": "2022-04-17T18:32:43.772Z"
   },
   {
    "duration": 5,
    "start_time": "2022-04-17T18:32:43.782Z"
   },
   {
    "duration": 7,
    "start_time": "2022-04-17T18:32:43.824Z"
   },
   {
    "duration": 4,
    "start_time": "2022-04-17T18:32:43.833Z"
   },
   {
    "duration": 457,
    "start_time": "2022-04-26T12:43:52.416Z"
   },
   {
    "duration": 144,
    "start_time": "2022-04-26T12:43:52.875Z"
   },
   {
    "duration": 0,
    "start_time": "2022-04-26T12:43:53.022Z"
   },
   {
    "duration": 0,
    "start_time": "2022-04-26T12:43:53.024Z"
   },
   {
    "duration": 0,
    "start_time": "2022-04-26T12:43:53.025Z"
   },
   {
    "duration": 0,
    "start_time": "2022-04-26T12:43:53.026Z"
   },
   {
    "duration": 0,
    "start_time": "2022-04-26T12:43:53.027Z"
   },
   {
    "duration": 0,
    "start_time": "2022-04-26T12:43:53.028Z"
   },
   {
    "duration": 0,
    "start_time": "2022-04-26T12:43:53.029Z"
   },
   {
    "duration": 0,
    "start_time": "2022-04-26T12:43:53.031Z"
   },
   {
    "duration": 0,
    "start_time": "2022-04-26T12:43:53.032Z"
   },
   {
    "duration": 0,
    "start_time": "2022-04-26T12:43:53.033Z"
   },
   {
    "duration": 0,
    "start_time": "2022-04-26T12:43:53.035Z"
   },
   {
    "duration": 0,
    "start_time": "2022-04-26T12:43:53.037Z"
   },
   {
    "duration": 0,
    "start_time": "2022-04-26T12:43:53.038Z"
   },
   {
    "duration": 0,
    "start_time": "2022-04-26T12:43:53.039Z"
   },
   {
    "duration": 0,
    "start_time": "2022-04-26T12:43:53.041Z"
   },
   {
    "duration": 0,
    "start_time": "2022-04-26T12:43:53.042Z"
   },
   {
    "duration": 0,
    "start_time": "2022-04-26T12:43:53.044Z"
   },
   {
    "duration": 0,
    "start_time": "2022-04-26T12:43:53.045Z"
   },
   {
    "duration": 0,
    "start_time": "2022-04-26T12:43:53.046Z"
   },
   {
    "duration": 0,
    "start_time": "2022-04-26T12:43:53.047Z"
   },
   {
    "duration": 0,
    "start_time": "2022-04-26T12:43:53.048Z"
   },
   {
    "duration": 0,
    "start_time": "2022-04-26T12:43:53.049Z"
   },
   {
    "duration": 0,
    "start_time": "2022-04-26T12:43:53.050Z"
   },
   {
    "duration": 0,
    "start_time": "2022-04-26T12:43:53.051Z"
   },
   {
    "duration": 0,
    "start_time": "2022-04-26T12:43:53.051Z"
   },
   {
    "duration": 0,
    "start_time": "2022-04-26T12:43:53.101Z"
   },
   {
    "duration": 0,
    "start_time": "2022-04-26T12:43:53.102Z"
   },
   {
    "duration": 0,
    "start_time": "2022-04-26T12:43:53.103Z"
   },
   {
    "duration": 0,
    "start_time": "2022-04-26T12:43:53.105Z"
   },
   {
    "duration": 0,
    "start_time": "2022-04-26T12:43:53.106Z"
   },
   {
    "duration": 0,
    "start_time": "2022-04-26T12:43:53.107Z"
   },
   {
    "duration": 0,
    "start_time": "2022-04-26T12:43:53.108Z"
   },
   {
    "duration": 0,
    "start_time": "2022-04-26T12:43:53.109Z"
   },
   {
    "duration": 0,
    "start_time": "2022-04-26T12:43:53.110Z"
   },
   {
    "duration": 0,
    "start_time": "2022-04-26T12:43:53.111Z"
   },
   {
    "duration": 0,
    "start_time": "2022-04-26T12:43:53.112Z"
   },
   {
    "duration": 0,
    "start_time": "2022-04-26T12:43:53.113Z"
   },
   {
    "duration": 0,
    "start_time": "2022-04-26T12:43:53.114Z"
   },
   {
    "duration": 0,
    "start_time": "2022-04-26T12:43:53.115Z"
   },
   {
    "duration": 0,
    "start_time": "2022-04-26T12:43:53.119Z"
   },
   {
    "duration": 494,
    "start_time": "2022-04-26T12:44:53.519Z"
   },
   {
    "duration": 223,
    "start_time": "2022-04-26T12:44:54.016Z"
   },
   {
    "duration": 17,
    "start_time": "2022-04-26T12:44:54.241Z"
   },
   {
    "duration": 48,
    "start_time": "2022-04-26T12:44:54.260Z"
   },
   {
    "duration": 16,
    "start_time": "2022-04-26T12:44:54.310Z"
   },
   {
    "duration": 14,
    "start_time": "2022-04-26T12:44:54.327Z"
   },
   {
    "duration": 22,
    "start_time": "2022-04-26T12:44:54.343Z"
   },
   {
    "duration": 41,
    "start_time": "2022-04-26T12:44:54.366Z"
   },
   {
    "duration": 33,
    "start_time": "2022-04-26T12:44:54.411Z"
   },
   {
    "duration": 47,
    "start_time": "2022-04-26T12:44:54.448Z"
   },
   {
    "duration": 85,
    "start_time": "2022-04-26T12:44:54.497Z"
   },
   {
    "duration": 81,
    "start_time": "2022-04-26T12:44:54.584Z"
   },
   {
    "duration": 69,
    "start_time": "2022-04-26T12:44:54.667Z"
   },
   {
    "duration": 9,
    "start_time": "2022-04-26T12:44:54.737Z"
   },
   {
    "duration": 3,
    "start_time": "2022-04-26T12:44:54.748Z"
   },
   {
    "duration": 16,
    "start_time": "2022-04-26T12:44:54.752Z"
   },
   {
    "duration": 89,
    "start_time": "2022-04-26T12:44:54.769Z"
   },
   {
    "duration": 15,
    "start_time": "2022-04-26T12:44:54.860Z"
   },
   {
    "duration": 58,
    "start_time": "2022-04-26T12:44:54.877Z"
   },
   {
    "duration": 23,
    "start_time": "2022-04-26T12:44:54.937Z"
   },
   {
    "duration": 46,
    "start_time": "2022-04-26T12:44:54.962Z"
   },
   {
    "duration": 27,
    "start_time": "2022-04-26T12:44:55.010Z"
   },
   {
    "duration": 27,
    "start_time": "2022-04-26T12:44:55.039Z"
   },
   {
    "duration": 8,
    "start_time": "2022-04-26T12:44:55.068Z"
   },
   {
    "duration": 9,
    "start_time": "2022-04-26T12:44:55.093Z"
   },
   {
    "duration": 9,
    "start_time": "2022-04-26T12:44:55.105Z"
   },
   {
    "duration": 25,
    "start_time": "2022-04-26T12:44:55.116Z"
   },
   {
    "duration": 15,
    "start_time": "2022-04-26T12:44:55.144Z"
   },
   {
    "duration": 35,
    "start_time": "2022-04-26T12:44:55.161Z"
   },
   {
    "duration": 20,
    "start_time": "2022-04-26T12:44:55.197Z"
   },
   {
    "duration": 25,
    "start_time": "2022-04-26T12:44:55.218Z"
   },
   {
    "duration": 14,
    "start_time": "2022-04-26T12:44:55.245Z"
   },
   {
    "duration": 10,
    "start_time": "2022-04-26T12:44:55.260Z"
   },
   {
    "duration": 32,
    "start_time": "2022-04-26T12:44:55.271Z"
   },
   {
    "duration": 34,
    "start_time": "2022-04-26T12:44:55.309Z"
   },
   {
    "duration": 16,
    "start_time": "2022-04-26T12:44:55.345Z"
   },
   {
    "duration": 33,
    "start_time": "2022-04-26T12:44:55.363Z"
   },
   {
    "duration": 15,
    "start_time": "2022-04-26T12:44:55.398Z"
   },
   {
    "duration": 26,
    "start_time": "2022-04-26T12:44:55.415Z"
   },
   {
    "duration": 8,
    "start_time": "2022-04-26T12:44:55.442Z"
   },
   {
    "duration": 21,
    "start_time": "2022-04-26T12:44:55.451Z"
   },
   {
    "duration": 28,
    "start_time": "2022-04-26T12:44:55.474Z"
   },
   {
    "duration": 17,
    "start_time": "2022-04-26T12:45:37.789Z"
   },
   {
    "duration": 163,
    "start_time": "2022-04-26T12:45:41.665Z"
   },
   {
    "duration": 140,
    "start_time": "2022-04-26T12:45:43.965Z"
   },
   {
    "duration": 83,
    "start_time": "2022-04-26T17:59:58.559Z"
   },
   {
    "duration": 529,
    "start_time": "2022-04-26T18:00:25.308Z"
   },
   {
    "duration": 233,
    "start_time": "2022-04-26T18:00:25.840Z"
   },
   {
    "duration": 43,
    "start_time": "2022-04-26T18:00:26.076Z"
   },
   {
    "duration": 47,
    "start_time": "2022-04-26T18:00:26.122Z"
   },
   {
    "duration": 8,
    "start_time": "2022-04-26T18:00:26.183Z"
   },
   {
    "duration": 37,
    "start_time": "2022-04-26T18:00:26.196Z"
   },
   {
    "duration": 9,
    "start_time": "2022-04-26T18:00:26.236Z"
   },
   {
    "duration": 56,
    "start_time": "2022-04-26T18:00:26.248Z"
   },
   {
    "duration": 46,
    "start_time": "2022-04-26T18:00:26.307Z"
   },
   {
    "duration": 59,
    "start_time": "2022-04-26T18:00:26.356Z"
   },
   {
    "duration": 116,
    "start_time": "2022-04-26T18:00:26.417Z"
   },
   {
    "duration": 138,
    "start_time": "2022-04-26T18:00:26.535Z"
   },
   {
    "duration": 117,
    "start_time": "2022-04-26T18:00:26.675Z"
   },
   {
    "duration": 17,
    "start_time": "2022-04-26T18:00:26.802Z"
   },
   {
    "duration": 67,
    "start_time": "2022-04-26T18:00:26.822Z"
   },
   {
    "duration": 9,
    "start_time": "2022-04-26T18:00:26.891Z"
   },
   {
    "duration": 33,
    "start_time": "2022-04-26T18:00:26.902Z"
   },
   {
    "duration": 81,
    "start_time": "2022-04-26T18:00:26.938Z"
   },
   {
    "duration": 14,
    "start_time": "2022-04-26T18:00:27.021Z"
   },
   {
    "duration": 59,
    "start_time": "2022-04-26T18:00:27.038Z"
   },
   {
    "duration": 37,
    "start_time": "2022-04-26T18:00:27.100Z"
   },
   {
    "duration": 53,
    "start_time": "2022-04-26T18:00:27.139Z"
   },
   {
    "duration": 38,
    "start_time": "2022-04-26T18:00:27.197Z"
   },
   {
    "duration": 45,
    "start_time": "2022-04-26T18:00:27.237Z"
   },
   {
    "duration": 22,
    "start_time": "2022-04-26T18:00:27.286Z"
   },
   {
    "duration": 11,
    "start_time": "2022-04-26T18:00:27.312Z"
   },
   {
    "duration": 5,
    "start_time": "2022-04-26T18:00:27.325Z"
   },
   {
    "duration": 88,
    "start_time": "2022-04-26T18:00:27.332Z"
   },
   {
    "duration": 398,
    "start_time": "2022-04-26T18:00:27.422Z"
   },
   {
    "duration": 25,
    "start_time": "2022-04-26T18:00:27.822Z"
   },
   {
    "duration": 18,
    "start_time": "2022-04-26T18:00:27.849Z"
   },
   {
    "duration": 34,
    "start_time": "2022-04-26T18:00:27.869Z"
   },
   {
    "duration": 25,
    "start_time": "2022-04-26T18:00:27.905Z"
   },
   {
    "duration": 13,
    "start_time": "2022-04-26T18:00:27.933Z"
   },
   {
    "duration": 43,
    "start_time": "2022-04-26T18:00:27.949Z"
   },
   {
    "duration": 47,
    "start_time": "2022-04-26T18:00:27.995Z"
   },
   {
    "duration": 17,
    "start_time": "2022-04-26T18:00:28.044Z"
   },
   {
    "duration": 40,
    "start_time": "2022-04-26T18:00:28.063Z"
   },
   {
    "duration": 21,
    "start_time": "2022-04-26T18:00:28.105Z"
   },
   {
    "duration": 14,
    "start_time": "2022-04-26T18:00:28.128Z"
   },
   {
    "duration": 12,
    "start_time": "2022-04-26T18:00:28.148Z"
   },
   {
    "duration": 29,
    "start_time": "2022-04-26T18:00:28.162Z"
   },
   {
    "duration": 24,
    "start_time": "2022-04-26T18:00:28.193Z"
   },
   {
    "duration": 303,
    "start_time": "2022-04-26T18:41:32.026Z"
   },
   {
    "duration": 56,
    "start_time": "2022-04-26T18:45:08.628Z"
   },
   {
    "duration": 144,
    "start_time": "2022-04-26T18:51:43.206Z"
   },
   {
    "duration": 6,
    "start_time": "2022-04-26T18:52:50.820Z"
   },
   {
    "duration": 9,
    "start_time": "2022-04-26T18:53:05.758Z"
   },
   {
    "duration": 678,
    "start_time": "2022-04-26T18:53:23.722Z"
   },
   {
    "duration": 345,
    "start_time": "2022-04-26T18:53:24.404Z"
   },
   {
    "duration": 54,
    "start_time": "2022-04-26T18:53:24.753Z"
   },
   {
    "duration": 42,
    "start_time": "2022-04-26T18:53:24.811Z"
   },
   {
    "duration": 35,
    "start_time": "2022-04-26T18:53:24.855Z"
   },
   {
    "duration": 16,
    "start_time": "2022-04-26T18:53:24.893Z"
   },
   {
    "duration": 13,
    "start_time": "2022-04-26T18:53:24.911Z"
   },
   {
    "duration": 57,
    "start_time": "2022-04-26T18:53:24.926Z"
   },
   {
    "duration": 28,
    "start_time": "2022-04-26T18:53:24.989Z"
   },
   {
    "duration": 36,
    "start_time": "2022-04-26T18:53:25.021Z"
   },
   {
    "duration": 141,
    "start_time": "2022-04-26T18:53:25.059Z"
   },
   {
    "duration": 137,
    "start_time": "2022-04-26T18:53:25.202Z"
   },
   {
    "duration": 119,
    "start_time": "2022-04-26T18:53:25.342Z"
   },
   {
    "duration": 29,
    "start_time": "2022-04-26T18:53:25.464Z"
   },
   {
    "duration": 57,
    "start_time": "2022-04-26T18:53:25.496Z"
   },
   {
    "duration": 32,
    "start_time": "2022-04-26T18:53:25.555Z"
   },
   {
    "duration": 318,
    "start_time": "2022-04-26T18:53:25.589Z"
   },
   {
    "duration": 56,
    "start_time": "2022-04-26T18:53:25.909Z"
   },
   {
    "duration": 58,
    "start_time": "2022-04-26T18:53:25.967Z"
   },
   {
    "duration": 66,
    "start_time": "2022-04-26T18:53:26.028Z"
   },
   {
    "duration": 46,
    "start_time": "2022-04-26T18:53:26.097Z"
   },
   {
    "duration": 70,
    "start_time": "2022-04-26T18:53:26.148Z"
   },
   {
    "duration": 36,
    "start_time": "2022-04-26T18:53:26.222Z"
   },
   {
    "duration": 36,
    "start_time": "2022-04-26T18:53:26.261Z"
   },
   {
    "duration": 12,
    "start_time": "2022-04-26T18:53:26.300Z"
   },
   {
    "duration": 9,
    "start_time": "2022-04-26T18:53:26.315Z"
   },
   {
    "duration": 63,
    "start_time": "2022-04-26T18:53:26.326Z"
   },
   {
    "duration": 28,
    "start_time": "2022-04-26T18:53:26.399Z"
   },
   {
    "duration": 32,
    "start_time": "2022-04-26T18:53:26.431Z"
   },
   {
    "duration": 26,
    "start_time": "2022-04-26T18:53:26.481Z"
   },
   {
    "duration": 26,
    "start_time": "2022-04-26T18:53:26.509Z"
   },
   {
    "duration": 62,
    "start_time": "2022-04-26T18:53:26.538Z"
   },
   {
    "duration": 18,
    "start_time": "2022-04-26T18:53:26.603Z"
   },
   {
    "duration": 9,
    "start_time": "2022-04-26T18:53:26.624Z"
   },
   {
    "duration": 72,
    "start_time": "2022-04-26T18:53:26.636Z"
   },
   {
    "duration": 23,
    "start_time": "2022-04-26T18:53:26.711Z"
   },
   {
    "duration": 52,
    "start_time": "2022-04-26T18:53:26.737Z"
   },
   {
    "duration": 23,
    "start_time": "2022-04-26T18:53:26.792Z"
   },
   {
    "duration": 17,
    "start_time": "2022-04-26T18:53:26.818Z"
   },
   {
    "duration": 9,
    "start_time": "2022-04-26T18:53:26.838Z"
   },
   {
    "duration": 40,
    "start_time": "2022-04-26T18:53:26.849Z"
   },
   {
    "duration": 15,
    "start_time": "2022-04-26T18:53:26.892Z"
   },
   {
    "duration": 75,
    "start_time": "2022-04-26T18:58:03.879Z"
   },
   {
    "duration": 88,
    "start_time": "2022-04-26T18:58:06.686Z"
   },
   {
    "duration": 555,
    "start_time": "2022-04-26T19:00:15.759Z"
   },
   {
    "duration": 214,
    "start_time": "2022-04-26T19:00:16.317Z"
   },
   {
    "duration": 28,
    "start_time": "2022-04-26T19:00:16.533Z"
   },
   {
    "duration": 60,
    "start_time": "2022-04-26T19:00:16.564Z"
   },
   {
    "duration": 7,
    "start_time": "2022-04-26T19:00:16.626Z"
   },
   {
    "duration": 21,
    "start_time": "2022-04-26T19:00:16.635Z"
   },
   {
    "duration": 30,
    "start_time": "2022-04-26T19:00:16.658Z"
   },
   {
    "duration": 46,
    "start_time": "2022-04-26T19:00:16.690Z"
   },
   {
    "duration": 49,
    "start_time": "2022-04-26T19:00:16.738Z"
   },
   {
    "duration": 42,
    "start_time": "2022-04-26T19:00:16.792Z"
   },
   {
    "duration": 126,
    "start_time": "2022-04-26T19:00:16.836Z"
   },
   {
    "duration": 143,
    "start_time": "2022-04-26T19:00:16.964Z"
   },
   {
    "duration": 119,
    "start_time": "2022-04-26T19:00:17.109Z"
   },
   {
    "duration": 14,
    "start_time": "2022-04-26T19:00:17.231Z"
   },
   {
    "duration": 83,
    "start_time": "2022-04-26T19:00:17.247Z"
   },
   {
    "duration": 4,
    "start_time": "2022-04-26T19:00:17.333Z"
   },
   {
    "duration": 94,
    "start_time": "2022-04-26T19:00:17.340Z"
   },
   {
    "duration": 78,
    "start_time": "2022-04-26T19:00:17.437Z"
   },
   {
    "duration": 38,
    "start_time": "2022-04-26T19:00:17.520Z"
   },
   {
    "duration": 52,
    "start_time": "2022-04-26T19:00:17.561Z"
   },
   {
    "duration": 29,
    "start_time": "2022-04-26T19:00:17.616Z"
   },
   {
    "duration": 61,
    "start_time": "2022-04-26T19:00:17.647Z"
   },
   {
    "duration": 24,
    "start_time": "2022-04-26T19:00:17.711Z"
   },
   {
    "duration": 9,
    "start_time": "2022-04-26T19:00:17.737Z"
   },
   {
    "duration": 11,
    "start_time": "2022-04-26T19:00:17.783Z"
   },
   {
    "duration": 17,
    "start_time": "2022-04-26T19:00:17.796Z"
   },
   {
    "duration": 31,
    "start_time": "2022-04-26T19:00:17.815Z"
   },
   {
    "duration": 47,
    "start_time": "2022-04-26T19:00:17.851Z"
   },
   {
    "duration": 23,
    "start_time": "2022-04-26T19:00:17.900Z"
   },
   {
    "duration": 23,
    "start_time": "2022-04-26T19:00:17.926Z"
   },
   {
    "duration": 25,
    "start_time": "2022-04-26T19:00:17.994Z"
   },
   {
    "duration": 32,
    "start_time": "2022-04-26T19:00:18.021Z"
   },
   {
    "duration": 41,
    "start_time": "2022-04-26T19:00:18.055Z"
   },
   {
    "duration": 11,
    "start_time": "2022-04-26T19:00:18.100Z"
   },
   {
    "duration": 30,
    "start_time": "2022-04-26T19:00:18.113Z"
   },
   {
    "duration": 47,
    "start_time": "2022-04-26T19:00:18.146Z"
   },
   {
    "duration": 25,
    "start_time": "2022-04-26T19:00:18.197Z"
   },
   {
    "duration": 16,
    "start_time": "2022-04-26T19:00:18.225Z"
   },
   {
    "duration": 40,
    "start_time": "2022-04-26T19:00:18.244Z"
   },
   {
    "duration": 7,
    "start_time": "2022-04-26T19:00:18.286Z"
   },
   {
    "duration": 21,
    "start_time": "2022-04-26T19:00:18.296Z"
   },
   {
    "duration": 13,
    "start_time": "2022-04-26T19:00:18.319Z"
   },
   {
    "duration": 51,
    "start_time": "2022-04-27T14:14:28.383Z"
   },
   {
    "duration": 417,
    "start_time": "2022-04-27T14:14:42.755Z"
   },
   {
    "duration": 187,
    "start_time": "2022-04-27T14:14:43.174Z"
   },
   {
    "duration": 18,
    "start_time": "2022-04-27T14:14:43.363Z"
   },
   {
    "duration": 32,
    "start_time": "2022-04-27T14:14:43.383Z"
   },
   {
    "duration": 6,
    "start_time": "2022-04-27T14:14:43.440Z"
   },
   {
    "duration": 26,
    "start_time": "2022-04-27T14:14:43.448Z"
   },
   {
    "duration": 10,
    "start_time": "2022-04-27T14:14:43.475Z"
   },
   {
    "duration": 44,
    "start_time": "2022-04-27T14:14:43.487Z"
   },
   {
    "duration": 29,
    "start_time": "2022-04-27T14:14:43.533Z"
   },
   {
    "duration": 34,
    "start_time": "2022-04-27T14:14:43.563Z"
   },
   {
    "duration": 82,
    "start_time": "2022-04-27T14:14:43.599Z"
   },
   {
    "duration": 101,
    "start_time": "2022-04-27T14:14:43.683Z"
   },
   {
    "duration": 82,
    "start_time": "2022-04-27T14:14:43.786Z"
   },
   {
    "duration": 11,
    "start_time": "2022-04-27T14:14:43.874Z"
   },
   {
    "duration": 71,
    "start_time": "2022-04-27T14:14:43.887Z"
   },
   {
    "duration": 4,
    "start_time": "2022-04-27T14:14:43.960Z"
   },
   {
    "duration": 52,
    "start_time": "2022-04-27T14:14:43.966Z"
   },
   {
    "duration": 29,
    "start_time": "2022-04-27T14:14:44.020Z"
   },
   {
    "duration": 46,
    "start_time": "2022-04-27T14:14:44.051Z"
   },
   {
    "duration": 40,
    "start_time": "2022-04-27T14:14:44.099Z"
   },
   {
    "duration": 34,
    "start_time": "2022-04-27T14:14:44.141Z"
   },
   {
    "duration": 20,
    "start_time": "2022-04-27T14:14:44.176Z"
   },
   {
    "duration": 49,
    "start_time": "2022-04-27T14:14:44.198Z"
   },
   {
    "duration": 30,
    "start_time": "2022-04-27T14:14:44.249Z"
   },
   {
    "duration": 6,
    "start_time": "2022-04-27T14:14:44.281Z"
   },
   {
    "duration": 12,
    "start_time": "2022-04-27T14:14:44.289Z"
   },
   {
    "duration": 4,
    "start_time": "2022-04-27T14:14:44.302Z"
   },
   {
    "duration": 47,
    "start_time": "2022-04-27T14:14:44.308Z"
   },
   {
    "duration": 17,
    "start_time": "2022-04-27T14:14:44.358Z"
   },
   {
    "duration": 16,
    "start_time": "2022-04-27T14:14:44.376Z"
   },
   {
    "duration": 48,
    "start_time": "2022-04-27T14:14:44.394Z"
   },
   {
    "duration": 24,
    "start_time": "2022-04-27T14:14:44.444Z"
   },
   {
    "duration": 28,
    "start_time": "2022-04-27T14:14:44.470Z"
   },
   {
    "duration": 10,
    "start_time": "2022-04-27T14:14:44.500Z"
   },
   {
    "duration": 29,
    "start_time": "2022-04-27T14:14:44.512Z"
   },
   {
    "duration": 41,
    "start_time": "2022-04-27T14:14:44.543Z"
   },
   {
    "duration": 22,
    "start_time": "2022-04-27T14:14:44.586Z"
   },
   {
    "duration": 32,
    "start_time": "2022-04-27T14:14:44.610Z"
   },
   {
    "duration": 27,
    "start_time": "2022-04-27T14:14:44.644Z"
   },
   {
    "duration": 13,
    "start_time": "2022-04-27T14:14:44.674Z"
   },
   {
    "duration": 9,
    "start_time": "2022-04-27T14:14:44.693Z"
   },
   {
    "duration": 15,
    "start_time": "2022-04-27T14:14:44.703Z"
   },
   {
    "duration": 13,
    "start_time": "2022-04-27T14:14:44.719Z"
   },
   {
    "duration": 10,
    "start_time": "2022-04-27T14:14:57.851Z"
   },
   {
    "duration": 51,
    "start_time": "2022-04-27T14:14:59.899Z"
   },
   {
    "duration": 102,
    "start_time": "2022-04-27T14:15:03.847Z"
   },
   {
    "duration": 53,
    "start_time": "2022-04-27T14:15:05.230Z"
   }
  ],
  "colab": {
   "collapsed_sections": [
    "E0vqbgi9ay0H",
    "VUC88oWjTJw2"
   ],
   "name": "yandex_music_project.ipynb",
   "provenance": []
  },
  "kernelspec": {
   "display_name": "Python 3 (ipykernel)",
   "language": "python",
   "name": "python3"
  },
  "language_info": {
   "codemirror_mode": {
    "name": "ipython",
    "version": 3
   },
   "file_extension": ".py",
   "mimetype": "text/x-python",
   "name": "python",
   "nbconvert_exporter": "python",
   "pygments_lexer": "ipython3",
   "version": "3.9.7"
  },
  "toc": {
   "base_numbering": 1,
   "nav_menu": {},
   "number_sections": true,
   "sideBar": true,
   "skip_h1_title": true,
   "title_cell": "Содержание",
   "title_sidebar": "Contents",
   "toc_cell": true,
   "toc_position": {},
   "toc_section_display": true,
   "toc_window_display": true
  }
 },
 "nbformat": 4,
 "nbformat_minor": 1
}
