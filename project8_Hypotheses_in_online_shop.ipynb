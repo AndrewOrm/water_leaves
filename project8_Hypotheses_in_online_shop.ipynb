{
 "cells": [
  {
   "cell_type": "markdown",
   "id": "08214943",
   "metadata": {
    "toc": true
   },
   "source": [
    "<h1>Содержание<span class=\"tocSkip\"></span></h1>\n",
    "<div class=\"toc\"><ul class=\"toc-item\"><li><span><a href=\"#Как-увеличить-выручку-интернет-магазина.\n",
    "---------------------------------------------------Описание-проекта\" data-toc-modified-id=\"Как-увеличить-выручку-интернет-магазина.\n",
    "---------------------------------------------------Описание-проекта-1\"><span class=\"toc-item-num\">1&nbsp;&nbsp;</span>Как увеличить выручку интернет-магазина.\n",
    "                                                   Описание проекта</a></span></li><li><span><a href=\"#Обзор-и-предобработка-данных-и-гипотез\" data-toc-modified-id=\"Обзор-и-предобработка-данных-и-гипотез-2\"><span class=\"toc-item-num\">2&nbsp;&nbsp;</span>Обзор и предобработка данных и гипотез</a></span><ul class=\"toc-item\"><li><span><a href=\"#Обзор-данных-и-их-трансформация\" data-toc-modified-id=\"Обзор-данных-и-их-трансформация-2.1\"><span class=\"toc-item-num\">2.1&nbsp;&nbsp;</span>Обзор данных и их трансформация</a></span></li><li><span><a href=\"#Приоритизация-гипотез-с-помощью-фреймворка-ICE\" data-toc-modified-id=\"Приоритизация-гипотез-с-помощью-фреймворка-ICE-2.2\"><span class=\"toc-item-num\">2.2&nbsp;&nbsp;</span>Приоритизация гипотез с помощью фреймворка ICE</a></span></li><li><span><a href=\"#Приоритизация-гипотез-с-помощью-фреймворка-RICE\" data-toc-modified-id=\"Приоритизация-гипотез-с-помощью-фреймворка-RICE-2.3\"><span class=\"toc-item-num\">2.3&nbsp;&nbsp;</span>Приоритизация гипотез с помощью фреймворка RICE</a></span></li><li><span><a href=\"#Общий-вывод\" data-toc-modified-id=\"Общий-вывод-2.4\"><span class=\"toc-item-num\">2.4&nbsp;&nbsp;</span>Общий вывод</a></span></li></ul></li><li><span><a href=\"#Исследование-групповых-данных\" data-toc-modified-id=\"Исследование-групповых-данных-3\"><span class=\"toc-item-num\">3&nbsp;&nbsp;</span>Исследование групповых данных</a></span><ul class=\"toc-item\"><li><span><a href=\"#График-кумулятивной-выручки-по-группам\" data-toc-modified-id=\"График-кумулятивной-выручки-по-группам-3.1\"><span class=\"toc-item-num\">3.1&nbsp;&nbsp;</span>График кумулятивной выручки по группам</a></span></li><li><span><a href=\"#График-кумулятивного-среднего-чека-по-группам\" data-toc-modified-id=\"График-кумулятивного-среднего-чека-по-группам-3.2\"><span class=\"toc-item-num\">3.2&nbsp;&nbsp;</span>График кумулятивного среднего чека по группам</a></span></li><li><span><a href=\"#График-относительного-изменения-кумулятивного-среднего-чека-группы-B-к-группе-A\" data-toc-modified-id=\"График-относительного-изменения-кумулятивного-среднего-чека-группы-B-к-группе-A-3.3\"><span class=\"toc-item-num\">3.3&nbsp;&nbsp;</span>График относительного изменения кумулятивного среднего чека группы B к группе A</a></span></li><li><span><a href=\"#График-кумулятивного-среднего-количества-заказов-по-группам\" data-toc-modified-id=\"График-кумулятивного-среднего-количества-заказов-по-группам-3.4\"><span class=\"toc-item-num\">3.4&nbsp;&nbsp;</span>График кумулятивного среднего количества заказов по группам</a></span></li><li><span><a href=\"#График-относительного-изменения-кумулятивного-среднего-количества-заказов-группы-B-к-группе-A\" data-toc-modified-id=\"График-относительного-изменения-кумулятивного-среднего-количества-заказов-группы-B-к-группе-A-3.5\"><span class=\"toc-item-num\">3.5&nbsp;&nbsp;</span>График относительного изменения кумулятивного среднего количества заказов группы B к группе A</a></span></li><li><span><a href=\"#Точечный-график-количества-заказов-по-пользователям\" data-toc-modified-id=\"Точечный-график-количества-заказов-по-пользователям-3.6\"><span class=\"toc-item-num\">3.6&nbsp;&nbsp;</span>Точечный график количества заказов по пользователям</a></span></li><li><span><a href=\"#95-й-и-99-й-перцентили-количества-заказов-на-пользователя.-Выбор-границы-для-определения-аномальных-пользователей\" data-toc-modified-id=\"95-й-и-99-й-перцентили-количества-заказов-на-пользователя.-Выбор-границы-для-определения-аномальных-пользователей-3.7\"><span class=\"toc-item-num\">3.7&nbsp;&nbsp;</span>95-й и 99-й перцентили количества заказов на пользователя. Выбор границы для определения аномальных пользователей</a></span></li><li><span><a href=\"#Точечный-график-стоимостей-заказов\" data-toc-modified-id=\"Точечный-график-стоимостей-заказов-3.8\"><span class=\"toc-item-num\">3.8&nbsp;&nbsp;</span>Точечный график стоимостей заказов</a></span></li><li><span><a href=\"#95-й-и-99-й-перцентили-стоимости-заказов.-Выбор-границы-для-определения-аномальных-заказов\" data-toc-modified-id=\"95-й-и-99-й-перцентили-стоимости-заказов.-Выбор-границы-для-определения-аномальных-заказов-3.9\"><span class=\"toc-item-num\">3.9&nbsp;&nbsp;</span>95-й и 99-й перцентили стоимости заказов. Выбор границы для определения аномальных заказов</a></span></li></ul></li><li><span><a href=\"#A/B-тест\" data-toc-modified-id=\"A/B-тест-4\"><span class=\"toc-item-num\">4&nbsp;&nbsp;</span>A/B-тест</a></span><ul class=\"toc-item\"><li><span><a href=\"#Статистическую-значимость-различий-в-среднем-количестве-заказов-между-группами-по-«сырым»-данным\" data-toc-modified-id=\"Статистическую-значимость-различий-в-среднем-количестве-заказов-между-группами-по-«сырым»-данным-4.1\"><span class=\"toc-item-num\">4.1&nbsp;&nbsp;</span>Статистическую значимость различий в среднем количестве заказов между группами по «сырым» данным</a></span></li><li><span><a href=\"#Статистическую-значимость-различий-в-среднем-чеке-заказа-между-группами-по-«сырым»-данным\" data-toc-modified-id=\"Статистическую-значимость-различий-в-среднем-чеке-заказа-между-группами-по-«сырым»-данным-4.2\"><span class=\"toc-item-num\">4.2&nbsp;&nbsp;</span>Статистическую значимость различий в среднем чеке заказа между группами по «сырым» данным</a></span></li><li><span><a href=\"#Статистическую-значимость-различий-в-среднем-количестве-заказов-между-группами-по-«очищенным»-данным\" data-toc-modified-id=\"Статистическую-значимость-различий-в-среднем-количестве-заказов-между-группами-по-«очищенным»-данным-4.3\"><span class=\"toc-item-num\">4.3&nbsp;&nbsp;</span>Статистическую значимость различий в среднем количестве заказов между группами по «очищенным» данным</a></span></li><li><span><a href=\"#Статистическую-значимость-различий-в-среднем-чеке-заказа-между-группами-по-«очищенным»-данным\" data-toc-modified-id=\"Статистическую-значимость-различий-в-среднем-чеке-заказа-между-группами-по-«очищенным»-данным-4.4\"><span class=\"toc-item-num\">4.4&nbsp;&nbsp;</span>Статистическую значимость различий в среднем чеке заказа между группами по «очищенным» данным</a></span></li><li><span><a href=\"#Итоговое-решение-по-результатам-теста\" data-toc-modified-id=\"Итоговое-решение-по-результатам-теста-4.5\"><span class=\"toc-item-num\">4.5&nbsp;&nbsp;</span>Итоговое решение по результатам теста</a></span></li></ul></li></ul></div>"
   ]
  },
  {
   "cell_type": "markdown",
   "id": "68093753",
   "metadata": {},
   "source": [
    "<h1>Как увеличить выручку интернет-магазина.\n",
    "                                                   Описание проекта"
   ]
  },
  {
   "cell_type": "markdown",
   "id": "2ae90242",
   "metadata": {},
   "source": [
    "Вместе с отделом маркетинга подготовлен список гипотез для увеличения выручки интернет-магазина. Осталось приоритизировать гипотезы, запустить A/B-тест и проанализировать результаты.\n",
    "\n",
    "Есть следующие данные:\n",
    "* список гипотез с их оценками,\n",
    "* данные о заказах пользователей,\n",
    "* данные о пользователях.\n",
    "\n",
    "Необходимо провести А/В-тест и выполнить следующие задачи:\n",
    "* Построить график кумулятивной выручки по группам. Сделать выводы и предположения.\n",
    "* Построить график кумулятивного среднего чека по группам. Сделать выводы и предположения.\n",
    "* Построить график относительного изменения кумулятивного среднего чека группы B к группе A. Сделать выводы и предположения.\n",
    "* Построить график кумулятивного среднего количества заказов по группам. Сделать выводы и предположения.\n",
    "* Построить график относительного изменения кумулятивного среднего количества заказов группы B к группе A. Сделать выводы и предположения.\n",
    "* Построить точечный график количества заказов по пользователям. Сделать выводы и предположения.\n",
    "* Посчитать 95-й и 99-й перцентили количества заказов на пользователя. Выбрать границу аномальных пользователей.\n",
    "* Построить точечный график стоимостей заказов. Сделать выводы и предположения.\n",
    "* Посчитать 95-й и 99-й перцентили стоимости заказов. Выбрать границу для определения аномальных заказов.\n",
    "* Посчитать статистическую значимость различий в среднем количестве заказов между группами по «сырым» данным. Сделать выводы и предположения.\n",
    "* Посчитать статистическую значимость различий в среднем чеке заказа между группами по «сырым» данным. Сделать выводы и предположения.\n",
    "* Посчитать статистическую значимость различий в среднем количестве заказов между группами по «очищенным» данным. Сделать выводы и предположения.\n",
    "* Посчитать статистическую значимость различий в среднем чеке заказа между группами по «очищенным» данным. Сделать выводы и предположения.\n",
    "* Принять решение по результатам теста и аргументировать его. Варианты решений: 1. Остановить тест, зафиксировать победу одной из групп. 2. Остановить тест, зафиксировать отсутствие различий между группами. 3. Продолжить тест."
   ]
  },
  {
   "cell_type": "markdown",
   "id": "3bbc4779",
   "metadata": {},
   "source": [
    "# Обзор и предобработка данных и гипотез"
   ]
  },
  {
   "cell_type": "markdown",
   "id": "5c1a4efe",
   "metadata": {},
   "source": [
    "## Обзор данных и их трансформация"
   ]
  },
  {
   "cell_type": "markdown",
   "id": "b0afa254",
   "metadata": {},
   "source": [
    "Прежде всего нужно взглянуть на исходные данные."
   ]
  },
  {
   "cell_type": "markdown",
   "id": "22553c3b",
   "metadata": {},
   "source": [
    "Импортируем `pandas` и другие необходимые библиотеки."
   ]
  },
  {
   "cell_type": "code",
   "execution_count": 1,
   "id": "e830e2ad",
   "metadata": {},
   "outputs": [],
   "source": [
    "# импорт библиотек\n",
    "import pandas as pd\n",
    "import scipy.stats as stats\n",
    "import numpy as np\n",
    "import datetime as dt\n",
    "from matplotlib import pyplot as plt\n",
    "from pandas.plotting import register_matplotlib_converters\n",
    "import warnings\n",
    "register_matplotlib_converters()"
   ]
  },
  {
   "cell_type": "markdown",
   "id": "403f5ee5",
   "metadata": {},
   "source": [
    "Прочитаем файл с гипотезами `hypothesis.csv` и сохраним его в переменной `hypothesis`:"
   ]
  },
  {
   "cell_type": "code",
   "execution_count": 2,
   "id": "e1ae699f",
   "metadata": {},
   "outputs": [],
   "source": [
    "# чтение файла с гипотезами и сохранение в hypothesis\n",
    "try:\n",
    "    hypothesis = pd.read_csv('hypothesis.csv')\n",
    "except:\n",
    "    hypothesis = pd.read_csv('hypothesis.csv')"
   ]
  },
  {
   "cell_type": "markdown",
   "id": "02db3708",
   "metadata": {},
   "source": [
    "Выведем на экран первые десять строк таблицы:"
   ]
  },
  {
   "cell_type": "code",
   "execution_count": 3,
   "id": "543f48ae",
   "metadata": {},
   "outputs": [
    {
     "data": {
      "text/html": [
       "<div>\n",
       "<style scoped>\n",
       "    .dataframe tbody tr th:only-of-type {\n",
       "        vertical-align: middle;\n",
       "    }\n",
       "\n",
       "    .dataframe tbody tr th {\n",
       "        vertical-align: top;\n",
       "    }\n",
       "\n",
       "    .dataframe thead th {\n",
       "        text-align: right;\n",
       "    }\n",
       "</style>\n",
       "<table border=\"1\" class=\"dataframe\">\n",
       "  <thead>\n",
       "    <tr style=\"text-align: right;\">\n",
       "      <th></th>\n",
       "      <th>Hypothesis</th>\n",
       "      <th>Reach</th>\n",
       "      <th>Impact</th>\n",
       "      <th>Confidence</th>\n",
       "      <th>Efforts</th>\n",
       "    </tr>\n",
       "  </thead>\n",
       "  <tbody>\n",
       "    <tr>\n",
       "      <th>0</th>\n",
       "      <td>Добавить два новых канала привлечения трафика, что позволит привлекать на 30% больше пользователей</td>\n",
       "      <td>3</td>\n",
       "      <td>10</td>\n",
       "      <td>8</td>\n",
       "      <td>6</td>\n",
       "    </tr>\n",
       "    <tr>\n",
       "      <th>1</th>\n",
       "      <td>Запустить собственную службу доставки, что сократит срок доставки заказов</td>\n",
       "      <td>2</td>\n",
       "      <td>5</td>\n",
       "      <td>4</td>\n",
       "      <td>10</td>\n",
       "    </tr>\n",
       "    <tr>\n",
       "      <th>2</th>\n",
       "      <td>Добавить блоки рекомендаций товаров на сайт интернет магазина, чтобы повысить конверсию и средний чек заказа</td>\n",
       "      <td>8</td>\n",
       "      <td>3</td>\n",
       "      <td>7</td>\n",
       "      <td>3</td>\n",
       "    </tr>\n",
       "    <tr>\n",
       "      <th>3</th>\n",
       "      <td>Изменить структура категорий, что увеличит конверсию, т.к. пользователи быстрее найдут нужный товар</td>\n",
       "      <td>8</td>\n",
       "      <td>3</td>\n",
       "      <td>3</td>\n",
       "      <td>8</td>\n",
       "    </tr>\n",
       "    <tr>\n",
       "      <th>4</th>\n",
       "      <td>Изменить цвет фона главной страницы, чтобы увеличить вовлеченность пользователей</td>\n",
       "      <td>3</td>\n",
       "      <td>1</td>\n",
       "      <td>1</td>\n",
       "      <td>1</td>\n",
       "    </tr>\n",
       "    <tr>\n",
       "      <th>5</th>\n",
       "      <td>Добавить страницу отзывов клиентов о магазине, что позволит увеличить количество заказов</td>\n",
       "      <td>3</td>\n",
       "      <td>2</td>\n",
       "      <td>2</td>\n",
       "      <td>3</td>\n",
       "    </tr>\n",
       "    <tr>\n",
       "      <th>6</th>\n",
       "      <td>Показать на главной странице баннеры с актуальными акциями и распродажами, чтобы увеличить конверсию</td>\n",
       "      <td>5</td>\n",
       "      <td>3</td>\n",
       "      <td>8</td>\n",
       "      <td>3</td>\n",
       "    </tr>\n",
       "    <tr>\n",
       "      <th>7</th>\n",
       "      <td>Добавить форму подписки на все основные страницы, чтобы собрать базу клиентов для email-рассылок</td>\n",
       "      <td>10</td>\n",
       "      <td>7</td>\n",
       "      <td>8</td>\n",
       "      <td>5</td>\n",
       "    </tr>\n",
       "    <tr>\n",
       "      <th>8</th>\n",
       "      <td>Запустить акцию, дающую скидку на товар в день рождения</td>\n",
       "      <td>1</td>\n",
       "      <td>9</td>\n",
       "      <td>9</td>\n",
       "      <td>5</td>\n",
       "    </tr>\n",
       "  </tbody>\n",
       "</table>\n",
       "</div>"
      ],
      "text/plain": [
       "                                                                                                     Hypothesis  \\\n",
       "0            Добавить два новых канала привлечения трафика, что позволит привлекать на 30% больше пользователей   \n",
       "1                                     Запустить собственную службу доставки, что сократит срок доставки заказов   \n",
       "2  Добавить блоки рекомендаций товаров на сайт интернет магазина, чтобы повысить конверсию и средний чек заказа   \n",
       "3           Изменить структура категорий, что увеличит конверсию, т.к. пользователи быстрее найдут нужный товар   \n",
       "4                              Изменить цвет фона главной страницы, чтобы увеличить вовлеченность пользователей   \n",
       "5                      Добавить страницу отзывов клиентов о магазине, что позволит увеличить количество заказов   \n",
       "6          Показать на главной странице баннеры с актуальными акциями и распродажами, чтобы увеличить конверсию   \n",
       "7              Добавить форму подписки на все основные страницы, чтобы собрать базу клиентов для email-рассылок   \n",
       "8                                                       Запустить акцию, дающую скидку на товар в день рождения   \n",
       "\n",
       "   Reach  Impact  Confidence  Efforts  \n",
       "0      3      10           8        6  \n",
       "1      2       5           4       10  \n",
       "2      8       3           7        3  \n",
       "3      8       3           3        8  \n",
       "4      3       1           1        1  \n",
       "5      3       2           2        3  \n",
       "6      5       3           8        3  \n",
       "7     10       7           8        5  \n",
       "8      1       9           9        5  "
      ]
     },
     "execution_count": 3,
     "metadata": {},
     "output_type": "execute_result"
    }
   ],
   "source": [
    "# получение первых 10 строк таблицы hypothesis\n",
    "pd.set_option('display.max_colwidth', None) \n",
    "hypothesis.head(10)"
   ]
  },
  {
   "cell_type": "markdown",
   "id": "e0452c1d",
   "metadata": {},
   "source": [
    "Получим общую информацию о таблице:"
   ]
  },
  {
   "cell_type": "code",
   "execution_count": 4,
   "id": "efc596ae",
   "metadata": {},
   "outputs": [
    {
     "name": "stdout",
     "output_type": "stream",
     "text": [
      "<class 'pandas.core.frame.DataFrame'>\n",
      "RangeIndex: 9 entries, 0 to 8\n",
      "Data columns (total 5 columns):\n",
      " #   Column      Non-Null Count  Dtype \n",
      "---  ------      --------------  ----- \n",
      " 0   Hypothesis  9 non-null      object\n",
      " 1   Reach       9 non-null      int64 \n",
      " 2   Impact      9 non-null      int64 \n",
      " 3   Confidence  9 non-null      int64 \n",
      " 4   Efforts     9 non-null      int64 \n",
      "dtypes: int64(4), object(1)\n",
      "memory usage: 488.0+ bytes\n"
     ]
    }
   ],
   "source": [
    "# получение общей информации о данных в таблице hypothesis\n",
    "hypothesis.info()"
   ]
  },
  {
   "cell_type": "markdown",
   "id": "27832be8",
   "metadata": {},
   "source": [
    "В таблице 5 столбцов:\n",
    "\n",
    "* `Hypothesis` — краткое описание уникальной гипотезы,\n",
    "* `Reach` — охват пользователей по 10-балльной шкале,\n",
    "* `Impact` — влияние на пользователей по 10-балльной шкале,\n",
    "* `Confidence` —  уверенность в гипотезе по 10-балльной шкале,\n",
    "* `Efforts` — затраты ресурсов на проверку гипотезы по 10-балльной шкале.\n",
    "\n",
    "Все столбцы, кроме `Hypothesis`, имеют числовой тип данных (целое число).\n",
    "\n",
    "Дубликатов гипотез нет. Других аномалий тоже.\n",
    "\n",
    "В названиях столбцов есть нарушение стиля, а именно, верхний регистр.\n",
    "Исправим это."
   ]
  },
  {
   "cell_type": "code",
   "execution_count": 5,
   "id": "0013d254",
   "metadata": {},
   "outputs": [],
   "source": [
    "# приведём названия столбцов к нижнему регистру\n",
    "hypothesis.columns = map(str.lower, hypothesis.columns)"
   ]
  },
  {
   "cell_type": "markdown",
   "id": "5d2b62a9",
   "metadata": {},
   "source": [
    "Прочитаем теперь файл с заказами `orders.csv` и сохраним его в переменной `orders`:"
   ]
  },
  {
   "cell_type": "code",
   "execution_count": 6,
   "id": "b13b477b",
   "metadata": {},
   "outputs": [],
   "source": [
    "# чтение файла с заказами и сохранение в orders\n",
    "try:\n",
    "    orders = pd.read_csv('orders.csv')\n",
    "except:\n",
    "    orders = pd.read_csv('orders.csv')"
   ]
  },
  {
   "cell_type": "markdown",
   "id": "68660a8e",
   "metadata": {},
   "source": [
    "Выведем на экран первые десять строк таблицы:"
   ]
  },
  {
   "cell_type": "code",
   "execution_count": 7,
   "id": "6c07d7c8",
   "metadata": {},
   "outputs": [
    {
     "data": {
      "text/html": [
       "<div>\n",
       "<style scoped>\n",
       "    .dataframe tbody tr th:only-of-type {\n",
       "        vertical-align: middle;\n",
       "    }\n",
       "\n",
       "    .dataframe tbody tr th {\n",
       "        vertical-align: top;\n",
       "    }\n",
       "\n",
       "    .dataframe thead th {\n",
       "        text-align: right;\n",
       "    }\n",
       "</style>\n",
       "<table border=\"1\" class=\"dataframe\">\n",
       "  <thead>\n",
       "    <tr style=\"text-align: right;\">\n",
       "      <th></th>\n",
       "      <th>transactionId</th>\n",
       "      <th>visitorId</th>\n",
       "      <th>date</th>\n",
       "      <th>revenue</th>\n",
       "      <th>group</th>\n",
       "    </tr>\n",
       "  </thead>\n",
       "  <tbody>\n",
       "    <tr>\n",
       "      <th>0</th>\n",
       "      <td>3667963787</td>\n",
       "      <td>3312258926</td>\n",
       "      <td>2019-08-15</td>\n",
       "      <td>1650</td>\n",
       "      <td>B</td>\n",
       "    </tr>\n",
       "    <tr>\n",
       "      <th>1</th>\n",
       "      <td>2804400009</td>\n",
       "      <td>3642806036</td>\n",
       "      <td>2019-08-15</td>\n",
       "      <td>730</td>\n",
       "      <td>B</td>\n",
       "    </tr>\n",
       "    <tr>\n",
       "      <th>2</th>\n",
       "      <td>2961555356</td>\n",
       "      <td>4069496402</td>\n",
       "      <td>2019-08-15</td>\n",
       "      <td>400</td>\n",
       "      <td>A</td>\n",
       "    </tr>\n",
       "    <tr>\n",
       "      <th>3</th>\n",
       "      <td>3797467345</td>\n",
       "      <td>1196621759</td>\n",
       "      <td>2019-08-15</td>\n",
       "      <td>9759</td>\n",
       "      <td>B</td>\n",
       "    </tr>\n",
       "    <tr>\n",
       "      <th>4</th>\n",
       "      <td>2282983706</td>\n",
       "      <td>2322279887</td>\n",
       "      <td>2019-08-15</td>\n",
       "      <td>2308</td>\n",
       "      <td>B</td>\n",
       "    </tr>\n",
       "    <tr>\n",
       "      <th>5</th>\n",
       "      <td>182168103</td>\n",
       "      <td>935554773</td>\n",
       "      <td>2019-08-15</td>\n",
       "      <td>2210</td>\n",
       "      <td>B</td>\n",
       "    </tr>\n",
       "    <tr>\n",
       "      <th>6</th>\n",
       "      <td>398296753</td>\n",
       "      <td>2900797465</td>\n",
       "      <td>2019-08-15</td>\n",
       "      <td>1860</td>\n",
       "      <td>B</td>\n",
       "    </tr>\n",
       "    <tr>\n",
       "      <th>7</th>\n",
       "      <td>2626614568</td>\n",
       "      <td>78758296</td>\n",
       "      <td>2019-08-15</td>\n",
       "      <td>1044</td>\n",
       "      <td>A</td>\n",
       "    </tr>\n",
       "    <tr>\n",
       "      <th>8</th>\n",
       "      <td>1576988021</td>\n",
       "      <td>295230930</td>\n",
       "      <td>2019-08-15</td>\n",
       "      <td>13710</td>\n",
       "      <td>A</td>\n",
       "    </tr>\n",
       "    <tr>\n",
       "      <th>9</th>\n",
       "      <td>1506739906</td>\n",
       "      <td>1882260405</td>\n",
       "      <td>2019-08-15</td>\n",
       "      <td>1855</td>\n",
       "      <td>B</td>\n",
       "    </tr>\n",
       "  </tbody>\n",
       "</table>\n",
       "</div>"
      ],
      "text/plain": [
       "   transactionId   visitorId        date  revenue group\n",
       "0     3667963787  3312258926  2019-08-15     1650     B\n",
       "1     2804400009  3642806036  2019-08-15      730     B\n",
       "2     2961555356  4069496402  2019-08-15      400     A\n",
       "3     3797467345  1196621759  2019-08-15     9759     B\n",
       "4     2282983706  2322279887  2019-08-15     2308     B\n",
       "5      182168103   935554773  2019-08-15     2210     B\n",
       "6      398296753  2900797465  2019-08-15     1860     B\n",
       "7     2626614568    78758296  2019-08-15     1044     A\n",
       "8     1576988021   295230930  2019-08-15    13710     A\n",
       "9     1506739906  1882260405  2019-08-15     1855     B"
      ]
     },
     "execution_count": 7,
     "metadata": {},
     "output_type": "execute_result"
    }
   ],
   "source": [
    "# получение первых 10 строк таблицы orders\n",
    "orders.head(10)"
   ]
  },
  {
   "cell_type": "markdown",
   "id": "4ffbf7f5",
   "metadata": {},
   "source": [
    "Получим общую информацию о таблице и информацию о её числовых значениях:"
   ]
  },
  {
   "cell_type": "code",
   "execution_count": 8,
   "id": "f8c8b1fd",
   "metadata": {
    "scrolled": true
   },
   "outputs": [
    {
     "name": "stdout",
     "output_type": "stream",
     "text": [
      "<class 'pandas.core.frame.DataFrame'>\n",
      "RangeIndex: 1197 entries, 0 to 1196\n",
      "Data columns (total 5 columns):\n",
      " #   Column         Non-Null Count  Dtype \n",
      "---  ------         --------------  ----- \n",
      " 0   transactionId  1197 non-null   int64 \n",
      " 1   visitorId      1197 non-null   int64 \n",
      " 2   date           1197 non-null   object\n",
      " 3   revenue        1197 non-null   int64 \n",
      " 4   group          1197 non-null   object\n",
      "dtypes: int64(3), object(2)\n",
      "memory usage: 46.9+ KB\n"
     ]
    }
   ],
   "source": [
    "# получение общей информации о данных в таблице orders\n",
    "orders.info()"
   ]
  },
  {
   "cell_type": "code",
   "execution_count": 9,
   "id": "8103e90f",
   "metadata": {
    "scrolled": true
   },
   "outputs": [
    {
     "data": {
      "text/html": [
       "<div>\n",
       "<style scoped>\n",
       "    .dataframe tbody tr th:only-of-type {\n",
       "        vertical-align: middle;\n",
       "    }\n",
       "\n",
       "    .dataframe tbody tr th {\n",
       "        vertical-align: top;\n",
       "    }\n",
       "\n",
       "    .dataframe thead th {\n",
       "        text-align: right;\n",
       "    }\n",
       "</style>\n",
       "<table border=\"1\" class=\"dataframe\">\n",
       "  <thead>\n",
       "    <tr style=\"text-align: right;\">\n",
       "      <th></th>\n",
       "      <th>transactionId</th>\n",
       "      <th>visitorId</th>\n",
       "      <th>revenue</th>\n",
       "    </tr>\n",
       "  </thead>\n",
       "  <tbody>\n",
       "    <tr>\n",
       "      <th>count</th>\n",
       "      <td>1.197000e+03</td>\n",
       "      <td>1.197000e+03</td>\n",
       "      <td>1.197000e+03</td>\n",
       "    </tr>\n",
       "    <tr>\n",
       "      <th>mean</th>\n",
       "      <td>2.155621e+09</td>\n",
       "      <td>2.165960e+09</td>\n",
       "      <td>8.348006e+03</td>\n",
       "    </tr>\n",
       "    <tr>\n",
       "      <th>std</th>\n",
       "      <td>1.229085e+09</td>\n",
       "      <td>1.236014e+09</td>\n",
       "      <td>3.919113e+04</td>\n",
       "    </tr>\n",
       "    <tr>\n",
       "      <th>min</th>\n",
       "      <td>1.062393e+06</td>\n",
       "      <td>5.114589e+06</td>\n",
       "      <td>5.000000e+01</td>\n",
       "    </tr>\n",
       "    <tr>\n",
       "      <th>25%</th>\n",
       "      <td>1.166776e+09</td>\n",
       "      <td>1.111826e+09</td>\n",
       "      <td>1.220000e+03</td>\n",
       "    </tr>\n",
       "    <tr>\n",
       "      <th>50%</th>\n",
       "      <td>2.145194e+09</td>\n",
       "      <td>2.217985e+09</td>\n",
       "      <td>2.978000e+03</td>\n",
       "    </tr>\n",
       "    <tr>\n",
       "      <th>75%</th>\n",
       "      <td>3.237740e+09</td>\n",
       "      <td>3.177606e+09</td>\n",
       "      <td>8.290000e+03</td>\n",
       "    </tr>\n",
       "    <tr>\n",
       "      <th>max</th>\n",
       "      <td>4.293856e+09</td>\n",
       "      <td>4.283872e+09</td>\n",
       "      <td>1.294500e+06</td>\n",
       "    </tr>\n",
       "  </tbody>\n",
       "</table>\n",
       "</div>"
      ],
      "text/plain": [
       "       transactionId     visitorId       revenue\n",
       "count   1.197000e+03  1.197000e+03  1.197000e+03\n",
       "mean    2.155621e+09  2.165960e+09  8.348006e+03\n",
       "std     1.229085e+09  1.236014e+09  3.919113e+04\n",
       "min     1.062393e+06  5.114589e+06  5.000000e+01\n",
       "25%     1.166776e+09  1.111826e+09  1.220000e+03\n",
       "50%     2.145194e+09  2.217985e+09  2.978000e+03\n",
       "75%     3.237740e+09  3.177606e+09  8.290000e+03\n",
       "max     4.293856e+09  4.283872e+09  1.294500e+06"
      ]
     },
     "execution_count": 9,
     "metadata": {},
     "output_type": "execute_result"
    }
   ],
   "source": [
    "# оценка числовых переменных таблицы orders\n",
    "orders.describe()"
   ]
  },
  {
   "cell_type": "markdown",
   "id": "595c5fd4",
   "metadata": {},
   "source": [
    "Проверим, какой интервал данных вошёл в столбец `date`. Уточним также, нет ли в таблице дубликатов и пропусков."
   ]
  },
  {
   "cell_type": "code",
   "execution_count": 10,
   "id": "54125f0b",
   "metadata": {},
   "outputs": [
    {
     "data": {
      "text/plain": [
       "['2019-08-01',\n",
       " '2019-08-02',\n",
       " '2019-08-03',\n",
       " '2019-08-04',\n",
       " '2019-08-05',\n",
       " '2019-08-06',\n",
       " '2019-08-07',\n",
       " '2019-08-08',\n",
       " '2019-08-09',\n",
       " '2019-08-10',\n",
       " '2019-08-11',\n",
       " '2019-08-12',\n",
       " '2019-08-13',\n",
       " '2019-08-14',\n",
       " '2019-08-15',\n",
       " '2019-08-16',\n",
       " '2019-08-17',\n",
       " '2019-08-18',\n",
       " '2019-08-19',\n",
       " '2019-08-20',\n",
       " '2019-08-21',\n",
       " '2019-08-22',\n",
       " '2019-08-23',\n",
       " '2019-08-24',\n",
       " '2019-08-25',\n",
       " '2019-08-26',\n",
       " '2019-08-27',\n",
       " '2019-08-28',\n",
       " '2019-08-29',\n",
       " '2019-08-30',\n",
       " '2019-08-31']"
      ]
     },
     "execution_count": 10,
     "metadata": {},
     "output_type": "execute_result"
    }
   ],
   "source": [
    "# вывод на экран уникальных значений столбца date\n",
    "sorted(orders['date'].unique())"
   ]
  },
  {
   "cell_type": "code",
   "execution_count": 11,
   "id": "1120d691",
   "metadata": {},
   "outputs": [
    {
     "data": {
      "text/plain": [
       "0"
      ]
     },
     "execution_count": 11,
     "metadata": {},
     "output_type": "execute_result"
    }
   ],
   "source": [
    "# подсчёт явных дубликатов\n",
    "orders.duplicated().sum()"
   ]
  },
  {
   "cell_type": "code",
   "execution_count": 12,
   "id": "5cc183d6",
   "metadata": {},
   "outputs": [
    {
     "data": {
      "text/plain": [
       "transactionId    0\n",
       "visitorId        0\n",
       "date             0\n",
       "revenue          0\n",
       "group            0\n",
       "dtype: int64"
      ]
     },
     "execution_count": 12,
     "metadata": {},
     "output_type": "execute_result"
    }
   ],
   "source": [
    "# подсчёт пропусков\n",
    "orders.isna().sum()"
   ]
  },
  {
   "cell_type": "markdown",
   "id": "b12c25a4",
   "metadata": {},
   "source": [
    "Проверим также, есть ли пользователи, заказы которых включены в обе группы А/В-тестирования."
   ]
  },
  {
   "cell_type": "code",
   "execution_count": 13,
   "id": "1e870b96",
   "metadata": {},
   "outputs": [
    {
     "data": {
      "text/plain": [
       "58"
      ]
     },
     "execution_count": 13,
     "metadata": {},
     "output_type": "execute_result"
    }
   ],
   "source": [
    "duo = orders.groupby('visitorId').agg({'group': 'nunique'})\n",
    "duo[duo['group'] == 2].shape[0]"
   ]
  },
  {
   "cell_type": "markdown",
   "id": "3c62a8c6",
   "metadata": {},
   "source": [
    "Итак, в таблице `orders` также 5 столбцов:\n",
    "\n",
    "* `transactionId` — идентификатор заказа,\n",
    "* `visitorId` — идентификатор пользователя, совершившего заказ,\n",
    "* `date` — дата, когда был совершён заказ,\n",
    "* `revenue` — выручка заказа,\n",
    "* `group` — группа A/B-теста, в которую попал заказ.\n",
    "\n",
    "В названиях столбцов есть нарушение хорошего стиля, а именно, отсутствие пробела и прописные буквы в `transactionId` и `visitorId`.\n",
    "Однако это не критично, оставим как есть.\n",
    "\n",
    "Критично наличие в столбце `date` данных типа `object` - их необходимо привести к типу `datetime`.\n",
    "\n",
    "Количество заказов - почти 1200. Данные охватывают период с 1 по 31 августа включительно. Достаточная выборка. \n",
    "\n",
    "4.8% пользователей включены в обе группы. Это достаточно много. Однако если их удалить или присвоить дуалистам значение группы, в составе которой они дебютировали, то перестанут быть корректными данные в таблицу visitors. Поэтому оставим всё как есть, но учтём это в итоговых выводах.\n",
    "\n",
    "Отрицательных аномалий не обнаружено. Явных и неявных дубликатов также нет, как и пропусков. Но есть выбросы в столбце `revenue`."
   ]
  },
  {
   "cell_type": "code",
   "execution_count": 14,
   "id": "68390c9a",
   "metadata": {},
   "outputs": [],
   "source": [
    "# изменим тип данных на datetime\n",
    "orders['date'] = pd.to_datetime(orders['date'])"
   ]
  },
  {
   "cell_type": "markdown",
   "id": "9705d511",
   "metadata": {},
   "source": [
    "Проделаем те же операции с файлом визитов `visitors.csv`, сохраним его в переменной `visitors`:"
   ]
  },
  {
   "cell_type": "code",
   "execution_count": 15,
   "id": "a76b82df",
   "metadata": {},
   "outputs": [],
   "source": [
    "# чтение файла с визитами и сохранение его в visitors\n",
    "try:\n",
    "    visitors = pd.read_csv('visitors.csv')\n",
    "except:\n",
    "    visitors = pd.read_csv('visitors.csv')"
   ]
  },
  {
   "cell_type": "markdown",
   "id": "5d2ca167",
   "metadata": {},
   "source": [
    "Выведем на экран первые десять строк таблицы:"
   ]
  },
  {
   "cell_type": "code",
   "execution_count": 16,
   "id": "81f4388b",
   "metadata": {
    "scrolled": true
   },
   "outputs": [
    {
     "data": {
      "text/html": [
       "<div>\n",
       "<style scoped>\n",
       "    .dataframe tbody tr th:only-of-type {\n",
       "        vertical-align: middle;\n",
       "    }\n",
       "\n",
       "    .dataframe tbody tr th {\n",
       "        vertical-align: top;\n",
       "    }\n",
       "\n",
       "    .dataframe thead th {\n",
       "        text-align: right;\n",
       "    }\n",
       "</style>\n",
       "<table border=\"1\" class=\"dataframe\">\n",
       "  <thead>\n",
       "    <tr style=\"text-align: right;\">\n",
       "      <th></th>\n",
       "      <th>date</th>\n",
       "      <th>group</th>\n",
       "      <th>visitors</th>\n",
       "    </tr>\n",
       "  </thead>\n",
       "  <tbody>\n",
       "    <tr>\n",
       "      <th>0</th>\n",
       "      <td>2019-08-01</td>\n",
       "      <td>A</td>\n",
       "      <td>719</td>\n",
       "    </tr>\n",
       "    <tr>\n",
       "      <th>1</th>\n",
       "      <td>2019-08-02</td>\n",
       "      <td>A</td>\n",
       "      <td>619</td>\n",
       "    </tr>\n",
       "    <tr>\n",
       "      <th>2</th>\n",
       "      <td>2019-08-03</td>\n",
       "      <td>A</td>\n",
       "      <td>507</td>\n",
       "    </tr>\n",
       "    <tr>\n",
       "      <th>3</th>\n",
       "      <td>2019-08-04</td>\n",
       "      <td>A</td>\n",
       "      <td>717</td>\n",
       "    </tr>\n",
       "    <tr>\n",
       "      <th>4</th>\n",
       "      <td>2019-08-05</td>\n",
       "      <td>A</td>\n",
       "      <td>756</td>\n",
       "    </tr>\n",
       "    <tr>\n",
       "      <th>5</th>\n",
       "      <td>2019-08-06</td>\n",
       "      <td>A</td>\n",
       "      <td>667</td>\n",
       "    </tr>\n",
       "    <tr>\n",
       "      <th>6</th>\n",
       "      <td>2019-08-07</td>\n",
       "      <td>A</td>\n",
       "      <td>644</td>\n",
       "    </tr>\n",
       "    <tr>\n",
       "      <th>7</th>\n",
       "      <td>2019-08-08</td>\n",
       "      <td>A</td>\n",
       "      <td>610</td>\n",
       "    </tr>\n",
       "    <tr>\n",
       "      <th>8</th>\n",
       "      <td>2019-08-09</td>\n",
       "      <td>A</td>\n",
       "      <td>617</td>\n",
       "    </tr>\n",
       "    <tr>\n",
       "      <th>9</th>\n",
       "      <td>2019-08-10</td>\n",
       "      <td>A</td>\n",
       "      <td>406</td>\n",
       "    </tr>\n",
       "  </tbody>\n",
       "</table>\n",
       "</div>"
      ],
      "text/plain": [
       "         date group  visitors\n",
       "0  2019-08-01     A       719\n",
       "1  2019-08-02     A       619\n",
       "2  2019-08-03     A       507\n",
       "3  2019-08-04     A       717\n",
       "4  2019-08-05     A       756\n",
       "5  2019-08-06     A       667\n",
       "6  2019-08-07     A       644\n",
       "7  2019-08-08     A       610\n",
       "8  2019-08-09     A       617\n",
       "9  2019-08-10     A       406"
      ]
     },
     "execution_count": 16,
     "metadata": {},
     "output_type": "execute_result"
    }
   ],
   "source": [
    "# получение первых 10 строк таблицы visitors\n",
    "visitors.head(10)"
   ]
  },
  {
   "cell_type": "code",
   "execution_count": 17,
   "id": "6606e086",
   "metadata": {
    "scrolled": true
   },
   "outputs": [
    {
     "name": "stdout",
     "output_type": "stream",
     "text": [
      "<class 'pandas.core.frame.DataFrame'>\n",
      "RangeIndex: 62 entries, 0 to 61\n",
      "Data columns (total 3 columns):\n",
      " #   Column    Non-Null Count  Dtype \n",
      "---  ------    --------------  ----- \n",
      " 0   date      62 non-null     object\n",
      " 1   group     62 non-null     object\n",
      " 2   visitors  62 non-null     int64 \n",
      "dtypes: int64(1), object(2)\n",
      "memory usage: 1.6+ KB\n"
     ]
    }
   ],
   "source": [
    "# получение общей информации о данных в таблице visitors\n",
    "visitors.info()"
   ]
  },
  {
   "cell_type": "code",
   "execution_count": 18,
   "id": "fbcea5e0",
   "metadata": {
    "scrolled": true
   },
   "outputs": [
    {
     "data": {
      "text/html": [
       "<div>\n",
       "<style scoped>\n",
       "    .dataframe tbody tr th:only-of-type {\n",
       "        vertical-align: middle;\n",
       "    }\n",
       "\n",
       "    .dataframe tbody tr th {\n",
       "        vertical-align: top;\n",
       "    }\n",
       "\n",
       "    .dataframe thead th {\n",
       "        text-align: right;\n",
       "    }\n",
       "</style>\n",
       "<table border=\"1\" class=\"dataframe\">\n",
       "  <thead>\n",
       "    <tr style=\"text-align: right;\">\n",
       "      <th></th>\n",
       "      <th>visitors</th>\n",
       "    </tr>\n",
       "  </thead>\n",
       "  <tbody>\n",
       "    <tr>\n",
       "      <th>count</th>\n",
       "      <td>62.000000</td>\n",
       "    </tr>\n",
       "    <tr>\n",
       "      <th>mean</th>\n",
       "      <td>607.290323</td>\n",
       "    </tr>\n",
       "    <tr>\n",
       "      <th>std</th>\n",
       "      <td>114.400560</td>\n",
       "    </tr>\n",
       "    <tr>\n",
       "      <th>min</th>\n",
       "      <td>361.000000</td>\n",
       "    </tr>\n",
       "    <tr>\n",
       "      <th>25%</th>\n",
       "      <td>534.000000</td>\n",
       "    </tr>\n",
       "    <tr>\n",
       "      <th>50%</th>\n",
       "      <td>624.500000</td>\n",
       "    </tr>\n",
       "    <tr>\n",
       "      <th>75%</th>\n",
       "      <td>710.500000</td>\n",
       "    </tr>\n",
       "    <tr>\n",
       "      <th>max</th>\n",
       "      <td>770.000000</td>\n",
       "    </tr>\n",
       "  </tbody>\n",
       "</table>\n",
       "</div>"
      ],
      "text/plain": [
       "         visitors\n",
       "count   62.000000\n",
       "mean   607.290323\n",
       "std    114.400560\n",
       "min    361.000000\n",
       "25%    534.000000\n",
       "50%    624.500000\n",
       "75%    710.500000\n",
       "max    770.000000"
      ]
     },
     "execution_count": 18,
     "metadata": {},
     "output_type": "execute_result"
    }
   ],
   "source": [
    "# оценка числовых переменных таблицы visitors\n",
    "visitors.describe()"
   ]
  },
  {
   "cell_type": "markdown",
   "id": "20e4619e",
   "metadata": {},
   "source": [
    "Проверим, какой интервал данных вошёл в столбец `date`. Уточним также, нет ли в таблице дубликатов и пропусков."
   ]
  },
  {
   "cell_type": "code",
   "execution_count": 19,
   "id": "38b3a44d",
   "metadata": {},
   "outputs": [
    {
     "data": {
      "text/plain": [
       "['2019-08-01',\n",
       " '2019-08-02',\n",
       " '2019-08-03',\n",
       " '2019-08-04',\n",
       " '2019-08-05',\n",
       " '2019-08-06',\n",
       " '2019-08-07',\n",
       " '2019-08-08',\n",
       " '2019-08-09',\n",
       " '2019-08-10',\n",
       " '2019-08-11',\n",
       " '2019-08-12',\n",
       " '2019-08-13',\n",
       " '2019-08-14',\n",
       " '2019-08-15',\n",
       " '2019-08-16',\n",
       " '2019-08-17',\n",
       " '2019-08-18',\n",
       " '2019-08-19',\n",
       " '2019-08-20',\n",
       " '2019-08-21',\n",
       " '2019-08-22',\n",
       " '2019-08-23',\n",
       " '2019-08-24',\n",
       " '2019-08-25',\n",
       " '2019-08-26',\n",
       " '2019-08-27',\n",
       " '2019-08-28',\n",
       " '2019-08-29',\n",
       " '2019-08-30',\n",
       " '2019-08-31']"
      ]
     },
     "execution_count": 19,
     "metadata": {},
     "output_type": "execute_result"
    }
   ],
   "source": [
    "# вывод на экран уникальных значений столбца date\n",
    "sorted(visitors['date'].unique())"
   ]
  },
  {
   "cell_type": "code",
   "execution_count": 20,
   "id": "21a212fe",
   "metadata": {},
   "outputs": [
    {
     "data": {
      "text/plain": [
       "0"
      ]
     },
     "execution_count": 20,
     "metadata": {},
     "output_type": "execute_result"
    }
   ],
   "source": [
    "# подсчёт явных дубликатов\n",
    "visitors.duplicated().sum()"
   ]
  },
  {
   "cell_type": "code",
   "execution_count": 21,
   "id": "63bccc0c",
   "metadata": {},
   "outputs": [
    {
     "data": {
      "text/plain": [
       "date        0\n",
       "group       0\n",
       "visitors    0\n",
       "dtype: int64"
      ]
     },
     "execution_count": 21,
     "metadata": {},
     "output_type": "execute_result"
    }
   ],
   "source": [
    "# подсчёт пропусков\n",
    "visitors.isna().sum()"
   ]
  },
  {
   "cell_type": "markdown",
   "id": "470945c6",
   "metadata": {},
   "source": [
    "Итак, в таблице `visitors` 3 столбца:\n",
    "\n",
    "* `date` — дата,\n",
    "* `group` — группа A/B-теста,\n",
    "* `visitors` — количество пользователей в указанную дату в указанной группе A/B-теста.\n",
    "\n",
    "В названиях столбцов нет нарушений хорошего стиля.\n",
    "\n",
    "Критично наличие в столбце `date` данных типа `object` - их необходимо привести к типу `datetime`.\n",
    "\n",
    "Данные охватывают период с 1 по 31 августа включительно. Пропусков дат нет. \n",
    "\n",
    "Отрицательных аномалий не обнаружено. Явных и неявных дубликатов также нет, как и пропусков."
   ]
  },
  {
   "cell_type": "code",
   "execution_count": 22,
   "id": "ab8cba6a",
   "metadata": {},
   "outputs": [],
   "source": [
    "# изменим тип данных на datetime\n",
    "visitors['date'] = pd.to_datetime(visitors['date'])"
   ]
  },
  {
   "cell_type": "markdown",
   "id": "8e7b1e86",
   "metadata": {},
   "source": [
    "Предобработка данных завершена, проранжируем гипотезы."
   ]
  },
  {
   "cell_type": "markdown",
   "id": "e52de4b7",
   "metadata": {},
   "source": [
    "## Приоритизация гипотез с помощью фреймворка ICE"
   ]
  },
  {
   "cell_type": "markdown",
   "id": "19dd24bb",
   "metadata": {},
   "source": [
    "Сначала проведём приоритизацию гипотез с помощью метода ICE (\"влияние, уверенность, усилия\"), где \n",
    "\n",
    "<br>\n",
    "\n",
    "$$ICE = \\frac{Impact * Confidence}{Efforts}$$\n",
    "\n",
    "</div>"
   ]
  },
  {
   "cell_type": "code",
   "execution_count": 23,
   "id": "1cd8054c",
   "metadata": {},
   "outputs": [],
   "source": [
    "# расчёт столбца с результатами оценки ICE в hypothesis\n",
    "hypothesis['ice'] = (hypothesis['impact'] * hypothesis['confidence']) / hypothesis['efforts']"
   ]
  },
  {
   "cell_type": "markdown",
   "id": "d62b45a3",
   "metadata": {},
   "source": [
    "Проранжируем гипотезы по результатам оценки и выведем результат на экран."
   ]
  },
  {
   "cell_type": "code",
   "execution_count": 24,
   "id": "366460d7",
   "metadata": {},
   "outputs": [
    {
     "name": "stdout",
     "output_type": "stream",
     "text": [
      "                                                                                                     hypothesis  \\\n",
      "8                                                       Запустить акцию, дающую скидку на товар в день рождения   \n",
      "0            Добавить два новых канала привлечения трафика, что позволит привлекать на 30% больше пользователей   \n",
      "7              Добавить форму подписки на все основные страницы, чтобы собрать базу клиентов для email-рассылок   \n",
      "6          Показать на главной странице баннеры с актуальными акциями и распродажами, чтобы увеличить конверсию   \n",
      "2  Добавить блоки рекомендаций товаров на сайт интернет магазина, чтобы повысить конверсию и средний чек заказа   \n",
      "1                                     Запустить собственную службу доставки, что сократит срок доставки заказов   \n",
      "5                      Добавить страницу отзывов клиентов о магазине, что позволит увеличить количество заказов   \n",
      "3           Изменить структура категорий, что увеличит конверсию, т.к. пользователи быстрее найдут нужный товар   \n",
      "4                              Изменить цвет фона главной страницы, чтобы увеличить вовлеченность пользователей   \n",
      "\n",
      "         ice  \n",
      "8  16.200000  \n",
      "0  13.333333  \n",
      "7  11.200000  \n",
      "6   8.000000  \n",
      "2   7.000000  \n",
      "1   2.000000  \n",
      "5   1.333333  \n",
      "3   1.125000  \n",
      "4   1.000000  \n"
     ]
    }
   ],
   "source": [
    "pd.set_option('display.max_colwidth', None) \n",
    "print(hypothesis[['hypothesis','ice']].sort_values(by='ice', ascending=False))"
   ]
  },
  {
   "cell_type": "markdown",
   "id": "45f75738",
   "metadata": {},
   "source": [
    "Как мы видим, метод ICE отдал наибольший приоритет гипотезе 9 (\"Скидка в день рождения\"). Кроме неё, высокая приоритетность также у гипотез 1 (\"Два новых канала привлечения трафика\") и 8 (\"Добавить подписку на основные страницы\").\n",
    "\n",
    "Наименьший приоритет у гипотез 2 (\"Собственная служба доставки\"), 4 (\"Изменить структуру категорий\"), 5 (\"Изменить цвет фона главной страницы\") и 6 (\"Добавить страницу отзывов\")."
   ]
  },
  {
   "cell_type": "markdown",
   "id": "aed6fdb8",
   "metadata": {},
   "source": [
    "## Приоритизация гипотез с помощью фреймворка RICE"
   ]
  },
  {
   "cell_type": "markdown",
   "id": "2ec45ddf",
   "metadata": {},
   "source": [
    "Теперь проранжируем гипотезы с помощью метода RICE (\"охват, влияние, уверенность, усилия\"), где \n",
    "\n",
    "<br>\n",
    "\n",
    "$$RICE = \\frac{Rearch * Impact * Confidence}{Efforts}$$\n",
    "</div>"
   ]
  },
  {
   "cell_type": "code",
   "execution_count": 25,
   "id": "b5a16a8f",
   "metadata": {},
   "outputs": [],
   "source": [
    "# расчёт столбца с результатами оценки RICE в hypothesis\n",
    "hypothesis['rice'] = (hypothesis['reach'] * hypothesis['impact'] * hypothesis['confidence']) / hypothesis['efforts']"
   ]
  },
  {
   "cell_type": "code",
   "execution_count": 26,
   "id": "625934a9",
   "metadata": {
    "scrolled": true
   },
   "outputs": [
    {
     "name": "stdout",
     "output_type": "stream",
     "text": [
      "                                                                                                     hypothesis  \\\n",
      "7              Добавить форму подписки на все основные страницы, чтобы собрать базу клиентов для email-рассылок   \n",
      "2  Добавить блоки рекомендаций товаров на сайт интернет магазина, чтобы повысить конверсию и средний чек заказа   \n",
      "0            Добавить два новых канала привлечения трафика, что позволит привлекать на 30% больше пользователей   \n",
      "6          Показать на главной странице баннеры с актуальными акциями и распродажами, чтобы увеличить конверсию   \n",
      "8                                                       Запустить акцию, дающую скидку на товар в день рождения   \n",
      "3           Изменить структура категорий, что увеличит конверсию, т.к. пользователи быстрее найдут нужный товар   \n",
      "1                                     Запустить собственную службу доставки, что сократит срок доставки заказов   \n",
      "5                      Добавить страницу отзывов клиентов о магазине, что позволит увеличить количество заказов   \n",
      "4                              Изменить цвет фона главной страницы, чтобы увеличить вовлеченность пользователей   \n",
      "\n",
      "    rice  \n",
      "7  112.0  \n",
      "2   56.0  \n",
      "0   40.0  \n",
      "6   40.0  \n",
      "8   16.2  \n",
      "3    9.0  \n",
      "1    4.0  \n",
      "5    4.0  \n",
      "4    3.0  \n"
     ]
    }
   ],
   "source": [
    "# ранжирование гипотез по результатам оценки rice\n",
    "pd.set_option('display.max_colwidth', None) \n",
    "print(hypothesis[['hypothesis','rice']].sort_values(by='rice', ascending=False))"
   ]
  },
  {
   "cell_type": "markdown",
   "id": "6030eee8",
   "metadata": {},
   "source": [
    "Как мы видим, метод RICE отдал наибольший приоритет гипотезе 8 (\"Добавить подписку на основные страницы\") - ведь у неё максимальная оценка Reach. Кроме неё, высокий приоритет у гипотез 3 (\"Добавить блоки рекомендаций товаров\"), 1 (\"Два новых канала привлечения трафика\"), 7 (\"Баннеры с акциями и распродажами на главной странице\") - они характеризуются высоким Confidence при высоком Reach или Impact.\n",
    "\n",
    "Наименьший приоритет у гипотез 2 (\"Собственная служба доставки\"), 4 (\"Изменить структуру категорий\"), 5 (\"Изменить цвет фона главной страницы\") и 6 (\"Добавить страницу отзывов\"). В этом оба метода совпали."
   ]
  },
  {
   "cell_type": "markdown",
   "id": "cefda1dd",
   "metadata": {},
   "source": [
    "## Общий вывод"
   ]
  },
  {
   "cell_type": "markdown",
   "id": "62fa7395",
   "metadata": {},
   "source": [
    "Полученные данные характеризуются приемлемым качеством. \n",
    "\n",
    "В них нет пропусков, явных и неявных дубликатов, отрицательных аномалий.\n",
    "Имелись небольшие нарушения хорошего стиля в названиях столбцов - мы их исправили.\n",
    "Был обнаружен и исправлен неверный тип данных в столбцах с датами.\n",
    "\n",
    "4.8% пользователей фигурируют в обеих группах А/В-теста. Это достаточно много. Однако если их удалить или присвоить дуалистам значение группы, в составе которой они дебютировали, то перестанут быть корректными данные в таблицу visitors. Поэтому оставим всё как есть, но учтём это в итоговых выводах.\n",
    "\n",
    "Мы провели ранжирование гипотез методами ICE и RICE. Сравним полученные результаты. Для этого выведем на экран всю таблицу `hypothesis`."
   ]
  },
  {
   "cell_type": "code",
   "execution_count": 27,
   "id": "99900e41",
   "metadata": {},
   "outputs": [
    {
     "data": {
      "text/html": [
       "<div>\n",
       "<style scoped>\n",
       "    .dataframe tbody tr th:only-of-type {\n",
       "        vertical-align: middle;\n",
       "    }\n",
       "\n",
       "    .dataframe tbody tr th {\n",
       "        vertical-align: top;\n",
       "    }\n",
       "\n",
       "    .dataframe thead th {\n",
       "        text-align: right;\n",
       "    }\n",
       "</style>\n",
       "<table border=\"1\" class=\"dataframe\">\n",
       "  <thead>\n",
       "    <tr style=\"text-align: right;\">\n",
       "      <th></th>\n",
       "      <th>hypothesis</th>\n",
       "      <th>reach</th>\n",
       "      <th>impact</th>\n",
       "      <th>confidence</th>\n",
       "      <th>efforts</th>\n",
       "      <th>ice</th>\n",
       "      <th>rice</th>\n",
       "    </tr>\n",
       "  </thead>\n",
       "  <tbody>\n",
       "    <tr>\n",
       "      <th>7</th>\n",
       "      <td>Добавить форму подписки на все основные страницы, чтобы собрать базу клиентов для email-рассылок</td>\n",
       "      <td>10</td>\n",
       "      <td>7</td>\n",
       "      <td>8</td>\n",
       "      <td>5</td>\n",
       "      <td>11.200000</td>\n",
       "      <td>112.0</td>\n",
       "    </tr>\n",
       "    <tr>\n",
       "      <th>2</th>\n",
       "      <td>Добавить блоки рекомендаций товаров на сайт интернет магазина, чтобы повысить конверсию и средний чек заказа</td>\n",
       "      <td>8</td>\n",
       "      <td>3</td>\n",
       "      <td>7</td>\n",
       "      <td>3</td>\n",
       "      <td>7.000000</td>\n",
       "      <td>56.0</td>\n",
       "    </tr>\n",
       "    <tr>\n",
       "      <th>0</th>\n",
       "      <td>Добавить два новых канала привлечения трафика, что позволит привлекать на 30% больше пользователей</td>\n",
       "      <td>3</td>\n",
       "      <td>10</td>\n",
       "      <td>8</td>\n",
       "      <td>6</td>\n",
       "      <td>13.333333</td>\n",
       "      <td>40.0</td>\n",
       "    </tr>\n",
       "    <tr>\n",
       "      <th>6</th>\n",
       "      <td>Показать на главной странице баннеры с актуальными акциями и распродажами, чтобы увеличить конверсию</td>\n",
       "      <td>5</td>\n",
       "      <td>3</td>\n",
       "      <td>8</td>\n",
       "      <td>3</td>\n",
       "      <td>8.000000</td>\n",
       "      <td>40.0</td>\n",
       "    </tr>\n",
       "    <tr>\n",
       "      <th>8</th>\n",
       "      <td>Запустить акцию, дающую скидку на товар в день рождения</td>\n",
       "      <td>1</td>\n",
       "      <td>9</td>\n",
       "      <td>9</td>\n",
       "      <td>5</td>\n",
       "      <td>16.200000</td>\n",
       "      <td>16.2</td>\n",
       "    </tr>\n",
       "    <tr>\n",
       "      <th>3</th>\n",
       "      <td>Изменить структура категорий, что увеличит конверсию, т.к. пользователи быстрее найдут нужный товар</td>\n",
       "      <td>8</td>\n",
       "      <td>3</td>\n",
       "      <td>3</td>\n",
       "      <td>8</td>\n",
       "      <td>1.125000</td>\n",
       "      <td>9.0</td>\n",
       "    </tr>\n",
       "    <tr>\n",
       "      <th>1</th>\n",
       "      <td>Запустить собственную службу доставки, что сократит срок доставки заказов</td>\n",
       "      <td>2</td>\n",
       "      <td>5</td>\n",
       "      <td>4</td>\n",
       "      <td>10</td>\n",
       "      <td>2.000000</td>\n",
       "      <td>4.0</td>\n",
       "    </tr>\n",
       "    <tr>\n",
       "      <th>5</th>\n",
       "      <td>Добавить страницу отзывов клиентов о магазине, что позволит увеличить количество заказов</td>\n",
       "      <td>3</td>\n",
       "      <td>2</td>\n",
       "      <td>2</td>\n",
       "      <td>3</td>\n",
       "      <td>1.333333</td>\n",
       "      <td>4.0</td>\n",
       "    </tr>\n",
       "    <tr>\n",
       "      <th>4</th>\n",
       "      <td>Изменить цвет фона главной страницы, чтобы увеличить вовлеченность пользователей</td>\n",
       "      <td>3</td>\n",
       "      <td>1</td>\n",
       "      <td>1</td>\n",
       "      <td>1</td>\n",
       "      <td>1.000000</td>\n",
       "      <td>3.0</td>\n",
       "    </tr>\n",
       "  </tbody>\n",
       "</table>\n",
       "</div>"
      ],
      "text/plain": [
       "                                                                                                     hypothesis  \\\n",
       "7              Добавить форму подписки на все основные страницы, чтобы собрать базу клиентов для email-рассылок   \n",
       "2  Добавить блоки рекомендаций товаров на сайт интернет магазина, чтобы повысить конверсию и средний чек заказа   \n",
       "0            Добавить два новых канала привлечения трафика, что позволит привлекать на 30% больше пользователей   \n",
       "6          Показать на главной странице баннеры с актуальными акциями и распродажами, чтобы увеличить конверсию   \n",
       "8                                                       Запустить акцию, дающую скидку на товар в день рождения   \n",
       "3           Изменить структура категорий, что увеличит конверсию, т.к. пользователи быстрее найдут нужный товар   \n",
       "1                                     Запустить собственную службу доставки, что сократит срок доставки заказов   \n",
       "5                      Добавить страницу отзывов клиентов о магазине, что позволит увеличить количество заказов   \n",
       "4                              Изменить цвет фона главной страницы, чтобы увеличить вовлеченность пользователей   \n",
       "\n",
       "   reach  impact  confidence  efforts        ice   rice  \n",
       "7     10       7           8        5  11.200000  112.0  \n",
       "2      8       3           7        3   7.000000   56.0  \n",
       "0      3      10           8        6  13.333333   40.0  \n",
       "6      5       3           8        3   8.000000   40.0  \n",
       "8      1       9           9        5  16.200000   16.2  \n",
       "3      8       3           3        8   1.125000    9.0  \n",
       "1      2       5           4       10   2.000000    4.0  \n",
       "5      3       2           2        3   1.333333    4.0  \n",
       "4      3       1           1        1   1.000000    3.0  "
      ]
     },
     "execution_count": 27,
     "metadata": {},
     "output_type": "execute_result"
    }
   ],
   "source": [
    "# вывод на экран таблицы hypothesis, отсортированной по значениям столбца rice.\n",
    "pd.set_option('display.max_colwidth', None) \n",
    "hypothesis.sort_values(by='rice', ascending=False)"
   ]
  },
  {
   "cell_type": "markdown",
   "id": "c024e3a3",
   "metadata": {},
   "source": [
    "В группу `A` с высоким показателем приоритетности по обоим методикам попали гипотезы 1 (\"Два новых канала привлечения трафика\") и 8 (\"Добавить подписку на основные страницы\").\n",
    "\n",
    "У них высокие влияние на пользователей и уверенность в гипотезе. Однако и затраты ресурсов на их проверку высокие. Кроме того, гипотеза 8 охватывает абсолютно всех пользователей, поэтому она - лидер.\n",
    "\n",
    "В группе `B` со средним приоритетом гипотезы 3 (\"Добавить блоки рекомендаций товаров\"), 7 (\"Баннеры с акциями и распродажами на главной странице\") и 9 (\"Скидка в день рождения\"). У них один показатель имеет оценку от 7 баллов и выше (по 10-балльной шкале), а второй - минимум 5. При этом все эти гипотезы характеризуются низкой или средней затратностью ресурсов на их проверку.\n",
    "\n",
    "В группе `C` с низким приоритетом гипотезы 2 (\"Собственная служба доставки\"), 4 (\"Изменить структуру категорий\"), 5 (\"Изменить цвет фона главной страницы\") и 6 (\"Добавить страницу отзывов\"). \n",
    "\n",
    "Их совершенно точно не стоит проверять. Здесь низкий охват пользователей (ниже 4 по 10-балльной шкале, кроме гипотезы 4) сочетается с низким или средним влиянием на пользователей (максимум 5 по 10-балльной шкале у гипотезы 2)."
   ]
  },
  {
   "cell_type": "markdown",
   "id": "cf451933",
   "metadata": {},
   "source": [
    "Для наглядности разместим все гипотезы с их оценками `ICE` и `RICE` на карте гипотез."
   ]
  },
  {
   "cell_type": "code",
   "execution_count": 28,
   "id": "7c2e8992",
   "metadata": {},
   "outputs": [
    {
     "data": {
      "image/png": "[encoded data removed]",
      "text/plain": [
       "<Figure size 720x720 with 1 Axes>"
      ]
     },
     "metadata": {
      "needs_background": "light"
     },
     "output_type": "display_data"
    }
   ],
   "source": [
    "y = hypothesis['ice'] \n",
    "z = hypothesis['rice'] \n",
    "n = hypothesis.index + 1\n",
    "\n",
    "fig, ax = plt.subplots()\n",
    "ax.scatter(z, y)\n",
    "\n",
    "for i, txt in enumerate(n):\n",
    "    ax.annotate(txt, (z[i], y[i]), size=30)\n",
    "\n",
    "plt.title(\"ICE and RICE карта гипотез\") \n",
    "plt.xlabel(\"RICE\") \n",
    "plt.ylabel(\"ICE\")\n",
    "plt.grid()    \n",
    "\n",
    "fig.set_figheight(10)\n",
    "fig.set_figwidth(10) \n",
    "plt.show()   "
   ]
  },
  {
   "cell_type": "markdown",
   "id": "67476d2e",
   "metadata": {},
   "source": [
    "Данные предобработаны, гипотезы проранжированы. Перейдём к А/В-тесту. Его результаты представлены в таблицах `orders` и `visitors`. Проанализируем их."
   ]
  },
  {
   "cell_type": "markdown",
   "id": "629ae010",
   "metadata": {},
   "source": [
    "# Исследование групповых данных"
   ]
  },
  {
   "cell_type": "markdown",
   "id": "1c1bc8d6",
   "metadata": {},
   "source": [
    "## График кумулятивной выручки по группам"
   ]
  },
  {
   "cell_type": "markdown",
   "id": "918c8cec",
   "metadata": {},
   "source": [
    "Чтобы исключить проблему подсматривания, построим графики кумулятивных, или накапливаемых данных, - кумулятивной выручки и кумулятивного среднего чека.\n",
    "\n",
    "Перед тем как построить график, создадим таблицу с кумулятивными данными. Назовём её `cumulativeData`."
   ]
  },
  {
   "cell_type": "code",
   "execution_count": 29,
   "id": "19ab63a7",
   "metadata": {},
   "outputs": [
    {
     "name": "stdout",
     "output_type": "stream",
     "text": [
      "        date group  orders  buyers  revenue  visitors\n",
      "0 2019-08-01     A      24      20   148579       719\n",
      "1 2019-08-01     B      21      20   101217       713\n",
      "2 2019-08-02     A      44      38   242401      1338\n",
      "3 2019-08-02     B      45      43   266748      1294\n",
      "4 2019-08-03     A      68      62   354874      1845\n"
     ]
    }
   ],
   "source": [
    "# создаем массив уникальных пар значений дат и групп теста\n",
    "datesGroups = orders[['date','group']].drop_duplicates()\n",
    "\n",
    "# получаем агрегированные кумулятивные по дням данные о заказах \n",
    "ordersAggregated = datesGroups.apply(lambda x: orders[np.logical_and(orders['date'] <= x['date'], orders['group'] == x['group'])].agg({'date' : 'max', 'group' : 'max', 'transactionId' : 'nunique', 'visitorId' : 'nunique', 'revenue' : 'sum'}), axis=1).sort_values(by=['date','group'])\n",
    "\n",
    "# получаем агрегированные кумулятивные по дням данные о посетителях интернет-магазина \n",
    "visitorsAggregated = datesGroups.apply(lambda x: visitors[np.logical_and(visitors['date'] <= x['date'], visitors['group'] == x['group'])].agg({'date' : 'max', 'group' : 'max', 'visitors' : 'sum'}), axis=1).sort_values(by=['date','group'])\n",
    "\n",
    "# объединяем кумулятивные данные в одной таблице и присваиваем названия её столбцам\n",
    "cumulativeData = ordersAggregated.merge(visitorsAggregated, left_on=['date', 'group'], right_on=['date', 'group'])\n",
    "cumulativeData.columns = ['date', 'group', 'orders', 'buyers', 'revenue', 'visitors']\n",
    "\n",
    "# выведем на экран первые пять строк таблицы cumulativeData\n",
    "print(cumulativeData.head(5))"
   ]
  },
  {
   "cell_type": "markdown",
   "id": "9803e340",
   "metadata": {},
   "source": [
    "Проверим, совпадают ли минимальные и максимальные даты в исходных датафреймах с датафреймом `cumulativeData`."
   ]
  },
  {
   "cell_type": "code",
   "execution_count": 30,
   "id": "b173bcbd",
   "metadata": {},
   "outputs": [
    {
     "name": "stdout",
     "output_type": "stream",
     "text": [
      "2019-08-01 00:00:00\n",
      "2019-08-01 00:00:00\n",
      "2019-08-01 00:00:00\n"
     ]
    }
   ],
   "source": [
    "print(cumulativeData['date'].min())\n",
    "print(orders['date'].min())\n",
    "print(visitors['date'].min())"
   ]
  },
  {
   "cell_type": "code",
   "execution_count": 31,
   "id": "e61e371c",
   "metadata": {
    "scrolled": true
   },
   "outputs": [
    {
     "name": "stdout",
     "output_type": "stream",
     "text": [
      "2019-08-31 00:00:00\n",
      "2019-08-31 00:00:00\n",
      "2019-08-31 00:00:00\n"
     ]
    }
   ],
   "source": [
    "print(cumulativeData['date'].max())\n",
    "print(orders['date'].max())\n",
    "print(visitors['date'].max())"
   ]
  },
  {
   "cell_type": "markdown",
   "id": "097c1c55",
   "metadata": {},
   "source": [
    "Всё нормально."
   ]
  },
  {
   "cell_type": "markdown",
   "id": "4b144fc4",
   "metadata": {},
   "source": [
    "Теперь создадим датафреймы с кумулятивной выручкой в группах А и В и построим два графика."
   ]
  },
  {
   "cell_type": "code",
   "execution_count": 32,
   "id": "ccd92df4",
   "metadata": {},
   "outputs": [
    {
     "data": {
      "image/png": "[encoded data removed]",
      "text/plain": [
       "<Figure size 432x288 with 1 Axes>"
      ]
     },
     "metadata": {
      "needs_background": "light"
     },
     "output_type": "display_data"
    }
   ],
   "source": [
    "# датафрейм с кумулятивным количеством заказов и кумулятивной выручкой по дням в группе А\n",
    "cumulativeRevenueA = cumulativeData[cumulativeData['group']=='A'][['date','revenue', 'orders']]\n",
    "\n",
    "# датафрейм с кумулятивным количеством заказов и кумулятивной выручкой по дням в группе B\n",
    "cumulativeRevenueB = cumulativeData[cumulativeData['group']=='B'][['date','revenue', 'orders']]\n",
    "\n",
    "# Строим график выручки группы А\n",
    "plt.plot(cumulativeRevenueA['date'], cumulativeRevenueA['revenue'], label='A')\n",
    "\n",
    "# Строим график выручки группы B\n",
    "plt.plot(cumulativeRevenueB['date'], cumulativeRevenueB['revenue'], label='B')\n",
    "\n",
    "plt.legend()\n",
    "plt.xlabel('Даты')\n",
    "plt.xticks(rotation=60)\n",
    "plt.ylabel('Выручка')\n",
    "plt.title('График кумулятивной выручки по группам');"
   ]
  },
  {
   "cell_type": "markdown",
   "id": "f799b51a",
   "metadata": {},
   "source": [
    "Из графика видно, что в течение первых четырёх дней накопленная сумма выручки в обеих группах одинакова. Затем группа В уходит в небольшой отрыв, однако в районе 12 августа они сравниваются. Но ненадолго: группа В снова уходит в отрыв, а в середине августа из-за крупного заказа отрыв становится практически недостижимым для группы А."
   ]
  },
  {
   "cell_type": "markdown",
   "id": "b44b9985",
   "metadata": {},
   "source": [
    "## График кумулятивного среднего чека по группам"
   ]
  },
  {
   "cell_type": "markdown",
   "id": "bd3ca35b",
   "metadata": {},
   "source": [
    "Построим графики среднего чека по группам — разделим кумулятивную выручку на кумулятивное число заказов:"
   ]
  },
  {
   "cell_type": "code",
   "execution_count": 33,
   "id": "01f480ec",
   "metadata": {},
   "outputs": [
    {
     "data": {
      "image/png": "[encoded data removed]",
      "text/plain": [
       "<Figure size 432x288 with 1 Axes>"
      ]
     },
     "metadata": {
      "needs_background": "light"
     },
     "output_type": "display_data"
    }
   ],
   "source": [
    "plt.plot(cumulativeRevenueA['date'], cumulativeRevenueA['revenue']/cumulativeRevenueA['orders'], label='A')\n",
    "plt.plot(cumulativeRevenueB['date'], cumulativeRevenueB['revenue']/cumulativeRevenueB['orders'], label='B')\n",
    "plt.legend()\n",
    "plt.xlabel('Даты')\n",
    "plt.xticks(rotation=60)\n",
    "plt.ylabel('Средний чек')\n",
    "plt.title('График кумулятивного среднего чека по группам');"
   ]
  },
  {
   "cell_type": "markdown",
   "id": "1430d8d2",
   "metadata": {},
   "source": [
    "График кумулятивного среднего чека показывает, что группа В почти весь август опережает группу А по величине кумулятивного среднего чека. \n",
    "\n",
    "Однако без учёта аномального заказа в середине августа отличие было бы не столь заметным. Поэтому будет интересным сравнить группы А и В с выбросами, и после удаления выбросов.\n",
    "\n",
    "Согласно центральной предельной теореме, А/В-тест можно останавливать, когда значение кумулятивных метрик сходится и устанавливается около некоторого среднего. \n",
    "\n",
    "Если средний чек в группе А большую часть августа колеблется вокруг значения в 7.000 рублей, то в группе В из-за аномального выброса ситуация не столь однозначна. Из-за сделанного в середине августа крупного заказа, который вызвал \"взлёт\" среднего чека в группе В, далее средний чек в группе В почти всю вторую половину месяца стабильно падал и почти достиг 9.000 рублей к концу августа.\n",
    "\n",
    "Падение среднего чека в группе В вызвано тем, что заказы второй половины августа в основном ниже 10.000 рублей. Если мысленно продлить линии А и В, то уже в середине сентября они, предположительно, пересекутся, а кумуляивные средние чеки сравняются."
   ]
  },
  {
   "cell_type": "markdown",
   "id": "cca7ac46",
   "metadata": {},
   "source": [
    "## График относительного изменения кумулятивного среднего чека группы B к группе A"
   ]
  },
  {
   "cell_type": "markdown",
   "id": "f919ac62",
   "metadata": {},
   "source": [
    "Чтобы нагляднее увидеть разницу между группами, построим график относительного различия их кумулятивного среднего чека.\n",
    "\n",
    "Добавим горизонтальную ось методом axhline() (от англ. horizontal line across the axis, «горизонтальная линия поперек оси»):"
   ]
  },
  {
   "cell_type": "code",
   "execution_count": 34,
   "id": "4e82db19",
   "metadata": {},
   "outputs": [
    {
     "data": {
      "image/png": "[encoded data removed]",
      "text/plain": [
       "<Figure size 432x288 with 1 Axes>"
      ]
     },
     "metadata": {
      "needs_background": "light"
     },
     "output_type": "display_data"
    }
   ],
   "source": [
    "# собираем данные в одном датафрейме\n",
    "mergedCumulativeRevenue = cumulativeRevenueA.merge(cumulativeRevenueB, left_on='date', right_on='date', how='left', suffixes=['A', 'B'])\n",
    "\n",
    "# cтроим отношение средних чеков\n",
    "plt.plot(mergedCumulativeRevenue['date'], (mergedCumulativeRevenue['revenueB']/mergedCumulativeRevenue['ordersB'])/(mergedCumulativeRevenue['revenueA']/mergedCumulativeRevenue['ordersA'])-1)\n",
    "\n",
    "# добавляем ось X\n",
    "plt.axhline(y=0, color='black', linestyle='--')\n",
    "plt.xlabel('Даты')\n",
    "plt.xticks(rotation=60)\n",
    "plt.title('График относительного изменения кумулятивного среднего чека групп В и А');"
   ]
  },
  {
   "cell_type": "markdown",
   "id": "39940290",
   "metadata": {},
   "source": [
    "В нескольких точках график различия между группами резко \"скачет\". На эти даты точно приходятся выбросы.\n",
    "\n",
    "Однако группа В выглядит стабильно лучше группы А почти на протяжении всего рассматриваемого периода.\n",
    "\n",
    "Однако судя по наклону графика, это преимущество сойдёт на нет уже в сентябре."
   ]
  },
  {
   "cell_type": "markdown",
   "id": "2264e76f",
   "metadata": {},
   "source": [
    "## График кумулятивного среднего количества заказов по группам"
   ]
  },
  {
   "cell_type": "code",
   "execution_count": 35,
   "id": "05c56af3",
   "metadata": {},
   "outputs": [
    {
     "data": {
      "image/png": "[encoded data removed]",
      "text/plain": [
       "<Figure size 432x288 with 1 Axes>"
      ]
     },
     "metadata": {
      "needs_background": "light"
     },
     "output_type": "display_data"
    }
   ],
   "source": [
    "# считаем кумулятивную конверсию\n",
    "cumulativeData['conversion'] = cumulativeData['orders']/cumulativeData['visitors']\n",
    "\n",
    "# отделяем данные по группе A\n",
    "cumulativeDataA = cumulativeData[cumulativeData['group']=='A']\n",
    "\n",
    "# отделяем данные по группе B\n",
    "cumulativeDataB = cumulativeData[cumulativeData['group']=='B']\n",
    "\n",
    "# строим графики\n",
    "plt.plot(cumulativeDataA['date'], cumulativeDataA['conversion'], label='A')\n",
    "plt.plot(cumulativeDataB['date'], cumulativeDataB['conversion'], label='B')\n",
    "plt.legend()\n",
    "\n",
    "# задаем масштаб осей\n",
    "plt.axis([\"2019-08-01\", '2019-08-31', 0, 0.04])\n",
    "\n",
    "plt.xlabel('Даты')\n",
    "plt.xticks(rotation=60)\n",
    "plt.title('График кумулятивного среднего количества заказов по группам А и В');"
   ]
  },
  {
   "cell_type": "markdown",
   "id": "cee1abb1",
   "metadata": {},
   "source": [
    "График показывает, что группа В спримерно с 5 августа стабильно лучше, чем группа А. \n",
    "\n",
    "Показатели группы А стабилизировались в районе 10 августа, а группы В - в середине месяца."
   ]
  },
  {
   "cell_type": "markdown",
   "id": "8fd7cef5",
   "metadata": {},
   "source": [
    "## График относительного изменения кумулятивного среднего количества заказов группы B к группе A"
   ]
  },
  {
   "cell_type": "code",
   "execution_count": 36,
   "id": "5fd8208f",
   "metadata": {},
   "outputs": [
    {
     "data": {
      "image/png": "[encoded data removed]",
      "text/plain": [
       "<Figure size 432x288 with 1 Axes>"
      ]
     },
     "metadata": {
      "needs_background": "light"
     },
     "output_type": "display_data"
    }
   ],
   "source": [
    "mergedCumulativeConversions = cumulativeDataA[['date','conversion']].merge(cumulativeDataB[['date','conversion']], left_on='date', right_on='date', how='left', suffixes=['A', 'B'])\n",
    "\n",
    "plt.plot(mergedCumulativeConversions['date'], mergedCumulativeConversions['conversionB']/mergedCumulativeConversions['conversionA']-1, label=\"Относительный прирост конверсии группы B относительно группы A\")\n",
    "plt.legend()\n",
    "\n",
    "plt.axhline(y=0, color='black', linestyle='--')\n",
    "plt.axhline(y=0.1, color='grey', linestyle='--')\n",
    "plt.xticks(rotation=60)\n",
    "plt.axis([\"2019-08-01\", '2019-08-31', -0.4, 0.4]);"
   ]
  },
  {
   "cell_type": "markdown",
   "id": "7a6f4d86",
   "metadata": {},
   "source": [
    "График относительного изменения кумулятивного среднего количества заказов также демонстрирует с 5 августа стабильное преимущество у группы В с среднем на 10-15% по сравнению с группой А. \n",
    "\n",
    "Показатель давно стабилизировался."
   ]
  },
  {
   "cell_type": "markdown",
   "id": "1c331d35",
   "metadata": {},
   "source": [
    "## Точечный график количества заказов по пользователям"
   ]
  },
  {
   "cell_type": "markdown",
   "id": "51ef0c35",
   "metadata": {},
   "source": [
    "В первую очередь визуализируем аномальные значения. Для этого воспользуемся точечным графиком.\n",
    "\n",
    "Начнём с количества заказов у одного пользователя, а затем рассмотрим аномальные стоимости заказов."
   ]
  },
  {
   "cell_type": "code",
   "execution_count": 37,
   "id": "628b8974",
   "metadata": {},
   "outputs": [
    {
     "data": {
      "image/png": "[encoded data removed]",
      "text/plain": [
       "<Figure size 432x288 with 1 Axes>"
      ]
     },
     "metadata": {
      "needs_background": "light"
     },
     "output_type": "display_data"
    }
   ],
   "source": [
    "# создадим датафрейм с уникальным количеством заказов для каждого пользователя\n",
    "ordersByUsers = (\n",
    "    orders.groupby('visitorId', as_index=False)\n",
    "    .agg({'transactionId': 'nunique'})\n",
    ")\n",
    "ordersByUsers.columns = ['visitorId', 'orders']\n",
    "\n",
    "# серия из чисел от 0 до количества наблюдений в ordersByUsers\n",
    "x_values = pd.Series(range(0, len(ordersByUsers)))\n",
    "plt.scatter(x_values, ordersByUsers['orders'])\n",
    "plt.xlabel('Число пользователей')\n",
    "plt.ylabel('Число заказов')\n",
    "plt.title('График количества заказов по пользователям');"
   ]
  },
  {
   "cell_type": "code",
   "execution_count": 38,
   "id": "dad3f04b",
   "metadata": {},
   "outputs": [
    {
     "data": {
      "text/html": [
       "<div>\n",
       "<style scoped>\n",
       "    .dataframe tbody tr th:only-of-type {\n",
       "        vertical-align: middle;\n",
       "    }\n",
       "\n",
       "    .dataframe tbody tr th {\n",
       "        vertical-align: top;\n",
       "    }\n",
       "\n",
       "    .dataframe thead th {\n",
       "        text-align: right;\n",
       "    }\n",
       "</style>\n",
       "<table border=\"1\" class=\"dataframe\">\n",
       "  <thead>\n",
       "    <tr style=\"text-align: right;\">\n",
       "      <th></th>\n",
       "      <th>visitorId</th>\n",
       "      <th>orders</th>\n",
       "    </tr>\n",
       "  </thead>\n",
       "  <tbody>\n",
       "    <tr>\n",
       "      <th>0</th>\n",
       "      <td>5114589</td>\n",
       "      <td>1</td>\n",
       "    </tr>\n",
       "    <tr>\n",
       "      <th>1</th>\n",
       "      <td>6958315</td>\n",
       "      <td>1</td>\n",
       "    </tr>\n",
       "    <tr>\n",
       "      <th>2</th>\n",
       "      <td>8300375</td>\n",
       "      <td>2</td>\n",
       "    </tr>\n",
       "    <tr>\n",
       "      <th>3</th>\n",
       "      <td>11685486</td>\n",
       "      <td>1</td>\n",
       "    </tr>\n",
       "    <tr>\n",
       "      <th>4</th>\n",
       "      <td>39475350</td>\n",
       "      <td>1</td>\n",
       "    </tr>\n",
       "    <tr>\n",
       "      <th>5</th>\n",
       "      <td>47206413</td>\n",
       "      <td>1</td>\n",
       "    </tr>\n",
       "    <tr>\n",
       "      <th>6</th>\n",
       "      <td>48147722</td>\n",
       "      <td>1</td>\n",
       "    </tr>\n",
       "    <tr>\n",
       "      <th>7</th>\n",
       "      <td>54447517</td>\n",
       "      <td>1</td>\n",
       "    </tr>\n",
       "    <tr>\n",
       "      <th>8</th>\n",
       "      <td>56960363</td>\n",
       "      <td>1</td>\n",
       "    </tr>\n",
       "    <tr>\n",
       "      <th>9</th>\n",
       "      <td>66685450</td>\n",
       "      <td>1</td>\n",
       "    </tr>\n",
       "  </tbody>\n",
       "</table>\n",
       "</div>"
      ],
      "text/plain": [
       "   visitorId  orders\n",
       "0    5114589       1\n",
       "1    6958315       1\n",
       "2    8300375       2\n",
       "3   11685486       1\n",
       "4   39475350       1\n",
       "5   47206413       1\n",
       "6   48147722       1\n",
       "7   54447517       1\n",
       "8   56960363       1\n",
       "9   66685450       1"
      ]
     },
     "execution_count": 38,
     "metadata": {},
     "output_type": "execute_result"
    }
   ],
   "source": [
    "ordersByUsers.head(10)"
   ]
  },
  {
   "cell_type": "markdown",
   "id": "1d7b694a",
   "metadata": {},
   "source": [
    "Из графика видно, что абсолютное большинство пользователей имеют менее 3-х заказов. Три и более заказа на пользователя - это уже аномалия."
   ]
  },
  {
   "cell_type": "markdown",
   "id": "3d1a6726",
   "metadata": {},
   "source": [
    "## 95-й и 99-й перцентили количества заказов на пользователя. Выбор границы для определения аномальных пользователей"
   ]
  },
  {
   "cell_type": "markdown",
   "id": "387ff924",
   "metadata": {},
   "source": [
    "Подкрепим визуальный анализ более точным расчётом. Определим, какое число заказов приходится на 95% и на 99% пользователей."
   ]
  },
  {
   "cell_type": "code",
   "execution_count": 39,
   "id": "c0d186a3",
   "metadata": {},
   "outputs": [
    {
     "name": "stdout",
     "output_type": "stream",
     "text": [
      "[2. 4.]\n",
      "       visitorId  orders\n",
      "1023  4256040402      11\n",
      "591   2458001652      11\n",
      "569   2378935119       9\n",
      "487   2038680547       8\n",
      "44     199603092       5\n",
      "744   3062433592       5\n",
      "55     237748145       5\n",
      "917   3803269165       5\n",
      "299   1230306981       5\n",
      "897   3717692402       5\n"
     ]
    }
   ],
   "source": [
    "# метод np.percentile('column', [percentile1, percentile2, percentile3]) находит перцентили\n",
    "print(np.percentile(ordersByUsers['orders'], [95,99]))\n",
    "\n",
    "# выведем на экран 10 лидеров среди пользователей по количеству заказов\n",
    "print(ordersByUsers.sort_values(by='orders', ascending = False).head(10))"
   ]
  },
  {
   "cell_type": "markdown",
   "id": "bd44407a",
   "metadata": {},
   "source": [
    "Итак, 95% пользователей имеют 1 и 2 заказа, и лишь 1% пользователей имеют 5 заказов и более."
   ]
  },
  {
   "cell_type": "markdown",
   "id": "5600cbd1",
   "metadata": {},
   "source": [
    "Принято отсеивать от 1% до 5% наблюдений с крайними значениями. Установим в качестве минимальной границы для определения аномальных пользователей 3 заказа."
   ]
  },
  {
   "cell_type": "code",
   "execution_count": 40,
   "id": "943d1c45",
   "metadata": {},
   "outputs": [
    {
     "name": "stdout",
     "output_type": "stream",
     "text": [
      "2.0\n"
     ]
    }
   ],
   "source": [
    "# объявим переменную orders_max с границей аномальных значений числа заказов на одного пользователя\n",
    "orders_max=np.percentile(ordersByUsers['orders'], [95, 99])[0]\n",
    "print(orders_max)"
   ]
  },
  {
   "cell_type": "markdown",
   "id": "4ea200b5",
   "metadata": {},
   "source": [
    "## Точечный график стоимостей заказов"
   ]
  },
  {
   "cell_type": "code",
   "execution_count": 41,
   "id": "5fcf71e7",
   "metadata": {
    "scrolled": true
   },
   "outputs": [
    {
     "data": {
      "image/png": "[encoded data removed]",
      "text/plain": [
       "<Figure size 432x288 with 1 Axes>"
      ]
     },
     "metadata": {
      "needs_background": "light"
     },
     "output_type": "display_data"
    }
   ],
   "source": [
    "x_values = pd.Series(range(0,len(orders['revenue'])))\n",
    "plt.scatter(x_values, orders['revenue'])\n",
    "plt.xlabel('Число пользователей')\n",
    "plt.ylabel('Сумма заказа')\n",
    "plt.title('График стоимостей заказов');"
   ]
  },
  {
   "cell_type": "markdown",
   "id": "aec37b48",
   "metadata": {},
   "source": [
    "Мы нашли аномально большой заказ. Построим для наглядности дополнительный график без него, ограничив значение по оси Y."
   ]
  },
  {
   "cell_type": "code",
   "execution_count": 42,
   "id": "e41b9762",
   "metadata": {},
   "outputs": [
    {
     "data": {
      "image/png": "[encoded data removed]",
      "text/plain": [
       "<Figure size 432x288 with 1 Axes>"
      ]
     },
     "metadata": {
      "needs_background": "light"
     },
     "output_type": "display_data"
    }
   ],
   "source": [
    "x_values = pd.Series(range(0,len(orders['revenue'])))\n",
    "plt.scatter(x_values, orders['revenue'])\n",
    "plt.xlabel('Число пользователей')\n",
    "plt.ylabel('Сумма заказа')\n",
    "plt.title('График стоимостей заказов')\n",
    "plt.axis([0, 1200, 0, 100000]);"
   ]
  },
  {
   "cell_type": "markdown",
   "id": "bf1e4b32",
   "metadata": {},
   "source": [
    "График указывает на один мегазаказ стоимостью 1.294.500 рублей в середине августа, который привлёк наше внимание на первых графиках.\n",
    "\n",
    "Есть также аномальные заказы на сумму около 100.000 рублей. Большинство заказов - на 20.000 рублей и меньше."
   ]
  },
  {
   "cell_type": "markdown",
   "id": "92a4be7e",
   "metadata": {},
   "source": [
    "Подкрепим визуальный анализ более точным расчётом. Определим, на какую сумму делаются 95% и 99% процентов заказов."
   ]
  },
  {
   "cell_type": "markdown",
   "id": "ef54167e",
   "metadata": {
    "scrolled": true
   },
   "source": [
    "## 95-й и 99-й перцентили стоимости заказов. Выбор границы для определения аномальных заказов"
   ]
  },
  {
   "cell_type": "code",
   "execution_count": 43,
   "id": "e4cde16c",
   "metadata": {
    "scrolled": true
   },
   "outputs": [
    {
     "name": "stdout",
     "output_type": "stream",
     "text": [
      "[28000.  58233.2]\n",
      "      transactionId   visitorId       date  revenue group\n",
      "425       590470918  1920142716 2019-08-19  1294500     B\n",
      "1196     3936777065  2108080724 2019-08-15   202740     B\n",
      "858       192721366  1316129916 2019-08-27    93940     A\n",
      "1136      666610489  1307669133 2019-08-13    92550     A\n",
      "744      3668308183   888512513 2019-08-27    86620     B\n",
      "682      1216533772  4266935830 2019-08-29    78990     B\n",
      "662      1811671147  4266935830 2019-08-29    78990     A\n",
      "743      3603576309  4133034833 2019-08-09    67990     A\n",
      "1103     1348774318  1164614297 2019-08-12    66350     A\n",
      "1099      316924019   148427295 2019-08-12    65710     A\n"
     ]
    }
   ],
   "source": [
    "print(np.percentile(orders['revenue'], [95,99]))\n",
    "\n",
    "print(orders.sort_values(by='revenue', ascending=False).head(10))"
   ]
  },
  {
   "cell_type": "markdown",
   "id": "d07ed9f8",
   "metadata": {},
   "source": [
    "Расчёт показал, что 95% заказов имеют сумму до 28.000 рублей включительно, и лишь 1% заказов начинается от 58.234 руб."
   ]
  },
  {
   "cell_type": "markdown",
   "id": "3107c8ef",
   "metadata": {},
   "source": [
    "Принято отсеивать от 1% до 5% наблюдений с крайними значениями. Установим в качестве минимальной границы для определения аномальных заказов 58.233 руб."
   ]
  },
  {
   "cell_type": "code",
   "execution_count": 44,
   "id": "a5f7275b",
   "metadata": {},
   "outputs": [
    {
     "name": "stdout",
     "output_type": "stream",
     "text": [
      "58233.19999999999\n"
     ]
    }
   ],
   "source": [
    "# объявим переменную orders2_max с границей аномальных значений среднего чека\n",
    "orders2_max=np.percentile(orders['revenue'], [95, 99])[1]\n",
    "print(orders2_max)"
   ]
  },
  {
   "cell_type": "markdown",
   "id": "5cde003a",
   "metadata": {},
   "source": [
    "Теперь перейдём к проверке нулевых гипотез."
   ]
  },
  {
   "cell_type": "markdown",
   "id": "939b59c1",
   "metadata": {},
   "source": [
    "# A/B-тест"
   ]
  },
  {
   "cell_type": "markdown",
   "id": "cfeee3ba",
   "metadata": {},
   "source": [
    "## Статистическую значимость различий в среднем количестве заказов между группами по «сырым» данным"
   ]
  },
  {
   "cell_type": "markdown",
   "id": "0dc398d5",
   "metadata": {},
   "source": [
    "Сформулируем нулевую и альтернативную гипотезы.\n",
    "\n",
    "Нулевая гипотеза: различий в среднем количестве заказов между группами нет.\n",
    "Альтернативная гипотеза: есть различия в среднем количестве заказов между группами.\n",
    "\n",
    "Уровень значимости примем равным 0.05."
   ]
  },
  {
   "cell_type": "markdown",
   "id": "468d7e73",
   "metadata": {},
   "source": [
    "В наших данных имеются большие выбросы, поэтому необходимо использовать непараметрический тест Уилкоксона-Манна-Уитни, основанный на структурном подходе.\n",
    "Найдём также относительные различия в среднем чеке между группами."
   ]
  },
  {
   "cell_type": "code",
   "execution_count": 45,
   "id": "d205c4ff",
   "metadata": {},
   "outputs": [
    {
     "name": "stdout",
     "output_type": "stream",
     "text": [
      "p-value: 0.01679\n",
      "Относительный прирост гр.В к гр.А: 0.138\n"
     ]
    }
   ],
   "source": [
    "# создадим датафреймы с пользователями из групп А и В, которые заказывали хотя бы 1 раз, и укажем число совершённых ими заказов\n",
    "ordersByUsersA = (\n",
    "    orders[orders['group'] == 'A']\n",
    "    .groupby('visitorId', as_index=False)\n",
    "    .agg({'transactionId': pd.Series.nunique})\n",
    ")\n",
    "ordersByUsersA.columns = ['visitorId', 'orders']\n",
    "\n",
    "ordersByUsersB = (\n",
    "    orders[orders['group'] == 'B']\n",
    "    .groupby('visitorId', as_index=False)\n",
    "    .agg({'transactionId': pd.Series.nunique})\n",
    ")\n",
    "ordersByUsersB.columns = ['visitorId', 'orders']\n",
    "\n",
    "\n",
    "# объявим переменные, в которых пользователям из разных групп будет соответствовать количество заказов. \n",
    "# тем, кто ничего не заказал, будут соответствовать нули.\n",
    "sampleA = pd.concat([ordersByUsersA['orders'],pd.Series(0, index=np.arange(visitors.query('group == \"A\"')['visitors'].sum() - len(ordersByUsersA['orders'])), name='orders')],axis=0)\n",
    "\n",
    "sampleB = pd.concat([ordersByUsersB['orders'],pd.Series(0, index=np.arange(cumulativeDataB['visitors'].iloc[-1] - len(ordersByUsersB['orders'])), name='orders')],axis=0)\n",
    "\n",
    "\n",
    "# применим критерий Манна-Уитни и отформатируем p-value, округлив его до трёх знаков после запятой\n",
    "print(\"p-value: {0:.5f}\".format(stats.mannwhitneyu(sampleA, sampleB)[1]))\n",
    "\n",
    "\n",
    "# выведем относительный прирост среднего числа заказов группы B: \n",
    "# среднее число заказов группы B / среднее число заказов группы A - 1. Округлим результат до трёх знаков после запятой.\n",
    "print(\"Относительный прирост гр.В к гр.А: {0:.3f}\".format(sampleB.mean() / sampleA.mean() - 1))"
   ]
  },
  {
   "cell_type": "code",
   "execution_count": 46,
   "id": "5950a14b",
   "metadata": {},
   "outputs": [
    {
     "data": {
      "text/plain": [
       "305673"
      ]
     },
     "execution_count": 46,
     "metadata": {},
     "output_type": "execute_result"
    }
   ],
   "source": [
    "#код ревьюера\n",
    "\n",
    "cumulativeDataA['visitors'].sum()"
   ]
  },
  {
   "cell_type": "code",
   "execution_count": 47,
   "id": "4c352884",
   "metadata": {},
   "outputs": [
    {
     "data": {
      "text/plain": [
       "18736"
      ]
     },
     "execution_count": 47,
     "metadata": {},
     "output_type": "execute_result"
    }
   ],
   "source": [
    "#код ревьюера\n",
    "\n",
    "cumulativeDataA['visitors'].iloc[-1]"
   ]
  },
  {
   "cell_type": "code",
   "execution_count": 48,
   "id": "66b4048e",
   "metadata": {},
   "outputs": [
    {
     "data": {
      "text/plain": [
       "18736"
      ]
     },
     "execution_count": 48,
     "metadata": {},
     "output_type": "execute_result"
    }
   ],
   "source": [
    "#код ревьюера\n",
    "\n",
    "visitors.query('group == \"A\"')['visitors'].sum()"
   ]
  },
  {
   "cell_type": "markdown",
   "id": "b2441691",
   "metadata": {},
   "source": [
    "Вывод: р-значение теста равно 0.017. Оно меньше уровня значимости 0.05, следовательно, нулевую гипотезу отвергаем: разница в среднем количестве заказов между группами статистически значима.\n",
    "\n",
    "Это подтверждается и разницей среднего числа заказов между группами: 14%, что существенно. \n",
    "\n",
    "Однако не будем забывать, что это выводы по «сырым» данным. Кроме того, почти 5% пользователей попали в обе группы теста."
   ]
  },
  {
   "cell_type": "markdown",
   "id": "8239429d",
   "metadata": {},
   "source": [
    "## Статистическую значимость различий в среднем чеке заказа между группами по «сырым» данным"
   ]
  },
  {
   "cell_type": "markdown",
   "id": "91992501",
   "metadata": {},
   "source": [
    "Теперь проверим статистическую значимость различий в среднем чеке между сегментами.\n",
    "\n",
    "Нулевая гипотеза: различий в среднем чеке между группами нет.\n",
    "Альтернативная гипотеза: различия в среднем чеке между группами есть.\n",
    "Уровень значимости примем равным 0.05.\n",
    "\n",
    "Чтобы рассчитать статистическую значимость различий в среднем чеке, передадим критерию mannwhitneyu() данные о выручке с заказов. А ещё найдём относительные различия в среднем чеке между группами."
   ]
  },
  {
   "cell_type": "code",
   "execution_count": 49,
   "id": "4bfd058d",
   "metadata": {},
   "outputs": [
    {
     "name": "stdout",
     "output_type": "stream",
     "text": [
      "p-value: 0.72929\n",
      "Относительный прирост гр.В к гр.А: 0.259\n"
     ]
    }
   ],
   "source": [
    "print('p-value: {0:.5f}'.format(stats.mannwhitneyu(orders[orders['group']=='A']['revenue'], orders[orders['group']=='B']['revenue'])[1]))\n",
    "print('Относительный прирост гр.В к гр.А: {0:.3f}'.format(orders[orders['group']=='B']['revenue'].mean()/orders[orders['group']=='A']['revenue'].mean()-1))"
   ]
  },
  {
   "cell_type": "markdown",
   "id": "38cfc463",
   "metadata": {},
   "source": [
    "Вывод: р-значение теста равно 0.729. Оно выше уровня значимости 0.05, следовательно, нет оснований отвергнуть нулевую гипотезу: различий в среднем чеке между группами нет.\n",
    "\n",
    "В то же время это не подтверждается разницей среднего чека между группами: 26%, что существенно, но статистически не значимо. Возможно, это вызвано выявленным ранее аномально крупным заказом свыше 1.294.000 руб.\n",
    "\n",
    "Не будем забывать, что это выводы по «сырым» данным. Кроме того, почти 5% пользователей попали в обе группы теста.\n",
    "\n",
    "Очистим датафреймы от выбросов и проверим нулевые гипотезы и относительные различия между группами по «очищенным» данным."
   ]
  },
  {
   "cell_type": "markdown",
   "id": "9653e97a",
   "metadata": {},
   "source": [
    "## Статистическую значимость различий в среднем количестве заказов между группами по «очищенным» данным"
   ]
  },
  {
   "cell_type": "markdown",
   "id": "be33f912",
   "metadata": {},
   "source": [
    "Напомним, что найденные 95-й и 99-й перцентили средних чеков равны 28.000 и 58.234 рублям. А 95-й и 99-й перцентили количества заказов на одного пользователя равны 2 и 4 заказам. \n",
    "\n",
    "В качестве минимальной границы для определения аномальных пользователей мы приняли 3 заказа. А в качестве минимальной границы для определения аномальных заказов 58.234 руб.\n",
    "\n",
    "Так мы уберём 5% пользователей с наибольшим числом заказов и от 1% до 5% заказов с наибольшими суммами."
   ]
  },
  {
   "cell_type": "markdown",
   "id": "be4196c7",
   "metadata": {},
   "source": [
    "Сделаем срезы пользователей с числом заказов больше 2 — usersWithManyOrders и заказов дороже 58 233 — usersWithExpensiveOrders. Объединим их в таблице abnormalUsers.\n",
    "\n",
    "Узнаем, сколько всего аномальных пользователей атрибутом shape."
   ]
  },
  {
   "cell_type": "code",
   "execution_count": 50,
   "id": "5815fccd",
   "metadata": {},
   "outputs": [
    {
     "name": "stdout",
     "output_type": "stream",
     "text": [
      "1099    148427295\n",
      "18      199603092\n",
      "23      237748145\n",
      "37      249864742\n",
      "68      457167155\n",
      "Name: visitorId, dtype: int64\n",
      "31\n"
     ]
    }
   ],
   "source": [
    "usersWithManyOrders = pd.concat(\n",
    "    [\n",
    "        ordersByUsersA[ordersByUsersA['orders'] > orders_max]['visitorId'],\n",
    "        ordersByUsersB[ordersByUsersB['orders'] > orders_max]['visitorId'],\n",
    "    ],\n",
    "    axis=0,\n",
    ")\n",
    "usersWithExpensiveOrders = orders[orders['revenue'] > orders2_max]['visitorId']\n",
    "abnormalUsers = (\n",
    "    pd.concat([usersWithManyOrders, usersWithExpensiveOrders], axis=0)\n",
    "    .drop_duplicates()\n",
    "    .sort_values()\n",
    ")\n",
    "print(abnormalUsers.head(5))\n",
    "print(abnormalUsers.shape[0])"
   ]
  },
  {
   "cell_type": "markdown",
   "id": "d80b3b38",
   "metadata": {},
   "source": [
    "Таких аномальных пользователей 31 человек - почти 3% от их общего количества."
   ]
  },
  {
   "cell_type": "markdown",
   "id": "011e451d",
   "metadata": {},
   "source": [
    "Очистим наши данные от этих пользователей. Создадим отфильтрованные датафреймы `sampleAFiltered` и `sampleВFiltered`."
   ]
  },
  {
   "cell_type": "code",
   "execution_count": 51,
   "id": "34cd5580",
   "metadata": {},
   "outputs": [],
   "source": [
    "sampleAFiltered = pd.concat(\n",
    "    [\n",
    "        ordersByUsersA[\n",
    "            np.logical_not(ordersByUsersA['visitorId'].isin(abnormalUsers))\n",
    "        ]['orders'],\n",
    "        pd.Series(\n",
    "            0,\n",
    "            index=np.arange(\n",
    "                cumulativeDataA['visitors'].iloc[-1] - len(ordersByUsersA['orders'])\n",
    "            ),\n",
    "            name='orders',\n",
    "        ),\n",
    "    ],\n",
    "    axis=0,\n",
    ")\n",
    "\n",
    "sampleBFiltered = pd.concat(\n",
    "    [\n",
    "        ordersByUsersB[\n",
    "            np.logical_not(ordersByUsersB['visitorId'].isin(abnormalUsers))\n",
    "        ]['orders'],\n",
    "        pd.Series(\n",
    "            0,\n",
    "            index=np.arange(\n",
    "                cumulativeDataB['visitors'].iloc[-1] - len(ordersByUsersB['orders'])\n",
    "            ),\n",
    "            name='orders',\n",
    "        ),\n",
    "    ],\n",
    "    axis=0,\n",
    ")"
   ]
  },
  {
   "cell_type": "markdown",
   "id": "cef5175b",
   "metadata": {},
   "source": [
    "Применим статистический критерий Манна-Уитни к полученным выборкам. Нулевая и альтернативная гипотезы будут те же, что и для «сырых» данных.\n",
    "\n",
    "Нулевая гипотеза: различий в среднем количестве заказов между группами нет. Альтернативная гипотеза: есть различия в среднем между группами.\n",
    "\n",
    "Уровень значимости примем равным 0.05."
   ]
  },
  {
   "cell_type": "code",
   "execution_count": 52,
   "id": "f7347205",
   "metadata": {},
   "outputs": [
    {
     "name": "stdout",
     "output_type": "stream",
     "text": [
      "p-value: 0.01007\n",
      "Относительный прирост гр.В к гр.А: 0.174\n"
     ]
    }
   ],
   "source": [
    "print('p-value: {0:.5f}'.format(stats.mannwhitneyu(sampleAFiltered, sampleBFiltered)[1]))\n",
    "print('Относительный прирост гр.В к гр.А: {0:.3f}'.format(sampleBFiltered.mean()/sampleAFiltered.mean()-1))"
   ]
  },
  {
   "cell_type": "markdown",
   "id": "10278e5c",
   "metadata": {},
   "source": [
    "Вывод: р-значение теста немного изменилось и стало 0.010 вместо 0.017. Однако оно по-прежнему меньше уровня значимости 0.05, следовательно, нулевую гипотезу отвергаем: разница в среднем количестве заказов между группами статистически значима.\n",
    "\n",
    "Это подтверждается и возросшей разницей среднего числа заказов между группами: 17%, что существенно.\n",
    "\n",
    "Теперь проверим статистическую значимость различий в среднем чеке заказа между группами по «очищенным» данным."
   ]
  },
  {
   "cell_type": "markdown",
   "id": "06a7944f",
   "metadata": {},
   "source": [
    "## Статистическую значимость различий в среднем чеке заказа между группами по «очищенным» данным"
   ]
  },
  {
   "cell_type": "markdown",
   "id": "a7676413",
   "metadata": {},
   "source": [
    "Применим статистический критерий Манна-Уитни к «очищенным» данным. Нулевая и альтернативная гипотезы будут те же, что и для «сырых» данных.\n",
    "\n",
    "Нулевая гипотеза: различий в среднем чеке заказа между группами нет. Альтернативная гипотеза: есть различия в среднем чеке заказа между группами.\n",
    "\n",
    "Уровень значимости примем равным 0.05."
   ]
  },
  {
   "cell_type": "code",
   "execution_count": 53,
   "id": "af86317e",
   "metadata": {},
   "outputs": [
    {
     "name": "stdout",
     "output_type": "stream",
     "text": [
      "p-value: 0.79772\n",
      "Относительный прирост гр.В к гр.А: -0.020\n"
     ]
    }
   ],
   "source": [
    "print(\n",
    "    'p-value: {0:.5f}'.format(\n",
    "        stats.mannwhitneyu(\n",
    "            orders[\n",
    "                np.logical_and(\n",
    "                    orders['group'] == 'A',\n",
    "                    np.logical_not(orders['visitorId'].isin(abnormalUsers)),\n",
    "                )\n",
    "            ]['revenue'],\n",
    "            orders[\n",
    "                np.logical_and(\n",
    "                    orders['group'] == 'B',\n",
    "                    np.logical_not(orders['visitorId'].isin(abnormalUsers)),\n",
    "                )\n",
    "            ]['revenue'],\n",
    "        )[1]\n",
    "    )\n",
    ")\n",
    "\n",
    "print(\n",
    "    \"Относительный прирост гр.В к гр.А: {0:.3f}\".format(\n",
    "        orders[\n",
    "            np.logical_and(\n",
    "                orders['group'] == 'B',\n",
    "                np.logical_not(orders['visitorId'].isin(abnormalUsers)),\n",
    "            )\n",
    "        ]['revenue'].mean()\n",
    "        / orders[\n",
    "            np.logical_and(\n",
    "                orders['group'] == 'A',\n",
    "                np.logical_not(orders['visitorId'].isin(abnormalUsers)),\n",
    "            )\n",
    "        ]['revenue'].mean()\n",
    "        - 1\n",
    "    )\n",
    ")"
   ]
  },
  {
   "cell_type": "markdown",
   "id": "0f1d0d1a",
   "metadata": {},
   "source": [
    "Вывод: р-значение теста также изменилось и стало равным 0.798 вместо 0.729. Оно выше уровня значимости 0.05, следовательно, нет оснований отвергнуть нулевую гипотезу: различий в среднем чеке между группами нет.\n",
    "\n",
    "Это подтверждается и разницей среднего чека между группами: -2%, что несущественно. Теперь мы убедились, что разница среднего чека по «сырым» данным была вызвана исключительно выбросами."
   ]
  },
  {
   "cell_type": "markdown",
   "id": "ab3a3a1d",
   "metadata": {},
   "source": [
    "## Итоговое решение по результатам теста"
   ]
  },
  {
   "cell_type": "markdown",
   "id": "51086126",
   "metadata": {},
   "source": [
    "Итак, результаты проведённого исследования показывают, что различия в среднем количестве заказов между группами А и В статистически значимы, а относительное различие среднего числа заказов составляет 14% по «сырым» данным и 17% по «очищенным».\n",
    "\n",
    "При этом отличий в среднем чеке по «очищенным» данным почти нет (-2%). Отличия же в исходных данных вызваны аномально крупным заказом на сумму 1.294.500 рублей в середине августа.\n",
    "\n",
    "То есть в группе В заказывают чаще, чем в группе А, но средний чек почти не отличается. В итоге выручка в группе В выше.\n",
    "\n",
    "Не забудем, что почти 5% пользователей попали в обе группы теста.\n",
    "\n",
    "Напомним, что в качестве минимальной границы для определения аномальных пользователей мы приняли 3 заказа, а в качестве минимальной границы для определения аномальных заказов 58.234 руб. В результате мы убрали 31 пользователей (почти 3% от их общего количества)."
   ]
  },
  {
   "cell_type": "markdown",
   "id": "c28d2eaf",
   "metadata": {},
   "source": [
    "Проверим выводы, поменяв границы отсечения аномальных значений.\n",
    "\n",
    "Выводы не меняются, если в качестве границы установить 3 заказа на пользователя и сумму заказа 28.001 рубль.\n",
    "Аномальных пользователей оказывается 74 чел. (6% от общего числа). Значение р-value в пункте 3.12 равно 0.013, относительное различие средних 17%. Значение р-value в пункте 3.13 становится равным 0.738, а относительное различие средних -2%.\n",
    "\n",
    "Аналогично выводы стабильны и при границах аномалий в 5 заказов на пользователя и сумму заказа 58 234 рубля.\n",
    "Аномальных пользователей оказывается 15 чел. (1% от общего числа). Значение р-value в пункте 3.12 равно 0.014, относительное различие средних 15%. Значение р-value в пункте 3.13 становится равным 0.85, а относительное различие средних -1%."
   ]
  },
  {
   "cell_type": "markdown",
   "id": "ff9f03f7",
   "metadata": {},
   "source": [
    "Тенденции ясны. Выводы по среднему количеству заказов полностью очевидны (графически, статистически и расчётно), а визуально заметные тенденции по среднему чеку приведут вскоре к тому, что графический анализ среднего чека подтвердит полученные статистическим путём выводы по «очищенным» данным.\n",
    "\n",
    "Во избежании бессмысленной траты ресурсов, тест можно остановить."
   ]
  }
 ],
 "metadata": {
  "ExecuteTimeLog": [
   {
    "duration": 1102,
    "start_time": "2022-11-25T18:37:15.491Z"
   },
   {
    "duration": 68,
    "start_time": "2022-11-25T18:37:16.595Z"
   },
   {
    "duration": 12,
    "start_time": "2022-11-25T18:37:16.665Z"
   },
   {
    "duration": 10,
    "start_time": "2022-11-25T18:37:16.680Z"
   },
   {
    "duration": 4,
    "start_time": "2022-11-25T18:37:16.692Z"
   },
   {
    "duration": 92,
    "start_time": "2022-11-25T18:37:16.698Z"
   },
   {
    "duration": 8,
    "start_time": "2022-11-25T18:37:16.791Z"
   },
   {
    "duration": 10,
    "start_time": "2022-11-25T18:37:16.800Z"
   },
   {
    "duration": 16,
    "start_time": "2022-11-25T18:37:16.812Z"
   },
   {
    "duration": 3,
    "start_time": "2022-11-25T18:37:16.830Z"
   },
   {
    "duration": 8,
    "start_time": "2022-11-25T18:37:16.835Z"
   },
   {
    "duration": 7,
    "start_time": "2022-11-25T18:37:16.844Z"
   },
   {
    "duration": 12,
    "start_time": "2022-11-25T18:37:16.853Z"
   },
   {
    "duration": 3,
    "start_time": "2022-11-25T18:37:16.866Z"
   },
   {
    "duration": 57,
    "start_time": "2022-11-25T18:37:16.871Z"
   },
   {
    "duration": 9,
    "start_time": "2022-11-25T18:37:16.930Z"
   },
   {
    "duration": 17,
    "start_time": "2022-11-25T18:37:16.941Z"
   },
   {
    "duration": 11,
    "start_time": "2022-11-25T18:37:16.960Z"
   },
   {
    "duration": 8,
    "start_time": "2022-11-25T18:37:16.972Z"
   },
   {
    "duration": 8,
    "start_time": "2022-11-25T18:37:16.981Z"
   },
   {
    "duration": 7,
    "start_time": "2022-11-25T18:37:16.990Z"
   },
   {
    "duration": 9,
    "start_time": "2022-11-25T18:37:16.998Z"
   },
   {
    "duration": 5,
    "start_time": "2022-11-25T18:37:17.009Z"
   },
   {
    "duration": 10,
    "start_time": "2022-11-25T18:37:17.016Z"
   },
   {
    "duration": 5,
    "start_time": "2022-11-25T18:37:17.028Z"
   },
   {
    "duration": 8,
    "start_time": "2022-11-25T18:37:17.035Z"
   },
   {
    "duration": 12,
    "start_time": "2022-11-25T18:37:17.044Z"
   },
   {
    "duration": 280,
    "start_time": "2022-11-25T18:37:17.059Z"
   },
   {
    "duration": 253,
    "start_time": "2022-11-25T18:37:17.341Z"
   },
   {
    "duration": 184,
    "start_time": "2022-11-25T18:37:17.596Z"
   },
   {
    "duration": 309,
    "start_time": "2022-11-25T18:37:17.782Z"
   },
   {
    "duration": 192,
    "start_time": "2022-11-25T18:37:18.092Z"
   },
   {
    "duration": 302,
    "start_time": "2022-11-25T18:37:18.285Z"
   },
   {
    "duration": 137,
    "start_time": "2022-11-25T18:37:18.589Z"
   },
   {
    "duration": 6,
    "start_time": "2022-11-25T18:37:18.728Z"
   },
   {
    "duration": 141,
    "start_time": "2022-11-25T18:37:18.735Z"
   },
   {
    "duration": 8,
    "start_time": "2022-11-25T18:37:18.877Z"
   },
   {
    "duration": 478,
    "start_time": "2022-11-25T18:37:18.887Z"
   },
   {
    "duration": 11,
    "start_time": "2022-11-25T18:37:19.366Z"
   },
   {
    "duration": 9,
    "start_time": "2022-11-25T18:37:19.378Z"
   },
   {
    "duration": 36,
    "start_time": "2022-11-25T18:37:19.388Z"
   },
   {
    "duration": 283,
    "start_time": "2022-11-25T18:37:19.426Z"
   },
   {
    "duration": 12,
    "start_time": "2022-11-25T18:37:19.712Z"
   },
   {
    "duration": 4,
    "start_time": "2022-11-25T18:37:37.334Z"
   },
   {
    "duration": 8,
    "start_time": "2022-11-25T18:38:28.090Z"
   },
   {
    "duration": 8,
    "start_time": "2022-11-25T18:39:14.608Z"
   },
   {
    "duration": 1264,
    "start_time": "2022-11-25T18:39:27.225Z"
   },
   {
    "duration": 5,
    "start_time": "2022-11-25T18:39:34.017Z"
   },
   {
    "duration": 5,
    "start_time": "2022-11-25T18:39:54.462Z"
   },
   {
    "duration": 1624,
    "start_time": "2022-11-25T18:40:01.267Z"
   },
   {
    "duration": 5,
    "start_time": "2022-11-25T18:40:06.350Z"
   },
   {
    "duration": 1197,
    "start_time": "2022-11-25T18:40:54.921Z"
   },
   {
    "duration": 5,
    "start_time": "2022-11-25T18:41:11.139Z"
   },
   {
    "duration": 4,
    "start_time": "2022-11-25T18:41:46.072Z"
   },
   {
    "duration": 4,
    "start_time": "2022-11-25T18:41:58.335Z"
   },
   {
    "duration": 996,
    "start_time": "2022-11-25T18:48:16.874Z"
   },
   {
    "duration": 39,
    "start_time": "2022-11-25T18:48:17.872Z"
   },
   {
    "duration": 12,
    "start_time": "2022-11-25T18:48:17.913Z"
   },
   {
    "duration": 10,
    "start_time": "2022-11-25T18:48:17.928Z"
   },
   {
    "duration": 7,
    "start_time": "2022-11-25T18:48:17.940Z"
   },
   {
    "duration": 38,
    "start_time": "2022-11-25T18:48:17.949Z"
   },
   {
    "duration": 8,
    "start_time": "2022-11-25T18:48:17.989Z"
   },
   {
    "duration": 11,
    "start_time": "2022-11-25T18:48:17.999Z"
   },
   {
    "duration": 17,
    "start_time": "2022-11-25T18:48:18.012Z"
   },
   {
    "duration": 3,
    "start_time": "2022-11-25T18:48:18.032Z"
   },
   {
    "duration": 7,
    "start_time": "2022-11-25T18:48:18.036Z"
   },
   {
    "duration": 5,
    "start_time": "2022-11-25T18:48:18.044Z"
   },
   {
    "duration": 11,
    "start_time": "2022-11-25T18:48:18.050Z"
   },
   {
    "duration": 6,
    "start_time": "2022-11-25T18:48:18.063Z"
   },
   {
    "duration": 17,
    "start_time": "2022-11-25T18:48:18.070Z"
   },
   {
    "duration": 7,
    "start_time": "2022-11-25T18:48:18.088Z"
   },
   {
    "duration": 24,
    "start_time": "2022-11-25T18:48:18.096Z"
   },
   {
    "duration": 12,
    "start_time": "2022-11-25T18:48:18.121Z"
   },
   {
    "duration": 6,
    "start_time": "2022-11-25T18:48:18.134Z"
   },
   {
    "duration": 6,
    "start_time": "2022-11-25T18:48:18.142Z"
   },
   {
    "duration": 6,
    "start_time": "2022-11-25T18:48:18.149Z"
   },
   {
    "duration": 5,
    "start_time": "2022-11-25T18:48:18.156Z"
   },
   {
    "duration": 8,
    "start_time": "2022-11-25T18:48:18.162Z"
   },
   {
    "duration": 8,
    "start_time": "2022-11-25T18:48:18.171Z"
   },
   {
    "duration": 32,
    "start_time": "2022-11-25T18:48:18.181Z"
   },
   {
    "duration": 8,
    "start_time": "2022-11-25T18:48:18.215Z"
   },
   {
    "duration": 18,
    "start_time": "2022-11-25T18:48:18.225Z"
   },
   {
    "duration": 292,
    "start_time": "2022-11-25T18:48:18.247Z"
   },
   {
    "duration": 274,
    "start_time": "2022-11-25T18:48:18.541Z"
   },
   {
    "duration": 209,
    "start_time": "2022-11-25T18:48:18.817Z"
   },
   {
    "duration": 300,
    "start_time": "2022-11-25T18:48:19.030Z"
   },
   {
    "duration": 205,
    "start_time": "2022-11-25T18:48:19.331Z"
   },
   {
    "duration": 263,
    "start_time": "2022-11-25T18:48:19.538Z"
   },
   {
    "duration": 127,
    "start_time": "2022-11-25T18:48:19.802Z"
   },
   {
    "duration": 7,
    "start_time": "2022-11-25T18:48:19.931Z"
   },
   {
    "duration": 142,
    "start_time": "2022-11-25T18:48:19.940Z"
   },
   {
    "duration": 7,
    "start_time": "2022-11-25T18:48:20.084Z"
   },
   {
    "duration": 482,
    "start_time": "2022-11-25T18:48:20.092Z"
   },
   {
    "duration": 4,
    "start_time": "2022-11-25T18:48:20.576Z"
   },
   {
    "duration": 7,
    "start_time": "2022-11-25T18:48:20.582Z"
   },
   {
    "duration": 6,
    "start_time": "2022-11-25T18:48:20.591Z"
   },
   {
    "duration": 10,
    "start_time": "2022-11-25T18:48:20.612Z"
   },
   {
    "duration": 8,
    "start_time": "2022-11-25T18:48:20.624Z"
   },
   {
    "duration": 19,
    "start_time": "2022-11-25T18:48:20.633Z"
   },
   {
    "duration": 313,
    "start_time": "2022-11-25T18:48:20.653Z"
   },
   {
    "duration": 13,
    "start_time": "2022-11-25T18:48:20.968Z"
   },
   {
    "duration": 1198,
    "start_time": "2022-11-26T09:20:14.343Z"
   },
   {
    "duration": 72,
    "start_time": "2022-11-26T09:20:15.542Z"
   },
   {
    "duration": 12,
    "start_time": "2022-11-26T09:20:15.616Z"
   },
   {
    "duration": 10,
    "start_time": "2022-11-26T09:20:15.630Z"
   },
   {
    "duration": 5,
    "start_time": "2022-11-26T09:20:15.642Z"
   },
   {
    "duration": 74,
    "start_time": "2022-11-26T09:20:15.649Z"
   },
   {
    "duration": 10,
    "start_time": "2022-11-26T09:20:15.725Z"
   },
   {
    "duration": 18,
    "start_time": "2022-11-26T09:20:15.737Z"
   },
   {
    "duration": 22,
    "start_time": "2022-11-26T09:20:15.757Z"
   },
   {
    "duration": 21,
    "start_time": "2022-11-26T09:20:15.782Z"
   },
   {
    "duration": 18,
    "start_time": "2022-11-26T09:20:15.805Z"
   },
   {
    "duration": 19,
    "start_time": "2022-11-26T09:20:15.826Z"
   },
   {
    "duration": 21,
    "start_time": "2022-11-26T09:20:15.847Z"
   },
   {
    "duration": 6,
    "start_time": "2022-11-26T09:20:15.871Z"
   },
   {
    "duration": 66,
    "start_time": "2022-11-26T09:20:15.879Z"
   },
   {
    "duration": 8,
    "start_time": "2022-11-26T09:20:15.946Z"
   },
   {
    "duration": 17,
    "start_time": "2022-11-26T09:20:15.956Z"
   },
   {
    "duration": 14,
    "start_time": "2022-11-26T09:20:15.975Z"
   },
   {
    "duration": 6,
    "start_time": "2022-11-26T09:20:15.991Z"
   },
   {
    "duration": 8,
    "start_time": "2022-11-26T09:20:15.998Z"
   },
   {
    "duration": 12,
    "start_time": "2022-11-26T09:20:16.008Z"
   },
   {
    "duration": 18,
    "start_time": "2022-11-26T09:20:16.021Z"
   },
   {
    "duration": 8,
    "start_time": "2022-11-26T09:20:16.041Z"
   },
   {
    "duration": 9,
    "start_time": "2022-11-26T09:20:16.050Z"
   },
   {
    "duration": 6,
    "start_time": "2022-11-26T09:20:16.060Z"
   },
   {
    "duration": 10,
    "start_time": "2022-11-26T09:20:16.067Z"
   },
   {
    "duration": 21,
    "start_time": "2022-11-26T09:20:16.079Z"
   },
   {
    "duration": 215,
    "start_time": "2022-11-26T09:20:16.104Z"
   },
   {
    "duration": 281,
    "start_time": "2022-11-26T09:20:16.320Z"
   },
   {
    "duration": 5,
    "start_time": "2022-11-26T09:20:16.602Z"
   },
   {
    "duration": 7,
    "start_time": "2022-11-26T09:20:16.608Z"
   },
   {
    "duration": 293,
    "start_time": "2022-11-26T09:20:16.616Z"
   },
   {
    "duration": 199,
    "start_time": "2022-11-26T09:20:16.910Z"
   },
   {
    "duration": 330,
    "start_time": "2022-11-26T09:20:17.110Z"
   },
   {
    "duration": 205,
    "start_time": "2022-11-26T09:20:17.442Z"
   },
   {
    "duration": 324,
    "start_time": "2022-11-26T09:20:17.649Z"
   },
   {
    "duration": 151,
    "start_time": "2022-11-26T09:20:17.975Z"
   },
   {
    "duration": 15,
    "start_time": "2022-11-26T09:20:18.128Z"
   },
   {
    "duration": 4,
    "start_time": "2022-11-26T09:20:18.145Z"
   },
   {
    "duration": 156,
    "start_time": "2022-11-26T09:20:18.151Z"
   },
   {
    "duration": 152,
    "start_time": "2022-11-26T09:20:18.309Z"
   },
   {
    "duration": 10,
    "start_time": "2022-11-26T09:20:18.463Z"
   },
   {
    "duration": 3,
    "start_time": "2022-11-26T09:20:18.475Z"
   },
   {
    "duration": 289,
    "start_time": "2022-11-26T09:20:18.480Z"
   },
   {
    "duration": 4,
    "start_time": "2022-11-26T09:20:18.771Z"
   },
   {
    "duration": 8,
    "start_time": "2022-11-26T09:20:18.777Z"
   },
   {
    "duration": 9,
    "start_time": "2022-11-26T09:20:18.786Z"
   },
   {
    "duration": 22,
    "start_time": "2022-11-26T09:20:18.796Z"
   },
   {
    "duration": 12,
    "start_time": "2022-11-26T09:20:18.839Z"
   },
   {
    "duration": 29,
    "start_time": "2022-11-26T09:20:18.854Z"
   },
   {
    "duration": 35,
    "start_time": "2022-11-26T09:20:18.886Z"
   },
   {
    "duration": 35,
    "start_time": "2022-11-26T09:20:18.924Z"
   }
  ],
  "kernelspec": {
   "display_name": "Python 3 (ipykernel)",
   "language": "python",
   "name": "python3"
  },
  "language_info": {
   "codemirror_mode": {
    "name": "ipython",
    "version": 3
   },
   "file_extension": ".py",
   "mimetype": "text/x-python",
   "name": "python",
   "nbconvert_exporter": "python",
   "pygments_lexer": "ipython3",
   "version": "3.9.7"
  },
  "toc": {
   "base_numbering": 1,
   "nav_menu": {},
   "number_sections": true,
   "sideBar": true,
   "skip_h1_title": false,
   "title_cell": "Содержание",
   "title_sidebar": "Contents",
   "toc_cell": true,
   "toc_position": {
    "height": "726px",
    "left": "37px",
    "top": "111.125px",
    "width": "472px"
   },
   "toc_section_display": true,
   "toc_window_display": true
  }
 },
 "nbformat": 4,
 "nbformat_minor": 5
}
