{
 "cells": [
  {
   "cell_type": "markdown",
   "metadata": {
    "toc": true
   },
   "source": [
    "<h1>Содержание<span class=\"tocSkip\"></span></h1>\n",
    "<div class=\"toc\"><ul class=\"toc-item\"><li><span><a href=\"#Обзор-данных\" data-toc-modified-id=\"Обзор-данных-1\"><span class=\"toc-item-num\">1&nbsp;&nbsp;</span>Обзор данных</a></span></li><li><span><a href=\"#Предобработка-данных\" data-toc-modified-id=\"Предобработка-данных-2\"><span class=\"toc-item-num\">2&nbsp;&nbsp;</span>Предобработка данных</a></span><ul class=\"toc-item\"><li><span><a href=\"#Стиль-заголовков\" data-toc-modified-id=\"Стиль-заголовков-2.1\"><span class=\"toc-item-num\">2.1&nbsp;&nbsp;</span>Стиль заголовков</a></span></li><li><span><a href=\"#Аномальные-значения\" data-toc-modified-id=\"Аномальные-значения-2.2\"><span class=\"toc-item-num\">2.2&nbsp;&nbsp;</span>Аномальные значения</a></span></li><li><span><a href=\"#Пропуски-значений\" data-toc-modified-id=\"Пропуски-значений-2.3\"><span class=\"toc-item-num\">2.3&nbsp;&nbsp;</span>Пропуски значений</a></span></li><li><span><a href=\"#Дубликаты\" data-toc-modified-id=\"Дубликаты-2.4\"><span class=\"toc-item-num\">2.4&nbsp;&nbsp;</span>Дубликаты</a></span></li><li><span><a href=\"#Категоризация-данных\" data-toc-modified-id=\"Категоризация-данных-2.5\"><span class=\"toc-item-num\">2.5&nbsp;&nbsp;</span>Категоризация данных</a></span></li></ul></li><li><span><a href=\"#Определение-факторов,-влияющих-на-вероятность-просрочки-кредита\" data-toc-modified-id=\"Определение-факторов,-влияющих-на-вероятность-просрочки-кредита-3\"><span class=\"toc-item-num\">3&nbsp;&nbsp;</span>Определение факторов, влияющих на вероятность просрочки кредита</a></span><ul class=\"toc-item\"><li><span><a href=\"#Влияние-количества-детей-на-возврат-кредита\" data-toc-modified-id=\"Влияние-количества-детей-на-возврат-кредита-3.1\"><span class=\"toc-item-num\">3.1&nbsp;&nbsp;</span>Влияние количества детей на возврат кредита</a></span></li><li><span><a href=\"#Влияние-семейного-положения-на-возврат-кредита\" data-toc-modified-id=\"Влияние-семейного-положения-на-возврат-кредита-3.2\"><span class=\"toc-item-num\">3.2&nbsp;&nbsp;</span>Влияние семейного положения на возврат кредита</a></span></li><li><span><a href=\"#Влияние-уровня-дохода-на-возврат-кредита\" data-toc-modified-id=\"Влияние-уровня-дохода-на-возврат-кредита-3.3\"><span class=\"toc-item-num\">3.3&nbsp;&nbsp;</span>Влияние уровня дохода на возврат кредита</a></span></li><li><span><a href=\"#Влияние-цели-кредита-на-его-возврат-в-срок\" data-toc-modified-id=\"Влияние-цели-кредита-на-его-возврат-в-срок-3.4\"><span class=\"toc-item-num\">3.4&nbsp;&nbsp;</span>Влияние цели кредита на его возврат в срок</a></span></li></ul></li><li><span><a href=\"#Итоги-исследования\" data-toc-modified-id=\"Итоги-исследования-4\"><span class=\"toc-item-num\">4&nbsp;&nbsp;</span>Итоги исследования</a></span></li></ul></div>"
   ]
  },
  {
   "cell_type": "markdown",
   "metadata": {
    "id": "E0vqbgi9ay0H"
   },
   "source": [
    "# Исследование надёжности заёмщиков"
   ]
  },
  {
   "cell_type": "markdown",
   "metadata": {
    "id": "VUC88oWjTJw2"
   },
   "source": [
    "**Цель исследования** — определить факторы, которые влияют на вероятность просрочки кредита.\n",
    "\n",
    "**Ход исследования:**\n",
    "\n",
    "Данные о поведении пользователей мы получим из файла `real_estate_data.csv`. О качестве данных ничего не известно. Поэтому перед определением взаимосвязей понадобится обзор данных.\n",
    "\n",
    "Затем, на этапе предобработки, мы проверим данные на ошибки, оценим их влияние на исследование и поищем возможность исправить самые критичные ошибки данных.\n",
    "\n",
    "На третьем этапе мы должны найти ответы на следующие вопросы заказчика:\n",
    "* Есть ли зависимость между количеством детей и возвратом кредита в срок?\n",
    "* Есть ли зависимость между семейным положением и возвратом кредита в срок?\n",
    "* Есть ли зависимость между уровнем дохода и возвратом кредита в срок?\n",
    "* Как разные цели кредита влияют на его возврат в срок?\n",
    " \n",
    "Таким образом, исследование пройдёт в три этапа:\n",
    " 1. Обзор данных.\n",
    " 2. Предобработка данных.\n",
    " 3. Определение факторов, влияющих на вероятность просрочки кредита."
   ]
  },
  {
   "cell_type": "markdown",
   "metadata": {
    "id": "Ml1hmfXC_Zcs"
   },
   "source": [
    "## Обзор данных\n",
    "\n",
    "Составим первое представление о данных.\n",
    "\n",
    "\n"
   ]
  },
  {
   "cell_type": "markdown",
   "metadata": {
    "id": "57eAOGIz_Zcs"
   },
   "source": [
    "Основной инструмент аналитика — `pandas`. Импортируем эту библиотеку."
   ]
  },
  {
   "cell_type": "code",
   "execution_count": 1,
   "metadata": {
    "id": "AXN7PHPN_Zcs"
   },
   "outputs": [],
   "source": [
    "# импорт библиотеки pandas\n",
    "import pandas as pd"
   ]
  },
  {
   "cell_type": "markdown",
   "metadata": {
    "id": "SG23P8tt_Zcs"
   },
   "source": [
    "Прочитаем файл `data.csv` и сохраним его в переменной `df`:"
   ]
  },
  {
   "cell_type": "code",
   "execution_count": 2,
   "metadata": {
    "id": "fFVu7vqh_Zct"
   },
   "outputs": [],
   "source": [
    "# чтение файла с данными и сохранение в df\n",
    "df = pd.read_csv('data.csv')"
   ]
  },
  {
   "cell_type": "markdown",
   "metadata": {
    "id": "rDoOMd3uTqnZ"
   },
   "source": [
    "Выведем на экран первые десять строк таблицы:"
   ]
  },
  {
   "cell_type": "code",
   "execution_count": 3,
   "metadata": {
    "id": "oWTVX3gW_Zct"
   },
   "outputs": [
    {
     "data": {
      "text/html": [
       "<div>\n",
       "<style scoped>\n",
       "    .dataframe tbody tr th:only-of-type {\n",
       "        vertical-align: middle;\n",
       "    }\n",
       "\n",
       "    .dataframe tbody tr th {\n",
       "        vertical-align: top;\n",
       "    }\n",
       "\n",
       "    .dataframe thead th {\n",
       "        text-align: right;\n",
       "    }\n",
       "</style>\n",
       "<table border=\"1\" class=\"dataframe\">\n",
       "  <thead>\n",
       "    <tr style=\"text-align: right;\">\n",
       "      <th></th>\n",
       "      <th>children</th>\n",
       "      <th>days_employed</th>\n",
       "      <th>dob_years</th>\n",
       "      <th>education</th>\n",
       "      <th>education_id</th>\n",
       "      <th>family_status</th>\n",
       "      <th>family_status_id</th>\n",
       "      <th>gender</th>\n",
       "      <th>income_type</th>\n",
       "      <th>debt</th>\n",
       "      <th>total_income</th>\n",
       "      <th>purpose</th>\n",
       "    </tr>\n",
       "  </thead>\n",
       "  <tbody>\n",
       "    <tr>\n",
       "      <th>0</th>\n",
       "      <td>1</td>\n",
       "      <td>-8437.673028</td>\n",
       "      <td>42</td>\n",
       "      <td>высшее</td>\n",
       "      <td>0</td>\n",
       "      <td>женат / замужем</td>\n",
       "      <td>0</td>\n",
       "      <td>F</td>\n",
       "      <td>сотрудник</td>\n",
       "      <td>0</td>\n",
       "      <td>253875.639453</td>\n",
       "      <td>покупка жилья</td>\n",
       "    </tr>\n",
       "    <tr>\n",
       "      <th>1</th>\n",
       "      <td>1</td>\n",
       "      <td>-4024.803754</td>\n",
       "      <td>36</td>\n",
       "      <td>среднее</td>\n",
       "      <td>1</td>\n",
       "      <td>женат / замужем</td>\n",
       "      <td>0</td>\n",
       "      <td>F</td>\n",
       "      <td>сотрудник</td>\n",
       "      <td>0</td>\n",
       "      <td>112080.014102</td>\n",
       "      <td>приобретение автомобиля</td>\n",
       "    </tr>\n",
       "    <tr>\n",
       "      <th>2</th>\n",
       "      <td>0</td>\n",
       "      <td>-5623.422610</td>\n",
       "      <td>33</td>\n",
       "      <td>Среднее</td>\n",
       "      <td>1</td>\n",
       "      <td>женат / замужем</td>\n",
       "      <td>0</td>\n",
       "      <td>M</td>\n",
       "      <td>сотрудник</td>\n",
       "      <td>0</td>\n",
       "      <td>145885.952297</td>\n",
       "      <td>покупка жилья</td>\n",
       "    </tr>\n",
       "    <tr>\n",
       "      <th>3</th>\n",
       "      <td>3</td>\n",
       "      <td>-4124.747207</td>\n",
       "      <td>32</td>\n",
       "      <td>среднее</td>\n",
       "      <td>1</td>\n",
       "      <td>женат / замужем</td>\n",
       "      <td>0</td>\n",
       "      <td>M</td>\n",
       "      <td>сотрудник</td>\n",
       "      <td>0</td>\n",
       "      <td>267628.550329</td>\n",
       "      <td>дополнительное образование</td>\n",
       "    </tr>\n",
       "    <tr>\n",
       "      <th>4</th>\n",
       "      <td>0</td>\n",
       "      <td>340266.072047</td>\n",
       "      <td>53</td>\n",
       "      <td>среднее</td>\n",
       "      <td>1</td>\n",
       "      <td>гражданский брак</td>\n",
       "      <td>1</td>\n",
       "      <td>F</td>\n",
       "      <td>пенсионер</td>\n",
       "      <td>0</td>\n",
       "      <td>158616.077870</td>\n",
       "      <td>сыграть свадьбу</td>\n",
       "    </tr>\n",
       "    <tr>\n",
       "      <th>5</th>\n",
       "      <td>0</td>\n",
       "      <td>-926.185831</td>\n",
       "      <td>27</td>\n",
       "      <td>высшее</td>\n",
       "      <td>0</td>\n",
       "      <td>гражданский брак</td>\n",
       "      <td>1</td>\n",
       "      <td>M</td>\n",
       "      <td>компаньон</td>\n",
       "      <td>0</td>\n",
       "      <td>255763.565419</td>\n",
       "      <td>покупка жилья</td>\n",
       "    </tr>\n",
       "    <tr>\n",
       "      <th>6</th>\n",
       "      <td>0</td>\n",
       "      <td>-2879.202052</td>\n",
       "      <td>43</td>\n",
       "      <td>высшее</td>\n",
       "      <td>0</td>\n",
       "      <td>женат / замужем</td>\n",
       "      <td>0</td>\n",
       "      <td>F</td>\n",
       "      <td>компаньон</td>\n",
       "      <td>0</td>\n",
       "      <td>240525.971920</td>\n",
       "      <td>операции с жильем</td>\n",
       "    </tr>\n",
       "    <tr>\n",
       "      <th>7</th>\n",
       "      <td>0</td>\n",
       "      <td>-152.779569</td>\n",
       "      <td>50</td>\n",
       "      <td>СРЕДНЕЕ</td>\n",
       "      <td>1</td>\n",
       "      <td>женат / замужем</td>\n",
       "      <td>0</td>\n",
       "      <td>M</td>\n",
       "      <td>сотрудник</td>\n",
       "      <td>0</td>\n",
       "      <td>135823.934197</td>\n",
       "      <td>образование</td>\n",
       "    </tr>\n",
       "    <tr>\n",
       "      <th>8</th>\n",
       "      <td>2</td>\n",
       "      <td>-6929.865299</td>\n",
       "      <td>35</td>\n",
       "      <td>ВЫСШЕЕ</td>\n",
       "      <td>0</td>\n",
       "      <td>гражданский брак</td>\n",
       "      <td>1</td>\n",
       "      <td>F</td>\n",
       "      <td>сотрудник</td>\n",
       "      <td>0</td>\n",
       "      <td>95856.832424</td>\n",
       "      <td>на проведение свадьбы</td>\n",
       "    </tr>\n",
       "    <tr>\n",
       "      <th>9</th>\n",
       "      <td>0</td>\n",
       "      <td>-2188.756445</td>\n",
       "      <td>41</td>\n",
       "      <td>среднее</td>\n",
       "      <td>1</td>\n",
       "      <td>женат / замужем</td>\n",
       "      <td>0</td>\n",
       "      <td>M</td>\n",
       "      <td>сотрудник</td>\n",
       "      <td>0</td>\n",
       "      <td>144425.938277</td>\n",
       "      <td>покупка жилья для семьи</td>\n",
       "    </tr>\n",
       "  </tbody>\n",
       "</table>\n",
       "</div>"
      ],
      "text/plain": [
       "   children  days_employed  dob_years education  education_id  \\\n",
       "0         1   -8437.673028         42    высшее             0   \n",
       "1         1   -4024.803754         36   среднее             1   \n",
       "2         0   -5623.422610         33   Среднее             1   \n",
       "3         3   -4124.747207         32   среднее             1   \n",
       "4         0  340266.072047         53   среднее             1   \n",
       "5         0    -926.185831         27    высшее             0   \n",
       "6         0   -2879.202052         43    высшее             0   \n",
       "7         0    -152.779569         50   СРЕДНЕЕ             1   \n",
       "8         2   -6929.865299         35    ВЫСШЕЕ             0   \n",
       "9         0   -2188.756445         41   среднее             1   \n",
       "\n",
       "      family_status  family_status_id gender income_type  debt   total_income  \\\n",
       "0   женат / замужем                 0      F   сотрудник     0  253875.639453   \n",
       "1   женат / замужем                 0      F   сотрудник     0  112080.014102   \n",
       "2   женат / замужем                 0      M   сотрудник     0  145885.952297   \n",
       "3   женат / замужем                 0      M   сотрудник     0  267628.550329   \n",
       "4  гражданский брак                 1      F   пенсионер     0  158616.077870   \n",
       "5  гражданский брак                 1      M   компаньон     0  255763.565419   \n",
       "6   женат / замужем                 0      F   компаньон     0  240525.971920   \n",
       "7   женат / замужем                 0      M   сотрудник     0  135823.934197   \n",
       "8  гражданский брак                 1      F   сотрудник     0   95856.832424   \n",
       "9   женат / замужем                 0      M   сотрудник     0  144425.938277   \n",
       "\n",
       "                      purpose  \n",
       "0               покупка жилья  \n",
       "1     приобретение автомобиля  \n",
       "2               покупка жилья  \n",
       "3  дополнительное образование  \n",
       "4             сыграть свадьбу  \n",
       "5               покупка жилья  \n",
       "6           операции с жильем  \n",
       "7                 образование  \n",
       "8       на проведение свадьбы  \n",
       "9     покупка жилья для семьи  "
      ]
     },
     "execution_count": 3,
     "metadata": {},
     "output_type": "execute_result"
    }
   ],
   "source": [
    "# получение первых 10 строк таблицы df\n",
    "df.head(10)"
   ]
  },
  {
   "cell_type": "markdown",
   "metadata": {
    "id": "EO73Kwic_Zct"
   },
   "source": [
    "Получим общую информацию о таблице:"
   ]
  },
  {
   "cell_type": "code",
   "execution_count": 4,
   "metadata": {
    "id": "DSf2kIb-_Zct"
   },
   "outputs": [
    {
     "name": "stdout",
     "output_type": "stream",
     "text": [
      "<class 'pandas.core.frame.DataFrame'>\n",
      "RangeIndex: 21525 entries, 0 to 21524\n",
      "Data columns (total 12 columns):\n",
      " #   Column            Non-Null Count  Dtype  \n",
      "---  ------            --------------  -----  \n",
      " 0   children          21525 non-null  int64  \n",
      " 1   days_employed     19351 non-null  float64\n",
      " 2   dob_years         21525 non-null  int64  \n",
      " 3   education         21525 non-null  object \n",
      " 4   education_id      21525 non-null  int64  \n",
      " 5   family_status     21525 non-null  object \n",
      " 6   family_status_id  21525 non-null  int64  \n",
      " 7   gender            21525 non-null  object \n",
      " 8   income_type       21525 non-null  object \n",
      " 9   debt              21525 non-null  int64  \n",
      " 10  total_income      19351 non-null  float64\n",
      " 11  purpose           21525 non-null  object \n",
      "dtypes: float64(2), int64(5), object(5)\n",
      "memory usage: 2.0+ MB\n"
     ]
    }
   ],
   "source": [
    "# получение общей информации о данных в таблице df\n",
    "df.info()"
   ]
  },
  {
   "cell_type": "markdown",
   "metadata": {},
   "source": [
    "Итак, в таблице 12 столбцов: в семи столбцах — числовые данные (в пяти — целочисленные, в двух — вещественные), еще в пяти столбцах — данные типа `object`. При этом вещественные данные удобнее трансформировать в целочисленные.\n",
    "\n",
    "Данные сгруппированы по следующим столбцам:\n",
    "* `children` — количество детей в семье;\n",
    "* `days_employed` — общий трудовой стаж в днях;  \n",
    "* `dob_years` — возраст клиента в годах;\n",
    "* `education` — уровень образования клиента;\n",
    "* `education_id` — идентификатор уровня образования;\n",
    "* `family_status` — семейное положение;\n",
    "* `family_status_id` — идентификатор семейного положения.\n",
    "* `gender` — пол клиента;\n",
    "* `income_type` — тип занятости;  \n",
    "* `debt` — наличие задолженности по возврату кредита;\n",
    "* `total_income` — ежемесячный доход;\n",
    "* `purpose` — цель получения кредита;\n",
    "\n",
    "В названиях колонок есть два нарушения стиля:\n",
    "1. Непонятное название колонки с возрастом — `dob_years` вместо `age_years`.\n",
    "2. Некорректное название колонки с типом занятости — `income_type` вместо `employment_type`.\n",
    "\n",
    "Нелогичными выглядят также идентификаторы уровня образования и семейного положения: логичнее присвоить среднему образованию идентификатор `0`, а высшему образованию — `1`. Аналогично гражданскому браку логичнее присвоить `0`, а зарегистрированным семейным отношения — идентификатор `1`. Однако это не имеет критического значения.\n",
    "\n",
    "В колонке `education` есть значения с разным регистром. Это необходимо будет исправить.\n",
    "\n",
    "Количество значений в столбцах различается. Значит, в данных есть пропущенные значения. Их доля составляет 10%, что существенно. Проверим, насколько это критично для исследования, с чем это связано (пропуски присутствуют только в двух столбцах — в столбце со стажем и с величиной дохода) и можно ли исправить."
   ]
  },
  {
   "cell_type": "markdown",
   "metadata": {},
   "source": [
    "Теперь оценим числовые переменные:"
   ]
  },
  {
   "cell_type": "code",
   "execution_count": 5,
   "metadata": {},
   "outputs": [
    {
     "data": {
      "text/html": [
       "<div>\n",
       "<style scoped>\n",
       "    .dataframe tbody tr th:only-of-type {\n",
       "        vertical-align: middle;\n",
       "    }\n",
       "\n",
       "    .dataframe tbody tr th {\n",
       "        vertical-align: top;\n",
       "    }\n",
       "\n",
       "    .dataframe thead th {\n",
       "        text-align: right;\n",
       "    }\n",
       "</style>\n",
       "<table border=\"1\" class=\"dataframe\">\n",
       "  <thead>\n",
       "    <tr style=\"text-align: right;\">\n",
       "      <th></th>\n",
       "      <th>children</th>\n",
       "      <th>days_employed</th>\n",
       "      <th>dob_years</th>\n",
       "      <th>education_id</th>\n",
       "      <th>family_status_id</th>\n",
       "      <th>debt</th>\n",
       "      <th>total_income</th>\n",
       "    </tr>\n",
       "  </thead>\n",
       "  <tbody>\n",
       "    <tr>\n",
       "      <th>count</th>\n",
       "      <td>21525.000000</td>\n",
       "      <td>19351.000000</td>\n",
       "      <td>21525.000000</td>\n",
       "      <td>21525.000000</td>\n",
       "      <td>21525.000000</td>\n",
       "      <td>21525.000000</td>\n",
       "      <td>1.935100e+04</td>\n",
       "    </tr>\n",
       "    <tr>\n",
       "      <th>mean</th>\n",
       "      <td>0.538908</td>\n",
       "      <td>63046.497661</td>\n",
       "      <td>43.293380</td>\n",
       "      <td>0.817236</td>\n",
       "      <td>0.972544</td>\n",
       "      <td>0.080883</td>\n",
       "      <td>1.674223e+05</td>\n",
       "    </tr>\n",
       "    <tr>\n",
       "      <th>std</th>\n",
       "      <td>1.381587</td>\n",
       "      <td>140827.311974</td>\n",
       "      <td>12.574584</td>\n",
       "      <td>0.548138</td>\n",
       "      <td>1.420324</td>\n",
       "      <td>0.272661</td>\n",
       "      <td>1.029716e+05</td>\n",
       "    </tr>\n",
       "    <tr>\n",
       "      <th>min</th>\n",
       "      <td>-1.000000</td>\n",
       "      <td>-18388.949901</td>\n",
       "      <td>0.000000</td>\n",
       "      <td>0.000000</td>\n",
       "      <td>0.000000</td>\n",
       "      <td>0.000000</td>\n",
       "      <td>2.066726e+04</td>\n",
       "    </tr>\n",
       "    <tr>\n",
       "      <th>25%</th>\n",
       "      <td>0.000000</td>\n",
       "      <td>-2747.423625</td>\n",
       "      <td>33.000000</td>\n",
       "      <td>1.000000</td>\n",
       "      <td>0.000000</td>\n",
       "      <td>0.000000</td>\n",
       "      <td>1.030532e+05</td>\n",
       "    </tr>\n",
       "    <tr>\n",
       "      <th>50%</th>\n",
       "      <td>0.000000</td>\n",
       "      <td>-1203.369529</td>\n",
       "      <td>42.000000</td>\n",
       "      <td>1.000000</td>\n",
       "      <td>0.000000</td>\n",
       "      <td>0.000000</td>\n",
       "      <td>1.450179e+05</td>\n",
       "    </tr>\n",
       "    <tr>\n",
       "      <th>75%</th>\n",
       "      <td>1.000000</td>\n",
       "      <td>-291.095954</td>\n",
       "      <td>53.000000</td>\n",
       "      <td>1.000000</td>\n",
       "      <td>1.000000</td>\n",
       "      <td>0.000000</td>\n",
       "      <td>2.034351e+05</td>\n",
       "    </tr>\n",
       "    <tr>\n",
       "      <th>max</th>\n",
       "      <td>20.000000</td>\n",
       "      <td>401755.400475</td>\n",
       "      <td>75.000000</td>\n",
       "      <td>4.000000</td>\n",
       "      <td>4.000000</td>\n",
       "      <td>1.000000</td>\n",
       "      <td>2.265604e+06</td>\n",
       "    </tr>\n",
       "  </tbody>\n",
       "</table>\n",
       "</div>"
      ],
      "text/plain": [
       "           children  days_employed     dob_years  education_id  \\\n",
       "count  21525.000000   19351.000000  21525.000000  21525.000000   \n",
       "mean       0.538908   63046.497661     43.293380      0.817236   \n",
       "std        1.381587  140827.311974     12.574584      0.548138   \n",
       "min       -1.000000  -18388.949901      0.000000      0.000000   \n",
       "25%        0.000000   -2747.423625     33.000000      1.000000   \n",
       "50%        0.000000   -1203.369529     42.000000      1.000000   \n",
       "75%        1.000000    -291.095954     53.000000      1.000000   \n",
       "max       20.000000  401755.400475     75.000000      4.000000   \n",
       "\n",
       "       family_status_id          debt  total_income  \n",
       "count      21525.000000  21525.000000  1.935100e+04  \n",
       "mean           0.972544      0.080883  1.674223e+05  \n",
       "std            1.420324      0.272661  1.029716e+05  \n",
       "min            0.000000      0.000000  2.066726e+04  \n",
       "25%            0.000000      0.000000  1.030532e+05  \n",
       "50%            0.000000      0.000000  1.450179e+05  \n",
       "75%            1.000000      0.000000  2.034351e+05  \n",
       "max            4.000000      1.000000  2.265604e+06  "
      ]
     },
     "execution_count": 5,
     "metadata": {},
     "output_type": "execute_result"
    }
   ],
   "source": [
    "# оценка числовых переменных\n",
    "df.describe()"
   ]
  },
  {
   "cell_type": "markdown",
   "metadata": {
    "id": "TaQ2Iwbr_Zct"
   },
   "source": [
    "Видны следующие ошибки в числовых данных:\n",
    "\n",
    "* `children` — есть отрицательные значения (`-1`), есть значение в `20` детей;\n",
    "* `days_employed` — также есть отрицательные значения, и их много, есть и значение в 1100 лет стажа (`401.755` дней);\n",
    "* `dob_years` — имеются строки с возрастом клиента `0`, что невозможно;\n",
    "* `education_id` — имеются строки со значением `4`, что требует дополнительного анализа;\n",
    "* `family_status_id\t` — имеются строки со значением `4`, что, возможно, неверно и также требует дополнительного анализа."
   ]
  },
  {
   "cell_type": "markdown",
   "metadata": {
    "id": "MCB6-dXG_Zct"
   },
   "source": [
    "**Выводы**\n",
    "\n",
    "В каждой строке таблицы — данные об одним клиенте. Часть колонок описывает его в качественных категориях: количество детей, уровень образования, семейное положение, пол, тип занятости, наличие или отсутствие в прошлом просрочки по кредитам, цель получения кредита. Остальные категории — количественные: трудовой стаж, возраст, ежемесячный доход. \n",
    "\n",
    "Предварительно можно утверждать, что данных достаточно для проверки гипотез — имеется более 19 тыс. полностью заполненных строк. Но доля пропусков высока (10%), в названиях колонок присутствуют расхождения с хорошим стилем, а сами значения требуют обработки и исправления.\n",
    "\n",
    "Чтобы двигаться дальше, нужно устранить проблемы в данных."
   ]
  },
  {
   "cell_type": "markdown",
   "metadata": {
    "id": "SjYF6Ub9_Zct"
   },
   "source": [
    "## Предобработка данных\n",
    "Исправим заголовки столбцов и проведём различные трансформации с самими данными."
   ]
  },
  {
   "cell_type": "markdown",
   "metadata": {
    "id": "dIaKXr29_Zct"
   },
   "source": [
    "### Стиль заголовков\n",
    "Выведем на экран названия столбцов:"
   ]
  },
  {
   "cell_type": "code",
   "execution_count": 6,
   "metadata": {
    "id": "oKOTdF_Q_Zct"
   },
   "outputs": [
    {
     "data": {
      "text/plain": [
       "Index(['children', 'days_employed', 'dob_years', 'education', 'education_id',\n",
       "       'family_status', 'family_status_id', 'gender', 'income_type', 'debt',\n",
       "       'total_income', 'purpose'],\n",
       "      dtype='object')"
      ]
     },
     "execution_count": 6,
     "metadata": {},
     "output_type": "execute_result"
    }
   ],
   "source": [
    "# перечень названий столбцов таблицы df\n",
    "df.columns"
   ]
  },
  {
   "cell_type": "markdown",
   "metadata": {
    "id": "zj5534cv_Zct"
   },
   "source": [
    "Приведём названия столбцов в соответствие с хорошим стилем:\n",
    "* заменим `dob` на `age`,\n",
    "* заменим `income` на `employment`.\n",
    "\n",
    "Для этого переименуем колонки так:\n",
    "* `'dob_years'` → `'age_years'`;\n",
    "* `'income_type'` → `'employment_type'`."
   ]
  },
  {
   "cell_type": "code",
   "execution_count": 7,
   "metadata": {
    "id": "ISlFqs5y_Zct"
   },
   "outputs": [],
   "source": [
    "# переименование столбцов\n",
    "df = df.rename(columns = {'dob_years':'age_years', 'income_type':'employment_type'})"
   ]
  },
  {
   "cell_type": "markdown",
   "metadata": {
    "id": "1dqbh00J_Zct"
   },
   "source": [
    "Проверим результат. Для этого ещё раз выведем на экран названия столбцов:"
   ]
  },
  {
   "cell_type": "code",
   "execution_count": 8,
   "metadata": {
    "id": "d4NOAmTW_Zct"
   },
   "outputs": [
    {
     "data": {
      "text/plain": [
       "Index(['children', 'days_employed', 'age_years', 'education', 'education_id',\n",
       "       'family_status', 'family_status_id', 'gender', 'employment_type',\n",
       "       'debt', 'total_income', 'purpose'],\n",
       "      dtype='object')"
      ]
     },
     "execution_count": 8,
     "metadata": {},
     "output_type": "execute_result"
    }
   ],
   "source": [
    "# проверка результатов - перечень названий столбцов\n",
    "df.columns"
   ]
  },
  {
   "cell_type": "markdown",
   "metadata": {
    "id": "5ISfbcfY_Zct"
   },
   "source": [
    "### Аномальные значения\n",
    "Проанализируем аномальные значения. \n",
    "Начнём со столбца `children`. Выведем на экран все уникальные значения столбца и их частоту:"
   ]
  },
  {
   "cell_type": "code",
   "execution_count": 9,
   "metadata": {},
   "outputs": [
    {
     "data": {
      "text/plain": [
       " 0     14149\n",
       " 1      4818\n",
       " 2      2055\n",
       " 3       330\n",
       " 20       76\n",
       "-1        47\n",
       " 4        41\n",
       " 5         9\n",
       "Name: children, dtype: int64"
      ]
     },
     "execution_count": 9,
     "metadata": {},
     "output_type": "execute_result"
    }
   ],
   "source": [
    "# вывод уникальных значений столбца 'children' и их частоты\n",
    "df['children'].value_counts()"
   ]
  },
  {
   "cell_type": "markdown",
   "metadata": {},
   "source": [
    "Во-первых, число детей не может быть отрицательным. Во-вторых, резкий переход от значений `5` к `20` и частота последних заставляет предположить банальную ошибку ввода данных, когда вместо `2` ввели `20` (неявный дубликат).\n",
    "\n",
    "Заменим значения `-1` на `1` сейчас, а значения `20` - на `2` в параграфе **Дубликаты**."
   ]
  },
  {
   "cell_type": "code",
   "execution_count": 10,
   "metadata": {},
   "outputs": [],
   "source": [
    "# замена аномальных значений столбца 'children'\n",
    "df['children'] = abs(df['children'])"
   ]
  },
  {
   "cell_type": "markdown",
   "metadata": {},
   "source": [
    "Теперь обратимся к столбцу `days_employed` и проделаем аналогичную трансформацию отрицательных значений трудового стажа:"
   ]
  },
  {
   "cell_type": "code",
   "execution_count": 11,
   "metadata": {},
   "outputs": [],
   "source": [
    "# замена аномальных значений столбца 'days_employed'\n",
    "df['days_employed'] = abs(df['days_employed'])"
   ]
  },
  {
   "cell_type": "markdown",
   "metadata": {},
   "source": [
    "Посмотрим теперь на максимальные и минимальные значения столбца."
   ]
  },
  {
   "cell_type": "code",
   "execution_count": 12,
   "metadata": {},
   "outputs": [
    {
     "data": {
      "text/html": [
       "<div>\n",
       "<style scoped>\n",
       "    .dataframe tbody tr th:only-of-type {\n",
       "        vertical-align: middle;\n",
       "    }\n",
       "\n",
       "    .dataframe tbody tr th {\n",
       "        vertical-align: top;\n",
       "    }\n",
       "\n",
       "    .dataframe thead th {\n",
       "        text-align: right;\n",
       "    }\n",
       "</style>\n",
       "<table border=\"1\" class=\"dataframe\">\n",
       "  <thead>\n",
       "    <tr style=\"text-align: right;\">\n",
       "      <th></th>\n",
       "      <th>children</th>\n",
       "      <th>days_employed</th>\n",
       "      <th>age_years</th>\n",
       "      <th>education</th>\n",
       "      <th>education_id</th>\n",
       "      <th>family_status</th>\n",
       "      <th>family_status_id</th>\n",
       "      <th>gender</th>\n",
       "      <th>employment_type</th>\n",
       "      <th>debt</th>\n",
       "      <th>total_income</th>\n",
       "      <th>purpose</th>\n",
       "    </tr>\n",
       "  </thead>\n",
       "  <tbody>\n",
       "    <tr>\n",
       "      <th>6954</th>\n",
       "      <td>0</td>\n",
       "      <td>401755.400475</td>\n",
       "      <td>56</td>\n",
       "      <td>среднее</td>\n",
       "      <td>1</td>\n",
       "      <td>вдовец / вдова</td>\n",
       "      <td>2</td>\n",
       "      <td>F</td>\n",
       "      <td>пенсионер</td>\n",
       "      <td>0</td>\n",
       "      <td>176278.441171</td>\n",
       "      <td>ремонт жилью</td>\n",
       "    </tr>\n",
       "    <tr>\n",
       "      <th>10006</th>\n",
       "      <td>0</td>\n",
       "      <td>401715.811749</td>\n",
       "      <td>69</td>\n",
       "      <td>высшее</td>\n",
       "      <td>0</td>\n",
       "      <td>Не женат / не замужем</td>\n",
       "      <td>4</td>\n",
       "      <td>F</td>\n",
       "      <td>пенсионер</td>\n",
       "      <td>0</td>\n",
       "      <td>57390.256908</td>\n",
       "      <td>получение образования</td>\n",
       "    </tr>\n",
       "    <tr>\n",
       "      <th>7664</th>\n",
       "      <td>1</td>\n",
       "      <td>401675.093434</td>\n",
       "      <td>61</td>\n",
       "      <td>среднее</td>\n",
       "      <td>1</td>\n",
       "      <td>женат / замужем</td>\n",
       "      <td>0</td>\n",
       "      <td>F</td>\n",
       "      <td>пенсионер</td>\n",
       "      <td>0</td>\n",
       "      <td>126214.519212</td>\n",
       "      <td>операции с жильем</td>\n",
       "    </tr>\n",
       "    <tr>\n",
       "      <th>2156</th>\n",
       "      <td>0</td>\n",
       "      <td>401674.466633</td>\n",
       "      <td>60</td>\n",
       "      <td>среднее</td>\n",
       "      <td>1</td>\n",
       "      <td>женат / замужем</td>\n",
       "      <td>0</td>\n",
       "      <td>M</td>\n",
       "      <td>пенсионер</td>\n",
       "      <td>0</td>\n",
       "      <td>325395.724541</td>\n",
       "      <td>автомобили</td>\n",
       "    </tr>\n",
       "    <tr>\n",
       "      <th>7794</th>\n",
       "      <td>0</td>\n",
       "      <td>401663.850046</td>\n",
       "      <td>61</td>\n",
       "      <td>среднее</td>\n",
       "      <td>1</td>\n",
       "      <td>гражданский брак</td>\n",
       "      <td>1</td>\n",
       "      <td>F</td>\n",
       "      <td>пенсионер</td>\n",
       "      <td>0</td>\n",
       "      <td>48286.441362</td>\n",
       "      <td>свадьба</td>\n",
       "    </tr>\n",
       "    <tr>\n",
       "      <th>...</th>\n",
       "      <td>...</td>\n",
       "      <td>...</td>\n",
       "      <td>...</td>\n",
       "      <td>...</td>\n",
       "      <td>...</td>\n",
       "      <td>...</td>\n",
       "      <td>...</td>\n",
       "      <td>...</td>\n",
       "      <td>...</td>\n",
       "      <td>...</td>\n",
       "      <td>...</td>\n",
       "      <td>...</td>\n",
       "    </tr>\n",
       "    <tr>\n",
       "      <th>21489</th>\n",
       "      <td>2</td>\n",
       "      <td>NaN</td>\n",
       "      <td>47</td>\n",
       "      <td>Среднее</td>\n",
       "      <td>1</td>\n",
       "      <td>женат / замужем</td>\n",
       "      <td>0</td>\n",
       "      <td>M</td>\n",
       "      <td>компаньон</td>\n",
       "      <td>0</td>\n",
       "      <td>NaN</td>\n",
       "      <td>сделка с автомобилем</td>\n",
       "    </tr>\n",
       "    <tr>\n",
       "      <th>21495</th>\n",
       "      <td>1</td>\n",
       "      <td>NaN</td>\n",
       "      <td>50</td>\n",
       "      <td>среднее</td>\n",
       "      <td>1</td>\n",
       "      <td>гражданский брак</td>\n",
       "      <td>1</td>\n",
       "      <td>F</td>\n",
       "      <td>сотрудник</td>\n",
       "      <td>0</td>\n",
       "      <td>NaN</td>\n",
       "      <td>свадьба</td>\n",
       "    </tr>\n",
       "    <tr>\n",
       "      <th>21497</th>\n",
       "      <td>0</td>\n",
       "      <td>NaN</td>\n",
       "      <td>48</td>\n",
       "      <td>ВЫСШЕЕ</td>\n",
       "      <td>0</td>\n",
       "      <td>женат / замужем</td>\n",
       "      <td>0</td>\n",
       "      <td>F</td>\n",
       "      <td>компаньон</td>\n",
       "      <td>0</td>\n",
       "      <td>NaN</td>\n",
       "      <td>строительство недвижимости</td>\n",
       "    </tr>\n",
       "    <tr>\n",
       "      <th>21502</th>\n",
       "      <td>1</td>\n",
       "      <td>NaN</td>\n",
       "      <td>42</td>\n",
       "      <td>среднее</td>\n",
       "      <td>1</td>\n",
       "      <td>женат / замужем</td>\n",
       "      <td>0</td>\n",
       "      <td>F</td>\n",
       "      <td>сотрудник</td>\n",
       "      <td>0</td>\n",
       "      <td>NaN</td>\n",
       "      <td>строительство жилой недвижимости</td>\n",
       "    </tr>\n",
       "    <tr>\n",
       "      <th>21510</th>\n",
       "      <td>2</td>\n",
       "      <td>NaN</td>\n",
       "      <td>28</td>\n",
       "      <td>среднее</td>\n",
       "      <td>1</td>\n",
       "      <td>женат / замужем</td>\n",
       "      <td>0</td>\n",
       "      <td>F</td>\n",
       "      <td>сотрудник</td>\n",
       "      <td>0</td>\n",
       "      <td>NaN</td>\n",
       "      <td>приобретение автомобиля</td>\n",
       "    </tr>\n",
       "  </tbody>\n",
       "</table>\n",
       "<p>21525 rows × 12 columns</p>\n",
       "</div>"
      ],
      "text/plain": [
       "       children  days_employed  age_years education  education_id  \\\n",
       "6954          0  401755.400475         56   среднее             1   \n",
       "10006         0  401715.811749         69    высшее             0   \n",
       "7664          1  401675.093434         61   среднее             1   \n",
       "2156          0  401674.466633         60   среднее             1   \n",
       "7794          0  401663.850046         61   среднее             1   \n",
       "...         ...            ...        ...       ...           ...   \n",
       "21489         2            NaN         47   Среднее             1   \n",
       "21495         1            NaN         50   среднее             1   \n",
       "21497         0            NaN         48    ВЫСШЕЕ             0   \n",
       "21502         1            NaN         42   среднее             1   \n",
       "21510         2            NaN         28   среднее             1   \n",
       "\n",
       "               family_status  family_status_id gender employment_type  debt  \\\n",
       "6954          вдовец / вдова                 2      F       пенсионер     0   \n",
       "10006  Не женат / не замужем                 4      F       пенсионер     0   \n",
       "7664         женат / замужем                 0      F       пенсионер     0   \n",
       "2156         женат / замужем                 0      M       пенсионер     0   \n",
       "7794        гражданский брак                 1      F       пенсионер     0   \n",
       "...                      ...               ...    ...             ...   ...   \n",
       "21489        женат / замужем                 0      M       компаньон     0   \n",
       "21495       гражданский брак                 1      F       сотрудник     0   \n",
       "21497        женат / замужем                 0      F       компаньон     0   \n",
       "21502        женат / замужем                 0      F       сотрудник     0   \n",
       "21510        женат / замужем                 0      F       сотрудник     0   \n",
       "\n",
       "        total_income                           purpose  \n",
       "6954   176278.441171                      ремонт жилью  \n",
       "10006   57390.256908             получение образования  \n",
       "7664   126214.519212                 операции с жильем  \n",
       "2156   325395.724541                        автомобили  \n",
       "7794    48286.441362                           свадьба  \n",
       "...              ...                               ...  \n",
       "21489            NaN              сделка с автомобилем  \n",
       "21495            NaN                           свадьба  \n",
       "21497            NaN        строительство недвижимости  \n",
       "21502            NaN  строительство жилой недвижимости  \n",
       "21510            NaN           приобретение автомобиля  \n",
       "\n",
       "[21525 rows x 12 columns]"
      ]
     },
     "execution_count": 12,
     "metadata": {},
     "output_type": "execute_result"
    }
   ],
   "source": [
    "# максимальные и минимальные значения столбца 'days_employed'\n",
    "df.sort_values(by='days_employed', ascending = False)"
   ]
  },
  {
   "cell_type": "markdown",
   "metadata": {},
   "source": [
    "Значения трудового стажа менее месяца для людей старше 30 лет маловероятны, но проверить их не представляется возможным. Предположим, что они истинные.\n",
    "\n",
    "Однако не может быть стажа в 1100 лет. В нашей таблице максимальный возраст клиента - 75 лет. Минимальный возраст для заключения трудового договора - 14 лет. Поэтому максимально возможный стаж для нашей таблицы равен 22 265 дням = 365 * (75 - 14). Возможно, банковский менеджер вместо 401755 дней стажа хотел указать 40,1755 лет стажа, но этого мы уже не узнаем.\n",
    "\n",
    "Заменим с помощью функции значения стажа выше 22 265 дней на макcимально возможные в каждом случае, с учетом возраста каждого клиента.\n",
    "\n",
    "Однако перед этим устраним аномалии в столбце `age_years`."
   ]
  },
  {
   "cell_type": "markdown",
   "metadata": {},
   "source": [
    "Посмотрим на уникальные значения столбца и их частоту."
   ]
  },
  {
   "cell_type": "code",
   "execution_count": 13,
   "metadata": {},
   "outputs": [
    {
     "data": {
      "text/plain": [
       "35    617\n",
       "40    609\n",
       "41    607\n",
       "34    603\n",
       "38    598\n",
       "42    597\n",
       "33    581\n",
       "39    573\n",
       "31    560\n",
       "36    555\n",
       "44    547\n",
       "29    545\n",
       "30    540\n",
       "48    538\n",
       "37    537\n",
       "50    514\n",
       "43    513\n",
       "32    510\n",
       "49    508\n",
       "28    503\n",
       "45    497\n",
       "27    493\n",
       "56    487\n",
       "52    484\n",
       "47    480\n",
       "54    479\n",
       "46    475\n",
       "58    461\n",
       "57    460\n",
       "53    459\n",
       "51    448\n",
       "59    444\n",
       "55    443\n",
       "26    408\n",
       "60    377\n",
       "25    357\n",
       "61    355\n",
       "62    352\n",
       "63    269\n",
       "64    265\n",
       "24    264\n",
       "23    254\n",
       "65    194\n",
       "66    183\n",
       "22    183\n",
       "67    167\n",
       "21    111\n",
       "0     101\n",
       "68     99\n",
       "69     85\n",
       "70     65\n",
       "71     58\n",
       "20     51\n",
       "72     33\n",
       "19     14\n",
       "73      8\n",
       "74      6\n",
       "75      1\n",
       "Name: age_years, dtype: int64"
      ]
     },
     "execution_count": 13,
     "metadata": {},
     "output_type": "execute_result"
    }
   ],
   "source": [
    "# вывод уникальных значений столбца 'age_years' и их частоты\n",
    "df['age_years'].value_counts()"
   ]
  },
  {
   "cell_type": "markdown",
   "metadata": {},
   "source": [
    "Возраст клиента указан в диапазоне от 19 до 75 лет. Значение `0`, очевидно, является аномальным. Однако выяснить, каким оно должно было быть, уже не представляется возможным: это могло быть и `20`, и `30`, и `40`, и `50`, и `60`, и `70`.\n",
    "\n",
    "Так как доля этих аномальных значений около 0,5%, удалим значение `0`, поскольку это практически не повлияет на итоговый результат."
   ]
  },
  {
   "cell_type": "code",
   "execution_count": 14,
   "metadata": {},
   "outputs": [],
   "source": [
    "# удаление нулей в возрасте\n",
    "df = df.loc[df['age_years'] != 0]"
   ]
  },
  {
   "cell_type": "markdown",
   "metadata": {},
   "source": [
    "Проверим полученный результат."
   ]
  },
  {
   "cell_type": "code",
   "execution_count": 15,
   "metadata": {},
   "outputs": [
    {
     "data": {
      "text/plain": [
       "35    617\n",
       "40    609\n",
       "41    607\n",
       "34    603\n",
       "38    598\n",
       "42    597\n",
       "33    581\n",
       "39    573\n",
       "31    560\n",
       "36    555\n",
       "44    547\n",
       "29    545\n",
       "30    540\n",
       "48    538\n",
       "37    537\n",
       "50    514\n",
       "43    513\n",
       "32    510\n",
       "49    508\n",
       "28    503\n",
       "45    497\n",
       "27    493\n",
       "56    487\n",
       "52    484\n",
       "47    480\n",
       "54    479\n",
       "46    475\n",
       "58    461\n",
       "57    460\n",
       "53    459\n",
       "51    448\n",
       "59    444\n",
       "55    443\n",
       "26    408\n",
       "60    377\n",
       "25    357\n",
       "61    355\n",
       "62    352\n",
       "63    269\n",
       "64    265\n",
       "24    264\n",
       "23    254\n",
       "65    194\n",
       "22    183\n",
       "66    183\n",
       "67    167\n",
       "21    111\n",
       "68     99\n",
       "69     85\n",
       "70     65\n",
       "71     58\n",
       "20     51\n",
       "72     33\n",
       "19     14\n",
       "73      8\n",
       "74      6\n",
       "75      1\n",
       "Name: age_years, dtype: int64"
      ]
     },
     "execution_count": 15,
     "metadata": {},
     "output_type": "execute_result"
    }
   ],
   "source": [
    "# вывод уникальных значений столбца 'age_years' и их частоты\n",
    "df['age_years'].value_counts()"
   ]
  },
  {
   "cell_type": "markdown",
   "metadata": {},
   "source": [
    "Теперь можем провести замену аномальных значений стажа на максимально возможное значение с учетом возраста каждого клиента."
   ]
  },
  {
   "cell_type": "code",
   "execution_count": 16,
   "metadata": {},
   "outputs": [],
   "source": [
    "# замена аномальных значений стажа на максимально возможное значение с учетом возраста каждого клиента\n",
    "df.loc[df['days_employed'] > 22265, 'days_employed'] = 365 * (df['age_years']-14)"
   ]
  },
  {
   "cell_type": "code",
   "execution_count": 17,
   "metadata": {},
   "outputs": [
    {
     "data": {
      "text/html": [
       "<div>\n",
       "<style scoped>\n",
       "    .dataframe tbody tr th:only-of-type {\n",
       "        vertical-align: middle;\n",
       "    }\n",
       "\n",
       "    .dataframe tbody tr th {\n",
       "        vertical-align: top;\n",
       "    }\n",
       "\n",
       "    .dataframe thead th {\n",
       "        text-align: right;\n",
       "    }\n",
       "</style>\n",
       "<table border=\"1\" class=\"dataframe\">\n",
       "  <thead>\n",
       "    <tr style=\"text-align: right;\">\n",
       "      <th></th>\n",
       "      <th>children</th>\n",
       "      <th>days_employed</th>\n",
       "      <th>age_years</th>\n",
       "      <th>education</th>\n",
       "      <th>education_id</th>\n",
       "      <th>family_status</th>\n",
       "      <th>family_status_id</th>\n",
       "      <th>gender</th>\n",
       "      <th>employment_type</th>\n",
       "      <th>debt</th>\n",
       "      <th>total_income</th>\n",
       "      <th>purpose</th>\n",
       "    </tr>\n",
       "  </thead>\n",
       "  <tbody>\n",
       "    <tr>\n",
       "      <th>4895</th>\n",
       "      <td>0</td>\n",
       "      <td>21900.0</td>\n",
       "      <td>74</td>\n",
       "      <td>высшее</td>\n",
       "      <td>0</td>\n",
       "      <td>женат / замужем</td>\n",
       "      <td>0</td>\n",
       "      <td>F</td>\n",
       "      <td>пенсионер</td>\n",
       "      <td>0</td>\n",
       "      <td>134935.354225</td>\n",
       "      <td>покупка своего жилья</td>\n",
       "    </tr>\n",
       "    <tr>\n",
       "      <th>3460</th>\n",
       "      <td>0</td>\n",
       "      <td>21900.0</td>\n",
       "      <td>74</td>\n",
       "      <td>среднее</td>\n",
       "      <td>1</td>\n",
       "      <td>женат / замужем</td>\n",
       "      <td>0</td>\n",
       "      <td>M</td>\n",
       "      <td>пенсионер</td>\n",
       "      <td>0</td>\n",
       "      <td>54754.745517</td>\n",
       "      <td>операции со своей недвижимостью</td>\n",
       "    </tr>\n",
       "    <tr>\n",
       "      <th>2557</th>\n",
       "      <td>0</td>\n",
       "      <td>21900.0</td>\n",
       "      <td>74</td>\n",
       "      <td>среднее</td>\n",
       "      <td>1</td>\n",
       "      <td>женат / замужем</td>\n",
       "      <td>0</td>\n",
       "      <td>F</td>\n",
       "      <td>пенсионер</td>\n",
       "      <td>0</td>\n",
       "      <td>42927.300898</td>\n",
       "      <td>автомобили</td>\n",
       "    </tr>\n",
       "    <tr>\n",
       "      <th>19642</th>\n",
       "      <td>0</td>\n",
       "      <td>21900.0</td>\n",
       "      <td>74</td>\n",
       "      <td>среднее</td>\n",
       "      <td>1</td>\n",
       "      <td>вдовец / вдова</td>\n",
       "      <td>2</td>\n",
       "      <td>F</td>\n",
       "      <td>пенсионер</td>\n",
       "      <td>0</td>\n",
       "      <td>45089.546419</td>\n",
       "      <td>приобретение автомобиля</td>\n",
       "    </tr>\n",
       "    <tr>\n",
       "      <th>229</th>\n",
       "      <td>0</td>\n",
       "      <td>21535.0</td>\n",
       "      <td>73</td>\n",
       "      <td>среднее</td>\n",
       "      <td>1</td>\n",
       "      <td>вдовец / вдова</td>\n",
       "      <td>2</td>\n",
       "      <td>F</td>\n",
       "      <td>пенсионер</td>\n",
       "      <td>0</td>\n",
       "      <td>136897.008375</td>\n",
       "      <td>сделка с подержанным автомобилем</td>\n",
       "    </tr>\n",
       "    <tr>\n",
       "      <th>...</th>\n",
       "      <td>...</td>\n",
       "      <td>...</td>\n",
       "      <td>...</td>\n",
       "      <td>...</td>\n",
       "      <td>...</td>\n",
       "      <td>...</td>\n",
       "      <td>...</td>\n",
       "      <td>...</td>\n",
       "      <td>...</td>\n",
       "      <td>...</td>\n",
       "      <td>...</td>\n",
       "      <td>...</td>\n",
       "    </tr>\n",
       "    <tr>\n",
       "      <th>21489</th>\n",
       "      <td>2</td>\n",
       "      <td>NaN</td>\n",
       "      <td>47</td>\n",
       "      <td>Среднее</td>\n",
       "      <td>1</td>\n",
       "      <td>женат / замужем</td>\n",
       "      <td>0</td>\n",
       "      <td>M</td>\n",
       "      <td>компаньон</td>\n",
       "      <td>0</td>\n",
       "      <td>NaN</td>\n",
       "      <td>сделка с автомобилем</td>\n",
       "    </tr>\n",
       "    <tr>\n",
       "      <th>21495</th>\n",
       "      <td>1</td>\n",
       "      <td>NaN</td>\n",
       "      <td>50</td>\n",
       "      <td>среднее</td>\n",
       "      <td>1</td>\n",
       "      <td>гражданский брак</td>\n",
       "      <td>1</td>\n",
       "      <td>F</td>\n",
       "      <td>сотрудник</td>\n",
       "      <td>0</td>\n",
       "      <td>NaN</td>\n",
       "      <td>свадьба</td>\n",
       "    </tr>\n",
       "    <tr>\n",
       "      <th>21497</th>\n",
       "      <td>0</td>\n",
       "      <td>NaN</td>\n",
       "      <td>48</td>\n",
       "      <td>ВЫСШЕЕ</td>\n",
       "      <td>0</td>\n",
       "      <td>женат / замужем</td>\n",
       "      <td>0</td>\n",
       "      <td>F</td>\n",
       "      <td>компаньон</td>\n",
       "      <td>0</td>\n",
       "      <td>NaN</td>\n",
       "      <td>строительство недвижимости</td>\n",
       "    </tr>\n",
       "    <tr>\n",
       "      <th>21502</th>\n",
       "      <td>1</td>\n",
       "      <td>NaN</td>\n",
       "      <td>42</td>\n",
       "      <td>среднее</td>\n",
       "      <td>1</td>\n",
       "      <td>женат / замужем</td>\n",
       "      <td>0</td>\n",
       "      <td>F</td>\n",
       "      <td>сотрудник</td>\n",
       "      <td>0</td>\n",
       "      <td>NaN</td>\n",
       "      <td>строительство жилой недвижимости</td>\n",
       "    </tr>\n",
       "    <tr>\n",
       "      <th>21510</th>\n",
       "      <td>2</td>\n",
       "      <td>NaN</td>\n",
       "      <td>28</td>\n",
       "      <td>среднее</td>\n",
       "      <td>1</td>\n",
       "      <td>женат / замужем</td>\n",
       "      <td>0</td>\n",
       "      <td>F</td>\n",
       "      <td>сотрудник</td>\n",
       "      <td>0</td>\n",
       "      <td>NaN</td>\n",
       "      <td>приобретение автомобиля</td>\n",
       "    </tr>\n",
       "  </tbody>\n",
       "</table>\n",
       "<p>21424 rows × 12 columns</p>\n",
       "</div>"
      ],
      "text/plain": [
       "       children  days_employed  age_years education  education_id  \\\n",
       "4895          0        21900.0         74    высшее             0   \n",
       "3460          0        21900.0         74   среднее             1   \n",
       "2557          0        21900.0         74   среднее             1   \n",
       "19642         0        21900.0         74   среднее             1   \n",
       "229           0        21535.0         73   среднее             1   \n",
       "...         ...            ...        ...       ...           ...   \n",
       "21489         2            NaN         47   Среднее             1   \n",
       "21495         1            NaN         50   среднее             1   \n",
       "21497         0            NaN         48    ВЫСШЕЕ             0   \n",
       "21502         1            NaN         42   среднее             1   \n",
       "21510         2            NaN         28   среднее             1   \n",
       "\n",
       "          family_status  family_status_id gender employment_type  debt  \\\n",
       "4895    женат / замужем                 0      F       пенсионер     0   \n",
       "3460    женат / замужем                 0      M       пенсионер     0   \n",
       "2557    женат / замужем                 0      F       пенсионер     0   \n",
       "19642    вдовец / вдова                 2      F       пенсионер     0   \n",
       "229      вдовец / вдова                 2      F       пенсионер     0   \n",
       "...                 ...               ...    ...             ...   ...   \n",
       "21489   женат / замужем                 0      M       компаньон     0   \n",
       "21495  гражданский брак                 1      F       сотрудник     0   \n",
       "21497   женат / замужем                 0      F       компаньон     0   \n",
       "21502   женат / замужем                 0      F       сотрудник     0   \n",
       "21510   женат / замужем                 0      F       сотрудник     0   \n",
       "\n",
       "        total_income                           purpose  \n",
       "4895   134935.354225              покупка своего жилья  \n",
       "3460    54754.745517   операции со своей недвижимостью  \n",
       "2557    42927.300898                        автомобили  \n",
       "19642   45089.546419           приобретение автомобиля  \n",
       "229    136897.008375  сделка с подержанным автомобилем  \n",
       "...              ...                               ...  \n",
       "21489            NaN              сделка с автомобилем  \n",
       "21495            NaN                           свадьба  \n",
       "21497            NaN        строительство недвижимости  \n",
       "21502            NaN  строительство жилой недвижимости  \n",
       "21510            NaN           приобретение автомобиля  \n",
       "\n",
       "[21424 rows x 12 columns]"
      ]
     },
     "execution_count": 17,
     "metadata": {},
     "output_type": "execute_result"
    }
   ],
   "source": [
    "df.sort_values(by='days_employed', ascending = False)"
   ]
  },
  {
   "cell_type": "markdown",
   "metadata": {},
   "source": [
    "Рассмотрим уникальные значения столбца `education_id` и их частоту."
   ]
  },
  {
   "cell_type": "code",
   "execution_count": 18,
   "metadata": {},
   "outputs": [
    {
     "data": {
      "text/plain": [
       "1    15169\n",
       "0     5225\n",
       "2      742\n",
       "3      282\n",
       "4        6\n",
       "Name: education_id, dtype: int64"
      ]
     },
     "execution_count": 18,
     "metadata": {},
     "output_type": "execute_result"
    }
   ],
   "source": [
    "# вывод уникальных значений столбца 'education_id' и их частоты\n",
    "df['education_id'].value_counts()"
   ]
  },
  {
   "cell_type": "markdown",
   "metadata": {},
   "source": [
    "Выведем на экран первые 10 строк, охватывающие значения `3` и `4`."
   ]
  },
  {
   "cell_type": "code",
   "execution_count": 19,
   "metadata": {},
   "outputs": [
    {
     "data": {
      "text/html": [
       "<div>\n",
       "<style scoped>\n",
       "    .dataframe tbody tr th:only-of-type {\n",
       "        vertical-align: middle;\n",
       "    }\n",
       "\n",
       "    .dataframe tbody tr th {\n",
       "        vertical-align: top;\n",
       "    }\n",
       "\n",
       "    .dataframe thead th {\n",
       "        text-align: right;\n",
       "    }\n",
       "</style>\n",
       "<table border=\"1\" class=\"dataframe\">\n",
       "  <thead>\n",
       "    <tr style=\"text-align: right;\">\n",
       "      <th></th>\n",
       "      <th>children</th>\n",
       "      <th>days_employed</th>\n",
       "      <th>age_years</th>\n",
       "      <th>education</th>\n",
       "      <th>education_id</th>\n",
       "      <th>family_status</th>\n",
       "      <th>family_status_id</th>\n",
       "      <th>gender</th>\n",
       "      <th>employment_type</th>\n",
       "      <th>debt</th>\n",
       "      <th>total_income</th>\n",
       "      <th>purpose</th>\n",
       "    </tr>\n",
       "  </thead>\n",
       "  <tbody>\n",
       "    <tr>\n",
       "      <th>12021</th>\n",
       "      <td>3</td>\n",
       "      <td>5968.075884</td>\n",
       "      <td>36</td>\n",
       "      <td>ученая степень</td>\n",
       "      <td>4</td>\n",
       "      <td>женат / замужем</td>\n",
       "      <td>0</td>\n",
       "      <td>F</td>\n",
       "      <td>госслужащий</td>\n",
       "      <td>0</td>\n",
       "      <td>111392.231107</td>\n",
       "      <td>покупка жилья</td>\n",
       "    </tr>\n",
       "    <tr>\n",
       "      <th>21519</th>\n",
       "      <td>1</td>\n",
       "      <td>2351.431934</td>\n",
       "      <td>37</td>\n",
       "      <td>ученая степень</td>\n",
       "      <td>4</td>\n",
       "      <td>в разводе</td>\n",
       "      <td>3</td>\n",
       "      <td>M</td>\n",
       "      <td>сотрудник</td>\n",
       "      <td>0</td>\n",
       "      <td>115949.039788</td>\n",
       "      <td>покупка коммерческой недвижимости</td>\n",
       "    </tr>\n",
       "    <tr>\n",
       "      <th>6551</th>\n",
       "      <td>0</td>\n",
       "      <td>5352.038180</td>\n",
       "      <td>58</td>\n",
       "      <td>ученая степень</td>\n",
       "      <td>4</td>\n",
       "      <td>женат / замужем</td>\n",
       "      <td>0</td>\n",
       "      <td>M</td>\n",
       "      <td>сотрудник</td>\n",
       "      <td>0</td>\n",
       "      <td>268411.214536</td>\n",
       "      <td>заняться высшим образованием</td>\n",
       "    </tr>\n",
       "    <tr>\n",
       "      <th>4170</th>\n",
       "      <td>0</td>\n",
       "      <td>409.200149</td>\n",
       "      <td>45</td>\n",
       "      <td>УЧЕНАЯ СТЕПЕНЬ</td>\n",
       "      <td>4</td>\n",
       "      <td>Не женат / не замужем</td>\n",
       "      <td>4</td>\n",
       "      <td>M</td>\n",
       "      <td>сотрудник</td>\n",
       "      <td>0</td>\n",
       "      <td>198570.757322</td>\n",
       "      <td>операции с коммерческой недвижимостью</td>\n",
       "    </tr>\n",
       "    <tr>\n",
       "      <th>2963</th>\n",
       "      <td>0</td>\n",
       "      <td>20075.000000</td>\n",
       "      <td>69</td>\n",
       "      <td>Ученая степень</td>\n",
       "      <td>4</td>\n",
       "      <td>женат / замужем</td>\n",
       "      <td>0</td>\n",
       "      <td>M</td>\n",
       "      <td>пенсионер</td>\n",
       "      <td>0</td>\n",
       "      <td>98752.495442</td>\n",
       "      <td>покупка жилой недвижимости</td>\n",
       "    </tr>\n",
       "    <tr>\n",
       "      <th>12786</th>\n",
       "      <td>0</td>\n",
       "      <td>17520.000000</td>\n",
       "      <td>62</td>\n",
       "      <td>ученая степень</td>\n",
       "      <td>4</td>\n",
       "      <td>женат / замужем</td>\n",
       "      <td>0</td>\n",
       "      <td>F</td>\n",
       "      <td>пенсионер</td>\n",
       "      <td>0</td>\n",
       "      <td>255425.196556</td>\n",
       "      <td>покупка жилой недвижимости</td>\n",
       "    </tr>\n",
       "    <tr>\n",
       "      <th>5263</th>\n",
       "      <td>3</td>\n",
       "      <td>805.239416</td>\n",
       "      <td>30</td>\n",
       "      <td>начальное</td>\n",
       "      <td>3</td>\n",
       "      <td>в разводе</td>\n",
       "      <td>3</td>\n",
       "      <td>F</td>\n",
       "      <td>сотрудник</td>\n",
       "      <td>0</td>\n",
       "      <td>122164.630609</td>\n",
       "      <td>строительство недвижимости</td>\n",
       "    </tr>\n",
       "    <tr>\n",
       "      <th>12052</th>\n",
       "      <td>1</td>\n",
       "      <td>14965.000000</td>\n",
       "      <td>55</td>\n",
       "      <td>начальное</td>\n",
       "      <td>3</td>\n",
       "      <td>гражданский брак</td>\n",
       "      <td>1</td>\n",
       "      <td>F</td>\n",
       "      <td>пенсионер</td>\n",
       "      <td>0</td>\n",
       "      <td>25308.586849</td>\n",
       "      <td>дополнительное образование</td>\n",
       "    </tr>\n",
       "    <tr>\n",
       "      <th>9851</th>\n",
       "      <td>0</td>\n",
       "      <td>839.916738</td>\n",
       "      <td>45</td>\n",
       "      <td>начальное</td>\n",
       "      <td>3</td>\n",
       "      <td>женат / замужем</td>\n",
       "      <td>0</td>\n",
       "      <td>M</td>\n",
       "      <td>компаньон</td>\n",
       "      <td>1</td>\n",
       "      <td>229539.360436</td>\n",
       "      <td>операции с недвижимостью</td>\n",
       "    </tr>\n",
       "    <tr>\n",
       "      <th>14356</th>\n",
       "      <td>0</td>\n",
       "      <td>17520.000000</td>\n",
       "      <td>62</td>\n",
       "      <td>начальное</td>\n",
       "      <td>3</td>\n",
       "      <td>женат / замужем</td>\n",
       "      <td>0</td>\n",
       "      <td>F</td>\n",
       "      <td>пенсионер</td>\n",
       "      <td>1</td>\n",
       "      <td>284301.643893</td>\n",
       "      <td>автомобиль</td>\n",
       "    </tr>\n",
       "  </tbody>\n",
       "</table>\n",
       "</div>"
      ],
      "text/plain": [
       "       children  days_employed  age_years       education  education_id  \\\n",
       "12021         3    5968.075884         36  ученая степень             4   \n",
       "21519         1    2351.431934         37  ученая степень             4   \n",
       "6551          0    5352.038180         58  ученая степень             4   \n",
       "4170          0     409.200149         45  УЧЕНАЯ СТЕПЕНЬ             4   \n",
       "2963          0   20075.000000         69  Ученая степень             4   \n",
       "12786         0   17520.000000         62  ученая степень             4   \n",
       "5263          3     805.239416         30       начальное             3   \n",
       "12052         1   14965.000000         55       начальное             3   \n",
       "9851          0     839.916738         45       начальное             3   \n",
       "14356         0   17520.000000         62       начальное             3   \n",
       "\n",
       "               family_status  family_status_id gender employment_type  debt  \\\n",
       "12021        женат / замужем                 0      F     госслужащий     0   \n",
       "21519              в разводе                 3      M       сотрудник     0   \n",
       "6551         женат / замужем                 0      M       сотрудник     0   \n",
       "4170   Не женат / не замужем                 4      M       сотрудник     0   \n",
       "2963         женат / замужем                 0      M       пенсионер     0   \n",
       "12786        женат / замужем                 0      F       пенсионер     0   \n",
       "5263               в разводе                 3      F       сотрудник     0   \n",
       "12052       гражданский брак                 1      F       пенсионер     0   \n",
       "9851         женат / замужем                 0      M       компаньон     1   \n",
       "14356        женат / замужем                 0      F       пенсионер     1   \n",
       "\n",
       "        total_income                                purpose  \n",
       "12021  111392.231107                          покупка жилья  \n",
       "21519  115949.039788      покупка коммерческой недвижимости  \n",
       "6551   268411.214536           заняться высшим образованием  \n",
       "4170   198570.757322  операции с коммерческой недвижимостью  \n",
       "2963    98752.495442             покупка жилой недвижимости  \n",
       "12786  255425.196556             покупка жилой недвижимости  \n",
       "5263   122164.630609             строительство недвижимости  \n",
       "12052   25308.586849             дополнительное образование  \n",
       "9851   229539.360436               операции с недвижимостью  \n",
       "14356  284301.643893                             автомобиль  "
      ]
     },
     "execution_count": 19,
     "metadata": {},
     "output_type": "execute_result"
    }
   ],
   "source": [
    "# вывод первых 10 строк с максимальными значениями в столбце 'education_id'\n",
    "df.sort_values(by='education_id', ascending = False).head(10)"
   ]
  },
  {
   "cell_type": "markdown",
   "metadata": {},
   "source": [
    "Посмотрим на строки, в которых `education_id` равен 2."
   ]
  },
  {
   "cell_type": "code",
   "execution_count": 20,
   "metadata": {},
   "outputs": [
    {
     "data": {
      "text/html": [
       "<div>\n",
       "<style scoped>\n",
       "    .dataframe tbody tr th:only-of-type {\n",
       "        vertical-align: middle;\n",
       "    }\n",
       "\n",
       "    .dataframe tbody tr th {\n",
       "        vertical-align: top;\n",
       "    }\n",
       "\n",
       "    .dataframe thead th {\n",
       "        text-align: right;\n",
       "    }\n",
       "</style>\n",
       "<table border=\"1\" class=\"dataframe\">\n",
       "  <thead>\n",
       "    <tr style=\"text-align: right;\">\n",
       "      <th></th>\n",
       "      <th>children</th>\n",
       "      <th>days_employed</th>\n",
       "      <th>age_years</th>\n",
       "      <th>education</th>\n",
       "      <th>education_id</th>\n",
       "      <th>family_status</th>\n",
       "      <th>family_status_id</th>\n",
       "      <th>gender</th>\n",
       "      <th>employment_type</th>\n",
       "      <th>debt</th>\n",
       "      <th>total_income</th>\n",
       "      <th>purpose</th>\n",
       "    </tr>\n",
       "  </thead>\n",
       "  <tbody>\n",
       "    <tr>\n",
       "      <th>13</th>\n",
       "      <td>0</td>\n",
       "      <td>1846.641941</td>\n",
       "      <td>54</td>\n",
       "      <td>неоконченное высшее</td>\n",
       "      <td>2</td>\n",
       "      <td>женат / замужем</td>\n",
       "      <td>0</td>\n",
       "      <td>F</td>\n",
       "      <td>сотрудник</td>\n",
       "      <td>0</td>\n",
       "      <td>130458.228857</td>\n",
       "      <td>приобретение автомобиля</td>\n",
       "    </tr>\n",
       "    <tr>\n",
       "      <th>42</th>\n",
       "      <td>0</td>\n",
       "      <td>1257.496190</td>\n",
       "      <td>20</td>\n",
       "      <td>неоконченное высшее</td>\n",
       "      <td>2</td>\n",
       "      <td>Не женат / не замужем</td>\n",
       "      <td>4</td>\n",
       "      <td>F</td>\n",
       "      <td>сотрудник</td>\n",
       "      <td>0</td>\n",
       "      <td>82065.089021</td>\n",
       "      <td>получение образования</td>\n",
       "    </tr>\n",
       "    <tr>\n",
       "      <th>43</th>\n",
       "      <td>0</td>\n",
       "      <td>4375.681384</td>\n",
       "      <td>43</td>\n",
       "      <td>неоконченное высшее</td>\n",
       "      <td>2</td>\n",
       "      <td>в разводе</td>\n",
       "      <td>3</td>\n",
       "      <td>F</td>\n",
       "      <td>компаньон</td>\n",
       "      <td>0</td>\n",
       "      <td>272957.133509</td>\n",
       "      <td>приобретение автомобиля</td>\n",
       "    </tr>\n",
       "    <tr>\n",
       "      <th>64</th>\n",
       "      <td>0</td>\n",
       "      <td>118.891411</td>\n",
       "      <td>35</td>\n",
       "      <td>неоконченное высшее</td>\n",
       "      <td>2</td>\n",
       "      <td>Не женат / не замужем</td>\n",
       "      <td>4</td>\n",
       "      <td>M</td>\n",
       "      <td>сотрудник</td>\n",
       "      <td>0</td>\n",
       "      <td>282900.471308</td>\n",
       "      <td>сделка с подержанным автомобилем</td>\n",
       "    </tr>\n",
       "    <tr>\n",
       "      <th>134</th>\n",
       "      <td>1</td>\n",
       "      <td>4171.107677</td>\n",
       "      <td>46</td>\n",
       "      <td>НЕОКОНЧЕННОЕ ВЫСШЕЕ</td>\n",
       "      <td>2</td>\n",
       "      <td>в разводе</td>\n",
       "      <td>3</td>\n",
       "      <td>F</td>\n",
       "      <td>сотрудник</td>\n",
       "      <td>0</td>\n",
       "      <td>166015.790504</td>\n",
       "      <td>покупка жилой недвижимости</td>\n",
       "    </tr>\n",
       "    <tr>\n",
       "      <th>...</th>\n",
       "      <td>...</td>\n",
       "      <td>...</td>\n",
       "      <td>...</td>\n",
       "      <td>...</td>\n",
       "      <td>...</td>\n",
       "      <td>...</td>\n",
       "      <td>...</td>\n",
       "      <td>...</td>\n",
       "      <td>...</td>\n",
       "      <td>...</td>\n",
       "      <td>...</td>\n",
       "      <td>...</td>\n",
       "    </tr>\n",
       "    <tr>\n",
       "      <th>21432</th>\n",
       "      <td>1</td>\n",
       "      <td>NaN</td>\n",
       "      <td>38</td>\n",
       "      <td>неоконченное высшее</td>\n",
       "      <td>2</td>\n",
       "      <td>Не женат / не замужем</td>\n",
       "      <td>4</td>\n",
       "      <td>F</td>\n",
       "      <td>сотрудник</td>\n",
       "      <td>0</td>\n",
       "      <td>NaN</td>\n",
       "      <td>операции с жильем</td>\n",
       "    </tr>\n",
       "    <tr>\n",
       "      <th>21437</th>\n",
       "      <td>0</td>\n",
       "      <td>305.424394</td>\n",
       "      <td>25</td>\n",
       "      <td>неоконченное высшее</td>\n",
       "      <td>2</td>\n",
       "      <td>Не женат / не замужем</td>\n",
       "      <td>4</td>\n",
       "      <td>F</td>\n",
       "      <td>сотрудник</td>\n",
       "      <td>0</td>\n",
       "      <td>147216.431172</td>\n",
       "      <td>покупка жилья</td>\n",
       "    </tr>\n",
       "    <tr>\n",
       "      <th>21481</th>\n",
       "      <td>0</td>\n",
       "      <td>829.519627</td>\n",
       "      <td>30</td>\n",
       "      <td>неоконченное высшее</td>\n",
       "      <td>2</td>\n",
       "      <td>гражданский брак</td>\n",
       "      <td>1</td>\n",
       "      <td>M</td>\n",
       "      <td>сотрудник</td>\n",
       "      <td>0</td>\n",
       "      <td>440470.880955</td>\n",
       "      <td>на покупку автомобиля</td>\n",
       "    </tr>\n",
       "    <tr>\n",
       "      <th>21500</th>\n",
       "      <td>0</td>\n",
       "      <td>578.082757</td>\n",
       "      <td>26</td>\n",
       "      <td>неоконченное высшее</td>\n",
       "      <td>2</td>\n",
       "      <td>Не женат / не замужем</td>\n",
       "      <td>4</td>\n",
       "      <td>M</td>\n",
       "      <td>компаньон</td>\n",
       "      <td>0</td>\n",
       "      <td>77813.293365</td>\n",
       "      <td>операции с коммерческой недвижимостью</td>\n",
       "    </tr>\n",
       "    <tr>\n",
       "      <th>21514</th>\n",
       "      <td>0</td>\n",
       "      <td>280.469996</td>\n",
       "      <td>27</td>\n",
       "      <td>неоконченное высшее</td>\n",
       "      <td>2</td>\n",
       "      <td>Не женат / не замужем</td>\n",
       "      <td>4</td>\n",
       "      <td>M</td>\n",
       "      <td>компаньон</td>\n",
       "      <td>0</td>\n",
       "      <td>355988.407188</td>\n",
       "      <td>строительство недвижимости</td>\n",
       "    </tr>\n",
       "  </tbody>\n",
       "</table>\n",
       "<p>742 rows × 12 columns</p>\n",
       "</div>"
      ],
      "text/plain": [
       "       children  days_employed  age_years            education  education_id  \\\n",
       "13            0    1846.641941         54  неоконченное высшее             2   \n",
       "42            0    1257.496190         20  неоконченное высшее             2   \n",
       "43            0    4375.681384         43  неоконченное высшее             2   \n",
       "64            0     118.891411         35  неоконченное высшее             2   \n",
       "134           1    4171.107677         46  НЕОКОНЧЕННОЕ ВЫСШЕЕ             2   \n",
       "...         ...            ...        ...                  ...           ...   \n",
       "21432         1            NaN         38  неоконченное высшее             2   \n",
       "21437         0     305.424394         25  неоконченное высшее             2   \n",
       "21481         0     829.519627         30  неоконченное высшее             2   \n",
       "21500         0     578.082757         26  неоконченное высшее             2   \n",
       "21514         0     280.469996         27  неоконченное высшее             2   \n",
       "\n",
       "               family_status  family_status_id gender employment_type  debt  \\\n",
       "13           женат / замужем                 0      F       сотрудник     0   \n",
       "42     Не женат / не замужем                 4      F       сотрудник     0   \n",
       "43                 в разводе                 3      F       компаньон     0   \n",
       "64     Не женат / не замужем                 4      M       сотрудник     0   \n",
       "134                в разводе                 3      F       сотрудник     0   \n",
       "...                      ...               ...    ...             ...   ...   \n",
       "21432  Не женат / не замужем                 4      F       сотрудник     0   \n",
       "21437  Не женат / не замужем                 4      F       сотрудник     0   \n",
       "21481       гражданский брак                 1      M       сотрудник     0   \n",
       "21500  Не женат / не замужем                 4      M       компаньон     0   \n",
       "21514  Не женат / не замужем                 4      M       компаньон     0   \n",
       "\n",
       "        total_income                                purpose  \n",
       "13     130458.228857                приобретение автомобиля  \n",
       "42      82065.089021                  получение образования  \n",
       "43     272957.133509                приобретение автомобиля  \n",
       "64     282900.471308       сделка с подержанным автомобилем  \n",
       "134    166015.790504             покупка жилой недвижимости  \n",
       "...              ...                                    ...  \n",
       "21432            NaN                      операции с жильем  \n",
       "21437  147216.431172                          покупка жилья  \n",
       "21481  440470.880955                  на покупку автомобиля  \n",
       "21500   77813.293365  операции с коммерческой недвижимостью  \n",
       "21514  355988.407188             строительство недвижимости  \n",
       "\n",
       "[742 rows x 12 columns]"
      ]
     },
     "execution_count": 20,
     "metadata": {},
     "output_type": "execute_result"
    }
   ],
   "source": [
    "# вывод строк с идентификатором '2' в столбце 'education_id'\n",
    "df.loc[df['education_id'] == 2]"
   ]
  },
  {
   "cell_type": "markdown",
   "metadata": {},
   "source": [
    "Получается нелогичная градация: 0 - высшее образование, 1 - среднее образование, 2 - незаконченное высшее, 3 - начальное образование, а 4 - ученая степень.\n",
    "\n",
    "Правильнее будет присвоить id следующим образом: 0 - начальное образование, 1 - среднее образование, 2 - незаконченное высшее образование, 3 - высшее образование, 4 - ученая степень. Необходимо заменить id `0` на `3`, и наоборот. Чтобы не смешать значения `0` и `3`, проведем замену в несколько итераций с промежуточным идентификатором `30`."
   ]
  },
  {
   "cell_type": "code",
   "execution_count": 21,
   "metadata": {},
   "outputs": [],
   "source": [
    "# замена нелогичных значений 'education_id'\n",
    "df['education_id']=df['education_id'].replace([0], 30)\n",
    "df['education_id']=df['education_id'].replace([3], 0)\n",
    "df['education_id']=df['education_id'].replace([30], 3)"
   ]
  },
  {
   "cell_type": "markdown",
   "metadata": {},
   "source": [
    "Проверим результат, выведя на экран значения с идентификатором `0`."
   ]
  },
  {
   "cell_type": "code",
   "execution_count": 22,
   "metadata": {},
   "outputs": [
    {
     "data": {
      "text/html": [
       "<div>\n",
       "<style scoped>\n",
       "    .dataframe tbody tr th:only-of-type {\n",
       "        vertical-align: middle;\n",
       "    }\n",
       "\n",
       "    .dataframe tbody tr th {\n",
       "        vertical-align: top;\n",
       "    }\n",
       "\n",
       "    .dataframe thead th {\n",
       "        text-align: right;\n",
       "    }\n",
       "</style>\n",
       "<table border=\"1\" class=\"dataframe\">\n",
       "  <thead>\n",
       "    <tr style=\"text-align: right;\">\n",
       "      <th></th>\n",
       "      <th>children</th>\n",
       "      <th>days_employed</th>\n",
       "      <th>age_years</th>\n",
       "      <th>education</th>\n",
       "      <th>education_id</th>\n",
       "      <th>family_status</th>\n",
       "      <th>family_status_id</th>\n",
       "      <th>gender</th>\n",
       "      <th>employment_type</th>\n",
       "      <th>debt</th>\n",
       "      <th>total_income</th>\n",
       "      <th>purpose</th>\n",
       "    </tr>\n",
       "  </thead>\n",
       "  <tbody>\n",
       "    <tr>\n",
       "      <th>31</th>\n",
       "      <td>0</td>\n",
       "      <td>1682.083438</td>\n",
       "      <td>47</td>\n",
       "      <td>начальное</td>\n",
       "      <td>0</td>\n",
       "      <td>женат / замужем</td>\n",
       "      <td>0</td>\n",
       "      <td>F</td>\n",
       "      <td>сотрудник</td>\n",
       "      <td>0</td>\n",
       "      <td>275485.684538</td>\n",
       "      <td>жилье</td>\n",
       "    </tr>\n",
       "    <tr>\n",
       "      <th>136</th>\n",
       "      <td>0</td>\n",
       "      <td>16790.000000</td>\n",
       "      <td>60</td>\n",
       "      <td>начальное</td>\n",
       "      <td>0</td>\n",
       "      <td>женат / замужем</td>\n",
       "      <td>0</td>\n",
       "      <td>M</td>\n",
       "      <td>пенсионер</td>\n",
       "      <td>0</td>\n",
       "      <td>113124.202781</td>\n",
       "      <td>операции со своей недвижимостью</td>\n",
       "    </tr>\n",
       "    <tr>\n",
       "      <th>210</th>\n",
       "      <td>2</td>\n",
       "      <td>14965.000000</td>\n",
       "      <td>55</td>\n",
       "      <td>начальное</td>\n",
       "      <td>0</td>\n",
       "      <td>вдовец / вдова</td>\n",
       "      <td>2</td>\n",
       "      <td>F</td>\n",
       "      <td>пенсионер</td>\n",
       "      <td>0</td>\n",
       "      <td>160635.120347</td>\n",
       "      <td>строительство жилой недвижимости</td>\n",
       "    </tr>\n",
       "    <tr>\n",
       "      <th>211</th>\n",
       "      <td>0</td>\n",
       "      <td>577.273434</td>\n",
       "      <td>41</td>\n",
       "      <td>начальное</td>\n",
       "      <td>0</td>\n",
       "      <td>гражданский брак</td>\n",
       "      <td>1</td>\n",
       "      <td>F</td>\n",
       "      <td>сотрудник</td>\n",
       "      <td>0</td>\n",
       "      <td>36649.078439</td>\n",
       "      <td>сделка с подержанным автомобилем</td>\n",
       "    </tr>\n",
       "    <tr>\n",
       "      <th>272</th>\n",
       "      <td>0</td>\n",
       "      <td>5538.963731</td>\n",
       "      <td>35</td>\n",
       "      <td>начальное</td>\n",
       "      <td>0</td>\n",
       "      <td>гражданский брак</td>\n",
       "      <td>1</td>\n",
       "      <td>M</td>\n",
       "      <td>сотрудник</td>\n",
       "      <td>1</td>\n",
       "      <td>123814.079468</td>\n",
       "      <td>заняться образованием</td>\n",
       "    </tr>\n",
       "  </tbody>\n",
       "</table>\n",
       "</div>"
      ],
      "text/plain": [
       "     children  days_employed  age_years  education  education_id  \\\n",
       "31          0    1682.083438         47  начальное             0   \n",
       "136         0   16790.000000         60  начальное             0   \n",
       "210         2   14965.000000         55  начальное             0   \n",
       "211         0     577.273434         41  начальное             0   \n",
       "272         0    5538.963731         35  начальное             0   \n",
       "\n",
       "        family_status  family_status_id gender employment_type  debt  \\\n",
       "31    женат / замужем                 0      F       сотрудник     0   \n",
       "136   женат / замужем                 0      M       пенсионер     0   \n",
       "210    вдовец / вдова                 2      F       пенсионер     0   \n",
       "211  гражданский брак                 1      F       сотрудник     0   \n",
       "272  гражданский брак                 1      M       сотрудник     1   \n",
       "\n",
       "      total_income                           purpose  \n",
       "31   275485.684538                             жилье  \n",
       "136  113124.202781   операции со своей недвижимостью  \n",
       "210  160635.120347  строительство жилой недвижимости  \n",
       "211   36649.078439  сделка с подержанным автомобилем  \n",
       "272  123814.079468             заняться образованием  "
      ]
     },
     "execution_count": 22,
     "metadata": {},
     "output_type": "execute_result"
    }
   ],
   "source": [
    "# вывод первых пяти строк с идентификатором '0' в столбце 'education_id'\n",
    "df.loc[df['education_id'] == 0].head()"
   ]
  },
  {
   "cell_type": "markdown",
   "metadata": {},
   "source": [
    "Всё нормально."
   ]
  },
  {
   "cell_type": "markdown",
   "metadata": {},
   "source": [
    "Рассмотрим уникальные значения столбца `family_status_id` и их частоту."
   ]
  },
  {
   "cell_type": "code",
   "execution_count": 23,
   "metadata": {},
   "outputs": [
    {
     "data": {
      "text/plain": [
       "0    12331\n",
       "1     4156\n",
       "4     2797\n",
       "3     1185\n",
       "2      955\n",
       "Name: family_status_id, dtype: int64"
      ]
     },
     "execution_count": 23,
     "metadata": {},
     "output_type": "execute_result"
    }
   ],
   "source": [
    "# вывод уникальных значений столбца 'family_status_id' и их частоты\n",
    "df['family_status_id'].value_counts()"
   ]
  },
  {
   "cell_type": "markdown",
   "metadata": {},
   "source": [
    "Выведем последовательно на экран строки, охватывающие значения `2`, `3` и `4`."
   ]
  },
  {
   "cell_type": "code",
   "execution_count": 24,
   "metadata": {},
   "outputs": [
    {
     "data": {
      "text/html": [
       "<div>\n",
       "<style scoped>\n",
       "    .dataframe tbody tr th:only-of-type {\n",
       "        vertical-align: middle;\n",
       "    }\n",
       "\n",
       "    .dataframe tbody tr th {\n",
       "        vertical-align: top;\n",
       "    }\n",
       "\n",
       "    .dataframe thead th {\n",
       "        text-align: right;\n",
       "    }\n",
       "</style>\n",
       "<table border=\"1\" class=\"dataframe\">\n",
       "  <thead>\n",
       "    <tr style=\"text-align: right;\">\n",
       "      <th></th>\n",
       "      <th>children</th>\n",
       "      <th>days_employed</th>\n",
       "      <th>age_years</th>\n",
       "      <th>education</th>\n",
       "      <th>education_id</th>\n",
       "      <th>family_status</th>\n",
       "      <th>family_status_id</th>\n",
       "      <th>gender</th>\n",
       "      <th>employment_type</th>\n",
       "      <th>debt</th>\n",
       "      <th>total_income</th>\n",
       "      <th>purpose</th>\n",
       "    </tr>\n",
       "  </thead>\n",
       "  <tbody>\n",
       "    <tr>\n",
       "      <th>18</th>\n",
       "      <td>0</td>\n",
       "      <td>14235.000000</td>\n",
       "      <td>53</td>\n",
       "      <td>среднее</td>\n",
       "      <td>1</td>\n",
       "      <td>вдовец / вдова</td>\n",
       "      <td>2</td>\n",
       "      <td>F</td>\n",
       "      <td>пенсионер</td>\n",
       "      <td>0</td>\n",
       "      <td>56823.777243</td>\n",
       "      <td>на покупку подержанного автомобиля</td>\n",
       "    </tr>\n",
       "    <tr>\n",
       "      <th>56</th>\n",
       "      <td>0</td>\n",
       "      <td>18250.000000</td>\n",
       "      <td>64</td>\n",
       "      <td>среднее</td>\n",
       "      <td>1</td>\n",
       "      <td>вдовец / вдова</td>\n",
       "      <td>2</td>\n",
       "      <td>F</td>\n",
       "      <td>пенсионер</td>\n",
       "      <td>0</td>\n",
       "      <td>149141.043533</td>\n",
       "      <td>образование</td>\n",
       "    </tr>\n",
       "    <tr>\n",
       "      <th>57</th>\n",
       "      <td>0</td>\n",
       "      <td>2424.809749</td>\n",
       "      <td>44</td>\n",
       "      <td>среднее</td>\n",
       "      <td>1</td>\n",
       "      <td>вдовец / вдова</td>\n",
       "      <td>2</td>\n",
       "      <td>F</td>\n",
       "      <td>сотрудник</td>\n",
       "      <td>0</td>\n",
       "      <td>58616.405960</td>\n",
       "      <td>образование</td>\n",
       "    </tr>\n",
       "    <tr>\n",
       "      <th>100</th>\n",
       "      <td>0</td>\n",
       "      <td>605.026441</td>\n",
       "      <td>49</td>\n",
       "      <td>СРЕДНЕЕ</td>\n",
       "      <td>1</td>\n",
       "      <td>вдовец / вдова</td>\n",
       "      <td>2</td>\n",
       "      <td>F</td>\n",
       "      <td>сотрудник</td>\n",
       "      <td>1</td>\n",
       "      <td>176384.882536</td>\n",
       "      <td>операции с недвижимостью</td>\n",
       "    </tr>\n",
       "    <tr>\n",
       "      <th>105</th>\n",
       "      <td>0</td>\n",
       "      <td>2098.626296</td>\n",
       "      <td>62</td>\n",
       "      <td>СРЕДНЕЕ</td>\n",
       "      <td>1</td>\n",
       "      <td>вдовец / вдова</td>\n",
       "      <td>2</td>\n",
       "      <td>F</td>\n",
       "      <td>сотрудник</td>\n",
       "      <td>0</td>\n",
       "      <td>76884.187588</td>\n",
       "      <td>строительство собственной недвижимости</td>\n",
       "    </tr>\n",
       "  </tbody>\n",
       "</table>\n",
       "</div>"
      ],
      "text/plain": [
       "     children  days_employed  age_years education  education_id  \\\n",
       "18          0   14235.000000         53   среднее             1   \n",
       "56          0   18250.000000         64   среднее             1   \n",
       "57          0    2424.809749         44   среднее             1   \n",
       "100         0     605.026441         49   СРЕДНЕЕ             1   \n",
       "105         0    2098.626296         62   СРЕДНЕЕ             1   \n",
       "\n",
       "      family_status  family_status_id gender employment_type  debt  \\\n",
       "18   вдовец / вдова                 2      F       пенсионер     0   \n",
       "56   вдовец / вдова                 2      F       пенсионер     0   \n",
       "57   вдовец / вдова                 2      F       сотрудник     0   \n",
       "100  вдовец / вдова                 2      F       сотрудник     1   \n",
       "105  вдовец / вдова                 2      F       сотрудник     0   \n",
       "\n",
       "      total_income                                 purpose  \n",
       "18    56823.777243      на покупку подержанного автомобиля  \n",
       "56   149141.043533                             образование  \n",
       "57    58616.405960                             образование  \n",
       "100  176384.882536                операции с недвижимостью  \n",
       "105   76884.187588  строительство собственной недвижимости  "
      ]
     },
     "execution_count": 24,
     "metadata": {},
     "output_type": "execute_result"
    }
   ],
   "source": [
    "# вывод первых пяти строк с идентификатором '2' в столбце 'family_status_id'\n",
    "df.loc[df['family_status_id'] == 2].head()"
   ]
  },
  {
   "cell_type": "code",
   "execution_count": 25,
   "metadata": {},
   "outputs": [
    {
     "data": {
      "text/html": [
       "<div>\n",
       "<style scoped>\n",
       "    .dataframe tbody tr th:only-of-type {\n",
       "        vertical-align: middle;\n",
       "    }\n",
       "\n",
       "    .dataframe tbody tr th {\n",
       "        vertical-align: top;\n",
       "    }\n",
       "\n",
       "    .dataframe thead th {\n",
       "        text-align: right;\n",
       "    }\n",
       "</style>\n",
       "<table border=\"1\" class=\"dataframe\">\n",
       "  <thead>\n",
       "    <tr style=\"text-align: right;\">\n",
       "      <th></th>\n",
       "      <th>children</th>\n",
       "      <th>days_employed</th>\n",
       "      <th>age_years</th>\n",
       "      <th>education</th>\n",
       "      <th>education_id</th>\n",
       "      <th>family_status</th>\n",
       "      <th>family_status_id</th>\n",
       "      <th>gender</th>\n",
       "      <th>employment_type</th>\n",
       "      <th>debt</th>\n",
       "      <th>total_income</th>\n",
       "      <th>purpose</th>\n",
       "    </tr>\n",
       "  </thead>\n",
       "  <tbody>\n",
       "    <tr>\n",
       "      <th>19</th>\n",
       "      <td>0</td>\n",
       "      <td>10038.818549</td>\n",
       "      <td>48</td>\n",
       "      <td>СРЕДНЕЕ</td>\n",
       "      <td>1</td>\n",
       "      <td>в разводе</td>\n",
       "      <td>3</td>\n",
       "      <td>F</td>\n",
       "      <td>сотрудник</td>\n",
       "      <td>0</td>\n",
       "      <td>242831.107982</td>\n",
       "      <td>на покупку своего автомобиля</td>\n",
       "    </tr>\n",
       "    <tr>\n",
       "      <th>43</th>\n",
       "      <td>0</td>\n",
       "      <td>4375.681384</td>\n",
       "      <td>43</td>\n",
       "      <td>неоконченное высшее</td>\n",
       "      <td>2</td>\n",
       "      <td>в разводе</td>\n",
       "      <td>3</td>\n",
       "      <td>F</td>\n",
       "      <td>компаньон</td>\n",
       "      <td>0</td>\n",
       "      <td>272957.133509</td>\n",
       "      <td>приобретение автомобиля</td>\n",
       "    </tr>\n",
       "    <tr>\n",
       "      <th>53</th>\n",
       "      <td>0</td>\n",
       "      <td>4219.883386</td>\n",
       "      <td>61</td>\n",
       "      <td>СРЕДНЕЕ</td>\n",
       "      <td>1</td>\n",
       "      <td>в разводе</td>\n",
       "      <td>3</td>\n",
       "      <td>F</td>\n",
       "      <td>компаньон</td>\n",
       "      <td>0</td>\n",
       "      <td>311453.599530</td>\n",
       "      <td>покупка своего жилья</td>\n",
       "    </tr>\n",
       "    <tr>\n",
       "      <th>117</th>\n",
       "      <td>0</td>\n",
       "      <td>3817.113295</td>\n",
       "      <td>41</td>\n",
       "      <td>среднее</td>\n",
       "      <td>1</td>\n",
       "      <td>в разводе</td>\n",
       "      <td>3</td>\n",
       "      <td>F</td>\n",
       "      <td>сотрудник</td>\n",
       "      <td>0</td>\n",
       "      <td>178975.133574</td>\n",
       "      <td>на покупку автомобиля</td>\n",
       "    </tr>\n",
       "    <tr>\n",
       "      <th>128</th>\n",
       "      <td>0</td>\n",
       "      <td>19345.000000</td>\n",
       "      <td>67</td>\n",
       "      <td>среднее</td>\n",
       "      <td>1</td>\n",
       "      <td>в разводе</td>\n",
       "      <td>3</td>\n",
       "      <td>F</td>\n",
       "      <td>пенсионер</td>\n",
       "      <td>0</td>\n",
       "      <td>112331.787067</td>\n",
       "      <td>сделка с автомобилем</td>\n",
       "    </tr>\n",
       "  </tbody>\n",
       "</table>\n",
       "</div>"
      ],
      "text/plain": [
       "     children  days_employed  age_years            education  education_id  \\\n",
       "19          0   10038.818549         48              СРЕДНЕЕ             1   \n",
       "43          0    4375.681384         43  неоконченное высшее             2   \n",
       "53          0    4219.883386         61              СРЕДНЕЕ             1   \n",
       "117         0    3817.113295         41              среднее             1   \n",
       "128         0   19345.000000         67              среднее             1   \n",
       "\n",
       "    family_status  family_status_id gender employment_type  debt  \\\n",
       "19      в разводе                 3      F       сотрудник     0   \n",
       "43      в разводе                 3      F       компаньон     0   \n",
       "53      в разводе                 3      F       компаньон     0   \n",
       "117     в разводе                 3      F       сотрудник     0   \n",
       "128     в разводе                 3      F       пенсионер     0   \n",
       "\n",
       "      total_income                       purpose  \n",
       "19   242831.107982  на покупку своего автомобиля  \n",
       "43   272957.133509       приобретение автомобиля  \n",
       "53   311453.599530          покупка своего жилья  \n",
       "117  178975.133574         на покупку автомобиля  \n",
       "128  112331.787067          сделка с автомобилем  "
      ]
     },
     "execution_count": 25,
     "metadata": {},
     "output_type": "execute_result"
    }
   ],
   "source": [
    "# вывод первых пяти строк с идентификатором '3' в столбце 'family_status_id'\n",
    "df.loc[df['family_status_id'] == 3].head()"
   ]
  },
  {
   "cell_type": "code",
   "execution_count": 26,
   "metadata": {},
   "outputs": [
    {
     "data": {
      "text/html": [
       "<div>\n",
       "<style scoped>\n",
       "    .dataframe tbody tr th:only-of-type {\n",
       "        vertical-align: middle;\n",
       "    }\n",
       "\n",
       "    .dataframe tbody tr th {\n",
       "        vertical-align: top;\n",
       "    }\n",
       "\n",
       "    .dataframe thead th {\n",
       "        text-align: right;\n",
       "    }\n",
       "</style>\n",
       "<table border=\"1\" class=\"dataframe\">\n",
       "  <thead>\n",
       "    <tr style=\"text-align: right;\">\n",
       "      <th></th>\n",
       "      <th>children</th>\n",
       "      <th>days_employed</th>\n",
       "      <th>age_years</th>\n",
       "      <th>education</th>\n",
       "      <th>education_id</th>\n",
       "      <th>family_status</th>\n",
       "      <th>family_status_id</th>\n",
       "      <th>gender</th>\n",
       "      <th>employment_type</th>\n",
       "      <th>debt</th>\n",
       "      <th>total_income</th>\n",
       "      <th>purpose</th>\n",
       "    </tr>\n",
       "  </thead>\n",
       "  <tbody>\n",
       "    <tr>\n",
       "      <th>24</th>\n",
       "      <td>1</td>\n",
       "      <td>15695.000000</td>\n",
       "      <td>57</td>\n",
       "      <td>среднее</td>\n",
       "      <td>1</td>\n",
       "      <td>Не женат / не замужем</td>\n",
       "      <td>4</td>\n",
       "      <td>F</td>\n",
       "      <td>пенсионер</td>\n",
       "      <td>0</td>\n",
       "      <td>290547.235997</td>\n",
       "      <td>операции с коммерческой недвижимостью</td>\n",
       "    </tr>\n",
       "    <tr>\n",
       "      <th>29</th>\n",
       "      <td>0</td>\n",
       "      <td>NaN</td>\n",
       "      <td>63</td>\n",
       "      <td>среднее</td>\n",
       "      <td>1</td>\n",
       "      <td>Не женат / не замужем</td>\n",
       "      <td>4</td>\n",
       "      <td>F</td>\n",
       "      <td>пенсионер</td>\n",
       "      <td>0</td>\n",
       "      <td>NaN</td>\n",
       "      <td>строительство жилой недвижимости</td>\n",
       "    </tr>\n",
       "    <tr>\n",
       "      <th>36</th>\n",
       "      <td>0</td>\n",
       "      <td>176.216688</td>\n",
       "      <td>33</td>\n",
       "      <td>среднее</td>\n",
       "      <td>1</td>\n",
       "      <td>Не женат / не замужем</td>\n",
       "      <td>4</td>\n",
       "      <td>M</td>\n",
       "      <td>сотрудник</td>\n",
       "      <td>0</td>\n",
       "      <td>138830.650734</td>\n",
       "      <td>автомобили</td>\n",
       "    </tr>\n",
       "    <tr>\n",
       "      <th>38</th>\n",
       "      <td>0</td>\n",
       "      <td>597.881827</td>\n",
       "      <td>25</td>\n",
       "      <td>высшее</td>\n",
       "      <td>3</td>\n",
       "      <td>Не женат / не замужем</td>\n",
       "      <td>4</td>\n",
       "      <td>M</td>\n",
       "      <td>сотрудник</td>\n",
       "      <td>1</td>\n",
       "      <td>192247.298639</td>\n",
       "      <td>образование</td>\n",
       "    </tr>\n",
       "    <tr>\n",
       "      <th>40</th>\n",
       "      <td>0</td>\n",
       "      <td>1030.362606</td>\n",
       "      <td>30</td>\n",
       "      <td>среднее</td>\n",
       "      <td>1</td>\n",
       "      <td>Не женат / не замужем</td>\n",
       "      <td>4</td>\n",
       "      <td>M</td>\n",
       "      <td>компаньон</td>\n",
       "      <td>0</td>\n",
       "      <td>142865.579146</td>\n",
       "      <td>покупка недвижимости</td>\n",
       "    </tr>\n",
       "  </tbody>\n",
       "</table>\n",
       "</div>"
      ],
      "text/plain": [
       "    children  days_employed  age_years education  education_id  \\\n",
       "24         1   15695.000000         57   среднее             1   \n",
       "29         0            NaN         63   среднее             1   \n",
       "36         0     176.216688         33   среднее             1   \n",
       "38         0     597.881827         25    высшее             3   \n",
       "40         0    1030.362606         30   среднее             1   \n",
       "\n",
       "            family_status  family_status_id gender employment_type  debt  \\\n",
       "24  Не женат / не замужем                 4      F       пенсионер     0   \n",
       "29  Не женат / не замужем                 4      F       пенсионер     0   \n",
       "36  Не женат / не замужем                 4      M       сотрудник     0   \n",
       "38  Не женат / не замужем                 4      M       сотрудник     1   \n",
       "40  Не женат / не замужем                 4      M       компаньон     0   \n",
       "\n",
       "     total_income                                purpose  \n",
       "24  290547.235997  операции с коммерческой недвижимостью  \n",
       "29            NaN       строительство жилой недвижимости  \n",
       "36  138830.650734                             автомобили  \n",
       "38  192247.298639                            образование  \n",
       "40  142865.579146                   покупка недвижимости  "
      ]
     },
     "execution_count": 26,
     "metadata": {},
     "output_type": "execute_result"
    }
   ],
   "source": [
    "# вывод первых пяти строк с идентификатором '4' в столбце 'family_status_id'\n",
    "df.loc[df['family_status_id'] == 4].head()"
   ]
  },
  {
   "cell_type": "markdown",
   "metadata": {},
   "source": [
    "В данном случае идентификаторы можно поменять местами (0 - не женат / не замужем, 1 - гражданский брак, 2 - женат / замужем, 3 - в разводе, 4 - вдовец / вдова), а можно и не менять. Оставим как есть."
   ]
  },
  {
   "cell_type": "markdown",
   "metadata": {},
   "source": [
    "Проверим также, есть ли аномальные значения в столбце `gender`."
   ]
  },
  {
   "cell_type": "code",
   "execution_count": 27,
   "metadata": {},
   "outputs": [
    {
     "data": {
      "text/plain": [
       "F      14164\n",
       "M       7259\n",
       "XNA        1\n",
       "Name: gender, dtype: int64"
      ]
     },
     "execution_count": 27,
     "metadata": {},
     "output_type": "execute_result"
    }
   ],
   "source": [
    "# вывод уникальных значений столбца 'gender' и их частоты\n",
    "df['gender'].value_counts()"
   ]
  },
  {
   "cell_type": "markdown",
   "metadata": {},
   "source": [
    "Одно из значений в столбце `gender`, очевидно, неправильное. Исправить это значение невозможно, а поскольку это одна строчка, её можно удалить."
   ]
  },
  {
   "cell_type": "code",
   "execution_count": 28,
   "metadata": {},
   "outputs": [],
   "source": [
    "# исключение из таблицы df строк, в которых значение столбца 'gender' равно 'XNA'\n",
    "df = df.loc[df['gender'] != 'XNA']"
   ]
  },
  {
   "cell_type": "markdown",
   "metadata": {},
   "source": [
    "Проверим столбец `gender`."
   ]
  },
  {
   "cell_type": "code",
   "execution_count": 29,
   "metadata": {},
   "outputs": [
    {
     "data": {
      "text/plain": [
       "F    14164\n",
       "M     7259\n",
       "Name: gender, dtype: int64"
      ]
     },
     "execution_count": 29,
     "metadata": {},
     "output_type": "execute_result"
    }
   ],
   "source": [
    "# вывод уникальных значений столбца 'gender' и их частоты\n",
    "df['gender'].value_counts()"
   ]
  },
  {
   "cell_type": "markdown",
   "metadata": {},
   "source": [
    "Мы заменили все аномальные значения, пойдём дальше."
   ]
  },
  {
   "cell_type": "markdown",
   "metadata": {
    "id": "5ISfbcfY_Zct"
   },
   "source": [
    "### Пропуски значений\n",
    "Посчитаем, сколько в таблице пропущенных значений. Для этого достаточно двух методов `pandas`:"
   ]
  },
  {
   "cell_type": "code",
   "execution_count": 30,
   "metadata": {
    "id": "RskX29qr_Zct"
   },
   "outputs": [
    {
     "data": {
      "text/plain": [
       "children               0\n",
       "days_employed       2164\n",
       "age_years              0\n",
       "education              0\n",
       "education_id           0\n",
       "family_status          0\n",
       "family_status_id       0\n",
       "gender                 0\n",
       "employment_type        0\n",
       "debt                   0\n",
       "total_income        2164\n",
       "purpose                0\n",
       "dtype: int64"
      ]
     },
     "execution_count": 30,
     "metadata": {},
     "output_type": "execute_result"
    }
   ],
   "source": [
    "# подсчёт пропусков\n",
    "df.isna().sum()"
   ]
  },
  {
   "cell_type": "markdown",
   "metadata": {
    "id": "qubhgnlO_Zct"
   },
   "source": [
    "Все пропуски находятся только в двух столбцах — `days_employed` и `total_income`. Однако их достаточно много (10% данных) и они важны для цели исследования, поэтому заменить их на нули нельзя. Посмотрим, в каких строках присутствуют пропуски и не вызваны ли они чем-нибудь. Выведем на экран 25 строчек с пропущенными данными в столбце `days_employed`."
   ]
  },
  {
   "cell_type": "code",
   "execution_count": 31,
   "metadata": {},
   "outputs": [
    {
     "data": {
      "text/html": [
       "<div>\n",
       "<style scoped>\n",
       "    .dataframe tbody tr th:only-of-type {\n",
       "        vertical-align: middle;\n",
       "    }\n",
       "\n",
       "    .dataframe tbody tr th {\n",
       "        vertical-align: top;\n",
       "    }\n",
       "\n",
       "    .dataframe thead th {\n",
       "        text-align: right;\n",
       "    }\n",
       "</style>\n",
       "<table border=\"1\" class=\"dataframe\">\n",
       "  <thead>\n",
       "    <tr style=\"text-align: right;\">\n",
       "      <th></th>\n",
       "      <th>children</th>\n",
       "      <th>days_employed</th>\n",
       "      <th>age_years</th>\n",
       "      <th>education</th>\n",
       "      <th>education_id</th>\n",
       "      <th>family_status</th>\n",
       "      <th>family_status_id</th>\n",
       "      <th>gender</th>\n",
       "      <th>employment_type</th>\n",
       "      <th>debt</th>\n",
       "      <th>total_income</th>\n",
       "      <th>purpose</th>\n",
       "    </tr>\n",
       "  </thead>\n",
       "  <tbody>\n",
       "    <tr>\n",
       "      <th>12</th>\n",
       "      <td>0</td>\n",
       "      <td>NaN</td>\n",
       "      <td>65</td>\n",
       "      <td>среднее</td>\n",
       "      <td>1</td>\n",
       "      <td>гражданский брак</td>\n",
       "      <td>1</td>\n",
       "      <td>M</td>\n",
       "      <td>пенсионер</td>\n",
       "      <td>0</td>\n",
       "      <td>NaN</td>\n",
       "      <td>сыграть свадьбу</td>\n",
       "    </tr>\n",
       "    <tr>\n",
       "      <th>26</th>\n",
       "      <td>0</td>\n",
       "      <td>NaN</td>\n",
       "      <td>41</td>\n",
       "      <td>среднее</td>\n",
       "      <td>1</td>\n",
       "      <td>женат / замужем</td>\n",
       "      <td>0</td>\n",
       "      <td>M</td>\n",
       "      <td>госслужащий</td>\n",
       "      <td>0</td>\n",
       "      <td>NaN</td>\n",
       "      <td>образование</td>\n",
       "    </tr>\n",
       "    <tr>\n",
       "      <th>29</th>\n",
       "      <td>0</td>\n",
       "      <td>NaN</td>\n",
       "      <td>63</td>\n",
       "      <td>среднее</td>\n",
       "      <td>1</td>\n",
       "      <td>Не женат / не замужем</td>\n",
       "      <td>4</td>\n",
       "      <td>F</td>\n",
       "      <td>пенсионер</td>\n",
       "      <td>0</td>\n",
       "      <td>NaN</td>\n",
       "      <td>строительство жилой недвижимости</td>\n",
       "    </tr>\n",
       "    <tr>\n",
       "      <th>41</th>\n",
       "      <td>0</td>\n",
       "      <td>NaN</td>\n",
       "      <td>50</td>\n",
       "      <td>среднее</td>\n",
       "      <td>1</td>\n",
       "      <td>женат / замужем</td>\n",
       "      <td>0</td>\n",
       "      <td>F</td>\n",
       "      <td>госслужащий</td>\n",
       "      <td>0</td>\n",
       "      <td>NaN</td>\n",
       "      <td>сделка с подержанным автомобилем</td>\n",
       "    </tr>\n",
       "    <tr>\n",
       "      <th>55</th>\n",
       "      <td>0</td>\n",
       "      <td>NaN</td>\n",
       "      <td>54</td>\n",
       "      <td>среднее</td>\n",
       "      <td>1</td>\n",
       "      <td>гражданский брак</td>\n",
       "      <td>1</td>\n",
       "      <td>F</td>\n",
       "      <td>пенсионер</td>\n",
       "      <td>1</td>\n",
       "      <td>NaN</td>\n",
       "      <td>сыграть свадьбу</td>\n",
       "    </tr>\n",
       "    <tr>\n",
       "      <th>65</th>\n",
       "      <td>0</td>\n",
       "      <td>NaN</td>\n",
       "      <td>21</td>\n",
       "      <td>среднее</td>\n",
       "      <td>1</td>\n",
       "      <td>Не женат / не замужем</td>\n",
       "      <td>4</td>\n",
       "      <td>M</td>\n",
       "      <td>компаньон</td>\n",
       "      <td>0</td>\n",
       "      <td>NaN</td>\n",
       "      <td>операции с коммерческой недвижимостью</td>\n",
       "    </tr>\n",
       "    <tr>\n",
       "      <th>67</th>\n",
       "      <td>0</td>\n",
       "      <td>NaN</td>\n",
       "      <td>52</td>\n",
       "      <td>высшее</td>\n",
       "      <td>3</td>\n",
       "      <td>женат / замужем</td>\n",
       "      <td>0</td>\n",
       "      <td>F</td>\n",
       "      <td>пенсионер</td>\n",
       "      <td>0</td>\n",
       "      <td>NaN</td>\n",
       "      <td>покупка жилья для семьи</td>\n",
       "    </tr>\n",
       "    <tr>\n",
       "      <th>72</th>\n",
       "      <td>1</td>\n",
       "      <td>NaN</td>\n",
       "      <td>32</td>\n",
       "      <td>высшее</td>\n",
       "      <td>3</td>\n",
       "      <td>женат / замужем</td>\n",
       "      <td>0</td>\n",
       "      <td>M</td>\n",
       "      <td>госслужащий</td>\n",
       "      <td>0</td>\n",
       "      <td>NaN</td>\n",
       "      <td>операции с коммерческой недвижимостью</td>\n",
       "    </tr>\n",
       "    <tr>\n",
       "      <th>82</th>\n",
       "      <td>2</td>\n",
       "      <td>NaN</td>\n",
       "      <td>50</td>\n",
       "      <td>высшее</td>\n",
       "      <td>3</td>\n",
       "      <td>женат / замужем</td>\n",
       "      <td>0</td>\n",
       "      <td>F</td>\n",
       "      <td>сотрудник</td>\n",
       "      <td>0</td>\n",
       "      <td>NaN</td>\n",
       "      <td>жилье</td>\n",
       "    </tr>\n",
       "    <tr>\n",
       "      <th>83</th>\n",
       "      <td>0</td>\n",
       "      <td>NaN</td>\n",
       "      <td>52</td>\n",
       "      <td>среднее</td>\n",
       "      <td>1</td>\n",
       "      <td>женат / замужем</td>\n",
       "      <td>0</td>\n",
       "      <td>M</td>\n",
       "      <td>сотрудник</td>\n",
       "      <td>0</td>\n",
       "      <td>NaN</td>\n",
       "      <td>жилье</td>\n",
       "    </tr>\n",
       "    <tr>\n",
       "      <th>90</th>\n",
       "      <td>2</td>\n",
       "      <td>NaN</td>\n",
       "      <td>35</td>\n",
       "      <td>высшее</td>\n",
       "      <td>3</td>\n",
       "      <td>женат / замужем</td>\n",
       "      <td>0</td>\n",
       "      <td>F</td>\n",
       "      <td>сотрудник</td>\n",
       "      <td>0</td>\n",
       "      <td>NaN</td>\n",
       "      <td>операции с жильем</td>\n",
       "    </tr>\n",
       "    <tr>\n",
       "      <th>94</th>\n",
       "      <td>1</td>\n",
       "      <td>NaN</td>\n",
       "      <td>34</td>\n",
       "      <td>высшее</td>\n",
       "      <td>3</td>\n",
       "      <td>гражданский брак</td>\n",
       "      <td>1</td>\n",
       "      <td>F</td>\n",
       "      <td>компаньон</td>\n",
       "      <td>0</td>\n",
       "      <td>NaN</td>\n",
       "      <td>на проведение свадьбы</td>\n",
       "    </tr>\n",
       "    <tr>\n",
       "      <th>96</th>\n",
       "      <td>0</td>\n",
       "      <td>NaN</td>\n",
       "      <td>44</td>\n",
       "      <td>СРЕДНЕЕ</td>\n",
       "      <td>1</td>\n",
       "      <td>женат / замужем</td>\n",
       "      <td>0</td>\n",
       "      <td>F</td>\n",
       "      <td>сотрудник</td>\n",
       "      <td>0</td>\n",
       "      <td>NaN</td>\n",
       "      <td>покупка жилой недвижимости</td>\n",
       "    </tr>\n",
       "    <tr>\n",
       "      <th>97</th>\n",
       "      <td>0</td>\n",
       "      <td>NaN</td>\n",
       "      <td>47</td>\n",
       "      <td>высшее</td>\n",
       "      <td>3</td>\n",
       "      <td>женат / замужем</td>\n",
       "      <td>0</td>\n",
       "      <td>F</td>\n",
       "      <td>сотрудник</td>\n",
       "      <td>0</td>\n",
       "      <td>NaN</td>\n",
       "      <td>профильное образование</td>\n",
       "    </tr>\n",
       "    <tr>\n",
       "      <th>120</th>\n",
       "      <td>0</td>\n",
       "      <td>NaN</td>\n",
       "      <td>46</td>\n",
       "      <td>среднее</td>\n",
       "      <td>1</td>\n",
       "      <td>женат / замужем</td>\n",
       "      <td>0</td>\n",
       "      <td>F</td>\n",
       "      <td>сотрудник</td>\n",
       "      <td>0</td>\n",
       "      <td>NaN</td>\n",
       "      <td>высшее образование</td>\n",
       "    </tr>\n",
       "    <tr>\n",
       "      <th>121</th>\n",
       "      <td>0</td>\n",
       "      <td>NaN</td>\n",
       "      <td>29</td>\n",
       "      <td>высшее</td>\n",
       "      <td>3</td>\n",
       "      <td>женат / замужем</td>\n",
       "      <td>0</td>\n",
       "      <td>F</td>\n",
       "      <td>компаньон</td>\n",
       "      <td>0</td>\n",
       "      <td>NaN</td>\n",
       "      <td>автомобиль</td>\n",
       "    </tr>\n",
       "    <tr>\n",
       "      <th>135</th>\n",
       "      <td>0</td>\n",
       "      <td>NaN</td>\n",
       "      <td>27</td>\n",
       "      <td>среднее</td>\n",
       "      <td>1</td>\n",
       "      <td>женат / замужем</td>\n",
       "      <td>0</td>\n",
       "      <td>M</td>\n",
       "      <td>компаньон</td>\n",
       "      <td>0</td>\n",
       "      <td>NaN</td>\n",
       "      <td>жилье</td>\n",
       "    </tr>\n",
       "    <tr>\n",
       "      <th>141</th>\n",
       "      <td>0</td>\n",
       "      <td>NaN</td>\n",
       "      <td>39</td>\n",
       "      <td>среднее</td>\n",
       "      <td>1</td>\n",
       "      <td>гражданский брак</td>\n",
       "      <td>1</td>\n",
       "      <td>M</td>\n",
       "      <td>сотрудник</td>\n",
       "      <td>0</td>\n",
       "      <td>NaN</td>\n",
       "      <td>свадьба</td>\n",
       "    </tr>\n",
       "    <tr>\n",
       "      <th>145</th>\n",
       "      <td>0</td>\n",
       "      <td>NaN</td>\n",
       "      <td>62</td>\n",
       "      <td>среднее</td>\n",
       "      <td>1</td>\n",
       "      <td>женат / замужем</td>\n",
       "      <td>0</td>\n",
       "      <td>M</td>\n",
       "      <td>пенсионер</td>\n",
       "      <td>0</td>\n",
       "      <td>NaN</td>\n",
       "      <td>строительство недвижимости</td>\n",
       "    </tr>\n",
       "    <tr>\n",
       "      <th>174</th>\n",
       "      <td>0</td>\n",
       "      <td>NaN</td>\n",
       "      <td>55</td>\n",
       "      <td>высшее</td>\n",
       "      <td>3</td>\n",
       "      <td>вдовец / вдова</td>\n",
       "      <td>2</td>\n",
       "      <td>F</td>\n",
       "      <td>компаньон</td>\n",
       "      <td>0</td>\n",
       "      <td>NaN</td>\n",
       "      <td>свой автомобиль</td>\n",
       "    </tr>\n",
       "    <tr>\n",
       "      <th>181</th>\n",
       "      <td>0</td>\n",
       "      <td>NaN</td>\n",
       "      <td>26</td>\n",
       "      <td>среднее</td>\n",
       "      <td>1</td>\n",
       "      <td>гражданский брак</td>\n",
       "      <td>1</td>\n",
       "      <td>F</td>\n",
       "      <td>компаньон</td>\n",
       "      <td>1</td>\n",
       "      <td>NaN</td>\n",
       "      <td>покупка жилья для семьи</td>\n",
       "    </tr>\n",
       "    <tr>\n",
       "      <th>189</th>\n",
       "      <td>1</td>\n",
       "      <td>NaN</td>\n",
       "      <td>30</td>\n",
       "      <td>среднее</td>\n",
       "      <td>1</td>\n",
       "      <td>Не женат / не замужем</td>\n",
       "      <td>4</td>\n",
       "      <td>F</td>\n",
       "      <td>сотрудник</td>\n",
       "      <td>0</td>\n",
       "      <td>NaN</td>\n",
       "      <td>свой автомобиль</td>\n",
       "    </tr>\n",
       "    <tr>\n",
       "      <th>205</th>\n",
       "      <td>1</td>\n",
       "      <td>NaN</td>\n",
       "      <td>31</td>\n",
       "      <td>высшее</td>\n",
       "      <td>3</td>\n",
       "      <td>женат / замужем</td>\n",
       "      <td>0</td>\n",
       "      <td>F</td>\n",
       "      <td>сотрудник</td>\n",
       "      <td>0</td>\n",
       "      <td>NaN</td>\n",
       "      <td>на покупку подержанного автомобиля</td>\n",
       "    </tr>\n",
       "    <tr>\n",
       "      <th>220</th>\n",
       "      <td>1</td>\n",
       "      <td>NaN</td>\n",
       "      <td>23</td>\n",
       "      <td>неоконченное высшее</td>\n",
       "      <td>2</td>\n",
       "      <td>гражданский брак</td>\n",
       "      <td>1</td>\n",
       "      <td>F</td>\n",
       "      <td>компаньон</td>\n",
       "      <td>0</td>\n",
       "      <td>NaN</td>\n",
       "      <td>сыграть свадьбу</td>\n",
       "    </tr>\n",
       "    <tr>\n",
       "      <th>241</th>\n",
       "      <td>0</td>\n",
       "      <td>NaN</td>\n",
       "      <td>47</td>\n",
       "      <td>среднее</td>\n",
       "      <td>1</td>\n",
       "      <td>женат / замужем</td>\n",
       "      <td>0</td>\n",
       "      <td>M</td>\n",
       "      <td>сотрудник</td>\n",
       "      <td>0</td>\n",
       "      <td>NaN</td>\n",
       "      <td>строительство собственной недвижимости</td>\n",
       "    </tr>\n",
       "  </tbody>\n",
       "</table>\n",
       "</div>"
      ],
      "text/plain": [
       "     children  days_employed  age_years            education  education_id  \\\n",
       "12          0            NaN         65              среднее             1   \n",
       "26          0            NaN         41              среднее             1   \n",
       "29          0            NaN         63              среднее             1   \n",
       "41          0            NaN         50              среднее             1   \n",
       "55          0            NaN         54              среднее             1   \n",
       "65          0            NaN         21              среднее             1   \n",
       "67          0            NaN         52               высшее             3   \n",
       "72          1            NaN         32               высшее             3   \n",
       "82          2            NaN         50               высшее             3   \n",
       "83          0            NaN         52              среднее             1   \n",
       "90          2            NaN         35               высшее             3   \n",
       "94          1            NaN         34               высшее             3   \n",
       "96          0            NaN         44              СРЕДНЕЕ             1   \n",
       "97          0            NaN         47               высшее             3   \n",
       "120         0            NaN         46              среднее             1   \n",
       "121         0            NaN         29               высшее             3   \n",
       "135         0            NaN         27              среднее             1   \n",
       "141         0            NaN         39              среднее             1   \n",
       "145         0            NaN         62              среднее             1   \n",
       "174         0            NaN         55               высшее             3   \n",
       "181         0            NaN         26              среднее             1   \n",
       "189         1            NaN         30              среднее             1   \n",
       "205         1            NaN         31               высшее             3   \n",
       "220         1            NaN         23  неоконченное высшее             2   \n",
       "241         0            NaN         47              среднее             1   \n",
       "\n",
       "             family_status  family_status_id gender employment_type  debt  \\\n",
       "12        гражданский брак                 1      M       пенсионер     0   \n",
       "26         женат / замужем                 0      M     госслужащий     0   \n",
       "29   Не женат / не замужем                 4      F       пенсионер     0   \n",
       "41         женат / замужем                 0      F     госслужащий     0   \n",
       "55        гражданский брак                 1      F       пенсионер     1   \n",
       "65   Не женат / не замужем                 4      M       компаньон     0   \n",
       "67         женат / замужем                 0      F       пенсионер     0   \n",
       "72         женат / замужем                 0      M     госслужащий     0   \n",
       "82         женат / замужем                 0      F       сотрудник     0   \n",
       "83         женат / замужем                 0      M       сотрудник     0   \n",
       "90         женат / замужем                 0      F       сотрудник     0   \n",
       "94        гражданский брак                 1      F       компаньон     0   \n",
       "96         женат / замужем                 0      F       сотрудник     0   \n",
       "97         женат / замужем                 0      F       сотрудник     0   \n",
       "120        женат / замужем                 0      F       сотрудник     0   \n",
       "121        женат / замужем                 0      F       компаньон     0   \n",
       "135        женат / замужем                 0      M       компаньон     0   \n",
       "141       гражданский брак                 1      M       сотрудник     0   \n",
       "145        женат / замужем                 0      M       пенсионер     0   \n",
       "174         вдовец / вдова                 2      F       компаньон     0   \n",
       "181       гражданский брак                 1      F       компаньон     1   \n",
       "189  Не женат / не замужем                 4      F       сотрудник     0   \n",
       "205        женат / замужем                 0      F       сотрудник     0   \n",
       "220       гражданский брак                 1      F       компаньон     0   \n",
       "241        женат / замужем                 0      M       сотрудник     0   \n",
       "\n",
       "     total_income                                 purpose  \n",
       "12            NaN                         сыграть свадьбу  \n",
       "26            NaN                             образование  \n",
       "29            NaN        строительство жилой недвижимости  \n",
       "41            NaN        сделка с подержанным автомобилем  \n",
       "55            NaN                         сыграть свадьбу  \n",
       "65            NaN   операции с коммерческой недвижимостью  \n",
       "67            NaN                 покупка жилья для семьи  \n",
       "72            NaN   операции с коммерческой недвижимостью  \n",
       "82            NaN                                   жилье  \n",
       "83            NaN                                   жилье  \n",
       "90            NaN                       операции с жильем  \n",
       "94            NaN                   на проведение свадьбы  \n",
       "96            NaN              покупка жилой недвижимости  \n",
       "97            NaN                  профильное образование  \n",
       "120           NaN                      высшее образование  \n",
       "121           NaN                              автомобиль  \n",
       "135           NaN                                   жилье  \n",
       "141           NaN                                 свадьба  \n",
       "145           NaN              строительство недвижимости  \n",
       "174           NaN                         свой автомобиль  \n",
       "181           NaN                 покупка жилья для семьи  \n",
       "189           NaN                         свой автомобиль  \n",
       "205           NaN      на покупку подержанного автомобиля  \n",
       "220           NaN                         сыграть свадьбу  \n",
       "241           NaN  строительство собственной недвижимости  "
      ]
     },
     "execution_count": 31,
     "metadata": {},
     "output_type": "execute_result"
    }
   ],
   "source": [
    "# получение первых 25 строк таблицы с пропущенными значениями в столбце days_employed\n",
    "df[df['days_employed'].isna()].head(25)"
   ]
  },
  {
   "cell_type": "markdown",
   "metadata": {
    "id": "fSv2laPA_Zct"
   },
   "source": [
    "Мы видим, что пропуски в столбце `days_employed` нашей выборки соответствуют пропускам в столбце `total_income`. При этом никакой связи этих пропусков с другими столбцами нет. Возможно, пропуски связаны с нежеланием людей указывать свой трудовой стаж и доход, либо нежеланием заниматься подсчетами. А, возможно, банковские менеджеры не стали заполнять данные колонки при отсутствии документов, подтверждающих стаж и доход.\n",
    "\n",
    "Чтобы не исказить имеющиеся взаимосвязи, заменим пропущенные значения в столбцах `days_employed` и `total_income` медианными значениями. Выбираем последние в качестве замены, т.к. медиана - это значение, которое делит количественную категорию пополам."
   ]
  },
  {
   "cell_type": "code",
   "execution_count": 32,
   "metadata": {
    "id": "KplB5qWs_Zct"
   },
   "outputs": [],
   "source": [
    "# замена пропущенных значений на медиану\n",
    "df['days_employed'] = df['days_employed'].fillna(df['days_employed'].median())\n",
    "df['total_income'] = df['total_income'].fillna(df['total_income'].median())"
   ]
  },
  {
   "cell_type": "markdown",
   "metadata": {
    "id": "Ilsm-MZo_Zct"
   },
   "source": [
    "Убедимся, что в таблице не осталось пропусков. Для этого ещё раз посчитаем пропущенные значения."
   ]
  },
  {
   "cell_type": "code",
   "execution_count": 33,
   "metadata": {
    "id": "Tq4nYRX4_Zct"
   },
   "outputs": [
    {
     "data": {
      "text/plain": [
       "children            0\n",
       "days_employed       0\n",
       "age_years           0\n",
       "education           0\n",
       "education_id        0\n",
       "family_status       0\n",
       "family_status_id    0\n",
       "gender              0\n",
       "employment_type     0\n",
       "debt                0\n",
       "total_income        0\n",
       "purpose             0\n",
       "dtype: int64"
      ]
     },
     "execution_count": 33,
     "metadata": {},
     "output_type": "execute_result"
    }
   ],
   "source": [
    "# подсчёт пропусков\n",
    "df.isna().sum()"
   ]
  },
  {
   "cell_type": "markdown",
   "metadata": {
    "id": "BWKRtBJ3_Zct"
   },
   "source": [
    "### Дубликаты\n",
    "Теперь обратимся к дубликатам. Посчитаем явные дубликаты в таблице одной командой:"
   ]
  },
  {
   "cell_type": "code",
   "execution_count": 34,
   "metadata": {
    "id": "36eES_S0_Zct"
   },
   "outputs": [
    {
     "data": {
      "text/plain": [
       "54"
      ]
     },
     "execution_count": 34,
     "metadata": {},
     "output_type": "execute_result"
    }
   ],
   "source": [
    "# подсчёт явных дубликатов\n",
    "df.duplicated().sum()"
   ]
  },
  {
   "cell_type": "markdown",
   "metadata": {
    "id": "Ot25h6XR_Zct"
   },
   "source": [
    "Вызовем специальный метод `pandas`, чтобы удалить явные дубликаты:"
   ]
  },
  {
   "cell_type": "code",
   "execution_count": 35,
   "metadata": {
    "id": "exFHq6tt_Zct"
   },
   "outputs": [],
   "source": [
    "# удаление явных дубликатов (с удалением старых индексов и формированием новых)\n",
    "df = df.drop_duplicates().reset_index(drop = True)"
   ]
  },
  {
   "cell_type": "markdown",
   "metadata": {
    "id": "Im2YwBEG_Zct"
   },
   "source": [
    "Ещё раз посчитаем явные дубликаты в таблице — убедимся, что полностью от них избавились:"
   ]
  },
  {
   "cell_type": "code",
   "execution_count": 36,
   "metadata": {
    "id": "-8PuNWQ0_Zct"
   },
   "outputs": [
    {
     "data": {
      "text/plain": [
       "0"
      ]
     },
     "execution_count": 36,
     "metadata": {},
     "output_type": "execute_result"
    }
   ],
   "source": [
    "# проверка на отсутствие дубликатов\n",
    "df.duplicated().sum()"
   ]
  },
  {
   "cell_type": "markdown",
   "metadata": {
    "id": "QlFBsxAr_Zct"
   },
   "source": [
    "Теперь избавимся от неявных дубликатов. \n",
    "Как мы помним, неявные дубликаты были обнаружены в колонке `children`: значения `20` вместо `2`. \n",
    "В колонке `education` проставлены значения с разным регистром. Их также нужно привести к единому формату.\n",
    "\n",
    "Начнём с количества детей."
   ]
  },
  {
   "cell_type": "code",
   "execution_count": 37,
   "metadata": {},
   "outputs": [],
   "source": [
    "# замена неявных дубликатов в столбце 'children'\n",
    "df['children']=df['children'].replace([20], 2)"
   ]
  },
  {
   "cell_type": "markdown",
   "metadata": {},
   "source": [
    "Проверим полученный результат."
   ]
  },
  {
   "cell_type": "code",
   "execution_count": 38,
   "metadata": {},
   "outputs": [
    {
     "data": {
      "text/html": [
       "<div>\n",
       "<style scoped>\n",
       "    .dataframe tbody tr th:only-of-type {\n",
       "        vertical-align: middle;\n",
       "    }\n",
       "\n",
       "    .dataframe tbody tr th {\n",
       "        vertical-align: top;\n",
       "    }\n",
       "\n",
       "    .dataframe thead th {\n",
       "        text-align: right;\n",
       "    }\n",
       "</style>\n",
       "<table border=\"1\" class=\"dataframe\">\n",
       "  <thead>\n",
       "    <tr style=\"text-align: right;\">\n",
       "      <th></th>\n",
       "      <th>children</th>\n",
       "      <th>days_employed</th>\n",
       "      <th>age_years</th>\n",
       "      <th>education_id</th>\n",
       "      <th>family_status_id</th>\n",
       "      <th>debt</th>\n",
       "      <th>total_income</th>\n",
       "    </tr>\n",
       "  </thead>\n",
       "  <tbody>\n",
       "    <tr>\n",
       "      <th>count</th>\n",
       "      <td>21369.000000</td>\n",
       "      <td>21369.000000</td>\n",
       "      <td>21369.000000</td>\n",
       "      <td>21369.000000</td>\n",
       "      <td>21369.000000</td>\n",
       "      <td>21369.000000</td>\n",
       "      <td>2.136900e+04</td>\n",
       "    </tr>\n",
       "    <tr>\n",
       "      <th>mean</th>\n",
       "      <td>0.480182</td>\n",
       "      <td>4620.065326</td>\n",
       "      <td>43.484534</td>\n",
       "      <td>1.510506</td>\n",
       "      <td>0.972437</td>\n",
       "      <td>0.081099</td>\n",
       "      <td>1.652458e+05</td>\n",
       "    </tr>\n",
       "    <tr>\n",
       "      <th>std</th>\n",
       "      <td>0.755668</td>\n",
       "      <td>5667.486652</td>\n",
       "      <td>12.245590</td>\n",
       "      <td>0.875321</td>\n",
       "      <td>1.420533</td>\n",
       "      <td>0.272993</td>\n",
       "      <td>9.809662e+04</td>\n",
       "    </tr>\n",
       "    <tr>\n",
       "      <th>min</th>\n",
       "      <td>0.000000</td>\n",
       "      <td>24.141633</td>\n",
       "      <td>19.000000</td>\n",
       "      <td>0.000000</td>\n",
       "      <td>0.000000</td>\n",
       "      <td>0.000000</td>\n",
       "      <td>2.066726e+04</td>\n",
       "    </tr>\n",
       "    <tr>\n",
       "      <th>25%</th>\n",
       "      <td>0.000000</td>\n",
       "      <td>1024.308432</td>\n",
       "      <td>33.000000</td>\n",
       "      <td>1.000000</td>\n",
       "      <td>0.000000</td>\n",
       "      <td>0.000000</td>\n",
       "      <td>1.077064e+05</td>\n",
       "    </tr>\n",
       "    <tr>\n",
       "      <th>50%</th>\n",
       "      <td>0.000000</td>\n",
       "      <td>2197.320350</td>\n",
       "      <td>43.000000</td>\n",
       "      <td>1.000000</td>\n",
       "      <td>0.000000</td>\n",
       "      <td>0.000000</td>\n",
       "      <td>1.450055e+05</td>\n",
       "    </tr>\n",
       "    <tr>\n",
       "      <th>75%</th>\n",
       "      <td>1.000000</td>\n",
       "      <td>4791.848816</td>\n",
       "      <td>53.000000</td>\n",
       "      <td>2.000000</td>\n",
       "      <td>1.000000</td>\n",
       "      <td>0.000000</td>\n",
       "      <td>1.957379e+05</td>\n",
       "    </tr>\n",
       "    <tr>\n",
       "      <th>max</th>\n",
       "      <td>5.000000</td>\n",
       "      <td>21900.000000</td>\n",
       "      <td>75.000000</td>\n",
       "      <td>4.000000</td>\n",
       "      <td>4.000000</td>\n",
       "      <td>1.000000</td>\n",
       "      <td>2.265604e+06</td>\n",
       "    </tr>\n",
       "  </tbody>\n",
       "</table>\n",
       "</div>"
      ],
      "text/plain": [
       "           children  days_employed     age_years  education_id  \\\n",
       "count  21369.000000   21369.000000  21369.000000  21369.000000   \n",
       "mean       0.480182    4620.065326     43.484534      1.510506   \n",
       "std        0.755668    5667.486652     12.245590      0.875321   \n",
       "min        0.000000      24.141633     19.000000      0.000000   \n",
       "25%        0.000000    1024.308432     33.000000      1.000000   \n",
       "50%        0.000000    2197.320350     43.000000      1.000000   \n",
       "75%        1.000000    4791.848816     53.000000      2.000000   \n",
       "max        5.000000   21900.000000     75.000000      4.000000   \n",
       "\n",
       "       family_status_id          debt  total_income  \n",
       "count      21369.000000  21369.000000  2.136900e+04  \n",
       "mean           0.972437      0.081099  1.652458e+05  \n",
       "std            1.420533      0.272993  9.809662e+04  \n",
       "min            0.000000      0.000000  2.066726e+04  \n",
       "25%            0.000000      0.000000  1.077064e+05  \n",
       "50%            0.000000      0.000000  1.450055e+05  \n",
       "75%            1.000000      0.000000  1.957379e+05  \n",
       "max            4.000000      1.000000  2.265604e+06  "
      ]
     },
     "execution_count": 38,
     "metadata": {},
     "output_type": "execute_result"
    }
   ],
   "source": [
    "# оценка числовых переменных\n",
    "df.describe()"
   ]
  },
  {
   "cell_type": "markdown",
   "metadata": {},
   "source": [
    "Теперь обратимся к колонке `education`. Приведём все символы в ней к нижнему регистру:"
   ]
  },
  {
   "cell_type": "code",
   "execution_count": 39,
   "metadata": {},
   "outputs": [],
   "source": [
    "# приведение всех символов в колонке к нижнему регистру\n",
    "df['education'] = df['education'].str.lower()"
   ]
  },
  {
   "cell_type": "markdown",
   "metadata": {
    "id": "eSjWwsOh_Zct"
   },
   "source": [
    "Для проверки полученного результата выведем на экран список уникальных значений в столбце, отсортированный в алфавитном порядке."
   ]
  },
  {
   "cell_type": "code",
   "execution_count": 40,
   "metadata": {
    "id": "JIUcqzZN_Zct"
   },
   "outputs": [
    {
     "data": {
      "text/plain": [
       "['высшее', 'начальное', 'неоконченное высшее', 'среднее', 'ученая степень']"
      ]
     },
     "execution_count": 40,
     "metadata": {},
     "output_type": "execute_result"
    }
   ],
   "source": [
    "# Просмотр уникальных значений столбца 'education'\n",
    "sorted(df['education'].unique())"
   ]
  },
  {
   "cell_type": "markdown",
   "metadata": {},
   "source": [
    "Теперь всё в порядке."
   ]
  },
  {
   "cell_type": "markdown",
   "metadata": {},
   "source": [
    "Проверим, есть ли неявные дубликаты в столбцах `family_status` и `employment_type`."
   ]
  },
  {
   "cell_type": "code",
   "execution_count": 41,
   "metadata": {},
   "outputs": [
    {
     "data": {
      "text/plain": [
       "['Не женат / не замужем',\n",
       " 'в разводе',\n",
       " 'вдовец / вдова',\n",
       " 'гражданский брак',\n",
       " 'женат / замужем']"
      ]
     },
     "execution_count": 41,
     "metadata": {},
     "output_type": "execute_result"
    }
   ],
   "source": [
    "# Проверка на неявные дубликаты столбца 'family_status'\n",
    "sorted(df['family_status'].unique())"
   ]
  },
  {
   "cell_type": "code",
   "execution_count": 42,
   "metadata": {
    "id": "wvixALnFG15m"
   },
   "outputs": [
    {
     "data": {
      "text/plain": [
       "['безработный',\n",
       " 'в декрете',\n",
       " 'госслужащий',\n",
       " 'компаньон',\n",
       " 'пенсионер',\n",
       " 'предприниматель',\n",
       " 'сотрудник',\n",
       " 'студент']"
      ]
     },
     "execution_count": 42,
     "metadata": {},
     "output_type": "execute_result"
    }
   ],
   "source": [
    "# Проверка на неявные дубликаты столбца 'employment_type'\n",
    "sorted(df['employment_type'].unique())"
   ]
  },
  {
   "cell_type": "markdown",
   "metadata": {},
   "source": [
    "Всё в порядке.\n",
    "\n",
    "Неявные дубликаты остались в столбце `purpose`. Однако вместо их исправления нам потребуется объединить цели кредита в обобщённые категории, поэтому оставим как есть."
   ]
  },
  {
   "cell_type": "markdown",
   "metadata": {},
   "source": [
    "Получим заново общую информацию о нашей таблице после всех трансформаций:"
   ]
  },
  {
   "cell_type": "code",
   "execution_count": 43,
   "metadata": {},
   "outputs": [
    {
     "name": "stdout",
     "output_type": "stream",
     "text": [
      "<class 'pandas.core.frame.DataFrame'>\n",
      "RangeIndex: 21369 entries, 0 to 21368\n",
      "Data columns (total 12 columns):\n",
      " #   Column            Non-Null Count  Dtype  \n",
      "---  ------            --------------  -----  \n",
      " 0   children          21369 non-null  int64  \n",
      " 1   days_employed     21369 non-null  float64\n",
      " 2   age_years         21369 non-null  int64  \n",
      " 3   education         21369 non-null  object \n",
      " 4   education_id      21369 non-null  int64  \n",
      " 5   family_status     21369 non-null  object \n",
      " 6   family_status_id  21369 non-null  int64  \n",
      " 7   gender            21369 non-null  object \n",
      " 8   employment_type   21369 non-null  object \n",
      " 9   debt              21369 non-null  int64  \n",
      " 10  total_income      21369 non-null  float64\n",
      " 11  purpose           21369 non-null  object \n",
      "dtypes: float64(2), int64(5), object(5)\n",
      "memory usage: 2.0+ MB\n"
     ]
    }
   ],
   "source": [
    "# получение общей информации о данных в таблице df\n",
    "df.info()"
   ]
  },
  {
   "cell_type": "markdown",
   "metadata": {
    "id": "5ISfbcfY_Zct"
   },
   "source": [
    "### Категоризация данных\n",
    "Проведём заключительную трансформацию данных. "
   ]
  },
  {
   "cell_type": "markdown",
   "metadata": {},
   "source": [
    "Вначале заменим все вещественные данные на целочисленные. Это нужно будет сделать для столбцов `days_employed` и `total_income`."
   ]
  },
  {
   "cell_type": "code",
   "execution_count": 44,
   "metadata": {},
   "outputs": [],
   "source": [
    "# замена вещественных данных на целочисленные с помощью метода astype()\n",
    "df['days_employed'] = df['days_employed'].astype('int')\n",
    "df['total_income'] = df['total_income'].astype('int')"
   ]
  },
  {
   "cell_type": "markdown",
   "metadata": {},
   "source": [
    "Проверим полученный результат, выведя на экран первые 10 строк таблицы."
   ]
  },
  {
   "cell_type": "code",
   "execution_count": 45,
   "metadata": {},
   "outputs": [
    {
     "data": {
      "text/html": [
       "<div>\n",
       "<style scoped>\n",
       "    .dataframe tbody tr th:only-of-type {\n",
       "        vertical-align: middle;\n",
       "    }\n",
       "\n",
       "    .dataframe tbody tr th {\n",
       "        vertical-align: top;\n",
       "    }\n",
       "\n",
       "    .dataframe thead th {\n",
       "        text-align: right;\n",
       "    }\n",
       "</style>\n",
       "<table border=\"1\" class=\"dataframe\">\n",
       "  <thead>\n",
       "    <tr style=\"text-align: right;\">\n",
       "      <th></th>\n",
       "      <th>children</th>\n",
       "      <th>days_employed</th>\n",
       "      <th>age_years</th>\n",
       "      <th>education</th>\n",
       "      <th>education_id</th>\n",
       "      <th>family_status</th>\n",
       "      <th>family_status_id</th>\n",
       "      <th>gender</th>\n",
       "      <th>employment_type</th>\n",
       "      <th>debt</th>\n",
       "      <th>total_income</th>\n",
       "      <th>purpose</th>\n",
       "    </tr>\n",
       "  </thead>\n",
       "  <tbody>\n",
       "    <tr>\n",
       "      <th>0</th>\n",
       "      <td>1</td>\n",
       "      <td>8437</td>\n",
       "      <td>42</td>\n",
       "      <td>высшее</td>\n",
       "      <td>3</td>\n",
       "      <td>женат / замужем</td>\n",
       "      <td>0</td>\n",
       "      <td>F</td>\n",
       "      <td>сотрудник</td>\n",
       "      <td>0</td>\n",
       "      <td>253875</td>\n",
       "      <td>покупка жилья</td>\n",
       "    </tr>\n",
       "    <tr>\n",
       "      <th>1</th>\n",
       "      <td>1</td>\n",
       "      <td>4024</td>\n",
       "      <td>36</td>\n",
       "      <td>среднее</td>\n",
       "      <td>1</td>\n",
       "      <td>женат / замужем</td>\n",
       "      <td>0</td>\n",
       "      <td>F</td>\n",
       "      <td>сотрудник</td>\n",
       "      <td>0</td>\n",
       "      <td>112080</td>\n",
       "      <td>приобретение автомобиля</td>\n",
       "    </tr>\n",
       "    <tr>\n",
       "      <th>2</th>\n",
       "      <td>0</td>\n",
       "      <td>5623</td>\n",
       "      <td>33</td>\n",
       "      <td>среднее</td>\n",
       "      <td>1</td>\n",
       "      <td>женат / замужем</td>\n",
       "      <td>0</td>\n",
       "      <td>M</td>\n",
       "      <td>сотрудник</td>\n",
       "      <td>0</td>\n",
       "      <td>145885</td>\n",
       "      <td>покупка жилья</td>\n",
       "    </tr>\n",
       "    <tr>\n",
       "      <th>3</th>\n",
       "      <td>3</td>\n",
       "      <td>4124</td>\n",
       "      <td>32</td>\n",
       "      <td>среднее</td>\n",
       "      <td>1</td>\n",
       "      <td>женат / замужем</td>\n",
       "      <td>0</td>\n",
       "      <td>M</td>\n",
       "      <td>сотрудник</td>\n",
       "      <td>0</td>\n",
       "      <td>267628</td>\n",
       "      <td>дополнительное образование</td>\n",
       "    </tr>\n",
       "    <tr>\n",
       "      <th>4</th>\n",
       "      <td>0</td>\n",
       "      <td>14235</td>\n",
       "      <td>53</td>\n",
       "      <td>среднее</td>\n",
       "      <td>1</td>\n",
       "      <td>гражданский брак</td>\n",
       "      <td>1</td>\n",
       "      <td>F</td>\n",
       "      <td>пенсионер</td>\n",
       "      <td>0</td>\n",
       "      <td>158616</td>\n",
       "      <td>сыграть свадьбу</td>\n",
       "    </tr>\n",
       "    <tr>\n",
       "      <th>5</th>\n",
       "      <td>0</td>\n",
       "      <td>926</td>\n",
       "      <td>27</td>\n",
       "      <td>высшее</td>\n",
       "      <td>3</td>\n",
       "      <td>гражданский брак</td>\n",
       "      <td>1</td>\n",
       "      <td>M</td>\n",
       "      <td>компаньон</td>\n",
       "      <td>0</td>\n",
       "      <td>255763</td>\n",
       "      <td>покупка жилья</td>\n",
       "    </tr>\n",
       "    <tr>\n",
       "      <th>6</th>\n",
       "      <td>0</td>\n",
       "      <td>2879</td>\n",
       "      <td>43</td>\n",
       "      <td>высшее</td>\n",
       "      <td>3</td>\n",
       "      <td>женат / замужем</td>\n",
       "      <td>0</td>\n",
       "      <td>F</td>\n",
       "      <td>компаньон</td>\n",
       "      <td>0</td>\n",
       "      <td>240525</td>\n",
       "      <td>операции с жильем</td>\n",
       "    </tr>\n",
       "    <tr>\n",
       "      <th>7</th>\n",
       "      <td>0</td>\n",
       "      <td>152</td>\n",
       "      <td>50</td>\n",
       "      <td>среднее</td>\n",
       "      <td>1</td>\n",
       "      <td>женат / замужем</td>\n",
       "      <td>0</td>\n",
       "      <td>M</td>\n",
       "      <td>сотрудник</td>\n",
       "      <td>0</td>\n",
       "      <td>135823</td>\n",
       "      <td>образование</td>\n",
       "    </tr>\n",
       "    <tr>\n",
       "      <th>8</th>\n",
       "      <td>2</td>\n",
       "      <td>6929</td>\n",
       "      <td>35</td>\n",
       "      <td>высшее</td>\n",
       "      <td>3</td>\n",
       "      <td>гражданский брак</td>\n",
       "      <td>1</td>\n",
       "      <td>F</td>\n",
       "      <td>сотрудник</td>\n",
       "      <td>0</td>\n",
       "      <td>95856</td>\n",
       "      <td>на проведение свадьбы</td>\n",
       "    </tr>\n",
       "    <tr>\n",
       "      <th>9</th>\n",
       "      <td>0</td>\n",
       "      <td>2188</td>\n",
       "      <td>41</td>\n",
       "      <td>среднее</td>\n",
       "      <td>1</td>\n",
       "      <td>женат / замужем</td>\n",
       "      <td>0</td>\n",
       "      <td>M</td>\n",
       "      <td>сотрудник</td>\n",
       "      <td>0</td>\n",
       "      <td>144425</td>\n",
       "      <td>покупка жилья для семьи</td>\n",
       "    </tr>\n",
       "  </tbody>\n",
       "</table>\n",
       "</div>"
      ],
      "text/plain": [
       "   children  days_employed  age_years education  education_id  \\\n",
       "0         1           8437         42    высшее             3   \n",
       "1         1           4024         36   среднее             1   \n",
       "2         0           5623         33   среднее             1   \n",
       "3         3           4124         32   среднее             1   \n",
       "4         0          14235         53   среднее             1   \n",
       "5         0            926         27    высшее             3   \n",
       "6         0           2879         43    высшее             3   \n",
       "7         0            152         50   среднее             1   \n",
       "8         2           6929         35    высшее             3   \n",
       "9         0           2188         41   среднее             1   \n",
       "\n",
       "      family_status  family_status_id gender employment_type  debt  \\\n",
       "0   женат / замужем                 0      F       сотрудник     0   \n",
       "1   женат / замужем                 0      F       сотрудник     0   \n",
       "2   женат / замужем                 0      M       сотрудник     0   \n",
       "3   женат / замужем                 0      M       сотрудник     0   \n",
       "4  гражданский брак                 1      F       пенсионер     0   \n",
       "5  гражданский брак                 1      M       компаньон     0   \n",
       "6   женат / замужем                 0      F       компаньон     0   \n",
       "7   женат / замужем                 0      M       сотрудник     0   \n",
       "8  гражданский брак                 1      F       сотрудник     0   \n",
       "9   женат / замужем                 0      M       сотрудник     0   \n",
       "\n",
       "   total_income                     purpose  \n",
       "0        253875               покупка жилья  \n",
       "1        112080     приобретение автомобиля  \n",
       "2        145885               покупка жилья  \n",
       "3        267628  дополнительное образование  \n",
       "4        158616             сыграть свадьбу  \n",
       "5        255763               покупка жилья  \n",
       "6        240525           операции с жильем  \n",
       "7        135823                 образование  \n",
       "8         95856       на проведение свадьбы  \n",
       "9        144425     покупка жилья для семьи  "
      ]
     },
     "execution_count": 45,
     "metadata": {},
     "output_type": "execute_result"
    }
   ],
   "source": [
    "# получение первых 10 строк таблицы df\n",
    "df.head(10)"
   ]
  },
  {
   "cell_type": "markdown",
   "metadata": {},
   "source": [
    "Получилось."
   ]
  },
  {
   "cell_type": "markdown",
   "metadata": {},
   "source": [
    "Теперь создадим для удобства два новых датафрейма-\"словаря\" `education_dict` и `family_status_dict`, включив туда идентификаторы уровня образования и семейного статуса."
   ]
  },
  {
   "cell_type": "code",
   "execution_count": 46,
   "metadata": {},
   "outputs": [],
   "source": [
    "# создание двух новых таблиц-\"словарей\"\n",
    "education_dict = df[['education', 'education_id']]\n",
    "family_status_dict = df[['family_status', 'family_status_id']]"
   ]
  },
  {
   "cell_type": "markdown",
   "metadata": {},
   "source": [
    "Удалим из исходной таблицы колонки `education` и `family_status`, оставив только идентификаторы."
   ]
  },
  {
   "cell_type": "code",
   "execution_count": 47,
   "metadata": {},
   "outputs": [],
   "source": [
    "# удаление колонок 'education' и 'family_status'\n",
    "df = df[['children', 'days_employed', 'age_years', 'education_id', 'family_status_id', 'gender', 'employment_type', 'debt',\\\n",
    "         'total_income', 'purpose']]"
   ]
  },
  {
   "cell_type": "markdown",
   "metadata": {},
   "source": [
    "Выведем на экран полученные \"словари\", сгруппировав клиентов по образованию и семейному положению."
   ]
  },
  {
   "cell_type": "code",
   "execution_count": 48,
   "metadata": {},
   "outputs": [
    {
     "data": {
      "text/html": [
       "<div>\n",
       "<style scoped>\n",
       "    .dataframe tbody tr th:only-of-type {\n",
       "        vertical-align: middle;\n",
       "    }\n",
       "\n",
       "    .dataframe tbody tr th {\n",
       "        vertical-align: top;\n",
       "    }\n",
       "\n",
       "    .dataframe thead th {\n",
       "        text-align: right;\n",
       "    }\n",
       "</style>\n",
       "<table border=\"1\" class=\"dataframe\">\n",
       "  <thead>\n",
       "    <tr style=\"text-align: right;\">\n",
       "      <th></th>\n",
       "      <th>education</th>\n",
       "    </tr>\n",
       "    <tr>\n",
       "      <th>education_id</th>\n",
       "      <th></th>\n",
       "    </tr>\n",
       "  </thead>\n",
       "  <tbody>\n",
       "    <tr>\n",
       "      <th>0</th>\n",
       "      <td>282</td>\n",
       "    </tr>\n",
       "    <tr>\n",
       "      <th>1</th>\n",
       "      <td>15124</td>\n",
       "    </tr>\n",
       "    <tr>\n",
       "      <th>2</th>\n",
       "      <td>741</td>\n",
       "    </tr>\n",
       "    <tr>\n",
       "      <th>3</th>\n",
       "      <td>5216</td>\n",
       "    </tr>\n",
       "    <tr>\n",
       "      <th>4</th>\n",
       "      <td>6</td>\n",
       "    </tr>\n",
       "  </tbody>\n",
       "</table>\n",
       "</div>"
      ],
      "text/plain": [
       "              education\n",
       "education_id           \n",
       "0                   282\n",
       "1                 15124\n",
       "2                   741\n",
       "3                  5216\n",
       "4                     6"
      ]
     },
     "execution_count": 48,
     "metadata": {},
     "output_type": "execute_result"
    }
   ],
   "source": [
    "# получение распределения клиентов в зависимости от идентификатора образования в \"словаре\" 'education_dict'\n",
    "education_dict.groupby('education_id').count()"
   ]
  },
  {
   "cell_type": "code",
   "execution_count": 49,
   "metadata": {},
   "outputs": [
    {
     "data": {
      "text/html": [
       "<div>\n",
       "<style scoped>\n",
       "    .dataframe tbody tr th:only-of-type {\n",
       "        vertical-align: middle;\n",
       "    }\n",
       "\n",
       "    .dataframe tbody tr th {\n",
       "        vertical-align: top;\n",
       "    }\n",
       "\n",
       "    .dataframe thead th {\n",
       "        text-align: right;\n",
       "    }\n",
       "</style>\n",
       "<table border=\"1\" class=\"dataframe\">\n",
       "  <thead>\n",
       "    <tr style=\"text-align: right;\">\n",
       "      <th></th>\n",
       "      <th>family_status</th>\n",
       "    </tr>\n",
       "    <tr>\n",
       "      <th>family_status_id</th>\n",
       "      <th></th>\n",
       "    </tr>\n",
       "  </thead>\n",
       "  <tbody>\n",
       "    <tr>\n",
       "      <th>0</th>\n",
       "      <td>12295</td>\n",
       "    </tr>\n",
       "    <tr>\n",
       "      <th>1</th>\n",
       "      <td>4141</td>\n",
       "    </tr>\n",
       "    <tr>\n",
       "      <th>2</th>\n",
       "      <td>954</td>\n",
       "    </tr>\n",
       "    <tr>\n",
       "      <th>3</th>\n",
       "      <td>1185</td>\n",
       "    </tr>\n",
       "    <tr>\n",
       "      <th>4</th>\n",
       "      <td>2794</td>\n",
       "    </tr>\n",
       "  </tbody>\n",
       "</table>\n",
       "</div>"
      ],
      "text/plain": [
       "                  family_status\n",
       "family_status_id               \n",
       "0                         12295\n",
       "1                          4141\n",
       "2                           954\n",
       "3                          1185\n",
       "4                          2794"
      ]
     },
     "execution_count": 49,
     "metadata": {},
     "output_type": "execute_result"
    }
   ],
   "source": [
    "# получение распределения клиентов в зависимости от идентификатора семейного положения в \"словаре\" 'family_status_dict'\n",
    "family_status_dict.groupby('family_status_id').count()"
   ]
  },
  {
   "cell_type": "code",
   "execution_count": 50,
   "metadata": {},
   "outputs": [
    {
     "data": {
      "text/html": [
       "<div>\n",
       "<style scoped>\n",
       "    .dataframe tbody tr th:only-of-type {\n",
       "        vertical-align: middle;\n",
       "    }\n",
       "\n",
       "    .dataframe tbody tr th {\n",
       "        vertical-align: top;\n",
       "    }\n",
       "\n",
       "    .dataframe thead th {\n",
       "        text-align: right;\n",
       "    }\n",
       "</style>\n",
       "<table border=\"1\" class=\"dataframe\">\n",
       "  <thead>\n",
       "    <tr style=\"text-align: right;\">\n",
       "      <th></th>\n",
       "      <th>children</th>\n",
       "      <th>days_employed</th>\n",
       "      <th>age_years</th>\n",
       "      <th>education_id</th>\n",
       "      <th>family_status_id</th>\n",
       "      <th>gender</th>\n",
       "      <th>employment_type</th>\n",
       "      <th>debt</th>\n",
       "      <th>total_income</th>\n",
       "      <th>purpose</th>\n",
       "    </tr>\n",
       "  </thead>\n",
       "  <tbody>\n",
       "    <tr>\n",
       "      <th>0</th>\n",
       "      <td>1</td>\n",
       "      <td>8437</td>\n",
       "      <td>42</td>\n",
       "      <td>3</td>\n",
       "      <td>0</td>\n",
       "      <td>F</td>\n",
       "      <td>сотрудник</td>\n",
       "      <td>0</td>\n",
       "      <td>253875</td>\n",
       "      <td>покупка жилья</td>\n",
       "    </tr>\n",
       "    <tr>\n",
       "      <th>1</th>\n",
       "      <td>1</td>\n",
       "      <td>4024</td>\n",
       "      <td>36</td>\n",
       "      <td>1</td>\n",
       "      <td>0</td>\n",
       "      <td>F</td>\n",
       "      <td>сотрудник</td>\n",
       "      <td>0</td>\n",
       "      <td>112080</td>\n",
       "      <td>приобретение автомобиля</td>\n",
       "    </tr>\n",
       "    <tr>\n",
       "      <th>2</th>\n",
       "      <td>0</td>\n",
       "      <td>5623</td>\n",
       "      <td>33</td>\n",
       "      <td>1</td>\n",
       "      <td>0</td>\n",
       "      <td>M</td>\n",
       "      <td>сотрудник</td>\n",
       "      <td>0</td>\n",
       "      <td>145885</td>\n",
       "      <td>покупка жилья</td>\n",
       "    </tr>\n",
       "    <tr>\n",
       "      <th>3</th>\n",
       "      <td>3</td>\n",
       "      <td>4124</td>\n",
       "      <td>32</td>\n",
       "      <td>1</td>\n",
       "      <td>0</td>\n",
       "      <td>M</td>\n",
       "      <td>сотрудник</td>\n",
       "      <td>0</td>\n",
       "      <td>267628</td>\n",
       "      <td>дополнительное образование</td>\n",
       "    </tr>\n",
       "    <tr>\n",
       "      <th>4</th>\n",
       "      <td>0</td>\n",
       "      <td>14235</td>\n",
       "      <td>53</td>\n",
       "      <td>1</td>\n",
       "      <td>1</td>\n",
       "      <td>F</td>\n",
       "      <td>пенсионер</td>\n",
       "      <td>0</td>\n",
       "      <td>158616</td>\n",
       "      <td>сыграть свадьбу</td>\n",
       "    </tr>\n",
       "  </tbody>\n",
       "</table>\n",
       "</div>"
      ],
      "text/plain": [
       "   children  days_employed  age_years  education_id  family_status_id gender  \\\n",
       "0         1           8437         42             3                 0      F   \n",
       "1         1           4024         36             1                 0      F   \n",
       "2         0           5623         33             1                 0      M   \n",
       "3         3           4124         32             1                 0      M   \n",
       "4         0          14235         53             1                 1      F   \n",
       "\n",
       "  employment_type  debt  total_income                     purpose  \n",
       "0       сотрудник     0        253875               покупка жилья  \n",
       "1       сотрудник     0        112080     приобретение автомобиля  \n",
       "2       сотрудник     0        145885               покупка жилья  \n",
       "3       сотрудник     0        267628  дополнительное образование  \n",
       "4       пенсионер     0        158616             сыграть свадьбу  "
      ]
     },
     "execution_count": 50,
     "metadata": {},
     "output_type": "execute_result"
    }
   ],
   "source": [
    "# получение первых 10 строк таблицы df\n",
    "df.head()"
   ]
  },
  {
   "cell_type": "markdown",
   "metadata": {},
   "source": [
    "Разделим клиентов на категории в зависимости от уровня доходов:\n",
    "\n",
    "* 0 – 30000 — `'E'`;\n",
    "* 30001 – 50000 — `'D'`;\n",
    "* 50001 – 200000 — `'C'`;\n",
    "* 200001 – 1000000 — `'B'`;\n",
    "* 1000001 и выше — `'A'`.\n",
    "\n",
    "Укажем эти категории в новом столбце `total_income_category`."
   ]
  },
  {
   "cell_type": "code",
   "execution_count": 51,
   "metadata": {},
   "outputs": [],
   "source": [
    "# создадим функцию, разделяющую клиентов на категории в зависимости от уровня дохода\n",
    "def income_category(row):\n",
    "    total_income = row['total_income']\n",
    "    if total_income <= 30000:\n",
    "        return 'E'\n",
    "    if total_income >= 30001 and total_income <= 50000:\n",
    "        return 'D'\n",
    "    if total_income >= 50001 and total_income <= 200000:\n",
    "        return 'C'\n",
    "    if total_income >= 200001 and total_income <= 1000000:\n",
    "        return 'B'\n",
    "    if total_income >= 1000001:\n",
    "        return 'A'\n",
    "    return income_category\n",
    "\n",
    "df['total_income_category'] = df.apply(income_category, axis = 1)"
   ]
  },
  {
   "cell_type": "markdown",
   "metadata": {},
   "source": [
    "Выведем на экран полученную таблицу."
   ]
  },
  {
   "cell_type": "code",
   "execution_count": 52,
   "metadata": {},
   "outputs": [
    {
     "data": {
      "text/html": [
       "<div>\n",
       "<style scoped>\n",
       "    .dataframe tbody tr th:only-of-type {\n",
       "        vertical-align: middle;\n",
       "    }\n",
       "\n",
       "    .dataframe tbody tr th {\n",
       "        vertical-align: top;\n",
       "    }\n",
       "\n",
       "    .dataframe thead th {\n",
       "        text-align: right;\n",
       "    }\n",
       "</style>\n",
       "<table border=\"1\" class=\"dataframe\">\n",
       "  <thead>\n",
       "    <tr style=\"text-align: right;\">\n",
       "      <th></th>\n",
       "      <th>children</th>\n",
       "      <th>days_employed</th>\n",
       "      <th>age_years</th>\n",
       "      <th>education_id</th>\n",
       "      <th>family_status_id</th>\n",
       "      <th>gender</th>\n",
       "      <th>employment_type</th>\n",
       "      <th>debt</th>\n",
       "      <th>total_income</th>\n",
       "      <th>purpose</th>\n",
       "      <th>total_income_category</th>\n",
       "    </tr>\n",
       "  </thead>\n",
       "  <tbody>\n",
       "    <tr>\n",
       "      <th>0</th>\n",
       "      <td>1</td>\n",
       "      <td>8437</td>\n",
       "      <td>42</td>\n",
       "      <td>3</td>\n",
       "      <td>0</td>\n",
       "      <td>F</td>\n",
       "      <td>сотрудник</td>\n",
       "      <td>0</td>\n",
       "      <td>253875</td>\n",
       "      <td>покупка жилья</td>\n",
       "      <td>B</td>\n",
       "    </tr>\n",
       "    <tr>\n",
       "      <th>1</th>\n",
       "      <td>1</td>\n",
       "      <td>4024</td>\n",
       "      <td>36</td>\n",
       "      <td>1</td>\n",
       "      <td>0</td>\n",
       "      <td>F</td>\n",
       "      <td>сотрудник</td>\n",
       "      <td>0</td>\n",
       "      <td>112080</td>\n",
       "      <td>приобретение автомобиля</td>\n",
       "      <td>C</td>\n",
       "    </tr>\n",
       "    <tr>\n",
       "      <th>2</th>\n",
       "      <td>0</td>\n",
       "      <td>5623</td>\n",
       "      <td>33</td>\n",
       "      <td>1</td>\n",
       "      <td>0</td>\n",
       "      <td>M</td>\n",
       "      <td>сотрудник</td>\n",
       "      <td>0</td>\n",
       "      <td>145885</td>\n",
       "      <td>покупка жилья</td>\n",
       "      <td>C</td>\n",
       "    </tr>\n",
       "    <tr>\n",
       "      <th>3</th>\n",
       "      <td>3</td>\n",
       "      <td>4124</td>\n",
       "      <td>32</td>\n",
       "      <td>1</td>\n",
       "      <td>0</td>\n",
       "      <td>M</td>\n",
       "      <td>сотрудник</td>\n",
       "      <td>0</td>\n",
       "      <td>267628</td>\n",
       "      <td>дополнительное образование</td>\n",
       "      <td>B</td>\n",
       "    </tr>\n",
       "    <tr>\n",
       "      <th>4</th>\n",
       "      <td>0</td>\n",
       "      <td>14235</td>\n",
       "      <td>53</td>\n",
       "      <td>1</td>\n",
       "      <td>1</td>\n",
       "      <td>F</td>\n",
       "      <td>пенсионер</td>\n",
       "      <td>0</td>\n",
       "      <td>158616</td>\n",
       "      <td>сыграть свадьбу</td>\n",
       "      <td>C</td>\n",
       "    </tr>\n",
       "    <tr>\n",
       "      <th>5</th>\n",
       "      <td>0</td>\n",
       "      <td>926</td>\n",
       "      <td>27</td>\n",
       "      <td>3</td>\n",
       "      <td>1</td>\n",
       "      <td>M</td>\n",
       "      <td>компаньон</td>\n",
       "      <td>0</td>\n",
       "      <td>255763</td>\n",
       "      <td>покупка жилья</td>\n",
       "      <td>B</td>\n",
       "    </tr>\n",
       "    <tr>\n",
       "      <th>6</th>\n",
       "      <td>0</td>\n",
       "      <td>2879</td>\n",
       "      <td>43</td>\n",
       "      <td>3</td>\n",
       "      <td>0</td>\n",
       "      <td>F</td>\n",
       "      <td>компаньон</td>\n",
       "      <td>0</td>\n",
       "      <td>240525</td>\n",
       "      <td>операции с жильем</td>\n",
       "      <td>B</td>\n",
       "    </tr>\n",
       "    <tr>\n",
       "      <th>7</th>\n",
       "      <td>0</td>\n",
       "      <td>152</td>\n",
       "      <td>50</td>\n",
       "      <td>1</td>\n",
       "      <td>0</td>\n",
       "      <td>M</td>\n",
       "      <td>сотрудник</td>\n",
       "      <td>0</td>\n",
       "      <td>135823</td>\n",
       "      <td>образование</td>\n",
       "      <td>C</td>\n",
       "    </tr>\n",
       "    <tr>\n",
       "      <th>8</th>\n",
       "      <td>2</td>\n",
       "      <td>6929</td>\n",
       "      <td>35</td>\n",
       "      <td>3</td>\n",
       "      <td>1</td>\n",
       "      <td>F</td>\n",
       "      <td>сотрудник</td>\n",
       "      <td>0</td>\n",
       "      <td>95856</td>\n",
       "      <td>на проведение свадьбы</td>\n",
       "      <td>C</td>\n",
       "    </tr>\n",
       "    <tr>\n",
       "      <th>9</th>\n",
       "      <td>0</td>\n",
       "      <td>2188</td>\n",
       "      <td>41</td>\n",
       "      <td>1</td>\n",
       "      <td>0</td>\n",
       "      <td>M</td>\n",
       "      <td>сотрудник</td>\n",
       "      <td>0</td>\n",
       "      <td>144425</td>\n",
       "      <td>покупка жилья для семьи</td>\n",
       "      <td>C</td>\n",
       "    </tr>\n",
       "  </tbody>\n",
       "</table>\n",
       "</div>"
      ],
      "text/plain": [
       "   children  days_employed  age_years  education_id  family_status_id gender  \\\n",
       "0         1           8437         42             3                 0      F   \n",
       "1         1           4024         36             1                 0      F   \n",
       "2         0           5623         33             1                 0      M   \n",
       "3         3           4124         32             1                 0      M   \n",
       "4         0          14235         53             1                 1      F   \n",
       "5         0            926         27             3                 1      M   \n",
       "6         0           2879         43             3                 0      F   \n",
       "7         0            152         50             1                 0      M   \n",
       "8         2           6929         35             3                 1      F   \n",
       "9         0           2188         41             1                 0      M   \n",
       "\n",
       "  employment_type  debt  total_income                     purpose  \\\n",
       "0       сотрудник     0        253875               покупка жилья   \n",
       "1       сотрудник     0        112080     приобретение автомобиля   \n",
       "2       сотрудник     0        145885               покупка жилья   \n",
       "3       сотрудник     0        267628  дополнительное образование   \n",
       "4       пенсионер     0        158616             сыграть свадьбу   \n",
       "5       компаньон     0        255763               покупка жилья   \n",
       "6       компаньон     0        240525           операции с жильем   \n",
       "7       сотрудник     0        135823                 образование   \n",
       "8       сотрудник     0         95856       на проведение свадьбы   \n",
       "9       сотрудник     0        144425     покупка жилья для семьи   \n",
       "\n",
       "  total_income_category  \n",
       "0                     B  \n",
       "1                     C  \n",
       "2                     C  \n",
       "3                     B  \n",
       "4                     C  \n",
       "5                     B  \n",
       "6                     B  \n",
       "7                     C  \n",
       "8                     C  \n",
       "9                     C  "
      ]
     },
     "execution_count": 52,
     "metadata": {},
     "output_type": "execute_result"
    }
   ],
   "source": [
    "# получение первых 10 строк таблицы df\n",
    "df.head(10)"
   ]
  },
  {
   "cell_type": "markdown",
   "metadata": {},
   "source": [
    "Сгруппируем цели кредита в новом столбце `purpose_category`. Для этого посмотрим, какие есть уникальные значения в столбце `purpose`."
   ]
  },
  {
   "cell_type": "code",
   "execution_count": 53,
   "metadata": {},
   "outputs": [
    {
     "data": {
      "text/plain": [
       "['автомобили',\n",
       " 'автомобиль',\n",
       " 'высшее образование',\n",
       " 'дополнительное образование',\n",
       " 'жилье',\n",
       " 'заняться высшим образованием',\n",
       " 'заняться образованием',\n",
       " 'на покупку автомобиля',\n",
       " 'на покупку подержанного автомобиля',\n",
       " 'на покупку своего автомобиля',\n",
       " 'на проведение свадьбы',\n",
       " 'недвижимость',\n",
       " 'образование',\n",
       " 'операции с жильем',\n",
       " 'операции с коммерческой недвижимостью',\n",
       " 'операции с недвижимостью',\n",
       " 'операции со своей недвижимостью',\n",
       " 'покупка жилой недвижимости',\n",
       " 'покупка жилья',\n",
       " 'покупка жилья для сдачи',\n",
       " 'покупка жилья для семьи',\n",
       " 'покупка коммерческой недвижимости',\n",
       " 'покупка недвижимости',\n",
       " 'покупка своего жилья',\n",
       " 'получение высшего образования',\n",
       " 'получение дополнительного образования',\n",
       " 'получение образования',\n",
       " 'приобретение автомобиля',\n",
       " 'профильное образование',\n",
       " 'ремонт жилью',\n",
       " 'свадьба',\n",
       " 'свой автомобиль',\n",
       " 'сделка с автомобилем',\n",
       " 'сделка с подержанным автомобилем',\n",
       " 'строительство жилой недвижимости',\n",
       " 'строительство недвижимости',\n",
       " 'строительство собственной недвижимости',\n",
       " 'сыграть свадьбу']"
      ]
     },
     "execution_count": 53,
     "metadata": {},
     "output_type": "execute_result"
    }
   ],
   "source": [
    "# получение уникальных значений колонки 'purpose'\n",
    "sorted(df['purpose'].unique())"
   ]
  },
  {
   "cell_type": "markdown",
   "metadata": {},
   "source": [
    "Объединим все цели в следующие категории `purpose_category`:\n",
    "    \n",
    "* 'операции с автомобилем',\n",
    "* 'операции с недвижимостью',\n",
    "* 'проведение свадьбы',\n",
    "* 'получение образования'.\n",
    "\n",
    "Создадим функцию для заполнения столбца `purpose_category`."
   ]
  },
  {
   "cell_type": "code",
   "execution_count": 54,
   "metadata": {},
   "outputs": [],
   "source": [
    "# Функция для заполнения категорий в столбце `purpose_category`\n",
    "def purpose_category(row):\n",
    "    purpose = row['purpose']\n",
    "    if 'авто' in purpose:\n",
    "        return 'операции с автомобилем'\n",
    "    if 'свад' in purpose:\n",
    "        return 'проведение свадьбы'\n",
    "    if 'образ' in purpose:\n",
    "        return 'получение образования'\n",
    "    return 'операции с недвижимостью'\n",
    "df['purpose_category'] = df.apply(purpose_category, axis = 1)"
   ]
  },
  {
   "cell_type": "code",
   "execution_count": 55,
   "metadata": {},
   "outputs": [
    {
     "data": {
      "text/html": [
       "<div>\n",
       "<style scoped>\n",
       "    .dataframe tbody tr th:only-of-type {\n",
       "        vertical-align: middle;\n",
       "    }\n",
       "\n",
       "    .dataframe tbody tr th {\n",
       "        vertical-align: top;\n",
       "    }\n",
       "\n",
       "    .dataframe thead th {\n",
       "        text-align: right;\n",
       "    }\n",
       "</style>\n",
       "<table border=\"1\" class=\"dataframe\">\n",
       "  <thead>\n",
       "    <tr style=\"text-align: right;\">\n",
       "      <th></th>\n",
       "      <th>children</th>\n",
       "      <th>days_employed</th>\n",
       "      <th>age_years</th>\n",
       "      <th>education_id</th>\n",
       "      <th>family_status_id</th>\n",
       "      <th>gender</th>\n",
       "      <th>employment_type</th>\n",
       "      <th>debt</th>\n",
       "      <th>total_income</th>\n",
       "      <th>purpose</th>\n",
       "      <th>total_income_category</th>\n",
       "      <th>purpose_category</th>\n",
       "    </tr>\n",
       "  </thead>\n",
       "  <tbody>\n",
       "    <tr>\n",
       "      <th>0</th>\n",
       "      <td>1</td>\n",
       "      <td>8437</td>\n",
       "      <td>42</td>\n",
       "      <td>3</td>\n",
       "      <td>0</td>\n",
       "      <td>F</td>\n",
       "      <td>сотрудник</td>\n",
       "      <td>0</td>\n",
       "      <td>253875</td>\n",
       "      <td>покупка жилья</td>\n",
       "      <td>B</td>\n",
       "      <td>операции с недвижимостью</td>\n",
       "    </tr>\n",
       "    <tr>\n",
       "      <th>1</th>\n",
       "      <td>1</td>\n",
       "      <td>4024</td>\n",
       "      <td>36</td>\n",
       "      <td>1</td>\n",
       "      <td>0</td>\n",
       "      <td>F</td>\n",
       "      <td>сотрудник</td>\n",
       "      <td>0</td>\n",
       "      <td>112080</td>\n",
       "      <td>приобретение автомобиля</td>\n",
       "      <td>C</td>\n",
       "      <td>операции с автомобилем</td>\n",
       "    </tr>\n",
       "    <tr>\n",
       "      <th>2</th>\n",
       "      <td>0</td>\n",
       "      <td>5623</td>\n",
       "      <td>33</td>\n",
       "      <td>1</td>\n",
       "      <td>0</td>\n",
       "      <td>M</td>\n",
       "      <td>сотрудник</td>\n",
       "      <td>0</td>\n",
       "      <td>145885</td>\n",
       "      <td>покупка жилья</td>\n",
       "      <td>C</td>\n",
       "      <td>операции с недвижимостью</td>\n",
       "    </tr>\n",
       "    <tr>\n",
       "      <th>3</th>\n",
       "      <td>3</td>\n",
       "      <td>4124</td>\n",
       "      <td>32</td>\n",
       "      <td>1</td>\n",
       "      <td>0</td>\n",
       "      <td>M</td>\n",
       "      <td>сотрудник</td>\n",
       "      <td>0</td>\n",
       "      <td>267628</td>\n",
       "      <td>дополнительное образование</td>\n",
       "      <td>B</td>\n",
       "      <td>получение образования</td>\n",
       "    </tr>\n",
       "    <tr>\n",
       "      <th>4</th>\n",
       "      <td>0</td>\n",
       "      <td>14235</td>\n",
       "      <td>53</td>\n",
       "      <td>1</td>\n",
       "      <td>1</td>\n",
       "      <td>F</td>\n",
       "      <td>пенсионер</td>\n",
       "      <td>0</td>\n",
       "      <td>158616</td>\n",
       "      <td>сыграть свадьбу</td>\n",
       "      <td>C</td>\n",
       "      <td>проведение свадьбы</td>\n",
       "    </tr>\n",
       "    <tr>\n",
       "      <th>5</th>\n",
       "      <td>0</td>\n",
       "      <td>926</td>\n",
       "      <td>27</td>\n",
       "      <td>3</td>\n",
       "      <td>1</td>\n",
       "      <td>M</td>\n",
       "      <td>компаньон</td>\n",
       "      <td>0</td>\n",
       "      <td>255763</td>\n",
       "      <td>покупка жилья</td>\n",
       "      <td>B</td>\n",
       "      <td>операции с недвижимостью</td>\n",
       "    </tr>\n",
       "    <tr>\n",
       "      <th>6</th>\n",
       "      <td>0</td>\n",
       "      <td>2879</td>\n",
       "      <td>43</td>\n",
       "      <td>3</td>\n",
       "      <td>0</td>\n",
       "      <td>F</td>\n",
       "      <td>компаньон</td>\n",
       "      <td>0</td>\n",
       "      <td>240525</td>\n",
       "      <td>операции с жильем</td>\n",
       "      <td>B</td>\n",
       "      <td>операции с недвижимостью</td>\n",
       "    </tr>\n",
       "    <tr>\n",
       "      <th>7</th>\n",
       "      <td>0</td>\n",
       "      <td>152</td>\n",
       "      <td>50</td>\n",
       "      <td>1</td>\n",
       "      <td>0</td>\n",
       "      <td>M</td>\n",
       "      <td>сотрудник</td>\n",
       "      <td>0</td>\n",
       "      <td>135823</td>\n",
       "      <td>образование</td>\n",
       "      <td>C</td>\n",
       "      <td>получение образования</td>\n",
       "    </tr>\n",
       "    <tr>\n",
       "      <th>8</th>\n",
       "      <td>2</td>\n",
       "      <td>6929</td>\n",
       "      <td>35</td>\n",
       "      <td>3</td>\n",
       "      <td>1</td>\n",
       "      <td>F</td>\n",
       "      <td>сотрудник</td>\n",
       "      <td>0</td>\n",
       "      <td>95856</td>\n",
       "      <td>на проведение свадьбы</td>\n",
       "      <td>C</td>\n",
       "      <td>проведение свадьбы</td>\n",
       "    </tr>\n",
       "    <tr>\n",
       "      <th>9</th>\n",
       "      <td>0</td>\n",
       "      <td>2188</td>\n",
       "      <td>41</td>\n",
       "      <td>1</td>\n",
       "      <td>0</td>\n",
       "      <td>M</td>\n",
       "      <td>сотрудник</td>\n",
       "      <td>0</td>\n",
       "      <td>144425</td>\n",
       "      <td>покупка жилья для семьи</td>\n",
       "      <td>C</td>\n",
       "      <td>операции с недвижимостью</td>\n",
       "    </tr>\n",
       "  </tbody>\n",
       "</table>\n",
       "</div>"
      ],
      "text/plain": [
       "   children  days_employed  age_years  education_id  family_status_id gender  \\\n",
       "0         1           8437         42             3                 0      F   \n",
       "1         1           4024         36             1                 0      F   \n",
       "2         0           5623         33             1                 0      M   \n",
       "3         3           4124         32             1                 0      M   \n",
       "4         0          14235         53             1                 1      F   \n",
       "5         0            926         27             3                 1      M   \n",
       "6         0           2879         43             3                 0      F   \n",
       "7         0            152         50             1                 0      M   \n",
       "8         2           6929         35             3                 1      F   \n",
       "9         0           2188         41             1                 0      M   \n",
       "\n",
       "  employment_type  debt  total_income                     purpose  \\\n",
       "0       сотрудник     0        253875               покупка жилья   \n",
       "1       сотрудник     0        112080     приобретение автомобиля   \n",
       "2       сотрудник     0        145885               покупка жилья   \n",
       "3       сотрудник     0        267628  дополнительное образование   \n",
       "4       пенсионер     0        158616             сыграть свадьбу   \n",
       "5       компаньон     0        255763               покупка жилья   \n",
       "6       компаньон     0        240525           операции с жильем   \n",
       "7       сотрудник     0        135823                 образование   \n",
       "8       сотрудник     0         95856       на проведение свадьбы   \n",
       "9       сотрудник     0        144425     покупка жилья для семьи   \n",
       "\n",
       "  total_income_category          purpose_category  \n",
       "0                     B  операции с недвижимостью  \n",
       "1                     C    операции с автомобилем  \n",
       "2                     C  операции с недвижимостью  \n",
       "3                     B     получение образования  \n",
       "4                     C        проведение свадьбы  \n",
       "5                     B  операции с недвижимостью  \n",
       "6                     B  операции с недвижимостью  \n",
       "7                     C     получение образования  \n",
       "8                     C        проведение свадьбы  \n",
       "9                     C  операции с недвижимостью  "
      ]
     },
     "execution_count": 55,
     "metadata": {},
     "output_type": "execute_result"
    }
   ],
   "source": [
    "# получение первых 10 строк таблицы df\n",
    "df.head(10) "
   ]
  },
  {
   "cell_type": "markdown",
   "metadata": {},
   "source": [
    "Оценим ещё раз числовые данные."
   ]
  },
  {
   "cell_type": "code",
   "execution_count": 56,
   "metadata": {},
   "outputs": [
    {
     "data": {
      "text/html": [
       "<div>\n",
       "<style scoped>\n",
       "    .dataframe tbody tr th:only-of-type {\n",
       "        vertical-align: middle;\n",
       "    }\n",
       "\n",
       "    .dataframe tbody tr th {\n",
       "        vertical-align: top;\n",
       "    }\n",
       "\n",
       "    .dataframe thead th {\n",
       "        text-align: right;\n",
       "    }\n",
       "</style>\n",
       "<table border=\"1\" class=\"dataframe\">\n",
       "  <thead>\n",
       "    <tr style=\"text-align: right;\">\n",
       "      <th></th>\n",
       "      <th>children</th>\n",
       "      <th>days_employed</th>\n",
       "      <th>age_years</th>\n",
       "      <th>education_id</th>\n",
       "      <th>family_status_id</th>\n",
       "      <th>debt</th>\n",
       "      <th>total_income</th>\n",
       "    </tr>\n",
       "  </thead>\n",
       "  <tbody>\n",
       "    <tr>\n",
       "      <th>count</th>\n",
       "      <td>21369.000000</td>\n",
       "      <td>21369.000000</td>\n",
       "      <td>21369.000000</td>\n",
       "      <td>21369.000000</td>\n",
       "      <td>21369.000000</td>\n",
       "      <td>21369.000000</td>\n",
       "      <td>2.136900e+04</td>\n",
       "    </tr>\n",
       "    <tr>\n",
       "      <th>mean</th>\n",
       "      <td>0.480182</td>\n",
       "      <td>4619.664046</td>\n",
       "      <td>43.484534</td>\n",
       "      <td>1.510506</td>\n",
       "      <td>0.972437</td>\n",
       "      <td>0.081099</td>\n",
       "      <td>1.652453e+05</td>\n",
       "    </tr>\n",
       "    <tr>\n",
       "      <th>std</th>\n",
       "      <td>0.755668</td>\n",
       "      <td>5667.649078</td>\n",
       "      <td>12.245590</td>\n",
       "      <td>0.875321</td>\n",
       "      <td>1.420533</td>\n",
       "      <td>0.272993</td>\n",
       "      <td>9.809662e+04</td>\n",
       "    </tr>\n",
       "    <tr>\n",
       "      <th>min</th>\n",
       "      <td>0.000000</td>\n",
       "      <td>24.000000</td>\n",
       "      <td>19.000000</td>\n",
       "      <td>0.000000</td>\n",
       "      <td>0.000000</td>\n",
       "      <td>0.000000</td>\n",
       "      <td>2.066700e+04</td>\n",
       "    </tr>\n",
       "    <tr>\n",
       "      <th>25%</th>\n",
       "      <td>0.000000</td>\n",
       "      <td>1024.000000</td>\n",
       "      <td>33.000000</td>\n",
       "      <td>1.000000</td>\n",
       "      <td>0.000000</td>\n",
       "      <td>0.000000</td>\n",
       "      <td>1.077060e+05</td>\n",
       "    </tr>\n",
       "    <tr>\n",
       "      <th>50%</th>\n",
       "      <td>0.000000</td>\n",
       "      <td>2197.000000</td>\n",
       "      <td>43.000000</td>\n",
       "      <td>1.000000</td>\n",
       "      <td>0.000000</td>\n",
       "      <td>0.000000</td>\n",
       "      <td>1.450050e+05</td>\n",
       "    </tr>\n",
       "    <tr>\n",
       "      <th>75%</th>\n",
       "      <td>1.000000</td>\n",
       "      <td>4791.000000</td>\n",
       "      <td>53.000000</td>\n",
       "      <td>2.000000</td>\n",
       "      <td>1.000000</td>\n",
       "      <td>0.000000</td>\n",
       "      <td>1.957370e+05</td>\n",
       "    </tr>\n",
       "    <tr>\n",
       "      <th>max</th>\n",
       "      <td>5.000000</td>\n",
       "      <td>21900.000000</td>\n",
       "      <td>75.000000</td>\n",
       "      <td>4.000000</td>\n",
       "      <td>4.000000</td>\n",
       "      <td>1.000000</td>\n",
       "      <td>2.265604e+06</td>\n",
       "    </tr>\n",
       "  </tbody>\n",
       "</table>\n",
       "</div>"
      ],
      "text/plain": [
       "           children  days_employed     age_years  education_id  \\\n",
       "count  21369.000000   21369.000000  21369.000000  21369.000000   \n",
       "mean       0.480182    4619.664046     43.484534      1.510506   \n",
       "std        0.755668    5667.649078     12.245590      0.875321   \n",
       "min        0.000000      24.000000     19.000000      0.000000   \n",
       "25%        0.000000    1024.000000     33.000000      1.000000   \n",
       "50%        0.000000    2197.000000     43.000000      1.000000   \n",
       "75%        1.000000    4791.000000     53.000000      2.000000   \n",
       "max        5.000000   21900.000000     75.000000      4.000000   \n",
       "\n",
       "       family_status_id          debt  total_income  \n",
       "count      21369.000000  21369.000000  2.136900e+04  \n",
       "mean           0.972437      0.081099  1.652453e+05  \n",
       "std            1.420533      0.272993  9.809662e+04  \n",
       "min            0.000000      0.000000  2.066700e+04  \n",
       "25%            0.000000      0.000000  1.077060e+05  \n",
       "50%            0.000000      0.000000  1.450050e+05  \n",
       "75%            1.000000      0.000000  1.957370e+05  \n",
       "max            4.000000      1.000000  2.265604e+06  "
      ]
     },
     "execution_count": 56,
     "metadata": {},
     "output_type": "execute_result"
    }
   ],
   "source": [
    "# оценка числовых переменных\n",
    "df.describe()"
   ]
  },
  {
   "cell_type": "markdown",
   "metadata": {
    "id": "jz6a9-7HQUDd"
   },
   "source": [
    "**Выводы**\n",
    "\n",
    "Предобработка обнаружила целый ряд критичных и некритичных проблем:\n",
    "\n",
    "- нарушения в стиле заголовков,\n",
    "- аномальные значения (минусовые и слишком большие значения, несуществующий пол, нелогичные идентификаторы),\n",
    "- пропущенные значения,\n",
    "- дубликаты — явные и неявные.\n",
    "\n",
    "Мы исправили названия двух столбцов и заменили 2 164 пропущенных значения в столбцах `days_employed` и `total_income` на медианные значения.\n",
    "\n",
    "Также удалили 55 явных дубликатов записей, 101 ноль в столбце возраста, изменили 76 неявных дубликатов и удалили одно аномальное значение пола.\n",
    "В итоге удаление затронуло всего 0,73% записей - это не повлияет на точность нашего исследования. Оставшихся 21 369 уникальных ненулевых записей достаточно для того, чтобы сделать релевантные выводы о поведении клиентов.\n",
    "\n",
    "Кроме того, мы провели категоризацию данных и создали две таблицы-\"словаря\", разгрузив основную таблицу.\n",
    "\n",
    "В среднем, 8,1% клиентов допускают просрочку кредита. Попробуем выяснить, от каких факторов зависит этот показатель.\n",
    "\n",
    "\n",
    "\n"
   ]
  },
  {
   "cell_type": "markdown",
   "metadata": {
    "id": "WttZHXH0SqKk"
   },
   "source": [
    "## Определение факторов, влияющих на вероятность просрочки кредита"
   ]
  },
  {
   "cell_type": "markdown",
   "metadata": {
    "id": "Im936VVi_Zcu"
   },
   "source": [
    "### Влияние количества детей на возврат кредита"
   ]
  },
  {
   "cell_type": "markdown",
   "metadata": {
    "id": "nwt_MuaL_Zcu"
   },
   "source": [
    "Первый вопрос нашего заказчика касался влияния количества детей на вероятность возврата кредита в срок.\n",
    "\n",
    "Для этого:\n",
    "\n",
    "* Создадим сводную таблицу `pivot_children`, в которой сгруппируем данные о просрочке кредита для клиентов с различным числом детей.\n",
    "* Сравним, каков процент выхода на просрочку кредита в каждой группе.\n"
   ]
  },
  {
   "cell_type": "markdown",
   "metadata": {
    "id": "8Dw_YMmT_Zcu"
   },
   "source": [
    "Посчитаем общее количество клиентов в каждой группе и количество клиентов, допустивших просрочку кредита."
   ]
  },
  {
   "cell_type": "code",
   "execution_count": 57,
   "metadata": {},
   "outputs": [
    {
     "data": {
      "text/html": [
       "<div>\n",
       "<style scoped>\n",
       "    .dataframe tbody tr th:only-of-type {\n",
       "        vertical-align: middle;\n",
       "    }\n",
       "\n",
       "    .dataframe tbody tr th {\n",
       "        vertical-align: top;\n",
       "    }\n",
       "\n",
       "    .dataframe thead tr th {\n",
       "        text-align: left;\n",
       "    }\n",
       "\n",
       "    .dataframe thead tr:last-of-type th {\n",
       "        text-align: right;\n",
       "    }\n",
       "</style>\n",
       "<table border=\"1\" class=\"dataframe\">\n",
       "  <thead>\n",
       "    <tr>\n",
       "      <th></th>\n",
       "      <th>sum</th>\n",
       "      <th>count</th>\n",
       "    </tr>\n",
       "    <tr>\n",
       "      <th></th>\n",
       "      <th>debt</th>\n",
       "      <th>debt</th>\n",
       "    </tr>\n",
       "    <tr>\n",
       "      <th>children</th>\n",
       "      <th></th>\n",
       "      <th></th>\n",
       "    </tr>\n",
       "  </thead>\n",
       "  <tbody>\n",
       "    <tr>\n",
       "      <th>0</th>\n",
       "      <td>1058</td>\n",
       "      <td>14037</td>\n",
       "    </tr>\n",
       "    <tr>\n",
       "      <th>1</th>\n",
       "      <td>442</td>\n",
       "      <td>4840</td>\n",
       "    </tr>\n",
       "    <tr>\n",
       "      <th>2</th>\n",
       "      <td>202</td>\n",
       "      <td>2114</td>\n",
       "    </tr>\n",
       "    <tr>\n",
       "      <th>3</th>\n",
       "      <td>27</td>\n",
       "      <td>328</td>\n",
       "    </tr>\n",
       "    <tr>\n",
       "      <th>4</th>\n",
       "      <td>4</td>\n",
       "      <td>41</td>\n",
       "    </tr>\n",
       "    <tr>\n",
       "      <th>5</th>\n",
       "      <td>0</td>\n",
       "      <td>9</td>\n",
       "    </tr>\n",
       "  </tbody>\n",
       "</table>\n",
       "</div>"
      ],
      "text/plain": [
       "           sum  count\n",
       "          debt   debt\n",
       "children             \n",
       "0         1058  14037\n",
       "1          442   4840\n",
       "2          202   2114\n",
       "3           27    328\n",
       "4            4     41\n",
       "5            0      9"
      ]
     },
     "execution_count": 57,
     "metadata": {},
     "output_type": "execute_result"
    }
   ],
   "source": [
    "# создание сводной таблицы 'pivot_children', в которой группируем данные по столбцу 'children'\n",
    "# и подсчитываем для этих групп количество клиентов 'count' и количество просрочек 'sum'\n",
    "pivot_children = df.pivot_table(index=['children'], values='debt', aggfunc=['sum', 'count'])\n",
    "pivot_children"
   ]
  },
  {
   "cell_type": "markdown",
   "metadata": {
    "id": "8Dw_YMmT_Zcu"
   },
   "source": [
    "Посчитаем процент просрочки кредита в каждой группе. Оказывается, в группе с пятью детьми просрочек не было."
   ]
  },
  {
   "cell_type": "code",
   "execution_count": 58,
   "metadata": {},
   "outputs": [
    {
     "data": {
      "text/html": [
       "<div>\n",
       "<style scoped>\n",
       "    .dataframe tbody tr th:only-of-type {\n",
       "        vertical-align: middle;\n",
       "    }\n",
       "\n",
       "    .dataframe tbody tr th {\n",
       "        vertical-align: top;\n",
       "    }\n",
       "\n",
       "    .dataframe thead tr th {\n",
       "        text-align: left;\n",
       "    }\n",
       "\n",
       "    .dataframe thead tr:last-of-type th {\n",
       "        text-align: right;\n",
       "    }\n",
       "</style>\n",
       "<table border=\"1\" class=\"dataframe\">\n",
       "  <thead>\n",
       "    <tr>\n",
       "      <th></th>\n",
       "      <th>sum</th>\n",
       "      <th>count</th>\n",
       "      <th>default</th>\n",
       "    </tr>\n",
       "    <tr>\n",
       "      <th></th>\n",
       "      <th>debt</th>\n",
       "      <th>debt</th>\n",
       "      <th></th>\n",
       "    </tr>\n",
       "    <tr>\n",
       "      <th>children</th>\n",
       "      <th></th>\n",
       "      <th></th>\n",
       "      <th></th>\n",
       "    </tr>\n",
       "  </thead>\n",
       "  <tbody>\n",
       "    <tr>\n",
       "      <th>0</th>\n",
       "      <td>1058</td>\n",
       "      <td>14037</td>\n",
       "      <td>7.537223</td>\n",
       "    </tr>\n",
       "    <tr>\n",
       "      <th>1</th>\n",
       "      <td>442</td>\n",
       "      <td>4840</td>\n",
       "      <td>9.132231</td>\n",
       "    </tr>\n",
       "    <tr>\n",
       "      <th>2</th>\n",
       "      <td>202</td>\n",
       "      <td>2114</td>\n",
       "      <td>9.555345</td>\n",
       "    </tr>\n",
       "    <tr>\n",
       "      <th>3</th>\n",
       "      <td>27</td>\n",
       "      <td>328</td>\n",
       "      <td>8.231707</td>\n",
       "    </tr>\n",
       "    <tr>\n",
       "      <th>4</th>\n",
       "      <td>4</td>\n",
       "      <td>41</td>\n",
       "      <td>9.756098</td>\n",
       "    </tr>\n",
       "    <tr>\n",
       "      <th>5</th>\n",
       "      <td>0</td>\n",
       "      <td>9</td>\n",
       "      <td>0.000000</td>\n",
       "    </tr>\n",
       "  </tbody>\n",
       "</table>\n",
       "</div>"
      ],
      "text/plain": [
       "           sum  count   default\n",
       "          debt   debt          \n",
       "children                       \n",
       "0         1058  14037  7.537223\n",
       "1          442   4840  9.132231\n",
       "2          202   2114  9.555345\n",
       "3           27    328  8.231707\n",
       "4            4     41  9.756098\n",
       "5            0      9  0.000000"
      ]
     },
     "execution_count": 58,
     "metadata": {},
     "output_type": "execute_result"
    }
   ],
   "source": [
    "# добавление в сводную таблицу 'pivot_children' столбца с процентом просрочки\n",
    "pivot_children['default'] = 100 * (pivot_children['sum'] / pivot_children['count'])\n",
    "pivot_children"
   ]
  },
  {
   "cell_type": "markdown",
   "metadata": {
    "id": "-EgPIHYu_Zcu"
   },
   "source": [
    "**Выводы**\n",
    "\n",
    "Данные не показывают связи между количеством детей и выходом на просрочку кредита:\n",
    "\n",
    "- Пик просрочки приходится на клиентов с одним, двумя и четырьмя детьми. Клиенты с трёмя детьми показывают среднюю вероятность просрочки кредита.\n",
    "- Клиенты без детей выходят на просрочку кредита значительно реже, чем семьи с детьми.\n",
    "- Клиенты с пятью детьми вообще не допускали просрочки кредита. Однако количество таких клиентов слишком мало (9).\n",
    "\n",
    "**Таким образом, на вероятность просрочки кредита влияет не количество детей, а их наличие или отсутствие.**\n",
    "\n",
    "Всё логично: появление даже одного ребёнка приводит к дополнительным расходам семьи без увеличения (а поначалу и с уменьшением) доходов, что делает более напряжённым выполнение графика погашения задолженности перед банком. Отсутствие просрочки у клиентов с пятью детьми, возможно, связано с различными государственными программами поддержки таких семей либо просто с маленьким числом таких клиентов, а следовательно, с нерепрезентативностью выборки в данной категории."
   ]
  },
  {
   "cell_type": "markdown",
   "metadata": {
    "id": "atZAxtq4_Zcu"
   },
   "source": [
    "### Влияние семейного положения на возврат кредита"
   ]
  },
  {
   "cell_type": "markdown",
   "metadata": {
    "id": "eXrQqXFH_Zcu"
   },
   "source": [
    "Согласно второй задаче, необходимо выяснить, влияет ли семейное положение на вероятность возникновения просрочки по кредиту."
   ]
  },
  {
   "cell_type": "markdown",
   "metadata": {
    "id": "nwt_MuaL_Zcu"
   },
   "source": [
    "Чтобы ответить на этот вопрос, проделаем действия, аналогичные предыдущему параграфу.\n",
    "\n",
    "Для этого:\n",
    "\n",
    "* Создадим сводную таблицу `pivot_family`, в которой сгруппируем данные о просрочке кредита для клиентов с разным семейным положением.\n",
    "* Сравним, каков процент выхода на просрочку кредита в каждой группе.\n"
   ]
  },
  {
   "cell_type": "markdown",
   "metadata": {
    "id": "8Dw_YMmT_Zcu"
   },
   "source": [
    "Посчитаем общее количество клиентов в каждой группе и количество клиентов, допустивших просрочку кредита."
   ]
  },
  {
   "cell_type": "code",
   "execution_count": 59,
   "metadata": {},
   "outputs": [
    {
     "data": {
      "text/html": [
       "<div>\n",
       "<style scoped>\n",
       "    .dataframe tbody tr th:only-of-type {\n",
       "        vertical-align: middle;\n",
       "    }\n",
       "\n",
       "    .dataframe tbody tr th {\n",
       "        vertical-align: top;\n",
       "    }\n",
       "\n",
       "    .dataframe thead tr th {\n",
       "        text-align: left;\n",
       "    }\n",
       "\n",
       "    .dataframe thead tr:last-of-type th {\n",
       "        text-align: right;\n",
       "    }\n",
       "</style>\n",
       "<table border=\"1\" class=\"dataframe\">\n",
       "  <thead>\n",
       "    <tr>\n",
       "      <th></th>\n",
       "      <th>sum</th>\n",
       "      <th>count</th>\n",
       "    </tr>\n",
       "    <tr>\n",
       "      <th></th>\n",
       "      <th>debt</th>\n",
       "      <th>debt</th>\n",
       "    </tr>\n",
       "    <tr>\n",
       "      <th>family_status_id</th>\n",
       "      <th></th>\n",
       "      <th></th>\n",
       "    </tr>\n",
       "  </thead>\n",
       "  <tbody>\n",
       "    <tr>\n",
       "      <th>0</th>\n",
       "      <td>927</td>\n",
       "      <td>12295</td>\n",
       "    </tr>\n",
       "    <tr>\n",
       "      <th>1</th>\n",
       "      <td>386</td>\n",
       "      <td>4141</td>\n",
       "    </tr>\n",
       "    <tr>\n",
       "      <th>2</th>\n",
       "      <td>62</td>\n",
       "      <td>954</td>\n",
       "    </tr>\n",
       "    <tr>\n",
       "      <th>3</th>\n",
       "      <td>85</td>\n",
       "      <td>1185</td>\n",
       "    </tr>\n",
       "    <tr>\n",
       "      <th>4</th>\n",
       "      <td>273</td>\n",
       "      <td>2794</td>\n",
       "    </tr>\n",
       "  </tbody>\n",
       "</table>\n",
       "</div>"
      ],
      "text/plain": [
       "                  sum  count\n",
       "                 debt   debt\n",
       "family_status_id            \n",
       "0                 927  12295\n",
       "1                 386   4141\n",
       "2                  62    954\n",
       "3                  85   1185\n",
       "4                 273   2794"
      ]
     },
     "execution_count": 59,
     "metadata": {},
     "output_type": "execute_result"
    }
   ],
   "source": [
    "# создание сводной таблицы 'pivot_family', в которой группируем данные по столбцу 'family_status_id'\n",
    "# и подсчитываем для этих групп количество клиентов 'count' и количество просрочек 'sum'\n",
    "pivot_family = df.pivot_table(index=['family_status_id'], values=['debt'], aggfunc=['sum', 'count'])\n",
    "pivot_family"
   ]
  },
  {
   "cell_type": "markdown",
   "metadata": {
    "id": "8Dw_YMmT_Zcu"
   },
   "source": [
    "Посчитаем процент просрочки кредита в каждой группе."
   ]
  },
  {
   "cell_type": "code",
   "execution_count": 60,
   "metadata": {},
   "outputs": [
    {
     "data": {
      "text/html": [
       "<div>\n",
       "<style scoped>\n",
       "    .dataframe tbody tr th:only-of-type {\n",
       "        vertical-align: middle;\n",
       "    }\n",
       "\n",
       "    .dataframe tbody tr th {\n",
       "        vertical-align: top;\n",
       "    }\n",
       "\n",
       "    .dataframe thead tr th {\n",
       "        text-align: left;\n",
       "    }\n",
       "\n",
       "    .dataframe thead tr:last-of-type th {\n",
       "        text-align: right;\n",
       "    }\n",
       "</style>\n",
       "<table border=\"1\" class=\"dataframe\">\n",
       "  <thead>\n",
       "    <tr>\n",
       "      <th></th>\n",
       "      <th>sum</th>\n",
       "      <th>count</th>\n",
       "      <th>default</th>\n",
       "    </tr>\n",
       "    <tr>\n",
       "      <th></th>\n",
       "      <th>debt</th>\n",
       "      <th>debt</th>\n",
       "      <th></th>\n",
       "    </tr>\n",
       "    <tr>\n",
       "      <th>family_status_id</th>\n",
       "      <th></th>\n",
       "      <th></th>\n",
       "      <th></th>\n",
       "    </tr>\n",
       "  </thead>\n",
       "  <tbody>\n",
       "    <tr>\n",
       "      <th>0</th>\n",
       "      <td>927</td>\n",
       "      <td>12295</td>\n",
       "      <td>7.539650</td>\n",
       "    </tr>\n",
       "    <tr>\n",
       "      <th>1</th>\n",
       "      <td>386</td>\n",
       "      <td>4141</td>\n",
       "      <td>9.321420</td>\n",
       "    </tr>\n",
       "    <tr>\n",
       "      <th>2</th>\n",
       "      <td>62</td>\n",
       "      <td>954</td>\n",
       "      <td>6.498952</td>\n",
       "    </tr>\n",
       "    <tr>\n",
       "      <th>3</th>\n",
       "      <td>85</td>\n",
       "      <td>1185</td>\n",
       "      <td>7.172996</td>\n",
       "    </tr>\n",
       "    <tr>\n",
       "      <th>4</th>\n",
       "      <td>273</td>\n",
       "      <td>2794</td>\n",
       "      <td>9.770938</td>\n",
       "    </tr>\n",
       "  </tbody>\n",
       "</table>\n",
       "</div>"
      ],
      "text/plain": [
       "                  sum  count   default\n",
       "                 debt   debt          \n",
       "family_status_id                      \n",
       "0                 927  12295  7.539650\n",
       "1                 386   4141  9.321420\n",
       "2                  62    954  6.498952\n",
       "3                  85   1185  7.172996\n",
       "4                 273   2794  9.770938"
      ]
     },
     "execution_count": 60,
     "metadata": {},
     "output_type": "execute_result"
    }
   ],
   "source": [
    "# добавление в сводную таблицу 'pivot_family' столбца с процентом просрочки\n",
    "pivot_family['default'] = 100 * (pivot_family['sum'] / pivot_family['count'])\n",
    "pivot_family"
   ]
  },
  {
   "cell_type": "markdown",
   "metadata": {
    "id": "-EgPIHYu_Zcu"
   },
   "source": [
    "**Выводы**\n",
    "\n",
    "Данные показывают взаимосвязь между семейным положением и выходом на просрочку кредита:\n",
    "\n",
    "- Пик просрочки приходится на клиентов, которые ни разу не брали на себя семейные обязательства (клиенты со статусом \"не женат / не замужем\" и \"гражданский брак\").\n",
    "- У остальных категорий клиентов вероятность просрочки по кредиту ниже среднего (8,1%).\n",
    "- Минимальная вероятность просрочки у вдов и вдовцов (6,6%). Хотя число таких клиентов и невысоко (959), однако статистически значимо (4,5% выборки).\n",
    "\n",
    "**Таким образом, семейное положение влияет на вероятность просрочки по кредиту.**\n",
    "\n",
    "Всё логично: человек, хотя бы раз взявший на себя семейные обязательства, более ответственно подходит и к взятию на себя других обязательств, и к их выполнению."
   ]
  },
  {
   "cell_type": "code",
   "execution_count": 65,
   "metadata": {},
   "outputs": [
    {
     "data": {
      "text/html": [
       "<div>\n",
       "<style scoped>\n",
       "    .dataframe tbody tr th:only-of-type {\n",
       "        vertical-align: middle;\n",
       "    }\n",
       "\n",
       "    .dataframe tbody tr th {\n",
       "        vertical-align: top;\n",
       "    }\n",
       "\n",
       "    .dataframe thead th {\n",
       "        text-align: right;\n",
       "    }\n",
       "</style>\n",
       "<table border=\"1\" class=\"dataframe\">\n",
       "  <thead>\n",
       "    <tr style=\"text-align: right;\">\n",
       "      <th></th>\n",
       "      <th>family_status_id</th>\n",
       "      <th>debt</th>\n",
       "    </tr>\n",
       "  </thead>\n",
       "  <tbody>\n",
       "    <tr>\n",
       "      <th>0</th>\n",
       "      <td>0</td>\n",
       "      <td>0.075397</td>\n",
       "    </tr>\n",
       "    <tr>\n",
       "      <th>1</th>\n",
       "      <td>1</td>\n",
       "      <td>0.093214</td>\n",
       "    </tr>\n",
       "    <tr>\n",
       "      <th>2</th>\n",
       "      <td>2</td>\n",
       "      <td>0.064990</td>\n",
       "    </tr>\n",
       "    <tr>\n",
       "      <th>3</th>\n",
       "      <td>3</td>\n",
       "      <td>0.071730</td>\n",
       "    </tr>\n",
       "    <tr>\n",
       "      <th>4</th>\n",
       "      <td>4</td>\n",
       "      <td>0.097709</td>\n",
       "    </tr>\n",
       "  </tbody>\n",
       "</table>\n",
       "</div>"
      ],
      "text/plain": [
       "   family_status_id      debt\n",
       "0                 0  0.075397\n",
       "1                 1  0.093214\n",
       "2                 2  0.064990\n",
       "3                 3  0.071730\n",
       "4                 4  0.097709"
      ]
     },
     "execution_count": 65,
     "metadata": {},
     "output_type": "execute_result"
    }
   ],
   "source": [
    "#строим сводную таблицу\n",
    "family_pivot = df.pivot_table(index='family_status_id', values='debt').reset_index()\n",
    "family_pivot"
   ]
  },
  {
   "cell_type": "code",
   "execution_count": 71,
   "metadata": {},
   "outputs": [],
   "source": [
    "#удаляем дубликаты из словаря\n",
    "family_status_dict = family_status_dict.drop_duplicates().reset_index(drop=True)"
   ]
  },
  {
   "cell_type": "code",
   "execution_count": 73,
   "metadata": {},
   "outputs": [
    {
     "data": {
      "text/html": [
       "<div>\n",
       "<style scoped>\n",
       "    .dataframe tbody tr th:only-of-type {\n",
       "        vertical-align: middle;\n",
       "    }\n",
       "\n",
       "    .dataframe tbody tr th {\n",
       "        vertical-align: top;\n",
       "    }\n",
       "\n",
       "    .dataframe thead th {\n",
       "        text-align: right;\n",
       "    }\n",
       "</style>\n",
       "<table border=\"1\" class=\"dataframe\">\n",
       "  <thead>\n",
       "    <tr style=\"text-align: right;\">\n",
       "      <th></th>\n",
       "      <th>family_status_id</th>\n",
       "      <th>debt</th>\n",
       "      <th>family_status</th>\n",
       "    </tr>\n",
       "  </thead>\n",
       "  <tbody>\n",
       "    <tr>\n",
       "      <th>2</th>\n",
       "      <td>2</td>\n",
       "      <td>0.064990</td>\n",
       "      <td>вдовец / вдова</td>\n",
       "    </tr>\n",
       "    <tr>\n",
       "      <th>3</th>\n",
       "      <td>3</td>\n",
       "      <td>0.071730</td>\n",
       "      <td>в разводе</td>\n",
       "    </tr>\n",
       "    <tr>\n",
       "      <th>0</th>\n",
       "      <td>0</td>\n",
       "      <td>0.075397</td>\n",
       "      <td>женат / замужем</td>\n",
       "    </tr>\n",
       "    <tr>\n",
       "      <th>1</th>\n",
       "      <td>1</td>\n",
       "      <td>0.093214</td>\n",
       "      <td>гражданский брак</td>\n",
       "    </tr>\n",
       "    <tr>\n",
       "      <th>4</th>\n",
       "      <td>4</td>\n",
       "      <td>0.097709</td>\n",
       "      <td>Не женат / не замужем</td>\n",
       "    </tr>\n",
       "  </tbody>\n",
       "</table>\n",
       "</div>"
      ],
      "text/plain": [
       "   family_status_id      debt          family_status\n",
       "2                 2  0.064990         вдовец / вдова\n",
       "3                 3  0.071730              в разводе\n",
       "0                 0  0.075397        женат / замужем\n",
       "1                 1  0.093214       гражданский брак\n",
       "4                 4  0.097709  Не женат / не замужем"
      ]
     },
     "execution_count": 73,
     "metadata": {},
     "output_type": "execute_result"
    }
   ],
   "source": [
    "#соединяем)\n",
    "family_pivot.merge(family_status_dict, on='family_status_id').sort_values(by='debt', ascending=True)"
   ]
  },
  {
   "cell_type": "markdown",
   "metadata": {
    "id": "JolODAqr_Zcu"
   },
   "source": [
    "### Влияние уровня дохода на возврат кредита"
   ]
  },
  {
   "cell_type": "markdown",
   "metadata": {
    "id": "eXrQqXFH_Zcu"
   },
   "source": [
    "Теперь выясним, влияет ли на вероятность возникновения просрочки по кредиту уровень дохода клиента."
   ]
  },
  {
   "cell_type": "markdown",
   "metadata": {
    "id": "nwt_MuaL_Zcu"
   },
   "source": [
    "Чтобы ответить на этот вопрос, проделаем действия, аналогичные предыдущему параграфу.\n",
    "\n",
    "Для этого:\n",
    "\n",
    "* Создадим сводную таблицу `pivot_income`, в которой сгруппируем данные о просрочке кредита для клиентов с разным уровнем дохода.\n",
    "* Сравним, каков процент выхода на просрочку кредита в каждой группе.\n"
   ]
  },
  {
   "cell_type": "markdown",
   "metadata": {
    "id": "8Dw_YMmT_Zcu"
   },
   "source": [
    "Посчитаем общее количество клиентов в каждой группе и количество клиентов, допустивших просрочку кредита."
   ]
  },
  {
   "cell_type": "code",
   "execution_count": 61,
   "metadata": {},
   "outputs": [
    {
     "data": {
      "text/html": [
       "<div>\n",
       "<style scoped>\n",
       "    .dataframe tbody tr th:only-of-type {\n",
       "        vertical-align: middle;\n",
       "    }\n",
       "\n",
       "    .dataframe tbody tr th {\n",
       "        vertical-align: top;\n",
       "    }\n",
       "\n",
       "    .dataframe thead tr th {\n",
       "        text-align: left;\n",
       "    }\n",
       "\n",
       "    .dataframe thead tr:last-of-type th {\n",
       "        text-align: right;\n",
       "    }\n",
       "</style>\n",
       "<table border=\"1\" class=\"dataframe\">\n",
       "  <thead>\n",
       "    <tr>\n",
       "      <th></th>\n",
       "      <th>sum</th>\n",
       "      <th>count</th>\n",
       "    </tr>\n",
       "    <tr>\n",
       "      <th></th>\n",
       "      <th>debt</th>\n",
       "      <th>debt</th>\n",
       "    </tr>\n",
       "    <tr>\n",
       "      <th>total_income_category</th>\n",
       "      <th></th>\n",
       "      <th></th>\n",
       "    </tr>\n",
       "  </thead>\n",
       "  <tbody>\n",
       "    <tr>\n",
       "      <th>A</th>\n",
       "      <td>2</td>\n",
       "      <td>25</td>\n",
       "    </tr>\n",
       "    <tr>\n",
       "      <th>B</th>\n",
       "      <td>355</td>\n",
       "      <td>5014</td>\n",
       "    </tr>\n",
       "    <tr>\n",
       "      <th>C</th>\n",
       "      <td>1353</td>\n",
       "      <td>15960</td>\n",
       "    </tr>\n",
       "    <tr>\n",
       "      <th>D</th>\n",
       "      <td>21</td>\n",
       "      <td>348</td>\n",
       "    </tr>\n",
       "    <tr>\n",
       "      <th>E</th>\n",
       "      <td>2</td>\n",
       "      <td>22</td>\n",
       "    </tr>\n",
       "  </tbody>\n",
       "</table>\n",
       "</div>"
      ],
      "text/plain": [
       "                        sum  count\n",
       "                       debt   debt\n",
       "total_income_category             \n",
       "A                         2     25\n",
       "B                       355   5014\n",
       "C                      1353  15960\n",
       "D                        21    348\n",
       "E                         2     22"
      ]
     },
     "execution_count": 61,
     "metadata": {},
     "output_type": "execute_result"
    }
   ],
   "source": [
    "# создание сводной таблицы 'pivot_income', в которой группируем данные по столбцу 'total_income_category'\n",
    "# и подсчитываем для этих групп количество клиентов 'count' и количество просрочек 'sum'\n",
    "pivot_income = df.pivot_table(index=['total_income_category'], values=['debt'], aggfunc=['sum', 'count'])\n",
    "pivot_income"
   ]
  },
  {
   "cell_type": "markdown",
   "metadata": {
    "id": "8Dw_YMmT_Zcu"
   },
   "source": [
    "Посчитаем процент просрочки кредита в каждой группе."
   ]
  },
  {
   "cell_type": "code",
   "execution_count": 62,
   "metadata": {},
   "outputs": [
    {
     "data": {
      "text/html": [
       "<div>\n",
       "<style scoped>\n",
       "    .dataframe tbody tr th:only-of-type {\n",
       "        vertical-align: middle;\n",
       "    }\n",
       "\n",
       "    .dataframe tbody tr th {\n",
       "        vertical-align: top;\n",
       "    }\n",
       "\n",
       "    .dataframe thead tr th {\n",
       "        text-align: left;\n",
       "    }\n",
       "\n",
       "    .dataframe thead tr:last-of-type th {\n",
       "        text-align: right;\n",
       "    }\n",
       "</style>\n",
       "<table border=\"1\" class=\"dataframe\">\n",
       "  <thead>\n",
       "    <tr>\n",
       "      <th></th>\n",
       "      <th>sum</th>\n",
       "      <th>count</th>\n",
       "      <th>default</th>\n",
       "    </tr>\n",
       "    <tr>\n",
       "      <th></th>\n",
       "      <th>debt</th>\n",
       "      <th>debt</th>\n",
       "      <th></th>\n",
       "    </tr>\n",
       "    <tr>\n",
       "      <th>total_income_category</th>\n",
       "      <th></th>\n",
       "      <th></th>\n",
       "      <th></th>\n",
       "    </tr>\n",
       "  </thead>\n",
       "  <tbody>\n",
       "    <tr>\n",
       "      <th>A</th>\n",
       "      <td>2</td>\n",
       "      <td>25</td>\n",
       "      <td>8.000000</td>\n",
       "    </tr>\n",
       "    <tr>\n",
       "      <th>B</th>\n",
       "      <td>355</td>\n",
       "      <td>5014</td>\n",
       "      <td>7.080176</td>\n",
       "    </tr>\n",
       "    <tr>\n",
       "      <th>C</th>\n",
       "      <td>1353</td>\n",
       "      <td>15960</td>\n",
       "      <td>8.477444</td>\n",
       "    </tr>\n",
       "    <tr>\n",
       "      <th>D</th>\n",
       "      <td>21</td>\n",
       "      <td>348</td>\n",
       "      <td>6.034483</td>\n",
       "    </tr>\n",
       "    <tr>\n",
       "      <th>E</th>\n",
       "      <td>2</td>\n",
       "      <td>22</td>\n",
       "      <td>9.090909</td>\n",
       "    </tr>\n",
       "  </tbody>\n",
       "</table>\n",
       "</div>"
      ],
      "text/plain": [
       "                        sum  count   default\n",
       "                       debt   debt          \n",
       "total_income_category                       \n",
       "A                         2     25  8.000000\n",
       "B                       355   5014  7.080176\n",
       "C                      1353  15960  8.477444\n",
       "D                        21    348  6.034483\n",
       "E                         2     22  9.090909"
      ]
     },
     "execution_count": 62,
     "metadata": {},
     "output_type": "execute_result"
    }
   ],
   "source": [
    "# добавление в сводную таблицу 'pivot_income' столбца с процентом просрочки\n",
    "pivot_income['default'] = 100 * (pivot_income['sum'] / pivot_income['count'])\n",
    "pivot_income"
   ]
  },
  {
   "cell_type": "markdown",
   "metadata": {
    "id": "-EgPIHYu_Zcu"
   },
   "source": [
    "**Выводы**\n",
    "\n",
    "Данные показывают неоднозначную связь между уровнем дохода и выходом на просрочку кредита:\n",
    "\n",
    "- Пик просрочки приходится на клиентов, имеющих минимальный доход (менее 30000) — 9,1%. Однако их число невелико для достоверных выводов.\n",
    "- Клиенты со средним доходом (категория \"С\") также имеют вероятность просрочки выше среднего (8,48%).\n",
    "- Минимальная вероятность просрочки у клиентов категории \"D\" (6%).\n",
    "\n",
    "**Таким образом, уровень дохода скорее не влияет на вероятность просрочки по кредиту.**\n",
    "\n",
    "Всё логично только для категории с самым маленьким доходом: человек, едва сводящий концы с концами и не имеющий сбережений, более подвержен выходу на просрочку."
   ]
  },
  {
   "cell_type": "markdown",
   "metadata": {
    "id": "atZAxtq4_Zcu"
   },
   "source": [
    "### Влияние цели кредита на его возврат в срок"
   ]
  },
  {
   "cell_type": "markdown",
   "metadata": {
    "id": "eXrQqXFH_Zcu"
   },
   "source": [
    "Наконец, оценим влияние цели кредита на вероятность возникновения просрочки по нему."
   ]
  },
  {
   "cell_type": "markdown",
   "metadata": {
    "id": "nwt_MuaL_Zcu"
   },
   "source": [
    "Создадим сводную таблицу `pivot_purpose`, в которой сгруппируем данные о просрочке кредита для клиентов с разными целями кредитования.\n",
    "Сравним, каков процент выхода на просрочку кредита в каждой группе.\n"
   ]
  },
  {
   "cell_type": "markdown",
   "metadata": {
    "id": "8Dw_YMmT_Zcu"
   },
   "source": [
    "Посчитаем общее количество клиентов в каждой группе и количество клиентов, допустивших просрочку кредита."
   ]
  },
  {
   "cell_type": "code",
   "execution_count": 63,
   "metadata": {},
   "outputs": [
    {
     "data": {
      "text/html": [
       "<div>\n",
       "<style scoped>\n",
       "    .dataframe tbody tr th:only-of-type {\n",
       "        vertical-align: middle;\n",
       "    }\n",
       "\n",
       "    .dataframe tbody tr th {\n",
       "        vertical-align: top;\n",
       "    }\n",
       "\n",
       "    .dataframe thead tr th {\n",
       "        text-align: left;\n",
       "    }\n",
       "\n",
       "    .dataframe thead tr:last-of-type th {\n",
       "        text-align: right;\n",
       "    }\n",
       "</style>\n",
       "<table border=\"1\" class=\"dataframe\">\n",
       "  <thead>\n",
       "    <tr>\n",
       "      <th></th>\n",
       "      <th>sum</th>\n",
       "      <th>count</th>\n",
       "    </tr>\n",
       "    <tr>\n",
       "      <th></th>\n",
       "      <th>debt</th>\n",
       "      <th>debt</th>\n",
       "    </tr>\n",
       "    <tr>\n",
       "      <th>purpose_category</th>\n",
       "      <th></th>\n",
       "      <th></th>\n",
       "    </tr>\n",
       "  </thead>\n",
       "  <tbody>\n",
       "    <tr>\n",
       "      <th>операции с автомобилем</th>\n",
       "      <td>400</td>\n",
       "      <td>4286</td>\n",
       "    </tr>\n",
       "    <tr>\n",
       "      <th>операции с недвижимостью</th>\n",
       "      <td>779</td>\n",
       "      <td>10766</td>\n",
       "    </tr>\n",
       "    <tr>\n",
       "      <th>получение образования</th>\n",
       "      <td>370</td>\n",
       "      <td>3996</td>\n",
       "    </tr>\n",
       "    <tr>\n",
       "      <th>проведение свадьбы</th>\n",
       "      <td>184</td>\n",
       "      <td>2321</td>\n",
       "    </tr>\n",
       "  </tbody>\n",
       "</table>\n",
       "</div>"
      ],
      "text/plain": [
       "                          sum  count\n",
       "                         debt   debt\n",
       "purpose_category                    \n",
       "операции с автомобилем    400   4286\n",
       "операции с недвижимостью  779  10766\n",
       "получение образования     370   3996\n",
       "проведение свадьбы        184   2321"
      ]
     },
     "execution_count": 63,
     "metadata": {},
     "output_type": "execute_result"
    }
   ],
   "source": [
    "# создание сводной таблицы 'pivot_purpose', в которой группируем данные по столбцу 'purpose_category'\n",
    "# и подсчитываем для этих групп количество клиентов 'count' и количество просрочек 'sum'\n",
    "pivot_purpose = df.pivot_table(index=['purpose_category'], values=['debt'], aggfunc=['sum', 'count'])\n",
    "pivot_purpose"
   ]
  },
  {
   "cell_type": "markdown",
   "metadata": {
    "id": "8Dw_YMmT_Zcu"
   },
   "source": [
    "Посчитаем процент просрочки кредита в каждой группе."
   ]
  },
  {
   "cell_type": "code",
   "execution_count": 64,
   "metadata": {},
   "outputs": [
    {
     "data": {
      "text/html": [
       "<div>\n",
       "<style scoped>\n",
       "    .dataframe tbody tr th:only-of-type {\n",
       "        vertical-align: middle;\n",
       "    }\n",
       "\n",
       "    .dataframe tbody tr th {\n",
       "        vertical-align: top;\n",
       "    }\n",
       "\n",
       "    .dataframe thead tr th {\n",
       "        text-align: left;\n",
       "    }\n",
       "\n",
       "    .dataframe thead tr:last-of-type th {\n",
       "        text-align: right;\n",
       "    }\n",
       "</style>\n",
       "<table border=\"1\" class=\"dataframe\">\n",
       "  <thead>\n",
       "    <tr>\n",
       "      <th></th>\n",
       "      <th>sum</th>\n",
       "      <th>count</th>\n",
       "      <th>default</th>\n",
       "    </tr>\n",
       "    <tr>\n",
       "      <th></th>\n",
       "      <th>debt</th>\n",
       "      <th>debt</th>\n",
       "      <th></th>\n",
       "    </tr>\n",
       "    <tr>\n",
       "      <th>purpose_category</th>\n",
       "      <th></th>\n",
       "      <th></th>\n",
       "      <th></th>\n",
       "    </tr>\n",
       "  </thead>\n",
       "  <tbody>\n",
       "    <tr>\n",
       "      <th>операции с автомобилем</th>\n",
       "      <td>400</td>\n",
       "      <td>4286</td>\n",
       "      <td>9.332711</td>\n",
       "    </tr>\n",
       "    <tr>\n",
       "      <th>операции с недвижимостью</th>\n",
       "      <td>779</td>\n",
       "      <td>10766</td>\n",
       "      <td>7.235742</td>\n",
       "    </tr>\n",
       "    <tr>\n",
       "      <th>получение образования</th>\n",
       "      <td>370</td>\n",
       "      <td>3996</td>\n",
       "      <td>9.259259</td>\n",
       "    </tr>\n",
       "    <tr>\n",
       "      <th>проведение свадьбы</th>\n",
       "      <td>184</td>\n",
       "      <td>2321</td>\n",
       "      <td>7.927617</td>\n",
       "    </tr>\n",
       "  </tbody>\n",
       "</table>\n",
       "</div>"
      ],
      "text/plain": [
       "                          sum  count   default\n",
       "                         debt   debt          \n",
       "purpose_category                              \n",
       "операции с автомобилем    400   4286  9.332711\n",
       "операции с недвижимостью  779  10766  7.235742\n",
       "получение образования     370   3996  9.259259\n",
       "проведение свадьбы        184   2321  7.927617"
      ]
     },
     "execution_count": 64,
     "metadata": {},
     "output_type": "execute_result"
    }
   ],
   "source": [
    "# добавление в сводную таблицу 'pivot_purpose' столбца с процентом просрочки\n",
    "pivot_purpose['default'] = 100 * (pivot_purpose['sum'] / pivot_purpose['count'])\n",
    "pivot_purpose"
   ]
  },
  {
   "cell_type": "markdown",
   "metadata": {
    "id": "-EgPIHYu_Zcu"
   },
   "source": [
    "**Выводы**\n",
    "\n",
    "Данные показывают статистически выраженную связь между целью кредита и вероятностью выхода на просрочку:\n",
    "\n",
    "- Пик просрочки приходится на клиентов, берущих кредит на операции с автомобилем и на получение образования (9,3%).\n",
    "- Кредиты на проведение свадьбы имеют вероятность просрочки, близкую к средней (7,9%).\n",
    "- Минимальная вероятность просрочки у кредитов, взятых на операции с недвижимостью (7,2%).\n",
    "\n",
    "**Таким образом, цель кредита влияет на вероятность просрочки по кредиту.**\n",
    "\n",
    "Всё логично: человек, берущий кредит на операции с недвижимостью, приложит максимум усилий для выполнения своих обязательств перед банком, чтобы не остаться без жилья (которое в залоге). О влиянии свадьбы на вероятность просрочки по кредиту мы выяснили выше."
   ]
  },
  {
   "cell_type": "markdown",
   "metadata": {
    "id": "ykKQ0N65_Zcv"
   },
   "source": [
    "## Итоги исследования"
   ]
  },
  {
   "cell_type": "markdown",
   "metadata": {
    "id": "tjUwbHb3_Zcv"
   },
   "source": [
    "Мы проверили четыре фактора и установили:\n",
    "\n",
    "1. Само по себе количество детей не влияет на вероятность просрочки по кредиту. Вероятность повышается при наличии хотя бы одного ребёнка: клиенты без детей имеют меньше просрочек.\n",
    "\n",
    "\n",
    "2. Семейное положение влияет на вероятность просрочки. Человек, хотя бы раз взявший на себя семейные обязательства, более ответственно подходит и к взятию на себя других обязательств, и к их выполнению.\n",
    "\n",
    "\n",
    "3. Уровень дохода скорее не влияет на вероятность просрочки по кредиту. Исключение - клиенты с доходом до 30000.\n",
    "\n",
    "\n",
    "4. Цель кредита влияет на вероятность просрочки: у кредитов, взятых на операции с недвижимостью, вероятность просрочки ниже, у кредитов на проведение свадьбы - на среднем уровне, у образовательных и автокредитов - вероятность просрочки выше среднего.\n"
   ]
  }
 ],
 "metadata": {
  "ExecuteTimeLog": [
   {
    "duration": 455,
    "start_time": "2022-05-05T05:53:59.047Z"
   },
   {
    "duration": 138,
    "start_time": "2022-05-05T05:53:59.504Z"
   },
   {
    "duration": 0,
    "start_time": "2022-05-05T05:53:59.645Z"
   },
   {
    "duration": 0,
    "start_time": "2022-05-05T05:53:59.646Z"
   },
   {
    "duration": 0,
    "start_time": "2022-05-05T05:53:59.647Z"
   },
   {
    "duration": 0,
    "start_time": "2022-05-05T05:53:59.648Z"
   },
   {
    "duration": 0,
    "start_time": "2022-05-05T05:53:59.649Z"
   },
   {
    "duration": 0,
    "start_time": "2022-05-05T05:53:59.650Z"
   },
   {
    "duration": 0,
    "start_time": "2022-05-05T05:53:59.651Z"
   },
   {
    "duration": 0,
    "start_time": "2022-05-05T05:53:59.652Z"
   },
   {
    "duration": 0,
    "start_time": "2022-05-05T05:53:59.653Z"
   },
   {
    "duration": 0,
    "start_time": "2022-05-05T05:53:59.653Z"
   },
   {
    "duration": 0,
    "start_time": "2022-05-05T05:53:59.654Z"
   },
   {
    "duration": 0,
    "start_time": "2022-05-05T05:53:59.655Z"
   },
   {
    "duration": 0,
    "start_time": "2022-05-05T05:53:59.656Z"
   },
   {
    "duration": 0,
    "start_time": "2022-05-05T05:53:59.657Z"
   },
   {
    "duration": 0,
    "start_time": "2022-05-05T05:53:59.658Z"
   },
   {
    "duration": 0,
    "start_time": "2022-05-05T05:53:59.659Z"
   },
   {
    "duration": 0,
    "start_time": "2022-05-05T05:53:59.660Z"
   },
   {
    "duration": 0,
    "start_time": "2022-05-05T05:53:59.661Z"
   },
   {
    "duration": 0,
    "start_time": "2022-05-05T05:53:59.661Z"
   },
   {
    "duration": 0,
    "start_time": "2022-05-05T05:53:59.662Z"
   },
   {
    "duration": 0,
    "start_time": "2022-05-05T05:53:59.663Z"
   },
   {
    "duration": 0,
    "start_time": "2022-05-05T05:53:59.664Z"
   },
   {
    "duration": 0,
    "start_time": "2022-05-05T05:53:59.693Z"
   },
   {
    "duration": 0,
    "start_time": "2022-05-05T05:53:59.694Z"
   },
   {
    "duration": 0,
    "start_time": "2022-05-05T05:53:59.695Z"
   },
   {
    "duration": 0,
    "start_time": "2022-05-05T05:53:59.696Z"
   },
   {
    "duration": 0,
    "start_time": "2022-05-05T05:53:59.697Z"
   },
   {
    "duration": 0,
    "start_time": "2022-05-05T05:53:59.698Z"
   },
   {
    "duration": 0,
    "start_time": "2022-05-05T05:53:59.699Z"
   },
   {
    "duration": 0,
    "start_time": "2022-05-05T05:53:59.700Z"
   },
   {
    "duration": 0,
    "start_time": "2022-05-05T05:53:59.701Z"
   },
   {
    "duration": 0,
    "start_time": "2022-05-05T05:53:59.703Z"
   },
   {
    "duration": 0,
    "start_time": "2022-05-05T05:53:59.704Z"
   },
   {
    "duration": 0,
    "start_time": "2022-05-05T05:53:59.704Z"
   },
   {
    "duration": 0,
    "start_time": "2022-05-05T05:53:59.706Z"
   },
   {
    "duration": 0,
    "start_time": "2022-05-05T05:53:59.706Z"
   },
   {
    "duration": 0,
    "start_time": "2022-05-05T05:53:59.707Z"
   },
   {
    "duration": 0,
    "start_time": "2022-05-05T05:53:59.709Z"
   },
   {
    "duration": 0,
    "start_time": "2022-05-05T05:53:59.710Z"
   },
   {
    "duration": 0,
    "start_time": "2022-05-05T05:53:59.711Z"
   },
   {
    "duration": 0,
    "start_time": "2022-05-05T05:53:59.712Z"
   },
   {
    "duration": 0,
    "start_time": "2022-05-05T05:53:59.713Z"
   },
   {
    "duration": 0,
    "start_time": "2022-05-05T05:53:59.714Z"
   },
   {
    "duration": 0,
    "start_time": "2022-05-05T05:53:59.715Z"
   },
   {
    "duration": 0,
    "start_time": "2022-05-05T05:53:59.716Z"
   },
   {
    "duration": 0,
    "start_time": "2022-05-05T05:53:59.717Z"
   },
   {
    "duration": 0,
    "start_time": "2022-05-05T05:53:59.718Z"
   },
   {
    "duration": 0,
    "start_time": "2022-05-05T05:53:59.719Z"
   },
   {
    "duration": 0,
    "start_time": "2022-05-05T05:53:59.720Z"
   },
   {
    "duration": 0,
    "start_time": "2022-05-05T05:53:59.721Z"
   },
   {
    "duration": 0,
    "start_time": "2022-05-05T05:53:59.722Z"
   },
   {
    "duration": 0,
    "start_time": "2022-05-05T05:53:59.723Z"
   },
   {
    "duration": 0,
    "start_time": "2022-05-05T05:53:59.724Z"
   },
   {
    "duration": 0,
    "start_time": "2022-05-05T05:53:59.725Z"
   },
   {
    "duration": 0,
    "start_time": "2022-05-05T05:53:59.726Z"
   },
   {
    "duration": 0,
    "start_time": "2022-05-05T05:53:59.727Z"
   },
   {
    "duration": 0,
    "start_time": "2022-05-05T05:53:59.730Z"
   },
   {
    "duration": 0,
    "start_time": "2022-05-05T05:53:59.797Z"
   },
   {
    "duration": 0,
    "start_time": "2022-05-05T05:53:59.798Z"
   },
   {
    "duration": 0,
    "start_time": "2022-05-05T05:53:59.799Z"
   },
   {
    "duration": 0,
    "start_time": "2022-05-05T05:53:59.801Z"
   },
   {
    "duration": 0,
    "start_time": "2022-05-05T05:53:59.802Z"
   },
   {
    "duration": 83,
    "start_time": "2022-05-05T19:51:53.985Z"
   },
   {
    "duration": 531,
    "start_time": "2022-05-05T19:52:03.489Z"
   },
   {
    "duration": 79,
    "start_time": "2022-05-05T19:52:04.786Z"
   },
   {
    "duration": 495,
    "start_time": "2022-05-05T19:53:17.528Z"
   },
   {
    "duration": 86,
    "start_time": "2022-05-05T19:53:18.026Z"
   },
   {
    "duration": 26,
    "start_time": "2022-05-05T19:53:18.114Z"
   },
   {
    "duration": 24,
    "start_time": "2022-05-05T19:53:18.143Z"
   },
   {
    "duration": 67,
    "start_time": "2022-05-05T19:53:18.169Z"
   },
   {
    "duration": 5,
    "start_time": "2022-05-05T19:53:18.239Z"
   },
   {
    "duration": 13,
    "start_time": "2022-05-05T19:53:18.247Z"
   },
   {
    "duration": 11,
    "start_time": "2022-05-05T19:53:18.262Z"
   },
   {
    "duration": 24,
    "start_time": "2022-05-05T19:53:18.274Z"
   },
   {
    "duration": 27,
    "start_time": "2022-05-05T19:53:18.301Z"
   },
   {
    "duration": 18,
    "start_time": "2022-05-05T19:53:18.330Z"
   },
   {
    "duration": 52,
    "start_time": "2022-05-05T19:53:18.350Z"
   },
   {
    "duration": 11,
    "start_time": "2022-05-05T19:53:18.406Z"
   },
   {
    "duration": 39,
    "start_time": "2022-05-05T19:53:18.419Z"
   },
   {
    "duration": 9,
    "start_time": "2022-05-05T19:53:18.461Z"
   },
   {
    "duration": 19,
    "start_time": "2022-05-05T19:53:18.472Z"
   },
   {
    "duration": 57,
    "start_time": "2022-05-05T19:53:18.497Z"
   },
   {
    "duration": 7,
    "start_time": "2022-05-05T19:53:18.556Z"
   },
   {
    "duration": 64,
    "start_time": "2022-05-05T19:53:18.565Z"
   },
   {
    "duration": 34,
    "start_time": "2022-05-05T19:53:18.632Z"
   },
   {
    "duration": 16,
    "start_time": "2022-05-05T19:53:18.668Z"
   },
   {
    "duration": 28,
    "start_time": "2022-05-05T19:53:18.687Z"
   },
   {
    "duration": 32,
    "start_time": "2022-05-05T19:53:18.717Z"
   },
   {
    "duration": 17,
    "start_time": "2022-05-05T19:53:18.751Z"
   },
   {
    "duration": 13,
    "start_time": "2022-05-05T19:53:18.770Z"
   },
   {
    "duration": 25,
    "start_time": "2022-05-05T19:53:18.784Z"
   },
   {
    "duration": 33,
    "start_time": "2022-05-05T19:53:18.811Z"
   },
   {
    "duration": 16,
    "start_time": "2022-05-05T19:53:18.848Z"
   },
   {
    "duration": 13,
    "start_time": "2022-05-05T19:53:18.866Z"
   },
   {
    "duration": 26,
    "start_time": "2022-05-05T19:53:18.880Z"
   },
   {
    "duration": 60,
    "start_time": "2022-05-05T19:53:18.907Z"
   },
   {
    "duration": 6,
    "start_time": "2022-05-05T19:53:18.969Z"
   },
   {
    "duration": 29,
    "start_time": "2022-05-05T19:53:18.977Z"
   },
   {
    "duration": 60,
    "start_time": "2022-05-05T19:53:19.008Z"
   },
   {
    "duration": 29,
    "start_time": "2022-05-05T19:53:19.070Z"
   },
   {
    "duration": 49,
    "start_time": "2022-05-05T19:53:19.101Z"
   },
   {
    "duration": 3,
    "start_time": "2022-05-05T19:53:19.152Z"
   },
   {
    "duration": 59,
    "start_time": "2022-05-05T19:53:19.157Z"
   },
   {
    "duration": 33,
    "start_time": "2022-05-05T19:53:19.219Z"
   },
   {
    "duration": 13,
    "start_time": "2022-05-05T19:53:19.255Z"
   },
   {
    "duration": 16,
    "start_time": "2022-05-05T19:53:19.270Z"
   },
   {
    "duration": 46,
    "start_time": "2022-05-05T19:53:19.287Z"
   },
   {
    "duration": 24,
    "start_time": "2022-05-05T19:53:19.334Z"
   },
   {
    "duration": 15,
    "start_time": "2022-05-05T19:53:19.360Z"
   },
   {
    "duration": 45,
    "start_time": "2022-05-05T19:53:19.377Z"
   },
   {
    "duration": 31,
    "start_time": "2022-05-05T19:53:19.425Z"
   },
   {
    "duration": 4,
    "start_time": "2022-05-05T19:53:19.458Z"
   },
   {
    "duration": 22,
    "start_time": "2022-05-05T19:53:19.464Z"
   },
   {
    "duration": 56,
    "start_time": "2022-05-05T19:53:19.488Z"
   },
   {
    "duration": 16,
    "start_time": "2022-05-05T19:53:19.546Z"
   },
   {
    "duration": 252,
    "start_time": "2022-05-05T19:53:19.565Z"
   },
   {
    "duration": 12,
    "start_time": "2022-05-05T19:53:19.819Z"
   },
   {
    "duration": 20,
    "start_time": "2022-05-05T19:53:19.833Z"
   },
   {
    "duration": 241,
    "start_time": "2022-05-05T19:53:19.855Z"
   },
   {
    "duration": 26,
    "start_time": "2022-05-05T19:53:20.102Z"
   },
   {
    "duration": 50,
    "start_time": "2022-05-05T19:53:20.132Z"
   },
   {
    "duration": 26,
    "start_time": "2022-05-05T19:53:20.184Z"
   },
   {
    "duration": 35,
    "start_time": "2022-05-05T19:53:20.211Z"
   },
   {
    "duration": 32,
    "start_time": "2022-05-05T19:53:20.248Z"
   },
   {
    "duration": 27,
    "start_time": "2022-05-05T19:53:20.282Z"
   },
   {
    "duration": 37,
    "start_time": "2022-05-05T19:53:20.312Z"
   },
   {
    "duration": 12,
    "start_time": "2022-05-05T19:53:20.351Z"
   },
   {
    "duration": 61,
    "start_time": "2022-05-05T19:53:20.365Z"
   },
   {
    "duration": 21,
    "start_time": "2022-05-05T19:53:20.428Z"
   },
   {
    "duration": 443,
    "start_time": "2022-05-06T18:32:19.176Z"
   },
   {
    "duration": 62,
    "start_time": "2022-05-06T18:32:19.621Z"
   },
   {
    "duration": 25,
    "start_time": "2022-05-06T18:32:19.685Z"
   },
   {
    "duration": 16,
    "start_time": "2022-05-06T18:32:19.712Z"
   },
   {
    "duration": 32,
    "start_time": "2022-05-06T18:32:19.730Z"
   },
   {
    "duration": 28,
    "start_time": "2022-05-06T18:32:19.764Z"
   },
   {
    "duration": 8,
    "start_time": "2022-05-06T18:32:19.794Z"
   },
   {
    "duration": 15,
    "start_time": "2022-05-06T18:32:19.804Z"
   },
   {
    "duration": 8,
    "start_time": "2022-05-06T18:32:19.821Z"
   },
   {
    "duration": 12,
    "start_time": "2022-05-06T18:32:19.831Z"
   },
   {
    "duration": 6,
    "start_time": "2022-05-06T18:32:19.845Z"
   },
   {
    "duration": 48,
    "start_time": "2022-05-06T18:32:19.852Z"
   },
   {
    "duration": 7,
    "start_time": "2022-05-06T18:32:19.902Z"
   },
   {
    "duration": 14,
    "start_time": "2022-05-06T18:32:19.915Z"
   },
   {
    "duration": 9,
    "start_time": "2022-05-06T18:32:19.931Z"
   },
   {
    "duration": 11,
    "start_time": "2022-05-06T18:32:19.942Z"
   },
   {
    "duration": 59,
    "start_time": "2022-05-06T18:32:19.954Z"
   },
   {
    "duration": 5,
    "start_time": "2022-05-06T18:32:20.015Z"
   },
   {
    "duration": 35,
    "start_time": "2022-05-06T18:32:20.022Z"
   },
   {
    "duration": 20,
    "start_time": "2022-05-06T18:32:20.059Z"
   },
   {
    "duration": 5,
    "start_time": "2022-05-06T18:32:20.080Z"
   },
   {
    "duration": 27,
    "start_time": "2022-05-06T18:32:20.091Z"
   },
   {
    "duration": 9,
    "start_time": "2022-05-06T18:32:20.120Z"
   },
   {
    "duration": 13,
    "start_time": "2022-05-06T18:32:20.131Z"
   },
   {
    "duration": 13,
    "start_time": "2022-05-06T18:32:20.145Z"
   },
   {
    "duration": 12,
    "start_time": "2022-05-06T18:32:20.160Z"
   },
   {
    "duration": 28,
    "start_time": "2022-05-06T18:32:20.174Z"
   },
   {
    "duration": 13,
    "start_time": "2022-05-06T18:32:20.204Z"
   },
   {
    "duration": 7,
    "start_time": "2022-05-06T18:32:20.219Z"
   },
   {
    "duration": 13,
    "start_time": "2022-05-06T18:32:20.228Z"
   },
   {
    "duration": 19,
    "start_time": "2022-05-06T18:32:20.243Z"
   },
   {
    "duration": 5,
    "start_time": "2022-05-06T18:32:20.263Z"
   },
   {
    "duration": 28,
    "start_time": "2022-05-06T18:32:20.269Z"
   },
   {
    "duration": 20,
    "start_time": "2022-05-06T18:32:20.299Z"
   },
   {
    "duration": 18,
    "start_time": "2022-05-06T18:32:20.321Z"
   },
   {
    "duration": 18,
    "start_time": "2022-05-06T18:32:20.340Z"
   },
   {
    "duration": 3,
    "start_time": "2022-05-06T18:32:20.360Z"
   },
   {
    "duration": 60,
    "start_time": "2022-05-06T18:32:20.364Z"
   },
   {
    "duration": 10,
    "start_time": "2022-05-06T18:32:20.426Z"
   },
   {
    "duration": 9,
    "start_time": "2022-05-06T18:32:20.437Z"
   },
   {
    "duration": 5,
    "start_time": "2022-05-06T18:32:20.450Z"
   },
   {
    "duration": 9,
    "start_time": "2022-05-06T18:32:20.457Z"
   },
   {
    "duration": 44,
    "start_time": "2022-05-06T18:32:20.467Z"
   },
   {
    "duration": 4,
    "start_time": "2022-05-06T18:32:20.513Z"
   },
   {
    "duration": 15,
    "start_time": "2022-05-06T18:32:20.518Z"
   },
   {
    "duration": 11,
    "start_time": "2022-05-06T18:32:20.535Z"
   },
   {
    "duration": 7,
    "start_time": "2022-05-06T18:32:20.547Z"
   },
   {
    "duration": 14,
    "start_time": "2022-05-06T18:32:20.556Z"
   },
   {
    "duration": 13,
    "start_time": "2022-05-06T18:32:20.572Z"
   },
   {
    "duration": 11,
    "start_time": "2022-05-06T18:32:20.597Z"
   },
   {
    "duration": 142,
    "start_time": "2022-05-06T18:32:20.610Z"
   },
   {
    "duration": 11,
    "start_time": "2022-05-06T18:32:20.754Z"
   },
   {
    "duration": 8,
    "start_time": "2022-05-06T18:32:20.767Z"
   },
   {
    "duration": 157,
    "start_time": "2022-05-06T18:32:20.777Z"
   },
   {
    "duration": 12,
    "start_time": "2022-05-06T18:32:20.935Z"
   },
   {
    "duration": 35,
    "start_time": "2022-05-06T18:32:20.948Z"
   },
   {
    "duration": 29,
    "start_time": "2022-05-06T18:32:20.984Z"
   },
   {
    "duration": 10,
    "start_time": "2022-05-06T18:32:21.015Z"
   },
   {
    "duration": 17,
    "start_time": "2022-05-06T18:32:21.027Z"
   },
   {
    "duration": 11,
    "start_time": "2022-05-06T18:32:21.045Z"
   },
   {
    "duration": 59,
    "start_time": "2022-05-06T18:32:21.057Z"
   },
   {
    "duration": 10,
    "start_time": "2022-05-06T18:32:21.118Z"
   },
   {
    "duration": 31,
    "start_time": "2022-05-06T18:32:21.130Z"
   },
   {
    "duration": 10,
    "start_time": "2022-05-06T18:32:21.163Z"
   },
   {
    "duration": 31,
    "start_time": "2022-05-06T18:33:24.890Z"
   },
   {
    "duration": 30,
    "start_time": "2022-05-06T18:34:00.137Z"
   },
   {
    "duration": 14,
    "start_time": "2022-05-06T18:35:53.481Z"
   },
   {
    "duration": 68,
    "start_time": "2022-05-07T15:20:31.212Z"
   },
   {
    "duration": 522,
    "start_time": "2022-05-07T15:20:43.746Z"
   },
   {
    "duration": 75,
    "start_time": "2022-05-07T15:20:44.271Z"
   },
   {
    "duration": 28,
    "start_time": "2022-05-07T15:20:44.348Z"
   },
   {
    "duration": 30,
    "start_time": "2022-05-07T15:20:44.378Z"
   },
   {
    "duration": 42,
    "start_time": "2022-05-07T15:20:44.410Z"
   },
   {
    "duration": 5,
    "start_time": "2022-05-07T15:20:44.454Z"
   },
   {
    "duration": 37,
    "start_time": "2022-05-07T15:20:44.461Z"
   },
   {
    "duration": 6,
    "start_time": "2022-05-07T15:20:44.501Z"
   },
   {
    "duration": 7,
    "start_time": "2022-05-07T15:20:44.510Z"
   },
   {
    "duration": 4,
    "start_time": "2022-05-07T15:20:44.521Z"
   },
   {
    "duration": 6,
    "start_time": "2022-05-07T15:20:44.528Z"
   },
   {
    "duration": 79,
    "start_time": "2022-05-07T15:20:44.537Z"
   },
   {
    "duration": 7,
    "start_time": "2022-05-07T15:20:44.618Z"
   },
   {
    "duration": 12,
    "start_time": "2022-05-07T15:20:44.627Z"
   },
   {
    "duration": 8,
    "start_time": "2022-05-07T15:20:44.641Z"
   },
   {
    "duration": 42,
    "start_time": "2022-05-07T15:20:44.651Z"
   },
   {
    "duration": 37,
    "start_time": "2022-05-07T15:20:44.695Z"
   },
   {
    "duration": 8,
    "start_time": "2022-05-07T15:20:44.734Z"
   },
   {
    "duration": 59,
    "start_time": "2022-05-07T15:20:44.744Z"
   },
   {
    "duration": 33,
    "start_time": "2022-05-07T15:20:44.805Z"
   },
   {
    "duration": 7,
    "start_time": "2022-05-07T15:20:44.840Z"
   },
   {
    "duration": 46,
    "start_time": "2022-05-07T15:20:44.848Z"
   },
   {
    "duration": 7,
    "start_time": "2022-05-07T15:20:44.896Z"
   },
   {
    "duration": 19,
    "start_time": "2022-05-07T15:20:44.906Z"
   },
   {
    "duration": 18,
    "start_time": "2022-05-07T15:20:44.927Z"
   },
   {
    "duration": 63,
    "start_time": "2022-05-07T15:20:44.947Z"
   },
   {
    "duration": 9,
    "start_time": "2022-05-07T15:20:45.013Z"
   },
   {
    "duration": 12,
    "start_time": "2022-05-07T15:20:45.029Z"
   },
   {
    "duration": 10,
    "start_time": "2022-05-07T15:20:45.043Z"
   },
   {
    "duration": 43,
    "start_time": "2022-05-07T15:20:45.056Z"
   },
   {
    "duration": 30,
    "start_time": "2022-05-07T15:20:45.101Z"
   },
   {
    "duration": 7,
    "start_time": "2022-05-07T15:20:45.134Z"
   },
   {
    "duration": 18,
    "start_time": "2022-05-07T15:20:45.143Z"
   },
   {
    "duration": 52,
    "start_time": "2022-05-07T15:20:45.163Z"
   },
   {
    "duration": 27,
    "start_time": "2022-05-07T15:20:45.217Z"
   },
   {
    "duration": 49,
    "start_time": "2022-05-07T15:20:45.246Z"
   },
   {
    "duration": 5,
    "start_time": "2022-05-07T15:20:45.297Z"
   },
   {
    "duration": 55,
    "start_time": "2022-05-07T15:20:45.305Z"
   },
   {
    "duration": 37,
    "start_time": "2022-05-07T15:20:45.362Z"
   },
   {
    "duration": 11,
    "start_time": "2022-05-07T15:20:45.401Z"
   },
   {
    "duration": 9,
    "start_time": "2022-05-07T15:20:45.414Z"
   },
   {
    "duration": 9,
    "start_time": "2022-05-07T15:20:45.425Z"
   },
   {
    "duration": 59,
    "start_time": "2022-05-07T15:20:45.437Z"
   },
   {
    "duration": 8,
    "start_time": "2022-05-07T15:20:45.498Z"
   },
   {
    "duration": 29,
    "start_time": "2022-05-07T15:20:45.508Z"
   },
   {
    "duration": 11,
    "start_time": "2022-05-07T15:20:45.540Z"
   },
   {
    "duration": 44,
    "start_time": "2022-05-07T15:20:45.555Z"
   },
   {
    "duration": 21,
    "start_time": "2022-05-07T15:20:45.601Z"
   },
   {
    "duration": 16,
    "start_time": "2022-05-07T15:20:45.626Z"
   },
   {
    "duration": 18,
    "start_time": "2022-05-07T15:20:45.646Z"
   },
   {
    "duration": 306,
    "start_time": "2022-05-07T15:20:45.695Z"
   },
   {
    "duration": 23,
    "start_time": "2022-05-07T15:20:46.004Z"
   },
   {
    "duration": 14,
    "start_time": "2022-05-07T15:20:46.030Z"
   },
   {
    "duration": 300,
    "start_time": "2022-05-07T15:20:46.047Z"
   },
   {
    "duration": 26,
    "start_time": "2022-05-07T15:20:46.349Z"
   },
   {
    "duration": 44,
    "start_time": "2022-05-07T15:20:46.392Z"
   },
   {
    "duration": 28,
    "start_time": "2022-05-07T15:20:46.438Z"
   },
   {
    "duration": 16,
    "start_time": "2022-05-07T15:20:46.492Z"
   },
   {
    "duration": 29,
    "start_time": "2022-05-07T15:20:46.511Z"
   },
   {
    "duration": 16,
    "start_time": "2022-05-07T15:20:46.542Z"
   },
   {
    "duration": 63,
    "start_time": "2022-05-07T15:20:46.560Z"
   },
   {
    "duration": 17,
    "start_time": "2022-05-07T15:20:46.626Z"
   },
   {
    "duration": 65,
    "start_time": "2022-05-07T15:20:46.647Z"
   },
   {
    "duration": 17,
    "start_time": "2022-05-07T15:20:46.714Z"
   },
   {
    "duration": 533,
    "start_time": "2022-05-07T16:06:51.024Z"
   },
   {
    "duration": 94,
    "start_time": "2022-05-07T16:06:51.559Z"
   },
   {
    "duration": 41,
    "start_time": "2022-05-07T16:06:51.655Z"
   },
   {
    "duration": 22,
    "start_time": "2022-05-07T16:06:51.698Z"
   },
   {
    "duration": 74,
    "start_time": "2022-05-07T16:06:51.722Z"
   },
   {
    "duration": 6,
    "start_time": "2022-05-07T16:06:51.799Z"
   },
   {
    "duration": 11,
    "start_time": "2022-05-07T16:06:51.807Z"
   },
   {
    "duration": 9,
    "start_time": "2022-05-07T16:06:51.821Z"
   },
   {
    "duration": 10,
    "start_time": "2022-05-07T16:06:51.832Z"
   },
   {
    "duration": 10,
    "start_time": "2022-05-07T16:06:51.846Z"
   },
   {
    "duration": 6,
    "start_time": "2022-05-07T16:06:51.892Z"
   },
   {
    "duration": 43,
    "start_time": "2022-05-07T16:06:51.900Z"
   },
   {
    "duration": 10,
    "start_time": "2022-05-07T16:06:51.945Z"
   },
   {
    "duration": 48,
    "start_time": "2022-05-07T16:06:51.958Z"
   },
   {
    "duration": 8,
    "start_time": "2022-05-07T16:06:52.009Z"
   },
   {
    "duration": 11,
    "start_time": "2022-05-07T16:06:52.019Z"
   },
   {
    "duration": 91,
    "start_time": "2022-05-07T16:06:52.034Z"
   },
   {
    "duration": 10,
    "start_time": "2022-05-07T16:06:52.128Z"
   },
   {
    "duration": 56,
    "start_time": "2022-05-07T16:06:52.140Z"
   },
   {
    "duration": 32,
    "start_time": "2022-05-07T16:06:52.198Z"
   },
   {
    "duration": 11,
    "start_time": "2022-05-07T16:06:52.232Z"
   },
   {
    "duration": 57,
    "start_time": "2022-05-07T16:06:52.245Z"
   },
   {
    "duration": 9,
    "start_time": "2022-05-07T16:06:52.305Z"
   },
   {
    "duration": 22,
    "start_time": "2022-05-07T16:06:52.318Z"
   },
   {
    "duration": 52,
    "start_time": "2022-05-07T16:06:52.342Z"
   },
   {
    "duration": 21,
    "start_time": "2022-05-07T16:06:52.396Z"
   },
   {
    "duration": 10,
    "start_time": "2022-05-07T16:06:52.419Z"
   },
   {
    "duration": 12,
    "start_time": "2022-05-07T16:06:52.436Z"
   },
   {
    "duration": 45,
    "start_time": "2022-05-07T16:06:52.450Z"
   },
   {
    "duration": 21,
    "start_time": "2022-05-07T16:06:52.497Z"
   },
   {
    "duration": 27,
    "start_time": "2022-05-07T16:06:52.521Z"
   },
   {
    "duration": 8,
    "start_time": "2022-05-07T16:06:52.550Z"
   },
   {
    "duration": 45,
    "start_time": "2022-05-07T16:06:52.560Z"
   },
   {
    "duration": 32,
    "start_time": "2022-05-07T16:06:52.607Z"
   },
   {
    "duration": 57,
    "start_time": "2022-05-07T16:06:52.642Z"
   },
   {
    "duration": 26,
    "start_time": "2022-05-07T16:06:52.702Z"
   },
   {
    "duration": 5,
    "start_time": "2022-05-07T16:06:52.730Z"
   },
   {
    "duration": 74,
    "start_time": "2022-05-07T16:06:52.738Z"
   },
   {
    "duration": 18,
    "start_time": "2022-05-07T16:06:52.815Z"
   },
   {
    "duration": 18,
    "start_time": "2022-05-07T16:06:52.836Z"
   },
   {
    "duration": 36,
    "start_time": "2022-05-07T16:06:52.857Z"
   },
   {
    "duration": 9,
    "start_time": "2022-05-07T16:06:52.896Z"
   },
   {
    "duration": 22,
    "start_time": "2022-05-07T16:06:52.907Z"
   },
   {
    "duration": 7,
    "start_time": "2022-05-07T16:06:52.931Z"
   },
   {
    "duration": 54,
    "start_time": "2022-05-07T16:06:52.940Z"
   },
   {
    "duration": 10,
    "start_time": "2022-05-07T16:06:52.998Z"
   },
   {
    "duration": 8,
    "start_time": "2022-05-07T16:06:53.011Z"
   },
   {
    "duration": 20,
    "start_time": "2022-05-07T16:06:53.022Z"
   },
   {
    "duration": 53,
    "start_time": "2022-05-07T16:06:53.044Z"
   },
   {
    "duration": 15,
    "start_time": "2022-05-07T16:06:53.100Z"
   },
   {
    "duration": 426,
    "start_time": "2022-05-07T16:06:53.118Z"
   },
   {
    "duration": 26,
    "start_time": "2022-05-07T16:06:53.547Z"
   },
   {
    "duration": 29,
    "start_time": "2022-05-07T16:06:53.575Z"
   },
   {
    "duration": 433,
    "start_time": "2022-05-07T16:06:53.607Z"
   },
   {
    "duration": 28,
    "start_time": "2022-05-07T16:06:54.043Z"
   },
   {
    "duration": 75,
    "start_time": "2022-05-07T16:06:54.074Z"
   },
   {
    "duration": 59,
    "start_time": "2022-05-07T16:06:54.152Z"
   },
   {
    "duration": 18,
    "start_time": "2022-05-07T16:06:54.213Z"
   },
   {
    "duration": 50,
    "start_time": "2022-05-07T16:06:54.233Z"
   },
   {
    "duration": 22,
    "start_time": "2022-05-07T16:06:54.285Z"
   },
   {
    "duration": 35,
    "start_time": "2022-05-07T16:06:54.309Z"
   },
   {
    "duration": 59,
    "start_time": "2022-05-07T16:06:54.346Z"
   },
   {
    "duration": 50,
    "start_time": "2022-05-07T16:06:54.408Z"
   },
   {
    "duration": 48,
    "start_time": "2022-05-07T16:06:54.461Z"
   },
   {
    "duration": 492,
    "start_time": "2022-05-07T16:15:53.916Z"
   },
   {
    "duration": 116,
    "start_time": "2022-05-07T16:15:54.411Z"
   },
   {
    "duration": 43,
    "start_time": "2022-05-07T16:15:54.530Z"
   },
   {
    "duration": 43,
    "start_time": "2022-05-07T16:15:54.577Z"
   },
   {
    "duration": 78,
    "start_time": "2022-05-07T16:15:54.623Z"
   },
   {
    "duration": 6,
    "start_time": "2022-05-07T16:15:54.703Z"
   },
   {
    "duration": 9,
    "start_time": "2022-05-07T16:15:54.711Z"
   },
   {
    "duration": 6,
    "start_time": "2022-05-07T16:15:54.722Z"
   },
   {
    "duration": 10,
    "start_time": "2022-05-07T16:15:54.731Z"
   },
   {
    "duration": 4,
    "start_time": "2022-05-07T16:15:54.746Z"
   },
   {
    "duration": 6,
    "start_time": "2022-05-07T16:15:54.793Z"
   },
   {
    "duration": 42,
    "start_time": "2022-05-07T16:15:54.801Z"
   },
   {
    "duration": 9,
    "start_time": "2022-05-07T16:15:54.845Z"
   },
   {
    "duration": 48,
    "start_time": "2022-05-07T16:15:54.857Z"
   },
   {
    "duration": 10,
    "start_time": "2022-05-07T16:15:54.907Z"
   },
   {
    "duration": 9,
    "start_time": "2022-05-07T16:15:54.920Z"
   },
   {
    "duration": 75,
    "start_time": "2022-05-07T16:15:54.931Z"
   },
   {
    "duration": 7,
    "start_time": "2022-05-07T16:15:55.008Z"
   },
   {
    "duration": 28,
    "start_time": "2022-05-07T16:15:55.018Z"
   },
   {
    "duration": 67,
    "start_time": "2022-05-07T16:15:55.048Z"
   },
   {
    "duration": 7,
    "start_time": "2022-05-07T16:15:55.117Z"
   },
   {
    "duration": 22,
    "start_time": "2022-05-07T16:15:55.127Z"
   },
   {
    "duration": 44,
    "start_time": "2022-05-07T16:15:55.151Z"
   },
   {
    "duration": 27,
    "start_time": "2022-05-07T16:15:55.197Z"
   },
   {
    "duration": 27,
    "start_time": "2022-05-07T16:15:55.227Z"
   },
   {
    "duration": 56,
    "start_time": "2022-05-07T16:15:55.257Z"
   },
   {
    "duration": 14,
    "start_time": "2022-05-07T16:15:55.316Z"
   },
   {
    "duration": 13,
    "start_time": "2022-05-07T16:15:55.338Z"
   },
   {
    "duration": 44,
    "start_time": "2022-05-07T16:15:55.354Z"
   },
   {
    "duration": 16,
    "start_time": "2022-05-07T16:15:55.401Z"
   },
   {
    "duration": 29,
    "start_time": "2022-05-07T16:15:55.419Z"
   },
   {
    "duration": 45,
    "start_time": "2022-05-07T16:15:55.451Z"
   },
   {
    "duration": 15,
    "start_time": "2022-05-07T16:15:55.499Z"
   },
   {
    "duration": 26,
    "start_time": "2022-05-07T16:15:55.516Z"
   },
   {
    "duration": 65,
    "start_time": "2022-05-07T16:15:55.545Z"
   },
   {
    "duration": 25,
    "start_time": "2022-05-07T16:15:55.613Z"
   },
   {
    "duration": 5,
    "start_time": "2022-05-07T16:15:55.640Z"
   },
   {
    "duration": 69,
    "start_time": "2022-05-07T16:15:55.648Z"
   },
   {
    "duration": 16,
    "start_time": "2022-05-07T16:15:55.719Z"
   },
   {
    "duration": 13,
    "start_time": "2022-05-07T16:15:55.737Z"
   },
   {
    "duration": 8,
    "start_time": "2022-05-07T16:15:55.753Z"
   },
   {
    "duration": 36,
    "start_time": "2022-05-07T16:15:55.764Z"
   },
   {
    "duration": 23,
    "start_time": "2022-05-07T16:15:55.803Z"
   },
   {
    "duration": 8,
    "start_time": "2022-05-07T16:15:55.829Z"
   },
   {
    "duration": 64,
    "start_time": "2022-05-07T16:15:55.840Z"
   },
   {
    "duration": 11,
    "start_time": "2022-05-07T16:15:55.906Z"
   },
   {
    "duration": 6,
    "start_time": "2022-05-07T16:15:55.919Z"
   },
   {
    "duration": 13,
    "start_time": "2022-05-07T16:15:55.927Z"
   },
   {
    "duration": 12,
    "start_time": "2022-05-07T16:15:55.943Z"
   },
   {
    "duration": 46,
    "start_time": "2022-05-07T16:15:55.958Z"
   },
   {
    "duration": 244,
    "start_time": "2022-05-07T16:15:56.007Z"
   },
   {
    "duration": 17,
    "start_time": "2022-05-07T16:15:56.253Z"
   },
   {
    "duration": 24,
    "start_time": "2022-05-07T16:15:56.271Z"
   },
   {
    "duration": 242,
    "start_time": "2022-05-07T16:15:56.298Z"
   },
   {
    "duration": 19,
    "start_time": "2022-05-07T16:15:56.543Z"
   },
   {
    "duration": 64,
    "start_time": "2022-05-07T16:15:56.564Z"
   },
   {
    "duration": 31,
    "start_time": "2022-05-07T16:15:56.631Z"
   },
   {
    "duration": 40,
    "start_time": "2022-05-07T16:15:56.665Z"
   },
   {
    "duration": 26,
    "start_time": "2022-05-07T16:15:56.708Z"
   },
   {
    "duration": 17,
    "start_time": "2022-05-07T16:15:56.737Z"
   },
   {
    "duration": 65,
    "start_time": "2022-05-07T16:15:56.757Z"
   },
   {
    "duration": 16,
    "start_time": "2022-05-07T16:15:56.824Z"
   },
   {
    "duration": 71,
    "start_time": "2022-05-07T16:15:56.843Z"
   },
   {
    "duration": 17,
    "start_time": "2022-05-07T16:15:56.916Z"
   },
   {
    "duration": 513,
    "start_time": "2022-05-08T14:43:16.045Z"
   },
   {
    "duration": 79,
    "start_time": "2022-05-08T14:43:16.561Z"
   },
   {
    "duration": 30,
    "start_time": "2022-05-08T14:43:17.705Z"
   },
   {
    "duration": 21,
    "start_time": "2022-05-08T14:43:18.129Z"
   },
   {
    "duration": 58,
    "start_time": "2022-05-08T14:43:19.152Z"
   },
   {
    "duration": 5,
    "start_time": "2022-05-08T14:43:20.434Z"
   },
   {
    "duration": 6,
    "start_time": "2022-05-08T14:43:20.862Z"
   },
   {
    "duration": 5,
    "start_time": "2022-05-08T14:43:21.279Z"
   },
   {
    "duration": 9,
    "start_time": "2022-05-08T14:43:22.233Z"
   },
   {
    "duration": 5,
    "start_time": "2022-05-08T14:43:25.039Z"
   },
   {
    "duration": 5,
    "start_time": "2022-05-08T14:43:25.837Z"
   },
   {
    "duration": 38,
    "start_time": "2022-05-08T14:43:28.728Z"
   },
   {
    "duration": 10,
    "start_time": "2022-05-08T14:43:32.597Z"
   },
   {
    "duration": 7,
    "start_time": "2022-05-08T14:43:44.783Z"
   },
   {
    "duration": 35,
    "start_time": "2022-05-08T14:43:52.458Z"
   },
   {
    "duration": 92,
    "start_time": "2022-05-08T14:43:58.717Z"
   },
   {
    "duration": 8,
    "start_time": "2022-05-08T14:46:53.615Z"
   },
   {
    "duration": 599,
    "start_time": "2022-05-08T14:47:23.518Z"
   },
   {
    "duration": 78,
    "start_time": "2022-05-08T14:47:24.121Z"
   },
   {
    "duration": 33,
    "start_time": "2022-05-08T14:47:24.202Z"
   },
   {
    "duration": 27,
    "start_time": "2022-05-08T14:47:24.237Z"
   },
   {
    "duration": 62,
    "start_time": "2022-05-08T14:47:24.296Z"
   },
   {
    "duration": 6,
    "start_time": "2022-05-08T14:47:24.362Z"
   },
   {
    "duration": 27,
    "start_time": "2022-05-08T14:47:24.371Z"
   },
   {
    "duration": 7,
    "start_time": "2022-05-08T14:47:24.400Z"
   },
   {
    "duration": 12,
    "start_time": "2022-05-08T14:47:24.409Z"
   },
   {
    "duration": 7,
    "start_time": "2022-05-08T14:47:24.424Z"
   },
   {
    "duration": 10,
    "start_time": "2022-05-08T14:47:24.434Z"
   },
   {
    "duration": 87,
    "start_time": "2022-05-08T14:47:24.446Z"
   },
   {
    "duration": 9,
    "start_time": "2022-05-08T14:47:24.536Z"
   },
   {
    "duration": 26,
    "start_time": "2022-05-08T14:47:24.551Z"
   },
   {
    "duration": 10,
    "start_time": "2022-05-08T14:47:24.592Z"
   },
   {
    "duration": 9,
    "start_time": "2022-05-08T14:47:24.605Z"
   },
   {
    "duration": 37,
    "start_time": "2022-05-08T14:47:24.617Z"
   },
   {
    "duration": 40,
    "start_time": "2022-05-08T14:47:24.657Z"
   },
   {
    "duration": 37,
    "start_time": "2022-05-08T14:47:24.700Z"
   },
   {
    "duration": 69,
    "start_time": "2022-05-08T14:47:24.739Z"
   },
   {
    "duration": 11,
    "start_time": "2022-05-08T14:47:24.810Z"
   },
   {
    "duration": 28,
    "start_time": "2022-05-08T14:47:24.824Z"
   },
   {
    "duration": 23,
    "start_time": "2022-05-08T14:47:24.855Z"
   },
   {
    "duration": 30,
    "start_time": "2022-05-08T14:47:24.881Z"
   },
   {
    "duration": 20,
    "start_time": "2022-05-08T14:47:24.915Z"
   },
   {
    "duration": 23,
    "start_time": "2022-05-08T14:47:24.937Z"
   },
   {
    "duration": 37,
    "start_time": "2022-05-08T14:47:24.962Z"
   },
   {
    "duration": 17,
    "start_time": "2022-05-08T14:47:25.002Z"
   },
   {
    "duration": 10,
    "start_time": "2022-05-08T14:47:25.021Z"
   },
   {
    "duration": 26,
    "start_time": "2022-05-08T14:47:25.033Z"
   },
   {
    "duration": 59,
    "start_time": "2022-05-08T14:47:25.061Z"
   },
   {
    "duration": 8,
    "start_time": "2022-05-08T14:47:25.122Z"
   },
   {
    "duration": 24,
    "start_time": "2022-05-08T14:47:25.132Z"
   },
   {
    "duration": 57,
    "start_time": "2022-05-08T14:47:25.159Z"
   },
   {
    "duration": 28,
    "start_time": "2022-05-08T14:47:25.218Z"
   },
   {
    "duration": 24,
    "start_time": "2022-05-08T14:47:25.249Z"
   },
   {
    "duration": 5,
    "start_time": "2022-05-08T14:47:25.294Z"
   },
   {
    "duration": 46,
    "start_time": "2022-05-08T14:47:25.303Z"
   },
   {
    "duration": 15,
    "start_time": "2022-05-08T14:47:25.352Z"
   },
   {
    "duration": 12,
    "start_time": "2022-05-08T14:47:25.394Z"
   },
   {
    "duration": 7,
    "start_time": "2022-05-08T14:47:25.414Z"
   },
   {
    "duration": 10,
    "start_time": "2022-05-08T14:47:25.424Z"
   },
   {
    "duration": 69,
    "start_time": "2022-05-08T14:47:25.437Z"
   },
   {
    "duration": 7,
    "start_time": "2022-05-08T14:47:25.509Z"
   },
   {
    "duration": 31,
    "start_time": "2022-05-08T14:47:25.518Z"
   },
   {
    "duration": 12,
    "start_time": "2022-05-08T14:47:25.551Z"
   },
   {
    "duration": 7,
    "start_time": "2022-05-08T14:47:25.596Z"
   },
   {
    "duration": 19,
    "start_time": "2022-05-08T14:47:25.605Z"
   },
   {
    "duration": 17,
    "start_time": "2022-05-08T14:47:25.627Z"
   },
   {
    "duration": 46,
    "start_time": "2022-05-08T14:47:25.647Z"
   },
   {
    "duration": 339,
    "start_time": "2022-05-08T14:47:25.696Z"
   },
   {
    "duration": 17,
    "start_time": "2022-05-08T14:47:26.037Z"
   },
   {
    "duration": 13,
    "start_time": "2022-05-08T14:47:26.057Z"
   },
   {
    "duration": 245,
    "start_time": "2022-05-08T14:47:26.073Z"
   },
   {
    "duration": 33,
    "start_time": "2022-05-08T14:47:26.320Z"
   },
   {
    "duration": 86,
    "start_time": "2022-05-08T14:47:26.355Z"
   },
   {
    "duration": 37,
    "start_time": "2022-05-08T14:47:26.443Z"
   },
   {
    "duration": 27,
    "start_time": "2022-05-08T14:47:26.482Z"
   },
   {
    "duration": 38,
    "start_time": "2022-05-08T14:47:26.512Z"
   },
   {
    "duration": 46,
    "start_time": "2022-05-08T14:47:26.553Z"
   },
   {
    "duration": 31,
    "start_time": "2022-05-08T14:47:26.601Z"
   },
   {
    "duration": 20,
    "start_time": "2022-05-08T14:47:26.635Z"
   },
   {
    "duration": 72,
    "start_time": "2022-05-08T14:47:26.657Z"
   },
   {
    "duration": 17,
    "start_time": "2022-05-08T14:47:26.732Z"
   },
   {
    "duration": 27,
    "start_time": "2022-05-08T14:48:55.687Z"
   },
   {
    "duration": 40,
    "start_time": "2022-05-08T14:49:28.285Z"
   },
   {
    "duration": 17,
    "start_time": "2022-05-08T14:50:12.750Z"
   },
   {
    "duration": 22,
    "start_time": "2022-05-08T14:50:15.509Z"
   },
   {
    "duration": 22,
    "start_time": "2022-05-08T14:50:19.619Z"
   },
   {
    "duration": 24,
    "start_time": "2022-05-08T14:50:21.322Z"
   },
   {
    "duration": 10,
    "start_time": "2022-05-08T14:50:27.237Z"
   },
   {
    "duration": 15,
    "start_time": "2022-05-08T14:50:27.954Z"
   },
   {
    "duration": 15,
    "start_time": "2022-05-08T14:50:58.372Z"
   }
  ],
  "colab": {
   "collapsed_sections": [
    "E0vqbgi9ay0H",
    "VUC88oWjTJw2"
   ],
   "name": "yandex_music_project.ipynb",
   "provenance": []
  },
  "kernelspec": {
   "display_name": "Python 3 (ipykernel)",
   "language": "python",
   "name": "python3"
  },
  "language_info": {
   "codemirror_mode": {
    "name": "ipython",
    "version": 3
   },
   "file_extension": ".py",
   "mimetype": "text/x-python",
   "name": "python",
   "nbconvert_exporter": "python",
   "pygments_lexer": "ipython3",
   "version": "3.9.7"
  },
  "toc": {
   "base_numbering": 1,
   "nav_menu": {},
   "number_sections": true,
   "sideBar": true,
   "skip_h1_title": true,
   "title_cell": "Содержание",
   "title_sidebar": "Contents",
   "toc_cell": true,
   "toc_position": {
    "height": "calc(100% - 180px)",
    "left": "10px",
    "top": "150px",
    "width": "311px"
   },
   "toc_section_display": true,
   "toc_window_display": true
  }
 },
 "nbformat": 4,
 "nbformat_minor": 1
}
