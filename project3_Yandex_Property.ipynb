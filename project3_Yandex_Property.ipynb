{
 "cells": [
  {
   "cell_type": "markdown",
   "metadata": {
    "toc": true
   },
   "source": [
    "<h1>Содержание<span class=\"tocSkip\"></span></h1>\n",
    "<div class=\"toc\"><ul class=\"toc-item\"><li><span><a href=\"#Обзор-данных\" data-toc-modified-id=\"Обзор-данных-1\"><span class=\"toc-item-num\">1&nbsp;&nbsp;</span>Обзор данных</a></span><ul class=\"toc-item\"><li><span><a href=\"#Вывод\" data-toc-modified-id=\"Вывод-1.1\"><span class=\"toc-item-num\">1.1&nbsp;&nbsp;</span>Вывод</a></span></li></ul></li><li><span><a href=\"#Предобработка-данных\" data-toc-modified-id=\"Предобработка-данных-2\"><span class=\"toc-item-num\">2&nbsp;&nbsp;</span>Предобработка данных</a></span><ul class=\"toc-item\"><li><span><a href=\"#Изменение-заголовков-столбцов\" data-toc-modified-id=\"Изменение-заголовков-столбцов-2.1\"><span class=\"toc-item-num\">2.1&nbsp;&nbsp;</span>Изменение заголовков столбцов</a></span></li><li><span><a href=\"#Исследование-и-заполнение-пропусков-в-данных\" data-toc-modified-id=\"Исследование-и-заполнение-пропусков-в-данных-2.2\"><span class=\"toc-item-num\">2.2&nbsp;&nbsp;</span>Исследование и заполнение пропусков в данных</a></span></li><li><span><a href=\"#Исследование-и-изменение-аномальных-значений\" data-toc-modified-id=\"Исследование-и-изменение-аномальных-значений-2.3\"><span class=\"toc-item-num\">2.3&nbsp;&nbsp;</span>Исследование и изменение аномальных значений</a></span></li><li><span><a href=\"#Изменение-типов-данных\" data-toc-modified-id=\"Изменение-типов-данных-2.4\"><span class=\"toc-item-num\">2.4&nbsp;&nbsp;</span>Изменение типов данных</a></span></li></ul></li><li><span><a href=\"#Расчёты-и-добавление-результатов-в-таблицу\" data-toc-modified-id=\"Расчёты-и-добавление-результатов-в-таблицу-3\"><span class=\"toc-item-num\">3&nbsp;&nbsp;</span>Расчёты и добавление результатов в таблицу</a></span></li><li><span><a href=\"#Исследовательский-анализ-данных\" data-toc-modified-id=\"Исследовательский-анализ-данных-4\"><span class=\"toc-item-num\">4&nbsp;&nbsp;</span>Исследовательский анализ данных</a></span><ul class=\"toc-item\"><li><span><a href=\"#Иcследование-площади,-цены,-числа-комнат-и-высоты-потолков\" data-toc-modified-id=\"Иcследование-площади,-цены,-числа-комнат-и-высоты-потолков-4.1\"><span class=\"toc-item-num\">4.1&nbsp;&nbsp;</span>Иcследование площади, цены, числа комнат и высоты потолков</a></span></li><li><span><a href=\"#Иcследование-времени-продажи-квартиры\" data-toc-modified-id=\"Иcследование-времени-продажи-квартиры-4.2\"><span class=\"toc-item-num\">4.2&nbsp;&nbsp;</span>Иcследование времени продажи квартиры</a></span></li><li><span><a href=\"#Редкие-и-выбивающиеся-значения\" data-toc-modified-id=\"Редкие-и-выбивающиеся-значения-4.3\"><span class=\"toc-item-num\">4.3&nbsp;&nbsp;</span>Редкие и выбивающиеся значения</a></span></li><li><span><a href=\"#Исследование-факторов,-влияющих-на-стоимость-квартиры\" data-toc-modified-id=\"Исследование-факторов,-влияющих-на-стоимость-квартиры-4.4\"><span class=\"toc-item-num\">4.4&nbsp;&nbsp;</span>Исследование факторов, влияющих на стоимость квартиры</a></span></li><li><span><a href=\"#Анализ-десяти-населённых-пунктов-с-наибольшим-числом-объявлений\" data-toc-modified-id=\"Анализ-десяти-населённых-пунктов-с-наибольшим-числом-объявлений-4.5\"><span class=\"toc-item-num\">4.5&nbsp;&nbsp;</span>Анализ десяти населённых пунктов с наибольшим числом объявлений</a></span></li><li><span><a href=\"#Анализ-изменения-цены-в-зависимости-от-удалённости-от-центра\" data-toc-modified-id=\"Анализ-изменения-цены-в-зависимости-от-удалённости-от-центра-4.6\"><span class=\"toc-item-num\">4.6&nbsp;&nbsp;</span>Анализ изменения цены в зависимости от удалённости от центра</a></span></li><li><span><a href=\"#Сравнение-выводов-по-квартирам-в-центре-и-общих-выводов-по-всему-городу\" data-toc-modified-id=\"Сравнение-выводов-по-квартирам-в-центре-и-общих-выводов-по-всему-городу-4.7\"><span class=\"toc-item-num\">4.7&nbsp;&nbsp;</span>Сравнение выводов по квартирам в центре и общих выводов по всему городу</a></span></li></ul></li><li><span><a href=\"#Общий-вывод\" data-toc-modified-id=\"Общий-вывод-5\"><span class=\"toc-item-num\">5&nbsp;&nbsp;</span>Общий вывод</a></span></li><li><span><a href=\"#Чек-лист-готовности-проекта\" data-toc-modified-id=\"Чек-лист-готовности-проекта-6\"><span class=\"toc-item-num\">6&nbsp;&nbsp;</span>Чек-лист готовности проекта</a></span></li></ul></div>"
   ]
  },
  {
   "cell_type": "markdown",
   "metadata": {},
   "source": [
    "# Исследование объявлений о продаже квартир\n",
    "\n",
    "В нашем распоряжении данные сервиса Яндекc Недвижимость — архив объявлений о продаже квартир в Санкт-Петербурге и соседних населённых пунктах за несколько лет. \n",
    "\n",
    "**Цель исследования** — создать модель определения рыночной стоимости объектов недвижимости. Для этого нужно установить параметры, оказывающие влияние на стоимость. Это позволит построить автоматизированную систему: она отследит аномалии и мошенническую деятельность. \n",
    "\n",
    "По каждой квартире на продажу доступны два вида данных. Первые вписаны пользователем, вторые получены автоматически на основе картографических данных. Например, расстояние до центра, аэропорта, ближайшего парка и водоёма. \n",
    "\n",
    "**Ход исследования:**\n",
    "\n",
    "Данные о поведении пользователей мы получим из файла `real_estate_data.csv`. О качестве данных ничего не известно. Поэтому перед проверкой гипотез понадобится обзор данных.\n",
    "\n",
    "Затем, на этапе предобработки, мы проверим данные на ошибки, оценим их влияние на исследование и поищем возможность исправить самые критичные ошибки данных.\n",
    "\n",
    "На третьем этапе произведём дополнительные расчёты и добавим результаты в таблицу.\n",
    "\n",
    "В ходе исследовательского анализа изучим различные параметры, построим для \n",
    "них гистограммы. Изучим, какие факторы больше всего влияют на стоимость \n",
    "квартиры. Посчитаем среднюю цену кв.метра в 10 наиболее популярных населённых пунктах. Изучим предложение квартир в Санкт-Петербурге и в его центре.\n",
    "\n",
    "Таким образом, исследование пройдёт в четыре этапа:\n",
    " 1. Обзор данных.\n",
    " 2. Предобработка данных.\n",
    " 3. Расчёты и добавление результатов в таблицу.\n",
    " 4. Исследовательский анализ данных.\n",
    "\n",
    "В завершении работы представим общий вывод для заказчика."
   ]
  },
  {
   "cell_type": "markdown",
   "metadata": {},
   "source": [
    "## Обзор данных"
   ]
  },
  {
   "cell_type": "markdown",
   "metadata": {},
   "source": [
    "Составим первое представление о данных.\n",
    "\n",
    "Основной инструмент аналитика — `pandas`. Импортируем эту библиотеку."
   ]
  },
  {
   "cell_type": "code",
   "execution_count": 1,
   "metadata": {},
   "outputs": [],
   "source": [
    "# импорт библиотеки pandas\n",
    "import pandas as pd"
   ]
  },
  {
   "cell_type": "markdown",
   "metadata": {},
   "source": [
    "Прочитаем файл `real_estate_data.csv` и сохраним его в переменной `df`:"
   ]
  },
  {
   "cell_type": "code",
   "execution_count": 2,
   "metadata": {},
   "outputs": [],
   "source": [
    "# чтение файла с данными и сохранение в df\n",
    "df = pd.read_csv('real_estate_data.csv')"
   ]
  },
  {
   "cell_type": "markdown",
   "metadata": {},
   "source": [
    "Получим общую информацию о таблице:"
   ]
  },
  {
   "cell_type": "code",
   "execution_count": 3,
   "metadata": {},
   "outputs": [
    {
     "name": "stdout",
     "output_type": "stream",
     "text": [
      "<class 'pandas.core.frame.DataFrame'>\n",
      "RangeIndex: 23699 entries, 0 to 23698\n",
      "Data columns (total 1 columns):\n",
      " #   Column                                                                                                                                                                                                                                                                                           Non-Null Count  Dtype \n",
      "---  ------                                                                                                                                                                                                                                                                                           --------------  ----- \n",
      " 0   total_images\tlast_price\ttotal_area\tfirst_day_exposition\trooms\tceiling_height\tfloors_total\tliving_area\tfloor\tis_apartment\tstudio\topen_plan\tkitchen_area\tbalcony\tlocality_name\tairports_nearest\tcityCenters_nearest\tparks_around3000\tparks_nearest\tponds_around3000\tponds_nearest\tdays_exposition  23699 non-null  object\n",
      "dtypes: object(1)\n",
      "memory usage: 185.3+ KB\n"
     ]
    }
   ],
   "source": [
    "# получение общей информации о данных в таблице df\n",
    "df.info()"
   ]
  },
  {
   "cell_type": "markdown",
   "metadata": {
    "id": "rDoOMd3uTqnZ"
   },
   "source": [
    "Выведем на экран первые десять строк таблицы:"
   ]
  },
  {
   "cell_type": "code",
   "execution_count": 4,
   "metadata": {
    "id": "oWTVX3gW_Zct"
   },
   "outputs": [
    {
     "data": {
      "text/html": [
       "<div>\n",
       "<style scoped>\n",
       "    .dataframe tbody tr th:only-of-type {\n",
       "        vertical-align: middle;\n",
       "    }\n",
       "\n",
       "    .dataframe tbody tr th {\n",
       "        vertical-align: top;\n",
       "    }\n",
       "\n",
       "    .dataframe thead th {\n",
       "        text-align: right;\n",
       "    }\n",
       "</style>\n",
       "<table border=\"1\" class=\"dataframe\">\n",
       "  <thead>\n",
       "    <tr style=\"text-align: right;\">\n",
       "      <th></th>\n",
       "      <th>total_images\\tlast_price\\ttotal_area\\tfirst_day_exposition\\trooms\\tceiling_height\\tfloors_total\\tliving_area\\tfloor\\tis_apartment\\tstudio\\topen_plan\\tkitchen_area\\tbalcony\\tlocality_name\\tairports_nearest\\tcityCenters_nearest\\tparks_around3000\\tparks_nearest\\tponds_around3000\\tponds_nearest\\tdays_exposition</th>\n",
       "    </tr>\n",
       "  </thead>\n",
       "  <tbody>\n",
       "    <tr>\n",
       "      <th>0</th>\n",
       "      <td>20\\t13000000.0\\t108.0\\t2019-03-07T00:00:00\\t3\\...</td>\n",
       "    </tr>\n",
       "    <tr>\n",
       "      <th>1</th>\n",
       "      <td>7\\t3350000.0\\t40.4\\t2018-12-04T00:00:00\\t1\\t\\t...</td>\n",
       "    </tr>\n",
       "    <tr>\n",
       "      <th>2</th>\n",
       "      <td>10\\t5196000.0\\t56.0\\t2015-08-20T00:00:00\\t2\\t\\...</td>\n",
       "    </tr>\n",
       "    <tr>\n",
       "      <th>3</th>\n",
       "      <td>0\\t64900000.0\\t159.0\\t2015-07-24T00:00:00\\t3\\t...</td>\n",
       "    </tr>\n",
       "    <tr>\n",
       "      <th>4</th>\n",
       "      <td>2\\t10000000.0\\t100.0\\t2018-06-19T00:00:00\\t2\\t...</td>\n",
       "    </tr>\n",
       "    <tr>\n",
       "      <th>5</th>\n",
       "      <td>10\\t2890000.0\\t30.4\\t2018-09-10T00:00:00\\t1\\t\\...</td>\n",
       "    </tr>\n",
       "    <tr>\n",
       "      <th>6</th>\n",
       "      <td>6\\t3700000.0\\t37.3\\t2017-11-02T00:00:00\\t1\\t\\t...</td>\n",
       "    </tr>\n",
       "    <tr>\n",
       "      <th>7</th>\n",
       "      <td>5\\t7915000.0\\t71.6\\t2019-04-18T00:00:00\\t2\\t\\t...</td>\n",
       "    </tr>\n",
       "    <tr>\n",
       "      <th>8</th>\n",
       "      <td>20\\t2900000.0\\t33.16\\t2018-05-23T00:00:00\\t1\\t...</td>\n",
       "    </tr>\n",
       "    <tr>\n",
       "      <th>9</th>\n",
       "      <td>18\\t5400000.0\\t61.0\\t2017-02-26T00:00:00\\t3\\t2...</td>\n",
       "    </tr>\n",
       "  </tbody>\n",
       "</table>\n",
       "</div>"
      ],
      "text/plain": [
       "  total_images\\tlast_price\\ttotal_area\\tfirst_day_exposition\\trooms\\tceiling_height\\tfloors_total\\tliving_area\\tfloor\\tis_apartment\\tstudio\\topen_plan\\tkitchen_area\\tbalcony\\tlocality_name\\tairports_nearest\\tcityCenters_nearest\\tparks_around3000\\tparks_nearest\\tponds_around3000\\tponds_nearest\\tdays_exposition\n",
       "0  20\\t13000000.0\\t108.0\\t2019-03-07T00:00:00\\t3\\...                                                                                                                                                                                                                                                                  \n",
       "1  7\\t3350000.0\\t40.4\\t2018-12-04T00:00:00\\t1\\t\\t...                                                                                                                                                                                                                                                                  \n",
       "2  10\\t5196000.0\\t56.0\\t2015-08-20T00:00:00\\t2\\t\\...                                                                                                                                                                                                                                                                  \n",
       "3  0\\t64900000.0\\t159.0\\t2015-07-24T00:00:00\\t3\\t...                                                                                                                                                                                                                                                                  \n",
       "4  2\\t10000000.0\\t100.0\\t2018-06-19T00:00:00\\t2\\t...                                                                                                                                                                                                                                                                  \n",
       "5  10\\t2890000.0\\t30.4\\t2018-09-10T00:00:00\\t1\\t\\...                                                                                                                                                                                                                                                                  \n",
       "6  6\\t3700000.0\\t37.3\\t2017-11-02T00:00:00\\t1\\t\\t...                                                                                                                                                                                                                                                                  \n",
       "7  5\\t7915000.0\\t71.6\\t2019-04-18T00:00:00\\t2\\t\\t...                                                                                                                                                                                                                                                                  \n",
       "8  20\\t2900000.0\\t33.16\\t2018-05-23T00:00:00\\t1\\t...                                                                                                                                                                                                                                                                  \n",
       "9  18\\t5400000.0\\t61.0\\t2017-02-26T00:00:00\\t3\\t2...                                                                                                                                                                                                                                                                  "
      ]
     },
     "execution_count": 4,
     "metadata": {},
     "output_type": "execute_result"
    }
   ],
   "source": [
    "# получение первых 10 строк таблицы df\n",
    "df.head(10)"
   ]
  },
  {
   "cell_type": "markdown",
   "metadata": {},
   "source": [
    "Видна первая проблема — данные \"склеены\". Разделим данные датасета по столбцам:"
   ]
  },
  {
   "cell_type": "code",
   "execution_count": 5,
   "metadata": {},
   "outputs": [],
   "source": [
    "#расклейка данных по столбцам\n",
    "df = pd.read_csv('real_estate_data.csv', sep='\\t')"
   ]
  },
  {
   "cell_type": "markdown",
   "metadata": {},
   "source": [
    "Теперь можно посмотреть на таблицу."
   ]
  },
  {
   "cell_type": "code",
   "execution_count": 6,
   "metadata": {},
   "outputs": [
    {
     "data": {
      "text/html": [
       "<div>\n",
       "<style scoped>\n",
       "    .dataframe tbody tr th:only-of-type {\n",
       "        vertical-align: middle;\n",
       "    }\n",
       "\n",
       "    .dataframe tbody tr th {\n",
       "        vertical-align: top;\n",
       "    }\n",
       "\n",
       "    .dataframe thead th {\n",
       "        text-align: right;\n",
       "    }\n",
       "</style>\n",
       "<table border=\"1\" class=\"dataframe\">\n",
       "  <thead>\n",
       "    <tr style=\"text-align: right;\">\n",
       "      <th></th>\n",
       "      <th>total_images</th>\n",
       "      <th>last_price</th>\n",
       "      <th>total_area</th>\n",
       "      <th>first_day_exposition</th>\n",
       "      <th>rooms</th>\n",
       "      <th>ceiling_height</th>\n",
       "      <th>floors_total</th>\n",
       "      <th>living_area</th>\n",
       "      <th>floor</th>\n",
       "      <th>is_apartment</th>\n",
       "      <th>...</th>\n",
       "      <th>kitchen_area</th>\n",
       "      <th>balcony</th>\n",
       "      <th>locality_name</th>\n",
       "      <th>airports_nearest</th>\n",
       "      <th>cityCenters_nearest</th>\n",
       "      <th>parks_around3000</th>\n",
       "      <th>parks_nearest</th>\n",
       "      <th>ponds_around3000</th>\n",
       "      <th>ponds_nearest</th>\n",
       "      <th>days_exposition</th>\n",
       "    </tr>\n",
       "  </thead>\n",
       "  <tbody>\n",
       "    <tr>\n",
       "      <th>0</th>\n",
       "      <td>20</td>\n",
       "      <td>13000000.0</td>\n",
       "      <td>108.00</td>\n",
       "      <td>2019-03-07T00:00:00</td>\n",
       "      <td>3</td>\n",
       "      <td>2.70</td>\n",
       "      <td>16.0</td>\n",
       "      <td>51.00</td>\n",
       "      <td>8</td>\n",
       "      <td>NaN</td>\n",
       "      <td>...</td>\n",
       "      <td>25.00</td>\n",
       "      <td>NaN</td>\n",
       "      <td>Санкт-Петербург</td>\n",
       "      <td>18863.0</td>\n",
       "      <td>16028.0</td>\n",
       "      <td>1.0</td>\n",
       "      <td>482.0</td>\n",
       "      <td>2.0</td>\n",
       "      <td>755.0</td>\n",
       "      <td>NaN</td>\n",
       "    </tr>\n",
       "    <tr>\n",
       "      <th>1</th>\n",
       "      <td>7</td>\n",
       "      <td>3350000.0</td>\n",
       "      <td>40.40</td>\n",
       "      <td>2018-12-04T00:00:00</td>\n",
       "      <td>1</td>\n",
       "      <td>NaN</td>\n",
       "      <td>11.0</td>\n",
       "      <td>18.60</td>\n",
       "      <td>1</td>\n",
       "      <td>NaN</td>\n",
       "      <td>...</td>\n",
       "      <td>11.00</td>\n",
       "      <td>2.0</td>\n",
       "      <td>посёлок Шушары</td>\n",
       "      <td>12817.0</td>\n",
       "      <td>18603.0</td>\n",
       "      <td>0.0</td>\n",
       "      <td>NaN</td>\n",
       "      <td>0.0</td>\n",
       "      <td>NaN</td>\n",
       "      <td>81.0</td>\n",
       "    </tr>\n",
       "    <tr>\n",
       "      <th>2</th>\n",
       "      <td>10</td>\n",
       "      <td>5196000.0</td>\n",
       "      <td>56.00</td>\n",
       "      <td>2015-08-20T00:00:00</td>\n",
       "      <td>2</td>\n",
       "      <td>NaN</td>\n",
       "      <td>5.0</td>\n",
       "      <td>34.30</td>\n",
       "      <td>4</td>\n",
       "      <td>NaN</td>\n",
       "      <td>...</td>\n",
       "      <td>8.30</td>\n",
       "      <td>0.0</td>\n",
       "      <td>Санкт-Петербург</td>\n",
       "      <td>21741.0</td>\n",
       "      <td>13933.0</td>\n",
       "      <td>1.0</td>\n",
       "      <td>90.0</td>\n",
       "      <td>2.0</td>\n",
       "      <td>574.0</td>\n",
       "      <td>558.0</td>\n",
       "    </tr>\n",
       "    <tr>\n",
       "      <th>3</th>\n",
       "      <td>0</td>\n",
       "      <td>64900000.0</td>\n",
       "      <td>159.00</td>\n",
       "      <td>2015-07-24T00:00:00</td>\n",
       "      <td>3</td>\n",
       "      <td>NaN</td>\n",
       "      <td>14.0</td>\n",
       "      <td>NaN</td>\n",
       "      <td>9</td>\n",
       "      <td>NaN</td>\n",
       "      <td>...</td>\n",
       "      <td>NaN</td>\n",
       "      <td>0.0</td>\n",
       "      <td>Санкт-Петербург</td>\n",
       "      <td>28098.0</td>\n",
       "      <td>6800.0</td>\n",
       "      <td>2.0</td>\n",
       "      <td>84.0</td>\n",
       "      <td>3.0</td>\n",
       "      <td>234.0</td>\n",
       "      <td>424.0</td>\n",
       "    </tr>\n",
       "    <tr>\n",
       "      <th>4</th>\n",
       "      <td>2</td>\n",
       "      <td>10000000.0</td>\n",
       "      <td>100.00</td>\n",
       "      <td>2018-06-19T00:00:00</td>\n",
       "      <td>2</td>\n",
       "      <td>3.03</td>\n",
       "      <td>14.0</td>\n",
       "      <td>32.00</td>\n",
       "      <td>13</td>\n",
       "      <td>NaN</td>\n",
       "      <td>...</td>\n",
       "      <td>41.00</td>\n",
       "      <td>NaN</td>\n",
       "      <td>Санкт-Петербург</td>\n",
       "      <td>31856.0</td>\n",
       "      <td>8098.0</td>\n",
       "      <td>2.0</td>\n",
       "      <td>112.0</td>\n",
       "      <td>1.0</td>\n",
       "      <td>48.0</td>\n",
       "      <td>121.0</td>\n",
       "    </tr>\n",
       "    <tr>\n",
       "      <th>5</th>\n",
       "      <td>10</td>\n",
       "      <td>2890000.0</td>\n",
       "      <td>30.40</td>\n",
       "      <td>2018-09-10T00:00:00</td>\n",
       "      <td>1</td>\n",
       "      <td>NaN</td>\n",
       "      <td>12.0</td>\n",
       "      <td>14.40</td>\n",
       "      <td>5</td>\n",
       "      <td>NaN</td>\n",
       "      <td>...</td>\n",
       "      <td>9.10</td>\n",
       "      <td>NaN</td>\n",
       "      <td>городской посёлок Янино-1</td>\n",
       "      <td>NaN</td>\n",
       "      <td>NaN</td>\n",
       "      <td>NaN</td>\n",
       "      <td>NaN</td>\n",
       "      <td>NaN</td>\n",
       "      <td>NaN</td>\n",
       "      <td>55.0</td>\n",
       "    </tr>\n",
       "    <tr>\n",
       "      <th>6</th>\n",
       "      <td>6</td>\n",
       "      <td>3700000.0</td>\n",
       "      <td>37.30</td>\n",
       "      <td>2017-11-02T00:00:00</td>\n",
       "      <td>1</td>\n",
       "      <td>NaN</td>\n",
       "      <td>26.0</td>\n",
       "      <td>10.60</td>\n",
       "      <td>6</td>\n",
       "      <td>NaN</td>\n",
       "      <td>...</td>\n",
       "      <td>14.40</td>\n",
       "      <td>1.0</td>\n",
       "      <td>посёлок Парголово</td>\n",
       "      <td>52996.0</td>\n",
       "      <td>19143.0</td>\n",
       "      <td>0.0</td>\n",
       "      <td>NaN</td>\n",
       "      <td>0.0</td>\n",
       "      <td>NaN</td>\n",
       "      <td>155.0</td>\n",
       "    </tr>\n",
       "    <tr>\n",
       "      <th>7</th>\n",
       "      <td>5</td>\n",
       "      <td>7915000.0</td>\n",
       "      <td>71.60</td>\n",
       "      <td>2019-04-18T00:00:00</td>\n",
       "      <td>2</td>\n",
       "      <td>NaN</td>\n",
       "      <td>24.0</td>\n",
       "      <td>NaN</td>\n",
       "      <td>22</td>\n",
       "      <td>NaN</td>\n",
       "      <td>...</td>\n",
       "      <td>18.90</td>\n",
       "      <td>2.0</td>\n",
       "      <td>Санкт-Петербург</td>\n",
       "      <td>23982.0</td>\n",
       "      <td>11634.0</td>\n",
       "      <td>0.0</td>\n",
       "      <td>NaN</td>\n",
       "      <td>0.0</td>\n",
       "      <td>NaN</td>\n",
       "      <td>NaN</td>\n",
       "    </tr>\n",
       "    <tr>\n",
       "      <th>8</th>\n",
       "      <td>20</td>\n",
       "      <td>2900000.0</td>\n",
       "      <td>33.16</td>\n",
       "      <td>2018-05-23T00:00:00</td>\n",
       "      <td>1</td>\n",
       "      <td>NaN</td>\n",
       "      <td>27.0</td>\n",
       "      <td>15.43</td>\n",
       "      <td>26</td>\n",
       "      <td>NaN</td>\n",
       "      <td>...</td>\n",
       "      <td>8.81</td>\n",
       "      <td>NaN</td>\n",
       "      <td>посёлок Мурино</td>\n",
       "      <td>NaN</td>\n",
       "      <td>NaN</td>\n",
       "      <td>NaN</td>\n",
       "      <td>NaN</td>\n",
       "      <td>NaN</td>\n",
       "      <td>NaN</td>\n",
       "      <td>189.0</td>\n",
       "    </tr>\n",
       "    <tr>\n",
       "      <th>9</th>\n",
       "      <td>18</td>\n",
       "      <td>5400000.0</td>\n",
       "      <td>61.00</td>\n",
       "      <td>2017-02-26T00:00:00</td>\n",
       "      <td>3</td>\n",
       "      <td>2.50</td>\n",
       "      <td>9.0</td>\n",
       "      <td>43.60</td>\n",
       "      <td>7</td>\n",
       "      <td>NaN</td>\n",
       "      <td>...</td>\n",
       "      <td>6.50</td>\n",
       "      <td>2.0</td>\n",
       "      <td>Санкт-Петербург</td>\n",
       "      <td>50898.0</td>\n",
       "      <td>15008.0</td>\n",
       "      <td>0.0</td>\n",
       "      <td>NaN</td>\n",
       "      <td>0.0</td>\n",
       "      <td>NaN</td>\n",
       "      <td>289.0</td>\n",
       "    </tr>\n",
       "  </tbody>\n",
       "</table>\n",
       "<p>10 rows × 22 columns</p>\n",
       "</div>"
      ],
      "text/plain": [
       "   total_images  last_price  total_area first_day_exposition  rooms  \\\n",
       "0            20  13000000.0      108.00  2019-03-07T00:00:00      3   \n",
       "1             7   3350000.0       40.40  2018-12-04T00:00:00      1   \n",
       "2            10   5196000.0       56.00  2015-08-20T00:00:00      2   \n",
       "3             0  64900000.0      159.00  2015-07-24T00:00:00      3   \n",
       "4             2  10000000.0      100.00  2018-06-19T00:00:00      2   \n",
       "5            10   2890000.0       30.40  2018-09-10T00:00:00      1   \n",
       "6             6   3700000.0       37.30  2017-11-02T00:00:00      1   \n",
       "7             5   7915000.0       71.60  2019-04-18T00:00:00      2   \n",
       "8            20   2900000.0       33.16  2018-05-23T00:00:00      1   \n",
       "9            18   5400000.0       61.00  2017-02-26T00:00:00      3   \n",
       "\n",
       "   ceiling_height  floors_total  living_area  floor is_apartment  ...  \\\n",
       "0            2.70          16.0        51.00      8          NaN  ...   \n",
       "1             NaN          11.0        18.60      1          NaN  ...   \n",
       "2             NaN           5.0        34.30      4          NaN  ...   \n",
       "3             NaN          14.0          NaN      9          NaN  ...   \n",
       "4            3.03          14.0        32.00     13          NaN  ...   \n",
       "5             NaN          12.0        14.40      5          NaN  ...   \n",
       "6             NaN          26.0        10.60      6          NaN  ...   \n",
       "7             NaN          24.0          NaN     22          NaN  ...   \n",
       "8             NaN          27.0        15.43     26          NaN  ...   \n",
       "9            2.50           9.0        43.60      7          NaN  ...   \n",
       "\n",
       "   kitchen_area  balcony              locality_name  airports_nearest  \\\n",
       "0         25.00      NaN            Санкт-Петербург           18863.0   \n",
       "1         11.00      2.0             посёлок Шушары           12817.0   \n",
       "2          8.30      0.0            Санкт-Петербург           21741.0   \n",
       "3           NaN      0.0            Санкт-Петербург           28098.0   \n",
       "4         41.00      NaN            Санкт-Петербург           31856.0   \n",
       "5          9.10      NaN  городской посёлок Янино-1               NaN   \n",
       "6         14.40      1.0          посёлок Парголово           52996.0   \n",
       "7         18.90      2.0            Санкт-Петербург           23982.0   \n",
       "8          8.81      NaN             посёлок Мурино               NaN   \n",
       "9          6.50      2.0            Санкт-Петербург           50898.0   \n",
       "\n",
       "  cityCenters_nearest  parks_around3000  parks_nearest  ponds_around3000  \\\n",
       "0             16028.0               1.0          482.0               2.0   \n",
       "1             18603.0               0.0            NaN               0.0   \n",
       "2             13933.0               1.0           90.0               2.0   \n",
       "3              6800.0               2.0           84.0               3.0   \n",
       "4              8098.0               2.0          112.0               1.0   \n",
       "5                 NaN               NaN            NaN               NaN   \n",
       "6             19143.0               0.0            NaN               0.0   \n",
       "7             11634.0               0.0            NaN               0.0   \n",
       "8                 NaN               NaN            NaN               NaN   \n",
       "9             15008.0               0.0            NaN               0.0   \n",
       "\n",
       "   ponds_nearest  days_exposition  \n",
       "0          755.0              NaN  \n",
       "1            NaN             81.0  \n",
       "2          574.0            558.0  \n",
       "3          234.0            424.0  \n",
       "4           48.0            121.0  \n",
       "5            NaN             55.0  \n",
       "6            NaN            155.0  \n",
       "7            NaN              NaN  \n",
       "8            NaN            189.0  \n",
       "9            NaN            289.0  \n",
       "\n",
       "[10 rows x 22 columns]"
      ]
     },
     "execution_count": 6,
     "metadata": {},
     "output_type": "execute_result"
    }
   ],
   "source": [
    "# получение первых 10 строк таблицы df\n",
    "df.head(10)"
   ]
  },
  {
   "cell_type": "markdown",
   "metadata": {},
   "source": [
    "Снова запросим общую информацию о таблице:"
   ]
  },
  {
   "cell_type": "code",
   "execution_count": 7,
   "metadata": {},
   "outputs": [
    {
     "name": "stdout",
     "output_type": "stream",
     "text": [
      "<class 'pandas.core.frame.DataFrame'>\n",
      "RangeIndex: 23699 entries, 0 to 23698\n",
      "Data columns (total 22 columns):\n",
      " #   Column                Non-Null Count  Dtype  \n",
      "---  ------                --------------  -----  \n",
      " 0   total_images          23699 non-null  int64  \n",
      " 1   last_price            23699 non-null  float64\n",
      " 2   total_area            23699 non-null  float64\n",
      " 3   first_day_exposition  23699 non-null  object \n",
      " 4   rooms                 23699 non-null  int64  \n",
      " 5   ceiling_height        14504 non-null  float64\n",
      " 6   floors_total          23613 non-null  float64\n",
      " 7   living_area           21796 non-null  float64\n",
      " 8   floor                 23699 non-null  int64  \n",
      " 9   is_apartment          2775 non-null   object \n",
      " 10  studio                23699 non-null  bool   \n",
      " 11  open_plan             23699 non-null  bool   \n",
      " 12  kitchen_area          21421 non-null  float64\n",
      " 13  balcony               12180 non-null  float64\n",
      " 14  locality_name         23650 non-null  object \n",
      " 15  airports_nearest      18157 non-null  float64\n",
      " 16  cityCenters_nearest   18180 non-null  float64\n",
      " 17  parks_around3000      18181 non-null  float64\n",
      " 18  parks_nearest         8079 non-null   float64\n",
      " 19  ponds_around3000      18181 non-null  float64\n",
      " 20  ponds_nearest         9110 non-null   float64\n",
      " 21  days_exposition       20518 non-null  float64\n",
      "dtypes: bool(2), float64(14), int64(3), object(3)\n",
      "memory usage: 3.7+ MB\n"
     ]
    }
   ],
   "source": [
    "# получение общей информации о данных в таблице df\n",
    "df.info()"
   ]
  },
  {
   "cell_type": "markdown",
   "metadata": {},
   "source": [
    "Оценим числовые переменные:"
   ]
  },
  {
   "cell_type": "code",
   "execution_count": 8,
   "metadata": {},
   "outputs": [
    {
     "data": {
      "text/html": [
       "<div>\n",
       "<style scoped>\n",
       "    .dataframe tbody tr th:only-of-type {\n",
       "        vertical-align: middle;\n",
       "    }\n",
       "\n",
       "    .dataframe tbody tr th {\n",
       "        vertical-align: top;\n",
       "    }\n",
       "\n",
       "    .dataframe thead th {\n",
       "        text-align: right;\n",
       "    }\n",
       "</style>\n",
       "<table border=\"1\" class=\"dataframe\">\n",
       "  <thead>\n",
       "    <tr style=\"text-align: right;\">\n",
       "      <th></th>\n",
       "      <th>total_images</th>\n",
       "      <th>last_price</th>\n",
       "      <th>total_area</th>\n",
       "      <th>rooms</th>\n",
       "      <th>ceiling_height</th>\n",
       "      <th>floors_total</th>\n",
       "      <th>living_area</th>\n",
       "      <th>floor</th>\n",
       "      <th>kitchen_area</th>\n",
       "      <th>balcony</th>\n",
       "      <th>airports_nearest</th>\n",
       "      <th>cityCenters_nearest</th>\n",
       "      <th>parks_around3000</th>\n",
       "      <th>parks_nearest</th>\n",
       "      <th>ponds_around3000</th>\n",
       "      <th>ponds_nearest</th>\n",
       "      <th>days_exposition</th>\n",
       "    </tr>\n",
       "  </thead>\n",
       "  <tbody>\n",
       "    <tr>\n",
       "      <th>count</th>\n",
       "      <td>23699.000000</td>\n",
       "      <td>2.369900e+04</td>\n",
       "      <td>23699.000000</td>\n",
       "      <td>23699.000000</td>\n",
       "      <td>14504.000000</td>\n",
       "      <td>23613.000000</td>\n",
       "      <td>21796.000000</td>\n",
       "      <td>23699.000000</td>\n",
       "      <td>21421.000000</td>\n",
       "      <td>12180.000000</td>\n",
       "      <td>18157.000000</td>\n",
       "      <td>18180.000000</td>\n",
       "      <td>18181.000000</td>\n",
       "      <td>8079.000000</td>\n",
       "      <td>18181.000000</td>\n",
       "      <td>9110.000000</td>\n",
       "      <td>20518.000000</td>\n",
       "    </tr>\n",
       "    <tr>\n",
       "      <th>mean</th>\n",
       "      <td>9.858475</td>\n",
       "      <td>6.541549e+06</td>\n",
       "      <td>60.348651</td>\n",
       "      <td>2.070636</td>\n",
       "      <td>2.771499</td>\n",
       "      <td>10.673824</td>\n",
       "      <td>34.457852</td>\n",
       "      <td>5.892358</td>\n",
       "      <td>10.569807</td>\n",
       "      <td>1.150082</td>\n",
       "      <td>28793.672193</td>\n",
       "      <td>14191.277833</td>\n",
       "      <td>0.611408</td>\n",
       "      <td>490.804555</td>\n",
       "      <td>0.770255</td>\n",
       "      <td>517.980900</td>\n",
       "      <td>180.888634</td>\n",
       "    </tr>\n",
       "    <tr>\n",
       "      <th>std</th>\n",
       "      <td>5.682529</td>\n",
       "      <td>1.088701e+07</td>\n",
       "      <td>35.654083</td>\n",
       "      <td>1.078405</td>\n",
       "      <td>1.261056</td>\n",
       "      <td>6.597173</td>\n",
       "      <td>22.030445</td>\n",
       "      <td>4.885249</td>\n",
       "      <td>5.905438</td>\n",
       "      <td>1.071300</td>\n",
       "      <td>12630.880622</td>\n",
       "      <td>8608.386210</td>\n",
       "      <td>0.802074</td>\n",
       "      <td>342.317995</td>\n",
       "      <td>0.938346</td>\n",
       "      <td>277.720643</td>\n",
       "      <td>219.727988</td>\n",
       "    </tr>\n",
       "    <tr>\n",
       "      <th>min</th>\n",
       "      <td>0.000000</td>\n",
       "      <td>1.219000e+04</td>\n",
       "      <td>12.000000</td>\n",
       "      <td>0.000000</td>\n",
       "      <td>1.000000</td>\n",
       "      <td>1.000000</td>\n",
       "      <td>2.000000</td>\n",
       "      <td>1.000000</td>\n",
       "      <td>1.300000</td>\n",
       "      <td>0.000000</td>\n",
       "      <td>0.000000</td>\n",
       "      <td>181.000000</td>\n",
       "      <td>0.000000</td>\n",
       "      <td>1.000000</td>\n",
       "      <td>0.000000</td>\n",
       "      <td>13.000000</td>\n",
       "      <td>1.000000</td>\n",
       "    </tr>\n",
       "    <tr>\n",
       "      <th>25%</th>\n",
       "      <td>6.000000</td>\n",
       "      <td>3.400000e+06</td>\n",
       "      <td>40.000000</td>\n",
       "      <td>1.000000</td>\n",
       "      <td>2.520000</td>\n",
       "      <td>5.000000</td>\n",
       "      <td>18.600000</td>\n",
       "      <td>2.000000</td>\n",
       "      <td>7.000000</td>\n",
       "      <td>0.000000</td>\n",
       "      <td>18585.000000</td>\n",
       "      <td>9238.000000</td>\n",
       "      <td>0.000000</td>\n",
       "      <td>288.000000</td>\n",
       "      <td>0.000000</td>\n",
       "      <td>294.000000</td>\n",
       "      <td>45.000000</td>\n",
       "    </tr>\n",
       "    <tr>\n",
       "      <th>50%</th>\n",
       "      <td>9.000000</td>\n",
       "      <td>4.650000e+06</td>\n",
       "      <td>52.000000</td>\n",
       "      <td>2.000000</td>\n",
       "      <td>2.650000</td>\n",
       "      <td>9.000000</td>\n",
       "      <td>30.000000</td>\n",
       "      <td>4.000000</td>\n",
       "      <td>9.100000</td>\n",
       "      <td>1.000000</td>\n",
       "      <td>26726.000000</td>\n",
       "      <td>13098.500000</td>\n",
       "      <td>0.000000</td>\n",
       "      <td>455.000000</td>\n",
       "      <td>1.000000</td>\n",
       "      <td>502.000000</td>\n",
       "      <td>95.000000</td>\n",
       "    </tr>\n",
       "    <tr>\n",
       "      <th>75%</th>\n",
       "      <td>14.000000</td>\n",
       "      <td>6.800000e+06</td>\n",
       "      <td>69.900000</td>\n",
       "      <td>3.000000</td>\n",
       "      <td>2.800000</td>\n",
       "      <td>16.000000</td>\n",
       "      <td>42.300000</td>\n",
       "      <td>8.000000</td>\n",
       "      <td>12.000000</td>\n",
       "      <td>2.000000</td>\n",
       "      <td>37273.000000</td>\n",
       "      <td>16293.000000</td>\n",
       "      <td>1.000000</td>\n",
       "      <td>612.000000</td>\n",
       "      <td>1.000000</td>\n",
       "      <td>729.000000</td>\n",
       "      <td>232.000000</td>\n",
       "    </tr>\n",
       "    <tr>\n",
       "      <th>max</th>\n",
       "      <td>50.000000</td>\n",
       "      <td>7.630000e+08</td>\n",
       "      <td>900.000000</td>\n",
       "      <td>19.000000</td>\n",
       "      <td>100.000000</td>\n",
       "      <td>60.000000</td>\n",
       "      <td>409.700000</td>\n",
       "      <td>33.000000</td>\n",
       "      <td>112.000000</td>\n",
       "      <td>5.000000</td>\n",
       "      <td>84869.000000</td>\n",
       "      <td>65968.000000</td>\n",
       "      <td>3.000000</td>\n",
       "      <td>3190.000000</td>\n",
       "      <td>3.000000</td>\n",
       "      <td>1344.000000</td>\n",
       "      <td>1580.000000</td>\n",
       "    </tr>\n",
       "  </tbody>\n",
       "</table>\n",
       "</div>"
      ],
      "text/plain": [
       "       total_images    last_price    total_area         rooms  ceiling_height  \\\n",
       "count  23699.000000  2.369900e+04  23699.000000  23699.000000    14504.000000   \n",
       "mean       9.858475  6.541549e+06     60.348651      2.070636        2.771499   \n",
       "std        5.682529  1.088701e+07     35.654083      1.078405        1.261056   \n",
       "min        0.000000  1.219000e+04     12.000000      0.000000        1.000000   \n",
       "25%        6.000000  3.400000e+06     40.000000      1.000000        2.520000   \n",
       "50%        9.000000  4.650000e+06     52.000000      2.000000        2.650000   \n",
       "75%       14.000000  6.800000e+06     69.900000      3.000000        2.800000   \n",
       "max       50.000000  7.630000e+08    900.000000     19.000000      100.000000   \n",
       "\n",
       "       floors_total   living_area         floor  kitchen_area       balcony  \\\n",
       "count  23613.000000  21796.000000  23699.000000  21421.000000  12180.000000   \n",
       "mean      10.673824     34.457852      5.892358     10.569807      1.150082   \n",
       "std        6.597173     22.030445      4.885249      5.905438      1.071300   \n",
       "min        1.000000      2.000000      1.000000      1.300000      0.000000   \n",
       "25%        5.000000     18.600000      2.000000      7.000000      0.000000   \n",
       "50%        9.000000     30.000000      4.000000      9.100000      1.000000   \n",
       "75%       16.000000     42.300000      8.000000     12.000000      2.000000   \n",
       "max       60.000000    409.700000     33.000000    112.000000      5.000000   \n",
       "\n",
       "       airports_nearest  cityCenters_nearest  parks_around3000  parks_nearest  \\\n",
       "count      18157.000000         18180.000000      18181.000000    8079.000000   \n",
       "mean       28793.672193         14191.277833          0.611408     490.804555   \n",
       "std        12630.880622          8608.386210          0.802074     342.317995   \n",
       "min            0.000000           181.000000          0.000000       1.000000   \n",
       "25%        18585.000000          9238.000000          0.000000     288.000000   \n",
       "50%        26726.000000         13098.500000          0.000000     455.000000   \n",
       "75%        37273.000000         16293.000000          1.000000     612.000000   \n",
       "max        84869.000000         65968.000000          3.000000    3190.000000   \n",
       "\n",
       "       ponds_around3000  ponds_nearest  days_exposition  \n",
       "count      18181.000000    9110.000000     20518.000000  \n",
       "mean           0.770255     517.980900       180.888634  \n",
       "std            0.938346     277.720643       219.727988  \n",
       "min            0.000000      13.000000         1.000000  \n",
       "25%            0.000000     294.000000        45.000000  \n",
       "50%            1.000000     502.000000        95.000000  \n",
       "75%            1.000000     729.000000       232.000000  \n",
       "max            3.000000    1344.000000      1580.000000  "
      ]
     },
     "execution_count": 8,
     "metadata": {},
     "output_type": "execute_result"
    }
   ],
   "source": [
    "# оценка числовых переменных\n",
    "df.describe()"
   ]
  },
  {
   "cell_type": "markdown",
   "metadata": {},
   "source": [
    "Итак, в таблице 22 столбца: в 17 столбцах — числовые данные (в трёх — целочисленные, в четырнадцати — вещественные), в трёх столбцах — данные типа object и ещё два столбца булевых значений. При этом часть вещественных данных удобнее трансформировать в целочисленные.\n",
    "\n",
    "Данные сгруппированы по следующим столбцам:\n",
    "\n",
    "* `total_images` — число фотографий квартиры в объявлении\n",
    "*` last_price` — цена на момент снятия с публикации\n",
    "* `total_area` — площадь квартиры в квадратных метрах (м²)\n",
    "* `first_day_exposition` — дата публикации\n",
    "* `rooms` — число комнат\n",
    "* `ceiling_height` — высота потолков (м)\n",
    "* `floors_total` — всего этажей в доме\n",
    "* `living_area` — жилая площадь в квадратных метрах (м²)\n",
    "* `floor` — этаж\n",
    "* `is_apartment` — апартаменты (булев тип)\n",
    "* `studio` — квартира-студия (булев тип)\n",
    "* `open_plan` — свободная планировка (булев тип)\n",
    "* `kitchen_area` — площадь кухни в квадратных метрах (м²)\n",
    "* `balcony` — число балконов\n",
    "* `locality_name` — название населённого пункта\n",
    "* `airports_nearest` — расстояние до ближайшего аэропорта в метрах (м)\n",
    "* `cityCenters_nearest` — расстояние до центра города (м)\n",
    "* `parks_around3000` — число парков в радиусе 3 км\n",
    "* `parks_nearest` — расстояние до ближайшего парка (м)\n",
    "* `ponds_around3000` — число водоёмов в радиусе 3 км\n",
    "* `ponds_nearest` — расстояние до ближайшего водоёма (м)\n",
    "* `days_exposition` — сколько дней было размещено объявление (от публикации до снятия)\n",
    "\n",
    "В названиях колонок есть нарушения стиля:\n",
    "* `is_apartment` — нужно убрать `is`\n",
    "* `cityCenters_nearest` — добавить нижнее подчёркивание и убрать прописную букву\n",
    "* `parks_around3000` — добавить нижнее подчёркивание и поменять 3000 на 3km\n",
    "* `ponds_around3000` — аналогично.\n",
    "\n",
    "\n",
    "Также есть другие проблемы с данными:\n",
    "* `first_day_exposition` — указаны часы, минуты и секунды. Их надо удалить.\n",
    "* `rooms` — странные данные в 0 комнат.\n",
    "* `ceiling_height` — также ошибочные данные со значениями 1 и 100 м.\n",
    "* `living_area` — не может иметь значения в 2 м².\n",
    "* `kitchen_area` — ошибочные значения в 1.3 м².\n",
    "* `airports_nearest` — расстояние до ближайшего аэропорта обычно измеряют в километрах (км). Не может быть значения 0.\n",
    "* `cityCenters_nearest` — аналогично нужно перевести в км.\n",
    "* `last_price`, `floors_total`, `balcony`, `parks_around3000`, `ponds_around3000`, `days_exposition` — преобразуем дробные числа в целые.\n",
    "* в ряде столбцов присутствуют False, NaN.\n",
    "\n",
    "Ряд столбцов расположен хаотично. Например, число этажей в доме и этаж самой квартиры. Эти столбцы нужно перегруппировать.\n",
    "\n",
    "Вызывает вопросы значение `days_exposition` в 4 года.\n",
    "\n",
    "\n",
    "Количество значений в столбцах различается. В столбце `ponds_nearest` — 2775 значений, а максимум — 23699. Не во всех столбцах должны быть значения. Однако, очевидно, пропущены данные в столбцах `ceiling_height`, `floors_total`, `living_area`, `kitchen_area`, `balcony`, `locality_name`, `airports_nearest`, `cityCenters_nearest`, `parks_nearest`, `ponds_nearest`, `days_exposition`.\n",
    "\n",
    "Доля пропусков высока и предстоит большая работа."
   ]
  },
  {
   "cell_type": "markdown",
   "metadata": {},
   "source": [
    "### Вывод"
   ]
  },
  {
   "cell_type": "markdown",
   "metadata": {},
   "source": [
    "Мы имеем данные в 22 столбцах. \n",
    "В них есть нарушения стиля, большое количество пропусков, лишние и аномальные значения, хаотичное расположение столбцов с близким смыслом. Предстоит большая работа по предобработке данных."
   ]
  },
  {
   "cell_type": "markdown",
   "metadata": {},
   "source": [
    "## Предобработка данных"
   ]
  },
  {
   "cell_type": "markdown",
   "metadata": {},
   "source": [
    "Исправим заголовки столбцов и проведём различные трансформации с самими данными."
   ]
  },
  {
   "cell_type": "markdown",
   "metadata": {},
   "source": [
    "### Изменение заголовков столбцов"
   ]
  },
  {
   "cell_type": "markdown",
   "metadata": {},
   "source": [
    "Приведём названия столбцов в соответствие с хорошим стилем:\n",
    "* уберём `is` из `is_apartment`,\n",
    "* добавим нижнее подчёркивание и уберём прописную букву из `cityCenters_nearest`,\n",
    "* добавим нижнее подчёркивание и поменяем 3000 на 3km в `parks_around3000`,\n",
    "* добавим нижнее подчёркивание и поменяем 3000 на 3km в `ponds_around3000`.\n",
    "\n",
    "В названиях колонок есть нарушения стиля:\n",
    "* `is_apartment` — нужно убрать `is`\n",
    "* `cityCenters_nearest` — добавить нижнее подчёркивание и убрать прописную букву\n",
    "* `parks_around3000` — добавить нижнее подчёркивание и поменять 3000 на 3km\n",
    "* `ponds_around3000` — аналогично.\n"
   ]
  },
  {
   "cell_type": "code",
   "execution_count": 9,
   "metadata": {},
   "outputs": [],
   "source": [
    "# переименование столбцов\n",
    "df = df.rename(columns = {'is_apartment':'apartment',\\\n",
    "'cityCenters_nearest':'city_centers_nearest', 'parks_around3000':'parks_around_3km',\\\n",
    "'ponds_around3000':'ponds_around_3km'})"
   ]
  },
  {
   "cell_type": "markdown",
   "metadata": {},
   "source": [
    "Проверим полученный результат. Для этого ещё раз выведем на экран названия столбцов:"
   ]
  },
  {
   "cell_type": "code",
   "execution_count": 10,
   "metadata": {},
   "outputs": [
    {
     "data": {
      "text/plain": [
       "Index(['total_images', 'last_price', 'total_area', 'first_day_exposition',\n",
       "       'rooms', 'ceiling_height', 'floors_total', 'living_area', 'floor',\n",
       "       'apartment', 'studio', 'open_plan', 'kitchen_area', 'balcony',\n",
       "       'locality_name', 'airports_nearest', 'city_centers_nearest',\n",
       "       'parks_around_3km', 'parks_nearest', 'ponds_around_3km',\n",
       "       'ponds_nearest', 'days_exposition'],\n",
       "      dtype='object')"
      ]
     },
     "execution_count": 10,
     "metadata": {},
     "output_type": "execute_result"
    }
   ],
   "source": [
    "# проверка результата - перечень названий столбцов\n",
    "df.columns"
   ]
  },
  {
   "cell_type": "markdown",
   "metadata": {},
   "source": [
    "С заголовками разобрались. Двигаемся далее."
   ]
  },
  {
   "cell_type": "markdown",
   "metadata": {},
   "source": [
    "### Исследование и заполнение пропусков в данных"
   ]
  },
  {
   "cell_type": "markdown",
   "metadata": {},
   "source": [
    "Посчитаем, сколько в таблице пропущенных значений. Для этого достаточно двух методов `pandas`:"
   ]
  },
  {
   "cell_type": "code",
   "execution_count": 11,
   "metadata": {},
   "outputs": [
    {
     "data": {
      "text/plain": [
       "total_images            0.000000\n",
       "last_price              0.000000\n",
       "total_area              0.000000\n",
       "first_day_exposition    0.000000\n",
       "rooms                   0.000000\n",
       "ceiling_height          0.387991\n",
       "floors_total            0.003629\n",
       "living_area             0.080299\n",
       "floor                   0.000000\n",
       "apartment               0.882906\n",
       "studio                  0.000000\n",
       "open_plan               0.000000\n",
       "kitchen_area            0.096122\n",
       "balcony                 0.486054\n",
       "locality_name           0.002068\n",
       "airports_nearest        0.233850\n",
       "city_centers_nearest    0.232879\n",
       "parks_around_3km        0.232837\n",
       "parks_nearest           0.659100\n",
       "ponds_around_3km        0.232837\n",
       "ponds_nearest           0.615596\n",
       "days_exposition         0.134225\n",
       "dtype: float64"
      ]
     },
     "execution_count": 11,
     "metadata": {},
     "output_type": "execute_result"
    }
   ],
   "source": [
    "# подсчёт пропусков\n",
    "df.isna().mean()"
   ]
  },
  {
   "cell_type": "markdown",
   "metadata": {},
   "source": [
    "Итак, количество пропущенных строк в столбцах колеблется от 20924 до 49. Не во всех столбцах должны быть значения. Однако, очевидно, пропущены данные в столбцах `ceiling_height`, `floors_total`, `living_area`, `kitchen_area`, `balcony`, `locality_name`, `airports_nearest`, `cityCenters_nearest`, `parks_nearest`, `ponds_nearest`, `days_exposition`."
   ]
  },
  {
   "cell_type": "markdown",
   "metadata": {},
   "source": [
    "Столбец `ceiling_height` (высота потолков в метрах). Посмотрим, в каких строках присутствуют пропуски и не вызваны ли они чем-нибудь. Выведем на экран 25 строчек с пропущенными данными в этом столбце."
   ]
  },
  {
   "cell_type": "code",
   "execution_count": 12,
   "metadata": {},
   "outputs": [
    {
     "data": {
      "text/html": [
       "<div>\n",
       "<style scoped>\n",
       "    .dataframe tbody tr th:only-of-type {\n",
       "        vertical-align: middle;\n",
       "    }\n",
       "\n",
       "    .dataframe tbody tr th {\n",
       "        vertical-align: top;\n",
       "    }\n",
       "\n",
       "    .dataframe thead th {\n",
       "        text-align: right;\n",
       "    }\n",
       "</style>\n",
       "<table border=\"1\" class=\"dataframe\">\n",
       "  <thead>\n",
       "    <tr style=\"text-align: right;\">\n",
       "      <th></th>\n",
       "      <th>total_images</th>\n",
       "      <th>last_price</th>\n",
       "      <th>total_area</th>\n",
       "      <th>first_day_exposition</th>\n",
       "      <th>rooms</th>\n",
       "      <th>ceiling_height</th>\n",
       "      <th>floors_total</th>\n",
       "      <th>living_area</th>\n",
       "      <th>floor</th>\n",
       "      <th>apartment</th>\n",
       "      <th>...</th>\n",
       "      <th>kitchen_area</th>\n",
       "      <th>balcony</th>\n",
       "      <th>locality_name</th>\n",
       "      <th>airports_nearest</th>\n",
       "      <th>city_centers_nearest</th>\n",
       "      <th>parks_around_3km</th>\n",
       "      <th>parks_nearest</th>\n",
       "      <th>ponds_around_3km</th>\n",
       "      <th>ponds_nearest</th>\n",
       "      <th>days_exposition</th>\n",
       "    </tr>\n",
       "  </thead>\n",
       "  <tbody>\n",
       "    <tr>\n",
       "      <th>1</th>\n",
       "      <td>7</td>\n",
       "      <td>3350000.0</td>\n",
       "      <td>40.40</td>\n",
       "      <td>2018-12-04T00:00:00</td>\n",
       "      <td>1</td>\n",
       "      <td>NaN</td>\n",
       "      <td>11.0</td>\n",
       "      <td>18.60</td>\n",
       "      <td>1</td>\n",
       "      <td>NaN</td>\n",
       "      <td>...</td>\n",
       "      <td>11.00</td>\n",
       "      <td>2.0</td>\n",
       "      <td>посёлок Шушары</td>\n",
       "      <td>12817.0</td>\n",
       "      <td>18603.0</td>\n",
       "      <td>0.0</td>\n",
       "      <td>NaN</td>\n",
       "      <td>0.0</td>\n",
       "      <td>NaN</td>\n",
       "      <td>81.0</td>\n",
       "    </tr>\n",
       "    <tr>\n",
       "      <th>2</th>\n",
       "      <td>10</td>\n",
       "      <td>5196000.0</td>\n",
       "      <td>56.00</td>\n",
       "      <td>2015-08-20T00:00:00</td>\n",
       "      <td>2</td>\n",
       "      <td>NaN</td>\n",
       "      <td>5.0</td>\n",
       "      <td>34.30</td>\n",
       "      <td>4</td>\n",
       "      <td>NaN</td>\n",
       "      <td>...</td>\n",
       "      <td>8.30</td>\n",
       "      <td>0.0</td>\n",
       "      <td>Санкт-Петербург</td>\n",
       "      <td>21741.0</td>\n",
       "      <td>13933.0</td>\n",
       "      <td>1.0</td>\n",
       "      <td>90.0</td>\n",
       "      <td>2.0</td>\n",
       "      <td>574.0</td>\n",
       "      <td>558.0</td>\n",
       "    </tr>\n",
       "    <tr>\n",
       "      <th>3</th>\n",
       "      <td>0</td>\n",
       "      <td>64900000.0</td>\n",
       "      <td>159.00</td>\n",
       "      <td>2015-07-24T00:00:00</td>\n",
       "      <td>3</td>\n",
       "      <td>NaN</td>\n",
       "      <td>14.0</td>\n",
       "      <td>NaN</td>\n",
       "      <td>9</td>\n",
       "      <td>NaN</td>\n",
       "      <td>...</td>\n",
       "      <td>NaN</td>\n",
       "      <td>0.0</td>\n",
       "      <td>Санкт-Петербург</td>\n",
       "      <td>28098.0</td>\n",
       "      <td>6800.0</td>\n",
       "      <td>2.0</td>\n",
       "      <td>84.0</td>\n",
       "      <td>3.0</td>\n",
       "      <td>234.0</td>\n",
       "      <td>424.0</td>\n",
       "    </tr>\n",
       "    <tr>\n",
       "      <th>5</th>\n",
       "      <td>10</td>\n",
       "      <td>2890000.0</td>\n",
       "      <td>30.40</td>\n",
       "      <td>2018-09-10T00:00:00</td>\n",
       "      <td>1</td>\n",
       "      <td>NaN</td>\n",
       "      <td>12.0</td>\n",
       "      <td>14.40</td>\n",
       "      <td>5</td>\n",
       "      <td>NaN</td>\n",
       "      <td>...</td>\n",
       "      <td>9.10</td>\n",
       "      <td>NaN</td>\n",
       "      <td>городской посёлок Янино-1</td>\n",
       "      <td>NaN</td>\n",
       "      <td>NaN</td>\n",
       "      <td>NaN</td>\n",
       "      <td>NaN</td>\n",
       "      <td>NaN</td>\n",
       "      <td>NaN</td>\n",
       "      <td>55.0</td>\n",
       "    </tr>\n",
       "    <tr>\n",
       "      <th>6</th>\n",
       "      <td>6</td>\n",
       "      <td>3700000.0</td>\n",
       "      <td>37.30</td>\n",
       "      <td>2017-11-02T00:00:00</td>\n",
       "      <td>1</td>\n",
       "      <td>NaN</td>\n",
       "      <td>26.0</td>\n",
       "      <td>10.60</td>\n",
       "      <td>6</td>\n",
       "      <td>NaN</td>\n",
       "      <td>...</td>\n",
       "      <td>14.40</td>\n",
       "      <td>1.0</td>\n",
       "      <td>посёлок Парголово</td>\n",
       "      <td>52996.0</td>\n",
       "      <td>19143.0</td>\n",
       "      <td>0.0</td>\n",
       "      <td>NaN</td>\n",
       "      <td>0.0</td>\n",
       "      <td>NaN</td>\n",
       "      <td>155.0</td>\n",
       "    </tr>\n",
       "    <tr>\n",
       "      <th>7</th>\n",
       "      <td>5</td>\n",
       "      <td>7915000.0</td>\n",
       "      <td>71.60</td>\n",
       "      <td>2019-04-18T00:00:00</td>\n",
       "      <td>2</td>\n",
       "      <td>NaN</td>\n",
       "      <td>24.0</td>\n",
       "      <td>NaN</td>\n",
       "      <td>22</td>\n",
       "      <td>NaN</td>\n",
       "      <td>...</td>\n",
       "      <td>18.90</td>\n",
       "      <td>2.0</td>\n",
       "      <td>Санкт-Петербург</td>\n",
       "      <td>23982.0</td>\n",
       "      <td>11634.0</td>\n",
       "      <td>0.0</td>\n",
       "      <td>NaN</td>\n",
       "      <td>0.0</td>\n",
       "      <td>NaN</td>\n",
       "      <td>NaN</td>\n",
       "    </tr>\n",
       "    <tr>\n",
       "      <th>8</th>\n",
       "      <td>20</td>\n",
       "      <td>2900000.0</td>\n",
       "      <td>33.16</td>\n",
       "      <td>2018-05-23T00:00:00</td>\n",
       "      <td>1</td>\n",
       "      <td>NaN</td>\n",
       "      <td>27.0</td>\n",
       "      <td>15.43</td>\n",
       "      <td>26</td>\n",
       "      <td>NaN</td>\n",
       "      <td>...</td>\n",
       "      <td>8.81</td>\n",
       "      <td>NaN</td>\n",
       "      <td>посёлок Мурино</td>\n",
       "      <td>NaN</td>\n",
       "      <td>NaN</td>\n",
       "      <td>NaN</td>\n",
       "      <td>NaN</td>\n",
       "      <td>NaN</td>\n",
       "      <td>NaN</td>\n",
       "      <td>189.0</td>\n",
       "    </tr>\n",
       "    <tr>\n",
       "      <th>11</th>\n",
       "      <td>9</td>\n",
       "      <td>3300000.0</td>\n",
       "      <td>44.00</td>\n",
       "      <td>2018-08-27T00:00:00</td>\n",
       "      <td>2</td>\n",
       "      <td>NaN</td>\n",
       "      <td>5.0</td>\n",
       "      <td>31.00</td>\n",
       "      <td>4</td>\n",
       "      <td>False</td>\n",
       "      <td>...</td>\n",
       "      <td>6.00</td>\n",
       "      <td>1.0</td>\n",
       "      <td>Ломоносов</td>\n",
       "      <td>48252.0</td>\n",
       "      <td>51677.0</td>\n",
       "      <td>0.0</td>\n",
       "      <td>NaN</td>\n",
       "      <td>0.0</td>\n",
       "      <td>NaN</td>\n",
       "      <td>7.0</td>\n",
       "    </tr>\n",
       "    <tr>\n",
       "      <th>12</th>\n",
       "      <td>10</td>\n",
       "      <td>3890000.0</td>\n",
       "      <td>54.00</td>\n",
       "      <td>2016-06-30T00:00:00</td>\n",
       "      <td>2</td>\n",
       "      <td>NaN</td>\n",
       "      <td>5.0</td>\n",
       "      <td>30.00</td>\n",
       "      <td>5</td>\n",
       "      <td>NaN</td>\n",
       "      <td>...</td>\n",
       "      <td>9.00</td>\n",
       "      <td>0.0</td>\n",
       "      <td>Сертолово</td>\n",
       "      <td>NaN</td>\n",
       "      <td>NaN</td>\n",
       "      <td>NaN</td>\n",
       "      <td>NaN</td>\n",
       "      <td>NaN</td>\n",
       "      <td>NaN</td>\n",
       "      <td>90.0</td>\n",
       "    </tr>\n",
       "    <tr>\n",
       "      <th>14</th>\n",
       "      <td>1</td>\n",
       "      <td>4400000.0</td>\n",
       "      <td>36.00</td>\n",
       "      <td>2016-06-23T00:00:00</td>\n",
       "      <td>1</td>\n",
       "      <td>NaN</td>\n",
       "      <td>6.0</td>\n",
       "      <td>17.00</td>\n",
       "      <td>1</td>\n",
       "      <td>NaN</td>\n",
       "      <td>...</td>\n",
       "      <td>8.00</td>\n",
       "      <td>0.0</td>\n",
       "      <td>Пушкин</td>\n",
       "      <td>20782.0</td>\n",
       "      <td>30759.0</td>\n",
       "      <td>0.0</td>\n",
       "      <td>NaN</td>\n",
       "      <td>1.0</td>\n",
       "      <td>96.0</td>\n",
       "      <td>203.0</td>\n",
       "    </tr>\n",
       "    <tr>\n",
       "      <th>15</th>\n",
       "      <td>16</td>\n",
       "      <td>4650000.0</td>\n",
       "      <td>39.00</td>\n",
       "      <td>2017-11-18T00:00:00</td>\n",
       "      <td>1</td>\n",
       "      <td>NaN</td>\n",
       "      <td>14.0</td>\n",
       "      <td>20.50</td>\n",
       "      <td>5</td>\n",
       "      <td>NaN</td>\n",
       "      <td>...</td>\n",
       "      <td>7.60</td>\n",
       "      <td>1.0</td>\n",
       "      <td>Санкт-Петербург</td>\n",
       "      <td>12900.0</td>\n",
       "      <td>14259.0</td>\n",
       "      <td>1.0</td>\n",
       "      <td>590.0</td>\n",
       "      <td>1.0</td>\n",
       "      <td>296.0</td>\n",
       "      <td>19.0</td>\n",
       "    </tr>\n",
       "    <tr>\n",
       "      <th>17</th>\n",
       "      <td>6</td>\n",
       "      <td>4180000.0</td>\n",
       "      <td>36.00</td>\n",
       "      <td>2016-09-09T00:00:00</td>\n",
       "      <td>1</td>\n",
       "      <td>NaN</td>\n",
       "      <td>17.0</td>\n",
       "      <td>16.50</td>\n",
       "      <td>7</td>\n",
       "      <td>NaN</td>\n",
       "      <td>...</td>\n",
       "      <td>11.00</td>\n",
       "      <td>1.0</td>\n",
       "      <td>Санкт-Петербург</td>\n",
       "      <td>33564.0</td>\n",
       "      <td>14616.0</td>\n",
       "      <td>0.0</td>\n",
       "      <td>NaN</td>\n",
       "      <td>1.0</td>\n",
       "      <td>859.0</td>\n",
       "      <td>571.0</td>\n",
       "    </tr>\n",
       "    <tr>\n",
       "      <th>21</th>\n",
       "      <td>13</td>\n",
       "      <td>3200000.0</td>\n",
       "      <td>31.60</td>\n",
       "      <td>2018-03-14T00:00:00</td>\n",
       "      <td>1</td>\n",
       "      <td>NaN</td>\n",
       "      <td>5.0</td>\n",
       "      <td>16.90</td>\n",
       "      <td>2</td>\n",
       "      <td>NaN</td>\n",
       "      <td>...</td>\n",
       "      <td>5.70</td>\n",
       "      <td>1.0</td>\n",
       "      <td>Санкт-Петербург</td>\n",
       "      <td>36064.0</td>\n",
       "      <td>9722.0</td>\n",
       "      <td>1.0</td>\n",
       "      <td>248.0</td>\n",
       "      <td>0.0</td>\n",
       "      <td>NaN</td>\n",
       "      <td>310.0</td>\n",
       "    </tr>\n",
       "    <tr>\n",
       "      <th>24</th>\n",
       "      <td>8</td>\n",
       "      <td>6500000.0</td>\n",
       "      <td>97.20</td>\n",
       "      <td>2015-10-31T00:00:00</td>\n",
       "      <td>2</td>\n",
       "      <td>NaN</td>\n",
       "      <td>3.0</td>\n",
       "      <td>46.50</td>\n",
       "      <td>1</td>\n",
       "      <td>NaN</td>\n",
       "      <td>...</td>\n",
       "      <td>19.60</td>\n",
       "      <td>0.0</td>\n",
       "      <td>Санкт-Петербург</td>\n",
       "      <td>20052.0</td>\n",
       "      <td>2336.0</td>\n",
       "      <td>3.0</td>\n",
       "      <td>411.0</td>\n",
       "      <td>3.0</td>\n",
       "      <td>124.0</td>\n",
       "      <td>265.0</td>\n",
       "    </tr>\n",
       "    <tr>\n",
       "      <th>26</th>\n",
       "      <td>6</td>\n",
       "      <td>4050000.0</td>\n",
       "      <td>60.00</td>\n",
       "      <td>2017-04-28T00:00:00</td>\n",
       "      <td>4</td>\n",
       "      <td>NaN</td>\n",
       "      <td>5.0</td>\n",
       "      <td>43.00</td>\n",
       "      <td>4</td>\n",
       "      <td>NaN</td>\n",
       "      <td>...</td>\n",
       "      <td>7.00</td>\n",
       "      <td>NaN</td>\n",
       "      <td>Санкт-Петербург</td>\n",
       "      <td>11580.0</td>\n",
       "      <td>10510.0</td>\n",
       "      <td>0.0</td>\n",
       "      <td>NaN</td>\n",
       "      <td>1.0</td>\n",
       "      <td>95.0</td>\n",
       "      <td>265.0</td>\n",
       "    </tr>\n",
       "  </tbody>\n",
       "</table>\n",
       "<p>15 rows × 22 columns</p>\n",
       "</div>"
      ],
      "text/plain": [
       "    total_images  last_price  total_area first_day_exposition  rooms  \\\n",
       "1              7   3350000.0       40.40  2018-12-04T00:00:00      1   \n",
       "2             10   5196000.0       56.00  2015-08-20T00:00:00      2   \n",
       "3              0  64900000.0      159.00  2015-07-24T00:00:00      3   \n",
       "5             10   2890000.0       30.40  2018-09-10T00:00:00      1   \n",
       "6              6   3700000.0       37.30  2017-11-02T00:00:00      1   \n",
       "7              5   7915000.0       71.60  2019-04-18T00:00:00      2   \n",
       "8             20   2900000.0       33.16  2018-05-23T00:00:00      1   \n",
       "11             9   3300000.0       44.00  2018-08-27T00:00:00      2   \n",
       "12            10   3890000.0       54.00  2016-06-30T00:00:00      2   \n",
       "14             1   4400000.0       36.00  2016-06-23T00:00:00      1   \n",
       "15            16   4650000.0       39.00  2017-11-18T00:00:00      1   \n",
       "17             6   4180000.0       36.00  2016-09-09T00:00:00      1   \n",
       "21            13   3200000.0       31.60  2018-03-14T00:00:00      1   \n",
       "24             8   6500000.0       97.20  2015-10-31T00:00:00      2   \n",
       "26             6   4050000.0       60.00  2017-04-28T00:00:00      4   \n",
       "\n",
       "    ceiling_height  floors_total  living_area  floor apartment  ...  \\\n",
       "1              NaN          11.0        18.60      1       NaN  ...   \n",
       "2              NaN           5.0        34.30      4       NaN  ...   \n",
       "3              NaN          14.0          NaN      9       NaN  ...   \n",
       "5              NaN          12.0        14.40      5       NaN  ...   \n",
       "6              NaN          26.0        10.60      6       NaN  ...   \n",
       "7              NaN          24.0          NaN     22       NaN  ...   \n",
       "8              NaN          27.0        15.43     26       NaN  ...   \n",
       "11             NaN           5.0        31.00      4     False  ...   \n",
       "12             NaN           5.0        30.00      5       NaN  ...   \n",
       "14             NaN           6.0        17.00      1       NaN  ...   \n",
       "15             NaN          14.0        20.50      5       NaN  ...   \n",
       "17             NaN          17.0        16.50      7       NaN  ...   \n",
       "21             NaN           5.0        16.90      2       NaN  ...   \n",
       "24             NaN           3.0        46.50      1       NaN  ...   \n",
       "26             NaN           5.0        43.00      4       NaN  ...   \n",
       "\n",
       "    kitchen_area  balcony              locality_name  airports_nearest  \\\n",
       "1          11.00      2.0             посёлок Шушары           12817.0   \n",
       "2           8.30      0.0            Санкт-Петербург           21741.0   \n",
       "3            NaN      0.0            Санкт-Петербург           28098.0   \n",
       "5           9.10      NaN  городской посёлок Янино-1               NaN   \n",
       "6          14.40      1.0          посёлок Парголово           52996.0   \n",
       "7          18.90      2.0            Санкт-Петербург           23982.0   \n",
       "8           8.81      NaN             посёлок Мурино               NaN   \n",
       "11          6.00      1.0                  Ломоносов           48252.0   \n",
       "12          9.00      0.0                  Сертолово               NaN   \n",
       "14          8.00      0.0                     Пушкин           20782.0   \n",
       "15          7.60      1.0            Санкт-Петербург           12900.0   \n",
       "17         11.00      1.0            Санкт-Петербург           33564.0   \n",
       "21          5.70      1.0            Санкт-Петербург           36064.0   \n",
       "24         19.60      0.0            Санкт-Петербург           20052.0   \n",
       "26          7.00      NaN            Санкт-Петербург           11580.0   \n",
       "\n",
       "   city_centers_nearest  parks_around_3km  parks_nearest  ponds_around_3km  \\\n",
       "1               18603.0               0.0            NaN               0.0   \n",
       "2               13933.0               1.0           90.0               2.0   \n",
       "3                6800.0               2.0           84.0               3.0   \n",
       "5                   NaN               NaN            NaN               NaN   \n",
       "6               19143.0               0.0            NaN               0.0   \n",
       "7               11634.0               0.0            NaN               0.0   \n",
       "8                   NaN               NaN            NaN               NaN   \n",
       "11              51677.0               0.0            NaN               0.0   \n",
       "12                  NaN               NaN            NaN               NaN   \n",
       "14              30759.0               0.0            NaN               1.0   \n",
       "15              14259.0               1.0          590.0               1.0   \n",
       "17              14616.0               0.0            NaN               1.0   \n",
       "21               9722.0               1.0          248.0               0.0   \n",
       "24               2336.0               3.0          411.0               3.0   \n",
       "26              10510.0               0.0            NaN               1.0   \n",
       "\n",
       "    ponds_nearest  days_exposition  \n",
       "1             NaN             81.0  \n",
       "2           574.0            558.0  \n",
       "3           234.0            424.0  \n",
       "5             NaN             55.0  \n",
       "6             NaN            155.0  \n",
       "7             NaN              NaN  \n",
       "8             NaN            189.0  \n",
       "11            NaN              7.0  \n",
       "12            NaN             90.0  \n",
       "14           96.0            203.0  \n",
       "15          296.0             19.0  \n",
       "17          859.0            571.0  \n",
       "21            NaN            310.0  \n",
       "24          124.0            265.0  \n",
       "26           95.0            265.0  \n",
       "\n",
       "[15 rows x 22 columns]"
      ]
     },
     "execution_count": 12,
     "metadata": {},
     "output_type": "execute_result"
    }
   ],
   "source": [
    "# получение первых 15 строк таблицы с пропущенными значениями в столбце ceiling_height\n",
    "df[df['ceiling_height'].isna()].head(15)"
   ]
  },
  {
   "cell_type": "markdown",
   "metadata": {},
   "source": [
    "Как видим, никакой взаимосвязи нет. По-видимому, владельцы просто не стали указывать высоту потолка как незначительный параметр. Поскольку это действительно не ключевой фактор, заменим пропуски на медиану."
   ]
  },
  {
   "cell_type": "code",
   "execution_count": 13,
   "metadata": {},
   "outputs": [],
   "source": [
    "# замена пропущенных значений в столбце ceiling_height на медиану\n",
    "df['ceiling_height'] = df['ceiling_height'].fillna(df['ceiling_height'].median())"
   ]
  },
  {
   "cell_type": "markdown",
   "metadata": {},
   "source": [
    "Теперь столбец `floors_total`. Здесь пропусков всего 86. Заменим их на значение этажа самой продаваемой недвижимости."
   ]
  },
  {
   "cell_type": "code",
   "execution_count": 14,
   "metadata": {},
   "outputs": [],
   "source": [
    "# замена пропущенных значений в столбце floors_total на значение столбца floor\n",
    "df['floors_total'] = df['floors_total'].fillna(df['floor'])"
   ]
  },
  {
   "cell_type": "markdown",
   "metadata": {},
   "source": [
    "Жилая площадь. Это важный показатель, и пропусков 1903. Заменять на медиану неверно, правильнее будет высчитать жилую площадь исходя из общей площади недвижимости и медианной доле жилой площади в общей площади."
   ]
  },
  {
   "cell_type": "code",
   "execution_count": 15,
   "metadata": {},
   "outputs": [],
   "source": [
    "# замена пропущенных значений в столбце living_area на произведение total_area на медианную долю living_area в total_area\n",
    "df['living_area'] = df['living_area'].fillna(df['total_area'] * (df['living_area']/df['total_area']).median())"
   ]
  },
  {
   "cell_type": "markdown",
   "metadata": {},
   "source": [
    "Площадь кухни. Возможно, отсутствие значения в столбце `kitchen_area` связано с тем, что такие объекты недвижимости относятся к студиям. Для проверки этой гипотезы выведем на экран первые 15 строк с пропусками значений в `kitchen_area`."
   ]
  },
  {
   "cell_type": "code",
   "execution_count": 16,
   "metadata": {},
   "outputs": [
    {
     "data": {
      "text/html": [
       "<div>\n",
       "<style scoped>\n",
       "    .dataframe tbody tr th:only-of-type {\n",
       "        vertical-align: middle;\n",
       "    }\n",
       "\n",
       "    .dataframe tbody tr th {\n",
       "        vertical-align: top;\n",
       "    }\n",
       "\n",
       "    .dataframe thead th {\n",
       "        text-align: right;\n",
       "    }\n",
       "</style>\n",
       "<table border=\"1\" class=\"dataframe\">\n",
       "  <thead>\n",
       "    <tr style=\"text-align: right;\">\n",
       "      <th></th>\n",
       "      <th>total_images</th>\n",
       "      <th>last_price</th>\n",
       "      <th>total_area</th>\n",
       "      <th>first_day_exposition</th>\n",
       "      <th>rooms</th>\n",
       "      <th>ceiling_height</th>\n",
       "      <th>floors_total</th>\n",
       "      <th>living_area</th>\n",
       "      <th>floor</th>\n",
       "      <th>apartment</th>\n",
       "      <th>...</th>\n",
       "      <th>kitchen_area</th>\n",
       "      <th>balcony</th>\n",
       "      <th>locality_name</th>\n",
       "      <th>airports_nearest</th>\n",
       "      <th>city_centers_nearest</th>\n",
       "      <th>parks_around_3km</th>\n",
       "      <th>parks_nearest</th>\n",
       "      <th>ponds_around_3km</th>\n",
       "      <th>ponds_nearest</th>\n",
       "      <th>days_exposition</th>\n",
       "    </tr>\n",
       "  </thead>\n",
       "  <tbody>\n",
       "    <tr>\n",
       "      <th>3</th>\n",
       "      <td>0</td>\n",
       "      <td>64900000.0</td>\n",
       "      <td>159.0</td>\n",
       "      <td>2015-07-24T00:00:00</td>\n",
       "      <td>3</td>\n",
       "      <td>2.65</td>\n",
       "      <td>14.0</td>\n",
       "      <td>90.289724</td>\n",
       "      <td>9</td>\n",
       "      <td>NaN</td>\n",
       "      <td>...</td>\n",
       "      <td>NaN</td>\n",
       "      <td>0.0</td>\n",
       "      <td>Санкт-Петербург</td>\n",
       "      <td>28098.0</td>\n",
       "      <td>6800.0</td>\n",
       "      <td>2.0</td>\n",
       "      <td>84.0</td>\n",
       "      <td>3.0</td>\n",
       "      <td>234.0</td>\n",
       "      <td>424.0</td>\n",
       "    </tr>\n",
       "    <tr>\n",
       "      <th>30</th>\n",
       "      <td>12</td>\n",
       "      <td>2200000.0</td>\n",
       "      <td>32.8</td>\n",
       "      <td>2018-02-19T00:00:00</td>\n",
       "      <td>1</td>\n",
       "      <td>2.65</td>\n",
       "      <td>9.0</td>\n",
       "      <td>18.625805</td>\n",
       "      <td>2</td>\n",
       "      <td>NaN</td>\n",
       "      <td>...</td>\n",
       "      <td>NaN</td>\n",
       "      <td>NaN</td>\n",
       "      <td>Коммунар</td>\n",
       "      <td>NaN</td>\n",
       "      <td>NaN</td>\n",
       "      <td>NaN</td>\n",
       "      <td>NaN</td>\n",
       "      <td>NaN</td>\n",
       "      <td>NaN</td>\n",
       "      <td>63.0</td>\n",
       "    </tr>\n",
       "    <tr>\n",
       "      <th>37</th>\n",
       "      <td>10</td>\n",
       "      <td>1990000.0</td>\n",
       "      <td>45.8</td>\n",
       "      <td>2017-10-28T00:00:00</td>\n",
       "      <td>2</td>\n",
       "      <td>2.50</td>\n",
       "      <td>5.0</td>\n",
       "      <td>26.007983</td>\n",
       "      <td>1</td>\n",
       "      <td>NaN</td>\n",
       "      <td>...</td>\n",
       "      <td>NaN</td>\n",
       "      <td>NaN</td>\n",
       "      <td>поселок городского типа Красный Бор</td>\n",
       "      <td>NaN</td>\n",
       "      <td>NaN</td>\n",
       "      <td>NaN</td>\n",
       "      <td>NaN</td>\n",
       "      <td>NaN</td>\n",
       "      <td>NaN</td>\n",
       "      <td>196.0</td>\n",
       "    </tr>\n",
       "    <tr>\n",
       "      <th>44</th>\n",
       "      <td>13</td>\n",
       "      <td>5350000.0</td>\n",
       "      <td>40.0</td>\n",
       "      <td>2018-11-18T00:00:00</td>\n",
       "      <td>1</td>\n",
       "      <td>2.65</td>\n",
       "      <td>22.0</td>\n",
       "      <td>22.714396</td>\n",
       "      <td>3</td>\n",
       "      <td>NaN</td>\n",
       "      <td>...</td>\n",
       "      <td>NaN</td>\n",
       "      <td>1.0</td>\n",
       "      <td>Санкт-Петербург</td>\n",
       "      <td>30471.0</td>\n",
       "      <td>11603.0</td>\n",
       "      <td>1.0</td>\n",
       "      <td>620.0</td>\n",
       "      <td>1.0</td>\n",
       "      <td>1152.0</td>\n",
       "      <td>NaN</td>\n",
       "    </tr>\n",
       "    <tr>\n",
       "      <th>59</th>\n",
       "      <td>15</td>\n",
       "      <td>6300000.0</td>\n",
       "      <td>46.5</td>\n",
       "      <td>2017-03-06T00:00:00</td>\n",
       "      <td>1</td>\n",
       "      <td>2.65</td>\n",
       "      <td>13.0</td>\n",
       "      <td>26.405485</td>\n",
       "      <td>13</td>\n",
       "      <td>NaN</td>\n",
       "      <td>...</td>\n",
       "      <td>NaN</td>\n",
       "      <td>NaN</td>\n",
       "      <td>Санкт-Петербург</td>\n",
       "      <td>11125.0</td>\n",
       "      <td>14501.0</td>\n",
       "      <td>0.0</td>\n",
       "      <td>NaN</td>\n",
       "      <td>0.0</td>\n",
       "      <td>NaN</td>\n",
       "      <td>336.0</td>\n",
       "    </tr>\n",
       "    <tr>\n",
       "      <th>60</th>\n",
       "      <td>3</td>\n",
       "      <td>2740000.0</td>\n",
       "      <td>35.0</td>\n",
       "      <td>2018-01-01T00:00:00</td>\n",
       "      <td>1</td>\n",
       "      <td>2.65</td>\n",
       "      <td>12.0</td>\n",
       "      <td>19.875096</td>\n",
       "      <td>8</td>\n",
       "      <td>NaN</td>\n",
       "      <td>...</td>\n",
       "      <td>NaN</td>\n",
       "      <td>NaN</td>\n",
       "      <td>посёлок Мурино</td>\n",
       "      <td>NaN</td>\n",
       "      <td>NaN</td>\n",
       "      <td>NaN</td>\n",
       "      <td>NaN</td>\n",
       "      <td>NaN</td>\n",
       "      <td>NaN</td>\n",
       "      <td>11.0</td>\n",
       "    </tr>\n",
       "    <tr>\n",
       "      <th>81</th>\n",
       "      <td>9</td>\n",
       "      <td>10949000.0</td>\n",
       "      <td>68.0</td>\n",
       "      <td>2018-12-27T00:00:00</td>\n",
       "      <td>1</td>\n",
       "      <td>2.65</td>\n",
       "      <td>10.0</td>\n",
       "      <td>38.614473</td>\n",
       "      <td>6</td>\n",
       "      <td>NaN</td>\n",
       "      <td>...</td>\n",
       "      <td>NaN</td>\n",
       "      <td>NaN</td>\n",
       "      <td>Санкт-Петербург</td>\n",
       "      <td>NaN</td>\n",
       "      <td>NaN</td>\n",
       "      <td>NaN</td>\n",
       "      <td>NaN</td>\n",
       "      <td>NaN</td>\n",
       "      <td>NaN</td>\n",
       "      <td>NaN</td>\n",
       "    </tr>\n",
       "    <tr>\n",
       "      <th>82</th>\n",
       "      <td>3</td>\n",
       "      <td>4500000.0</td>\n",
       "      <td>80.5</td>\n",
       "      <td>2018-01-15T00:00:00</td>\n",
       "      <td>3</td>\n",
       "      <td>2.65</td>\n",
       "      <td>25.0</td>\n",
       "      <td>45.712722</td>\n",
       "      <td>16</td>\n",
       "      <td>NaN</td>\n",
       "      <td>...</td>\n",
       "      <td>NaN</td>\n",
       "      <td>NaN</td>\n",
       "      <td>посёлок Шушары</td>\n",
       "      <td>12430.0</td>\n",
       "      <td>18217.0</td>\n",
       "      <td>0.0</td>\n",
       "      <td>NaN</td>\n",
       "      <td>0.0</td>\n",
       "      <td>NaN</td>\n",
       "      <td>60.0</td>\n",
       "    </tr>\n",
       "    <tr>\n",
       "      <th>133</th>\n",
       "      <td>12</td>\n",
       "      <td>3150000.0</td>\n",
       "      <td>31.0</td>\n",
       "      <td>2018-03-23T00:00:00</td>\n",
       "      <td>1</td>\n",
       "      <td>2.65</td>\n",
       "      <td>25.0</td>\n",
       "      <td>17.603657</td>\n",
       "      <td>6</td>\n",
       "      <td>NaN</td>\n",
       "      <td>...</td>\n",
       "      <td>NaN</td>\n",
       "      <td>NaN</td>\n",
       "      <td>посёлок Мурино</td>\n",
       "      <td>NaN</td>\n",
       "      <td>NaN</td>\n",
       "      <td>NaN</td>\n",
       "      <td>NaN</td>\n",
       "      <td>NaN</td>\n",
       "      <td>NaN</td>\n",
       "      <td>78.0</td>\n",
       "    </tr>\n",
       "    <tr>\n",
       "      <th>144</th>\n",
       "      <td>1</td>\n",
       "      <td>2450000.0</td>\n",
       "      <td>27.0</td>\n",
       "      <td>2017-03-30T00:00:00</td>\n",
       "      <td>0</td>\n",
       "      <td>2.65</td>\n",
       "      <td>24.0</td>\n",
       "      <td>15.500000</td>\n",
       "      <td>2</td>\n",
       "      <td>NaN</td>\n",
       "      <td>...</td>\n",
       "      <td>NaN</td>\n",
       "      <td>2.0</td>\n",
       "      <td>посёлок Мурино</td>\n",
       "      <td>NaN</td>\n",
       "      <td>NaN</td>\n",
       "      <td>NaN</td>\n",
       "      <td>NaN</td>\n",
       "      <td>NaN</td>\n",
       "      <td>NaN</td>\n",
       "      <td>181.0</td>\n",
       "    </tr>\n",
       "    <tr>\n",
       "      <th>155</th>\n",
       "      <td>8</td>\n",
       "      <td>96000000.0</td>\n",
       "      <td>317.0</td>\n",
       "      <td>2017-07-07T00:00:00</td>\n",
       "      <td>4</td>\n",
       "      <td>3.50</td>\n",
       "      <td>3.0</td>\n",
       "      <td>183.000000</td>\n",
       "      <td>3</td>\n",
       "      <td>NaN</td>\n",
       "      <td>...</td>\n",
       "      <td>NaN</td>\n",
       "      <td>1.0</td>\n",
       "      <td>Санкт-Петербург</td>\n",
       "      <td>22673.0</td>\n",
       "      <td>1771.0</td>\n",
       "      <td>2.0</td>\n",
       "      <td>508.0</td>\n",
       "      <td>3.0</td>\n",
       "      <td>366.0</td>\n",
       "      <td>62.0</td>\n",
       "    </tr>\n",
       "    <tr>\n",
       "      <th>164</th>\n",
       "      <td>6</td>\n",
       "      <td>800000.0</td>\n",
       "      <td>40.3</td>\n",
       "      <td>2018-06-25T00:00:00</td>\n",
       "      <td>2</td>\n",
       "      <td>2.65</td>\n",
       "      <td>3.0</td>\n",
       "      <td>22.884754</td>\n",
       "      <td>1</td>\n",
       "      <td>NaN</td>\n",
       "      <td>...</td>\n",
       "      <td>NaN</td>\n",
       "      <td>2.0</td>\n",
       "      <td>поселок городского типа Ефимовский</td>\n",
       "      <td>NaN</td>\n",
       "      <td>NaN</td>\n",
       "      <td>NaN</td>\n",
       "      <td>NaN</td>\n",
       "      <td>NaN</td>\n",
       "      <td>NaN</td>\n",
       "      <td>81.0</td>\n",
       "    </tr>\n",
       "    <tr>\n",
       "      <th>166</th>\n",
       "      <td>0</td>\n",
       "      <td>2300000.0</td>\n",
       "      <td>60.0</td>\n",
       "      <td>2017-12-02T00:00:00</td>\n",
       "      <td>2</td>\n",
       "      <td>2.65</td>\n",
       "      <td>3.0</td>\n",
       "      <td>34.071594</td>\n",
       "      <td>1</td>\n",
       "      <td>NaN</td>\n",
       "      <td>...</td>\n",
       "      <td>NaN</td>\n",
       "      <td>NaN</td>\n",
       "      <td>посёлок Плодовое</td>\n",
       "      <td>NaN</td>\n",
       "      <td>NaN</td>\n",
       "      <td>NaN</td>\n",
       "      <td>NaN</td>\n",
       "      <td>NaN</td>\n",
       "      <td>NaN</td>\n",
       "      <td>45.0</td>\n",
       "    </tr>\n",
       "    <tr>\n",
       "      <th>178</th>\n",
       "      <td>18</td>\n",
       "      <td>16300000.0</td>\n",
       "      <td>153.0</td>\n",
       "      <td>2019-03-30T00:00:00</td>\n",
       "      <td>4</td>\n",
       "      <td>2.71</td>\n",
       "      <td>10.0</td>\n",
       "      <td>89.400000</td>\n",
       "      <td>10</td>\n",
       "      <td>NaN</td>\n",
       "      <td>...</td>\n",
       "      <td>NaN</td>\n",
       "      <td>1.0</td>\n",
       "      <td>Санкт-Петербург</td>\n",
       "      <td>52130.0</td>\n",
       "      <td>14042.0</td>\n",
       "      <td>0.0</td>\n",
       "      <td>NaN</td>\n",
       "      <td>2.0</td>\n",
       "      <td>346.0</td>\n",
       "      <td>NaN</td>\n",
       "    </tr>\n",
       "    <tr>\n",
       "      <th>188</th>\n",
       "      <td>15</td>\n",
       "      <td>4600000.0</td>\n",
       "      <td>38.5</td>\n",
       "      <td>2019-04-16T00:00:00</td>\n",
       "      <td>1</td>\n",
       "      <td>2.50</td>\n",
       "      <td>12.0</td>\n",
       "      <td>18.500000</td>\n",
       "      <td>5</td>\n",
       "      <td>NaN</td>\n",
       "      <td>...</td>\n",
       "      <td>NaN</td>\n",
       "      <td>NaN</td>\n",
       "      <td>Санкт-Петербург</td>\n",
       "      <td>49065.0</td>\n",
       "      <td>16735.0</td>\n",
       "      <td>1.0</td>\n",
       "      <td>501.0</td>\n",
       "      <td>0.0</td>\n",
       "      <td>NaN</td>\n",
       "      <td>NaN</td>\n",
       "    </tr>\n",
       "  </tbody>\n",
       "</table>\n",
       "<p>15 rows × 22 columns</p>\n",
       "</div>"
      ],
      "text/plain": [
       "     total_images  last_price  total_area first_day_exposition  rooms  \\\n",
       "3               0  64900000.0       159.0  2015-07-24T00:00:00      3   \n",
       "30             12   2200000.0        32.8  2018-02-19T00:00:00      1   \n",
       "37             10   1990000.0        45.8  2017-10-28T00:00:00      2   \n",
       "44             13   5350000.0        40.0  2018-11-18T00:00:00      1   \n",
       "59             15   6300000.0        46.5  2017-03-06T00:00:00      1   \n",
       "60              3   2740000.0        35.0  2018-01-01T00:00:00      1   \n",
       "81              9  10949000.0        68.0  2018-12-27T00:00:00      1   \n",
       "82              3   4500000.0        80.5  2018-01-15T00:00:00      3   \n",
       "133            12   3150000.0        31.0  2018-03-23T00:00:00      1   \n",
       "144             1   2450000.0        27.0  2017-03-30T00:00:00      0   \n",
       "155             8  96000000.0       317.0  2017-07-07T00:00:00      4   \n",
       "164             6    800000.0        40.3  2018-06-25T00:00:00      2   \n",
       "166             0   2300000.0        60.0  2017-12-02T00:00:00      2   \n",
       "178            18  16300000.0       153.0  2019-03-30T00:00:00      4   \n",
       "188            15   4600000.0        38.5  2019-04-16T00:00:00      1   \n",
       "\n",
       "     ceiling_height  floors_total  living_area  floor apartment  ...  \\\n",
       "3              2.65          14.0    90.289724      9       NaN  ...   \n",
       "30             2.65           9.0    18.625805      2       NaN  ...   \n",
       "37             2.50           5.0    26.007983      1       NaN  ...   \n",
       "44             2.65          22.0    22.714396      3       NaN  ...   \n",
       "59             2.65          13.0    26.405485     13       NaN  ...   \n",
       "60             2.65          12.0    19.875096      8       NaN  ...   \n",
       "81             2.65          10.0    38.614473      6       NaN  ...   \n",
       "82             2.65          25.0    45.712722     16       NaN  ...   \n",
       "133            2.65          25.0    17.603657      6       NaN  ...   \n",
       "144            2.65          24.0    15.500000      2       NaN  ...   \n",
       "155            3.50           3.0   183.000000      3       NaN  ...   \n",
       "164            2.65           3.0    22.884754      1       NaN  ...   \n",
       "166            2.65           3.0    34.071594      1       NaN  ...   \n",
       "178            2.71          10.0    89.400000     10       NaN  ...   \n",
       "188            2.50          12.0    18.500000      5       NaN  ...   \n",
       "\n",
       "     kitchen_area  balcony                        locality_name  \\\n",
       "3             NaN      0.0                      Санкт-Петербург   \n",
       "30            NaN      NaN                             Коммунар   \n",
       "37            NaN      NaN  поселок городского типа Красный Бор   \n",
       "44            NaN      1.0                      Санкт-Петербург   \n",
       "59            NaN      NaN                      Санкт-Петербург   \n",
       "60            NaN      NaN                       посёлок Мурино   \n",
       "81            NaN      NaN                      Санкт-Петербург   \n",
       "82            NaN      NaN                       посёлок Шушары   \n",
       "133           NaN      NaN                       посёлок Мурино   \n",
       "144           NaN      2.0                       посёлок Мурино   \n",
       "155           NaN      1.0                      Санкт-Петербург   \n",
       "164           NaN      2.0   поселок городского типа Ефимовский   \n",
       "166           NaN      NaN                     посёлок Плодовое   \n",
       "178           NaN      1.0                      Санкт-Петербург   \n",
       "188           NaN      NaN                      Санкт-Петербург   \n",
       "\n",
       "     airports_nearest city_centers_nearest  parks_around_3km  parks_nearest  \\\n",
       "3             28098.0               6800.0               2.0           84.0   \n",
       "30                NaN                  NaN               NaN            NaN   \n",
       "37                NaN                  NaN               NaN            NaN   \n",
       "44            30471.0              11603.0               1.0          620.0   \n",
       "59            11125.0              14501.0               0.0            NaN   \n",
       "60                NaN                  NaN               NaN            NaN   \n",
       "81                NaN                  NaN               NaN            NaN   \n",
       "82            12430.0              18217.0               0.0            NaN   \n",
       "133               NaN                  NaN               NaN            NaN   \n",
       "144               NaN                  NaN               NaN            NaN   \n",
       "155           22673.0               1771.0               2.0          508.0   \n",
       "164               NaN                  NaN               NaN            NaN   \n",
       "166               NaN                  NaN               NaN            NaN   \n",
       "178           52130.0              14042.0               0.0            NaN   \n",
       "188           49065.0              16735.0               1.0          501.0   \n",
       "\n",
       "     ponds_around_3km  ponds_nearest  days_exposition  \n",
       "3                 3.0          234.0            424.0  \n",
       "30                NaN            NaN             63.0  \n",
       "37                NaN            NaN            196.0  \n",
       "44                1.0         1152.0              NaN  \n",
       "59                0.0            NaN            336.0  \n",
       "60                NaN            NaN             11.0  \n",
       "81                NaN            NaN              NaN  \n",
       "82                0.0            NaN             60.0  \n",
       "133               NaN            NaN             78.0  \n",
       "144               NaN            NaN            181.0  \n",
       "155               3.0          366.0             62.0  \n",
       "164               NaN            NaN             81.0  \n",
       "166               NaN            NaN             45.0  \n",
       "178               2.0          346.0              NaN  \n",
       "188               0.0            NaN              NaN  \n",
       "\n",
       "[15 rows x 22 columns]"
      ]
     },
     "execution_count": 16,
     "metadata": {},
     "output_type": "execute_result"
    }
   ],
   "source": [
    "# получение первых 15 строк таблицы с пропущенными значениями в столбце kitchen_area\n",
    "df[df['kitchen_area'].isna()].head(15)"
   ]
  },
  {
   "cell_type": "markdown",
   "metadata": {},
   "source": [
    "Как мы видим, отсутствие значений площади кухни характерно для любых квартир: от студий до четырёхкомнатных. Поэтому для пропусков в столбце `kitchen_area` поступим аналогично пропускам в `living_area`."
   ]
  },
  {
   "cell_type": "code",
   "execution_count": 17,
   "metadata": {},
   "outputs": [],
   "source": [
    "# замена пропущенных значений в столбце kitchen_area на произведение total_area на медианную долю kitchen_area в total_area\n",
    "df['kitchen_area'] = df['kitchen_area'].fillna(df['total_area'] * (df['kitchen_area']/df['total_area']).median())"
   ]
  },
  {
   "cell_type": "markdown",
   "metadata": {},
   "source": [
    "Проверим, чтобы после наших замен жилая площадь и площадь кухни не оказались больше общей площади."
   ]
  },
  {
   "cell_type": "code",
   "execution_count": 18,
   "metadata": {},
   "outputs": [
    {
     "data": {
      "text/plain": [
       "116"
      ]
     },
     "execution_count": 18,
     "metadata": {},
     "output_type": "execute_result"
    }
   ],
   "source": [
    "# подсчёт количества объявлений, в которых сумма жилой площади и кухни больше общей\n",
    "((df['living_area'] + df['kitchen_area']) > df['total_area']).sum()"
   ]
  },
  {
   "cell_type": "markdown",
   "metadata": {},
   "source": [
    "Таких объявлений 116 - менее 0,5%. На что менять эти значения, непонятно. Поэтому лучше их удалить."
   ]
  },
  {
   "cell_type": "code",
   "execution_count": 19,
   "metadata": {},
   "outputs": [],
   "source": [
    "# удаление из таблицы значений с аномально большой жилой площадью и кухней\n",
    "df = df[(df['living_area'] + df['kitchen_area']) <= df['total_area']]"
   ]
  },
  {
   "cell_type": "markdown",
   "metadata": {},
   "source": [
    "Пропуски значений в столбцах `apartment` и `balcony`, скорее всего, объясняются их отсутствием: недвижимость не относится к апартаментам в первом случае и не имеет балкона во втором случае."
   ]
  },
  {
   "cell_type": "code",
   "execution_count": 20,
   "metadata": {},
   "outputs": [],
   "source": [
    "# замена пропущенных значений в столбце apartment на False\n",
    "df['apartment'] = df['apartment'].fillna('False')"
   ]
  },
  {
   "cell_type": "code",
   "execution_count": 21,
   "metadata": {},
   "outputs": [],
   "source": [
    "# замена пропущенных значений в столбце balcony на 0\n",
    "df['balcony'] = df['balcony'].fillna(0)"
   ]
  },
  {
   "cell_type": "markdown",
   "metadata": {},
   "source": [
    "Столбец `locality_name`. Здесь пропусков 49 - это 0,2% всех значений. Корректная замена в этом случае невозможна. Можно только удалить пропуски или оставить их. Выберем первый вариант, чтобы пропуски не повлияли на взаимосвязи факторов."
   ]
  },
  {
   "cell_type": "code",
   "execution_count": 22,
   "metadata": {},
   "outputs": [],
   "source": [
    "# удаление пропущенных значений в столбце locality_name\n",
    "df = df.dropna(subset=['locality_name'])"
   ]
  },
  {
   "cell_type": "markdown",
   "metadata": {},
   "source": [
    "Столбцы `airports_nearest` и `city_centers_nearest`. Пропусков более 5 тысяч в каждом. Заменим их на медианные значения."
   ]
  },
  {
   "cell_type": "code",
   "execution_count": 23,
   "metadata": {},
   "outputs": [],
   "source": [
    "# замена пропущенных значений в столбце airports_nearest на медиану\n",
    "df['airports_nearest'] = df['airports_nearest'].fillna(df['airports_nearest'].median())"
   ]
  },
  {
   "cell_type": "code",
   "execution_count": 24,
   "metadata": {},
   "outputs": [],
   "source": [
    "# замена пропущенных значений в столбце city_centers_nearest на медиану\n",
    "df['city_centers_nearest'] = df['city_centers_nearest'].fillna(df['city_centers_nearest'].median())"
   ]
  },
  {
   "cell_type": "markdown",
   "metadata": {},
   "source": [
    "Остались столбцы с количество парков. водоёмов и расстоянием до них. Пропусков слишком много, чтобы их удалить - от 5518 до 15620. Заменить на медианное значение для населённого пункта не очень корректно. Придётся оставить как есть."
   ]
  },
  {
   "cell_type": "markdown",
   "metadata": {},
   "source": [
    "Ещё столбец `days_exposition`. На дни экспозиции влияет слишком много факторов, чтобы заменить их на медианные значения, поэтому оставим как есть."
   ]
  },
  {
   "cell_type": "markdown",
   "metadata": {},
   "source": [
    "Проверим итоговое количество пропусков."
   ]
  },
  {
   "cell_type": "code",
   "execution_count": 25,
   "metadata": {},
   "outputs": [
    {
     "data": {
      "text/plain": [
       "total_images                0\n",
       "last_price                  0\n",
       "total_area                  0\n",
       "first_day_exposition        0\n",
       "rooms                       0\n",
       "ceiling_height              0\n",
       "floors_total                0\n",
       "living_area                 0\n",
       "floor                       0\n",
       "apartment                   0\n",
       "studio                      0\n",
       "open_plan                   0\n",
       "kitchen_area                0\n",
       "balcony                     0\n",
       "locality_name               0\n",
       "airports_nearest            0\n",
       "city_centers_nearest        0\n",
       "parks_around_3km         5476\n",
       "parks_nearest           15504\n",
       "ponds_around_3km         5476\n",
       "ponds_nearest           14491\n",
       "days_exposition          3168\n",
       "dtype: int64"
      ]
     },
     "execution_count": 25,
     "metadata": {},
     "output_type": "execute_result"
    }
   ],
   "source": [
    "# подсчёт пропусков\n",
    "df.isna().sum()"
   ]
  },
  {
   "cell_type": "markdown",
   "metadata": {},
   "source": [
    "Сделаем также проверку на дубликаты."
   ]
  },
  {
   "cell_type": "code",
   "execution_count": 26,
   "metadata": {},
   "outputs": [
    {
     "data": {
      "text/plain": [
       "0"
      ]
     },
     "execution_count": 26,
     "metadata": {},
     "output_type": "execute_result"
    }
   ],
   "source": [
    "# подсчёт явных дубликатов\n",
    "df.duplicated().sum()"
   ]
  },
  {
   "cell_type": "markdown",
   "metadata": {},
   "source": [
    "Итак, мы удалили 49 пропусков в столбце `locality_name`, заменили пропущенные значения в восьми столбцах и оставили пропуски в пяти столбцах. Явных дубликатов не обнаружили."
   ]
  },
  {
   "cell_type": "markdown",
   "metadata": {},
   "source": [
    "Теперь исследуем аномальные значения."
   ]
  },
  {
   "cell_type": "markdown",
   "metadata": {},
   "source": [
    "### Исследование и изменение аномальных значений"
   ]
  },
  {
   "cell_type": "markdown",
   "metadata": {},
   "source": [
    "Как мы уже отмечали, аномальные значения присутствуют в следующих столбцах:\n",
    "* `first_day_exposition` — указаны часы, минуты и секунды. Их надо удалить.\n",
    "* `rooms` — странные данные в 0 комнат.\n",
    "* `ceiling_height` — ошибочные данные со значениями 1 и 100 м.\n",
    "* `living_area` — не может иметь значения в 2 м².\n",
    "* `kitchen_area` — ошибочные значения в 1.3 м².\n",
    "* `airports_nearest` — расстояние до ближайшего аэропорта обычно измеряют в километрах (км). Не может быть значения 0.\n",
    "* `city_centers_nearest` — аналогично нужно перевести в км.\n",
    "\n",
    "Вызывает вопросы значение `days_exposition` в 4 года."
   ]
  },
  {
   "cell_type": "markdown",
   "metadata": {},
   "source": [
    "Начнём с `first_day_exposition`. Трансформируем столбец, убрав лишние данные. Перед этим переведём значения столбца в тип данных `datetime`."
   ]
  },
  {
   "cell_type": "code",
   "execution_count": 27,
   "metadata": {},
   "outputs": [],
   "source": [
    "# перевод значений столбца first_day_exposition в формат datetime\n",
    "df['first_day_exposition'] = pd.to_datetime(df['first_day_exposition'], format='%Y-%m-%dT%H:%M:%S')"
   ]
  },
  {
   "cell_type": "code",
   "execution_count": 28,
   "metadata": {},
   "outputs": [],
   "source": [
    "# округление данных из столбца first_day_exposition до дня месяца\n",
    "df['first_day_exposition'] = df['first_day_exposition'].dt.round('1d')"
   ]
  },
  {
   "cell_type": "markdown",
   "metadata": {},
   "source": [
    "Проверим полученный результат."
   ]
  },
  {
   "cell_type": "code",
   "execution_count": 29,
   "metadata": {},
   "outputs": [
    {
     "data": {
      "text/plain": [
       "0       2019-03-07\n",
       "1       2018-12-04\n",
       "2       2015-08-20\n",
       "3       2015-07-24\n",
       "4       2018-06-19\n",
       "           ...    \n",
       "23694   2017-03-21\n",
       "23695   2018-01-15\n",
       "23696   2018-02-11\n",
       "23697   2017-03-28\n",
       "23698   2017-07-21\n",
       "Name: first_day_exposition, Length: 23534, dtype: datetime64[ns]"
      ]
     },
     "execution_count": 29,
     "metadata": {},
     "output_type": "execute_result"
    }
   ],
   "source": [
    "# вывод на экран столбца first_day_exposition\n",
    "df['first_day_exposition']"
   ]
  },
  {
   "cell_type": "markdown",
   "metadata": {},
   "source": [
    "Теперь обратимся к столбцу `rooms`. Посмотрим, с чем связаны данные в 0 комнат."
   ]
  },
  {
   "cell_type": "code",
   "execution_count": 30,
   "metadata": {},
   "outputs": [
    {
     "data": {
      "text/html": [
       "<div>\n",
       "<style scoped>\n",
       "    .dataframe tbody tr th:only-of-type {\n",
       "        vertical-align: middle;\n",
       "    }\n",
       "\n",
       "    .dataframe tbody tr th {\n",
       "        vertical-align: top;\n",
       "    }\n",
       "\n",
       "    .dataframe thead th {\n",
       "        text-align: right;\n",
       "    }\n",
       "</style>\n",
       "<table border=\"1\" class=\"dataframe\">\n",
       "  <thead>\n",
       "    <tr style=\"text-align: right;\">\n",
       "      <th></th>\n",
       "      <th>total_images</th>\n",
       "      <th>last_price</th>\n",
       "      <th>total_area</th>\n",
       "      <th>first_day_exposition</th>\n",
       "      <th>rooms</th>\n",
       "      <th>ceiling_height</th>\n",
       "      <th>floors_total</th>\n",
       "      <th>living_area</th>\n",
       "      <th>floor</th>\n",
       "      <th>apartment</th>\n",
       "      <th>...</th>\n",
       "      <th>kitchen_area</th>\n",
       "      <th>balcony</th>\n",
       "      <th>locality_name</th>\n",
       "      <th>airports_nearest</th>\n",
       "      <th>city_centers_nearest</th>\n",
       "      <th>parks_around_3km</th>\n",
       "      <th>parks_nearest</th>\n",
       "      <th>ponds_around_3km</th>\n",
       "      <th>ponds_nearest</th>\n",
       "      <th>days_exposition</th>\n",
       "    </tr>\n",
       "  </thead>\n",
       "  <tbody>\n",
       "    <tr>\n",
       "      <th>144</th>\n",
       "      <td>1</td>\n",
       "      <td>2450000.0</td>\n",
       "      <td>27.0</td>\n",
       "      <td>2017-03-30</td>\n",
       "      <td>0</td>\n",
       "      <td>2.65</td>\n",
       "      <td>24.0</td>\n",
       "      <td>15.500000</td>\n",
       "      <td>2</td>\n",
       "      <td>False</td>\n",
       "      <td>...</td>\n",
       "      <td>4.655172</td>\n",
       "      <td>2.0</td>\n",
       "      <td>посёлок Мурино</td>\n",
       "      <td>26763.5</td>\n",
       "      <td>13105.0</td>\n",
       "      <td>NaN</td>\n",
       "      <td>NaN</td>\n",
       "      <td>NaN</td>\n",
       "      <td>NaN</td>\n",
       "      <td>181.0</td>\n",
       "    </tr>\n",
       "    <tr>\n",
       "      <th>349</th>\n",
       "      <td>4</td>\n",
       "      <td>2320000.0</td>\n",
       "      <td>25.0</td>\n",
       "      <td>2017-09-27</td>\n",
       "      <td>0</td>\n",
       "      <td>2.65</td>\n",
       "      <td>14.0</td>\n",
       "      <td>17.000000</td>\n",
       "      <td>1</td>\n",
       "      <td>False</td>\n",
       "      <td>...</td>\n",
       "      <td>4.310345</td>\n",
       "      <td>0.0</td>\n",
       "      <td>деревня Кудрово</td>\n",
       "      <td>26763.5</td>\n",
       "      <td>13105.0</td>\n",
       "      <td>NaN</td>\n",
       "      <td>NaN</td>\n",
       "      <td>NaN</td>\n",
       "      <td>NaN</td>\n",
       "      <td>45.0</td>\n",
       "    </tr>\n",
       "    <tr>\n",
       "      <th>508</th>\n",
       "      <td>0</td>\n",
       "      <td>3375000.0</td>\n",
       "      <td>34.4</td>\n",
       "      <td>2017-03-28</td>\n",
       "      <td>0</td>\n",
       "      <td>2.65</td>\n",
       "      <td>26.0</td>\n",
       "      <td>24.300000</td>\n",
       "      <td>19</td>\n",
       "      <td>False</td>\n",
       "      <td>...</td>\n",
       "      <td>5.931034</td>\n",
       "      <td>1.0</td>\n",
       "      <td>посёлок Парголово</td>\n",
       "      <td>53115.0</td>\n",
       "      <td>19292.0</td>\n",
       "      <td>0.0</td>\n",
       "      <td>NaN</td>\n",
       "      <td>1.0</td>\n",
       "      <td>593.0</td>\n",
       "      <td>430.0</td>\n",
       "    </tr>\n",
       "    <tr>\n",
       "      <th>608</th>\n",
       "      <td>2</td>\n",
       "      <td>1850000.0</td>\n",
       "      <td>25.0</td>\n",
       "      <td>2019-02-20</td>\n",
       "      <td>0</td>\n",
       "      <td>2.65</td>\n",
       "      <td>10.0</td>\n",
       "      <td>14.196497</td>\n",
       "      <td>7</td>\n",
       "      <td>False</td>\n",
       "      <td>...</td>\n",
       "      <td>4.310345</td>\n",
       "      <td>0.0</td>\n",
       "      <td>посёлок Шушары</td>\n",
       "      <td>26763.5</td>\n",
       "      <td>13105.0</td>\n",
       "      <td>NaN</td>\n",
       "      <td>NaN</td>\n",
       "      <td>NaN</td>\n",
       "      <td>NaN</td>\n",
       "      <td>29.0</td>\n",
       "    </tr>\n",
       "    <tr>\n",
       "      <th>697</th>\n",
       "      <td>12</td>\n",
       "      <td>2500000.0</td>\n",
       "      <td>24.1</td>\n",
       "      <td>2017-12-01</td>\n",
       "      <td>0</td>\n",
       "      <td>2.75</td>\n",
       "      <td>25.0</td>\n",
       "      <td>17.500000</td>\n",
       "      <td>21</td>\n",
       "      <td>False</td>\n",
       "      <td>...</td>\n",
       "      <td>4.155172</td>\n",
       "      <td>0.0</td>\n",
       "      <td>деревня Кудрово</td>\n",
       "      <td>26763.5</td>\n",
       "      <td>13105.0</td>\n",
       "      <td>NaN</td>\n",
       "      <td>NaN</td>\n",
       "      <td>NaN</td>\n",
       "      <td>NaN</td>\n",
       "      <td>201.0</td>\n",
       "    </tr>\n",
       "    <tr>\n",
       "      <th>716</th>\n",
       "      <td>5</td>\n",
       "      <td>1500000.0</td>\n",
       "      <td>17.0</td>\n",
       "      <td>2017-06-07</td>\n",
       "      <td>0</td>\n",
       "      <td>2.70</td>\n",
       "      <td>9.0</td>\n",
       "      <td>12.000000</td>\n",
       "      <td>1</td>\n",
       "      <td>False</td>\n",
       "      <td>...</td>\n",
       "      <td>2.931034</td>\n",
       "      <td>0.0</td>\n",
       "      <td>посёлок Шушары</td>\n",
       "      <td>18654.0</td>\n",
       "      <td>29846.0</td>\n",
       "      <td>0.0</td>\n",
       "      <td>NaN</td>\n",
       "      <td>0.0</td>\n",
       "      <td>NaN</td>\n",
       "      <td>40.0</td>\n",
       "    </tr>\n",
       "    <tr>\n",
       "      <th>780</th>\n",
       "      <td>9</td>\n",
       "      <td>2600000.0</td>\n",
       "      <td>26.1</td>\n",
       "      <td>2018-02-20</td>\n",
       "      <td>0</td>\n",
       "      <td>2.65</td>\n",
       "      <td>18.0</td>\n",
       "      <td>14.821143</td>\n",
       "      <td>8</td>\n",
       "      <td>False</td>\n",
       "      <td>...</td>\n",
       "      <td>4.500000</td>\n",
       "      <td>1.0</td>\n",
       "      <td>посёлок Мурино</td>\n",
       "      <td>26763.5</td>\n",
       "      <td>13105.0</td>\n",
       "      <td>NaN</td>\n",
       "      <td>NaN</td>\n",
       "      <td>NaN</td>\n",
       "      <td>NaN</td>\n",
       "      <td>45.0</td>\n",
       "    </tr>\n",
       "    <tr>\n",
       "      <th>839</th>\n",
       "      <td>14</td>\n",
       "      <td>1900000.0</td>\n",
       "      <td>35.0</td>\n",
       "      <td>2017-04-14</td>\n",
       "      <td>0</td>\n",
       "      <td>2.70</td>\n",
       "      <td>5.0</td>\n",
       "      <td>15.000000</td>\n",
       "      <td>3</td>\n",
       "      <td>False</td>\n",
       "      <td>...</td>\n",
       "      <td>6.034483</td>\n",
       "      <td>1.0</td>\n",
       "      <td>поселок Новый Свет</td>\n",
       "      <td>26763.5</td>\n",
       "      <td>13105.0</td>\n",
       "      <td>NaN</td>\n",
       "      <td>NaN</td>\n",
       "      <td>NaN</td>\n",
       "      <td>NaN</td>\n",
       "      <td>7.0</td>\n",
       "    </tr>\n",
       "    <tr>\n",
       "      <th>946</th>\n",
       "      <td>5</td>\n",
       "      <td>2200000.0</td>\n",
       "      <td>23.0</td>\n",
       "      <td>2016-09-27</td>\n",
       "      <td>0</td>\n",
       "      <td>2.65</td>\n",
       "      <td>27.0</td>\n",
       "      <td>18.000000</td>\n",
       "      <td>7</td>\n",
       "      <td>False</td>\n",
       "      <td>...</td>\n",
       "      <td>3.965517</td>\n",
       "      <td>2.0</td>\n",
       "      <td>посёлок Мурино</td>\n",
       "      <td>26763.5</td>\n",
       "      <td>13105.0</td>\n",
       "      <td>NaN</td>\n",
       "      <td>NaN</td>\n",
       "      <td>NaN</td>\n",
       "      <td>NaN</td>\n",
       "      <td>483.0</td>\n",
       "    </tr>\n",
       "    <tr>\n",
       "      <th>1173</th>\n",
       "      <td>12</td>\n",
       "      <td>3240000.0</td>\n",
       "      <td>29.0</td>\n",
       "      <td>2018-10-30</td>\n",
       "      <td>0</td>\n",
       "      <td>2.65</td>\n",
       "      <td>24.0</td>\n",
       "      <td>17.000000</td>\n",
       "      <td>2</td>\n",
       "      <td>False</td>\n",
       "      <td>...</td>\n",
       "      <td>5.000000</td>\n",
       "      <td>2.0</td>\n",
       "      <td>Санкт-Петербург</td>\n",
       "      <td>35129.0</td>\n",
       "      <td>16293.0</td>\n",
       "      <td>0.0</td>\n",
       "      <td>NaN</td>\n",
       "      <td>1.0</td>\n",
       "      <td>475.0</td>\n",
       "      <td>13.0</td>\n",
       "    </tr>\n",
       "  </tbody>\n",
       "</table>\n",
       "<p>10 rows × 22 columns</p>\n",
       "</div>"
      ],
      "text/plain": [
       "      total_images  last_price  total_area first_day_exposition  rooms  \\\n",
       "144              1   2450000.0        27.0           2017-03-30      0   \n",
       "349              4   2320000.0        25.0           2017-09-27      0   \n",
       "508              0   3375000.0        34.4           2017-03-28      0   \n",
       "608              2   1850000.0        25.0           2019-02-20      0   \n",
       "697             12   2500000.0        24.1           2017-12-01      0   \n",
       "716              5   1500000.0        17.0           2017-06-07      0   \n",
       "780              9   2600000.0        26.1           2018-02-20      0   \n",
       "839             14   1900000.0        35.0           2017-04-14      0   \n",
       "946              5   2200000.0        23.0           2016-09-27      0   \n",
       "1173            12   3240000.0        29.0           2018-10-30      0   \n",
       "\n",
       "      ceiling_height  floors_total  living_area  floor apartment  ...  \\\n",
       "144             2.65          24.0    15.500000      2     False  ...   \n",
       "349             2.65          14.0    17.000000      1     False  ...   \n",
       "508             2.65          26.0    24.300000     19     False  ...   \n",
       "608             2.65          10.0    14.196497      7     False  ...   \n",
       "697             2.75          25.0    17.500000     21     False  ...   \n",
       "716             2.70           9.0    12.000000      1     False  ...   \n",
       "780             2.65          18.0    14.821143      8     False  ...   \n",
       "839             2.70           5.0    15.000000      3     False  ...   \n",
       "946             2.65          27.0    18.000000      7     False  ...   \n",
       "1173            2.65          24.0    17.000000      2     False  ...   \n",
       "\n",
       "      kitchen_area  balcony       locality_name  airports_nearest  \\\n",
       "144       4.655172      2.0      посёлок Мурино           26763.5   \n",
       "349       4.310345      0.0     деревня Кудрово           26763.5   \n",
       "508       5.931034      1.0   посёлок Парголово           53115.0   \n",
       "608       4.310345      0.0      посёлок Шушары           26763.5   \n",
       "697       4.155172      0.0     деревня Кудрово           26763.5   \n",
       "716       2.931034      0.0      посёлок Шушары           18654.0   \n",
       "780       4.500000      1.0      посёлок Мурино           26763.5   \n",
       "839       6.034483      1.0  поселок Новый Свет           26763.5   \n",
       "946       3.965517      2.0      посёлок Мурино           26763.5   \n",
       "1173      5.000000      2.0     Санкт-Петербург           35129.0   \n",
       "\n",
       "     city_centers_nearest  parks_around_3km  parks_nearest  ponds_around_3km  \\\n",
       "144               13105.0               NaN            NaN               NaN   \n",
       "349               13105.0               NaN            NaN               NaN   \n",
       "508               19292.0               0.0            NaN               1.0   \n",
       "608               13105.0               NaN            NaN               NaN   \n",
       "697               13105.0               NaN            NaN               NaN   \n",
       "716               29846.0               0.0            NaN               0.0   \n",
       "780               13105.0               NaN            NaN               NaN   \n",
       "839               13105.0               NaN            NaN               NaN   \n",
       "946               13105.0               NaN            NaN               NaN   \n",
       "1173              16293.0               0.0            NaN               1.0   \n",
       "\n",
       "      ponds_nearest  days_exposition  \n",
       "144             NaN            181.0  \n",
       "349             NaN             45.0  \n",
       "508           593.0            430.0  \n",
       "608             NaN             29.0  \n",
       "697             NaN            201.0  \n",
       "716             NaN             40.0  \n",
       "780             NaN             45.0  \n",
       "839             NaN              7.0  \n",
       "946             NaN            483.0  \n",
       "1173          475.0             13.0  \n",
       "\n",
       "[10 rows x 22 columns]"
      ]
     },
     "execution_count": 30,
     "metadata": {},
     "output_type": "execute_result"
    }
   ],
   "source": [
    "# получение первых 10 строк таблицы с нулевыми значениями в столбце rooms\n",
    "df[df['rooms'] == 0].head(10)"
   ]
  },
  {
   "cell_type": "markdown",
   "metadata": {},
   "source": [
    "Как видим, во всех лотах маленькая площадь квартиры и указано отсутствие кухни. Значит, это студии. Оставляем значение `0`."
   ]
  },
  {
   "cell_type": "markdown",
   "metadata": {},
   "source": [
    "Обратимся теперь к столбцу `ceiling_height` и посмотрим распределение его минимальных, а затем максимальных значений."
   ]
  },
  {
   "cell_type": "code",
   "execution_count": 31,
   "metadata": {},
   "outputs": [
    {
     "data": {
      "text/plain": [
       "22590    1.00\n",
       "5712     1.20\n",
       "16934    1.75\n",
       "5850     2.00\n",
       "4212     2.00\n",
       "2572     2.00\n",
       "20520    2.00\n",
       "16446    2.00\n",
       "19329    2.00\n",
       "16884    2.00\n",
       "Name: ceiling_height, dtype: float64"
      ]
     },
     "execution_count": 31,
     "metadata": {},
     "output_type": "execute_result"
    }
   ],
   "source": [
    "# вывод 10 минимальных значений столбца 'ceiling_height'\n",
    "df['ceiling_height'].sort_values().head(10)"
   ]
  },
  {
   "cell_type": "code",
   "execution_count": 32,
   "metadata": {},
   "outputs": [
    {
     "data": {
      "text/plain": [
       "22869    100.0\n",
       "22336     32.0\n",
       "3148      32.0\n",
       "22938     27.0\n",
       "4876      27.0\n",
       "5246      27.0\n",
       "20478     27.0\n",
       "5807      27.0\n",
       "10773     27.0\n",
       "17857     27.0\n",
       "5669      26.0\n",
       "18545     25.0\n",
       "4643      25.0\n",
       "9379      25.0\n",
       "6246      25.0\n",
       "11285     25.0\n",
       "355       25.0\n",
       "14382     25.0\n",
       "5076      24.0\n",
       "20507     22.6\n",
       "Name: ceiling_height, dtype: float64"
      ]
     },
     "execution_count": 32,
     "metadata": {},
     "output_type": "execute_result"
    }
   ],
   "source": [
    "# вывод 20 максимальных значений столбца 'ceiling_height'\n",
    "df['ceiling_height'].sort_values(ascending=False).head(20)"
   ]
  },
  {
   "cell_type": "markdown",
   "metadata": {},
   "source": [
    "Очевидно, что высота потолка не может быть ниже роста человека и 100 метров. Кроме того, по САНПИНу высота потолка в жилом помещении не должна быть ниже 2,5 м. Поэтому удалим значения меньше 2,5 м и равное 100 м. Затем посчитаем долю значений с высотой потолков выше 10 метров."
   ]
  },
  {
   "cell_type": "code",
   "execution_count": 33,
   "metadata": {},
   "outputs": [],
   "source": [
    "# удаление строк столбца ceiling_height со значениями менее 2,5\n",
    "df = df.loc[df['ceiling_height'] >= 2.5]"
   ]
  },
  {
   "cell_type": "code",
   "execution_count": 34,
   "metadata": {},
   "outputs": [],
   "source": [
    "# удаление строк столбца ceiling_height со значением 100\n",
    "df = df.loc[df['ceiling_height'] != 100]"
   ]
  },
  {
   "cell_type": "code",
   "execution_count": 35,
   "metadata": {},
   "outputs": [
    {
     "data": {
      "text/plain": [
       "22"
      ]
     },
     "execution_count": 35,
     "metadata": {},
     "output_type": "execute_result"
    }
   ],
   "source": [
    "# подсчёт доли значений столбца ceiling_height со значением более 10\n",
    "(df['ceiling_height'] >= 10).sum()"
   ]
  },
  {
   "cell_type": "markdown",
   "metadata": {},
   "source": [
    "Таких объявлений 22 - 0,1%. Возможно, такая высота потолков - ошибка размерности. Но, возможно, мы ошибаемся. Удалим эти строки."
   ]
  },
  {
   "cell_type": "code",
   "execution_count": 36,
   "metadata": {},
   "outputs": [],
   "source": [
    "# удаление из таблицы значений с высотой потолков больше или равно 10 м\n",
    "df = df[df['ceiling_height'] < 10]"
   ]
  },
  {
   "cell_type": "markdown",
   "metadata": {},
   "source": [
    "Идём дальше. Столбец `living_area`. Посмотрим его минимальные значения."
   ]
  },
  {
   "cell_type": "code",
   "execution_count": 37,
   "metadata": {},
   "outputs": [
    {
     "data": {
      "text/plain": [
       "13915    2.000000\n",
       "21758    2.000000\n",
       "3242     3.000000\n",
       "23574    3.000000\n",
       "17582    5.000000\n",
       "21943    5.400000\n",
       "16431    6.000000\n",
       "19251    6.500000\n",
       "19546    7.382179\n",
       "17961    7.382179\n",
       "Name: living_area, dtype: float64"
      ]
     },
     "execution_count": 37,
     "metadata": {},
     "output_type": "execute_result"
    }
   ],
   "source": [
    "# вывод 10 минимальных значений столбца 'living_area'\n",
    "df['living_area'].sort_values().head(10)"
   ]
  },
  {
   "cell_type": "markdown",
   "metadata": {},
   "source": [
    "Вряд ли может быть значение жилой площади в 2 или 3 м². Удалим эти строки."
   ]
  },
  {
   "cell_type": "code",
   "execution_count": 38,
   "metadata": {},
   "outputs": [],
   "source": [
    "# удаление строки столбца 'living_area' со значениями менее 5 м²\n",
    "df = df.loc[df['living_area'] >= 5]"
   ]
  },
  {
   "cell_type": "markdown",
   "metadata": {},
   "source": [
    "Проделаем аналогичные манипуляции со столбцом `kitchen_area`."
   ]
  },
  {
   "cell_type": "code",
   "execution_count": 39,
   "metadata": {},
   "outputs": [
    {
     "data": {
      "text/plain": [
       "20217    1.300000\n",
       "21419    2.000000\n",
       "19642    2.000000\n",
       "6262     2.000000\n",
       "16367    2.000000\n",
       "11033    2.000000\n",
       "906      2.000000\n",
       "9138     2.000000\n",
       "19807    2.241379\n",
       "17961    2.241379\n",
       "Name: kitchen_area, dtype: float64"
      ]
     },
     "execution_count": 39,
     "metadata": {},
     "output_type": "execute_result"
    }
   ],
   "source": [
    "# вывод 10 минимальных значений столбца 'kitchen_area'\n",
    "df['kitchen_area'].sort_values().head(10)"
   ]
  },
  {
   "cell_type": "markdown",
   "metadata": {},
   "source": [
    "Вряд ли может быть площадь кухни менее 2 м². Удалим эту строку."
   ]
  },
  {
   "cell_type": "code",
   "execution_count": 40,
   "metadata": {},
   "outputs": [],
   "source": [
    "# удаление строки столбца 'kitchen_area' со значением менее 2 м²\n",
    "df = df.loc[df['kitchen_area'] >= 2]"
   ]
  },
  {
   "cell_type": "markdown",
   "metadata": {},
   "source": [
    "Наконец, обратимся к столбцу `airports_nearest` и удалим лоты, находящиеся на расстоянии 0 м от аэропорта как очевидно ошибочные."
   ]
  },
  {
   "cell_type": "code",
   "execution_count": 41,
   "metadata": {},
   "outputs": [],
   "source": [
    "# удаление нулей в столбце 'airports_nearest'\n",
    "df = df.loc[df['airports_nearest'] != 0]"
   ]
  },
  {
   "cell_type": "markdown",
   "metadata": {},
   "source": [
    "Поменяем размерность значений столбцов `airports_nearest` и `city_centers_nearest` c метров в километры."
   ]
  },
  {
   "cell_type": "code",
   "execution_count": 42,
   "metadata": {},
   "outputs": [],
   "source": [
    "# изменение разрядности значений `parks_around_3km` и `ponds_around_3km`\n",
    "df['airports_nearest'] = df['airports_nearest'] / 1000\n",
    "df['city_centers_nearest'] = df['city_centers_nearest'] / 1000"
   ]
  },
  {
   "cell_type": "markdown",
   "metadata": {},
   "source": [
    "Посмотрим на полученные дапазоны числовых переменных."
   ]
  },
  {
   "cell_type": "code",
   "execution_count": 43,
   "metadata": {},
   "outputs": [
    {
     "data": {
      "text/html": [
       "<div>\n",
       "<style scoped>\n",
       "    .dataframe tbody tr th:only-of-type {\n",
       "        vertical-align: middle;\n",
       "    }\n",
       "\n",
       "    .dataframe tbody tr th {\n",
       "        vertical-align: top;\n",
       "    }\n",
       "\n",
       "    .dataframe thead th {\n",
       "        text-align: right;\n",
       "    }\n",
       "</style>\n",
       "<table border=\"1\" class=\"dataframe\">\n",
       "  <thead>\n",
       "    <tr style=\"text-align: right;\">\n",
       "      <th></th>\n",
       "      <th>total_images</th>\n",
       "      <th>last_price</th>\n",
       "      <th>total_area</th>\n",
       "      <th>rooms</th>\n",
       "      <th>ceiling_height</th>\n",
       "      <th>floors_total</th>\n",
       "      <th>living_area</th>\n",
       "      <th>floor</th>\n",
       "      <th>kitchen_area</th>\n",
       "      <th>balcony</th>\n",
       "      <th>airports_nearest</th>\n",
       "      <th>city_centers_nearest</th>\n",
       "      <th>parks_around_3km</th>\n",
       "      <th>parks_nearest</th>\n",
       "      <th>ponds_around_3km</th>\n",
       "      <th>ponds_nearest</th>\n",
       "      <th>days_exposition</th>\n",
       "    </tr>\n",
       "  </thead>\n",
       "  <tbody>\n",
       "    <tr>\n",
       "      <th>count</th>\n",
       "      <td>23432.000000</td>\n",
       "      <td>2.343200e+04</td>\n",
       "      <td>23432.000000</td>\n",
       "      <td>23432.000000</td>\n",
       "      <td>23432.000000</td>\n",
       "      <td>23432.000000</td>\n",
       "      <td>23432.000000</td>\n",
       "      <td>23432.000000</td>\n",
       "      <td>23432.000000</td>\n",
       "      <td>23432.000000</td>\n",
       "      <td>23432.000000</td>\n",
       "      <td>23432.000000</td>\n",
       "      <td>17996.000000</td>\n",
       "      <td>7995.000000</td>\n",
       "      <td>17996.000000</td>\n",
       "      <td>9011.000000</td>\n",
       "      <td>20280.000000</td>\n",
       "    </tr>\n",
       "    <tr>\n",
       "      <th>mean</th>\n",
       "      <td>9.873037</td>\n",
       "      <td>6.546577e+06</td>\n",
       "      <td>60.427010</td>\n",
       "      <td>2.072977</td>\n",
       "      <td>2.698467</td>\n",
       "      <td>10.673054</td>\n",
       "      <td>34.556553</td>\n",
       "      <td>5.889766</td>\n",
       "      <td>10.483719</td>\n",
       "      <td>0.588853</td>\n",
       "      <td>28.339145</td>\n",
       "      <td>13.947206</td>\n",
       "      <td>0.610525</td>\n",
       "      <td>491.248530</td>\n",
       "      <td>0.768782</td>\n",
       "      <td>518.152813</td>\n",
       "      <td>181.096400</td>\n",
       "    </tr>\n",
       "    <tr>\n",
       "      <th>std</th>\n",
       "      <td>5.679726</td>\n",
       "      <td>1.088529e+07</td>\n",
       "      <td>35.720696</td>\n",
       "      <td>1.077929</td>\n",
       "      <td>0.230176</td>\n",
       "      <td>6.585564</td>\n",
       "      <td>22.332693</td>\n",
       "      <td>4.879987</td>\n",
       "      <td>6.000813</td>\n",
       "      <td>0.957529</td>\n",
       "      <td>11.098167</td>\n",
       "      <td>7.557484</td>\n",
       "      <td>0.801054</td>\n",
       "      <td>342.826131</td>\n",
       "      <td>0.936936</td>\n",
       "      <td>277.779029</td>\n",
       "      <td>220.225044</td>\n",
       "    </tr>\n",
       "    <tr>\n",
       "      <th>min</th>\n",
       "      <td>0.000000</td>\n",
       "      <td>1.219000e+04</td>\n",
       "      <td>13.000000</td>\n",
       "      <td>0.000000</td>\n",
       "      <td>2.500000</td>\n",
       "      <td>1.000000</td>\n",
       "      <td>5.000000</td>\n",
       "      <td>1.000000</td>\n",
       "      <td>2.000000</td>\n",
       "      <td>0.000000</td>\n",
       "      <td>6.450000</td>\n",
       "      <td>0.181000</td>\n",
       "      <td>0.000000</td>\n",
       "      <td>1.000000</td>\n",
       "      <td>0.000000</td>\n",
       "      <td>13.000000</td>\n",
       "      <td>1.000000</td>\n",
       "    </tr>\n",
       "    <tr>\n",
       "      <th>25%</th>\n",
       "      <td>6.000000</td>\n",
       "      <td>3.440000e+06</td>\n",
       "      <td>40.000000</td>\n",
       "      <td>1.000000</td>\n",
       "      <td>2.600000</td>\n",
       "      <td>5.000000</td>\n",
       "      <td>19.000000</td>\n",
       "      <td>2.000000</td>\n",
       "      <td>7.000000</td>\n",
       "      <td>0.000000</td>\n",
       "      <td>21.176000</td>\n",
       "      <td>10.935000</td>\n",
       "      <td>0.000000</td>\n",
       "      <td>288.000000</td>\n",
       "      <td>0.000000</td>\n",
       "      <td>293.000000</td>\n",
       "      <td>45.000000</td>\n",
       "    </tr>\n",
       "    <tr>\n",
       "      <th>50%</th>\n",
       "      <td>9.000000</td>\n",
       "      <td>4.650000e+06</td>\n",
       "      <td>52.000000</td>\n",
       "      <td>2.000000</td>\n",
       "      <td>2.650000</td>\n",
       "      <td>9.000000</td>\n",
       "      <td>30.000000</td>\n",
       "      <td>4.000000</td>\n",
       "      <td>9.000000</td>\n",
       "      <td>0.000000</td>\n",
       "      <td>26.763500</td>\n",
       "      <td>13.105000</td>\n",
       "      <td>0.000000</td>\n",
       "      <td>455.000000</td>\n",
       "      <td>1.000000</td>\n",
       "      <td>503.000000</td>\n",
       "      <td>95.000000</td>\n",
       "    </tr>\n",
       "    <tr>\n",
       "      <th>75%</th>\n",
       "      <td>14.000000</td>\n",
       "      <td>6.800000e+06</td>\n",
       "      <td>70.000000</td>\n",
       "      <td>3.000000</td>\n",
       "      <td>2.700000</td>\n",
       "      <td>16.000000</td>\n",
       "      <td>42.100000</td>\n",
       "      <td>8.000000</td>\n",
       "      <td>12.000000</td>\n",
       "      <td>1.000000</td>\n",
       "      <td>34.442000</td>\n",
       "      <td>15.261000</td>\n",
       "      <td>1.000000</td>\n",
       "      <td>612.000000</td>\n",
       "      <td>1.000000</td>\n",
       "      <td>730.000000</td>\n",
       "      <td>232.000000</td>\n",
       "    </tr>\n",
       "    <tr>\n",
       "      <th>max</th>\n",
       "      <td>50.000000</td>\n",
       "      <td>7.630000e+08</td>\n",
       "      <td>900.000000</td>\n",
       "      <td>19.000000</td>\n",
       "      <td>8.300000</td>\n",
       "      <td>60.000000</td>\n",
       "      <td>409.700000</td>\n",
       "      <td>33.000000</td>\n",
       "      <td>112.000000</td>\n",
       "      <td>5.000000</td>\n",
       "      <td>84.869000</td>\n",
       "      <td>65.968000</td>\n",
       "      <td>3.000000</td>\n",
       "      <td>3190.000000</td>\n",
       "      <td>3.000000</td>\n",
       "      <td>1344.000000</td>\n",
       "      <td>1580.000000</td>\n",
       "    </tr>\n",
       "  </tbody>\n",
       "</table>\n",
       "</div>"
      ],
      "text/plain": [
       "       total_images    last_price    total_area         rooms  ceiling_height  \\\n",
       "count  23432.000000  2.343200e+04  23432.000000  23432.000000    23432.000000   \n",
       "mean       9.873037  6.546577e+06     60.427010      2.072977        2.698467   \n",
       "std        5.679726  1.088529e+07     35.720696      1.077929        0.230176   \n",
       "min        0.000000  1.219000e+04     13.000000      0.000000        2.500000   \n",
       "25%        6.000000  3.440000e+06     40.000000      1.000000        2.600000   \n",
       "50%        9.000000  4.650000e+06     52.000000      2.000000        2.650000   \n",
       "75%       14.000000  6.800000e+06     70.000000      3.000000        2.700000   \n",
       "max       50.000000  7.630000e+08    900.000000     19.000000        8.300000   \n",
       "\n",
       "       floors_total   living_area         floor  kitchen_area       balcony  \\\n",
       "count  23432.000000  23432.000000  23432.000000  23432.000000  23432.000000   \n",
       "mean      10.673054     34.556553      5.889766     10.483719      0.588853   \n",
       "std        6.585564     22.332693      4.879987      6.000813      0.957529   \n",
       "min        1.000000      5.000000      1.000000      2.000000      0.000000   \n",
       "25%        5.000000     19.000000      2.000000      7.000000      0.000000   \n",
       "50%        9.000000     30.000000      4.000000      9.000000      0.000000   \n",
       "75%       16.000000     42.100000      8.000000     12.000000      1.000000   \n",
       "max       60.000000    409.700000     33.000000    112.000000      5.000000   \n",
       "\n",
       "       airports_nearest  city_centers_nearest  parks_around_3km  \\\n",
       "count      23432.000000          23432.000000      17996.000000   \n",
       "mean          28.339145             13.947206          0.610525   \n",
       "std           11.098167              7.557484          0.801054   \n",
       "min            6.450000              0.181000          0.000000   \n",
       "25%           21.176000             10.935000          0.000000   \n",
       "50%           26.763500             13.105000          0.000000   \n",
       "75%           34.442000             15.261000          1.000000   \n",
       "max           84.869000             65.968000          3.000000   \n",
       "\n",
       "       parks_nearest  ponds_around_3km  ponds_nearest  days_exposition  \n",
       "count    7995.000000      17996.000000    9011.000000     20280.000000  \n",
       "mean      491.248530          0.768782     518.152813       181.096400  \n",
       "std       342.826131          0.936936     277.779029       220.225044  \n",
       "min         1.000000          0.000000      13.000000         1.000000  \n",
       "25%       288.000000          0.000000     293.000000        45.000000  \n",
       "50%       455.000000          1.000000     503.000000        95.000000  \n",
       "75%       612.000000          1.000000     730.000000       232.000000  \n",
       "max      3190.000000          3.000000    1344.000000      1580.000000  "
      ]
     },
     "execution_count": 43,
     "metadata": {},
     "output_type": "execute_result"
    }
   ],
   "source": [
    "# оценка числовых переменных\n",
    "df.describe()"
   ]
  },
  {
   "cell_type": "markdown",
   "metadata": {},
   "source": [
    "Переходим к изменению типов данных."
   ]
  },
  {
   "cell_type": "markdown",
   "metadata": {},
   "source": [
    "### Изменение типов данных"
   ]
  },
  {
   "cell_type": "markdown",
   "metadata": {},
   "source": [
    "Выведем ещё раз информацию о типах данных в таблице и взглянем на саму таблицу."
   ]
  },
  {
   "cell_type": "code",
   "execution_count": 44,
   "metadata": {},
   "outputs": [
    {
     "name": "stdout",
     "output_type": "stream",
     "text": [
      "<class 'pandas.core.frame.DataFrame'>\n",
      "Int64Index: 23432 entries, 0 to 23698\n",
      "Data columns (total 22 columns):\n",
      " #   Column                Non-Null Count  Dtype         \n",
      "---  ------                --------------  -----         \n",
      " 0   total_images          23432 non-null  int64         \n",
      " 1   last_price            23432 non-null  float64       \n",
      " 2   total_area            23432 non-null  float64       \n",
      " 3   first_day_exposition  23432 non-null  datetime64[ns]\n",
      " 4   rooms                 23432 non-null  int64         \n",
      " 5   ceiling_height        23432 non-null  float64       \n",
      " 6   floors_total          23432 non-null  float64       \n",
      " 7   living_area           23432 non-null  float64       \n",
      " 8   floor                 23432 non-null  int64         \n",
      " 9   apartment             23432 non-null  object        \n",
      " 10  studio                23432 non-null  bool          \n",
      " 11  open_plan             23432 non-null  bool          \n",
      " 12  kitchen_area          23432 non-null  float64       \n",
      " 13  balcony               23432 non-null  float64       \n",
      " 14  locality_name         23432 non-null  object        \n",
      " 15  airports_nearest      23432 non-null  float64       \n",
      " 16  city_centers_nearest  23432 non-null  float64       \n",
      " 17  parks_around_3km      17996 non-null  float64       \n",
      " 18  parks_nearest         7995 non-null   float64       \n",
      " 19  ponds_around_3km      17996 non-null  float64       \n",
      " 20  ponds_nearest         9011 non-null   float64       \n",
      " 21  days_exposition       20280 non-null  float64       \n",
      "dtypes: bool(2), datetime64[ns](1), float64(14), int64(3), object(2)\n",
      "memory usage: 3.8+ MB\n"
     ]
    }
   ],
   "source": [
    "# получение общей информации о данных в таблице df\n",
    "df.info()"
   ]
  },
  {
   "cell_type": "code",
   "execution_count": 45,
   "metadata": {
    "scrolled": true
   },
   "outputs": [
    {
     "data": {
      "text/html": [
       "<div>\n",
       "<style scoped>\n",
       "    .dataframe tbody tr th:only-of-type {\n",
       "        vertical-align: middle;\n",
       "    }\n",
       "\n",
       "    .dataframe tbody tr th {\n",
       "        vertical-align: top;\n",
       "    }\n",
       "\n",
       "    .dataframe thead th {\n",
       "        text-align: right;\n",
       "    }\n",
       "</style>\n",
       "<table border=\"1\" class=\"dataframe\">\n",
       "  <thead>\n",
       "    <tr style=\"text-align: right;\">\n",
       "      <th></th>\n",
       "      <th>total_images</th>\n",
       "      <th>last_price</th>\n",
       "      <th>total_area</th>\n",
       "      <th>first_day_exposition</th>\n",
       "      <th>rooms</th>\n",
       "      <th>ceiling_height</th>\n",
       "      <th>floors_total</th>\n",
       "      <th>living_area</th>\n",
       "      <th>floor</th>\n",
       "      <th>apartment</th>\n",
       "      <th>...</th>\n",
       "      <th>kitchen_area</th>\n",
       "      <th>balcony</th>\n",
       "      <th>locality_name</th>\n",
       "      <th>airports_nearest</th>\n",
       "      <th>city_centers_nearest</th>\n",
       "      <th>parks_around_3km</th>\n",
       "      <th>parks_nearest</th>\n",
       "      <th>ponds_around_3km</th>\n",
       "      <th>ponds_nearest</th>\n",
       "      <th>days_exposition</th>\n",
       "    </tr>\n",
       "  </thead>\n",
       "  <tbody>\n",
       "    <tr>\n",
       "      <th>0</th>\n",
       "      <td>20</td>\n",
       "      <td>13000000.0</td>\n",
       "      <td>108.0</td>\n",
       "      <td>2019-03-07</td>\n",
       "      <td>3</td>\n",
       "      <td>2.70</td>\n",
       "      <td>16.0</td>\n",
       "      <td>51.000000</td>\n",
       "      <td>8</td>\n",
       "      <td>False</td>\n",
       "      <td>...</td>\n",
       "      <td>25.000000</td>\n",
       "      <td>0.0</td>\n",
       "      <td>Санкт-Петербург</td>\n",
       "      <td>18.863</td>\n",
       "      <td>16.028</td>\n",
       "      <td>1.0</td>\n",
       "      <td>482.0</td>\n",
       "      <td>2.0</td>\n",
       "      <td>755.0</td>\n",
       "      <td>NaN</td>\n",
       "    </tr>\n",
       "    <tr>\n",
       "      <th>1</th>\n",
       "      <td>7</td>\n",
       "      <td>3350000.0</td>\n",
       "      <td>40.4</td>\n",
       "      <td>2018-12-04</td>\n",
       "      <td>1</td>\n",
       "      <td>2.65</td>\n",
       "      <td>11.0</td>\n",
       "      <td>18.600000</td>\n",
       "      <td>1</td>\n",
       "      <td>False</td>\n",
       "      <td>...</td>\n",
       "      <td>11.000000</td>\n",
       "      <td>2.0</td>\n",
       "      <td>посёлок Шушары</td>\n",
       "      <td>12.817</td>\n",
       "      <td>18.603</td>\n",
       "      <td>0.0</td>\n",
       "      <td>NaN</td>\n",
       "      <td>0.0</td>\n",
       "      <td>NaN</td>\n",
       "      <td>81.0</td>\n",
       "    </tr>\n",
       "    <tr>\n",
       "      <th>2</th>\n",
       "      <td>10</td>\n",
       "      <td>5196000.0</td>\n",
       "      <td>56.0</td>\n",
       "      <td>2015-08-20</td>\n",
       "      <td>2</td>\n",
       "      <td>2.65</td>\n",
       "      <td>5.0</td>\n",
       "      <td>34.300000</td>\n",
       "      <td>4</td>\n",
       "      <td>False</td>\n",
       "      <td>...</td>\n",
       "      <td>8.300000</td>\n",
       "      <td>0.0</td>\n",
       "      <td>Санкт-Петербург</td>\n",
       "      <td>21.741</td>\n",
       "      <td>13.933</td>\n",
       "      <td>1.0</td>\n",
       "      <td>90.0</td>\n",
       "      <td>2.0</td>\n",
       "      <td>574.0</td>\n",
       "      <td>558.0</td>\n",
       "    </tr>\n",
       "    <tr>\n",
       "      <th>3</th>\n",
       "      <td>0</td>\n",
       "      <td>64900000.0</td>\n",
       "      <td>159.0</td>\n",
       "      <td>2015-07-24</td>\n",
       "      <td>3</td>\n",
       "      <td>2.65</td>\n",
       "      <td>14.0</td>\n",
       "      <td>90.289724</td>\n",
       "      <td>9</td>\n",
       "      <td>False</td>\n",
       "      <td>...</td>\n",
       "      <td>27.413793</td>\n",
       "      <td>0.0</td>\n",
       "      <td>Санкт-Петербург</td>\n",
       "      <td>28.098</td>\n",
       "      <td>6.800</td>\n",
       "      <td>2.0</td>\n",
       "      <td>84.0</td>\n",
       "      <td>3.0</td>\n",
       "      <td>234.0</td>\n",
       "      <td>424.0</td>\n",
       "    </tr>\n",
       "    <tr>\n",
       "      <th>4</th>\n",
       "      <td>2</td>\n",
       "      <td>10000000.0</td>\n",
       "      <td>100.0</td>\n",
       "      <td>2018-06-19</td>\n",
       "      <td>2</td>\n",
       "      <td>3.03</td>\n",
       "      <td>14.0</td>\n",
       "      <td>32.000000</td>\n",
       "      <td>13</td>\n",
       "      <td>False</td>\n",
       "      <td>...</td>\n",
       "      <td>41.000000</td>\n",
       "      <td>0.0</td>\n",
       "      <td>Санкт-Петербург</td>\n",
       "      <td>31.856</td>\n",
       "      <td>8.098</td>\n",
       "      <td>2.0</td>\n",
       "      <td>112.0</td>\n",
       "      <td>1.0</td>\n",
       "      <td>48.0</td>\n",
       "      <td>121.0</td>\n",
       "    </tr>\n",
       "  </tbody>\n",
       "</table>\n",
       "<p>5 rows × 22 columns</p>\n",
       "</div>"
      ],
      "text/plain": [
       "   total_images  last_price  total_area first_day_exposition  rooms  \\\n",
       "0            20  13000000.0       108.0           2019-03-07      3   \n",
       "1             7   3350000.0        40.4           2018-12-04      1   \n",
       "2            10   5196000.0        56.0           2015-08-20      2   \n",
       "3             0  64900000.0       159.0           2015-07-24      3   \n",
       "4             2  10000000.0       100.0           2018-06-19      2   \n",
       "\n",
       "   ceiling_height  floors_total  living_area  floor apartment  ...  \\\n",
       "0            2.70          16.0    51.000000      8     False  ...   \n",
       "1            2.65          11.0    18.600000      1     False  ...   \n",
       "2            2.65           5.0    34.300000      4     False  ...   \n",
       "3            2.65          14.0    90.289724      9     False  ...   \n",
       "4            3.03          14.0    32.000000     13     False  ...   \n",
       "\n",
       "   kitchen_area  balcony    locality_name  airports_nearest  \\\n",
       "0     25.000000      0.0  Санкт-Петербург            18.863   \n",
       "1     11.000000      2.0   посёлок Шушары            12.817   \n",
       "2      8.300000      0.0  Санкт-Петербург            21.741   \n",
       "3     27.413793      0.0  Санкт-Петербург            28.098   \n",
       "4     41.000000      0.0  Санкт-Петербург            31.856   \n",
       "\n",
       "  city_centers_nearest  parks_around_3km  parks_nearest  ponds_around_3km  \\\n",
       "0               16.028               1.0          482.0               2.0   \n",
       "1               18.603               0.0            NaN               0.0   \n",
       "2               13.933               1.0           90.0               2.0   \n",
       "3                6.800               2.0           84.0               3.0   \n",
       "4                8.098               2.0          112.0               1.0   \n",
       "\n",
       "   ponds_nearest  days_exposition  \n",
       "0          755.0              NaN  \n",
       "1            NaN             81.0  \n",
       "2          574.0            558.0  \n",
       "3          234.0            424.0  \n",
       "4           48.0            121.0  \n",
       "\n",
       "[5 rows x 22 columns]"
      ]
     },
     "execution_count": 45,
     "metadata": {},
     "output_type": "execute_result"
    }
   ],
   "source": [
    "# получение первых 5 строк таблицы df\n",
    "df.head()"
   ]
  },
  {
   "cell_type": "markdown",
   "metadata": {},
   "source": [
    "Преобразуем в целочисленные значения данные в столбцах `last_price`, `floors_total`, `balcony`, `airports_nearest`, `city_centers_nearest`."
   ]
  },
  {
   "cell_type": "code",
   "execution_count": 46,
   "metadata": {},
   "outputs": [],
   "source": [
    "# преобразуем данные в выше указанных столбцах из типа float в тип int\n",
    "df['last_price'] = df['last_price'].astype('int')\n",
    "df['floors_total'] = df['floors_total'].astype('int')\n",
    "df['balcony'] = df['balcony'].astype('int')\n",
    "df['airports_nearest'] = df['airports_nearest'].astype('int')\n",
    "df['city_centers_nearest'] = df['city_centers_nearest'].astype('int')"
   ]
  },
  {
   "cell_type": "markdown",
   "metadata": {},
   "source": [
    "Данные в столбцах `living_area` и `kitchen_area` округлим до сотых."
   ]
  },
  {
   "cell_type": "code",
   "execution_count": 47,
   "metadata": {},
   "outputs": [],
   "source": [
    "# округление до сотых данных в столбцах living_area и kitchen_area\n",
    "df['living_area'] = round(df['living_area'], 2)\n",
    "df['kitchen_area'] = round(df['kitchen_area'], 2)"
   ]
  },
  {
   "cell_type": "markdown",
   "metadata": {},
   "source": [
    "Для экономии памяти заменим тип данных float64 на float32."
   ]
  },
  {
   "cell_type": "code",
   "execution_count": 48,
   "metadata": {},
   "outputs": [],
   "source": [
    "# преобразуем данные в выше указанных столбцах из типа float64 в тип float32\n",
    "df['total_area'] = df['total_area'].astype('float32')\n",
    "df['ceiling_height'] = df['ceiling_height'].astype('float32')\n",
    "df['living_area'] = df['living_area'].astype('float32')\n",
    "df['kitchen_area'] = df['kitchen_area'].astype('float32')\n",
    "df['parks_around_3km'] = df['parks_around_3km'].astype('float32')\n",
    "df['parks_nearest'] = df['parks_nearest'].astype('float32')\n",
    "df['ponds_around_3km'] = df['ponds_around_3km'].astype('float32')\n",
    "df['ponds_nearest'] = df['ponds_nearest'].astype('float32')\n",
    "df['days_exposition'] = df['days_exposition'].astype('float32')"
   ]
  },
  {
   "cell_type": "markdown",
   "metadata": {},
   "source": [
    "Наконец, изменим порядок столбцов на более удобный для анализа."
   ]
  },
  {
   "cell_type": "code",
   "execution_count": 49,
   "metadata": {},
   "outputs": [],
   "source": [
    "# изменение порядка вывода столбцов в таблице\n",
    "df = df.reindex(columns=['last_price','total_area','first_day_exposition',\\\n",
    "                         'locality_name','rooms','living_area','kitchen_area',\\\n",
    "                         'floor','floors_total','balcony','ceiling_height',\\\n",
    "                         'total_images','apartment','studio','open_plan',\\\n",
    "                         'airports_nearest','city_centers_nearest',\\\n",
    "                         'parks_around_3km','parks_nearest',\\\n",
    "                         'ponds_around_3km','ponds_nearest','days_exposition'])"
   ]
  },
  {
   "cell_type": "markdown",
   "metadata": {},
   "source": [
    "Проверим полученный результат."
   ]
  },
  {
   "cell_type": "code",
   "execution_count": 50,
   "metadata": {},
   "outputs": [
    {
     "data": {
      "text/html": [
       "<div>\n",
       "<style scoped>\n",
       "    .dataframe tbody tr th:only-of-type {\n",
       "        vertical-align: middle;\n",
       "    }\n",
       "\n",
       "    .dataframe tbody tr th {\n",
       "        vertical-align: top;\n",
       "    }\n",
       "\n",
       "    .dataframe thead th {\n",
       "        text-align: right;\n",
       "    }\n",
       "</style>\n",
       "<table border=\"1\" class=\"dataframe\">\n",
       "  <thead>\n",
       "    <tr style=\"text-align: right;\">\n",
       "      <th></th>\n",
       "      <th>last_price</th>\n",
       "      <th>total_area</th>\n",
       "      <th>first_day_exposition</th>\n",
       "      <th>locality_name</th>\n",
       "      <th>rooms</th>\n",
       "      <th>living_area</th>\n",
       "      <th>kitchen_area</th>\n",
       "      <th>floor</th>\n",
       "      <th>floors_total</th>\n",
       "      <th>balcony</th>\n",
       "      <th>...</th>\n",
       "      <th>apartment</th>\n",
       "      <th>studio</th>\n",
       "      <th>open_plan</th>\n",
       "      <th>airports_nearest</th>\n",
       "      <th>city_centers_nearest</th>\n",
       "      <th>parks_around_3km</th>\n",
       "      <th>parks_nearest</th>\n",
       "      <th>ponds_around_3km</th>\n",
       "      <th>ponds_nearest</th>\n",
       "      <th>days_exposition</th>\n",
       "    </tr>\n",
       "  </thead>\n",
       "  <tbody>\n",
       "    <tr>\n",
       "      <th>0</th>\n",
       "      <td>13000000</td>\n",
       "      <td>108.000000</td>\n",
       "      <td>2019-03-07</td>\n",
       "      <td>Санкт-Петербург</td>\n",
       "      <td>3</td>\n",
       "      <td>51.000000</td>\n",
       "      <td>25.00</td>\n",
       "      <td>8</td>\n",
       "      <td>16</td>\n",
       "      <td>0</td>\n",
       "      <td>...</td>\n",
       "      <td>False</td>\n",
       "      <td>False</td>\n",
       "      <td>False</td>\n",
       "      <td>18</td>\n",
       "      <td>16</td>\n",
       "      <td>1.0</td>\n",
       "      <td>482.0</td>\n",
       "      <td>2.0</td>\n",
       "      <td>755.0</td>\n",
       "      <td>NaN</td>\n",
       "    </tr>\n",
       "    <tr>\n",
       "      <th>1</th>\n",
       "      <td>3350000</td>\n",
       "      <td>40.400002</td>\n",
       "      <td>2018-12-04</td>\n",
       "      <td>посёлок Шушары</td>\n",
       "      <td>1</td>\n",
       "      <td>18.600000</td>\n",
       "      <td>11.00</td>\n",
       "      <td>1</td>\n",
       "      <td>11</td>\n",
       "      <td>2</td>\n",
       "      <td>...</td>\n",
       "      <td>False</td>\n",
       "      <td>False</td>\n",
       "      <td>False</td>\n",
       "      <td>12</td>\n",
       "      <td>18</td>\n",
       "      <td>0.0</td>\n",
       "      <td>NaN</td>\n",
       "      <td>0.0</td>\n",
       "      <td>NaN</td>\n",
       "      <td>81.0</td>\n",
       "    </tr>\n",
       "    <tr>\n",
       "      <th>2</th>\n",
       "      <td>5196000</td>\n",
       "      <td>56.000000</td>\n",
       "      <td>2015-08-20</td>\n",
       "      <td>Санкт-Петербург</td>\n",
       "      <td>2</td>\n",
       "      <td>34.299999</td>\n",
       "      <td>8.30</td>\n",
       "      <td>4</td>\n",
       "      <td>5</td>\n",
       "      <td>0</td>\n",
       "      <td>...</td>\n",
       "      <td>False</td>\n",
       "      <td>False</td>\n",
       "      <td>False</td>\n",
       "      <td>21</td>\n",
       "      <td>13</td>\n",
       "      <td>1.0</td>\n",
       "      <td>90.0</td>\n",
       "      <td>2.0</td>\n",
       "      <td>574.0</td>\n",
       "      <td>558.0</td>\n",
       "    </tr>\n",
       "    <tr>\n",
       "      <th>3</th>\n",
       "      <td>64900000</td>\n",
       "      <td>159.000000</td>\n",
       "      <td>2015-07-24</td>\n",
       "      <td>Санкт-Петербург</td>\n",
       "      <td>3</td>\n",
       "      <td>90.290001</td>\n",
       "      <td>27.41</td>\n",
       "      <td>9</td>\n",
       "      <td>14</td>\n",
       "      <td>0</td>\n",
       "      <td>...</td>\n",
       "      <td>False</td>\n",
       "      <td>False</td>\n",
       "      <td>False</td>\n",
       "      <td>28</td>\n",
       "      <td>6</td>\n",
       "      <td>2.0</td>\n",
       "      <td>84.0</td>\n",
       "      <td>3.0</td>\n",
       "      <td>234.0</td>\n",
       "      <td>424.0</td>\n",
       "    </tr>\n",
       "    <tr>\n",
       "      <th>4</th>\n",
       "      <td>10000000</td>\n",
       "      <td>100.000000</td>\n",
       "      <td>2018-06-19</td>\n",
       "      <td>Санкт-Петербург</td>\n",
       "      <td>2</td>\n",
       "      <td>32.000000</td>\n",
       "      <td>41.00</td>\n",
       "      <td>13</td>\n",
       "      <td>14</td>\n",
       "      <td>0</td>\n",
       "      <td>...</td>\n",
       "      <td>False</td>\n",
       "      <td>False</td>\n",
       "      <td>False</td>\n",
       "      <td>31</td>\n",
       "      <td>8</td>\n",
       "      <td>2.0</td>\n",
       "      <td>112.0</td>\n",
       "      <td>1.0</td>\n",
       "      <td>48.0</td>\n",
       "      <td>121.0</td>\n",
       "    </tr>\n",
       "  </tbody>\n",
       "</table>\n",
       "<p>5 rows × 22 columns</p>\n",
       "</div>"
      ],
      "text/plain": [
       "   last_price  total_area first_day_exposition    locality_name  rooms  \\\n",
       "0    13000000  108.000000           2019-03-07  Санкт-Петербург      3   \n",
       "1     3350000   40.400002           2018-12-04   посёлок Шушары      1   \n",
       "2     5196000   56.000000           2015-08-20  Санкт-Петербург      2   \n",
       "3    64900000  159.000000           2015-07-24  Санкт-Петербург      3   \n",
       "4    10000000  100.000000           2018-06-19  Санкт-Петербург      2   \n",
       "\n",
       "   living_area  kitchen_area  floor  floors_total  balcony  ...  apartment  \\\n",
       "0    51.000000         25.00      8            16        0  ...      False   \n",
       "1    18.600000         11.00      1            11        2  ...      False   \n",
       "2    34.299999          8.30      4             5        0  ...      False   \n",
       "3    90.290001         27.41      9            14        0  ...      False   \n",
       "4    32.000000         41.00     13            14        0  ...      False   \n",
       "\n",
       "   studio open_plan  airports_nearest  city_centers_nearest  parks_around_3km  \\\n",
       "0   False     False                18                    16               1.0   \n",
       "1   False     False                12                    18               0.0   \n",
       "2   False     False                21                    13               1.0   \n",
       "3   False     False                28                     6               2.0   \n",
       "4   False     False                31                     8               2.0   \n",
       "\n",
       "   parks_nearest  ponds_around_3km  ponds_nearest  days_exposition  \n",
       "0          482.0               2.0          755.0              NaN  \n",
       "1            NaN               0.0            NaN             81.0  \n",
       "2           90.0               2.0          574.0            558.0  \n",
       "3           84.0               3.0          234.0            424.0  \n",
       "4          112.0               1.0           48.0            121.0  \n",
       "\n",
       "[5 rows x 22 columns]"
      ]
     },
     "execution_count": 50,
     "metadata": {},
     "output_type": "execute_result"
    }
   ],
   "source": [
    "# получение первых 5 строк таблицы df\n",
    "df.head()"
   ]
  },
  {
   "cell_type": "markdown",
   "metadata": {},
   "source": [
    "Итак, мы изменили заголовки, заполнили большую часть пропусков, округлили даты, удалили аномальные значения, поменяли размерность некоторых столбцов, изменили типы данных и сделали более удобным порядок столбцов. \n",
    "\n",
    "У нас осталось 23 432 строки данных (были удалены лишь 267 наблюдений, около 1%), с полностью заполненными 17 из 22 столбцов.\n",
    "\n",
    "Закончив предобработку данных, перейдём к следующему разделу - к расчётам."
   ]
  },
  {
   "cell_type": "markdown",
   "metadata": {},
   "source": [
    "## Расчёты и добавление результатов в таблицу"
   ]
  },
  {
   "cell_type": "markdown",
   "metadata": {},
   "source": [
    "Посчитаем и добавим в таблицу следующие показатели:\n",
    "* цену квадратного метра;\n",
    "* день недели, месяц и год публикации объявления;\n",
    "* этаж квартиры: варианты — первый, последний, другой;\n",
    "* соотношение жилой и общей площади, а также отношение площади кухни к общей."
   ]
  },
  {
   "cell_type": "markdown",
   "metadata": {},
   "source": [
    "Рассчитаем цену квадратного метра `price_sqm`."
   ]
  },
  {
   "cell_type": "code",
   "execution_count": 51,
   "metadata": {},
   "outputs": [],
   "source": [
    "# расчёт цены квадратного метра жилья price_sqm\n",
    "df['price_sqm'] = df['last_price'] / df['total_area']"
   ]
  },
  {
   "cell_type": "markdown",
   "metadata": {},
   "source": [
    "Выделим в отдельные столбцы день недели `weekday`, месяц `month` и год `year`."
   ]
  },
  {
   "cell_type": "code",
   "execution_count": 52,
   "metadata": {},
   "outputs": [],
   "source": [
    "# создание столбца weekday со значением дня недели\n",
    "df['weekday'] = df['first_day_exposition'].dt.weekday"
   ]
  },
  {
   "cell_type": "code",
   "execution_count": 53,
   "metadata": {},
   "outputs": [],
   "source": [
    "# создание столбца month со значением месяца продажи\n",
    "df['month'] = df['first_day_exposition'].dt.month"
   ]
  },
  {
   "cell_type": "code",
   "execution_count": 54,
   "metadata": {},
   "outputs": [],
   "source": [
    "# создание столбца year со значением года продажи\n",
    "df['year'] = df['first_day_exposition'].dt.year"
   ]
  },
  {
   "cell_type": "markdown",
   "metadata": {},
   "source": [
    "Переходим к этажам."
   ]
  },
  {
   "cell_type": "code",
   "execution_count": 55,
   "metadata": {},
   "outputs": [],
   "source": [
    "# функция по разделению этажей на первый, последний и другие\n",
    "def floor_group(row):\n",
    "    floor = row['floor']\n",
    "    floors_total = row['floors_total']\n",
    "    if floor == 1:\n",
    "        return 'первый'\n",
    "    if floor == floors_total:\n",
    "        return 'последний'\n",
    "    return 'другой'\n",
    "df['floor_group'] = df.apply(floor_group, axis=1)"
   ]
  },
  {
   "cell_type": "markdown",
   "metadata": {},
   "source": [
    "Наконец, рассчитаем долю жилой площади и кухни в общей площади квартиры."
   ]
  },
  {
   "cell_type": "code",
   "execution_count": 56,
   "metadata": {},
   "outputs": [],
   "source": [
    "# расчёт доли жилой в общей площади квартиры\n",
    "df['living_share'] = df['living_area'] / df['total_area']"
   ]
  },
  {
   "cell_type": "code",
   "execution_count": 57,
   "metadata": {},
   "outputs": [],
   "source": [
    "# расчёт доли кухни в общей площади квартиры\n",
    "df['kitchen_share'] = df['kitchen_area'] / df['total_area']"
   ]
  },
  {
   "cell_type": "markdown",
   "metadata": {},
   "source": [
    "Посмотрим на получившуюся таблицу."
   ]
  },
  {
   "cell_type": "code",
   "execution_count": 58,
   "metadata": {},
   "outputs": [
    {
     "data": {
      "text/html": [
       "<div>\n",
       "<style scoped>\n",
       "    .dataframe tbody tr th:only-of-type {\n",
       "        vertical-align: middle;\n",
       "    }\n",
       "\n",
       "    .dataframe tbody tr th {\n",
       "        vertical-align: top;\n",
       "    }\n",
       "\n",
       "    .dataframe thead th {\n",
       "        text-align: right;\n",
       "    }\n",
       "</style>\n",
       "<table border=\"1\" class=\"dataframe\">\n",
       "  <thead>\n",
       "    <tr style=\"text-align: right;\">\n",
       "      <th></th>\n",
       "      <th>last_price</th>\n",
       "      <th>total_area</th>\n",
       "      <th>first_day_exposition</th>\n",
       "      <th>locality_name</th>\n",
       "      <th>rooms</th>\n",
       "      <th>living_area</th>\n",
       "      <th>kitchen_area</th>\n",
       "      <th>floor</th>\n",
       "      <th>floors_total</th>\n",
       "      <th>balcony</th>\n",
       "      <th>...</th>\n",
       "      <th>ponds_around_3km</th>\n",
       "      <th>ponds_nearest</th>\n",
       "      <th>days_exposition</th>\n",
       "      <th>price_sqm</th>\n",
       "      <th>weekday</th>\n",
       "      <th>month</th>\n",
       "      <th>year</th>\n",
       "      <th>floor_group</th>\n",
       "      <th>living_share</th>\n",
       "      <th>kitchen_share</th>\n",
       "    </tr>\n",
       "  </thead>\n",
       "  <tbody>\n",
       "    <tr>\n",
       "      <th>0</th>\n",
       "      <td>13000000</td>\n",
       "      <td>108.000000</td>\n",
       "      <td>2019-03-07</td>\n",
       "      <td>Санкт-Петербург</td>\n",
       "      <td>3</td>\n",
       "      <td>51.000000</td>\n",
       "      <td>25.00</td>\n",
       "      <td>8</td>\n",
       "      <td>16</td>\n",
       "      <td>0</td>\n",
       "      <td>...</td>\n",
       "      <td>2.0</td>\n",
       "      <td>755.0</td>\n",
       "      <td>NaN</td>\n",
       "      <td>120370.370370</td>\n",
       "      <td>3</td>\n",
       "      <td>3</td>\n",
       "      <td>2019</td>\n",
       "      <td>другой</td>\n",
       "      <td>0.472222</td>\n",
       "      <td>0.231481</td>\n",
       "    </tr>\n",
       "    <tr>\n",
       "      <th>1</th>\n",
       "      <td>3350000</td>\n",
       "      <td>40.400002</td>\n",
       "      <td>2018-12-04</td>\n",
       "      <td>посёлок Шушары</td>\n",
       "      <td>1</td>\n",
       "      <td>18.600000</td>\n",
       "      <td>11.00</td>\n",
       "      <td>1</td>\n",
       "      <td>11</td>\n",
       "      <td>2</td>\n",
       "      <td>...</td>\n",
       "      <td>0.0</td>\n",
       "      <td>NaN</td>\n",
       "      <td>81.0</td>\n",
       "      <td>82920.788947</td>\n",
       "      <td>1</td>\n",
       "      <td>12</td>\n",
       "      <td>2018</td>\n",
       "      <td>первый</td>\n",
       "      <td>0.460396</td>\n",
       "      <td>0.272277</td>\n",
       "    </tr>\n",
       "    <tr>\n",
       "      <th>2</th>\n",
       "      <td>5196000</td>\n",
       "      <td>56.000000</td>\n",
       "      <td>2015-08-20</td>\n",
       "      <td>Санкт-Петербург</td>\n",
       "      <td>2</td>\n",
       "      <td>34.299999</td>\n",
       "      <td>8.30</td>\n",
       "      <td>4</td>\n",
       "      <td>5</td>\n",
       "      <td>0</td>\n",
       "      <td>...</td>\n",
       "      <td>2.0</td>\n",
       "      <td>574.0</td>\n",
       "      <td>558.0</td>\n",
       "      <td>92785.714286</td>\n",
       "      <td>3</td>\n",
       "      <td>8</td>\n",
       "      <td>2015</td>\n",
       "      <td>другой</td>\n",
       "      <td>0.612500</td>\n",
       "      <td>0.148214</td>\n",
       "    </tr>\n",
       "    <tr>\n",
       "      <th>3</th>\n",
       "      <td>64900000</td>\n",
       "      <td>159.000000</td>\n",
       "      <td>2015-07-24</td>\n",
       "      <td>Санкт-Петербург</td>\n",
       "      <td>3</td>\n",
       "      <td>90.290001</td>\n",
       "      <td>27.41</td>\n",
       "      <td>9</td>\n",
       "      <td>14</td>\n",
       "      <td>0</td>\n",
       "      <td>...</td>\n",
       "      <td>3.0</td>\n",
       "      <td>234.0</td>\n",
       "      <td>424.0</td>\n",
       "      <td>408176.100629</td>\n",
       "      <td>4</td>\n",
       "      <td>7</td>\n",
       "      <td>2015</td>\n",
       "      <td>другой</td>\n",
       "      <td>0.567862</td>\n",
       "      <td>0.172390</td>\n",
       "    </tr>\n",
       "    <tr>\n",
       "      <th>4</th>\n",
       "      <td>10000000</td>\n",
       "      <td>100.000000</td>\n",
       "      <td>2018-06-19</td>\n",
       "      <td>Санкт-Петербург</td>\n",
       "      <td>2</td>\n",
       "      <td>32.000000</td>\n",
       "      <td>41.00</td>\n",
       "      <td>13</td>\n",
       "      <td>14</td>\n",
       "      <td>0</td>\n",
       "      <td>...</td>\n",
       "      <td>1.0</td>\n",
       "      <td>48.0</td>\n",
       "      <td>121.0</td>\n",
       "      <td>100000.000000</td>\n",
       "      <td>1</td>\n",
       "      <td>6</td>\n",
       "      <td>2018</td>\n",
       "      <td>другой</td>\n",
       "      <td>0.320000</td>\n",
       "      <td>0.410000</td>\n",
       "    </tr>\n",
       "  </tbody>\n",
       "</table>\n",
       "<p>5 rows × 29 columns</p>\n",
       "</div>"
      ],
      "text/plain": [
       "   last_price  total_area first_day_exposition    locality_name  rooms  \\\n",
       "0    13000000  108.000000           2019-03-07  Санкт-Петербург      3   \n",
       "1     3350000   40.400002           2018-12-04   посёлок Шушары      1   \n",
       "2     5196000   56.000000           2015-08-20  Санкт-Петербург      2   \n",
       "3    64900000  159.000000           2015-07-24  Санкт-Петербург      3   \n",
       "4    10000000  100.000000           2018-06-19  Санкт-Петербург      2   \n",
       "\n",
       "   living_area  kitchen_area  floor  floors_total  balcony  ...  \\\n",
       "0    51.000000         25.00      8            16        0  ...   \n",
       "1    18.600000         11.00      1            11        2  ...   \n",
       "2    34.299999          8.30      4             5        0  ...   \n",
       "3    90.290001         27.41      9            14        0  ...   \n",
       "4    32.000000         41.00     13            14        0  ...   \n",
       "\n",
       "   ponds_around_3km  ponds_nearest days_exposition      price_sqm  weekday  \\\n",
       "0               2.0          755.0             NaN  120370.370370        3   \n",
       "1               0.0            NaN            81.0   82920.788947        1   \n",
       "2               2.0          574.0           558.0   92785.714286        3   \n",
       "3               3.0          234.0           424.0  408176.100629        4   \n",
       "4               1.0           48.0           121.0  100000.000000        1   \n",
       "\n",
       "   month  year  floor_group  living_share  kitchen_share  \n",
       "0      3  2019       другой      0.472222       0.231481  \n",
       "1     12  2018       первый      0.460396       0.272277  \n",
       "2      8  2015       другой      0.612500       0.148214  \n",
       "3      7  2015       другой      0.567862       0.172390  \n",
       "4      6  2018       другой      0.320000       0.410000  \n",
       "\n",
       "[5 rows x 29 columns]"
      ]
     },
     "execution_count": 58,
     "metadata": {},
     "output_type": "execute_result"
    }
   ],
   "source": [
    "# вывод на экран первых 5 строк таблицы df\n",
    "df.head()"
   ]
  },
  {
   "cell_type": "markdown",
   "metadata": {},
   "source": [
    "Теперь можем перейти к исследовательскому анализу данных."
   ]
  },
  {
   "cell_type": "markdown",
   "metadata": {},
   "source": [
    "## Исследовательский анализ данных"
   ]
  },
  {
   "cell_type": "markdown",
   "metadata": {},
   "source": [
    "Здесь нам предстоит решить следующие задачи:\n",
    "* Изучить следующие параметры: площадь, цена, число комнат, высота потолков. Построить гистограммы для каждого параметра.\n",
    "* Изучить время продажи квартиры. Построить гистограмму. Посчитать среднее и медиану. Описать, сколько обычно занимает продажа. Когда можно считать, что продажи прошли очень быстро, а когда необычно долго?\n",
    "* Убрать редкие и выбивающиеся значения. Описать, какие особенности обнаружены.\n",
    "* Какие факторы больше всего влияют на стоимость квартиры? Изучим, зависит ли цена от площади, числа комнат, удалённости от центра. Изучим зависимость цены от того, на каком этаже расположена квартира: первом, последнем или другом. Также изучим зависимость от даты размещения: дня недели, месяца и года.\n",
    "* Выберем 10 населённых пунктов с наибольшим числом объявлений. Посчитаем среднюю цену квадратного метра в этих населённых пунктах. Выделим населённые пункты с самой высокой и низкой стоимостью жилья. Эти данные можно найти по имени в столбце `locality_name`.\n",
    "* Изучим предложения квартир: для каждой квартиры есть информация о расстоянии до центра. Выделим квартиры в Санкт-Петербурге (`locality_name`). Наша задача — выяснить, какая область входит в центр. Создадим столбец с расстоянием до центра в километрах: округлим до целых значений. После этого посчитаем среднюю цену для каждого километра. Построим график: он должен показывать, как цена зависит от удалённости от центра. Определим границу, где график сильно меняется, — это и будет центральная зона.\n",
    "* Выделим сегмент квартир в центре. Проанализируем эту территорию и изучим следующие параметры: площадь, цена, число комнат, высота потолков. Также выделим факторы, которые влияют на стоимость квартиры (число комнат, этаж, удалённость от центра, дата размещения объявления). Сделаем выводы. Отличаются ли они от общих выводов по всей базе?"
   ]
  },
  {
   "cell_type": "markdown",
   "metadata": {},
   "source": [
    "### Иcследование площади, цены, числа комнат и высоты потолков"
   ]
  },
  {
   "cell_type": "markdown",
   "metadata": {},
   "source": [
    "Для исследования площади, цены, числа комнат и высоты потолков выведем числовые описания этих столбцов, а также построим гистограммы для каждого параметра. Сделаем то же самое и для цены кв.метра."
   ]
  },
  {
   "cell_type": "code",
   "execution_count": 59,
   "metadata": {},
   "outputs": [
    {
     "data": {
      "text/plain": [
       "count    2.343200e+04\n",
       "mean     6.546577e+06\n",
       "std      1.088529e+07\n",
       "min      1.219000e+04\n",
       "25%      3.440000e+06\n",
       "50%      4.650000e+06\n",
       "75%      6.800000e+06\n",
       "max      7.630000e+08\n",
       "Name: last_price, dtype: float64"
      ]
     },
     "execution_count": 59,
     "metadata": {},
     "output_type": "execute_result"
    }
   ],
   "source": [
    "# оценка числовых значений столбца last_price\n",
    "df['last_price'].describe()"
   ]
  },
  {
   "cell_type": "code",
   "execution_count": 60,
   "metadata": {},
   "outputs": [
    {
     "data": {
      "text/plain": [
       "Text(0, 0.5, 'Количество лотов')"
      ]
     },
     "execution_count": 60,
     "metadata": {},
     "output_type": "execute_result"
    },
    {
     "data": {
      "image/png": "[encoded data removed]",
      "text/plain": [
       "<Figure size 432x288 with 1 Axes>"
      ]
     },
     "metadata": {
      "needs_background": "light"
     },
     "output_type": "display_data"
    }
   ],
   "source": [
    "# построение гистограммы для столбца last_price\n",
    "df['last_price'].hist().set_title('Распределение стоимости квартир')\n",
    "df['last_price'].hist().set_xlabel(\"Стоимость лота\")\n",
    "df['last_price'].hist().set_ylabel(\"Количество лотов\")"
   ]
  },
  {
   "cell_type": "markdown",
   "metadata": {},
   "source": [
    "Как видим, большинство объектов имеет стоимость менее 100 млн.руб., в среднем - 6,5 млн. Минимальная стоимость - 12 тыс.руб., максимальная - более 760 тыс. Однако за счёт выбросов гистограмма получается не информативная. Ограничим гистограмму 80 млн.руб."
   ]
  },
  {
   "cell_type": "code",
   "execution_count": 61,
   "metadata": {},
   "outputs": [
    {
     "data": {
      "text/plain": [
       "<AxesSubplot:>"
      ]
     },
     "execution_count": 61,
     "metadata": {},
     "output_type": "execute_result"
    },
    {
     "data": {
      "image/png": "[encoded data removed]",
      "text/plain": [
       "<Figure size 432x288 with 1 Axes>"
      ]
     },
     "metadata": {
      "needs_background": "light"
     },
     "output_type": "display_data"
    }
   ],
   "source": [
    "# построение гистограммы для столбца last_price с интервалом от 0 до 80 млн.руб.\n",
    "df['last_price'].hist(bins=10, range=(0,80000000))"
   ]
  },
  {
   "cell_type": "markdown",
   "metadata": {},
   "source": [
    "Итак, перед нами распределение Пуассона. Построим ещё одну гистограмму - с интервалом значений до 30 млн.руб."
   ]
  },
  {
   "cell_type": "code",
   "execution_count": 62,
   "metadata": {},
   "outputs": [
    {
     "data": {
      "text/plain": [
       "<AxesSubplot:>"
      ]
     },
     "execution_count": 62,
     "metadata": {},
     "output_type": "execute_result"
    },
    {
     "data": {
      "image/png": "[encoded data removed]",
      "text/plain": [
       "<Figure size 432x288 with 1 Axes>"
      ]
     },
     "metadata": {
      "needs_background": "light"
     },
     "output_type": "display_data"
    }
   ],
   "source": [
    "# построение гистограммы для столбца last_price с интервалом от 0 до 30 млн.руб.\n",
    "df['last_price'].hist(bins=10, range=(0,30000000))"
   ]
  },
  {
   "cell_type": "markdown",
   "metadata": {},
   "source": [
    "Теперь распределение значений приближено к нормальному. Больше всего объектов недвижимости продаётся по цене около 5 млн.руб. - почти половина. Длинный правый \"ус\" привёл к тому, что среднее арифметическое значение больше медианного почти на 40%, что очень много."
   ]
  },
  {
   "cell_type": "markdown",
   "metadata": {},
   "source": [
    "Сделаем числовую и графическую оценку значений площади проданных квартир `total_area`."
   ]
  },
  {
   "cell_type": "code",
   "execution_count": 63,
   "metadata": {},
   "outputs": [
    {
     "data": {
      "text/plain": [
       "count    23432.000000\n",
       "mean        60.427013\n",
       "std         35.720695\n",
       "min         13.000000\n",
       "25%         40.000000\n",
       "50%         52.000000\n",
       "75%         70.000000\n",
       "max        900.000000\n",
       "Name: total_area, dtype: float64"
      ]
     },
     "execution_count": 63,
     "metadata": {},
     "output_type": "execute_result"
    }
   ],
   "source": [
    "# оценка числовых значений столбца total_area\n",
    "#df['last_price','total_area','rooms','ceiling_height','price_sqm'].describe()\n",
    "df['total_area'].describe()"
   ]
  },
  {
   "cell_type": "markdown",
   "metadata": {},
   "source": [
    "Построим на этот раз \"график с усами\" (диаграмму размаха)."
   ]
  },
  {
   "cell_type": "code",
   "execution_count": 64,
   "metadata": {},
   "outputs": [
    {
     "data": {
      "text/plain": [
       "<AxesSubplot:>"
      ]
     },
     "execution_count": 64,
     "metadata": {},
     "output_type": "execute_result"
    },
    {
     "data": {
      "image/png": "[encoded data removed]",
      "text/plain": [
       "<Figure size 432x288 with 1 Axes>"
      ]
     },
     "metadata": {
      "needs_background": "light"
     },
     "output_type": "display_data"
    }
   ],
   "source": [
    "# построение \"графика с усами\" для столбца total_area\n",
    "df.boxplot(column='total_area')"
   ]
  },
  {
   "cell_type": "markdown",
   "metadata": {},
   "source": [
    "Опять большие выбросы справа. Ограничим диапазон значением 550."
   ]
  },
  {
   "cell_type": "code",
   "execution_count": 65,
   "metadata": {},
   "outputs": [
    {
     "data": {
      "text/plain": [
       "(0.0, 550.0)"
      ]
     },
     "execution_count": 65,
     "metadata": {},
     "output_type": "execute_result"
    },
    {
     "data": {
      "image/png": "[encoded data removed]",
      "text/plain": [
       "<Figure size 432x288 with 1 Axes>"
      ]
     },
     "metadata": {
      "needs_background": "light"
     },
     "output_type": "display_data"
    }
   ],
   "source": [
    "# построение диаграммы размаха для столбца total_area\n",
    "import matplotlib.pyplot as plt\n",
    "df.boxplot(column='total_area')\n",
    "plt.ylim(0,550)"
   ]
  },
  {
   "cell_type": "markdown",
   "metadata": {},
   "source": [
    "Нижний \"ус\" упирается в значение 12, это минимальное значение. Верхний заканчивается около 115. Это ориентировочная граница нормального размаха. Всё, что лежит за ней, считается выбросом. Более высокие значения рисуются отдельными точками, но сливаются в единую жирную линию: таких выбросов очень много. И всё же значения, которые отсёк верхний \"ус\", — редкие."
   ]
  },
  {
   "cell_type": "markdown",
   "metadata": {},
   "source": [
    "Теперь проанализируем распределение числа комнат."
   ]
  },
  {
   "cell_type": "code",
   "execution_count": 66,
   "metadata": {},
   "outputs": [
    {
     "data": {
      "text/plain": [
       "count    23432.000000\n",
       "mean         2.072977\n",
       "std          1.077929\n",
       "min          0.000000\n",
       "25%          1.000000\n",
       "50%          2.000000\n",
       "75%          3.000000\n",
       "max         19.000000\n",
       "Name: rooms, dtype: float64"
      ]
     },
     "execution_count": 66,
     "metadata": {},
     "output_type": "execute_result"
    }
   ],
   "source": [
    "# оценка числовых значений столбца rooms\n",
    "df['rooms'].describe()"
   ]
  },
  {
   "cell_type": "code",
   "execution_count": 67,
   "metadata": {},
   "outputs": [
    {
     "data": {
      "text/plain": [
       "<AxesSubplot:>"
      ]
     },
     "execution_count": 67,
     "metadata": {},
     "output_type": "execute_result"
    },
    {
     "data": {
      "image/png": "[encoded data removed]",
      "text/plain": [
       "<Figure size 432x288 with 1 Axes>"
      ]
     },
     "metadata": {
      "needs_background": "light"
     },
     "output_type": "display_data"
    }
   ],
   "source": [
    "# построение гистограммы для столбца rooms\n",
    "df['rooms'].hist()"
   ]
  },
  {
   "cell_type": "markdown",
   "metadata": {},
   "source": [
    "Итак, медианным и средним значением является 2. В среднем, значения в таблице отличаются от этого среднего на 1. Сократим интервал до (0,6), а число корзин - до 6, и оценим долю студий в выборке."
   ]
  },
  {
   "cell_type": "code",
   "execution_count": 68,
   "metadata": {},
   "outputs": [
    {
     "data": {
      "text/plain": [
       "<AxesSubplot:>"
      ]
     },
     "execution_count": 68,
     "metadata": {},
     "output_type": "execute_result"
    },
    {
     "data": {
      "image/png": "[encoded data removed]",
      "text/plain": [
       "<Figure size 432x288 with 1 Axes>"
      ]
     },
     "metadata": {
      "needs_background": "light"
     },
     "output_type": "display_data"
    }
   ],
   "source": [
    "# построение гистограммы для столбца rooms с числом корзин 6 и интервалом (0,6)\n",
    "df['rooms'].hist(bins=6, range=(0,6))"
   ]
  },
  {
   "cell_type": "markdown",
   "metadata": {},
   "source": [
    "Как мы видим, доля студий пренебрежимо мала. Меньше, чем число пятикомнатных квартир."
   ]
  },
  {
   "cell_type": "markdown",
   "metadata": {},
   "source": [
    "Исследуем значения высоты потолков. Выведем числовые описания, а затем построим диаграмму размаха."
   ]
  },
  {
   "cell_type": "code",
   "execution_count": 69,
   "metadata": {},
   "outputs": [
    {
     "data": {
      "text/plain": [
       "count    23432.000000\n",
       "mean         2.698467\n",
       "std          0.230176\n",
       "min          2.500000\n",
       "25%          2.600000\n",
       "50%          2.650000\n",
       "75%          2.700000\n",
       "max          8.300000\n",
       "Name: ceiling_height, dtype: float64"
      ]
     },
     "execution_count": 69,
     "metadata": {},
     "output_type": "execute_result"
    }
   ],
   "source": [
    "# оценка числовых значений столбца ceiling_height\n",
    "df['ceiling_height'].describe()"
   ]
  },
  {
   "cell_type": "code",
   "execution_count": 70,
   "metadata": {},
   "outputs": [
    {
     "data": {
      "text/plain": [
       "(2.0, 3.0)"
      ]
     },
     "execution_count": 70,
     "metadata": {},
     "output_type": "execute_result"
    },
    {
     "data": {
      "image/png": "[encoded data removed]",
      "text/plain": [
       "<Figure size 432x288 with 1 Axes>"
      ]
     },
     "metadata": {
      "needs_background": "light"
     },
     "output_type": "display_data"
    }
   ],
   "source": [
    "# построение диаграммы размаха для столбца ceiling_height\n",
    "import matplotlib.pyplot as plt\n",
    "df.boxplot(column='ceiling_height')\n",
    "plt.ylim(2,3)"
   ]
  },
  {
   "cell_type": "markdown",
   "metadata": {},
   "source": [
    "Межквартильный размах составляет от 2.6 до 2.7. Медианное значение - 2.65."
   ]
  },
  {
   "cell_type": "markdown",
   "metadata": {},
   "source": [
    "Наконец, выведем числовые описания и построит гистаграмму для столбца цены 1 кв.метра жилья `price_sqm`."
   ]
  },
  {
   "cell_type": "code",
   "execution_count": 71,
   "metadata": {},
   "outputs": [
    {
     "data": {
      "text/plain": [
       "count    2.343200e+04\n",
       "mean     9.938550e+04\n",
       "std      5.007542e+04\n",
       "min      1.118349e+02\n",
       "25%      7.666667e+04\n",
       "50%      9.500000e+04\n",
       "75%      1.142171e+05\n",
       "max      1.907500e+06\n",
       "Name: price_sqm, dtype: float64"
      ]
     },
     "execution_count": 71,
     "metadata": {},
     "output_type": "execute_result"
    }
   ],
   "source": [
    "# оценка числовых значений столбца price_sqm\n",
    "df['price_sqm'].describe()"
   ]
  },
  {
   "cell_type": "code",
   "execution_count": 72,
   "metadata": {},
   "outputs": [
    {
     "data": {
      "text/plain": [
       "<AxesSubplot:>"
      ]
     },
     "execution_count": 72,
     "metadata": {},
     "output_type": "execute_result"
    },
    {
     "data": {
      "image/png": "[encoded data removed]",
      "text/plain": [
       "<Figure size 432x288 with 1 Axes>"
      ]
     },
     "metadata": {
      "needs_background": "light"
     },
     "output_type": "display_data"
    }
   ],
   "source": [
    "# построение гистограммы для столбца price_sqm на 10 корзин и в диапазоне (0, 300000)\n",
    "df['price_sqm'].hist(bins=10, range=(0, 300000))"
   ]
  },
  {
   "cell_type": "markdown",
   "metadata": {},
   "source": [
    "Как видно, медианное значение цены квадратного метра равно 95 тыс.руб. за кв.м, среднее арифметическое 99,4 тыс.руб. При цене выше 150 тыс.руб. за кв.м количество объектов резко снижается. Половина объектов имеют цену от 76,586 тыс.руб. до 114,26 тыс.руб. за кв.м."
   ]
  },
  {
   "cell_type": "markdown",
   "metadata": {},
   "source": [
    "### Иcследование времени продажи квартиры"
   ]
  },
  {
   "cell_type": "markdown",
   "metadata": {},
   "source": [
    "Изучим время продажи квартиры и построим гистограмму. Определим среднее и медиану. "
   ]
  },
  {
   "cell_type": "code",
   "execution_count": 73,
   "metadata": {},
   "outputs": [
    {
     "data": {
      "text/plain": [
       "count    20280.000000\n",
       "mean       181.096405\n",
       "std        220.225037\n",
       "min          1.000000\n",
       "25%         45.000000\n",
       "50%         95.000000\n",
       "75%        232.000000\n",
       "max       1580.000000\n",
       "Name: days_exposition, dtype: float64"
      ]
     },
     "execution_count": 73,
     "metadata": {},
     "output_type": "execute_result"
    }
   ],
   "source": [
    "# оценка числовых значений столбца days_exposition\n",
    "df['days_exposition'].describe()"
   ]
  },
  {
   "cell_type": "code",
   "execution_count": 74,
   "metadata": {},
   "outputs": [
    {
     "data": {
      "text/plain": [
       "<AxesSubplot:>"
      ]
     },
     "execution_count": 74,
     "metadata": {},
     "output_type": "execute_result"
    },
    {
     "data": {
      "image/png": "[encoded data removed]",
      "text/plain": [
       "<Figure size 432x288 with 1 Axes>"
      ]
     },
     "metadata": {
      "needs_background": "light"
     },
     "output_type": "display_data"
    }
   ],
   "source": [
    "# построение гистограммы для столбца days_exposition\n",
    "df['days_exposition'].hist()"
   ]
  },
  {
   "cell_type": "markdown",
   "metadata": {},
   "source": [
    "Среднее арифметическое составляет почти 181 день, однако медиана всего 95 дней. Данные характеризуются большим разбросом значением. Кроме того, имеется много выбросов. Минимальное время продажи - 1 день, а максимальное - 1580 дней (более 4 лет).\n",
    "\n",
    "Половина лотов продаётся за период от 45 до 231 дня (от 1,5 мес. до 7,5 мес.). При этом четверть - всего за 1,5 месяца.\n",
    "\n",
    "Такая картина может свидетельствовать о длительном сроке экспозиции для неадекватно оцененных квартир. В то время как квартиры с хорошими характеристиками и/или адекватной ценой продаются довольно быстро - за 1,5-3 месяца."
   ]
  },
  {
   "cell_type": "markdown",
   "metadata": {},
   "source": [
    "Нормальное распределение времени продажи охватывает от 0 до 417 дней, то есть почти 14 месяцев. Все объекты со сроком продажи больше этого времени являются аномалиями (выбросами)."
   ]
  },
  {
   "cell_type": "markdown",
   "metadata": {},
   "source": [
    "### Редкие и выбивающиеся значения"
   ]
  },
  {
   "cell_type": "markdown",
   "metadata": {},
   "source": [
    "Исследование редких и выбивающихся значений мы провели в пункте 2.3."
   ]
  },
  {
   "cell_type": "markdown",
   "metadata": {},
   "source": [
    "### Исследование факторов, влияющих на стоимость квартиры"
   ]
  },
  {
   "cell_type": "markdown",
   "metadata": {},
   "source": [
    "Исследуем сначала зависимость стоимости квартиры от площади квартиры."
   ]
  },
  {
   "cell_type": "code",
   "execution_count": 75,
   "metadata": {},
   "outputs": [
    {
     "data": {
      "text/plain": [
       "0.6535290793060669"
      ]
     },
     "execution_count": 75,
     "metadata": {},
     "output_type": "execute_result"
    }
   ],
   "source": [
    "# оценим корреляцию значений last_price от значений total_area \n",
    "df['last_price'].corr(df['total_area'])"
   ]
  },
  {
   "cell_type": "markdown",
   "metadata": {},
   "source": [
    "Корреляция положительная, средняя. Посчитаем корреляцию между всеми целевыми факторами: `last_price`, `total_area`, `rooms`, `city_сenters_nearest`."
   ]
  },
  {
   "cell_type": "code",
   "execution_count": 76,
   "metadata": {
    "scrolled": true
   },
   "outputs": [
    {
     "data": {
      "text/html": [
       "<div>\n",
       "<style scoped>\n",
       "    .dataframe tbody tr th:only-of-type {\n",
       "        vertical-align: middle;\n",
       "    }\n",
       "\n",
       "    .dataframe tbody tr th {\n",
       "        vertical-align: top;\n",
       "    }\n",
       "\n",
       "    .dataframe thead th {\n",
       "        text-align: right;\n",
       "    }\n",
       "</style>\n",
       "<table border=\"1\" class=\"dataframe\">\n",
       "  <thead>\n",
       "    <tr style=\"text-align: right;\">\n",
       "      <th></th>\n",
       "      <th>last_price</th>\n",
       "      <th>total_area</th>\n",
       "      <th>rooms</th>\n",
       "      <th>city_centers_nearest</th>\n",
       "    </tr>\n",
       "  </thead>\n",
       "  <tbody>\n",
       "    <tr>\n",
       "      <th>last_price</th>\n",
       "      <td>1.000000</td>\n",
       "      <td>0.653529</td>\n",
       "      <td>0.362286</td>\n",
       "      <td>-0.194905</td>\n",
       "    </tr>\n",
       "    <tr>\n",
       "      <th>total_area</th>\n",
       "      <td>0.653529</td>\n",
       "      <td>1.000000</td>\n",
       "      <td>0.758860</td>\n",
       "      <td>-0.214965</td>\n",
       "    </tr>\n",
       "    <tr>\n",
       "      <th>rooms</th>\n",
       "      <td>0.362286</td>\n",
       "      <td>0.758860</td>\n",
       "      <td>1.000000</td>\n",
       "      <td>-0.164069</td>\n",
       "    </tr>\n",
       "    <tr>\n",
       "      <th>city_centers_nearest</th>\n",
       "      <td>-0.194905</td>\n",
       "      <td>-0.214965</td>\n",
       "      <td>-0.164069</td>\n",
       "      <td>1.000000</td>\n",
       "    </tr>\n",
       "  </tbody>\n",
       "</table>\n",
       "</div>"
      ],
      "text/plain": [
       "                      last_price  total_area     rooms  city_centers_nearest\n",
       "last_price              1.000000    0.653529  0.362286             -0.194905\n",
       "total_area              0.653529    1.000000  0.758860             -0.214965\n",
       "rooms                   0.362286    0.758860  1.000000             -0.164069\n",
       "city_centers_nearest   -0.194905   -0.214965 -0.164069              1.000000"
      ]
     },
     "execution_count": 76,
     "metadata": {},
     "output_type": "execute_result"
    }
   ],
   "source": [
    "# расчёт корреляции между last_price, total_area, rooms, city_сenters_nearest\n",
    "df[['last_price', 'total_area', 'rooms', 'city_centers_nearest']].corr()"
   ]
  },
  {
   "cell_type": "markdown",
   "metadata": {},
   "source": [
    "Коэффициенты корреляции Пирсона показывают, что наибольшее влияние на стоимость квартиры имеет её общая площадь, корреляция в количество комнат имеется, но слабая. Корреляция же стоимости квартиры с удалённостью от центра отрицательная и ещё менее выраженная.\n",
    "\n",
    "Общая площадь квартиры, как и следовало ожидать, сильно зависит от количества комнат - коэффициент корреляции Пирсона 0.76. По мере удаления от центра снижаются и стоимость квартиры, и её общая площадь, и количество комнат."
   ]
  },
  {
   "cell_type": "markdown",
   "metadata": {},
   "source": [
    "Теперь проанализируем взаимосвязь стоимости квартиры и этажа."
   ]
  },
  {
   "cell_type": "code",
   "execution_count": 77,
   "metadata": {},
   "outputs": [
    {
     "data": {
      "text/plain": [
       "floor_group\n",
       "другой       4850000\n",
       "первый       3900000\n",
       "последний    4350000\n",
       "Name: last_price, dtype: int64"
      ]
     },
     "execution_count": 77,
     "metadata": {},
     "output_type": "execute_result"
    }
   ],
   "source": [
    "# рассчитаем медианную цену квартиры на первом, на последнем и на других этажах\n",
    "df_floor = df.groupby('floor_group')['last_price'].median()\n",
    "df_floor"
   ]
  },
  {
   "cell_type": "markdown",
   "metadata": {},
   "source": [
    "Первый этаж в среднем на 9% дешевле последнего и на 17% дешевле других этажей. Существенная разница.\n",
    "\n",
    "Взглянем на график распределения цены кв.метра в зависимости от этажа. Для этого сначала создадим новую таблицу, включив в неё только значения столбцов `floor_group` и `price_sqm`."
   ]
  },
  {
   "cell_type": "code",
   "execution_count": 78,
   "metadata": {},
   "outputs": [],
   "source": [
    "# создание новой таблицы, состоящей из колонок floor_group и price_sqm\n",
    "df_floor = df[['floor_group', 'price_sqm']]"
   ]
  },
  {
   "cell_type": "code",
   "execution_count": 79,
   "metadata": {
    "scrolled": true
   },
   "outputs": [
    {
     "data": {
      "text/plain": [
       "<AxesSubplot:xlabel='floor_group', ylabel='price_sqm'>"
      ]
     },
     "execution_count": 79,
     "metadata": {},
     "output_type": "execute_result"
    },
    {
     "data": {
      "image/png": "[encoded data removed]",
      "text/plain": [
       "<Figure size 432x288 with 1 Axes>"
      ]
     },
     "metadata": {
      "needs_background": "light"
     },
     "output_type": "display_data"
    }
   ],
   "source": [
    "# график зависимости значений price_sqm от значений floor_group\n",
    "df_floor.plot(x='floor_group', y='price_sqm', kind='scatter', ylim=(0,750000))"
   ]
  },
  {
   "cell_type": "markdown",
   "metadata": {},
   "source": [
    "График подтверждает: цена на первый этаж стабильно ниже цены на последний этаж, и оба они сильно проигрывают в цене всем остальным этажам."
   ]
  },
  {
   "cell_type": "markdown",
   "metadata": {},
   "source": [
    "Для исследования взаимосвязи стоимости квартиры от даты размещения: дня недели, месяца и года, - построим графики."
   ]
  },
  {
   "cell_type": "code",
   "execution_count": 80,
   "metadata": {},
   "outputs": [
    {
     "data": {
      "text/plain": [
       "<AxesSubplot:xlabel='weekday', ylabel='last_price'>"
      ]
     },
     "execution_count": 80,
     "metadata": {},
     "output_type": "execute_result"
    },
    {
     "data": {
      "image/png": "[encoded data removed]",
      "text/plain": [
       "<Figure size 432x288 with 1 Axes>"
      ]
     },
     "metadata": {
      "needs_background": "light"
     },
     "output_type": "display_data"
    }
   ],
   "source": [
    "# график зависимости стоимости квартиры от дня размещения объявления \n",
    "# с ограничением оси ординат 15.000.000\n",
    "df.plot(x='weekday', y='last_price', kind='scatter', ylim=(0, 150000000))"
   ]
  },
  {
   "cell_type": "code",
   "execution_count": 81,
   "metadata": {},
   "outputs": [
    {
     "data": {
      "text/plain": [
       "<AxesSubplot:xlabel='month', ylabel='last_price'>"
      ]
     },
     "execution_count": 81,
     "metadata": {},
     "output_type": "execute_result"
    },
    {
     "data": {
      "image/png": "[encoded data removed]",
      "text/plain": [
       "<Figure size 432x288 with 1 Axes>"
      ]
     },
     "metadata": {
      "needs_background": "light"
     },
     "output_type": "display_data"
    }
   ],
   "source": [
    "# график зависимости стоимости квартиры от месяца размещения объявления\n",
    "# с ограничением оси ординат 15.000.000\n",
    "df.plot(x='month', y='last_price', kind='scatter', ylim=(0, 150000000))"
   ]
  },
  {
   "cell_type": "code",
   "execution_count": 82,
   "metadata": {},
   "outputs": [
    {
     "data": {
      "text/plain": [
       "<AxesSubplot:xlabel='year', ylabel='last_price'>"
      ]
     },
     "execution_count": 82,
     "metadata": {},
     "output_type": "execute_result"
    },
    {
     "data": {
      "image/png": "[encoded data removed]",
      "text/plain": [
       "<Figure size 432x288 with 1 Axes>"
      ]
     },
     "metadata": {
      "needs_background": "light"
     },
     "output_type": "display_data"
    }
   ],
   "source": [
    "# график зависимости стоимости квартиры от года размещения объявления\n",
    "# с ограничением оси ординат 15.000.000\n",
    "df.plot(x='year', y='last_price', kind='scatter', ylim=(0, 150000000))"
   ]
  },
  {
   "cell_type": "markdown",
   "metadata": {},
   "source": [
    "Как мы видим, по максимальной стоимости продаются квартиры, размещённые в четверг, а по самой низкой стоимости - размещённые в пятницу, субботу и воскресенье.\n",
    "\n",
    "Квартиры, выставленные на продажу в феврале, июне и сентябре-декабре, продавались по более высокой цене по сравнению с квартирами, выставленными на продажу в апреле и в июле.\n",
    "\n",
    "В разрезе годов наиболее высокая стоимость была в 2017 году - в предыдущие года цена квартиры росла, а в последующие падала."
   ]
  },
  {
   "cell_type": "markdown",
   "metadata": {},
   "source": [
    "Таким образом, имеется выраженная зависимость стоимости квартиры от её площади, слабая зависимость от числа комнат и слабо отрицательная зависимость от удалённости от центра.\n",
    "\n",
    "Заметно влияние на стоимость квартиры этажа, на котором она находится, и года продажи (причём здесь влияние с положительного меняется на отрицательное с 2017 года).\n",
    "\n",
    "Очевидна сезонность рынка недвижимости в зависимости от месяца и дня недели."
   ]
  },
  {
   "cell_type": "markdown",
   "metadata": {},
   "source": [
    "### Анализ десяти населённых пунктов с наибольшим числом объявлений"
   ]
  },
  {
   "cell_type": "markdown",
   "metadata": {},
   "source": [
    "Создадим новый датафрейм, в котором будет название населённого пункта, количество объявлений в нём и средняя цена кв.метра."
   ]
  },
  {
   "cell_type": "code",
   "execution_count": 83,
   "metadata": {},
   "outputs": [],
   "source": [
    "# создание датафрейма df_rating, включающего агрегированные по населённым\n",
    "# пунктам количество объявлений и среднюю цену кв.метра жилья\n",
    "df_rating = df.pivot_table(index='locality_name', values='price_sqm', aggfunc=['count','mean'])"
   ]
  },
  {
   "cell_type": "code",
   "execution_count": 84,
   "metadata": {},
   "outputs": [],
   "source": [
    "# преобразуем мультииндексы датафрейма df_rating в столбцы count и price\n",
    "df_rating.columns=['count', 'price']"
   ]
  },
  {
   "cell_type": "markdown",
   "metadata": {},
   "source": [
    "Теперь можем вывести список из десяти населённых пунктов с наибольшим число объявлений и средней ценой кв.метра жилья в каждом из них."
   ]
  },
  {
   "cell_type": "code",
   "execution_count": 85,
   "metadata": {},
   "outputs": [
    {
     "data": {
      "text/html": [
       "<div>\n",
       "<style scoped>\n",
       "    .dataframe tbody tr th:only-of-type {\n",
       "        vertical-align: middle;\n",
       "    }\n",
       "\n",
       "    .dataframe tbody tr th {\n",
       "        vertical-align: top;\n",
       "    }\n",
       "\n",
       "    .dataframe thead th {\n",
       "        text-align: right;\n",
       "    }\n",
       "</style>\n",
       "<table border=\"1\" class=\"dataframe\">\n",
       "  <thead>\n",
       "    <tr style=\"text-align: right;\">\n",
       "      <th></th>\n",
       "      <th>count</th>\n",
       "      <th>price</th>\n",
       "    </tr>\n",
       "    <tr>\n",
       "      <th>locality_name</th>\n",
       "      <th></th>\n",
       "      <th></th>\n",
       "    </tr>\n",
       "  </thead>\n",
       "  <tbody>\n",
       "    <tr>\n",
       "      <th>Санкт-Петербург</th>\n",
       "      <td>15593</td>\n",
       "      <td>114714.296577</td>\n",
       "    </tr>\n",
       "    <tr>\n",
       "      <th>посёлок Мурино</th>\n",
       "      <td>510</td>\n",
       "      <td>85536.115664</td>\n",
       "    </tr>\n",
       "    <tr>\n",
       "      <th>посёлок Шушары</th>\n",
       "      <td>439</td>\n",
       "      <td>78673.295731</td>\n",
       "    </tr>\n",
       "    <tr>\n",
       "      <th>Всеволожск</th>\n",
       "      <td>392</td>\n",
       "      <td>68637.754950</td>\n",
       "    </tr>\n",
       "    <tr>\n",
       "      <th>Пушкин</th>\n",
       "      <td>366</td>\n",
       "      <td>103147.825393</td>\n",
       "    </tr>\n",
       "    <tr>\n",
       "      <th>Колпино</th>\n",
       "      <td>336</td>\n",
       "      <td>75500.165390</td>\n",
       "    </tr>\n",
       "    <tr>\n",
       "      <th>посёлок Парголово</th>\n",
       "      <td>325</td>\n",
       "      <td>90164.551059</td>\n",
       "    </tr>\n",
       "    <tr>\n",
       "      <th>Гатчина</th>\n",
       "      <td>302</td>\n",
       "      <td>68636.425257</td>\n",
       "    </tr>\n",
       "    <tr>\n",
       "      <th>деревня Кудрово</th>\n",
       "      <td>297</td>\n",
       "      <td>92524.926587</td>\n",
       "    </tr>\n",
       "    <tr>\n",
       "      <th>Выборг</th>\n",
       "      <td>234</td>\n",
       "      <td>58251.090983</td>\n",
       "    </tr>\n",
       "  </tbody>\n",
       "</table>\n",
       "</div>"
      ],
      "text/plain": [
       "                   count          price\n",
       "locality_name                          \n",
       "Санкт-Петербург    15593  114714.296577\n",
       "посёлок Мурино       510   85536.115664\n",
       "посёлок Шушары       439   78673.295731\n",
       "Всеволожск           392   68637.754950\n",
       "Пушкин               366  103147.825393\n",
       "Колпино              336   75500.165390\n",
       "посёлок Парголово    325   90164.551059\n",
       "Гатчина              302   68636.425257\n",
       "деревня Кудрово      297   92524.926587\n",
       "Выборг               234   58251.090983"
      ]
     },
     "execution_count": 85,
     "metadata": {},
     "output_type": "execute_result"
    }
   ],
   "source": [
    "# вывод топ-10 населённых пунктов по количеству объявлений со средней ценой кв.метра\n",
    "df_rating.sort_values(by='count', ascending=False).head(10)"
   ]
  },
  {
   "cell_type": "markdown",
   "metadata": {},
   "source": [
    "Как видим, 2/3 объявлений подано в Санкт-Петербурге. Там и самая высокая средняя цена кв.м - почти 115 тыс.руб.\n",
    "\n",
    "На каждый остальной населённый пункт приходится менее 3% объявлений. По количеству объявлений города Всеволожск, Пушкин, Колпино, Гатчина и Выборг обгоняют два посёлка - Мурино и Шушары. Возможно, это было вызвано активной застройкой данных населённых пунктов в этот период времени.\n",
    "\n",
    "Кроме Санкт-Петербурга в ТОП-10 дорогое жильё в городе Пушкин (более 103 тыс.руб. за кв.м), в посёлке Парголово и в деревне Кудрово, что довольно необычно и требует уточнения и проверки за рамками данного исследования.\n",
    "\n",
    "Наименее дорогое жильё из ТОП-10 в городах Выборге, Всеволожске и Гатчине - менее 70 тыс.руб. за кв.м."
   ]
  },
  {
   "cell_type": "markdown",
   "metadata": {},
   "source": [
    "### Анализ изменения цены в зависимости от удалённости от центра"
   ]
  },
  {
   "cell_type": "markdown",
   "metadata": {},
   "source": [
    "Создадим датафрейм по Санкт-Петербургу, а затем посчитаем для каждого километра количество объявлений и цену квадратного метра."
   ]
  },
  {
   "cell_type": "code",
   "execution_count": 86,
   "metadata": {},
   "outputs": [],
   "source": [
    "# создание датафрейма объявлений по Санкт-Петербургу\n",
    "df_piter = df[df['locality_name'] == 'Санкт-Петербург']"
   ]
  },
  {
   "cell_type": "code",
   "execution_count": 87,
   "metadata": {
    "scrolled": true
   },
   "outputs": [],
   "source": [
    "# создание датафрейма df_piter_rating, включающего агрегированные по расстоянию\n",
    "# от центра количество объявлений и среднюю цену кв.метра жилья\n",
    "df_piter_rating = df_piter.pivot_table(index='city_centers_nearest', values='price_sqm', aggfunc=['count','mean'])"
   ]
  },
  {
   "cell_type": "code",
   "execution_count": 88,
   "metadata": {},
   "outputs": [
    {
     "data": {
      "text/html": [
       "<div>\n",
       "<style scoped>\n",
       "    .dataframe tbody tr th:only-of-type {\n",
       "        vertical-align: middle;\n",
       "    }\n",
       "\n",
       "    .dataframe tbody tr th {\n",
       "        vertical-align: top;\n",
       "    }\n",
       "\n",
       "    .dataframe thead th {\n",
       "        text-align: right;\n",
       "    }\n",
       "</style>\n",
       "<table border=\"1\" class=\"dataframe\">\n",
       "  <thead>\n",
       "    <tr style=\"text-align: right;\">\n",
       "      <th></th>\n",
       "      <th>count</th>\n",
       "      <th>price</th>\n",
       "    </tr>\n",
       "    <tr>\n",
       "      <th>city_centers_nearest</th>\n",
       "      <th></th>\n",
       "      <th></th>\n",
       "    </tr>\n",
       "  </thead>\n",
       "  <tbody>\n",
       "    <tr>\n",
       "      <th>0</th>\n",
       "      <td>84</td>\n",
       "      <td>183822.919084</td>\n",
       "    </tr>\n",
       "    <tr>\n",
       "      <th>1</th>\n",
       "      <td>236</td>\n",
       "      <td>166276.012142</td>\n",
       "    </tr>\n",
       "    <tr>\n",
       "      <th>2</th>\n",
       "      <td>306</td>\n",
       "      <td>146713.933444</td>\n",
       "    </tr>\n",
       "    <tr>\n",
       "      <th>3</th>\n",
       "      <td>519</td>\n",
       "      <td>129182.363187</td>\n",
       "    </tr>\n",
       "    <tr>\n",
       "      <th>4</th>\n",
       "      <td>904</td>\n",
       "      <td>137470.106156</td>\n",
       "    </tr>\n",
       "    <tr>\n",
       "      <th>5</th>\n",
       "      <td>761</td>\n",
       "      <td>146005.720677</td>\n",
       "    </tr>\n",
       "    <tr>\n",
       "      <th>6</th>\n",
       "      <td>469</td>\n",
       "      <td>152342.205674</td>\n",
       "    </tr>\n",
       "    <tr>\n",
       "      <th>7</th>\n",
       "      <td>403</td>\n",
       "      <td>141625.929883</td>\n",
       "    </tr>\n",
       "    <tr>\n",
       "      <th>8</th>\n",
       "      <td>664</td>\n",
       "      <td>119877.766090</td>\n",
       "    </tr>\n",
       "    <tr>\n",
       "      <th>9</th>\n",
       "      <td>681</td>\n",
       "      <td>110117.996065</td>\n",
       "    </tr>\n",
       "    <tr>\n",
       "      <th>10</th>\n",
       "      <td>907</td>\n",
       "      <td>111644.490953</td>\n",
       "    </tr>\n",
       "    <tr>\n",
       "      <th>11</th>\n",
       "      <td>1408</td>\n",
       "      <td>106679.544348</td>\n",
       "    </tr>\n",
       "    <tr>\n",
       "      <th>12</th>\n",
       "      <td>1503</td>\n",
       "      <td>108236.698757</td>\n",
       "    </tr>\n",
       "    <tr>\n",
       "      <th>13</th>\n",
       "      <td>1449</td>\n",
       "      <td>109286.072569</td>\n",
       "    </tr>\n",
       "    <tr>\n",
       "      <th>14</th>\n",
       "      <td>1496</td>\n",
       "      <td>104920.680100</td>\n",
       "    </tr>\n",
       "    <tr>\n",
       "      <th>15</th>\n",
       "      <td>1361</td>\n",
       "      <td>101898.287978</td>\n",
       "    </tr>\n",
       "    <tr>\n",
       "      <th>16</th>\n",
       "      <td>1099</td>\n",
       "      <td>100012.717924</td>\n",
       "    </tr>\n",
       "    <tr>\n",
       "      <th>17</th>\n",
       "      <td>534</td>\n",
       "      <td>94095.872361</td>\n",
       "    </tr>\n",
       "    <tr>\n",
       "      <th>18</th>\n",
       "      <td>172</td>\n",
       "      <td>95105.294231</td>\n",
       "    </tr>\n",
       "    <tr>\n",
       "      <th>19</th>\n",
       "      <td>81</td>\n",
       "      <td>95208.457327</td>\n",
       "    </tr>\n",
       "    <tr>\n",
       "      <th>20</th>\n",
       "      <td>81</td>\n",
       "      <td>107203.739786</td>\n",
       "    </tr>\n",
       "    <tr>\n",
       "      <th>21</th>\n",
       "      <td>193</td>\n",
       "      <td>91319.437988</td>\n",
       "    </tr>\n",
       "    <tr>\n",
       "      <th>22</th>\n",
       "      <td>138</td>\n",
       "      <td>87895.752091</td>\n",
       "    </tr>\n",
       "    <tr>\n",
       "      <th>23</th>\n",
       "      <td>29</td>\n",
       "      <td>91773.234934</td>\n",
       "    </tr>\n",
       "    <tr>\n",
       "      <th>24</th>\n",
       "      <td>22</td>\n",
       "      <td>82440.343594</td>\n",
       "    </tr>\n",
       "    <tr>\n",
       "      <th>25</th>\n",
       "      <td>75</td>\n",
       "      <td>91136.018451</td>\n",
       "    </tr>\n",
       "    <tr>\n",
       "      <th>26</th>\n",
       "      <td>3</td>\n",
       "      <td>75171.911041</td>\n",
       "    </tr>\n",
       "    <tr>\n",
       "      <th>27</th>\n",
       "      <td>2</td>\n",
       "      <td>132115.709459</td>\n",
       "    </tr>\n",
       "    <tr>\n",
       "      <th>28</th>\n",
       "      <td>10</td>\n",
       "      <td>81840.638611</td>\n",
       "    </tr>\n",
       "    <tr>\n",
       "      <th>29</th>\n",
       "      <td>3</td>\n",
       "      <td>62482.403889</td>\n",
       "    </tr>\n",
       "  </tbody>\n",
       "</table>\n",
       "</div>"
      ],
      "text/plain": [
       "                      count          price\n",
       "city_centers_nearest                      \n",
       "0                        84  183822.919084\n",
       "1                       236  166276.012142\n",
       "2                       306  146713.933444\n",
       "3                       519  129182.363187\n",
       "4                       904  137470.106156\n",
       "5                       761  146005.720677\n",
       "6                       469  152342.205674\n",
       "7                       403  141625.929883\n",
       "8                       664  119877.766090\n",
       "9                       681  110117.996065\n",
       "10                      907  111644.490953\n",
       "11                     1408  106679.544348\n",
       "12                     1503  108236.698757\n",
       "13                     1449  109286.072569\n",
       "14                     1496  104920.680100\n",
       "15                     1361  101898.287978\n",
       "16                     1099  100012.717924\n",
       "17                      534   94095.872361\n",
       "18                      172   95105.294231\n",
       "19                       81   95208.457327\n",
       "20                       81  107203.739786\n",
       "21                      193   91319.437988\n",
       "22                      138   87895.752091\n",
       "23                       29   91773.234934\n",
       "24                       22   82440.343594\n",
       "25                       75   91136.018451\n",
       "26                        3   75171.911041\n",
       "27                        2  132115.709459\n",
       "28                       10   81840.638611\n",
       "29                        3   62482.403889"
      ]
     },
     "execution_count": 88,
     "metadata": {},
     "output_type": "execute_result"
    }
   ],
   "source": [
    "# преобразуем мультииндексы датафрейма df_piter_ rating в столбцы count и price\n",
    "df_piter_rating.columns=['count', 'price']\n",
    "df_piter_rating"
   ]
  },
  {
   "cell_type": "markdown",
   "metadata": {},
   "source": [
    "Построим график: он должен показывать, как цена зависит от удалённости от центра. \n",
    "\n",
    "Определим границу, где график сильно меняется, — это и будет центральная зона."
   ]
  },
  {
   "cell_type": "code",
   "execution_count": 89,
   "metadata": {},
   "outputs": [
    {
     "data": {
      "text/plain": [
       "<AxesSubplot:xlabel='city_centers_nearest'>"
      ]
     },
     "execution_count": 89,
     "metadata": {},
     "output_type": "execute_result"
    },
    {
     "data": {
      "image/png": "[encoded data removed]",
      "text/plain": [
       "<Figure size 432x288 with 1 Axes>"
      ]
     },
     "metadata": {
      "needs_background": "light"
     },
     "output_type": "display_data"
    }
   ],
   "source": [
    "# построение графика зависимости цены от расстояния от центра\n",
    "df_piter_rating.plot(grid=True)"
   ]
  },
  {
   "cell_type": "markdown",
   "metadata": {},
   "source": [
    "И таблица, и график показывают, что средняя цена 1 кв.метра сильно меняется после 7 км от центра. Значит, именно таков радиус центральной части Санкт-Петербурга.\n",
    "\n",
    "Аномальная цена на 27 км объясняется крайне маленькой выборкой - всего два объявления. Относительно небольшое число объявлений и на 20 км (83)."
   ]
  },
  {
   "cell_type": "markdown",
   "metadata": {},
   "source": [
    "### Сравнение выводов по квартирам в центре и общих выводов по всему городу"
   ]
  },
  {
   "cell_type": "markdown",
   "metadata": {},
   "source": [
    "Выделим в отдельную таблицу квартиры в центре (с расстоянием от 0 до 7 км)."
   ]
  },
  {
   "cell_type": "code",
   "execution_count": 90,
   "metadata": {},
   "outputs": [
    {
     "data": {
      "text/html": [
       "<div>\n",
       "<style scoped>\n",
       "    .dataframe tbody tr th:only-of-type {\n",
       "        vertical-align: middle;\n",
       "    }\n",
       "\n",
       "    .dataframe tbody tr th {\n",
       "        vertical-align: top;\n",
       "    }\n",
       "\n",
       "    .dataframe thead th {\n",
       "        text-align: right;\n",
       "    }\n",
       "</style>\n",
       "<table border=\"1\" class=\"dataframe\">\n",
       "  <thead>\n",
       "    <tr style=\"text-align: right;\">\n",
       "      <th></th>\n",
       "      <th>last_price</th>\n",
       "      <th>total_area</th>\n",
       "      <th>first_day_exposition</th>\n",
       "      <th>locality_name</th>\n",
       "      <th>rooms</th>\n",
       "      <th>living_area</th>\n",
       "      <th>kitchen_area</th>\n",
       "      <th>floor</th>\n",
       "      <th>floors_total</th>\n",
       "      <th>balcony</th>\n",
       "      <th>...</th>\n",
       "      <th>ponds_around_3km</th>\n",
       "      <th>ponds_nearest</th>\n",
       "      <th>days_exposition</th>\n",
       "      <th>price_sqm</th>\n",
       "      <th>weekday</th>\n",
       "      <th>month</th>\n",
       "      <th>year</th>\n",
       "      <th>floor_group</th>\n",
       "      <th>living_share</th>\n",
       "      <th>kitchen_share</th>\n",
       "    </tr>\n",
       "  </thead>\n",
       "  <tbody>\n",
       "    <tr>\n",
       "      <th>3</th>\n",
       "      <td>64900000</td>\n",
       "      <td>159.000000</td>\n",
       "      <td>2015-07-24</td>\n",
       "      <td>Санкт-Петербург</td>\n",
       "      <td>3</td>\n",
       "      <td>90.290001</td>\n",
       "      <td>27.41</td>\n",
       "      <td>9</td>\n",
       "      <td>14</td>\n",
       "      <td>0</td>\n",
       "      <td>...</td>\n",
       "      <td>3.0</td>\n",
       "      <td>234.0</td>\n",
       "      <td>424.0</td>\n",
       "      <td>408176.100629</td>\n",
       "      <td>4</td>\n",
       "      <td>7</td>\n",
       "      <td>2015</td>\n",
       "      <td>другой</td>\n",
       "      <td>0.567862</td>\n",
       "      <td>0.172390</td>\n",
       "    </tr>\n",
       "    <tr>\n",
       "      <th>24</th>\n",
       "      <td>6500000</td>\n",
       "      <td>97.199997</td>\n",
       "      <td>2015-10-31</td>\n",
       "      <td>Санкт-Петербург</td>\n",
       "      <td>2</td>\n",
       "      <td>46.500000</td>\n",
       "      <td>19.60</td>\n",
       "      <td>1</td>\n",
       "      <td>3</td>\n",
       "      <td>0</td>\n",
       "      <td>...</td>\n",
       "      <td>3.0</td>\n",
       "      <td>124.0</td>\n",
       "      <td>265.0</td>\n",
       "      <td>66872.430083</td>\n",
       "      <td>5</td>\n",
       "      <td>10</td>\n",
       "      <td>2015</td>\n",
       "      <td>первый</td>\n",
       "      <td>0.478395</td>\n",
       "      <td>0.201646</td>\n",
       "    </tr>\n",
       "    <tr>\n",
       "      <th>35</th>\n",
       "      <td>15500000</td>\n",
       "      <td>149.000000</td>\n",
       "      <td>2017-06-26</td>\n",
       "      <td>Санкт-Петербург</td>\n",
       "      <td>5</td>\n",
       "      <td>104.000000</td>\n",
       "      <td>17.00</td>\n",
       "      <td>4</td>\n",
       "      <td>5</td>\n",
       "      <td>0</td>\n",
       "      <td>...</td>\n",
       "      <td>1.0</td>\n",
       "      <td>779.0</td>\n",
       "      <td>644.0</td>\n",
       "      <td>104026.845638</td>\n",
       "      <td>0</td>\n",
       "      <td>6</td>\n",
       "      <td>2017</td>\n",
       "      <td>другой</td>\n",
       "      <td>0.697987</td>\n",
       "      <td>0.114094</td>\n",
       "    </tr>\n",
       "    <tr>\n",
       "      <th>51</th>\n",
       "      <td>45000000</td>\n",
       "      <td>161.000000</td>\n",
       "      <td>2017-10-17</td>\n",
       "      <td>Санкт-Петербург</td>\n",
       "      <td>3</td>\n",
       "      <td>38.000000</td>\n",
       "      <td>50.00</td>\n",
       "      <td>4</td>\n",
       "      <td>8</td>\n",
       "      <td>0</td>\n",
       "      <td>...</td>\n",
       "      <td>3.0</td>\n",
       "      <td>99.0</td>\n",
       "      <td>541.0</td>\n",
       "      <td>279503.105590</td>\n",
       "      <td>1</td>\n",
       "      <td>10</td>\n",
       "      <td>2017</td>\n",
       "      <td>другой</td>\n",
       "      <td>0.236025</td>\n",
       "      <td>0.310559</td>\n",
       "    </tr>\n",
       "    <tr>\n",
       "      <th>52</th>\n",
       "      <td>11795000</td>\n",
       "      <td>136.000000</td>\n",
       "      <td>2017-09-22</td>\n",
       "      <td>Санкт-Петербург</td>\n",
       "      <td>6</td>\n",
       "      <td>94.000000</td>\n",
       "      <td>11.00</td>\n",
       "      <td>2</td>\n",
       "      <td>2</td>\n",
       "      <td>1</td>\n",
       "      <td>...</td>\n",
       "      <td>0.0</td>\n",
       "      <td>NaN</td>\n",
       "      <td>NaN</td>\n",
       "      <td>86727.941176</td>\n",
       "      <td>4</td>\n",
       "      <td>9</td>\n",
       "      <td>2017</td>\n",
       "      <td>последний</td>\n",
       "      <td>0.691176</td>\n",
       "      <td>0.080882</td>\n",
       "    </tr>\n",
       "  </tbody>\n",
       "</table>\n",
       "<p>5 rows × 29 columns</p>\n",
       "</div>"
      ],
      "text/plain": [
       "    last_price  total_area first_day_exposition    locality_name  rooms  \\\n",
       "3     64900000  159.000000           2015-07-24  Санкт-Петербург      3   \n",
       "24     6500000   97.199997           2015-10-31  Санкт-Петербург      2   \n",
       "35    15500000  149.000000           2017-06-26  Санкт-Петербург      5   \n",
       "51    45000000  161.000000           2017-10-17  Санкт-Петербург      3   \n",
       "52    11795000  136.000000           2017-09-22  Санкт-Петербург      6   \n",
       "\n",
       "    living_area  kitchen_area  floor  floors_total  balcony  ...  \\\n",
       "3     90.290001         27.41      9            14        0  ...   \n",
       "24    46.500000         19.60      1             3        0  ...   \n",
       "35   104.000000         17.00      4             5        0  ...   \n",
       "51    38.000000         50.00      4             8        0  ...   \n",
       "52    94.000000         11.00      2             2        1  ...   \n",
       "\n",
       "    ponds_around_3km  ponds_nearest days_exposition      price_sqm  weekday  \\\n",
       "3                3.0          234.0           424.0  408176.100629        4   \n",
       "24               3.0          124.0           265.0   66872.430083        5   \n",
       "35               1.0          779.0           644.0  104026.845638        0   \n",
       "51               3.0           99.0           541.0  279503.105590        1   \n",
       "52               0.0            NaN             NaN   86727.941176        4   \n",
       "\n",
       "    month  year  floor_group  living_share  kitchen_share  \n",
       "3       7  2015       другой      0.567862       0.172390  \n",
       "24     10  2015       первый      0.478395       0.201646  \n",
       "35      6  2017       другой      0.697987       0.114094  \n",
       "51     10  2017       другой      0.236025       0.310559  \n",
       "52      9  2017    последний      0.691176       0.080882  \n",
       "\n",
       "[5 rows x 29 columns]"
      ]
     },
     "execution_count": 90,
     "metadata": {},
     "output_type": "execute_result"
    }
   ],
   "source": [
    "# создание датафрейма объявлений по центру Санкт-Петербургу\n",
    "df_piter_centre = df_piter[df_piter['city_centers_nearest'] < 8]\n",
    "df_piter_centre.head()"
   ]
  },
  {
   "cell_type": "markdown",
   "metadata": {},
   "source": [
    "Проанализируем полученный массив по следующим параметрам: площадь, цена, число комнат, высота потолков, этажность, дни экспозиции. "
   ]
  },
  {
   "cell_type": "code",
   "execution_count": 91,
   "metadata": {},
   "outputs": [
    {
     "data": {
      "text/html": [
       "<div>\n",
       "<style scoped>\n",
       "    .dataframe tbody tr th:only-of-type {\n",
       "        vertical-align: middle;\n",
       "    }\n",
       "\n",
       "    .dataframe tbody tr th {\n",
       "        vertical-align: top;\n",
       "    }\n",
       "\n",
       "    .dataframe thead th {\n",
       "        text-align: right;\n",
       "    }\n",
       "</style>\n",
       "<table border=\"1\" class=\"dataframe\">\n",
       "  <thead>\n",
       "    <tr style=\"text-align: right;\">\n",
       "      <th></th>\n",
       "      <th>last_price</th>\n",
       "      <th>total_area</th>\n",
       "      <th>rooms</th>\n",
       "      <th>living_area</th>\n",
       "      <th>kitchen_area</th>\n",
       "      <th>floor</th>\n",
       "      <th>floors_total</th>\n",
       "      <th>balcony</th>\n",
       "      <th>ceiling_height</th>\n",
       "      <th>total_images</th>\n",
       "      <th>...</th>\n",
       "      <th>parks_nearest</th>\n",
       "      <th>ponds_around_3km</th>\n",
       "      <th>ponds_nearest</th>\n",
       "      <th>days_exposition</th>\n",
       "      <th>price_sqm</th>\n",
       "      <th>weekday</th>\n",
       "      <th>month</th>\n",
       "      <th>year</th>\n",
       "      <th>living_share</th>\n",
       "      <th>kitchen_share</th>\n",
       "    </tr>\n",
       "  </thead>\n",
       "  <tbody>\n",
       "    <tr>\n",
       "      <th>count</th>\n",
       "      <td>2.343200e+04</td>\n",
       "      <td>23432.000000</td>\n",
       "      <td>23432.000000</td>\n",
       "      <td>23432.000000</td>\n",
       "      <td>23432.000000</td>\n",
       "      <td>23432.000000</td>\n",
       "      <td>23432.000000</td>\n",
       "      <td>23432.000000</td>\n",
       "      <td>23432.000000</td>\n",
       "      <td>23432.000000</td>\n",
       "      <td>...</td>\n",
       "      <td>7995.000000</td>\n",
       "      <td>17996.000000</td>\n",
       "      <td>9011.000000</td>\n",
       "      <td>20280.000000</td>\n",
       "      <td>2.343200e+04</td>\n",
       "      <td>23432.000000</td>\n",
       "      <td>23432.000000</td>\n",
       "      <td>23432.000000</td>\n",
       "      <td>23432.000000</td>\n",
       "      <td>23432.000000</td>\n",
       "    </tr>\n",
       "    <tr>\n",
       "      <th>mean</th>\n",
       "      <td>6.546577e+06</td>\n",
       "      <td>60.427013</td>\n",
       "      <td>2.072977</td>\n",
       "      <td>34.556564</td>\n",
       "      <td>10.483706</td>\n",
       "      <td>5.889766</td>\n",
       "      <td>10.673054</td>\n",
       "      <td>0.588853</td>\n",
       "      <td>2.698467</td>\n",
       "      <td>9.873037</td>\n",
       "      <td>...</td>\n",
       "      <td>491.248535</td>\n",
       "      <td>0.768782</td>\n",
       "      <td>518.152832</td>\n",
       "      <td>181.096405</td>\n",
       "      <td>9.938550e+04</td>\n",
       "      <td>2.569648</td>\n",
       "      <td>6.400691</td>\n",
       "      <td>2017.369580</td>\n",
       "      <td>0.563587</td>\n",
       "      <td>0.185581</td>\n",
       "    </tr>\n",
       "    <tr>\n",
       "      <th>std</th>\n",
       "      <td>1.088529e+07</td>\n",
       "      <td>35.720695</td>\n",
       "      <td>1.077929</td>\n",
       "      <td>22.332695</td>\n",
       "      <td>6.000819</td>\n",
       "      <td>4.879987</td>\n",
       "      <td>6.585564</td>\n",
       "      <td>0.957529</td>\n",
       "      <td>0.230176</td>\n",
       "      <td>5.679726</td>\n",
       "      <td>...</td>\n",
       "      <td>342.826141</td>\n",
       "      <td>0.936936</td>\n",
       "      <td>277.779022</td>\n",
       "      <td>220.225037</td>\n",
       "      <td>5.007542e+04</td>\n",
       "      <td>1.787722</td>\n",
       "      <td>3.491987</td>\n",
       "      <td>1.037627</td>\n",
       "      <td>0.098948</td>\n",
       "      <td>0.068658</td>\n",
       "    </tr>\n",
       "    <tr>\n",
       "      <th>min</th>\n",
       "      <td>1.219000e+04</td>\n",
       "      <td>13.000000</td>\n",
       "      <td>0.000000</td>\n",
       "      <td>5.000000</td>\n",
       "      <td>2.000000</td>\n",
       "      <td>1.000000</td>\n",
       "      <td>1.000000</td>\n",
       "      <td>0.000000</td>\n",
       "      <td>2.500000</td>\n",
       "      <td>0.000000</td>\n",
       "      <td>...</td>\n",
       "      <td>1.000000</td>\n",
       "      <td>0.000000</td>\n",
       "      <td>13.000000</td>\n",
       "      <td>1.000000</td>\n",
       "      <td>1.118349e+02</td>\n",
       "      <td>0.000000</td>\n",
       "      <td>1.000000</td>\n",
       "      <td>2014.000000</td>\n",
       "      <td>0.069588</td>\n",
       "      <td>0.025381</td>\n",
       "    </tr>\n",
       "    <tr>\n",
       "      <th>25%</th>\n",
       "      <td>3.440000e+06</td>\n",
       "      <td>40.000000</td>\n",
       "      <td>1.000000</td>\n",
       "      <td>19.000000</td>\n",
       "      <td>7.000000</td>\n",
       "      <td>2.000000</td>\n",
       "      <td>5.000000</td>\n",
       "      <td>0.000000</td>\n",
       "      <td>2.600000</td>\n",
       "      <td>6.000000</td>\n",
       "      <td>...</td>\n",
       "      <td>288.000000</td>\n",
       "      <td>0.000000</td>\n",
       "      <td>293.000000</td>\n",
       "      <td>45.000000</td>\n",
       "      <td>7.666667e+04</td>\n",
       "      <td>1.000000</td>\n",
       "      <td>3.000000</td>\n",
       "      <td>2017.000000</td>\n",
       "      <td>0.500000</td>\n",
       "      <td>0.136691</td>\n",
       "    </tr>\n",
       "    <tr>\n",
       "      <th>50%</th>\n",
       "      <td>4.650000e+06</td>\n",
       "      <td>52.000000</td>\n",
       "      <td>2.000000</td>\n",
       "      <td>30.000000</td>\n",
       "      <td>9.000000</td>\n",
       "      <td>4.000000</td>\n",
       "      <td>9.000000</td>\n",
       "      <td>0.000000</td>\n",
       "      <td>2.650000</td>\n",
       "      <td>9.000000</td>\n",
       "      <td>...</td>\n",
       "      <td>455.000000</td>\n",
       "      <td>1.000000</td>\n",
       "      <td>503.000000</td>\n",
       "      <td>95.000000</td>\n",
       "      <td>9.500000e+04</td>\n",
       "      <td>3.000000</td>\n",
       "      <td>6.000000</td>\n",
       "      <td>2017.000000</td>\n",
       "      <td>0.567857</td>\n",
       "      <td>0.172409</td>\n",
       "    </tr>\n",
       "    <tr>\n",
       "      <th>75%</th>\n",
       "      <td>6.800000e+06</td>\n",
       "      <td>70.000000</td>\n",
       "      <td>3.000000</td>\n",
       "      <td>42.099998</td>\n",
       "      <td>12.000000</td>\n",
       "      <td>8.000000</td>\n",
       "      <td>16.000000</td>\n",
       "      <td>1.000000</td>\n",
       "      <td>2.700000</td>\n",
       "      <td>14.000000</td>\n",
       "      <td>...</td>\n",
       "      <td>612.000000</td>\n",
       "      <td>1.000000</td>\n",
       "      <td>730.000000</td>\n",
       "      <td>232.000000</td>\n",
       "      <td>1.142171e+05</td>\n",
       "      <td>4.000000</td>\n",
       "      <td>10.000000</td>\n",
       "      <td>2018.000000</td>\n",
       "      <td>0.630137</td>\n",
       "      <td>0.223433</td>\n",
       "    </tr>\n",
       "    <tr>\n",
       "      <th>max</th>\n",
       "      <td>7.630000e+08</td>\n",
       "      <td>900.000000</td>\n",
       "      <td>19.000000</td>\n",
       "      <td>409.700012</td>\n",
       "      <td>112.000000</td>\n",
       "      <td>33.000000</td>\n",
       "      <td>60.000000</td>\n",
       "      <td>5.000000</td>\n",
       "      <td>8.300000</td>\n",
       "      <td>50.000000</td>\n",
       "      <td>...</td>\n",
       "      <td>3190.000000</td>\n",
       "      <td>3.000000</td>\n",
       "      <td>1344.000000</td>\n",
       "      <td>1580.000000</td>\n",
       "      <td>1.907500e+06</td>\n",
       "      <td>6.000000</td>\n",
       "      <td>12.000000</td>\n",
       "      <td>2019.000000</td>\n",
       "      <td>0.908439</td>\n",
       "      <td>0.724638</td>\n",
       "    </tr>\n",
       "  </tbody>\n",
       "</table>\n",
       "<p>8 rows × 23 columns</p>\n",
       "</div>"
      ],
      "text/plain": [
       "         last_price    total_area         rooms   living_area  kitchen_area  \\\n",
       "count  2.343200e+04  23432.000000  23432.000000  23432.000000  23432.000000   \n",
       "mean   6.546577e+06     60.427013      2.072977     34.556564     10.483706   \n",
       "std    1.088529e+07     35.720695      1.077929     22.332695      6.000819   \n",
       "min    1.219000e+04     13.000000      0.000000      5.000000      2.000000   \n",
       "25%    3.440000e+06     40.000000      1.000000     19.000000      7.000000   \n",
       "50%    4.650000e+06     52.000000      2.000000     30.000000      9.000000   \n",
       "75%    6.800000e+06     70.000000      3.000000     42.099998     12.000000   \n",
       "max    7.630000e+08    900.000000     19.000000    409.700012    112.000000   \n",
       "\n",
       "              floor  floors_total       balcony  ceiling_height  total_images  \\\n",
       "count  23432.000000  23432.000000  23432.000000    23432.000000  23432.000000   \n",
       "mean       5.889766     10.673054      0.588853        2.698467      9.873037   \n",
       "std        4.879987      6.585564      0.957529        0.230176      5.679726   \n",
       "min        1.000000      1.000000      0.000000        2.500000      0.000000   \n",
       "25%        2.000000      5.000000      0.000000        2.600000      6.000000   \n",
       "50%        4.000000      9.000000      0.000000        2.650000      9.000000   \n",
       "75%        8.000000     16.000000      1.000000        2.700000     14.000000   \n",
       "max       33.000000     60.000000      5.000000        8.300000     50.000000   \n",
       "\n",
       "       ...  parks_nearest  ponds_around_3km  ponds_nearest  days_exposition  \\\n",
       "count  ...    7995.000000      17996.000000    9011.000000     20280.000000   \n",
       "mean   ...     491.248535          0.768782     518.152832       181.096405   \n",
       "std    ...     342.826141          0.936936     277.779022       220.225037   \n",
       "min    ...       1.000000          0.000000      13.000000         1.000000   \n",
       "25%    ...     288.000000          0.000000     293.000000        45.000000   \n",
       "50%    ...     455.000000          1.000000     503.000000        95.000000   \n",
       "75%    ...     612.000000          1.000000     730.000000       232.000000   \n",
       "max    ...    3190.000000          3.000000    1344.000000      1580.000000   \n",
       "\n",
       "          price_sqm       weekday         month          year  living_share  \\\n",
       "count  2.343200e+04  23432.000000  23432.000000  23432.000000  23432.000000   \n",
       "mean   9.938550e+04      2.569648      6.400691   2017.369580      0.563587   \n",
       "std    5.007542e+04      1.787722      3.491987      1.037627      0.098948   \n",
       "min    1.118349e+02      0.000000      1.000000   2014.000000      0.069588   \n",
       "25%    7.666667e+04      1.000000      3.000000   2017.000000      0.500000   \n",
       "50%    9.500000e+04      3.000000      6.000000   2017.000000      0.567857   \n",
       "75%    1.142171e+05      4.000000     10.000000   2018.000000      0.630137   \n",
       "max    1.907500e+06      6.000000     12.000000   2019.000000      0.908439   \n",
       "\n",
       "       kitchen_share  \n",
       "count   23432.000000  \n",
       "mean        0.185581  \n",
       "std         0.068658  \n",
       "min         0.025381  \n",
       "25%         0.136691  \n",
       "50%         0.172409  \n",
       "75%         0.223433  \n",
       "max         0.724638  \n",
       "\n",
       "[8 rows x 23 columns]"
      ]
     },
     "execution_count": 91,
     "metadata": {},
     "output_type": "execute_result"
    }
   ],
   "source": [
    "# оценка числовые параметры исходного датафрейма df\n",
    "df.describe()"
   ]
  },
  {
   "cell_type": "code",
   "execution_count": 92,
   "metadata": {
    "scrolled": true
   },
   "outputs": [
    {
     "data": {
      "text/html": [
       "<div>\n",
       "<style scoped>\n",
       "    .dataframe tbody tr th:only-of-type {\n",
       "        vertical-align: middle;\n",
       "    }\n",
       "\n",
       "    .dataframe tbody tr th {\n",
       "        vertical-align: top;\n",
       "    }\n",
       "\n",
       "    .dataframe thead th {\n",
       "        text-align: right;\n",
       "    }\n",
       "</style>\n",
       "<table border=\"1\" class=\"dataframe\">\n",
       "  <thead>\n",
       "    <tr style=\"text-align: right;\">\n",
       "      <th></th>\n",
       "      <th>last_price</th>\n",
       "      <th>total_area</th>\n",
       "      <th>rooms</th>\n",
       "      <th>living_area</th>\n",
       "      <th>kitchen_area</th>\n",
       "      <th>floor</th>\n",
       "      <th>floors_total</th>\n",
       "      <th>balcony</th>\n",
       "      <th>ceiling_height</th>\n",
       "      <th>total_images</th>\n",
       "      <th>...</th>\n",
       "      <th>parks_nearest</th>\n",
       "      <th>ponds_around_3km</th>\n",
       "      <th>ponds_nearest</th>\n",
       "      <th>days_exposition</th>\n",
       "      <th>price_sqm</th>\n",
       "      <th>weekday</th>\n",
       "      <th>month</th>\n",
       "      <th>year</th>\n",
       "      <th>living_share</th>\n",
       "      <th>kitchen_share</th>\n",
       "    </tr>\n",
       "  </thead>\n",
       "  <tbody>\n",
       "    <tr>\n",
       "      <th>count</th>\n",
       "      <td>3.682000e+03</td>\n",
       "      <td>3682.000000</td>\n",
       "      <td>3682.000000</td>\n",
       "      <td>3682.000000</td>\n",
       "      <td>3682.00000</td>\n",
       "      <td>3682.000000</td>\n",
       "      <td>3682.000000</td>\n",
       "      <td>3682.000000</td>\n",
       "      <td>3682.000000</td>\n",
       "      <td>3682.000000</td>\n",
       "      <td>...</td>\n",
       "      <td>2431.000000</td>\n",
       "      <td>3682.000000</td>\n",
       "      <td>2635.000000</td>\n",
       "      <td>3080.000000</td>\n",
       "      <td>3.682000e+03</td>\n",
       "      <td>3682.000000</td>\n",
       "      <td>3682.000000</td>\n",
       "      <td>3682.000000</td>\n",
       "      <td>3682.000000</td>\n",
       "      <td>3682.000000</td>\n",
       "    </tr>\n",
       "    <tr>\n",
       "      <th>mean</th>\n",
       "      <td>1.469837e+07</td>\n",
       "      <td>92.424789</td>\n",
       "      <td>2.814775</td>\n",
       "      <td>54.327515</td>\n",
       "      <td>14.58217</td>\n",
       "      <td>4.282455</td>\n",
       "      <td>7.244704</td>\n",
       "      <td>0.328354</td>\n",
       "      <td>2.929796</td>\n",
       "      <td>10.253666</td>\n",
       "      <td>...</td>\n",
       "      <td>465.114349</td>\n",
       "      <td>1.274851</td>\n",
       "      <td>464.581390</td>\n",
       "      <td>245.508438</td>\n",
       "      <td>1.440873e+05</td>\n",
       "      <td>2.527974</td>\n",
       "      <td>6.433188</td>\n",
       "      <td>2017.173004</td>\n",
       "      <td>0.578767</td>\n",
       "      <td>0.172838</td>\n",
       "    </tr>\n",
       "    <tr>\n",
       "      <th>std</th>\n",
       "      <td>2.466479e+07</td>\n",
       "      <td>60.618378</td>\n",
       "      <td>1.454898</td>\n",
       "      <td>38.177544</td>\n",
       "      <td>9.65769</td>\n",
       "      <td>3.066422</td>\n",
       "      <td>3.981502</td>\n",
       "      <td>0.763900</td>\n",
       "      <td>0.367036</td>\n",
       "      <td>6.014360</td>\n",
       "      <td>...</td>\n",
       "      <td>304.491272</td>\n",
       "      <td>1.086812</td>\n",
       "      <td>270.430969</td>\n",
       "      <td>271.921295</td>\n",
       "      <td>9.144637e+04</td>\n",
       "      <td>1.722821</td>\n",
       "      <td>3.462849</td>\n",
       "      <td>1.120891</td>\n",
       "      <td>0.108666</td>\n",
       "      <td>0.078326</td>\n",
       "    </tr>\n",
       "    <tr>\n",
       "      <th>min</th>\n",
       "      <td>1.600000e+06</td>\n",
       "      <td>13.000000</td>\n",
       "      <td>0.000000</td>\n",
       "      <td>6.000000</td>\n",
       "      <td>2.00000</td>\n",
       "      <td>1.000000</td>\n",
       "      <td>2.000000</td>\n",
       "      <td>0.000000</td>\n",
       "      <td>2.500000</td>\n",
       "      <td>0.000000</td>\n",
       "      <td>...</td>\n",
       "      <td>9.000000</td>\n",
       "      <td>0.000000</td>\n",
       "      <td>22.000000</td>\n",
       "      <td>3.000000</td>\n",
       "      <td>1.534527e+04</td>\n",
       "      <td>0.000000</td>\n",
       "      <td>1.000000</td>\n",
       "      <td>2014.000000</td>\n",
       "      <td>0.141304</td>\n",
       "      <td>0.025381</td>\n",
       "    </tr>\n",
       "    <tr>\n",
       "      <th>25%</th>\n",
       "      <td>6.550000e+06</td>\n",
       "      <td>56.000000</td>\n",
       "      <td>2.000000</td>\n",
       "      <td>31.000000</td>\n",
       "      <td>9.00000</td>\n",
       "      <td>2.000000</td>\n",
       "      <td>5.000000</td>\n",
       "      <td>0.000000</td>\n",
       "      <td>2.650000</td>\n",
       "      <td>6.000000</td>\n",
       "      <td>...</td>\n",
       "      <td>278.000000</td>\n",
       "      <td>0.000000</td>\n",
       "      <td>227.000000</td>\n",
       "      <td>60.000000</td>\n",
       "      <td>1.000000e+05</td>\n",
       "      <td>1.000000</td>\n",
       "      <td>3.000000</td>\n",
       "      <td>2017.000000</td>\n",
       "      <td>0.521739</td>\n",
       "      <td>0.120833</td>\n",
       "    </tr>\n",
       "    <tr>\n",
       "      <th>50%</th>\n",
       "      <td>9.000000e+06</td>\n",
       "      <td>77.850002</td>\n",
       "      <td>3.000000</td>\n",
       "      <td>45.299999</td>\n",
       "      <td>12.00000</td>\n",
       "      <td>4.000000</td>\n",
       "      <td>6.000000</td>\n",
       "      <td>0.000000</td>\n",
       "      <td>2.800000</td>\n",
       "      <td>10.000000</td>\n",
       "      <td>...</td>\n",
       "      <td>436.000000</td>\n",
       "      <td>1.000000</td>\n",
       "      <td>451.000000</td>\n",
       "      <td>140.000000</td>\n",
       "      <td>1.235828e+05</td>\n",
       "      <td>3.000000</td>\n",
       "      <td>6.000000</td>\n",
       "      <td>2017.000000</td>\n",
       "      <td>0.581395</td>\n",
       "      <td>0.159184</td>\n",
       "    </tr>\n",
       "    <tr>\n",
       "      <th>75%</th>\n",
       "      <td>1.420000e+07</td>\n",
       "      <td>109.000000</td>\n",
       "      <td>3.000000</td>\n",
       "      <td>65.699997</td>\n",
       "      <td>17.00000</td>\n",
       "      <td>5.000000</td>\n",
       "      <td>9.000000</td>\n",
       "      <td>0.000000</td>\n",
       "      <td>3.107500</td>\n",
       "      <td>15.000000</td>\n",
       "      <td>...</td>\n",
       "      <td>596.000000</td>\n",
       "      <td>2.000000</td>\n",
       "      <td>667.000000</td>\n",
       "      <td>342.500000</td>\n",
       "      <td>1.548262e+05</td>\n",
       "      <td>4.000000</td>\n",
       "      <td>10.000000</td>\n",
       "      <td>2018.000000</td>\n",
       "      <td>0.656250</td>\n",
       "      <td>0.197531</td>\n",
       "    </tr>\n",
       "    <tr>\n",
       "      <th>max</th>\n",
       "      <td>7.630000e+08</td>\n",
       "      <td>900.000000</td>\n",
       "      <td>19.000000</td>\n",
       "      <td>409.700012</td>\n",
       "      <td>112.00000</td>\n",
       "      <td>25.000000</td>\n",
       "      <td>27.000000</td>\n",
       "      <td>5.000000</td>\n",
       "      <td>6.000000</td>\n",
       "      <td>50.000000</td>\n",
       "      <td>...</td>\n",
       "      <td>2295.000000</td>\n",
       "      <td>3.000000</td>\n",
       "      <td>1293.000000</td>\n",
       "      <td>1572.000000</td>\n",
       "      <td>1.907500e+06</td>\n",
       "      <td>6.000000</td>\n",
       "      <td>12.000000</td>\n",
       "      <td>2019.000000</td>\n",
       "      <td>0.908439</td>\n",
       "      <td>0.636986</td>\n",
       "    </tr>\n",
       "  </tbody>\n",
       "</table>\n",
       "<p>8 rows × 23 columns</p>\n",
       "</div>"
      ],
      "text/plain": [
       "         last_price   total_area        rooms  living_area  kitchen_area  \\\n",
       "count  3.682000e+03  3682.000000  3682.000000  3682.000000    3682.00000   \n",
       "mean   1.469837e+07    92.424789     2.814775    54.327515      14.58217   \n",
       "std    2.466479e+07    60.618378     1.454898    38.177544       9.65769   \n",
       "min    1.600000e+06    13.000000     0.000000     6.000000       2.00000   \n",
       "25%    6.550000e+06    56.000000     2.000000    31.000000       9.00000   \n",
       "50%    9.000000e+06    77.850002     3.000000    45.299999      12.00000   \n",
       "75%    1.420000e+07   109.000000     3.000000    65.699997      17.00000   \n",
       "max    7.630000e+08   900.000000    19.000000   409.700012     112.00000   \n",
       "\n",
       "             floor  floors_total      balcony  ceiling_height  total_images  \\\n",
       "count  3682.000000   3682.000000  3682.000000     3682.000000   3682.000000   \n",
       "mean      4.282455      7.244704     0.328354        2.929796     10.253666   \n",
       "std       3.066422      3.981502     0.763900        0.367036      6.014360   \n",
       "min       1.000000      2.000000     0.000000        2.500000      0.000000   \n",
       "25%       2.000000      5.000000     0.000000        2.650000      6.000000   \n",
       "50%       4.000000      6.000000     0.000000        2.800000     10.000000   \n",
       "75%       5.000000      9.000000     0.000000        3.107500     15.000000   \n",
       "max      25.000000     27.000000     5.000000        6.000000     50.000000   \n",
       "\n",
       "       ...  parks_nearest  ponds_around_3km  ponds_nearest  days_exposition  \\\n",
       "count  ...    2431.000000       3682.000000    2635.000000      3080.000000   \n",
       "mean   ...     465.114349          1.274851     464.581390       245.508438   \n",
       "std    ...     304.491272          1.086812     270.430969       271.921295   \n",
       "min    ...       9.000000          0.000000      22.000000         3.000000   \n",
       "25%    ...     278.000000          0.000000     227.000000        60.000000   \n",
       "50%    ...     436.000000          1.000000     451.000000       140.000000   \n",
       "75%    ...     596.000000          2.000000     667.000000       342.500000   \n",
       "max    ...    2295.000000          3.000000    1293.000000      1572.000000   \n",
       "\n",
       "          price_sqm      weekday        month         year  living_share  \\\n",
       "count  3.682000e+03  3682.000000  3682.000000  3682.000000   3682.000000   \n",
       "mean   1.440873e+05     2.527974     6.433188  2017.173004      0.578767   \n",
       "std    9.144637e+04     1.722821     3.462849     1.120891      0.108666   \n",
       "min    1.534527e+04     0.000000     1.000000  2014.000000      0.141304   \n",
       "25%    1.000000e+05     1.000000     3.000000  2017.000000      0.521739   \n",
       "50%    1.235828e+05     3.000000     6.000000  2017.000000      0.581395   \n",
       "75%    1.548262e+05     4.000000    10.000000  2018.000000      0.656250   \n",
       "max    1.907500e+06     6.000000    12.000000  2019.000000      0.908439   \n",
       "\n",
       "       kitchen_share  \n",
       "count    3682.000000  \n",
       "mean        0.172838  \n",
       "std         0.078326  \n",
       "min         0.025381  \n",
       "25%         0.120833  \n",
       "50%         0.159184  \n",
       "75%         0.197531  \n",
       "max         0.636986  \n",
       "\n",
       "[8 rows x 23 columns]"
      ]
     },
     "execution_count": 92,
     "metadata": {},
     "output_type": "execute_result"
    }
   ],
   "source": [
    "# оценка числовые параметры датафрейма df_piter_centre\n",
    "df_piter_centre.describe()"
   ]
  },
  {
   "cell_type": "markdown",
   "metadata": {},
   "source": [
    "Можно сделать следующие выводы:\n",
    "* цена квартиры в центре в среднем выше в 2,26 раза - 14,7 млн.руб. против 6,5 млн.руб. (схожая картина и с медианными значениями)\n",
    "* площадь квартиры в центре в среднем выше в 1,5 раза - 92,3 кв.м против 60,3 кв.м\n",
    "* количество комнат также выше - в среднем три вместо средних двух\n",
    "* потолки в центре выше - в среднем 2,9 м против средних 2,7 м\n",
    "* этажность в центре ниже - 4-ый этаж из 7, тогда как в целом по Санкт-Петербургу - 6-ой из 11\n",
    "* дни экспозиции выше - 245 дней против 180 дней. Это и понятно, цены выше, квартиры не типовых проектов\n",
    "\n",
    "При этом нужно учитывать, что доля квартир в центре составляет 15,7% общей выборки и высокие показатели центрального района оказывают влияния и на средние показатели по всей выборке. Видимо, именно эти квартиры формировали часто встречавшиеся нам длинные правые \"усы\" и выбросы справа."
   ]
  },
  {
   "cell_type": "markdown",
   "metadata": {},
   "source": [
    "Рассмотрим корреляцию между ключевыми факторами (`last_price`, `total_area`, `rooms`, `city_сenters_nearest`) исходной и новой таблицы `df_piter_centre`."
   ]
  },
  {
   "cell_type": "code",
   "execution_count": 93,
   "metadata": {
    "scrolled": true
   },
   "outputs": [
    {
     "data": {
      "text/html": [
       "<div>\n",
       "<style scoped>\n",
       "    .dataframe tbody tr th:only-of-type {\n",
       "        vertical-align: middle;\n",
       "    }\n",
       "\n",
       "    .dataframe tbody tr th {\n",
       "        vertical-align: top;\n",
       "    }\n",
       "\n",
       "    .dataframe thead th {\n",
       "        text-align: right;\n",
       "    }\n",
       "</style>\n",
       "<table border=\"1\" class=\"dataframe\">\n",
       "  <thead>\n",
       "    <tr style=\"text-align: right;\">\n",
       "      <th></th>\n",
       "      <th>last_price</th>\n",
       "      <th>total_area</th>\n",
       "      <th>rooms</th>\n",
       "      <th>city_centers_nearest</th>\n",
       "    </tr>\n",
       "  </thead>\n",
       "  <tbody>\n",
       "    <tr>\n",
       "      <th>last_price</th>\n",
       "      <td>1.000000</td>\n",
       "      <td>0.653529</td>\n",
       "      <td>0.362286</td>\n",
       "      <td>-0.194905</td>\n",
       "    </tr>\n",
       "    <tr>\n",
       "      <th>total_area</th>\n",
       "      <td>0.653529</td>\n",
       "      <td>1.000000</td>\n",
       "      <td>0.758860</td>\n",
       "      <td>-0.214965</td>\n",
       "    </tr>\n",
       "    <tr>\n",
       "      <th>rooms</th>\n",
       "      <td>0.362286</td>\n",
       "      <td>0.758860</td>\n",
       "      <td>1.000000</td>\n",
       "      <td>-0.164069</td>\n",
       "    </tr>\n",
       "    <tr>\n",
       "      <th>city_centers_nearest</th>\n",
       "      <td>-0.194905</td>\n",
       "      <td>-0.214965</td>\n",
       "      <td>-0.164069</td>\n",
       "      <td>1.000000</td>\n",
       "    </tr>\n",
       "  </tbody>\n",
       "</table>\n",
       "</div>"
      ],
      "text/plain": [
       "                      last_price  total_area     rooms  city_centers_nearest\n",
       "last_price              1.000000    0.653529  0.362286             -0.194905\n",
       "total_area              0.653529    1.000000  0.758860             -0.214965\n",
       "rooms                   0.362286    0.758860  1.000000             -0.164069\n",
       "city_centers_nearest   -0.194905   -0.214965 -0.164069              1.000000"
      ]
     },
     "execution_count": 93,
     "metadata": {},
     "output_type": "execute_result"
    }
   ],
   "source": [
    "# расчёт корреляции между last_price, total_area, rooms, city_сenters_nearest \n",
    "# в общей выборке\n",
    "df[['last_price', 'total_area', 'rooms', 'city_centers_nearest']].corr()"
   ]
  },
  {
   "cell_type": "code",
   "execution_count": 94,
   "metadata": {
    "scrolled": true
   },
   "outputs": [
    {
     "data": {
      "text/html": [
       "<div>\n",
       "<style scoped>\n",
       "    .dataframe tbody tr th:only-of-type {\n",
       "        vertical-align: middle;\n",
       "    }\n",
       "\n",
       "    .dataframe tbody tr th {\n",
       "        vertical-align: top;\n",
       "    }\n",
       "\n",
       "    .dataframe thead th {\n",
       "        text-align: right;\n",
       "    }\n",
       "</style>\n",
       "<table border=\"1\" class=\"dataframe\">\n",
       "  <thead>\n",
       "    <tr style=\"text-align: right;\">\n",
       "      <th></th>\n",
       "      <th>last_price</th>\n",
       "      <th>total_area</th>\n",
       "      <th>rooms</th>\n",
       "      <th>city_centers_nearest</th>\n",
       "    </tr>\n",
       "  </thead>\n",
       "  <tbody>\n",
       "    <tr>\n",
       "      <th>last_price</th>\n",
       "      <td>1.000000</td>\n",
       "      <td>0.635605</td>\n",
       "      <td>0.330541</td>\n",
       "      <td>-0.052450</td>\n",
       "    </tr>\n",
       "    <tr>\n",
       "      <th>total_area</th>\n",
       "      <td>0.635605</td>\n",
       "      <td>1.000000</td>\n",
       "      <td>0.737976</td>\n",
       "      <td>-0.114162</td>\n",
       "    </tr>\n",
       "    <tr>\n",
       "      <th>rooms</th>\n",
       "      <td>0.330541</td>\n",
       "      <td>0.737976</td>\n",
       "      <td>1.000000</td>\n",
       "      <td>-0.186606</td>\n",
       "    </tr>\n",
       "    <tr>\n",
       "      <th>city_centers_nearest</th>\n",
       "      <td>-0.052450</td>\n",
       "      <td>-0.114162</td>\n",
       "      <td>-0.186606</td>\n",
       "      <td>1.000000</td>\n",
       "    </tr>\n",
       "  </tbody>\n",
       "</table>\n",
       "</div>"
      ],
      "text/plain": [
       "                      last_price  total_area     rooms  city_centers_nearest\n",
       "last_price              1.000000    0.635605  0.330541             -0.052450\n",
       "total_area              0.635605    1.000000  0.737976             -0.114162\n",
       "rooms                   0.330541    0.737976  1.000000             -0.186606\n",
       "city_centers_nearest   -0.052450   -0.114162 -0.186606              1.000000"
      ]
     },
     "execution_count": 94,
     "metadata": {},
     "output_type": "execute_result"
    }
   ],
   "source": [
    "# расчёт корреляции между last_price, total_area, rooms, city_сenters_nearest \n",
    "# для квартир в центре\n",
    "df_piter_centre[['last_price', 'total_area', 'rooms', 'city_centers_nearest']].corr()"
   ]
  },
  {
   "cell_type": "markdown",
   "metadata": {},
   "source": [
    "Зависимость стоимости квартиры от её метража и количества комнат почти не изменилась, а вот зависимость от удалённости от центра в самом центре практически отсутствует. Это ещё раз свидетельствует о точности определения нами границ центрального района."
   ]
  },
  {
   "cell_type": "markdown",
   "metadata": {},
   "source": [
    "Теперь проанализируем взаимосвязь стоимости квартиры и этажа."
   ]
  },
  {
   "cell_type": "code",
   "execution_count": 95,
   "metadata": {},
   "outputs": [
    {
     "data": {
      "text/plain": [
       "floor_group\n",
       "другой       9500000\n",
       "первый       6500000\n",
       "последний    9200000\n",
       "Name: last_price, dtype: int64"
      ]
     },
     "execution_count": 95,
     "metadata": {},
     "output_type": "execute_result"
    }
   ],
   "source": [
    "# рассчитаем медианную цену квартиры на первом, на последнем и на других этажах в центре\n",
    "df_floor_centre = df_piter_centre.groupby('floor_group')['last_price'].median()\n",
    "df_floor_centre"
   ]
  },
  {
   "cell_type": "markdown",
   "metadata": {},
   "source": [
    "Как мы помним, в целом по выборке первый этаж в среднем на 9% дешевле последнего и на 17% дешевле других этажей. Существенная разница.\n",
    "\n",
    "Однако для центра почти нет разницы, последний это этаж или нет, главное, чтобы не первый. Первый дешевле остальных минимум на 30%."
   ]
  },
  {
   "cell_type": "markdown",
   "metadata": {},
   "source": [
    "Посмотрим теперь на графики корреляции стоимости квартиры в центре от даты размещения: дня недели, месяца и года."
   ]
  },
  {
   "cell_type": "code",
   "execution_count": 96,
   "metadata": {},
   "outputs": [
    {
     "data": {
      "text/plain": [
       "<AxesSubplot:xlabel='weekday', ylabel='last_price'>"
      ]
     },
     "execution_count": 96,
     "metadata": {},
     "output_type": "execute_result"
    },
    {
     "data": {
      "image/png": "[encoded data removed]",
      "text/plain": [
       "<Figure size 432x288 with 1 Axes>"
      ]
     },
     "metadata": {
      "needs_background": "light"
     },
     "output_type": "display_data"
    }
   ],
   "source": [
    "# график зависимости стоимости квартиры в центре от дня размещения объявления \n",
    "# с ограничением оси ординат 15.000.000\n",
    "df_piter_centre.plot(x='weekday', y='last_price', kind='scatter', ylim=(0, 150000000))"
   ]
  },
  {
   "cell_type": "code",
   "execution_count": 97,
   "metadata": {},
   "outputs": [
    {
     "data": {
      "text/plain": [
       "<AxesSubplot:xlabel='month', ylabel='last_price'>"
      ]
     },
     "execution_count": 97,
     "metadata": {},
     "output_type": "execute_result"
    },
    {
     "data": {
      "image/png": "[encoded data removed]",
      "text/plain": [
       "<Figure size 432x288 with 1 Axes>"
      ]
     },
     "metadata": {
      "needs_background": "light"
     },
     "output_type": "display_data"
    }
   ],
   "source": [
    "# график зависимости стоимости квартиры в центре от месяца размещения объявления\n",
    "# с ограничением оси ординат 15.000.000\n",
    "df_piter_centre.plot(x='month', y='last_price', kind='scatter', ylim=(0, 150000000))"
   ]
  },
  {
   "cell_type": "code",
   "execution_count": 98,
   "metadata": {},
   "outputs": [
    {
     "data": {
      "text/plain": [
       "<AxesSubplot:xlabel='year', ylabel='last_price'>"
      ]
     },
     "execution_count": 98,
     "metadata": {},
     "output_type": "execute_result"
    },
    {
     "data": {
      "image/png": "[encoded data removed]",
      "text/plain": [
       "<Figure size 432x288 with 1 Axes>"
      ]
     },
     "metadata": {
      "needs_background": "light"
     },
     "output_type": "display_data"
    }
   ],
   "source": [
    "# график зависимости стоимости квартиры в центре от года размещения объявления\n",
    "# с ограничением оси ординат 15.000.000\n",
    "df_piter_centre.plot(x='year', y='last_price', kind='scatter', ylim=(0, 150000000))"
   ]
  },
  {
   "cell_type": "markdown",
   "metadata": {},
   "source": [
    "По сравнению с общей выборкой мало что изменилось. \n",
    "\n",
    "Также дороже продаются квартиры, размещённые с понедельника по четверг, в феврале, июне и ноябре. Дешевле продаются размещённые в выходные и в июле - дни низкого спроса и отсутствия большого числа покупателей. Динамика по годам аналогична общей выборке."
   ]
  },
  {
   "cell_type": "markdown",
   "metadata": {},
   "source": [
    "## Общий вывод"
   ]
  },
  {
   "cell_type": "markdown",
   "metadata": {},
   "source": [
    "В исходном датафрейме имелись данные в 22 столбцах. \n",
    "\n",
    "На этапе предобработки данных мы устранили нарушения стиля, пропущенные, лишние и аномальные значения, округлили даты, изменили типы данных и хаотичное расположение столбцов с близким смыслом. \n",
    "\n",
    "После чего рассчитали несколько дополнительных показателей и добавили их в таблицу: цена квадратного метра; день недели, месяц и год публикации объявления; этаж квартиры (первый, последний, другой); соотношение жилой и общей площади, а также отношение площади кухни к общей. Получили таблицу с 29 столбцами."
   ]
  },
  {
   "cell_type": "markdown",
   "metadata": {},
   "source": [
    "Проведённый исследовательский анализ показал, что стоимость квартиры больше всего зависит от её общей площади и количества комнат, стоимость снижается по мере удаления от центра. Кроме того, на стоимость продажи квартиры влияет день и месяц размещения объявления, имеется также годовая динамика (с пиком в 2017 году).\n",
    "\n",
    "Нам удалось рассчитать средние и медианные значения всех факторов, определить среднее время продажи квартиры, среднюю цену кв.м в основных населённых пунктах, вычислить радиус центральной локации и сравнить параметры квартир в центре с общими параметрами по всей выборке."
   ]
  },
  {
   "cell_type": "markdown",
   "metadata": {},
   "source": [
    "Мы выяснили, что 2/3 объявлений подано в Санкт-Петербурге. Там и самая высокая средняя цена кв.м - почти 115 тыс.руб. Наименее дорогое жильё в городах Выборге, Всеволожске и Гатчине - менее 70 тыс.руб. за кв.м."
   ]
  },
  {
   "cell_type": "markdown",
   "metadata": {},
   "source": [
    "Наш анализ показал, что существует чёткая граница между центром Петербурга и остальной частью города - на расстоянии 7 км от нулевой точки отсчёта.\n",
    "\n",
    "Цена квартиры в центре в среднем выше в 2,26 раза - 14,7 млн.руб. против 6,5 млн.руб. (схожая картина и с медианными значениями). Площадь квартиры в центре в среднем выше в 1,5 раза - 92,3 кв.м против 60,3 кв.м. Выше количество комнат и высота потолка, ниже этажность и выше дни экспозиции - 245 дней против 180 дней."
   ]
  }
 ],
 "metadata": {
  "ExecuteTimeLog": [
   {
    "duration": 13,
    "start_time": "2022-05-19T10:12:58.243Z"
   },
   {
    "duration": 421,
    "start_time": "2022-05-19T10:12:58.262Z"
   },
   {
    "duration": 3,
    "start_time": "2022-05-19T10:12:58.685Z"
   },
   {
    "duration": 0,
    "start_time": "2022-05-19T10:12:58.691Z"
   },
   {
    "duration": 68,
    "start_time": "2022-05-19T10:12:58.781Z"
   },
   {
    "duration": 5,
    "start_time": "2022-05-19T10:13:38.977Z"
   },
   {
    "duration": 3,
    "start_time": "2022-05-19T10:14:55.810Z"
   },
   {
    "duration": 355,
    "start_time": "2022-05-19T10:14:58.854Z"
   },
   {
    "duration": 13,
    "start_time": "2022-05-19T10:15:02.415Z"
   },
   {
    "duration": 18,
    "start_time": "2022-05-19T10:31:24.553Z"
   },
   {
    "duration": 573,
    "start_time": "2022-05-19T19:31:05.880Z"
   },
   {
    "duration": 294,
    "start_time": "2022-05-19T19:31:07.768Z"
   },
   {
    "duration": 4,
    "start_time": "2022-05-19T19:31:08.587Z"
   },
   {
    "duration": 14,
    "start_time": "2022-05-19T19:31:09.882Z"
   },
   {
    "duration": 12,
    "start_time": "2022-05-19T19:31:18.405Z"
   },
   {
    "duration": 16,
    "start_time": "2022-05-19T19:34:31.991Z"
   },
   {
    "duration": 72,
    "start_time": "2022-05-19T19:35:26.830Z"
   },
   {
    "duration": 8,
    "start_time": "2022-05-19T19:51:04.408Z"
   },
   {
    "duration": 8,
    "start_time": "2022-05-19T19:55:39.827Z"
   },
   {
    "duration": 80,
    "start_time": "2022-05-19T19:55:52.516Z"
   },
   {
    "duration": 14,
    "start_time": "2022-05-19T19:55:59.897Z"
   },
   {
    "duration": 8,
    "start_time": "2022-05-19T19:56:01.376Z"
   },
   {
    "duration": 458,
    "start_time": "2022-05-19T19:59:09.306Z"
   },
   {
    "duration": 39,
    "start_time": "2022-05-19T20:00:42.952Z"
   },
   {
    "duration": 4,
    "start_time": "2022-05-19T20:00:50.873Z"
   },
   {
    "duration": 4,
    "start_time": "2022-05-19T20:01:06.256Z"
   },
   {
    "duration": 412,
    "start_time": "2022-05-19T20:08:09.665Z"
   },
   {
    "duration": 526,
    "start_time": "2022-05-19T20:08:44.011Z"
   },
   {
    "duration": 0,
    "start_time": "2022-05-19T20:14:43.524Z"
   },
   {
    "duration": 0,
    "start_time": "2022-05-19T20:14:43.526Z"
   },
   {
    "duration": 6,
    "start_time": "2022-05-19T20:17:16.901Z"
   },
   {
    "duration": 10,
    "start_time": "2022-05-19T20:17:22.708Z"
   },
   {
    "duration": 3,
    "start_time": "2022-05-19T20:25:57.598Z"
   },
   {
    "duration": 103,
    "start_time": "2022-05-19T20:25:59.411Z"
   },
   {
    "duration": 15,
    "start_time": "2022-05-19T20:26:01.838Z"
   },
   {
    "duration": 8,
    "start_time": "2022-05-19T20:26:05.960Z"
   },
   {
    "duration": 11,
    "start_time": "2022-05-19T20:26:36.413Z"
   },
   {
    "duration": 8,
    "start_time": "2022-05-19T20:26:41.054Z"
   },
   {
    "duration": 105,
    "start_time": "2022-05-19T20:26:54.978Z"
   },
   {
    "duration": 28,
    "start_time": "2022-05-19T20:26:58.192Z"
   },
   {
    "duration": 14,
    "start_time": "2022-05-19T20:29:06.116Z"
   },
   {
    "duration": 28,
    "start_time": "2022-05-19T20:42:48.274Z"
   },
   {
    "duration": 7,
    "start_time": "2022-05-19T21:18:44.612Z"
   },
   {
    "duration": 6,
    "start_time": "2022-05-19T21:18:55.952Z"
   },
   {
    "duration": 6,
    "start_time": "2022-05-19T21:19:24.507Z"
   },
   {
    "duration": 4,
    "start_time": "2022-05-19T21:19:38.256Z"
   },
   {
    "duration": 64,
    "start_time": "2022-05-19T21:29:13.222Z"
   },
   {
    "duration": 98,
    "start_time": "2022-05-19T21:29:20.160Z"
   },
   {
    "duration": 50,
    "start_time": "2022-05-19T21:37:55.883Z"
   },
   {
    "duration": 39,
    "start_time": "2022-05-19T21:38:55.330Z"
   },
   {
    "duration": 51,
    "start_time": "2022-05-19T21:39:30.149Z"
   },
   {
    "duration": 389,
    "start_time": "2022-05-21T18:01:29.380Z"
   },
   {
    "duration": 116,
    "start_time": "2022-05-21T18:01:29.771Z"
   },
   {
    "duration": 12,
    "start_time": "2022-05-21T18:01:29.888Z"
   },
   {
    "duration": 19,
    "start_time": "2022-05-21T18:01:29.901Z"
   },
   {
    "duration": 71,
    "start_time": "2022-05-21T18:01:29.921Z"
   },
   {
    "duration": 14,
    "start_time": "2022-05-21T18:01:29.993Z"
   },
   {
    "duration": 86,
    "start_time": "2022-05-21T18:01:30.009Z"
   },
   {
    "duration": 4,
    "start_time": "2022-05-21T18:01:30.097Z"
   },
   {
    "duration": 0,
    "start_time": "2022-05-21T18:01:30.102Z"
   },
   {
    "duration": 37,
    "start_time": "2022-05-21T18:07:00.667Z"
   },
   {
    "duration": 25,
    "start_time": "2022-05-21T18:07:29.862Z"
   },
   {
    "duration": 18,
    "start_time": "2022-05-21T18:07:55.711Z"
   },
   {
    "duration": 5,
    "start_time": "2022-05-21T18:08:52.765Z"
   },
   {
    "duration": 4,
    "start_time": "2022-05-21T18:08:56.222Z"
   },
   {
    "duration": 63,
    "start_time": "2022-05-22T07:12:00.609Z"
   },
   {
    "duration": 440,
    "start_time": "2022-05-22T07:12:13.881Z"
   },
   {
    "duration": 119,
    "start_time": "2022-05-22T07:12:14.324Z"
   },
   {
    "duration": 13,
    "start_time": "2022-05-22T07:12:14.445Z"
   },
   {
    "duration": 43,
    "start_time": "2022-05-22T07:12:14.460Z"
   },
   {
    "duration": 79,
    "start_time": "2022-05-22T07:12:14.505Z"
   },
   {
    "duration": 15,
    "start_time": "2022-05-22T07:12:14.586Z"
   },
   {
    "duration": 88,
    "start_time": "2022-05-22T07:12:14.603Z"
   },
   {
    "duration": 6,
    "start_time": "2022-05-22T07:12:14.693Z"
   },
   {
    "duration": 30,
    "start_time": "2022-05-22T07:12:14.701Z"
   },
   {
    "duration": 54,
    "start_time": "2022-05-22T07:12:14.734Z"
   },
   {
    "duration": 46,
    "start_time": "2022-05-22T08:22:00.871Z"
   },
   {
    "duration": 38,
    "start_time": "2022-05-22T09:28:11.697Z"
   },
   {
    "duration": 4,
    "start_time": "2022-05-22T09:42:00.593Z"
   },
   {
    "duration": 3,
    "start_time": "2022-05-22T09:42:19.178Z"
   },
   {
    "duration": 5,
    "start_time": "2022-05-22T09:42:28.354Z"
   },
   {
    "duration": 77,
    "start_time": "2022-05-22T09:46:27.800Z"
   },
   {
    "duration": 32,
    "start_time": "2022-05-22T09:50:05.456Z"
   },
   {
    "duration": 31,
    "start_time": "2022-05-22T09:50:16.416Z"
   },
   {
    "duration": 8,
    "start_time": "2022-05-22T09:51:19.648Z"
   },
   {
    "duration": 411,
    "start_time": "2022-05-22T09:51:41.364Z"
   },
   {
    "duration": 69,
    "start_time": "2022-05-22T09:51:41.777Z"
   },
   {
    "duration": 12,
    "start_time": "2022-05-22T09:51:41.848Z"
   },
   {
    "duration": 17,
    "start_time": "2022-05-22T09:51:41.862Z"
   },
   {
    "duration": 74,
    "start_time": "2022-05-22T09:51:41.881Z"
   },
   {
    "duration": 30,
    "start_time": "2022-05-22T09:51:41.957Z"
   },
   {
    "duration": 18,
    "start_time": "2022-05-22T09:51:41.988Z"
   },
   {
    "duration": 89,
    "start_time": "2022-05-22T09:51:42.008Z"
   },
   {
    "duration": 5,
    "start_time": "2022-05-22T09:51:42.585Z"
   },
   {
    "duration": 5,
    "start_time": "2022-05-22T09:51:42.647Z"
   },
   {
    "duration": 74,
    "start_time": "2022-05-22T09:51:43.623Z"
   },
   {
    "duration": 0,
    "start_time": "2022-05-22T09:51:43.699Z"
   },
   {
    "duration": 0,
    "start_time": "2022-05-22T09:51:43.700Z"
   },
   {
    "duration": 0,
    "start_time": "2022-05-22T09:51:43.701Z"
   },
   {
    "duration": 35,
    "start_time": "2022-05-22T09:51:43.703Z"
   },
   {
    "duration": 8,
    "start_time": "2022-05-22T09:52:36.704Z"
   },
   {
    "duration": 10,
    "start_time": "2022-05-22T09:52:40.151Z"
   },
   {
    "duration": 6,
    "start_time": "2022-05-22T09:52:42.277Z"
   },
   {
    "duration": 12,
    "start_time": "2022-05-22T09:56:51.327Z"
   },
   {
    "duration": 5,
    "start_time": "2022-05-22T09:56:53.030Z"
   },
   {
    "duration": 10,
    "start_time": "2022-05-22T09:57:14.362Z"
   },
   {
    "duration": 8,
    "start_time": "2022-05-22T09:57:15.284Z"
   },
   {
    "duration": 14,
    "start_time": "2022-05-22T09:58:29.102Z"
   },
   {
    "duration": 6,
    "start_time": "2022-05-22T09:58:30.217Z"
   },
   {
    "duration": 10,
    "start_time": "2022-05-22T10:03:28.962Z"
   },
   {
    "duration": 8,
    "start_time": "2022-05-22T10:03:37.945Z"
   },
   {
    "duration": 2,
    "start_time": "2022-05-22T10:08:40.367Z"
   },
   {
    "duration": 6,
    "start_time": "2022-05-22T10:08:43.253Z"
   },
   {
    "duration": 3,
    "start_time": "2022-05-22T10:09:00.485Z"
   },
   {
    "duration": 6,
    "start_time": "2022-05-22T10:09:01.859Z"
   },
   {
    "duration": 386,
    "start_time": "2022-05-22T10:09:25.687Z"
   },
   {
    "duration": 71,
    "start_time": "2022-05-22T10:09:26.075Z"
   },
   {
    "duration": 13,
    "start_time": "2022-05-22T10:09:26.148Z"
   },
   {
    "duration": 21,
    "start_time": "2022-05-22T10:09:26.163Z"
   },
   {
    "duration": 70,
    "start_time": "2022-05-22T10:09:26.186Z"
   },
   {
    "duration": 31,
    "start_time": "2022-05-22T10:09:26.258Z"
   },
   {
    "duration": 13,
    "start_time": "2022-05-22T10:09:26.291Z"
   },
   {
    "duration": 99,
    "start_time": "2022-05-22T10:09:26.305Z"
   },
   {
    "duration": 5,
    "start_time": "2022-05-22T10:09:26.405Z"
   },
   {
    "duration": 6,
    "start_time": "2022-05-22T10:09:26.412Z"
   },
   {
    "duration": 10,
    "start_time": "2022-05-22T10:09:26.721Z"
   },
   {
    "duration": 9,
    "start_time": "2022-05-22T10:09:26.736Z"
   },
   {
    "duration": 3,
    "start_time": "2022-05-22T10:09:26.757Z"
   },
   {
    "duration": 9,
    "start_time": "2022-05-22T10:09:26.764Z"
   },
   {
    "duration": 8,
    "start_time": "2022-05-22T10:09:26.819Z"
   },
   {
    "duration": 38,
    "start_time": "2022-05-22T10:09:26.853Z"
   },
   {
    "duration": 37,
    "start_time": "2022-05-22T10:10:35.995Z"
   },
   {
    "duration": 12,
    "start_time": "2022-05-22T10:11:06.193Z"
   },
   {
    "duration": 6,
    "start_time": "2022-05-22T10:11:08.126Z"
   },
   {
    "duration": 6,
    "start_time": "2022-05-22T10:13:30.403Z"
   },
   {
    "duration": 175,
    "start_time": "2022-05-22T10:17:39.989Z"
   },
   {
    "duration": 30,
    "start_time": "2022-05-22T10:18:11.078Z"
   },
   {
    "duration": 6,
    "start_time": "2022-05-22T10:23:54.239Z"
   },
   {
    "duration": 31,
    "start_time": "2022-05-22T10:25:25.893Z"
   },
   {
    "duration": 663,
    "start_time": "2022-05-22T10:25:40.216Z"
   },
   {
    "duration": 344,
    "start_time": "2022-05-22T10:25:55.649Z"
   },
   {
    "duration": 17,
    "start_time": "2022-05-22T10:26:15.964Z"
   },
   {
    "duration": 9,
    "start_time": "2022-05-22T10:26:33.077Z"
   },
   {
    "duration": 6,
    "start_time": "2022-05-22T10:29:37.609Z"
   },
   {
    "duration": 15,
    "start_time": "2022-05-22T10:31:09.265Z"
   },
   {
    "duration": 78,
    "start_time": "2022-05-22T10:31:29.656Z"
   },
   {
    "duration": 24,
    "start_time": "2022-05-22T11:01:15.579Z"
   },
   {
    "duration": 503,
    "start_time": "2022-05-22T11:12:57.029Z"
   },
   {
    "duration": 8,
    "start_time": "2022-05-22T11:13:06.933Z"
   },
   {
    "duration": 79,
    "start_time": "2022-05-22T11:13:32.639Z"
   },
   {
    "duration": 6,
    "start_time": "2022-05-22T11:14:40.516Z"
   },
   {
    "duration": 7,
    "start_time": "2022-05-22T11:16:11.874Z"
   },
   {
    "duration": 7,
    "start_time": "2022-05-22T11:16:45.431Z"
   },
   {
    "duration": 6,
    "start_time": "2022-05-22T11:19:45.529Z"
   },
   {
    "duration": 78,
    "start_time": "2022-05-22T11:19:46.996Z"
   },
   {
    "duration": 8,
    "start_time": "2022-05-22T11:20:48.587Z"
   },
   {
    "duration": 7,
    "start_time": "2022-05-22T11:22:40.703Z"
   },
   {
    "duration": 8,
    "start_time": "2022-05-22T11:22:52.570Z"
   },
   {
    "duration": 6,
    "start_time": "2022-05-22T11:25:48.310Z"
   },
   {
    "duration": 10,
    "start_time": "2022-05-22T11:28:25.328Z"
   },
   {
    "duration": 7,
    "start_time": "2022-05-22T11:28:36.522Z"
   },
   {
    "duration": 5,
    "start_time": "2022-05-22T11:53:26.516Z"
   },
   {
    "duration": 7,
    "start_time": "2022-05-22T11:54:16.806Z"
   },
   {
    "duration": 617,
    "start_time": "2022-05-22T11:55:12.324Z"
   },
   {
    "duration": 4,
    "start_time": "2022-05-22T11:55:24.774Z"
   },
   {
    "duration": 64,
    "start_time": "2022-05-22T11:56:40.692Z"
   },
   {
    "duration": 400,
    "start_time": "2022-05-22T11:57:57.614Z"
   },
   {
    "duration": 74,
    "start_time": "2022-05-22T11:57:58.018Z"
   },
   {
    "duration": 13,
    "start_time": "2022-05-22T11:57:58.093Z"
   },
   {
    "duration": 19,
    "start_time": "2022-05-22T11:57:58.108Z"
   },
   {
    "duration": 84,
    "start_time": "2022-05-22T11:57:58.128Z"
   },
   {
    "duration": 31,
    "start_time": "2022-05-22T11:57:58.214Z"
   },
   {
    "duration": 17,
    "start_time": "2022-05-22T11:57:58.252Z"
   },
   {
    "duration": 82,
    "start_time": "2022-05-22T11:57:58.271Z"
   },
   {
    "duration": 4,
    "start_time": "2022-05-22T11:57:58.354Z"
   },
   {
    "duration": 9,
    "start_time": "2022-05-22T11:57:58.360Z"
   },
   {
    "duration": 9,
    "start_time": "2022-05-22T11:57:58.825Z"
   },
   {
    "duration": 4,
    "start_time": "2022-05-22T11:57:58.851Z"
   },
   {
    "duration": 4,
    "start_time": "2022-05-22T11:57:58.862Z"
   },
   {
    "duration": 5,
    "start_time": "2022-05-22T11:57:58.876Z"
   },
   {
    "duration": 30,
    "start_time": "2022-05-22T11:57:58.895Z"
   },
   {
    "duration": 7,
    "start_time": "2022-05-22T11:58:00.072Z"
   },
   {
    "duration": 6,
    "start_time": "2022-05-22T11:58:00.092Z"
   },
   {
    "duration": 66,
    "start_time": "2022-05-22T11:58:00.114Z"
   },
   {
    "duration": 7,
    "start_time": "2022-05-22T11:58:01.155Z"
   },
   {
    "duration": 6,
    "start_time": "2022-05-22T11:58:02.099Z"
   },
   {
    "duration": 7,
    "start_time": "2022-05-22T11:58:03.075Z"
   },
   {
    "duration": 6,
    "start_time": "2022-05-22T11:58:04.266Z"
   },
   {
    "duration": 5,
    "start_time": "2022-05-22T11:58:05.458Z"
   },
   {
    "duration": 71,
    "start_time": "2022-05-22T11:58:05.465Z"
   },
   {
    "duration": 7,
    "start_time": "2022-05-22T11:58:06.561Z"
   },
   {
    "duration": 13,
    "start_time": "2022-05-22T11:58:06.595Z"
   },
   {
    "duration": 5,
    "start_time": "2022-05-22T12:12:01.484Z"
   },
   {
    "duration": 60,
    "start_time": "2022-05-22T12:12:53.666Z"
   },
   {
    "duration": 7,
    "start_time": "2022-05-22T12:36:15.668Z"
   },
   {
    "duration": 6,
    "start_time": "2022-05-22T12:39:11.579Z"
   },
   {
    "duration": 86,
    "start_time": "2022-05-22T12:39:13.918Z"
   },
   {
    "duration": 432,
    "start_time": "2022-05-22T12:41:03.949Z"
   },
   {
    "duration": 74,
    "start_time": "2022-05-22T12:41:04.383Z"
   },
   {
    "duration": 12,
    "start_time": "2022-05-22T12:41:04.458Z"
   },
   {
    "duration": 14,
    "start_time": "2022-05-22T12:41:04.472Z"
   },
   {
    "duration": 81,
    "start_time": "2022-05-22T12:41:04.488Z"
   },
   {
    "duration": 30,
    "start_time": "2022-05-22T12:41:04.571Z"
   },
   {
    "duration": 15,
    "start_time": "2022-05-22T12:41:04.602Z"
   },
   {
    "duration": 88,
    "start_time": "2022-05-22T12:41:04.618Z"
   },
   {
    "duration": 4,
    "start_time": "2022-05-22T12:41:04.708Z"
   },
   {
    "duration": 10,
    "start_time": "2022-05-22T12:41:04.714Z"
   },
   {
    "duration": 17,
    "start_time": "2022-05-22T12:41:04.725Z"
   },
   {
    "duration": 9,
    "start_time": "2022-05-22T12:41:04.743Z"
   },
   {
    "duration": 2,
    "start_time": "2022-05-22T12:41:04.753Z"
   },
   {
    "duration": 7,
    "start_time": "2022-05-22T12:41:04.757Z"
   },
   {
    "duration": 32,
    "start_time": "2022-05-22T12:41:04.765Z"
   },
   {
    "duration": 7,
    "start_time": "2022-05-22T12:41:04.798Z"
   },
   {
    "duration": 6,
    "start_time": "2022-05-22T12:41:04.806Z"
   },
   {
    "duration": 7,
    "start_time": "2022-05-22T12:41:04.813Z"
   },
   {
    "duration": 34,
    "start_time": "2022-05-22T12:41:04.821Z"
   },
   {
    "duration": 7,
    "start_time": "2022-05-22T12:41:04.856Z"
   },
   {
    "duration": 5,
    "start_time": "2022-05-22T12:41:04.864Z"
   },
   {
    "duration": 9,
    "start_time": "2022-05-22T12:41:04.871Z"
   },
   {
    "duration": 4,
    "start_time": "2022-05-22T12:41:05.421Z"
   },
   {
    "duration": 62,
    "start_time": "2022-05-22T12:41:05.461Z"
   },
   {
    "duration": 6,
    "start_time": "2022-05-22T12:41:05.525Z"
   },
   {
    "duration": 14,
    "start_time": "2022-05-22T12:41:05.557Z"
   },
   {
    "duration": 7,
    "start_time": "2022-05-22T12:43:25.700Z"
   },
   {
    "duration": 459,
    "start_time": "2022-05-22T19:59:36.813Z"
   },
   {
    "duration": 139,
    "start_time": "2022-05-22T19:59:37.274Z"
   },
   {
    "duration": 16,
    "start_time": "2022-05-22T19:59:37.414Z"
   },
   {
    "duration": 37,
    "start_time": "2022-05-22T19:59:37.432Z"
   },
   {
    "duration": 97,
    "start_time": "2022-05-22T19:59:37.471Z"
   },
   {
    "duration": 39,
    "start_time": "2022-05-22T19:59:37.570Z"
   },
   {
    "duration": 41,
    "start_time": "2022-05-22T19:59:37.610Z"
   },
   {
    "duration": 85,
    "start_time": "2022-05-22T19:59:37.654Z"
   },
   {
    "duration": 6,
    "start_time": "2022-05-22T19:59:37.744Z"
   },
   {
    "duration": 10,
    "start_time": "2022-05-22T19:59:37.754Z"
   },
   {
    "duration": 14,
    "start_time": "2022-05-22T19:59:37.766Z"
   },
   {
    "duration": 54,
    "start_time": "2022-05-22T19:59:37.782Z"
   },
   {
    "duration": 19,
    "start_time": "2022-05-22T19:59:37.839Z"
   },
   {
    "duration": 4,
    "start_time": "2022-05-22T19:59:37.860Z"
   },
   {
    "duration": 11,
    "start_time": "2022-05-22T19:59:37.865Z"
   },
   {
    "duration": 55,
    "start_time": "2022-05-22T19:59:37.878Z"
   },
   {
    "duration": 15,
    "start_time": "2022-05-22T19:59:37.935Z"
   },
   {
    "duration": 27,
    "start_time": "2022-05-22T19:59:37.952Z"
   },
   {
    "duration": 8,
    "start_time": "2022-05-22T19:59:37.980Z"
   },
   {
    "duration": 7,
    "start_time": "2022-05-22T19:59:37.990Z"
   },
   {
    "duration": 9,
    "start_time": "2022-05-22T19:59:37.999Z"
   },
   {
    "duration": 21,
    "start_time": "2022-05-22T19:59:38.009Z"
   },
   {
    "duration": 10,
    "start_time": "2022-05-22T19:59:38.032Z"
   },
   {
    "duration": 14,
    "start_time": "2022-05-22T19:59:38.043Z"
   },
   {
    "duration": 59,
    "start_time": "2022-05-22T19:59:38.059Z"
   },
   {
    "duration": 7,
    "start_time": "2022-05-22T20:10:29.805Z"
   },
   {
    "duration": 10,
    "start_time": "2022-05-22T20:11:40.564Z"
   },
   {
    "duration": 514,
    "start_time": "2022-05-22T20:12:19.318Z"
   },
   {
    "duration": 135,
    "start_time": "2022-05-22T20:12:19.834Z"
   },
   {
    "duration": 19,
    "start_time": "2022-05-22T20:12:19.971Z"
   },
   {
    "duration": 32,
    "start_time": "2022-05-22T20:12:19.993Z"
   },
   {
    "duration": 103,
    "start_time": "2022-05-22T20:12:20.028Z"
   },
   {
    "duration": 40,
    "start_time": "2022-05-22T20:12:20.134Z"
   },
   {
    "duration": 37,
    "start_time": "2022-05-22T20:12:20.176Z"
   },
   {
    "duration": 105,
    "start_time": "2022-05-22T20:12:20.215Z"
   },
   {
    "duration": 6,
    "start_time": "2022-05-22T20:12:20.322Z"
   },
   {
    "duration": 10,
    "start_time": "2022-05-22T20:12:20.331Z"
   },
   {
    "duration": 27,
    "start_time": "2022-05-22T20:12:20.342Z"
   },
   {
    "duration": 64,
    "start_time": "2022-05-22T20:12:20.371Z"
   },
   {
    "duration": 6,
    "start_time": "2022-05-22T20:12:20.437Z"
   },
   {
    "duration": 14,
    "start_time": "2022-05-22T20:12:20.675Z"
   },
   {
    "duration": 12,
    "start_time": "2022-05-22T20:12:20.726Z"
   },
   {
    "duration": 6,
    "start_time": "2022-05-22T20:12:20.749Z"
   },
   {
    "duration": 28,
    "start_time": "2022-05-22T20:12:20.761Z"
   },
   {
    "duration": 46,
    "start_time": "2022-05-22T20:12:20.795Z"
   },
   {
    "duration": 12,
    "start_time": "2022-05-22T20:12:20.843Z"
   },
   {
    "duration": 16,
    "start_time": "2022-05-22T20:12:20.859Z"
   },
   {
    "duration": 16,
    "start_time": "2022-05-22T20:12:20.878Z"
   },
   {
    "duration": 9,
    "start_time": "2022-05-22T20:12:20.925Z"
   },
   {
    "duration": 26,
    "start_time": "2022-05-22T20:12:20.936Z"
   },
   {
    "duration": 23,
    "start_time": "2022-05-22T20:12:20.965Z"
   },
   {
    "duration": 34,
    "start_time": "2022-05-22T20:12:20.991Z"
   },
   {
    "duration": 15,
    "start_time": "2022-05-22T20:12:21.031Z"
   },
   {
    "duration": 102,
    "start_time": "2022-05-22T20:12:21.048Z"
   },
   {
    "duration": 5,
    "start_time": "2022-05-22T20:15:38.261Z"
   },
   {
    "duration": 11,
    "start_time": "2022-05-22T20:15:58.052Z"
   },
   {
    "duration": 647,
    "start_time": "2022-05-22T20:16:31.256Z"
   },
   {
    "duration": 108,
    "start_time": "2022-05-22T20:16:31.906Z"
   },
   {
    "duration": 18,
    "start_time": "2022-05-22T20:16:32.016Z"
   },
   {
    "duration": 43,
    "start_time": "2022-05-22T20:16:32.036Z"
   },
   {
    "duration": 97,
    "start_time": "2022-05-22T20:16:32.081Z"
   },
   {
    "duration": 29,
    "start_time": "2022-05-22T20:16:32.180Z"
   },
   {
    "duration": 48,
    "start_time": "2022-05-22T20:16:32.211Z"
   },
   {
    "duration": 77,
    "start_time": "2022-05-22T20:16:32.260Z"
   },
   {
    "duration": 5,
    "start_time": "2022-05-22T20:16:32.340Z"
   },
   {
    "duration": 48,
    "start_time": "2022-05-22T20:16:32.348Z"
   },
   {
    "duration": 37,
    "start_time": "2022-05-22T20:16:32.398Z"
   },
   {
    "duration": 70,
    "start_time": "2022-05-22T20:16:32.437Z"
   },
   {
    "duration": 5,
    "start_time": "2022-05-22T20:16:32.509Z"
   },
   {
    "duration": 8,
    "start_time": "2022-05-22T20:16:32.533Z"
   },
   {
    "duration": 13,
    "start_time": "2022-05-22T20:16:32.559Z"
   },
   {
    "duration": 12,
    "start_time": "2022-05-22T20:16:32.613Z"
   },
   {
    "duration": 16,
    "start_time": "2022-05-22T20:16:32.630Z"
   },
   {
    "duration": 46,
    "start_time": "2022-05-22T20:16:32.651Z"
   },
   {
    "duration": 55,
    "start_time": "2022-05-22T20:16:32.699Z"
   },
   {
    "duration": 7,
    "start_time": "2022-05-22T20:16:32.756Z"
   },
   {
    "duration": 19,
    "start_time": "2022-05-22T20:16:32.764Z"
   },
   {
    "duration": 26,
    "start_time": "2022-05-22T20:16:32.785Z"
   },
   {
    "duration": 27,
    "start_time": "2022-05-22T20:16:32.813Z"
   },
   {
    "duration": 21,
    "start_time": "2022-05-22T20:16:32.843Z"
   },
   {
    "duration": 22,
    "start_time": "2022-05-22T20:16:32.867Z"
   },
   {
    "duration": 27,
    "start_time": "2022-05-22T20:16:32.891Z"
   },
   {
    "duration": 25,
    "start_time": "2022-05-22T20:16:32.920Z"
   },
   {
    "duration": 137,
    "start_time": "2022-05-22T20:16:32.947Z"
   },
   {
    "duration": 8,
    "start_time": "2022-05-22T20:23:53.884Z"
   },
   {
    "duration": 19,
    "start_time": "2022-05-22T20:24:37.450Z"
   },
   {
    "duration": 48,
    "start_time": "2022-05-22T20:25:24.763Z"
   },
   {
    "duration": 6,
    "start_time": "2022-05-22T20:27:55.014Z"
   },
   {
    "duration": 10,
    "start_time": "2022-05-22T20:31:47.800Z"
   },
   {
    "duration": 18,
    "start_time": "2022-05-22T20:33:21.151Z"
   },
   {
    "duration": 3,
    "start_time": "2022-05-22T20:34:01.302Z"
   },
   {
    "duration": 459,
    "start_time": "2022-05-22T20:34:13.643Z"
   },
   {
    "duration": 71,
    "start_time": "2022-05-22T20:34:14.104Z"
   },
   {
    "duration": 12,
    "start_time": "2022-05-22T20:34:14.176Z"
   },
   {
    "duration": 16,
    "start_time": "2022-05-22T20:34:14.190Z"
   },
   {
    "duration": 81,
    "start_time": "2022-05-22T20:34:14.209Z"
   },
   {
    "duration": 38,
    "start_time": "2022-05-22T20:34:14.291Z"
   },
   {
    "duration": 13,
    "start_time": "2022-05-22T20:34:14.330Z"
   },
   {
    "duration": 94,
    "start_time": "2022-05-22T20:34:14.345Z"
   },
   {
    "duration": 5,
    "start_time": "2022-05-22T20:34:14.440Z"
   },
   {
    "duration": 7,
    "start_time": "2022-05-22T20:34:14.447Z"
   },
   {
    "duration": 11,
    "start_time": "2022-05-22T20:34:14.456Z"
   },
   {
    "duration": 58,
    "start_time": "2022-05-22T20:34:14.469Z"
   },
   {
    "duration": 4,
    "start_time": "2022-05-22T20:34:14.529Z"
   },
   {
    "duration": 5,
    "start_time": "2022-05-22T20:34:14.535Z"
   },
   {
    "duration": 12,
    "start_time": "2022-05-22T20:34:14.541Z"
   },
   {
    "duration": 4,
    "start_time": "2022-05-22T20:34:14.555Z"
   },
   {
    "duration": 6,
    "start_time": "2022-05-22T20:34:15.071Z"
   },
   {
    "duration": 4,
    "start_time": "2022-05-22T20:34:15.086Z"
   },
   {
    "duration": 49,
    "start_time": "2022-05-22T20:34:15.127Z"
   },
   {
    "duration": 8,
    "start_time": "2022-05-22T20:34:15.192Z"
   },
   {
    "duration": 7,
    "start_time": "2022-05-22T20:34:15.223Z"
   },
   {
    "duration": 5,
    "start_time": "2022-05-22T20:34:15.254Z"
   },
   {
    "duration": 5,
    "start_time": "2022-05-22T20:34:15.284Z"
   },
   {
    "duration": 29,
    "start_time": "2022-05-22T20:34:15.314Z"
   },
   {
    "duration": 7,
    "start_time": "2022-05-22T20:34:15.344Z"
   },
   {
    "duration": 6,
    "start_time": "2022-05-22T20:34:15.359Z"
   },
   {
    "duration": 6,
    "start_time": "2022-05-22T20:34:15.382Z"
   },
   {
    "duration": 6,
    "start_time": "2022-05-22T20:34:15.402Z"
   },
   {
    "duration": 7,
    "start_time": "2022-05-22T20:34:15.422Z"
   },
   {
    "duration": 7,
    "start_time": "2022-05-22T20:34:15.443Z"
   },
   {
    "duration": 5,
    "start_time": "2022-05-22T20:34:15.462Z"
   },
   {
    "duration": 5,
    "start_time": "2022-05-22T20:34:15.485Z"
   },
   {
    "duration": 68,
    "start_time": "2022-05-22T20:34:15.506Z"
   },
   {
    "duration": 16,
    "start_time": "2022-05-22T20:44:53.569Z"
   },
   {
    "duration": 13,
    "start_time": "2022-05-22T20:46:05.597Z"
   },
   {
    "duration": 497,
    "start_time": "2022-05-22T20:46:16.750Z"
   },
   {
    "duration": 135,
    "start_time": "2022-05-22T20:46:17.249Z"
   },
   {
    "duration": 15,
    "start_time": "2022-05-22T20:46:17.386Z"
   },
   {
    "duration": 43,
    "start_time": "2022-05-22T20:46:17.404Z"
   },
   {
    "duration": 89,
    "start_time": "2022-05-22T20:46:17.450Z"
   },
   {
    "duration": 33,
    "start_time": "2022-05-22T20:46:17.541Z"
   },
   {
    "duration": 30,
    "start_time": "2022-05-22T20:46:17.576Z"
   },
   {
    "duration": 108,
    "start_time": "2022-05-22T20:46:17.611Z"
   },
   {
    "duration": 11,
    "start_time": "2022-05-22T20:46:17.720Z"
   },
   {
    "duration": 16,
    "start_time": "2022-05-22T20:46:17.734Z"
   },
   {
    "duration": 29,
    "start_time": "2022-05-22T20:46:17.751Z"
   },
   {
    "duration": 54,
    "start_time": "2022-05-22T20:46:17.782Z"
   },
   {
    "duration": 5,
    "start_time": "2022-05-22T20:46:17.838Z"
   },
   {
    "duration": 35,
    "start_time": "2022-05-22T20:46:17.844Z"
   },
   {
    "duration": 21,
    "start_time": "2022-05-22T20:46:17.881Z"
   },
   {
    "duration": 43,
    "start_time": "2022-05-22T20:46:17.904Z"
   },
   {
    "duration": 7,
    "start_time": "2022-05-22T20:46:17.949Z"
   },
   {
    "duration": 0,
    "start_time": "2022-05-22T20:46:17.958Z"
   },
   {
    "duration": 0,
    "start_time": "2022-05-22T20:46:17.959Z"
   },
   {
    "duration": 0,
    "start_time": "2022-05-22T20:46:17.960Z"
   },
   {
    "duration": 0,
    "start_time": "2022-05-22T20:46:17.961Z"
   },
   {
    "duration": 0,
    "start_time": "2022-05-22T20:46:17.962Z"
   },
   {
    "duration": 0,
    "start_time": "2022-05-22T20:46:17.963Z"
   },
   {
    "duration": 0,
    "start_time": "2022-05-22T20:46:17.964Z"
   },
   {
    "duration": 0,
    "start_time": "2022-05-22T20:46:17.965Z"
   },
   {
    "duration": 0,
    "start_time": "2022-05-22T20:46:17.966Z"
   },
   {
    "duration": 0,
    "start_time": "2022-05-22T20:46:17.967Z"
   },
   {
    "duration": 0,
    "start_time": "2022-05-22T20:46:17.968Z"
   },
   {
    "duration": 0,
    "start_time": "2022-05-22T20:46:17.971Z"
   },
   {
    "duration": 0,
    "start_time": "2022-05-22T20:46:17.972Z"
   },
   {
    "duration": 0,
    "start_time": "2022-05-22T20:46:17.974Z"
   },
   {
    "duration": 0,
    "start_time": "2022-05-22T20:46:17.975Z"
   },
   {
    "duration": 0,
    "start_time": "2022-05-22T20:46:17.976Z"
   },
   {
    "duration": 0,
    "start_time": "2022-05-22T20:46:17.977Z"
   },
   {
    "duration": 5,
    "start_time": "2022-05-22T20:50:56.875Z"
   },
   {
    "duration": 10,
    "start_time": "2022-05-22T20:51:21.235Z"
   },
   {
    "duration": 4,
    "start_time": "2022-05-22T20:51:51.397Z"
   },
   {
    "duration": 6,
    "start_time": "2022-05-22T20:51:52.909Z"
   },
   {
    "duration": 3,
    "start_time": "2022-05-22T20:51:53.770Z"
   },
   {
    "duration": 9,
    "start_time": "2022-05-22T20:52:03.912Z"
   },
   {
    "duration": 55,
    "start_time": "2022-05-22T21:04:59.760Z"
   },
   {
    "duration": 11,
    "start_time": "2022-05-22T21:06:49.024Z"
   },
   {
    "duration": 9,
    "start_time": "2022-05-22T21:08:16.717Z"
   },
   {
    "duration": 454,
    "start_time": "2022-05-23T10:39:40.209Z"
   },
   {
    "duration": 86,
    "start_time": "2022-05-23T10:39:40.665Z"
   },
   {
    "duration": 13,
    "start_time": "2022-05-23T10:39:40.753Z"
   },
   {
    "duration": 18,
    "start_time": "2022-05-23T10:39:40.768Z"
   },
   {
    "duration": 88,
    "start_time": "2022-05-23T10:39:40.788Z"
   },
   {
    "duration": 33,
    "start_time": "2022-05-23T10:39:40.878Z"
   },
   {
    "duration": 34,
    "start_time": "2022-05-23T10:39:40.913Z"
   },
   {
    "duration": 74,
    "start_time": "2022-05-23T10:39:40.949Z"
   },
   {
    "duration": 5,
    "start_time": "2022-05-23T10:39:41.040Z"
   },
   {
    "duration": 4,
    "start_time": "2022-05-23T10:39:41.049Z"
   },
   {
    "duration": 15,
    "start_time": "2022-05-23T10:39:41.054Z"
   },
   {
    "duration": 47,
    "start_time": "2022-05-23T10:39:41.071Z"
   },
   {
    "duration": 25,
    "start_time": "2022-05-23T10:39:41.120Z"
   },
   {
    "duration": 15,
    "start_time": "2022-05-23T10:39:41.146Z"
   },
   {
    "duration": 29,
    "start_time": "2022-05-23T10:39:41.162Z"
   },
   {
    "duration": 67,
    "start_time": "2022-05-23T10:39:41.193Z"
   },
   {
    "duration": 5,
    "start_time": "2022-05-23T10:39:41.262Z"
   },
   {
    "duration": 25,
    "start_time": "2022-05-23T10:39:41.269Z"
   },
   {
    "duration": 9,
    "start_time": "2022-05-23T10:39:41.295Z"
   },
   {
    "duration": 23,
    "start_time": "2022-05-23T10:39:41.306Z"
   },
   {
    "duration": 12,
    "start_time": "2022-05-23T10:39:41.330Z"
   },
   {
    "duration": 23,
    "start_time": "2022-05-23T10:39:41.343Z"
   },
   {
    "duration": 7,
    "start_time": "2022-05-23T10:39:41.368Z"
   },
   {
    "duration": 11,
    "start_time": "2022-05-23T10:39:41.377Z"
   },
   {
    "duration": 20,
    "start_time": "2022-05-23T10:39:41.390Z"
   },
   {
    "duration": 26,
    "start_time": "2022-05-23T10:39:41.412Z"
   },
   {
    "duration": 29,
    "start_time": "2022-05-23T10:39:41.440Z"
   },
   {
    "duration": 5,
    "start_time": "2022-05-23T10:39:41.471Z"
   },
   {
    "duration": 21,
    "start_time": "2022-05-23T10:39:41.478Z"
   },
   {
    "duration": 22,
    "start_time": "2022-05-23T10:39:41.501Z"
   },
   {
    "duration": 6,
    "start_time": "2022-05-23T10:39:41.525Z"
   },
   {
    "duration": 29,
    "start_time": "2022-05-23T10:39:41.533Z"
   },
   {
    "duration": 19,
    "start_time": "2022-05-23T10:39:41.564Z"
   },
   {
    "duration": 16,
    "start_time": "2022-05-23T10:39:41.584Z"
   },
   {
    "duration": 23,
    "start_time": "2022-05-23T10:39:41.601Z"
   },
   {
    "duration": 10,
    "start_time": "2022-05-23T10:45:00.011Z"
   },
   {
    "duration": 8,
    "start_time": "2022-05-23T10:45:05.139Z"
   },
   {
    "duration": 11,
    "start_time": "2022-05-23T10:45:07.354Z"
   },
   {
    "duration": 9,
    "start_time": "2022-05-23T11:03:03.262Z"
   },
   {
    "duration": 7,
    "start_time": "2022-05-23T11:05:07.969Z"
   },
   {
    "duration": 9,
    "start_time": "2022-05-23T11:05:09.448Z"
   },
   {
    "duration": 9,
    "start_time": "2022-05-23T11:05:12.529Z"
   },
   {
    "duration": 26,
    "start_time": "2022-05-23T11:31:11.661Z"
   },
   {
    "duration": 4,
    "start_time": "2022-05-23T19:37:23.197Z"
   },
   {
    "duration": 58,
    "start_time": "2022-05-24T06:48:32.875Z"
   },
   {
    "duration": 6,
    "start_time": "2022-05-24T06:48:51.615Z"
   },
   {
    "duration": 499,
    "start_time": "2022-05-24T06:49:58.069Z"
   },
   {
    "duration": 611,
    "start_time": "2022-05-24T06:49:59.807Z"
   },
   {
    "duration": 43,
    "start_time": "2022-05-24T06:50:14.245Z"
   },
   {
    "duration": 23,
    "start_time": "2022-05-24T06:50:35.036Z"
   },
   {
    "duration": 464,
    "start_time": "2022-05-24T06:50:54.914Z"
   },
   {
    "duration": 95,
    "start_time": "2022-05-24T06:50:55.381Z"
   },
   {
    "duration": 13,
    "start_time": "2022-05-24T06:50:55.478Z"
   },
   {
    "duration": 17,
    "start_time": "2022-05-24T06:50:55.493Z"
   },
   {
    "duration": 76,
    "start_time": "2022-05-24T06:50:55.512Z"
   },
   {
    "duration": 29,
    "start_time": "2022-05-24T06:50:55.589Z"
   },
   {
    "duration": 34,
    "start_time": "2022-05-24T06:50:55.619Z"
   },
   {
    "duration": 75,
    "start_time": "2022-05-24T06:50:55.655Z"
   },
   {
    "duration": 20,
    "start_time": "2022-05-24T06:50:55.732Z"
   },
   {
    "duration": 8,
    "start_time": "2022-05-24T06:50:55.754Z"
   },
   {
    "duration": 17,
    "start_time": "2022-05-24T06:50:55.763Z"
   },
   {
    "duration": 35,
    "start_time": "2022-05-24T06:50:55.781Z"
   },
   {
    "duration": 5,
    "start_time": "2022-05-24T06:50:55.819Z"
   },
   {
    "duration": 28,
    "start_time": "2022-05-24T06:50:55.826Z"
   },
   {
    "duration": 12,
    "start_time": "2022-05-24T06:50:55.855Z"
   },
   {
    "duration": 41,
    "start_time": "2022-05-24T06:50:55.869Z"
   },
   {
    "duration": 6,
    "start_time": "2022-05-24T06:50:55.911Z"
   },
   {
    "duration": 6,
    "start_time": "2022-05-24T06:50:55.918Z"
   },
   {
    "duration": 6,
    "start_time": "2022-05-24T06:50:55.925Z"
   },
   {
    "duration": 26,
    "start_time": "2022-05-24T06:50:55.932Z"
   },
   {
    "duration": 8,
    "start_time": "2022-05-24T06:50:55.960Z"
   },
   {
    "duration": 7,
    "start_time": "2022-05-24T06:50:55.969Z"
   },
   {
    "duration": 8,
    "start_time": "2022-05-24T06:50:55.977Z"
   },
   {
    "duration": 8,
    "start_time": "2022-05-24T06:50:55.987Z"
   },
   {
    "duration": 25,
    "start_time": "2022-05-24T06:50:55.997Z"
   },
   {
    "duration": 2,
    "start_time": "2022-05-24T06:50:56.053Z"
   },
   {
    "duration": 8,
    "start_time": "2022-05-24T06:50:56.056Z"
   },
   {
    "duration": 10,
    "start_time": "2022-05-24T06:50:56.067Z"
   },
   {
    "duration": 7,
    "start_time": "2022-05-24T06:50:56.079Z"
   },
   {
    "duration": 12,
    "start_time": "2022-05-24T06:50:56.087Z"
   },
   {
    "duration": 5,
    "start_time": "2022-05-24T06:50:56.101Z"
   },
   {
    "duration": 6,
    "start_time": "2022-05-24T06:50:56.107Z"
   },
   {
    "duration": 6,
    "start_time": "2022-05-24T06:50:56.114Z"
   },
   {
    "duration": 6,
    "start_time": "2022-05-24T06:50:56.122Z"
   },
   {
    "duration": 8,
    "start_time": "2022-05-24T06:50:56.130Z"
   },
   {
    "duration": 19,
    "start_time": "2022-05-24T06:50:56.139Z"
   },
   {
    "duration": 6,
    "start_time": "2022-05-24T06:50:56.160Z"
   },
   {
    "duration": 15,
    "start_time": "2022-05-24T06:50:56.167Z"
   },
   {
    "duration": 4,
    "start_time": "2022-05-24T06:52:29.240Z"
   },
   {
    "duration": 8,
    "start_time": "2022-05-24T06:52:30.282Z"
   },
   {
    "duration": 8,
    "start_time": "2022-05-24T07:02:40.680Z"
   },
   {
    "duration": 7,
    "start_time": "2022-05-24T07:02:42.075Z"
   },
   {
    "duration": 8,
    "start_time": "2022-05-24T07:03:20.805Z"
   },
   {
    "duration": 7,
    "start_time": "2022-05-24T07:03:22.494Z"
   },
   {
    "duration": 81,
    "start_time": "2022-05-24T07:03:43.131Z"
   },
   {
    "duration": 7,
    "start_time": "2022-05-24T07:03:48.585Z"
   },
   {
    "duration": 7,
    "start_time": "2022-05-24T07:04:55.908Z"
   },
   {
    "duration": 6,
    "start_time": "2022-05-24T07:04:57.088Z"
   },
   {
    "duration": 7,
    "start_time": "2022-05-24T07:49:09.900Z"
   },
   {
    "duration": 3,
    "start_time": "2022-05-24T07:49:19.894Z"
   },
   {
    "duration": 7,
    "start_time": "2022-05-24T07:49:20.934Z"
   },
   {
    "duration": 6,
    "start_time": "2022-05-24T07:49:34.905Z"
   },
   {
    "duration": 6,
    "start_time": "2022-05-24T07:50:00.689Z"
   },
   {
    "duration": 422,
    "start_time": "2022-05-24T07:50:29.668Z"
   },
   {
    "duration": 91,
    "start_time": "2022-05-24T07:50:30.092Z"
   },
   {
    "duration": 13,
    "start_time": "2022-05-24T07:50:30.185Z"
   },
   {
    "duration": 22,
    "start_time": "2022-05-24T07:50:30.200Z"
   },
   {
    "duration": 95,
    "start_time": "2022-05-24T07:50:30.224Z"
   },
   {
    "duration": 35,
    "start_time": "2022-05-24T07:50:30.321Z"
   },
   {
    "duration": 72,
    "start_time": "2022-05-24T07:50:30.358Z"
   },
   {
    "duration": 149,
    "start_time": "2022-05-24T07:50:30.432Z"
   },
   {
    "duration": 4,
    "start_time": "2022-05-24T07:50:30.582Z"
   },
   {
    "duration": 12,
    "start_time": "2022-05-24T07:50:30.588Z"
   },
   {
    "duration": 23,
    "start_time": "2022-05-24T07:50:30.602Z"
   },
   {
    "duration": 51,
    "start_time": "2022-05-24T07:50:30.627Z"
   },
   {
    "duration": 5,
    "start_time": "2022-05-24T07:50:30.679Z"
   },
   {
    "duration": 33,
    "start_time": "2022-05-24T07:50:30.687Z"
   },
   {
    "duration": 15,
    "start_time": "2022-05-24T07:50:30.722Z"
   },
   {
    "duration": 65,
    "start_time": "2022-05-24T07:50:30.739Z"
   },
   {
    "duration": 6,
    "start_time": "2022-05-24T07:50:30.806Z"
   },
   {
    "duration": 24,
    "start_time": "2022-05-24T07:50:30.813Z"
   },
   {
    "duration": 47,
    "start_time": "2022-05-24T07:50:30.839Z"
   },
   {
    "duration": 43,
    "start_time": "2022-05-24T07:50:30.888Z"
   },
   {
    "duration": 33,
    "start_time": "2022-05-24T07:50:30.932Z"
   },
   {
    "duration": 26,
    "start_time": "2022-05-24T07:50:30.967Z"
   },
   {
    "duration": 22,
    "start_time": "2022-05-24T07:50:30.994Z"
   },
   {
    "duration": 26,
    "start_time": "2022-05-24T07:50:31.018Z"
   },
   {
    "duration": 19,
    "start_time": "2022-05-24T07:50:31.045Z"
   },
   {
    "duration": 19,
    "start_time": "2022-05-24T07:50:31.066Z"
   },
   {
    "duration": 36,
    "start_time": "2022-05-24T07:50:31.087Z"
   },
   {
    "duration": 3,
    "start_time": "2022-05-24T07:50:31.125Z"
   },
   {
    "duration": 21,
    "start_time": "2022-05-24T07:50:31.130Z"
   },
   {
    "duration": 21,
    "start_time": "2022-05-24T07:50:31.153Z"
   },
   {
    "duration": 12,
    "start_time": "2022-05-24T07:50:31.176Z"
   },
   {
    "duration": 23,
    "start_time": "2022-05-24T07:50:31.190Z"
   },
   {
    "duration": 20,
    "start_time": "2022-05-24T07:50:31.214Z"
   },
   {
    "duration": 13,
    "start_time": "2022-05-24T07:50:31.236Z"
   },
   {
    "duration": 16,
    "start_time": "2022-05-24T07:50:31.251Z"
   },
   {
    "duration": 19,
    "start_time": "2022-05-24T07:50:31.269Z"
   },
   {
    "duration": 53,
    "start_time": "2022-05-24T07:50:31.290Z"
   },
   {
    "duration": 15,
    "start_time": "2022-05-24T07:50:31.346Z"
   },
   {
    "duration": 15,
    "start_time": "2022-05-24T07:50:31.362Z"
   },
   {
    "duration": 24,
    "start_time": "2022-05-24T07:50:31.379Z"
   },
   {
    "duration": 64,
    "start_time": "2022-05-24T12:44:51.001Z"
   },
   {
    "duration": 439,
    "start_time": "2022-05-24T12:45:00.562Z"
   },
   {
    "duration": 134,
    "start_time": "2022-05-24T12:45:01.003Z"
   },
   {
    "duration": 14,
    "start_time": "2022-05-24T12:45:01.139Z"
   },
   {
    "duration": 30,
    "start_time": "2022-05-24T12:45:01.155Z"
   },
   {
    "duration": 83,
    "start_time": "2022-05-24T12:45:01.186Z"
   },
   {
    "duration": 41,
    "start_time": "2022-05-24T12:45:01.271Z"
   },
   {
    "duration": 15,
    "start_time": "2022-05-24T12:45:01.314Z"
   },
   {
    "duration": 92,
    "start_time": "2022-05-24T12:45:01.331Z"
   },
   {
    "duration": 5,
    "start_time": "2022-05-24T12:45:01.425Z"
   },
   {
    "duration": 27,
    "start_time": "2022-05-24T12:45:01.433Z"
   },
   {
    "duration": 31,
    "start_time": "2022-05-24T12:45:01.462Z"
   },
   {
    "duration": 39,
    "start_time": "2022-05-24T12:45:01.495Z"
   },
   {
    "duration": 60,
    "start_time": "2022-05-24T12:45:01.536Z"
   },
   {
    "duration": 6,
    "start_time": "2022-05-24T12:45:01.598Z"
   },
   {
    "duration": 20,
    "start_time": "2022-05-24T12:45:01.606Z"
   },
   {
    "duration": 35,
    "start_time": "2022-05-24T12:45:01.629Z"
   },
   {
    "duration": 76,
    "start_time": "2022-05-24T12:45:01.666Z"
   },
   {
    "duration": 5,
    "start_time": "2022-05-24T12:45:01.743Z"
   },
   {
    "duration": 32,
    "start_time": "2022-05-24T12:45:01.750Z"
   },
   {
    "duration": 29,
    "start_time": "2022-05-24T12:45:01.784Z"
   },
   {
    "duration": 30,
    "start_time": "2022-05-24T12:45:01.814Z"
   },
   {
    "duration": 32,
    "start_time": "2022-05-24T12:45:01.846Z"
   },
   {
    "duration": 28,
    "start_time": "2022-05-24T12:45:01.880Z"
   },
   {
    "duration": 11,
    "start_time": "2022-05-24T12:45:01.909Z"
   },
   {
    "duration": 39,
    "start_time": "2022-05-24T12:45:01.922Z"
   },
   {
    "duration": 36,
    "start_time": "2022-05-24T12:45:01.963Z"
   },
   {
    "duration": 30,
    "start_time": "2022-05-24T12:45:02.001Z"
   },
   {
    "duration": 32,
    "start_time": "2022-05-24T12:45:02.035Z"
   },
   {
    "duration": 2,
    "start_time": "2022-05-24T12:45:02.069Z"
   },
   {
    "duration": 24,
    "start_time": "2022-05-24T12:45:02.073Z"
   },
   {
    "duration": 24,
    "start_time": "2022-05-24T12:45:02.098Z"
   },
   {
    "duration": 37,
    "start_time": "2022-05-24T12:45:02.124Z"
   },
   {
    "duration": 25,
    "start_time": "2022-05-24T12:45:02.163Z"
   },
   {
    "duration": 27,
    "start_time": "2022-05-24T12:45:02.191Z"
   },
   {
    "duration": 38,
    "start_time": "2022-05-24T12:45:02.220Z"
   },
   {
    "duration": 26,
    "start_time": "2022-05-24T12:45:02.261Z"
   },
   {
    "duration": 29,
    "start_time": "2022-05-24T12:45:02.289Z"
   },
   {
    "duration": 21,
    "start_time": "2022-05-24T12:45:02.321Z"
   },
   {
    "duration": 40,
    "start_time": "2022-05-24T12:45:02.344Z"
   },
   {
    "duration": 30,
    "start_time": "2022-05-24T12:45:02.386Z"
   },
   {
    "duration": 23,
    "start_time": "2022-05-24T12:45:02.418Z"
   },
   {
    "duration": 8,
    "start_time": "2022-05-24T12:49:35.650Z"
   },
   {
    "duration": 9,
    "start_time": "2022-05-24T12:49:37.302Z"
   },
   {
    "duration": 2,
    "start_time": "2022-05-24T12:49:40.305Z"
   },
   {
    "duration": 12,
    "start_time": "2022-05-24T12:49:43.862Z"
   },
   {
    "duration": 70,
    "start_time": "2022-05-24T13:03:52.776Z"
   },
   {
    "duration": 4,
    "start_time": "2022-05-24T13:05:39.435Z"
   },
   {
    "duration": 4,
    "start_time": "2022-05-24T13:05:48.257Z"
   },
   {
    "duration": 6,
    "start_time": "2022-05-24T13:05:51.002Z"
   },
   {
    "duration": 9,
    "start_time": "2022-05-24T13:06:02.237Z"
   },
   {
    "duration": 62,
    "start_time": "2022-05-24T13:10:31.079Z"
   },
   {
    "duration": 7,
    "start_time": "2022-05-24T13:10:39.561Z"
   },
   {
    "duration": 11,
    "start_time": "2022-05-24T13:13:57.632Z"
   },
   {
    "duration": 33,
    "start_time": "2022-05-24T13:14:09.758Z"
   },
   {
    "duration": 40,
    "start_time": "2022-05-24T13:26:01.632Z"
   },
   {
    "duration": 432,
    "start_time": "2022-05-24T13:26:07.970Z"
   },
   {
    "duration": 82,
    "start_time": "2022-05-24T13:26:08.403Z"
   },
   {
    "duration": 11,
    "start_time": "2022-05-24T13:26:08.487Z"
   },
   {
    "duration": 15,
    "start_time": "2022-05-24T13:26:08.500Z"
   },
   {
    "duration": 70,
    "start_time": "2022-05-24T13:26:08.516Z"
   },
   {
    "duration": 40,
    "start_time": "2022-05-24T13:26:08.587Z"
   },
   {
    "duration": 12,
    "start_time": "2022-05-24T13:26:08.628Z"
   },
   {
    "duration": 81,
    "start_time": "2022-05-24T13:26:08.641Z"
   },
   {
    "duration": 3,
    "start_time": "2022-05-24T13:26:08.724Z"
   },
   {
    "duration": 15,
    "start_time": "2022-05-24T13:26:08.730Z"
   },
   {
    "duration": 10,
    "start_time": "2022-05-24T13:26:08.746Z"
   },
   {
    "duration": 7,
    "start_time": "2022-05-24T13:26:08.758Z"
   },
   {
    "duration": 46,
    "start_time": "2022-05-24T13:26:08.767Z"
   },
   {
    "duration": 5,
    "start_time": "2022-05-24T13:26:08.814Z"
   },
   {
    "duration": 6,
    "start_time": "2022-05-24T13:26:08.820Z"
   },
   {
    "duration": 10,
    "start_time": "2022-05-24T13:26:08.827Z"
   },
   {
    "duration": 37,
    "start_time": "2022-05-24T13:26:08.839Z"
   },
   {
    "duration": 6,
    "start_time": "2022-05-24T13:26:08.877Z"
   },
   {
    "duration": 7,
    "start_time": "2022-05-24T13:26:08.884Z"
   },
   {
    "duration": 21,
    "start_time": "2022-05-24T13:26:08.892Z"
   },
   {
    "duration": 9,
    "start_time": "2022-05-24T13:26:08.914Z"
   },
   {
    "duration": 13,
    "start_time": "2022-05-24T13:26:08.925Z"
   },
   {
    "duration": 25,
    "start_time": "2022-05-24T13:26:08.940Z"
   },
   {
    "duration": 17,
    "start_time": "2022-05-24T13:26:08.967Z"
   },
   {
    "duration": 31,
    "start_time": "2022-05-24T13:26:08.985Z"
   },
   {
    "duration": 26,
    "start_time": "2022-05-24T13:26:09.017Z"
   },
   {
    "duration": 0,
    "start_time": "2022-05-24T13:26:09.045Z"
   },
   {
    "duration": 0,
    "start_time": "2022-05-24T13:26:09.046Z"
   },
   {
    "duration": 0,
    "start_time": "2022-05-24T13:26:09.047Z"
   },
   {
    "duration": 0,
    "start_time": "2022-05-24T13:26:09.048Z"
   },
   {
    "duration": 0,
    "start_time": "2022-05-24T13:26:09.049Z"
   },
   {
    "duration": 0,
    "start_time": "2022-05-24T13:26:09.050Z"
   },
   {
    "duration": 0,
    "start_time": "2022-05-24T13:26:09.051Z"
   },
   {
    "duration": 0,
    "start_time": "2022-05-24T13:26:09.052Z"
   },
   {
    "duration": 0,
    "start_time": "2022-05-24T13:26:09.053Z"
   },
   {
    "duration": 0,
    "start_time": "2022-05-24T13:26:09.054Z"
   },
   {
    "duration": 0,
    "start_time": "2022-05-24T13:26:09.056Z"
   },
   {
    "duration": 0,
    "start_time": "2022-05-24T13:26:09.057Z"
   },
   {
    "duration": 0,
    "start_time": "2022-05-24T13:26:09.058Z"
   },
   {
    "duration": 0,
    "start_time": "2022-05-24T13:26:09.059Z"
   },
   {
    "duration": 15,
    "start_time": "2022-05-24T13:26:09.062Z"
   },
   {
    "duration": 6,
    "start_time": "2022-05-24T13:29:47.869Z"
   },
   {
    "duration": 10,
    "start_time": "2022-05-24T13:29:52.534Z"
   },
   {
    "duration": 10,
    "start_time": "2022-05-24T13:40:45.910Z"
   },
   {
    "duration": 9,
    "start_time": "2022-05-24T13:40:49.074Z"
   },
   {
    "duration": 70,
    "start_time": "2022-05-24T13:47:54.775Z"
   },
   {
    "duration": 33,
    "start_time": "2022-05-24T13:48:08.073Z"
   },
   {
    "duration": 84,
    "start_time": "2022-05-24T13:48:18.224Z"
   },
   {
    "duration": 10,
    "start_time": "2022-05-24T13:48:34.912Z"
   },
   {
    "duration": 30,
    "start_time": "2022-05-24T13:49:22.690Z"
   },
   {
    "duration": 8,
    "start_time": "2022-05-24T13:49:36.898Z"
   },
   {
    "duration": 6,
    "start_time": "2022-05-24T13:54:50.825Z"
   },
   {
    "duration": 4,
    "start_time": "2022-05-24T13:54:51.980Z"
   },
   {
    "duration": 426,
    "start_time": "2022-05-24T13:55:08.906Z"
   },
   {
    "duration": 79,
    "start_time": "2022-05-24T13:55:09.334Z"
   },
   {
    "duration": 15,
    "start_time": "2022-05-24T13:55:09.415Z"
   },
   {
    "duration": 48,
    "start_time": "2022-05-24T13:55:09.431Z"
   },
   {
    "duration": 123,
    "start_time": "2022-05-24T13:55:09.481Z"
   },
   {
    "duration": 28,
    "start_time": "2022-05-24T13:55:09.606Z"
   },
   {
    "duration": 18,
    "start_time": "2022-05-24T13:55:09.635Z"
   },
   {
    "duration": 87,
    "start_time": "2022-05-24T13:55:09.654Z"
   },
   {
    "duration": 4,
    "start_time": "2022-05-24T13:55:09.743Z"
   },
   {
    "duration": 6,
    "start_time": "2022-05-24T13:55:09.749Z"
   },
   {
    "duration": 10,
    "start_time": "2022-05-24T13:55:09.757Z"
   },
   {
    "duration": 10,
    "start_time": "2022-05-24T13:55:09.768Z"
   },
   {
    "duration": 61,
    "start_time": "2022-05-24T13:55:09.779Z"
   },
   {
    "duration": 5,
    "start_time": "2022-05-24T13:55:09.841Z"
   },
   {
    "duration": 6,
    "start_time": "2022-05-24T13:55:09.848Z"
   },
   {
    "duration": 8,
    "start_time": "2022-05-24T13:55:09.855Z"
   },
   {
    "duration": 51,
    "start_time": "2022-05-24T13:55:09.865Z"
   },
   {
    "duration": 6,
    "start_time": "2022-05-24T13:55:09.918Z"
   },
   {
    "duration": 11,
    "start_time": "2022-05-24T13:55:09.926Z"
   },
   {
    "duration": 6,
    "start_time": "2022-05-24T13:55:09.939Z"
   },
   {
    "duration": 11,
    "start_time": "2022-05-24T13:55:09.947Z"
   },
   {
    "duration": 6,
    "start_time": "2022-05-24T13:55:09.959Z"
   },
   {
    "duration": 7,
    "start_time": "2022-05-24T13:55:09.967Z"
   },
   {
    "duration": 7,
    "start_time": "2022-05-24T13:55:09.975Z"
   },
   {
    "duration": 30,
    "start_time": "2022-05-24T13:55:09.984Z"
   },
   {
    "duration": 68,
    "start_time": "2022-05-24T13:55:10.015Z"
   },
   {
    "duration": 0,
    "start_time": "2022-05-24T13:55:10.086Z"
   },
   {
    "duration": 0,
    "start_time": "2022-05-24T13:55:10.087Z"
   },
   {
    "duration": 0,
    "start_time": "2022-05-24T13:55:10.088Z"
   },
   {
    "duration": 0,
    "start_time": "2022-05-24T13:55:10.089Z"
   },
   {
    "duration": 0,
    "start_time": "2022-05-24T13:55:10.090Z"
   },
   {
    "duration": 0,
    "start_time": "2022-05-24T13:55:10.090Z"
   },
   {
    "duration": 0,
    "start_time": "2022-05-24T13:55:10.112Z"
   },
   {
    "duration": 0,
    "start_time": "2022-05-24T13:55:10.113Z"
   },
   {
    "duration": 0,
    "start_time": "2022-05-24T13:55:10.114Z"
   },
   {
    "duration": 0,
    "start_time": "2022-05-24T13:55:10.115Z"
   },
   {
    "duration": 0,
    "start_time": "2022-05-24T13:55:10.116Z"
   },
   {
    "duration": 0,
    "start_time": "2022-05-24T13:55:10.117Z"
   },
   {
    "duration": 0,
    "start_time": "2022-05-24T13:55:10.118Z"
   },
   {
    "duration": 0,
    "start_time": "2022-05-24T13:55:10.119Z"
   },
   {
    "duration": 0,
    "start_time": "2022-05-24T13:55:10.120Z"
   },
   {
    "duration": 9,
    "start_time": "2022-05-24T13:57:27.800Z"
   },
   {
    "duration": 7,
    "start_time": "2022-05-24T13:57:57.996Z"
   },
   {
    "duration": 13,
    "start_time": "2022-05-24T13:58:02.571Z"
   },
   {
    "duration": 5,
    "start_time": "2022-05-24T13:58:55.357Z"
   },
   {
    "duration": 7,
    "start_time": "2022-05-24T13:58:56.526Z"
   },
   {
    "duration": 7,
    "start_time": "2022-05-24T13:58:59.761Z"
   },
   {
    "duration": 13,
    "start_time": "2022-05-24T13:59:02.789Z"
   },
   {
    "duration": 5,
    "start_time": "2022-05-24T13:59:34.029Z"
   },
   {
    "duration": 8,
    "start_time": "2022-05-24T13:59:34.509Z"
   },
   {
    "duration": 14,
    "start_time": "2022-05-24T13:59:35.904Z"
   },
   {
    "duration": 25,
    "start_time": "2022-05-24T13:59:36.567Z"
   },
   {
    "duration": 5,
    "start_time": "2022-05-24T14:00:10.686Z"
   },
   {
    "duration": 9,
    "start_time": "2022-05-24T14:00:14.094Z"
   },
   {
    "duration": 8,
    "start_time": "2022-05-24T14:20:14.813Z"
   },
   {
    "duration": 4,
    "start_time": "2022-05-24T14:20:15.790Z"
   },
   {
    "duration": 8,
    "start_time": "2022-05-24T14:20:17.266Z"
   },
   {
    "duration": 45,
    "start_time": "2022-05-24T14:20:21.571Z"
   },
   {
    "duration": 7,
    "start_time": "2022-05-24T14:20:45.637Z"
   },
   {
    "duration": 8,
    "start_time": "2022-05-24T14:20:52.851Z"
   },
   {
    "duration": 399,
    "start_time": "2022-05-24T14:22:23.049Z"
   },
   {
    "duration": 92,
    "start_time": "2022-05-24T14:22:23.451Z"
   },
   {
    "duration": 13,
    "start_time": "2022-05-24T14:22:23.545Z"
   },
   {
    "duration": 17,
    "start_time": "2022-05-24T14:22:23.560Z"
   },
   {
    "duration": 83,
    "start_time": "2022-05-24T14:22:23.578Z"
   },
   {
    "duration": 50,
    "start_time": "2022-05-24T14:22:23.663Z"
   },
   {
    "duration": 15,
    "start_time": "2022-05-24T14:22:23.715Z"
   },
   {
    "duration": 87,
    "start_time": "2022-05-24T14:22:23.732Z"
   },
   {
    "duration": 4,
    "start_time": "2022-05-24T14:22:23.821Z"
   },
   {
    "duration": 9,
    "start_time": "2022-05-24T14:22:23.827Z"
   },
   {
    "duration": 13,
    "start_time": "2022-05-24T14:22:23.838Z"
   },
   {
    "duration": 60,
    "start_time": "2022-05-24T14:22:23.852Z"
   },
   {
    "duration": 10,
    "start_time": "2022-05-24T14:22:23.914Z"
   },
   {
    "duration": 9,
    "start_time": "2022-05-24T14:22:23.927Z"
   },
   {
    "duration": 22,
    "start_time": "2022-05-24T14:22:23.938Z"
   },
   {
    "duration": 47,
    "start_time": "2022-05-24T14:22:23.962Z"
   },
   {
    "duration": 12,
    "start_time": "2022-05-24T14:22:24.020Z"
   },
   {
    "duration": 8,
    "start_time": "2022-05-24T14:22:24.034Z"
   },
   {
    "duration": 10,
    "start_time": "2022-05-24T14:22:24.043Z"
   },
   {
    "duration": 17,
    "start_time": "2022-05-24T14:22:24.054Z"
   },
   {
    "duration": 5,
    "start_time": "2022-05-24T14:22:24.074Z"
   },
   {
    "duration": 8,
    "start_time": "2022-05-24T14:22:24.081Z"
   },
   {
    "duration": 12,
    "start_time": "2022-05-24T14:22:24.090Z"
   },
   {
    "duration": 31,
    "start_time": "2022-05-24T14:22:24.103Z"
   },
   {
    "duration": 13,
    "start_time": "2022-05-24T14:22:24.136Z"
   },
   {
    "duration": 21,
    "start_time": "2022-05-24T14:22:24.153Z"
   },
   {
    "duration": 10,
    "start_time": "2022-05-24T14:22:24.176Z"
   },
   {
    "duration": 60,
    "start_time": "2022-05-24T14:22:24.188Z"
   },
   {
    "duration": 9,
    "start_time": "2022-05-24T14:22:24.250Z"
   },
   {
    "duration": 9,
    "start_time": "2022-05-24T14:22:24.261Z"
   },
   {
    "duration": 16,
    "start_time": "2022-05-24T14:22:24.272Z"
   },
   {
    "duration": 29,
    "start_time": "2022-05-24T14:22:24.290Z"
   },
   {
    "duration": 8,
    "start_time": "2022-05-24T14:22:24.321Z"
   },
   {
    "duration": 9,
    "start_time": "2022-05-24T14:22:24.331Z"
   },
   {
    "duration": 9,
    "start_time": "2022-05-24T14:22:24.342Z"
   },
   {
    "duration": 6,
    "start_time": "2022-05-24T14:22:24.353Z"
   },
   {
    "duration": 103,
    "start_time": "2022-05-24T14:22:24.361Z"
   },
   {
    "duration": 15,
    "start_time": "2022-05-24T14:56:09.104Z"
   },
   {
    "duration": 39,
    "start_time": "2022-05-24T15:00:07.865Z"
   },
   {
    "duration": 29,
    "start_time": "2022-05-24T15:05:31.630Z"
   },
   {
    "duration": 4,
    "start_time": "2022-05-24T15:18:42.957Z"
   },
   {
    "duration": 23,
    "start_time": "2022-05-24T15:18:52.070Z"
   },
   {
    "duration": 119,
    "start_time": "2022-05-24T15:24:12.536Z"
   },
   {
    "duration": 7,
    "start_time": "2022-05-24T15:26:07.666Z"
   },
   {
    "duration": 7,
    "start_time": "2022-05-24T15:51:34.736Z"
   },
   {
    "duration": 5,
    "start_time": "2022-05-24T15:51:48.529Z"
   },
   {
    "duration": 4,
    "start_time": "2022-05-24T15:52:02.397Z"
   },
   {
    "duration": 5,
    "start_time": "2022-05-24T15:52:48.398Z"
   },
   {
    "duration": 23,
    "start_time": "2022-05-24T15:52:49.856Z"
   },
   {
    "duration": 6,
    "start_time": "2022-05-24T15:59:24.022Z"
   },
   {
    "duration": 8,
    "start_time": "2022-05-24T15:59:32.922Z"
   },
   {
    "duration": 7,
    "start_time": "2022-05-24T16:11:05.458Z"
   },
   {
    "duration": 21,
    "start_time": "2022-05-24T16:11:07.804Z"
   },
   {
    "duration": 13,
    "start_time": "2022-05-24T16:11:37.229Z"
   },
   {
    "duration": 20,
    "start_time": "2022-05-24T16:11:38.914Z"
   },
   {
    "duration": 6,
    "start_time": "2022-05-24T16:12:53.826Z"
   },
   {
    "duration": 18,
    "start_time": "2022-05-24T16:12:55.644Z"
   },
   {
    "duration": 7,
    "start_time": "2022-05-24T16:14:39.102Z"
   },
   {
    "duration": 22,
    "start_time": "2022-05-24T16:14:41.494Z"
   },
   {
    "duration": 392,
    "start_time": "2022-05-24T16:15:09.172Z"
   },
   {
    "duration": 81,
    "start_time": "2022-05-24T16:15:09.566Z"
   },
   {
    "duration": 11,
    "start_time": "2022-05-24T16:15:09.648Z"
   },
   {
    "duration": 17,
    "start_time": "2022-05-24T16:15:09.661Z"
   },
   {
    "duration": 85,
    "start_time": "2022-05-24T16:15:09.679Z"
   },
   {
    "duration": 28,
    "start_time": "2022-05-24T16:15:09.766Z"
   },
   {
    "duration": 29,
    "start_time": "2022-05-24T16:15:09.796Z"
   },
   {
    "duration": 66,
    "start_time": "2022-05-24T16:15:09.827Z"
   },
   {
    "duration": 26,
    "start_time": "2022-05-24T16:15:09.895Z"
   },
   {
    "duration": 5,
    "start_time": "2022-05-24T16:15:09.925Z"
   },
   {
    "duration": 20,
    "start_time": "2022-05-24T16:15:09.932Z"
   },
   {
    "duration": 33,
    "start_time": "2022-05-24T16:15:09.954Z"
   },
   {
    "duration": 5,
    "start_time": "2022-05-24T16:15:09.989Z"
   },
   {
    "duration": 4,
    "start_time": "2022-05-24T16:15:10.012Z"
   },
   {
    "duration": 13,
    "start_time": "2022-05-24T16:15:10.018Z"
   },
   {
    "duration": 40,
    "start_time": "2022-05-24T16:15:10.032Z"
   },
   {
    "duration": 6,
    "start_time": "2022-05-24T16:15:10.074Z"
   },
   {
    "duration": 8,
    "start_time": "2022-05-24T16:15:10.081Z"
   },
   {
    "duration": 13,
    "start_time": "2022-05-24T16:15:10.090Z"
   },
   {
    "duration": 14,
    "start_time": "2022-05-24T16:15:10.105Z"
   },
   {
    "duration": 11,
    "start_time": "2022-05-24T16:15:10.120Z"
   },
   {
    "duration": 10,
    "start_time": "2022-05-24T16:15:10.133Z"
   },
   {
    "duration": 10,
    "start_time": "2022-05-24T16:15:10.144Z"
   },
   {
    "duration": 23,
    "start_time": "2022-05-24T16:15:10.155Z"
   },
   {
    "duration": 7,
    "start_time": "2022-05-24T16:15:10.180Z"
   },
   {
    "duration": 25,
    "start_time": "2022-05-24T16:15:10.189Z"
   },
   {
    "duration": 25,
    "start_time": "2022-05-24T16:15:10.216Z"
   },
   {
    "duration": 43,
    "start_time": "2022-05-24T16:15:10.244Z"
   },
   {
    "duration": 19,
    "start_time": "2022-05-24T16:15:10.288Z"
   },
   {
    "duration": 5,
    "start_time": "2022-05-24T16:15:10.309Z"
   },
   {
    "duration": 13,
    "start_time": "2022-05-24T16:15:10.316Z"
   },
   {
    "duration": 13,
    "start_time": "2022-05-24T16:15:10.330Z"
   },
   {
    "duration": 6,
    "start_time": "2022-05-24T16:15:10.344Z"
   },
   {
    "duration": 5,
    "start_time": "2022-05-24T16:15:10.352Z"
   },
   {
    "duration": 5,
    "start_time": "2022-05-24T16:15:10.358Z"
   },
   {
    "duration": 4,
    "start_time": "2022-05-24T16:15:10.364Z"
   },
   {
    "duration": 86,
    "start_time": "2022-05-24T16:15:10.369Z"
   },
   {
    "duration": 12,
    "start_time": "2022-05-24T16:15:10.457Z"
   },
   {
    "duration": 23,
    "start_time": "2022-05-24T16:15:10.471Z"
   },
   {
    "duration": 25,
    "start_time": "2022-05-24T16:15:10.495Z"
   },
   {
    "duration": 4,
    "start_time": "2022-05-24T16:15:10.522Z"
   },
   {
    "duration": 15,
    "start_time": "2022-05-24T16:15:10.528Z"
   },
   {
    "duration": 21,
    "start_time": "2022-05-24T16:15:10.544Z"
   },
   {
    "duration": 7,
    "start_time": "2022-05-24T16:19:36.767Z"
   },
   {
    "duration": 5,
    "start_time": "2022-05-24T19:50:06.774Z"
   },
   {
    "duration": 22,
    "start_time": "2022-05-24T19:50:22.627Z"
   },
   {
    "duration": 6,
    "start_time": "2022-05-24T19:55:46.534Z"
   },
   {
    "duration": 21,
    "start_time": "2022-05-24T19:55:50.740Z"
   },
   {
    "duration": 6,
    "start_time": "2022-05-24T19:57:46.277Z"
   },
   {
    "duration": 5,
    "start_time": "2022-05-24T19:57:47.063Z"
   },
   {
    "duration": 5,
    "start_time": "2022-05-24T19:57:47.875Z"
   },
   {
    "duration": 23,
    "start_time": "2022-05-24T19:57:50.120Z"
   },
   {
    "duration": 70,
    "start_time": "2022-05-24T20:12:48.511Z"
   },
   {
    "duration": 111,
    "start_time": "2022-05-24T20:13:05.710Z"
   },
   {
    "duration": 115,
    "start_time": "2022-05-24T20:48:08.594Z"
   },
   {
    "duration": 4,
    "start_time": "2022-05-24T20:51:51.959Z"
   },
   {
    "duration": 3,
    "start_time": "2022-05-24T20:52:37.366Z"
   },
   {
    "duration": 22,
    "start_time": "2022-05-24T20:52:38.665Z"
   },
   {
    "duration": 257,
    "start_time": "2022-05-24T21:02:00.423Z"
   },
   {
    "duration": 4,
    "start_time": "2022-05-24T21:02:08.009Z"
   },
   {
    "duration": 3,
    "start_time": "2022-05-24T21:02:08.973Z"
   },
   {
    "duration": 26,
    "start_time": "2022-05-24T21:02:11.461Z"
   },
   {
    "duration": 392,
    "start_time": "2022-05-25T10:35:48.214Z"
   },
   {
    "duration": 85,
    "start_time": "2022-05-25T10:35:48.608Z"
   },
   {
    "duration": 11,
    "start_time": "2022-05-25T10:35:48.694Z"
   },
   {
    "duration": 14,
    "start_time": "2022-05-25T10:35:48.707Z"
   },
   {
    "duration": 85,
    "start_time": "2022-05-25T10:35:48.722Z"
   },
   {
    "duration": 31,
    "start_time": "2022-05-25T10:35:48.809Z"
   },
   {
    "duration": 36,
    "start_time": "2022-05-25T10:35:48.842Z"
   },
   {
    "duration": 81,
    "start_time": "2022-05-25T10:35:48.879Z"
   },
   {
    "duration": 25,
    "start_time": "2022-05-25T10:35:48.961Z"
   },
   {
    "duration": 6,
    "start_time": "2022-05-25T10:35:48.993Z"
   },
   {
    "duration": 12,
    "start_time": "2022-05-25T10:35:49.001Z"
   },
   {
    "duration": 33,
    "start_time": "2022-05-25T10:35:49.015Z"
   },
   {
    "duration": 5,
    "start_time": "2022-05-25T10:35:49.049Z"
   },
   {
    "duration": 23,
    "start_time": "2022-05-25T10:35:49.056Z"
   },
   {
    "duration": 32,
    "start_time": "2022-05-25T10:35:49.080Z"
   },
   {
    "duration": 33,
    "start_time": "2022-05-25T10:35:49.113Z"
   },
   {
    "duration": 4,
    "start_time": "2022-05-25T10:35:49.148Z"
   },
   {
    "duration": 5,
    "start_time": "2022-05-25T10:35:49.154Z"
   },
   {
    "duration": 6,
    "start_time": "2022-05-25T10:35:49.160Z"
   },
   {
    "duration": 14,
    "start_time": "2022-05-25T10:35:49.167Z"
   },
   {
    "duration": 14,
    "start_time": "2022-05-25T10:35:49.182Z"
   },
   {
    "duration": 5,
    "start_time": "2022-05-25T10:35:49.198Z"
   },
   {
    "duration": 11,
    "start_time": "2022-05-25T10:35:49.204Z"
   },
   {
    "duration": 21,
    "start_time": "2022-05-25T10:35:49.217Z"
   },
   {
    "duration": 6,
    "start_time": "2022-05-25T10:35:49.240Z"
   },
   {
    "duration": 7,
    "start_time": "2022-05-25T10:35:49.248Z"
   },
   {
    "duration": 15,
    "start_time": "2022-05-25T10:35:49.274Z"
   },
   {
    "duration": 37,
    "start_time": "2022-05-25T10:35:49.293Z"
   },
   {
    "duration": 5,
    "start_time": "2022-05-25T10:35:49.332Z"
   },
   {
    "duration": 5,
    "start_time": "2022-05-25T10:35:49.339Z"
   },
   {
    "duration": 7,
    "start_time": "2022-05-25T10:35:49.345Z"
   },
   {
    "duration": 9,
    "start_time": "2022-05-25T10:35:49.374Z"
   },
   {
    "duration": 6,
    "start_time": "2022-05-25T10:35:49.384Z"
   },
   {
    "duration": 5,
    "start_time": "2022-05-25T10:35:49.392Z"
   },
   {
    "duration": 6,
    "start_time": "2022-05-25T10:35:49.399Z"
   },
   {
    "duration": 4,
    "start_time": "2022-05-25T10:35:49.407Z"
   },
   {
    "duration": 93,
    "start_time": "2022-05-25T10:35:49.413Z"
   },
   {
    "duration": 12,
    "start_time": "2022-05-25T10:35:49.509Z"
   },
   {
    "duration": 23,
    "start_time": "2022-05-25T10:35:49.523Z"
   },
   {
    "duration": 38,
    "start_time": "2022-05-25T10:35:49.548Z"
   },
   {
    "duration": 9,
    "start_time": "2022-05-25T10:35:49.587Z"
   },
   {
    "duration": 15,
    "start_time": "2022-05-25T10:35:49.604Z"
   },
   {
    "duration": 22,
    "start_time": "2022-05-25T10:35:49.621Z"
   },
   {
    "duration": 4,
    "start_time": "2022-05-25T10:35:49.645Z"
   },
   {
    "duration": 8,
    "start_time": "2022-05-25T10:35:49.650Z"
   },
   {
    "duration": 6,
    "start_time": "2022-05-25T10:35:49.659Z"
   },
   {
    "duration": 11,
    "start_time": "2022-05-25T10:35:49.666Z"
   },
   {
    "duration": 162,
    "start_time": "2022-05-25T10:35:49.682Z"
   },
   {
    "duration": 0,
    "start_time": "2022-05-25T10:35:49.845Z"
   },
   {
    "duration": 0,
    "start_time": "2022-05-25T10:35:49.847Z"
   },
   {
    "duration": 0,
    "start_time": "2022-05-25T10:35:49.848Z"
   },
   {
    "duration": 0,
    "start_time": "2022-05-25T10:35:49.849Z"
   },
   {
    "duration": 286,
    "start_time": "2022-05-25T10:37:29.264Z"
   },
   {
    "duration": 461,
    "start_time": "2022-05-25T10:37:36.280Z"
   },
   {
    "duration": 106,
    "start_time": "2022-05-25T10:37:36.742Z"
   },
   {
    "duration": 13,
    "start_time": "2022-05-25T10:37:36.850Z"
   },
   {
    "duration": 34,
    "start_time": "2022-05-25T10:37:36.865Z"
   },
   {
    "duration": 88,
    "start_time": "2022-05-25T10:37:36.901Z"
   },
   {
    "duration": 30,
    "start_time": "2022-05-25T10:37:36.993Z"
   },
   {
    "duration": 19,
    "start_time": "2022-05-25T10:37:37.025Z"
   },
   {
    "duration": 109,
    "start_time": "2022-05-25T10:37:37.046Z"
   },
   {
    "duration": 5,
    "start_time": "2022-05-25T10:37:37.156Z"
   },
   {
    "duration": 13,
    "start_time": "2022-05-25T10:37:37.174Z"
   },
   {
    "duration": 11,
    "start_time": "2022-05-25T10:37:37.196Z"
   },
   {
    "duration": 46,
    "start_time": "2022-05-25T10:37:37.208Z"
   },
   {
    "duration": 4,
    "start_time": "2022-05-25T10:37:37.255Z"
   },
   {
    "duration": 15,
    "start_time": "2022-05-25T10:37:37.261Z"
   },
   {
    "duration": 14,
    "start_time": "2022-05-25T10:37:37.278Z"
   },
   {
    "duration": 37,
    "start_time": "2022-05-25T10:37:37.293Z"
   },
   {
    "duration": 5,
    "start_time": "2022-05-25T10:37:37.332Z"
   },
   {
    "duration": 5,
    "start_time": "2022-05-25T10:37:37.339Z"
   },
   {
    "duration": 6,
    "start_time": "2022-05-25T10:37:37.346Z"
   },
   {
    "duration": 27,
    "start_time": "2022-05-25T10:37:37.354Z"
   },
   {
    "duration": 33,
    "start_time": "2022-05-25T10:37:37.383Z"
   },
   {
    "duration": 6,
    "start_time": "2022-05-25T10:37:37.418Z"
   },
   {
    "duration": 19,
    "start_time": "2022-05-25T10:37:37.425Z"
   },
   {
    "duration": 29,
    "start_time": "2022-05-25T10:37:37.446Z"
   },
   {
    "duration": 12,
    "start_time": "2022-05-25T10:37:37.477Z"
   },
   {
    "duration": 31,
    "start_time": "2022-05-25T10:37:37.491Z"
   },
   {
    "duration": 9,
    "start_time": "2022-05-25T10:37:37.524Z"
   },
   {
    "duration": 37,
    "start_time": "2022-05-25T10:37:37.537Z"
   },
   {
    "duration": 11,
    "start_time": "2022-05-25T10:37:37.580Z"
   },
   {
    "duration": 22,
    "start_time": "2022-05-25T10:37:37.593Z"
   },
   {
    "duration": 12,
    "start_time": "2022-05-25T10:37:37.616Z"
   },
   {
    "duration": 13,
    "start_time": "2022-05-25T10:37:37.629Z"
   },
   {
    "duration": 8,
    "start_time": "2022-05-25T10:37:37.644Z"
   },
   {
    "duration": 8,
    "start_time": "2022-05-25T10:37:37.654Z"
   },
   {
    "duration": 6,
    "start_time": "2022-05-25T10:37:37.674Z"
   },
   {
    "duration": 33,
    "start_time": "2022-05-25T10:37:37.682Z"
   },
   {
    "duration": 115,
    "start_time": "2022-05-25T10:37:37.717Z"
   },
   {
    "duration": 14,
    "start_time": "2022-05-25T10:37:37.834Z"
   },
   {
    "duration": 47,
    "start_time": "2022-05-25T10:37:37.850Z"
   },
   {
    "duration": 16,
    "start_time": "2022-05-25T10:37:37.898Z"
   },
   {
    "duration": 19,
    "start_time": "2022-05-25T10:37:37.916Z"
   },
   {
    "duration": 19,
    "start_time": "2022-05-25T10:37:37.937Z"
   },
   {
    "duration": 29,
    "start_time": "2022-05-25T10:37:37.958Z"
   },
   {
    "duration": 17,
    "start_time": "2022-05-25T10:37:37.990Z"
   },
   {
    "duration": 17,
    "start_time": "2022-05-25T10:37:38.009Z"
   },
   {
    "duration": 11,
    "start_time": "2022-05-25T10:37:38.028Z"
   },
   {
    "duration": 6,
    "start_time": "2022-05-25T10:37:38.041Z"
   },
   {
    "duration": 332,
    "start_time": "2022-05-25T10:37:38.049Z"
   },
   {
    "duration": 5,
    "start_time": "2022-05-25T10:37:38.383Z"
   },
   {
    "duration": 30,
    "start_time": "2022-05-25T10:37:38.391Z"
   },
   {
    "duration": 25,
    "start_time": "2022-05-25T10:37:38.422Z"
   },
   {
    "duration": 94,
    "start_time": "2022-05-25T10:37:38.448Z"
   },
   {
    "duration": 1157,
    "start_time": "2022-05-25T10:40:02.970Z"
   },
   {
    "duration": 8,
    "start_time": "2022-05-25T10:40:22.658Z"
   },
   {
    "duration": 632,
    "start_time": "2022-05-25T10:52:28.564Z"
   },
   {
    "duration": 146,
    "start_time": "2022-05-25T10:54:02.913Z"
   },
   {
    "duration": 146,
    "start_time": "2022-05-25T14:45:54.681Z"
   },
   {
    "duration": 140,
    "start_time": "2022-05-25T14:46:17.643Z"
   },
   {
    "duration": 138,
    "start_time": "2022-05-25T14:47:56.040Z"
   },
   {
    "duration": 233,
    "start_time": "2022-05-25T14:49:18.568Z"
   },
   {
    "duration": 157,
    "start_time": "2022-05-25T14:49:25.002Z"
   },
   {
    "duration": 11,
    "start_time": "2022-05-25T14:58:04.175Z"
   },
   {
    "duration": 766,
    "start_time": "2022-05-25T15:02:40.090Z"
   },
   {
    "duration": 121,
    "start_time": "2022-05-25T15:09:02.272Z"
   },
   {
    "duration": 714,
    "start_time": "2022-05-25T15:09:27.852Z"
   },
   {
    "duration": 782,
    "start_time": "2022-05-25T15:09:53.647Z"
   },
   {
    "duration": 706,
    "start_time": "2022-05-25T15:10:41.422Z"
   },
   {
    "duration": 656,
    "start_time": "2022-05-25T15:11:42.046Z"
   },
   {
    "duration": 27,
    "start_time": "2022-05-25T15:12:16.357Z"
   },
   {
    "duration": 134,
    "start_time": "2022-05-25T15:12:56.568Z"
   },
   {
    "duration": 163,
    "start_time": "2022-05-25T15:28:42.851Z"
   },
   {
    "duration": 139,
    "start_time": "2022-05-25T15:28:57.187Z"
   },
   {
    "duration": 115,
    "start_time": "2022-05-25T15:30:23.793Z"
   },
   {
    "duration": 214,
    "start_time": "2022-05-25T15:30:29.537Z"
   },
   {
    "duration": 10,
    "start_time": "2022-05-25T15:38:46.709Z"
   },
   {
    "duration": 134,
    "start_time": "2022-05-25T15:40:23.548Z"
   },
   {
    "duration": 138,
    "start_time": "2022-05-25T15:48:23.715Z"
   },
   {
    "duration": 9,
    "start_time": "2022-05-25T15:51:22.015Z"
   },
   {
    "duration": 133,
    "start_time": "2022-05-25T15:52:07.808Z"
   },
   {
    "duration": 124,
    "start_time": "2022-05-25T15:53:15.420Z"
   },
   {
    "duration": 116,
    "start_time": "2022-05-25T15:53:26.629Z"
   },
   {
    "duration": 9,
    "start_time": "2022-05-25T16:03:30.638Z"
   },
   {
    "duration": 8,
    "start_time": "2022-05-25T16:03:59.706Z"
   },
   {
    "duration": 8,
    "start_time": "2022-05-25T16:04:18.961Z"
   },
   {
    "duration": 37,
    "start_time": "2022-05-25T16:05:55.166Z"
   },
   {
    "duration": 6,
    "start_time": "2022-05-25T16:06:05.220Z"
   },
   {
    "duration": 4,
    "start_time": "2022-05-25T16:11:44.021Z"
   },
   {
    "duration": 69,
    "start_time": "2022-05-25T16:11:58.551Z"
   },
   {
    "duration": 392,
    "start_time": "2022-05-25T16:12:20.718Z"
   },
   {
    "duration": 90,
    "start_time": "2022-05-25T16:12:21.112Z"
   },
   {
    "duration": 11,
    "start_time": "2022-05-25T16:12:21.204Z"
   },
   {
    "duration": 17,
    "start_time": "2022-05-25T16:12:21.217Z"
   },
   {
    "duration": 92,
    "start_time": "2022-05-25T16:12:21.235Z"
   },
   {
    "duration": 28,
    "start_time": "2022-05-25T16:12:21.328Z"
   },
   {
    "duration": 32,
    "start_time": "2022-05-25T16:12:21.358Z"
   },
   {
    "duration": 98,
    "start_time": "2022-05-25T16:12:21.392Z"
   },
   {
    "duration": 5,
    "start_time": "2022-05-25T16:12:21.491Z"
   },
   {
    "duration": 9,
    "start_time": "2022-05-25T16:12:21.498Z"
   },
   {
    "duration": 12,
    "start_time": "2022-05-25T16:12:21.508Z"
   },
   {
    "duration": 32,
    "start_time": "2022-05-25T16:12:21.521Z"
   },
   {
    "duration": 4,
    "start_time": "2022-05-25T16:12:21.555Z"
   },
   {
    "duration": 10,
    "start_time": "2022-05-25T16:12:21.582Z"
   },
   {
    "duration": 9,
    "start_time": "2022-05-25T16:12:21.594Z"
   },
   {
    "duration": 39,
    "start_time": "2022-05-25T16:12:21.605Z"
   },
   {
    "duration": 5,
    "start_time": "2022-05-25T16:12:21.646Z"
   },
   {
    "duration": 6,
    "start_time": "2022-05-25T16:12:21.653Z"
   },
   {
    "duration": 21,
    "start_time": "2022-05-25T16:12:21.674Z"
   },
   {
    "duration": 14,
    "start_time": "2022-05-25T16:12:21.697Z"
   },
   {
    "duration": 6,
    "start_time": "2022-05-25T16:12:21.713Z"
   },
   {
    "duration": 7,
    "start_time": "2022-05-25T16:12:21.721Z"
   },
   {
    "duration": 12,
    "start_time": "2022-05-25T16:12:21.729Z"
   },
   {
    "duration": 24,
    "start_time": "2022-05-25T16:12:21.743Z"
   },
   {
    "duration": 15,
    "start_time": "2022-05-25T16:12:21.770Z"
   },
   {
    "duration": 9,
    "start_time": "2022-05-25T16:12:21.789Z"
   },
   {
    "duration": 8,
    "start_time": "2022-05-25T16:12:21.799Z"
   },
   {
    "duration": 29,
    "start_time": "2022-05-25T16:12:21.808Z"
   },
   {
    "duration": 6,
    "start_time": "2022-05-25T16:12:21.838Z"
   },
   {
    "duration": 6,
    "start_time": "2022-05-25T16:12:21.846Z"
   },
   {
    "duration": 36,
    "start_time": "2022-05-25T16:12:21.853Z"
   },
   {
    "duration": 6,
    "start_time": "2022-05-25T16:12:21.891Z"
   },
   {
    "duration": 12,
    "start_time": "2022-05-25T16:12:21.898Z"
   },
   {
    "duration": 13,
    "start_time": "2022-05-25T16:12:21.912Z"
   },
   {
    "duration": 9,
    "start_time": "2022-05-25T16:12:21.927Z"
   },
   {
    "duration": 7,
    "start_time": "2022-05-25T16:12:21.938Z"
   },
   {
    "duration": 8,
    "start_time": "2022-05-25T16:12:21.947Z"
   },
   {
    "duration": 5,
    "start_time": "2022-05-25T16:12:21.957Z"
   },
   {
    "duration": 4,
    "start_time": "2022-05-25T16:12:21.990Z"
   },
   {
    "duration": 64,
    "start_time": "2022-05-25T16:12:22.010Z"
   },
   {
    "duration": 16,
    "start_time": "2022-05-25T16:12:22.079Z"
   },
   {
    "duration": 20,
    "start_time": "2022-05-25T16:12:22.111Z"
   },
   {
    "duration": 13,
    "start_time": "2022-05-25T16:12:22.133Z"
   },
   {
    "duration": 3,
    "start_time": "2022-05-25T16:12:22.151Z"
   },
   {
    "duration": 5,
    "start_time": "2022-05-25T16:12:22.163Z"
   },
   {
    "duration": 24,
    "start_time": "2022-05-25T16:12:22.192Z"
   },
   {
    "duration": 4,
    "start_time": "2022-05-25T16:12:22.244Z"
   },
   {
    "duration": 4,
    "start_time": "2022-05-25T16:12:22.318Z"
   },
   {
    "duration": 9,
    "start_time": "2022-05-25T16:12:22.325Z"
   },
   {
    "duration": 9,
    "start_time": "2022-05-25T16:12:22.335Z"
   },
   {
    "duration": 7,
    "start_time": "2022-05-25T16:12:22.346Z"
   },
   {
    "duration": 3,
    "start_time": "2022-05-25T16:12:22.363Z"
   },
   {
    "duration": 3,
    "start_time": "2022-05-25T16:12:22.397Z"
   },
   {
    "duration": 20,
    "start_time": "2022-05-25T16:12:22.432Z"
   },
   {
    "duration": 13,
    "start_time": "2022-05-25T16:12:22.481Z"
   },
   {
    "duration": 444,
    "start_time": "2022-05-25T16:12:22.496Z"
   },
   {
    "duration": 174,
    "start_time": "2022-05-25T16:12:22.943Z"
   },
   {
    "duration": 133,
    "start_time": "2022-05-25T16:12:23.118Z"
   },
   {
    "duration": 8,
    "start_time": "2022-05-25T16:12:23.253Z"
   },
   {
    "duration": 100,
    "start_time": "2022-05-25T16:12:23.262Z"
   },
   {
    "duration": 101,
    "start_time": "2022-05-25T16:12:23.374Z"
   },
   {
    "duration": 16,
    "start_time": "2022-05-25T16:12:23.476Z"
   },
   {
    "duration": 132,
    "start_time": "2022-05-25T16:12:23.494Z"
   },
   {
    "duration": 128,
    "start_time": "2022-05-25T16:12:23.627Z"
   },
   {
    "duration": 19,
    "start_time": "2022-05-25T16:12:23.757Z"
   },
   {
    "duration": 107,
    "start_time": "2022-05-25T16:12:23.781Z"
   },
   {
    "duration": 4,
    "start_time": "2022-05-25T16:12:23.890Z"
   },
   {
    "duration": 422,
    "start_time": "2022-05-25T16:15:50.927Z"
   },
   {
    "duration": 109,
    "start_time": "2022-05-25T16:15:51.351Z"
   },
   {
    "duration": 11,
    "start_time": "2022-05-25T16:15:51.461Z"
   },
   {
    "duration": 36,
    "start_time": "2022-05-25T16:15:51.474Z"
   },
   {
    "duration": 77,
    "start_time": "2022-05-25T16:15:51.512Z"
   },
   {
    "duration": 30,
    "start_time": "2022-05-25T16:15:51.591Z"
   },
   {
    "duration": 16,
    "start_time": "2022-05-25T16:15:51.623Z"
   },
   {
    "duration": 72,
    "start_time": "2022-05-25T16:15:51.641Z"
   },
   {
    "duration": 4,
    "start_time": "2022-05-25T16:15:51.714Z"
   },
   {
    "duration": 18,
    "start_time": "2022-05-25T16:15:51.720Z"
   },
   {
    "duration": 31,
    "start_time": "2022-05-25T16:15:51.739Z"
   },
   {
    "duration": 51,
    "start_time": "2022-05-25T16:15:51.772Z"
   },
   {
    "duration": 4,
    "start_time": "2022-05-25T16:15:51.825Z"
   },
   {
    "duration": 21,
    "start_time": "2022-05-25T16:15:51.831Z"
   },
   {
    "duration": 9,
    "start_time": "2022-05-25T16:15:51.853Z"
   },
   {
    "duration": 37,
    "start_time": "2022-05-25T16:15:51.864Z"
   },
   {
    "duration": 5,
    "start_time": "2022-05-25T16:15:51.902Z"
   },
   {
    "duration": 5,
    "start_time": "2022-05-25T16:15:51.909Z"
   },
   {
    "duration": 6,
    "start_time": "2022-05-25T16:15:51.915Z"
   },
   {
    "duration": 12,
    "start_time": "2022-05-25T16:15:51.923Z"
   },
   {
    "duration": 4,
    "start_time": "2022-05-25T16:15:51.936Z"
   },
   {
    "duration": 39,
    "start_time": "2022-05-25T16:15:51.941Z"
   },
   {
    "duration": 15,
    "start_time": "2022-05-25T16:15:51.981Z"
   },
   {
    "duration": 26,
    "start_time": "2022-05-25T16:15:51.998Z"
   },
   {
    "duration": 7,
    "start_time": "2022-05-25T16:15:52.026Z"
   },
   {
    "duration": 11,
    "start_time": "2022-05-25T16:15:52.035Z"
   },
   {
    "duration": 30,
    "start_time": "2022-05-25T16:15:52.048Z"
   },
   {
    "duration": 44,
    "start_time": "2022-05-25T16:15:52.083Z"
   },
   {
    "duration": 7,
    "start_time": "2022-05-25T16:15:52.128Z"
   },
   {
    "duration": 7,
    "start_time": "2022-05-25T16:15:52.137Z"
   },
   {
    "duration": 6,
    "start_time": "2022-05-25T16:15:52.146Z"
   },
   {
    "duration": 13,
    "start_time": "2022-05-25T16:15:52.178Z"
   },
   {
    "duration": 8,
    "start_time": "2022-05-25T16:15:52.193Z"
   },
   {
    "duration": 8,
    "start_time": "2022-05-25T16:15:52.203Z"
   },
   {
    "duration": 9,
    "start_time": "2022-05-25T16:15:52.212Z"
   },
   {
    "duration": 9,
    "start_time": "2022-05-25T16:15:52.223Z"
   },
   {
    "duration": 16,
    "start_time": "2022-05-25T16:15:52.233Z"
   },
   {
    "duration": 13,
    "start_time": "2022-05-25T16:15:52.251Z"
   },
   {
    "duration": 16,
    "start_time": "2022-05-25T16:15:52.266Z"
   },
   {
    "duration": 73,
    "start_time": "2022-05-25T16:15:52.288Z"
   },
   {
    "duration": 20,
    "start_time": "2022-05-25T16:15:52.362Z"
   },
   {
    "duration": 27,
    "start_time": "2022-05-25T16:15:52.384Z"
   },
   {
    "duration": 12,
    "start_time": "2022-05-25T16:15:52.412Z"
   },
   {
    "duration": 7,
    "start_time": "2022-05-25T16:15:52.426Z"
   },
   {
    "duration": 7,
    "start_time": "2022-05-25T16:15:52.435Z"
   },
   {
    "duration": 41,
    "start_time": "2022-05-25T16:15:52.444Z"
   },
   {
    "duration": 4,
    "start_time": "2022-05-25T16:15:52.492Z"
   },
   {
    "duration": 12,
    "start_time": "2022-05-25T16:15:52.497Z"
   },
   {
    "duration": 8,
    "start_time": "2022-05-25T16:15:52.510Z"
   },
   {
    "duration": 7,
    "start_time": "2022-05-25T16:15:52.519Z"
   },
   {
    "duration": 332,
    "start_time": "2022-05-25T16:15:52.527Z"
   },
   {
    "duration": 15,
    "start_time": "2022-05-25T16:15:52.862Z"
   },
   {
    "duration": 14,
    "start_time": "2022-05-25T16:15:52.887Z"
   },
   {
    "duration": 30,
    "start_time": "2022-05-25T16:15:52.903Z"
   },
   {
    "duration": 10,
    "start_time": "2022-05-25T16:15:52.936Z"
   },
   {
    "duration": 448,
    "start_time": "2022-05-25T16:15:52.948Z"
   },
   {
    "duration": 152,
    "start_time": "2022-05-25T16:15:53.398Z"
   },
   {
    "duration": 149,
    "start_time": "2022-05-25T16:15:53.552Z"
   },
   {
    "duration": 10,
    "start_time": "2022-05-25T16:15:53.702Z"
   },
   {
    "duration": 123,
    "start_time": "2022-05-25T16:15:53.713Z"
   },
   {
    "duration": 116,
    "start_time": "2022-05-25T16:15:53.838Z"
   },
   {
    "duration": 33,
    "start_time": "2022-05-25T16:15:53.956Z"
   },
   {
    "duration": 210,
    "start_time": "2022-05-25T16:15:53.993Z"
   },
   {
    "duration": 158,
    "start_time": "2022-05-25T16:15:54.205Z"
   },
   {
    "duration": 24,
    "start_time": "2022-05-25T16:15:54.365Z"
   },
   {
    "duration": 108,
    "start_time": "2022-05-25T16:15:54.391Z"
   },
   {
    "duration": 5,
    "start_time": "2022-05-25T16:15:54.501Z"
   },
   {
    "duration": 5,
    "start_time": "2022-05-25T16:18:47.755Z"
   },
   {
    "duration": 8,
    "start_time": "2022-05-25T16:18:50.896Z"
   },
   {
    "duration": 13,
    "start_time": "2022-05-25T16:18:52.827Z"
   },
   {
    "duration": 9,
    "start_time": "2022-05-25T16:18:53.921Z"
   },
   {
    "duration": 8,
    "start_time": "2022-05-25T16:18:57.445Z"
   },
   {
    "duration": 8,
    "start_time": "2022-05-25T16:18:59.683Z"
   },
   {
    "duration": 6,
    "start_time": "2022-05-25T16:19:01.131Z"
   },
   {
    "duration": 102,
    "start_time": "2022-05-25T16:19:01.967Z"
   },
   {
    "duration": 14,
    "start_time": "2022-05-25T16:19:04.533Z"
   },
   {
    "duration": 23,
    "start_time": "2022-05-25T16:19:06.224Z"
   },
   {
    "duration": 8,
    "start_time": "2022-05-25T16:19:09.427Z"
   },
   {
    "duration": 4,
    "start_time": "2022-05-25T16:19:11.047Z"
   },
   {
    "duration": 7,
    "start_time": "2022-05-25T16:19:13.343Z"
   },
   {
    "duration": 22,
    "start_time": "2022-05-25T16:19:14.997Z"
   },
   {
    "duration": 39,
    "start_time": "2022-05-25T16:20:40.203Z"
   },
   {
    "duration": 5,
    "start_time": "2022-05-25T16:21:07.285Z"
   },
   {
    "duration": 29,
    "start_time": "2022-05-25T16:21:10.267Z"
   },
   {
    "duration": 15,
    "start_time": "2022-05-25T16:21:35.509Z"
   },
   {
    "duration": 9,
    "start_time": "2022-05-25T16:25:54.027Z"
   },
   {
    "duration": 144,
    "start_time": "2022-05-25T16:25:59.050Z"
   },
   {
    "duration": 6,
    "start_time": "2022-05-25T16:27:12.600Z"
   },
   {
    "duration": 6,
    "start_time": "2022-05-25T16:27:21.704Z"
   },
   {
    "duration": 8,
    "start_time": "2022-05-25T16:27:41.514Z"
   },
   {
    "duration": 7,
    "start_time": "2022-05-25T16:27:43.854Z"
   },
   {
    "duration": 4,
    "start_time": "2022-05-25T16:27:44.860Z"
   },
   {
    "duration": 7,
    "start_time": "2022-05-25T16:27:49.360Z"
   },
   {
    "duration": 624,
    "start_time": "2022-05-25T16:31:14.220Z"
   },
   {
    "duration": 9,
    "start_time": "2022-05-25T16:31:53.181Z"
   },
   {
    "duration": 638,
    "start_time": "2022-05-25T16:32:21.944Z"
   },
   {
    "duration": 447,
    "start_time": "2022-05-25T16:32:28.872Z"
   },
   {
    "duration": 89,
    "start_time": "2022-05-25T16:32:29.320Z"
   },
   {
    "duration": 12,
    "start_time": "2022-05-25T16:32:29.411Z"
   },
   {
    "duration": 16,
    "start_time": "2022-05-25T16:32:29.425Z"
   },
   {
    "duration": 87,
    "start_time": "2022-05-25T16:32:29.443Z"
   },
   {
    "duration": 43,
    "start_time": "2022-05-25T16:32:29.531Z"
   },
   {
    "duration": 18,
    "start_time": "2022-05-25T16:32:29.579Z"
   },
   {
    "duration": 87,
    "start_time": "2022-05-25T16:32:29.598Z"
   },
   {
    "duration": 4,
    "start_time": "2022-05-25T16:32:29.688Z"
   },
   {
    "duration": 8,
    "start_time": "2022-05-25T16:32:29.694Z"
   },
   {
    "duration": 13,
    "start_time": "2022-05-25T16:32:29.703Z"
   },
   {
    "duration": 33,
    "start_time": "2022-05-25T16:32:29.718Z"
   },
   {
    "duration": 35,
    "start_time": "2022-05-25T16:32:29.753Z"
   },
   {
    "duration": 3,
    "start_time": "2022-05-25T16:32:29.790Z"
   },
   {
    "duration": 8,
    "start_time": "2022-05-25T16:32:29.794Z"
   },
   {
    "duration": 33,
    "start_time": "2022-05-25T16:32:29.804Z"
   },
   {
    "duration": 6,
    "start_time": "2022-05-25T16:32:29.839Z"
   },
   {
    "duration": 6,
    "start_time": "2022-05-25T16:32:29.846Z"
   },
   {
    "duration": 31,
    "start_time": "2022-05-25T16:32:29.853Z"
   },
   {
    "duration": 18,
    "start_time": "2022-05-25T16:32:29.885Z"
   },
   {
    "duration": 15,
    "start_time": "2022-05-25T16:32:29.906Z"
   },
   {
    "duration": 18,
    "start_time": "2022-05-25T16:32:29.923Z"
   },
   {
    "duration": 10,
    "start_time": "2022-05-25T16:32:29.943Z"
   },
   {
    "duration": 34,
    "start_time": "2022-05-25T16:32:29.955Z"
   },
   {
    "duration": 7,
    "start_time": "2022-05-25T16:32:29.992Z"
   },
   {
    "duration": 10,
    "start_time": "2022-05-25T16:32:30.001Z"
   },
   {
    "duration": 7,
    "start_time": "2022-05-25T16:32:30.013Z"
   },
   {
    "duration": 30,
    "start_time": "2022-05-25T16:32:30.022Z"
   },
   {
    "duration": 29,
    "start_time": "2022-05-25T16:32:30.055Z"
   },
   {
    "duration": 9,
    "start_time": "2022-05-25T16:32:30.086Z"
   },
   {
    "duration": 6,
    "start_time": "2022-05-25T16:32:30.105Z"
   },
   {
    "duration": 7,
    "start_time": "2022-05-25T16:32:30.149Z"
   },
   {
    "duration": 5,
    "start_time": "2022-05-25T16:32:30.165Z"
   },
   {
    "duration": 7,
    "start_time": "2022-05-25T16:32:30.198Z"
   },
   {
    "duration": 5,
    "start_time": "2022-05-25T16:32:30.234Z"
   },
   {
    "duration": 15,
    "start_time": "2022-05-25T16:32:30.269Z"
   },
   {
    "duration": 5,
    "start_time": "2022-05-25T16:32:30.300Z"
   },
   {
    "duration": 6,
    "start_time": "2022-05-25T16:32:30.328Z"
   },
   {
    "duration": 5,
    "start_time": "2022-05-25T16:32:30.360Z"
   },
   {
    "duration": 75,
    "start_time": "2022-05-25T16:32:30.423Z"
   },
   {
    "duration": 12,
    "start_time": "2022-05-25T16:32:30.500Z"
   },
   {
    "duration": 29,
    "start_time": "2022-05-25T16:32:30.514Z"
   },
   {
    "duration": 14,
    "start_time": "2022-05-25T16:32:30.545Z"
   },
   {
    "duration": 10,
    "start_time": "2022-05-25T16:32:30.565Z"
   },
   {
    "duration": 7,
    "start_time": "2022-05-25T16:32:30.616Z"
   },
   {
    "duration": 28,
    "start_time": "2022-05-25T16:32:30.625Z"
   },
   {
    "duration": 4,
    "start_time": "2022-05-25T16:32:30.656Z"
   },
   {
    "duration": 6,
    "start_time": "2022-05-25T16:32:30.688Z"
   },
   {
    "duration": 9,
    "start_time": "2022-05-25T16:32:30.696Z"
   },
   {
    "duration": 14,
    "start_time": "2022-05-25T16:32:30.711Z"
   },
   {
    "duration": 284,
    "start_time": "2022-05-25T16:32:30.755Z"
   },
   {
    "duration": 3,
    "start_time": "2022-05-25T16:32:31.041Z"
   },
   {
    "duration": 10,
    "start_time": "2022-05-25T16:32:31.046Z"
   },
   {
    "duration": 35,
    "start_time": "2022-05-25T16:32:31.058Z"
   },
   {
    "duration": 13,
    "start_time": "2022-05-25T16:32:31.095Z"
   },
   {
    "duration": 415,
    "start_time": "2022-05-25T16:32:31.110Z"
   },
   {
    "duration": 167,
    "start_time": "2022-05-25T16:32:31.527Z"
   },
   {
    "duration": 162,
    "start_time": "2022-05-25T16:32:31.696Z"
   },
   {
    "duration": 25,
    "start_time": "2022-05-25T16:32:31.860Z"
   },
   {
    "duration": 119,
    "start_time": "2022-05-25T16:32:31.891Z"
   },
   {
    "duration": 115,
    "start_time": "2022-05-25T16:32:32.011Z"
   },
   {
    "duration": 9,
    "start_time": "2022-05-25T16:32:32.127Z"
   },
   {
    "duration": 234,
    "start_time": "2022-05-25T16:32:32.137Z"
   },
   {
    "duration": 136,
    "start_time": "2022-05-25T16:32:32.380Z"
   },
   {
    "duration": 9,
    "start_time": "2022-05-25T16:32:32.517Z"
   },
   {
    "duration": 120,
    "start_time": "2022-05-25T16:32:32.528Z"
   },
   {
    "duration": 9,
    "start_time": "2022-05-25T16:32:32.650Z"
   },
   {
    "duration": 151,
    "start_time": "2022-05-25T16:32:32.674Z"
   },
   {
    "duration": 137,
    "start_time": "2022-05-25T16:34:21.694Z"
   },
   {
    "duration": 132,
    "start_time": "2022-05-25T16:34:41.294Z"
   },
   {
    "duration": 154,
    "start_time": "2022-05-25T16:35:00.010Z"
   },
   {
    "duration": 119,
    "start_time": "2022-05-25T16:35:06.428Z"
   },
   {
    "duration": 127,
    "start_time": "2022-05-25T16:35:41.096Z"
   },
   {
    "duration": 13,
    "start_time": "2022-05-25T17:51:39.601Z"
   },
   {
    "duration": 135,
    "start_time": "2022-05-25T17:53:31.024Z"
   },
   {
    "duration": 147,
    "start_time": "2022-05-25T17:54:33.366Z"
   },
   {
    "duration": 221,
    "start_time": "2022-05-25T17:54:57.400Z"
   },
   {
    "duration": 6,
    "start_time": "2022-05-25T20:28:30.873Z"
   },
   {
    "duration": 69,
    "start_time": "2022-05-25T20:29:10.527Z"
   },
   {
    "duration": 80,
    "start_time": "2022-05-25T20:43:14.371Z"
   },
   {
    "duration": 130,
    "start_time": "2022-05-25T20:43:23.094Z"
   },
   {
    "duration": 74,
    "start_time": "2022-05-25T20:43:40.622Z"
   },
   {
    "duration": 257,
    "start_time": "2022-05-25T20:53:05.466Z"
   },
   {
    "duration": 21,
    "start_time": "2022-05-25T20:53:45.092Z"
   },
   {
    "duration": 268,
    "start_time": "2022-05-25T21:05:01.288Z"
   },
   {
    "duration": 18,
    "start_time": "2022-05-25T21:17:56.934Z"
   },
   {
    "duration": 65,
    "start_time": "2022-05-25T21:26:03.067Z"
   },
   {
    "duration": 48,
    "start_time": "2022-05-25T21:26:39.748Z"
   },
   {
    "duration": 432,
    "start_time": "2022-05-26T13:26:51.212Z"
   },
   {
    "duration": 138,
    "start_time": "2022-05-26T13:26:51.646Z"
   },
   {
    "duration": 14,
    "start_time": "2022-05-26T13:26:51.785Z"
   },
   {
    "duration": 72,
    "start_time": "2022-05-26T13:26:51.802Z"
   },
   {
    "duration": 127,
    "start_time": "2022-05-26T13:26:51.876Z"
   },
   {
    "duration": 32,
    "start_time": "2022-05-26T13:26:52.005Z"
   },
   {
    "duration": 69,
    "start_time": "2022-05-26T13:26:52.040Z"
   },
   {
    "duration": 143,
    "start_time": "2022-05-26T13:26:52.111Z"
   },
   {
    "duration": 5,
    "start_time": "2022-05-26T13:26:52.257Z"
   },
   {
    "duration": 37,
    "start_time": "2022-05-26T13:26:52.266Z"
   },
   {
    "duration": 54,
    "start_time": "2022-05-26T13:26:52.306Z"
   },
   {
    "duration": 92,
    "start_time": "2022-05-26T13:26:52.362Z"
   },
   {
    "duration": 73,
    "start_time": "2022-05-26T13:26:52.456Z"
   },
   {
    "duration": 61,
    "start_time": "2022-05-26T13:26:52.530Z"
   },
   {
    "duration": 83,
    "start_time": "2022-05-26T13:26:52.593Z"
   },
   {
    "duration": 125,
    "start_time": "2022-05-26T13:26:52.678Z"
   },
   {
    "duration": 8,
    "start_time": "2022-05-26T13:26:52.805Z"
   },
   {
    "duration": 117,
    "start_time": "2022-05-26T13:26:52.815Z"
   },
   {
    "duration": 67,
    "start_time": "2022-05-26T13:26:52.934Z"
   },
   {
    "duration": 40,
    "start_time": "2022-05-26T13:26:53.003Z"
   },
   {
    "duration": 61,
    "start_time": "2022-05-26T13:26:53.045Z"
   },
   {
    "duration": 21,
    "start_time": "2022-05-26T13:26:53.108Z"
   },
   {
    "duration": 83,
    "start_time": "2022-05-26T13:26:53.130Z"
   },
   {
    "duration": 81,
    "start_time": "2022-05-26T13:26:53.215Z"
   },
   {
    "duration": 105,
    "start_time": "2022-05-26T13:26:53.297Z"
   },
   {
    "duration": 53,
    "start_time": "2022-05-26T13:26:53.403Z"
   },
   {
    "duration": 58,
    "start_time": "2022-05-26T13:26:53.458Z"
   },
   {
    "duration": 69,
    "start_time": "2022-05-26T13:26:53.520Z"
   },
   {
    "duration": 48,
    "start_time": "2022-05-26T13:26:53.591Z"
   },
   {
    "duration": 51,
    "start_time": "2022-05-26T13:26:53.641Z"
   },
   {
    "duration": 75,
    "start_time": "2022-05-26T13:26:53.693Z"
   },
   {
    "duration": 39,
    "start_time": "2022-05-26T13:26:53.769Z"
   },
   {
    "duration": 47,
    "start_time": "2022-05-26T13:26:53.810Z"
   },
   {
    "duration": 58,
    "start_time": "2022-05-26T13:26:53.859Z"
   },
   {
    "duration": 42,
    "start_time": "2022-05-26T13:26:53.919Z"
   },
   {
    "duration": 56,
    "start_time": "2022-05-26T13:26:53.964Z"
   },
   {
    "duration": 49,
    "start_time": "2022-05-26T13:26:54.022Z"
   },
   {
    "duration": 67,
    "start_time": "2022-05-26T13:26:54.072Z"
   },
   {
    "duration": 65,
    "start_time": "2022-05-26T13:26:54.141Z"
   },
   {
    "duration": 130,
    "start_time": "2022-05-26T13:26:54.207Z"
   },
   {
    "duration": 13,
    "start_time": "2022-05-26T13:26:54.339Z"
   },
   {
    "duration": 63,
    "start_time": "2022-05-26T13:26:54.354Z"
   },
   {
    "duration": 52,
    "start_time": "2022-05-26T13:26:54.419Z"
   },
   {
    "duration": 29,
    "start_time": "2022-05-26T13:26:54.473Z"
   },
   {
    "duration": 51,
    "start_time": "2022-05-26T13:26:54.504Z"
   },
   {
    "duration": 50,
    "start_time": "2022-05-26T13:26:54.557Z"
   },
   {
    "duration": 11,
    "start_time": "2022-05-26T13:26:54.609Z"
   },
   {
    "duration": 26,
    "start_time": "2022-05-26T13:26:54.621Z"
   },
   {
    "duration": 61,
    "start_time": "2022-05-26T13:26:54.649Z"
   },
   {
    "duration": 47,
    "start_time": "2022-05-26T13:26:54.711Z"
   },
   {
    "duration": 311,
    "start_time": "2022-05-26T13:26:54.760Z"
   },
   {
    "duration": 4,
    "start_time": "2022-05-26T13:26:55.073Z"
   },
   {
    "duration": 41,
    "start_time": "2022-05-26T13:26:55.084Z"
   },
   {
    "duration": 68,
    "start_time": "2022-05-26T13:26:55.127Z"
   },
   {
    "duration": 45,
    "start_time": "2022-05-26T13:26:55.197Z"
   },
   {
    "duration": 609,
    "start_time": "2022-05-26T13:26:55.244Z"
   },
   {
    "duration": 177,
    "start_time": "2022-05-26T13:26:55.855Z"
   },
   {
    "duration": 153,
    "start_time": "2022-05-26T13:26:56.033Z"
   },
   {
    "duration": 10,
    "start_time": "2022-05-26T13:26:56.188Z"
   },
   {
    "duration": 184,
    "start_time": "2022-05-26T13:26:56.200Z"
   },
   {
    "duration": 186,
    "start_time": "2022-05-26T13:26:56.385Z"
   },
   {
    "duration": 17,
    "start_time": "2022-05-26T13:26:56.574Z"
   },
   {
    "duration": 206,
    "start_time": "2022-05-26T13:26:56.592Z"
   },
   {
    "duration": 200,
    "start_time": "2022-05-26T13:26:56.800Z"
   },
   {
    "duration": 9,
    "start_time": "2022-05-26T13:26:57.002Z"
   },
   {
    "duration": 175,
    "start_time": "2022-05-26T13:26:57.012Z"
   },
   {
    "duration": 12,
    "start_time": "2022-05-26T13:26:57.189Z"
   },
   {
    "duration": 208,
    "start_time": "2022-05-26T13:26:57.203Z"
   },
   {
    "duration": 10,
    "start_time": "2022-05-26T13:26:57.413Z"
   },
   {
    "duration": 218,
    "start_time": "2022-05-26T13:26:57.424Z"
   },
   {
    "duration": 6,
    "start_time": "2022-05-26T13:26:57.643Z"
   },
   {
    "duration": 131,
    "start_time": "2022-05-26T13:26:57.650Z"
   },
   {
    "duration": 90,
    "start_time": "2022-05-26T13:26:57.783Z"
   },
   {
    "duration": 0,
    "start_time": "2022-05-26T13:26:57.885Z"
   },
   {
    "duration": 0,
    "start_time": "2022-05-26T13:26:57.887Z"
   },
   {
    "duration": 12,
    "start_time": "2022-05-26T13:29:03.068Z"
   },
   {
    "duration": 10,
    "start_time": "2022-05-26T13:32:30.798Z"
   },
   {
    "duration": 40,
    "start_time": "2022-05-26T13:55:11.913Z"
   },
   {
    "duration": 11,
    "start_time": "2022-05-26T14:02:17.620Z"
   },
   {
    "duration": 12,
    "start_time": "2022-05-26T14:03:55.754Z"
   },
   {
    "duration": 23,
    "start_time": "2022-05-26T14:07:57.913Z"
   },
   {
    "duration": 37,
    "start_time": "2022-05-26T14:08:15.339Z"
   },
   {
    "duration": 40,
    "start_time": "2022-05-26T14:08:33.126Z"
   },
   {
    "duration": 27,
    "start_time": "2022-05-26T14:09:14.843Z"
   },
   {
    "duration": 24,
    "start_time": "2022-05-26T14:09:30.932Z"
   },
   {
    "duration": 492,
    "start_time": "2022-05-26T14:11:08.624Z"
   },
   {
    "duration": 29,
    "start_time": "2022-05-26T14:12:25.112Z"
   },
   {
    "duration": 30,
    "start_time": "2022-05-26T14:12:51.389Z"
   },
   {
    "duration": 26,
    "start_time": "2022-05-26T14:13:05.334Z"
   },
   {
    "duration": 23,
    "start_time": "2022-05-26T14:18:30.120Z"
   },
   {
    "duration": 42,
    "start_time": "2022-05-26T14:21:38.784Z"
   },
   {
    "duration": 131,
    "start_time": "2022-05-26T15:21:03.667Z"
   },
   {
    "duration": 820,
    "start_time": "2022-05-26T15:23:36.226Z"
   },
   {
    "duration": 145,
    "start_time": "2022-05-26T15:24:48.782Z"
   },
   {
    "duration": 9,
    "start_time": "2022-05-26T15:26:58.451Z"
   },
   {
    "duration": 484,
    "start_time": "2022-05-26T15:29:47.818Z"
   },
   {
    "duration": 622,
    "start_time": "2022-05-26T15:30:48.005Z"
   },
   {
    "duration": 505,
    "start_time": "2022-05-26T15:31:13.864Z"
   },
   {
    "duration": 505,
    "start_time": "2022-05-26T15:31:59.642Z"
   },
   {
    "duration": 4,
    "start_time": "2022-05-26T16:27:20.471Z"
   },
   {
    "duration": 9,
    "start_time": "2022-05-26T16:27:47.858Z"
   },
   {
    "duration": 13,
    "start_time": "2022-05-26T16:29:30.065Z"
   },
   {
    "duration": 168,
    "start_time": "2022-05-26T16:30:33.785Z"
   },
   {
    "duration": 156,
    "start_time": "2022-05-26T16:31:48.609Z"
   },
   {
    "duration": 4,
    "start_time": "2022-05-26T16:34:59.121Z"
   },
   {
    "duration": 150,
    "start_time": "2022-05-26T16:35:15.446Z"
   },
   {
    "duration": 233,
    "start_time": "2022-05-26T16:35:30.223Z"
   },
   {
    "duration": 37,
    "start_time": "2022-05-26T16:46:03.708Z"
   },
   {
    "duration": 24,
    "start_time": "2022-05-26T17:18:25.017Z"
   },
   {
    "duration": 27,
    "start_time": "2022-05-26T17:18:38.262Z"
   },
   {
    "duration": 32,
    "start_time": "2022-05-26T17:20:14.726Z"
   },
   {
    "duration": 10,
    "start_time": "2022-05-26T17:23:02.552Z"
   },
   {
    "duration": 8,
    "start_time": "2022-05-26T17:23:49.009Z"
   },
   {
    "duration": 18,
    "start_time": "2022-05-26T17:24:01.955Z"
   },
   {
    "duration": 30,
    "start_time": "2022-05-26T17:27:45.971Z"
   },
   {
    "duration": 26,
    "start_time": "2022-05-26T17:28:18.263Z"
   },
   {
    "duration": 22,
    "start_time": "2022-05-26T17:29:11.003Z"
   },
   {
    "duration": 23,
    "start_time": "2022-05-26T17:29:56.684Z"
   },
   {
    "duration": 27,
    "start_time": "2022-05-26T17:30:36.187Z"
   },
   {
    "duration": 31,
    "start_time": "2022-05-26T17:30:52.387Z"
   },
   {
    "duration": 31,
    "start_time": "2022-05-26T17:31:14.474Z"
   },
   {
    "duration": 221,
    "start_time": "2022-05-26T17:39:30.931Z"
   },
   {
    "duration": 26,
    "start_time": "2022-05-26T17:39:57.756Z"
   },
   {
    "duration": 29,
    "start_time": "2022-05-26T17:40:12.208Z"
   },
   {
    "duration": 18,
    "start_time": "2022-05-26T17:45:42.508Z"
   },
   {
    "duration": 3,
    "start_time": "2022-05-26T17:45:44.323Z"
   },
   {
    "duration": 8,
    "start_time": "2022-05-26T17:50:18.781Z"
   },
   {
    "duration": 20,
    "start_time": "2022-05-26T17:51:31.896Z"
   },
   {
    "duration": 484,
    "start_time": "2022-05-26T18:02:33.978Z"
   },
   {
    "duration": 98,
    "start_time": "2022-05-26T18:02:34.464Z"
   },
   {
    "duration": 12,
    "start_time": "2022-05-26T18:02:34.563Z"
   },
   {
    "duration": 26,
    "start_time": "2022-05-26T18:02:34.578Z"
   },
   {
    "duration": 82,
    "start_time": "2022-05-26T18:02:34.606Z"
   },
   {
    "duration": 35,
    "start_time": "2022-05-26T18:02:34.692Z"
   },
   {
    "duration": 24,
    "start_time": "2022-05-26T18:02:34.730Z"
   },
   {
    "duration": 111,
    "start_time": "2022-05-26T18:02:34.757Z"
   },
   {
    "duration": 15,
    "start_time": "2022-05-26T18:02:34.870Z"
   },
   {
    "duration": 4,
    "start_time": "2022-05-26T18:02:34.893Z"
   },
   {
    "duration": 17,
    "start_time": "2022-05-26T18:02:34.901Z"
   },
   {
    "duration": 36,
    "start_time": "2022-05-26T18:02:34.919Z"
   },
   {
    "duration": 5,
    "start_time": "2022-05-26T18:02:34.957Z"
   },
   {
    "duration": 31,
    "start_time": "2022-05-26T18:02:34.964Z"
   },
   {
    "duration": 16,
    "start_time": "2022-05-26T18:02:34.997Z"
   },
   {
    "duration": 36,
    "start_time": "2022-05-26T18:02:35.015Z"
   },
   {
    "duration": 6,
    "start_time": "2022-05-26T18:02:35.052Z"
   },
   {
    "duration": 7,
    "start_time": "2022-05-26T18:02:35.060Z"
   },
   {
    "duration": 17,
    "start_time": "2022-05-26T18:02:35.068Z"
   },
   {
    "duration": 30,
    "start_time": "2022-05-26T18:02:35.087Z"
   },
   {
    "duration": 5,
    "start_time": "2022-05-26T18:02:35.119Z"
   },
   {
    "duration": 9,
    "start_time": "2022-05-26T18:02:35.126Z"
   },
   {
    "duration": 20,
    "start_time": "2022-05-26T18:02:35.138Z"
   },
   {
    "duration": 38,
    "start_time": "2022-05-26T18:02:35.160Z"
   },
   {
    "duration": 9,
    "start_time": "2022-05-26T18:02:35.201Z"
   },
   {
    "duration": 7,
    "start_time": "2022-05-26T18:02:35.211Z"
   },
   {
    "duration": 10,
    "start_time": "2022-05-26T18:02:35.220Z"
   },
   {
    "duration": 70,
    "start_time": "2022-05-26T18:02:35.233Z"
   },
   {
    "duration": 8,
    "start_time": "2022-05-26T18:02:35.306Z"
   },
   {
    "duration": 9,
    "start_time": "2022-05-26T18:02:35.316Z"
   },
   {
    "duration": 7,
    "start_time": "2022-05-26T18:02:35.347Z"
   },
   {
    "duration": 11,
    "start_time": "2022-05-26T18:02:35.355Z"
   },
   {
    "duration": 7,
    "start_time": "2022-05-26T18:02:35.368Z"
   },
   {
    "duration": 8,
    "start_time": "2022-05-26T18:02:35.408Z"
   },
   {
    "duration": 7,
    "start_time": "2022-05-26T18:02:35.474Z"
   },
   {
    "duration": 8,
    "start_time": "2022-05-26T18:02:35.553Z"
   },
   {
    "duration": 6,
    "start_time": "2022-05-26T18:02:35.646Z"
   },
   {
    "duration": 5,
    "start_time": "2022-05-26T18:02:35.666Z"
   },
   {
    "duration": 6,
    "start_time": "2022-05-26T18:02:35.747Z"
   },
   {
    "duration": 79,
    "start_time": "2022-05-26T18:02:35.819Z"
   },
   {
    "duration": 15,
    "start_time": "2022-05-26T18:02:35.901Z"
   },
   {
    "duration": 27,
    "start_time": "2022-05-26T18:02:36.023Z"
   },
   {
    "duration": 10,
    "start_time": "2022-05-26T18:02:36.051Z"
   },
   {
    "duration": 4,
    "start_time": "2022-05-26T18:02:36.070Z"
   },
   {
    "duration": 8,
    "start_time": "2022-05-26T18:02:36.098Z"
   },
   {
    "duration": 23,
    "start_time": "2022-05-26T18:02:36.122Z"
   },
   {
    "duration": 4,
    "start_time": "2022-05-26T18:02:36.174Z"
   },
   {
    "duration": 6,
    "start_time": "2022-05-26T18:02:36.199Z"
   },
   {
    "duration": 5,
    "start_time": "2022-05-26T18:02:36.213Z"
   },
   {
    "duration": 6,
    "start_time": "2022-05-26T18:02:36.250Z"
   },
   {
    "duration": 346,
    "start_time": "2022-05-26T18:02:36.260Z"
   },
   {
    "duration": 5,
    "start_time": "2022-05-26T18:02:36.608Z"
   },
   {
    "duration": 11,
    "start_time": "2022-05-26T18:02:36.615Z"
   },
   {
    "duration": 34,
    "start_time": "2022-05-26T18:02:36.629Z"
   },
   {
    "duration": 37,
    "start_time": "2022-05-26T18:02:36.665Z"
   },
   {
    "duration": 440,
    "start_time": "2022-05-26T18:02:36.705Z"
   },
   {
    "duration": 192,
    "start_time": "2022-05-26T18:02:37.147Z"
   },
   {
    "duration": 168,
    "start_time": "2022-05-26T18:02:37.341Z"
   },
   {
    "duration": 11,
    "start_time": "2022-05-26T18:02:37.511Z"
   },
   {
    "duration": 189,
    "start_time": "2022-05-26T18:02:37.526Z"
   },
   {
    "duration": 129,
    "start_time": "2022-05-26T18:02:37.717Z"
   },
   {
    "duration": 8,
    "start_time": "2022-05-26T18:02:37.848Z"
   },
   {
    "duration": 272,
    "start_time": "2022-05-26T18:02:37.858Z"
   },
   {
    "duration": 206,
    "start_time": "2022-05-26T18:02:38.132Z"
   },
   {
    "duration": 12,
    "start_time": "2022-05-26T18:02:38.341Z"
   },
   {
    "duration": 151,
    "start_time": "2022-05-26T18:02:38.356Z"
   },
   {
    "duration": 10,
    "start_time": "2022-05-26T18:02:38.509Z"
   },
   {
    "duration": 195,
    "start_time": "2022-05-26T18:02:38.521Z"
   },
   {
    "duration": 13,
    "start_time": "2022-05-26T18:02:38.718Z"
   },
   {
    "duration": 179,
    "start_time": "2022-05-26T18:02:38.733Z"
   },
   {
    "duration": 6,
    "start_time": "2022-05-26T18:02:38.914Z"
   },
   {
    "duration": 97,
    "start_time": "2022-05-26T18:02:38.921Z"
   },
   {
    "duration": 9,
    "start_time": "2022-05-26T18:02:39.019Z"
   },
   {
    "duration": 8,
    "start_time": "2022-05-26T18:02:39.030Z"
   },
   {
    "duration": 119,
    "start_time": "2022-05-26T18:02:39.040Z"
   },
   {
    "duration": 0,
    "start_time": "2022-05-26T18:02:39.161Z"
   },
   {
    "duration": 0,
    "start_time": "2022-05-26T18:02:39.162Z"
   },
   {
    "duration": 0,
    "start_time": "2022-05-26T18:02:39.163Z"
   },
   {
    "duration": 165,
    "start_time": "2022-05-26T18:03:42.481Z"
   },
   {
    "duration": 455,
    "start_time": "2022-05-26T18:03:53.771Z"
   },
   {
    "duration": 93,
    "start_time": "2022-05-26T18:03:54.228Z"
   },
   {
    "duration": 13,
    "start_time": "2022-05-26T18:03:54.322Z"
   },
   {
    "duration": 19,
    "start_time": "2022-05-26T18:03:54.337Z"
   },
   {
    "duration": 93,
    "start_time": "2022-05-26T18:03:54.358Z"
   },
   {
    "duration": 47,
    "start_time": "2022-05-26T18:03:54.452Z"
   },
   {
    "duration": 14,
    "start_time": "2022-05-26T18:03:54.501Z"
   },
   {
    "duration": 92,
    "start_time": "2022-05-26T18:03:54.516Z"
   },
   {
    "duration": 5,
    "start_time": "2022-05-26T18:03:54.610Z"
   },
   {
    "duration": 4,
    "start_time": "2022-05-26T18:03:54.619Z"
   },
   {
    "duration": 11,
    "start_time": "2022-05-26T18:03:54.625Z"
   },
   {
    "duration": 77,
    "start_time": "2022-05-26T18:03:54.638Z"
   },
   {
    "duration": 5,
    "start_time": "2022-05-26T18:03:54.717Z"
   },
   {
    "duration": 7,
    "start_time": "2022-05-26T18:03:54.724Z"
   },
   {
    "duration": 9,
    "start_time": "2022-05-26T18:03:54.733Z"
   },
   {
    "duration": 58,
    "start_time": "2022-05-26T18:03:54.744Z"
   },
   {
    "duration": 5,
    "start_time": "2022-05-26T18:03:54.804Z"
   },
   {
    "duration": 4,
    "start_time": "2022-05-26T18:03:54.811Z"
   },
   {
    "duration": 6,
    "start_time": "2022-05-26T18:03:54.817Z"
   },
   {
    "duration": 11,
    "start_time": "2022-05-26T18:03:54.824Z"
   },
   {
    "duration": 6,
    "start_time": "2022-05-26T18:03:54.836Z"
   },
   {
    "duration": 4,
    "start_time": "2022-05-26T18:03:54.844Z"
   },
   {
    "duration": 41,
    "start_time": "2022-05-26T18:03:54.850Z"
   },
   {
    "duration": 28,
    "start_time": "2022-05-26T18:03:54.892Z"
   },
   {
    "duration": 8,
    "start_time": "2022-05-26T18:03:54.922Z"
   },
   {
    "duration": 10,
    "start_time": "2022-05-26T18:03:54.931Z"
   },
   {
    "duration": 9,
    "start_time": "2022-05-26T18:03:54.943Z"
   },
   {
    "duration": 61,
    "start_time": "2022-05-26T18:03:54.954Z"
   },
   {
    "duration": 7,
    "start_time": "2022-05-26T18:03:55.017Z"
   },
   {
    "duration": 8,
    "start_time": "2022-05-26T18:03:55.026Z"
   },
   {
    "duration": 6,
    "start_time": "2022-05-26T18:03:55.036Z"
   },
   {
    "duration": 9,
    "start_time": "2022-05-26T18:03:55.043Z"
   },
   {
    "duration": 40,
    "start_time": "2022-05-26T18:03:55.054Z"
   },
   {
    "duration": 10,
    "start_time": "2022-05-26T18:03:55.099Z"
   },
   {
    "duration": 5,
    "start_time": "2022-05-26T18:03:55.111Z"
   },
   {
    "duration": 12,
    "start_time": "2022-05-26T18:03:55.118Z"
   },
   {
    "duration": 9,
    "start_time": "2022-05-26T18:03:55.135Z"
   },
   {
    "duration": 12,
    "start_time": "2022-05-26T18:03:55.147Z"
   },
   {
    "duration": 6,
    "start_time": "2022-05-26T18:03:55.161Z"
   },
   {
    "duration": 99,
    "start_time": "2022-05-26T18:03:55.169Z"
   },
   {
    "duration": 30,
    "start_time": "2022-05-26T18:03:55.270Z"
   },
   {
    "duration": 25,
    "start_time": "2022-05-26T18:03:55.302Z"
   },
   {
    "duration": 9,
    "start_time": "2022-05-26T18:03:55.329Z"
   },
   {
    "duration": 4,
    "start_time": "2022-05-26T18:03:55.340Z"
   },
   {
    "duration": 9,
    "start_time": "2022-05-26T18:03:55.346Z"
   },
   {
    "duration": 51,
    "start_time": "2022-05-26T18:03:55.357Z"
   },
   {
    "duration": 4,
    "start_time": "2022-05-26T18:03:55.409Z"
   },
   {
    "duration": 11,
    "start_time": "2022-05-26T18:03:55.414Z"
   },
   {
    "duration": 13,
    "start_time": "2022-05-26T18:03:55.427Z"
   },
   {
    "duration": 5,
    "start_time": "2022-05-26T18:03:55.443Z"
   },
   {
    "duration": 321,
    "start_time": "2022-05-26T18:03:55.450Z"
   },
   {
    "duration": 14,
    "start_time": "2022-05-26T18:03:55.773Z"
   },
   {
    "duration": 20,
    "start_time": "2022-05-26T18:03:55.789Z"
   },
   {
    "duration": 31,
    "start_time": "2022-05-26T18:03:55.813Z"
   },
   {
    "duration": 10,
    "start_time": "2022-05-26T18:03:55.845Z"
   },
   {
    "duration": 448,
    "start_time": "2022-05-26T18:03:55.857Z"
   },
   {
    "duration": 168,
    "start_time": "2022-05-26T18:03:56.307Z"
   },
   {
    "duration": 164,
    "start_time": "2022-05-26T18:03:56.477Z"
   },
   {
    "duration": 9,
    "start_time": "2022-05-26T18:03:56.643Z"
   },
   {
    "duration": 139,
    "start_time": "2022-05-26T18:03:56.654Z"
   },
   {
    "duration": 122,
    "start_time": "2022-05-26T18:03:56.796Z"
   },
   {
    "duration": 8,
    "start_time": "2022-05-26T18:03:56.920Z"
   },
   {
    "duration": 231,
    "start_time": "2022-05-26T18:03:56.930Z"
   },
   {
    "duration": 160,
    "start_time": "2022-05-26T18:03:57.162Z"
   },
   {
    "duration": 11,
    "start_time": "2022-05-26T18:03:57.325Z"
   },
   {
    "duration": 138,
    "start_time": "2022-05-26T18:03:57.338Z"
   },
   {
    "duration": 14,
    "start_time": "2022-05-26T18:03:57.478Z"
   },
   {
    "duration": 156,
    "start_time": "2022-05-26T18:03:57.497Z"
   },
   {
    "duration": 10,
    "start_time": "2022-05-26T18:03:57.654Z"
   },
   {
    "duration": 164,
    "start_time": "2022-05-26T18:03:57.666Z"
   },
   {
    "duration": 5,
    "start_time": "2022-05-26T18:03:57.831Z"
   },
   {
    "duration": 108,
    "start_time": "2022-05-26T18:03:57.838Z"
   },
   {
    "duration": 9,
    "start_time": "2022-05-26T18:03:57.948Z"
   },
   {
    "duration": 5,
    "start_time": "2022-05-26T18:03:57.959Z"
   },
   {
    "duration": 236,
    "start_time": "2022-05-26T18:03:57.966Z"
   },
   {
    "duration": 22,
    "start_time": "2022-05-26T18:03:58.204Z"
   },
   {
    "duration": 4,
    "start_time": "2022-05-26T18:03:58.228Z"
   },
   {
    "duration": 11,
    "start_time": "2022-05-26T18:03:58.233Z"
   },
   {
    "duration": 29,
    "start_time": "2022-05-26T19:13:36.179Z"
   },
   {
    "duration": 16,
    "start_time": "2022-05-26T19:13:54.745Z"
   },
   {
    "duration": 27,
    "start_time": "2022-05-26T19:15:33.612Z"
   },
   {
    "duration": 14,
    "start_time": "2022-05-26T19:17:34.926Z"
   },
   {
    "duration": 24,
    "start_time": "2022-05-26T19:17:53.551Z"
   },
   {
    "duration": 8,
    "start_time": "2022-05-26T19:19:03.977Z"
   },
   {
    "duration": 9,
    "start_time": "2022-05-26T19:19:54.489Z"
   },
   {
    "duration": 14,
    "start_time": "2022-05-26T19:22:05.757Z"
   },
   {
    "duration": 707,
    "start_time": "2022-05-26T19:26:15.377Z"
   },
   {
    "duration": 198,
    "start_time": "2022-05-26T19:26:50.567Z"
   },
   {
    "duration": 178,
    "start_time": "2022-05-26T19:27:16.740Z"
   },
   {
    "duration": 20,
    "start_time": "2022-05-26T19:37:21.176Z"
   },
   {
    "duration": 187,
    "start_time": "2022-05-26T19:37:26.735Z"
   },
   {
    "duration": 44,
    "start_time": "2022-05-26T19:43:02.746Z"
   },
   {
    "duration": 25,
    "start_time": "2022-05-26T19:43:19.035Z"
   },
   {
    "duration": 76,
    "start_time": "2022-05-26T19:46:06.699Z"
   },
   {
    "duration": 90,
    "start_time": "2022-05-26T19:49:23.449Z"
   },
   {
    "duration": 45,
    "start_time": "2022-05-26T20:06:17.276Z"
   },
   {
    "duration": 489,
    "start_time": "2022-05-26T20:49:20.650Z"
   },
   {
    "duration": 95,
    "start_time": "2022-05-26T20:49:21.141Z"
   },
   {
    "duration": 13,
    "start_time": "2022-05-26T20:49:21.238Z"
   },
   {
    "duration": 17,
    "start_time": "2022-05-26T20:49:21.253Z"
   },
   {
    "duration": 76,
    "start_time": "2022-05-26T20:49:21.284Z"
   },
   {
    "duration": 46,
    "start_time": "2022-05-26T20:49:21.362Z"
   },
   {
    "duration": 16,
    "start_time": "2022-05-26T20:49:21.410Z"
   },
   {
    "duration": 96,
    "start_time": "2022-05-26T20:49:21.427Z"
   },
   {
    "duration": 4,
    "start_time": "2022-05-26T20:49:21.525Z"
   },
   {
    "duration": 5,
    "start_time": "2022-05-26T20:49:21.532Z"
   },
   {
    "duration": 11,
    "start_time": "2022-05-26T20:49:21.539Z"
   },
   {
    "duration": 69,
    "start_time": "2022-05-26T20:49:21.552Z"
   },
   {
    "duration": 5,
    "start_time": "2022-05-26T20:49:21.623Z"
   },
   {
    "duration": 5,
    "start_time": "2022-05-26T20:49:21.629Z"
   },
   {
    "duration": 9,
    "start_time": "2022-05-26T20:49:21.636Z"
   },
   {
    "duration": 64,
    "start_time": "2022-05-26T20:49:21.646Z"
   },
   {
    "duration": 6,
    "start_time": "2022-05-26T20:49:21.712Z"
   },
   {
    "duration": 8,
    "start_time": "2022-05-26T20:49:21.719Z"
   },
   {
    "duration": 6,
    "start_time": "2022-05-26T20:49:21.729Z"
   },
   {
    "duration": 20,
    "start_time": "2022-05-26T20:49:21.737Z"
   },
   {
    "duration": 25,
    "start_time": "2022-05-26T20:49:21.759Z"
   },
   {
    "duration": 5,
    "start_time": "2022-05-26T20:49:21.785Z"
   },
   {
    "duration": 12,
    "start_time": "2022-05-26T20:49:21.791Z"
   },
   {
    "duration": 26,
    "start_time": "2022-05-26T20:49:21.805Z"
   },
   {
    "duration": 8,
    "start_time": "2022-05-26T20:49:21.832Z"
   },
   {
    "duration": 8,
    "start_time": "2022-05-26T20:49:21.842Z"
   },
   {
    "duration": 6,
    "start_time": "2022-05-26T20:49:21.883Z"
   },
   {
    "duration": 33,
    "start_time": "2022-05-26T20:49:21.892Z"
   },
   {
    "duration": 7,
    "start_time": "2022-05-26T20:49:21.927Z"
   },
   {
    "duration": 8,
    "start_time": "2022-05-26T20:49:21.935Z"
   },
   {
    "duration": 42,
    "start_time": "2022-05-26T20:49:21.944Z"
   },
   {
    "duration": 9,
    "start_time": "2022-05-26T20:49:21.988Z"
   },
   {
    "duration": 6,
    "start_time": "2022-05-26T20:49:21.999Z"
   },
   {
    "duration": 9,
    "start_time": "2022-05-26T20:49:22.007Z"
   },
   {
    "duration": 7,
    "start_time": "2022-05-26T20:49:22.018Z"
   },
   {
    "duration": 8,
    "start_time": "2022-05-26T20:49:22.027Z"
   },
   {
    "duration": 5,
    "start_time": "2022-05-26T20:49:22.037Z"
   },
   {
    "duration": 7,
    "start_time": "2022-05-26T20:49:22.084Z"
   },
   {
    "duration": 5,
    "start_time": "2022-05-26T20:49:22.094Z"
   },
   {
    "duration": 94,
    "start_time": "2022-05-26T20:49:22.103Z"
   },
   {
    "duration": 15,
    "start_time": "2022-05-26T20:49:22.199Z"
   },
   {
    "duration": 26,
    "start_time": "2022-05-26T20:49:22.215Z"
   },
   {
    "duration": 41,
    "start_time": "2022-05-26T20:49:22.243Z"
   },
   {
    "duration": 5,
    "start_time": "2022-05-26T20:49:22.286Z"
   },
   {
    "duration": 16,
    "start_time": "2022-05-26T20:49:22.293Z"
   },
   {
    "duration": 25,
    "start_time": "2022-05-26T20:49:22.311Z"
   },
   {
    "duration": 4,
    "start_time": "2022-05-26T20:49:22.337Z"
   },
   {
    "duration": 8,
    "start_time": "2022-05-26T20:49:22.343Z"
   },
   {
    "duration": 33,
    "start_time": "2022-05-26T20:49:22.353Z"
   },
   {
    "duration": 5,
    "start_time": "2022-05-26T20:49:22.388Z"
   },
   {
    "duration": 321,
    "start_time": "2022-05-26T20:49:22.395Z"
   },
   {
    "duration": 4,
    "start_time": "2022-05-26T20:49:22.719Z"
   },
   {
    "duration": 8,
    "start_time": "2022-05-26T20:49:22.725Z"
   },
   {
    "duration": 25,
    "start_time": "2022-05-26T20:49:22.734Z"
   },
   {
    "duration": 10,
    "start_time": "2022-05-26T20:49:22.783Z"
   },
   {
    "duration": 432,
    "start_time": "2022-05-26T20:49:22.795Z"
   },
   {
    "duration": 171,
    "start_time": "2022-05-26T20:49:23.229Z"
   },
   {
    "duration": 181,
    "start_time": "2022-05-26T20:49:23.402Z"
   },
   {
    "duration": 9,
    "start_time": "2022-05-26T20:49:23.585Z"
   },
   {
    "duration": 129,
    "start_time": "2022-05-26T20:49:23.596Z"
   },
   {
    "duration": 132,
    "start_time": "2022-05-26T20:49:23.726Z"
   },
   {
    "duration": 8,
    "start_time": "2022-05-26T20:49:23.860Z"
   },
   {
    "duration": 228,
    "start_time": "2022-05-26T20:49:23.870Z"
   },
   {
    "duration": 142,
    "start_time": "2022-05-26T20:49:24.100Z"
   },
   {
    "duration": 9,
    "start_time": "2022-05-26T20:49:24.243Z"
   },
   {
    "duration": 141,
    "start_time": "2022-05-26T20:49:24.254Z"
   },
   {
    "duration": 9,
    "start_time": "2022-05-26T20:49:24.397Z"
   },
   {
    "duration": 147,
    "start_time": "2022-05-26T20:49:24.407Z"
   },
   {
    "duration": 10,
    "start_time": "2022-05-26T20:49:24.556Z"
   },
   {
    "duration": 170,
    "start_time": "2022-05-26T20:49:24.569Z"
   },
   {
    "duration": 6,
    "start_time": "2022-05-26T20:49:24.741Z"
   },
   {
    "duration": 89,
    "start_time": "2022-05-26T20:49:24.748Z"
   },
   {
    "duration": 9,
    "start_time": "2022-05-26T20:49:24.838Z"
   },
   {
    "duration": 6,
    "start_time": "2022-05-26T20:49:24.848Z"
   },
   {
    "duration": 180,
    "start_time": "2022-05-26T20:49:24.855Z"
   },
   {
    "duration": 19,
    "start_time": "2022-05-26T20:49:25.037Z"
   },
   {
    "duration": 3,
    "start_time": "2022-05-26T20:49:25.057Z"
   },
   {
    "duration": 28,
    "start_time": "2022-05-26T20:49:25.061Z"
   },
   {
    "duration": 10,
    "start_time": "2022-05-26T20:49:25.091Z"
   },
   {
    "duration": 21,
    "start_time": "2022-05-26T20:49:25.102Z"
   },
   {
    "duration": 13,
    "start_time": "2022-05-26T20:49:25.125Z"
   },
   {
    "duration": 186,
    "start_time": "2022-05-26T20:49:25.142Z"
   },
   {
    "duration": 26,
    "start_time": "2022-05-26T20:49:25.330Z"
   },
   {
    "duration": 104,
    "start_time": "2022-05-26T20:49:25.358Z"
   },
   {
    "duration": 79,
    "start_time": "2022-05-26T20:49:25.464Z"
   },
   {
    "duration": 42,
    "start_time": "2022-05-26T20:49:25.545Z"
   },
   {
    "duration": 35,
    "start_time": "2022-05-30T07:55:29.173Z"
   }
  ],
  "kernelspec": {
   "display_name": "Python 3 (ipykernel)",
   "language": "python",
   "name": "python3"
  },
  "language_info": {
   "codemirror_mode": {
    "name": "ipython",
    "version": 3
   },
   "file_extension": ".py",
   "mimetype": "text/x-python",
   "name": "python",
   "nbconvert_exporter": "python",
   "pygments_lexer": "ipython3",
   "version": "3.9.7"
  },
  "toc": {
   "base_numbering": 1,
   "nav_menu": {},
   "number_sections": true,
   "sideBar": true,
   "skip_h1_title": true,
   "title_cell": "Содержание",
   "title_sidebar": "Contents",
   "toc_cell": true,
   "toc_position": {
    "height": "calc(100% - 180px)",
    "left": "10px",
    "top": "150px",
    "width": "362px"
   },
   "toc_section_display": true,
   "toc_window_display": true
  }
 },
 "nbformat": 4,
 "nbformat_minor": 4
}
