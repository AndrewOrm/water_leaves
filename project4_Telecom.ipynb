{
 "cells": [
  {
   "cell_type": "markdown",
   "metadata": {
    "toc": true
   },
   "source": [
    "<h1>Содержание<span class=\"tocSkip\"></span></h1>\n",
    "<div class=\"toc\"><ul class=\"toc-item\"><li><span><a href=\"#Обзор-данных\" data-toc-modified-id=\"Обзор-данных-1\"><span class=\"toc-item-num\">1&nbsp;&nbsp;</span>Обзор данных</a></span></li><li><span><a href=\"#Предобработка-данных,-расчёт-ключевых-параметров-пользовательского-поведения\" data-toc-modified-id=\"Предобработка-данных,-расчёт-ключевых-параметров-пользовательского-поведения-2\"><span class=\"toc-item-num\">2&nbsp;&nbsp;</span>Предобработка данных, расчёт ключевых параметров пользовательского поведения</a></span><ul class=\"toc-item\"><li><span><a href=\"#Проверка-на-пропуски,-дубликаты-и-аномалии.-Трансформация-таблиц\" data-toc-modified-id=\"Проверка-на-пропуски,-дубликаты-и-аномалии.-Трансформация-таблиц-2.1\"><span class=\"toc-item-num\">2.1&nbsp;&nbsp;</span>Проверка на пропуски, дубликаты и аномалии. Трансформация таблиц</a></span></li><li><span><a href=\"#Расчёт-ключевых-параметров-пользовательского-поведения\" data-toc-modified-id=\"Расчёт-ключевых-параметров-пользовательского-поведения-2.2\"><span class=\"toc-item-num\">2.2&nbsp;&nbsp;</span>Расчёт ключевых параметров пользовательского поведения</a></span></li></ul></li><li><span><a href=\"#Анализ-пользовательского-поведения\" data-toc-modified-id=\"Анализ-пользовательского-поведения-3\"><span class=\"toc-item-num\">3&nbsp;&nbsp;</span>Анализ пользовательского поведения</a></span></li><li><span><a href=\"#Проверка-гипотез\" data-toc-modified-id=\"Проверка-гипотез-4\"><span class=\"toc-item-num\">4&nbsp;&nbsp;</span>Проверка гипотез</a></span></li><li><span><a href=\"#Вывод.-Определение-более-выгодного-для-компании-тарифа\" data-toc-modified-id=\"Вывод.-Определение-более-выгодного-для-компании-тарифа-5\"><span class=\"toc-item-num\">5&nbsp;&nbsp;</span>Вывод. Определение более выгодного для компании тарифа</a></span></li></ul></div>"
   ]
  },
  {
   "cell_type": "markdown",
   "metadata": {},
   "source": [
    "# Определение перспективного тарифа для телеком-компании"
   ]
  },
  {
   "cell_type": "markdown",
   "metadata": {},
   "source": [
    "Данное исследование предназначено для коммерческого департамента компании «Мегалайн». \n",
    "\n",
    "**Цель исследования** — определить, какой из тарифов - «Смарт» или «Ультра» - более выгодный для компании.\n",
    "\n",
    "**Ход исследования:**\n",
    "\n",
    "Анализ тарифов проведём на небольшой выборке клиентов. В нашем распоряжении данные 500 пользователей «Мегалайна»: кто они, откуда, каким тарифом пользуются, сколько звонков и сообщений каждый отправил за 2018 год. \n",
    "Данные о поведении пользователей мы получим из файлов `calls.csv`, `internet.csv`, `messages.csv`, `tariffs.csv`, `users.csv`.\n",
    "\n",
    "О качестве данных ничего не известно. Поэтому перед проверкой гипотез понадобится обзор данных.\n",
    "\n",
    "Затем, на этапе предобработки, мы проверим данные на ошибки, оценим их влияние на исследование и попробуем исправить. А также рассчитаем ключевые параметры для каждого пользователя:\n",
    "\n",
    "* количество сделанных звонков и израсходованных минут разговора по месяцам;\n",
    "* количество отправленных сообщений по месяцам;\n",
    "* объем израсходованного интернет-трафика по месяцам;\n",
    "* помесячную выручку с каждого пользователя.\n",
    "\n",
    "На третьем этапе опишем поведение клиентов оператора, исходя из выборки. Сколько минут разговора, сколько сообщений и какой объём интернет-трафика требуется пользователям каждого тарифа в месяц? Посчитаем среднее количество, дисперсию и стандартное отклонение. Построем гистограммы. Опишем распределения.\n",
    "\n",
    "Далее проверим две гипотезы:\n",
    "* средние расходы пользователей тарифов «Ультра» и «Смарт» различаются;\n",
    "* средние расходы пользователей из Москвы отличаются от расходов пользователей из других регионов.\n",
    " \n",
    "Таким образом, исследование пройдёт в пять этапов:\n",
    " 1. Обзор данных.\n",
    " 2. Предобработка данных, расчёт ключевых параметров пользовательского поведения.\n",
    " 3. Анализ пользовательского поведения.\n",
    " 4. Проверка гипотез.\n",
    " 5. Вывод. Определение более выгодного для компании тарифа."
   ]
  },
  {
   "cell_type": "markdown",
   "metadata": {},
   "source": [
    "**Примечание**:\n",
    "«Мегалайн» всегда округляет секунды до минут, а мегабайты — до гигабайт. Каждый звонок округляется отдельно: даже если он длился всего 1 секунду, будет засчитан как 1 минута.\n",
    "\n",
    "Для веб-трафика отдельные сессии не считаются. Вместо этого общая сумма за месяц округляется в бо́льшую сторону. Если абонент использует 1025 мегабайт в этом месяце, с него возьмут плату за 2 гигабайта. Примите, что неиспользованные за предыдущий месяц звонки, смс, интернет на следующий месяц не переносятся."
   ]
  },
  {
   "cell_type": "markdown",
   "metadata": {},
   "source": [
    "## Обзор данных\n",
    "\n",
    "Составим первое представление о данных."
   ]
  },
  {
   "cell_type": "markdown",
   "metadata": {},
   "source": [
    "Прочитаем исходные файлы, сохраним их, выведем на экран первые пять строк каждого из них и общую информацию для ознакомления."
   ]
  },
  {
   "cell_type": "code",
   "execution_count": 1,
   "metadata": {},
   "outputs": [],
   "source": [
    "# импорт необходимых библиотек\n",
    "import pandas as pd\n",
    "import numpy as np\n",
    "from scipy import stats as st"
   ]
  },
  {
   "cell_type": "code",
   "execution_count": 2,
   "metadata": {},
   "outputs": [
    {
     "data": {
      "text/html": [
       "<div>\n",
       "<style scoped>\n",
       "    .dataframe tbody tr th:only-of-type {\n",
       "        vertical-align: middle;\n",
       "    }\n",
       "\n",
       "    .dataframe tbody tr th {\n",
       "        vertical-align: top;\n",
       "    }\n",
       "\n",
       "    .dataframe thead th {\n",
       "        text-align: right;\n",
       "    }\n",
       "</style>\n",
       "<table border=\"1\" class=\"dataframe\">\n",
       "  <thead>\n",
       "    <tr style=\"text-align: right;\">\n",
       "      <th></th>\n",
       "      <th>user_id</th>\n",
       "      <th>age</th>\n",
       "      <th>churn_date</th>\n",
       "      <th>city</th>\n",
       "      <th>first_name</th>\n",
       "      <th>last_name</th>\n",
       "      <th>reg_date</th>\n",
       "      <th>tariff</th>\n",
       "    </tr>\n",
       "  </thead>\n",
       "  <tbody>\n",
       "    <tr>\n",
       "      <th>0</th>\n",
       "      <td>1000</td>\n",
       "      <td>52</td>\n",
       "      <td>NaN</td>\n",
       "      <td>Краснодар</td>\n",
       "      <td>Рафаил</td>\n",
       "      <td>Верещагин</td>\n",
       "      <td>2018-05-25</td>\n",
       "      <td>ultra</td>\n",
       "    </tr>\n",
       "    <tr>\n",
       "      <th>1</th>\n",
       "      <td>1001</td>\n",
       "      <td>41</td>\n",
       "      <td>NaN</td>\n",
       "      <td>Москва</td>\n",
       "      <td>Иван</td>\n",
       "      <td>Ежов</td>\n",
       "      <td>2018-11-01</td>\n",
       "      <td>smart</td>\n",
       "    </tr>\n",
       "    <tr>\n",
       "      <th>2</th>\n",
       "      <td>1002</td>\n",
       "      <td>59</td>\n",
       "      <td>NaN</td>\n",
       "      <td>Стерлитамак</td>\n",
       "      <td>Евгений</td>\n",
       "      <td>Абрамович</td>\n",
       "      <td>2018-06-17</td>\n",
       "      <td>smart</td>\n",
       "    </tr>\n",
       "    <tr>\n",
       "      <th>3</th>\n",
       "      <td>1003</td>\n",
       "      <td>23</td>\n",
       "      <td>NaN</td>\n",
       "      <td>Москва</td>\n",
       "      <td>Белла</td>\n",
       "      <td>Белякова</td>\n",
       "      <td>2018-08-17</td>\n",
       "      <td>ultra</td>\n",
       "    </tr>\n",
       "    <tr>\n",
       "      <th>4</th>\n",
       "      <td>1004</td>\n",
       "      <td>68</td>\n",
       "      <td>NaN</td>\n",
       "      <td>Новокузнецк</td>\n",
       "      <td>Татьяна</td>\n",
       "      <td>Авдеенко</td>\n",
       "      <td>2018-05-14</td>\n",
       "      <td>ultra</td>\n",
       "    </tr>\n",
       "  </tbody>\n",
       "</table>\n",
       "</div>"
      ],
      "text/plain": [
       "   user_id  age churn_date         city first_name  last_name    reg_date  \\\n",
       "0     1000   52        NaN    Краснодар     Рафаил  Верещагин  2018-05-25   \n",
       "1     1001   41        NaN       Москва       Иван       Ежов  2018-11-01   \n",
       "2     1002   59        NaN  Стерлитамак    Евгений  Абрамович  2018-06-17   \n",
       "3     1003   23        NaN       Москва      Белла   Белякова  2018-08-17   \n",
       "4     1004   68        NaN  Новокузнецк    Татьяна   Авдеенко  2018-05-14   \n",
       "\n",
       "  tariff  \n",
       "0  ultra  \n",
       "1  smart  \n",
       "2  smart  \n",
       "3  ultra  \n",
       "4  ultra  "
      ]
     },
     "execution_count": 2,
     "metadata": {},
     "output_type": "execute_result"
    }
   ],
   "source": [
    "# чтение файла user и сохранение его в users\n",
    "users = pd.read_csv('users.csv')\n",
    "# получение первых 5 строк таблицы user\n",
    "users.head()"
   ]
  },
  {
   "cell_type": "code",
   "execution_count": 3,
   "metadata": {},
   "outputs": [
    {
     "name": "stdout",
     "output_type": "stream",
     "text": [
      "<class 'pandas.core.frame.DataFrame'>\n",
      "RangeIndex: 500 entries, 0 to 499\n",
      "Data columns (total 8 columns):\n",
      " #   Column      Non-Null Count  Dtype \n",
      "---  ------      --------------  ----- \n",
      " 0   user_id     500 non-null    int64 \n",
      " 1   age         500 non-null    int64 \n",
      " 2   churn_date  38 non-null     object\n",
      " 3   city        500 non-null    object\n",
      " 4   first_name  500 non-null    object\n",
      " 5   last_name   500 non-null    object\n",
      " 6   reg_date    500 non-null    object\n",
      " 7   tariff      500 non-null    object\n",
      "dtypes: int64(2), object(6)\n",
      "memory usage: 31.4+ KB\n"
     ]
    }
   ],
   "source": [
    "# получение общей информации о данных в таблице users\n",
    "users.info()"
   ]
  },
  {
   "cell_type": "code",
   "execution_count": 4,
   "metadata": {},
   "outputs": [
    {
     "data": {
      "text/html": [
       "<div>\n",
       "<style scoped>\n",
       "    .dataframe tbody tr th:only-of-type {\n",
       "        vertical-align: middle;\n",
       "    }\n",
       "\n",
       "    .dataframe tbody tr th {\n",
       "        vertical-align: top;\n",
       "    }\n",
       "\n",
       "    .dataframe thead th {\n",
       "        text-align: right;\n",
       "    }\n",
       "</style>\n",
       "<table border=\"1\" class=\"dataframe\">\n",
       "  <thead>\n",
       "    <tr style=\"text-align: right;\">\n",
       "      <th></th>\n",
       "      <th>id</th>\n",
       "      <th>call_date</th>\n",
       "      <th>duration</th>\n",
       "      <th>user_id</th>\n",
       "    </tr>\n",
       "  </thead>\n",
       "  <tbody>\n",
       "    <tr>\n",
       "      <th>0</th>\n",
       "      <td>1000_0</td>\n",
       "      <td>2018-07-25</td>\n",
       "      <td>0.00</td>\n",
       "      <td>1000</td>\n",
       "    </tr>\n",
       "    <tr>\n",
       "      <th>1</th>\n",
       "      <td>1000_1</td>\n",
       "      <td>2018-08-17</td>\n",
       "      <td>0.00</td>\n",
       "      <td>1000</td>\n",
       "    </tr>\n",
       "    <tr>\n",
       "      <th>2</th>\n",
       "      <td>1000_2</td>\n",
       "      <td>2018-06-11</td>\n",
       "      <td>2.85</td>\n",
       "      <td>1000</td>\n",
       "    </tr>\n",
       "    <tr>\n",
       "      <th>3</th>\n",
       "      <td>1000_3</td>\n",
       "      <td>2018-09-21</td>\n",
       "      <td>13.80</td>\n",
       "      <td>1000</td>\n",
       "    </tr>\n",
       "    <tr>\n",
       "      <th>4</th>\n",
       "      <td>1000_4</td>\n",
       "      <td>2018-12-15</td>\n",
       "      <td>5.18</td>\n",
       "      <td>1000</td>\n",
       "    </tr>\n",
       "  </tbody>\n",
       "</table>\n",
       "</div>"
      ],
      "text/plain": [
       "       id   call_date  duration  user_id\n",
       "0  1000_0  2018-07-25      0.00     1000\n",
       "1  1000_1  2018-08-17      0.00     1000\n",
       "2  1000_2  2018-06-11      2.85     1000\n",
       "3  1000_3  2018-09-21     13.80     1000\n",
       "4  1000_4  2018-12-15      5.18     1000"
      ]
     },
     "execution_count": 4,
     "metadata": {},
     "output_type": "execute_result"
    }
   ],
   "source": [
    "# чтение файла calls и сохранение его в calls\n",
    "calls = pd.read_csv('calls.csv')\n",
    "# получение первых 5 строк таблицы calls\n",
    "calls.head()"
   ]
  },
  {
   "cell_type": "code",
   "execution_count": 5,
   "metadata": {},
   "outputs": [
    {
     "name": "stdout",
     "output_type": "stream",
     "text": [
      "<class 'pandas.core.frame.DataFrame'>\n",
      "RangeIndex: 202607 entries, 0 to 202606\n",
      "Data columns (total 4 columns):\n",
      " #   Column     Non-Null Count   Dtype  \n",
      "---  ------     --------------   -----  \n",
      " 0   id         202607 non-null  object \n",
      " 1   call_date  202607 non-null  object \n",
      " 2   duration   202607 non-null  float64\n",
      " 3   user_id    202607 non-null  int64  \n",
      "dtypes: float64(1), int64(1), object(2)\n",
      "memory usage: 6.2+ MB\n"
     ]
    }
   ],
   "source": [
    "# получение общей информации о данных в таблице calls\n",
    "calls.info()"
   ]
  },
  {
   "cell_type": "code",
   "execution_count": 6,
   "metadata": {},
   "outputs": [
    {
     "data": {
      "text/html": [
       "<div>\n",
       "<style scoped>\n",
       "    .dataframe tbody tr th:only-of-type {\n",
       "        vertical-align: middle;\n",
       "    }\n",
       "\n",
       "    .dataframe tbody tr th {\n",
       "        vertical-align: top;\n",
       "    }\n",
       "\n",
       "    .dataframe thead th {\n",
       "        text-align: right;\n",
       "    }\n",
       "</style>\n",
       "<table border=\"1\" class=\"dataframe\">\n",
       "  <thead>\n",
       "    <tr style=\"text-align: right;\">\n",
       "      <th></th>\n",
       "      <th>Unnamed: 0</th>\n",
       "      <th>id</th>\n",
       "      <th>mb_used</th>\n",
       "      <th>session_date</th>\n",
       "      <th>user_id</th>\n",
       "    </tr>\n",
       "  </thead>\n",
       "  <tbody>\n",
       "    <tr>\n",
       "      <th>0</th>\n",
       "      <td>0</td>\n",
       "      <td>1000_0</td>\n",
       "      <td>112.95</td>\n",
       "      <td>2018-11-25</td>\n",
       "      <td>1000</td>\n",
       "    </tr>\n",
       "    <tr>\n",
       "      <th>1</th>\n",
       "      <td>1</td>\n",
       "      <td>1000_1</td>\n",
       "      <td>1052.81</td>\n",
       "      <td>2018-09-07</td>\n",
       "      <td>1000</td>\n",
       "    </tr>\n",
       "    <tr>\n",
       "      <th>2</th>\n",
       "      <td>2</td>\n",
       "      <td>1000_2</td>\n",
       "      <td>1197.26</td>\n",
       "      <td>2018-06-25</td>\n",
       "      <td>1000</td>\n",
       "    </tr>\n",
       "    <tr>\n",
       "      <th>3</th>\n",
       "      <td>3</td>\n",
       "      <td>1000_3</td>\n",
       "      <td>550.27</td>\n",
       "      <td>2018-08-22</td>\n",
       "      <td>1000</td>\n",
       "    </tr>\n",
       "    <tr>\n",
       "      <th>4</th>\n",
       "      <td>4</td>\n",
       "      <td>1000_4</td>\n",
       "      <td>302.56</td>\n",
       "      <td>2018-09-24</td>\n",
       "      <td>1000</td>\n",
       "    </tr>\n",
       "  </tbody>\n",
       "</table>\n",
       "</div>"
      ],
      "text/plain": [
       "   Unnamed: 0      id  mb_used session_date  user_id\n",
       "0           0  1000_0   112.95   2018-11-25     1000\n",
       "1           1  1000_1  1052.81   2018-09-07     1000\n",
       "2           2  1000_2  1197.26   2018-06-25     1000\n",
       "3           3  1000_3   550.27   2018-08-22     1000\n",
       "4           4  1000_4   302.56   2018-09-24     1000"
      ]
     },
     "execution_count": 6,
     "metadata": {},
     "output_type": "execute_result"
    }
   ],
   "source": [
    "# чтение файла internet и сохранение его в internet\n",
    "internet = pd.read_csv('internet.csv')\n",
    "# получение первых 5 строк таблицы internet\n",
    "internet.head()"
   ]
  },
  {
   "cell_type": "markdown",
   "metadata": {},
   "source": [
    "Произошло дублирование индексов, прочитаем файл заново."
   ]
  },
  {
   "cell_type": "code",
   "execution_count": 7,
   "metadata": {},
   "outputs": [],
   "source": [
    "# чтение файла internet и сохранение его в internet\n",
    "internet = pd.read_csv('internet.csv', index_col=0)"
   ]
  },
  {
   "cell_type": "code",
   "execution_count": 8,
   "metadata": {},
   "outputs": [
    {
     "name": "stdout",
     "output_type": "stream",
     "text": [
      "<class 'pandas.core.frame.DataFrame'>\n",
      "Int64Index: 149396 entries, 0 to 149395\n",
      "Data columns (total 4 columns):\n",
      " #   Column        Non-Null Count   Dtype  \n",
      "---  ------        --------------   -----  \n",
      " 0   id            149396 non-null  object \n",
      " 1   mb_used       149396 non-null  float64\n",
      " 2   session_date  149396 non-null  object \n",
      " 3   user_id       149396 non-null  int64  \n",
      "dtypes: float64(1), int64(1), object(2)\n",
      "memory usage: 5.7+ MB\n"
     ]
    }
   ],
   "source": [
    "# получение общей информации о данных в таблице internet\n",
    "internet.info()"
   ]
  },
  {
   "cell_type": "code",
   "execution_count": 9,
   "metadata": {},
   "outputs": [
    {
     "data": {
      "text/html": [
       "<div>\n",
       "<style scoped>\n",
       "    .dataframe tbody tr th:only-of-type {\n",
       "        vertical-align: middle;\n",
       "    }\n",
       "\n",
       "    .dataframe tbody tr th {\n",
       "        vertical-align: top;\n",
       "    }\n",
       "\n",
       "    .dataframe thead th {\n",
       "        text-align: right;\n",
       "    }\n",
       "</style>\n",
       "<table border=\"1\" class=\"dataframe\">\n",
       "  <thead>\n",
       "    <tr style=\"text-align: right;\">\n",
       "      <th></th>\n",
       "      <th>id</th>\n",
       "      <th>message_date</th>\n",
       "      <th>user_id</th>\n",
       "    </tr>\n",
       "  </thead>\n",
       "  <tbody>\n",
       "    <tr>\n",
       "      <th>0</th>\n",
       "      <td>1000_0</td>\n",
       "      <td>2018-06-27</td>\n",
       "      <td>1000</td>\n",
       "    </tr>\n",
       "    <tr>\n",
       "      <th>1</th>\n",
       "      <td>1000_1</td>\n",
       "      <td>2018-10-08</td>\n",
       "      <td>1000</td>\n",
       "    </tr>\n",
       "    <tr>\n",
       "      <th>2</th>\n",
       "      <td>1000_2</td>\n",
       "      <td>2018-08-04</td>\n",
       "      <td>1000</td>\n",
       "    </tr>\n",
       "    <tr>\n",
       "      <th>3</th>\n",
       "      <td>1000_3</td>\n",
       "      <td>2018-06-16</td>\n",
       "      <td>1000</td>\n",
       "    </tr>\n",
       "    <tr>\n",
       "      <th>4</th>\n",
       "      <td>1000_4</td>\n",
       "      <td>2018-12-05</td>\n",
       "      <td>1000</td>\n",
       "    </tr>\n",
       "  </tbody>\n",
       "</table>\n",
       "</div>"
      ],
      "text/plain": [
       "       id message_date  user_id\n",
       "0  1000_0   2018-06-27     1000\n",
       "1  1000_1   2018-10-08     1000\n",
       "2  1000_2   2018-08-04     1000\n",
       "3  1000_3   2018-06-16     1000\n",
       "4  1000_4   2018-12-05     1000"
      ]
     },
     "execution_count": 9,
     "metadata": {},
     "output_type": "execute_result"
    }
   ],
   "source": [
    "# чтение файла messages и сохранение его в messages\n",
    "messages = pd.read_csv('messages.csv')\n",
    "# получение первых 5 строк таблицы messages\n",
    "messages.head()"
   ]
  },
  {
   "cell_type": "code",
   "execution_count": 10,
   "metadata": {},
   "outputs": [
    {
     "name": "stdout",
     "output_type": "stream",
     "text": [
      "<class 'pandas.core.frame.DataFrame'>\n",
      "RangeIndex: 123036 entries, 0 to 123035\n",
      "Data columns (total 3 columns):\n",
      " #   Column        Non-Null Count   Dtype \n",
      "---  ------        --------------   ----- \n",
      " 0   id            123036 non-null  object\n",
      " 1   message_date  123036 non-null  object\n",
      " 2   user_id       123036 non-null  int64 \n",
      "dtypes: int64(1), object(2)\n",
      "memory usage: 2.8+ MB\n"
     ]
    }
   ],
   "source": [
    "# получение общей информации о данных в таблице messages\n",
    "messages.info()"
   ]
  },
  {
   "cell_type": "code",
   "execution_count": 11,
   "metadata": {},
   "outputs": [
    {
     "data": {
      "text/html": [
       "<div>\n",
       "<style scoped>\n",
       "    .dataframe tbody tr th:only-of-type {\n",
       "        vertical-align: middle;\n",
       "    }\n",
       "\n",
       "    .dataframe tbody tr th {\n",
       "        vertical-align: top;\n",
       "    }\n",
       "\n",
       "    .dataframe thead th {\n",
       "        text-align: right;\n",
       "    }\n",
       "</style>\n",
       "<table border=\"1\" class=\"dataframe\">\n",
       "  <thead>\n",
       "    <tr style=\"text-align: right;\">\n",
       "      <th></th>\n",
       "      <th>messages_included</th>\n",
       "      <th>mb_per_month_included</th>\n",
       "      <th>minutes_included</th>\n",
       "      <th>rub_monthly_fee</th>\n",
       "      <th>rub_per_gb</th>\n",
       "      <th>rub_per_message</th>\n",
       "      <th>rub_per_minute</th>\n",
       "      <th>tariff_name</th>\n",
       "    </tr>\n",
       "  </thead>\n",
       "  <tbody>\n",
       "    <tr>\n",
       "      <th>0</th>\n",
       "      <td>50</td>\n",
       "      <td>15360</td>\n",
       "      <td>500</td>\n",
       "      <td>550</td>\n",
       "      <td>200</td>\n",
       "      <td>3</td>\n",
       "      <td>3</td>\n",
       "      <td>smart</td>\n",
       "    </tr>\n",
       "    <tr>\n",
       "      <th>1</th>\n",
       "      <td>1000</td>\n",
       "      <td>30720</td>\n",
       "      <td>3000</td>\n",
       "      <td>1950</td>\n",
       "      <td>150</td>\n",
       "      <td>1</td>\n",
       "      <td>1</td>\n",
       "      <td>ultra</td>\n",
       "    </tr>\n",
       "  </tbody>\n",
       "</table>\n",
       "</div>"
      ],
      "text/plain": [
       "   messages_included  mb_per_month_included  minutes_included  \\\n",
       "0                 50                  15360               500   \n",
       "1               1000                  30720              3000   \n",
       "\n",
       "   rub_monthly_fee  rub_per_gb  rub_per_message  rub_per_minute tariff_name  \n",
       "0              550         200                3               3       smart  \n",
       "1             1950         150                1               1       ultra  "
      ]
     },
     "execution_count": 11,
     "metadata": {},
     "output_type": "execute_result"
    }
   ],
   "source": [
    "# чтение файла tariffs и сохранение его в tariffs\n",
    "tariffs = pd.read_csv('tariffs.csv')\n",
    "# получение первых 5 строк таблицы tariffs\n",
    "tariffs.head()"
   ]
  },
  {
   "cell_type": "markdown",
   "metadata": {},
   "source": [
    "Итак, перед нами следующие данные.\n",
    "\n",
    "**Таблица `users` (информация о пользователях)**:\n",
    "* user_id — уникальный идентификатор пользователя\n",
    "* first_name — имя пользователя\n",
    "* last_name — фамилия пользователя\n",
    "* age — возраст пользователя (годы)\n",
    "* reg_date — дата подключения тарифа (день, месяц, год)\n",
    "* churn_date — дата прекращения пользования тарифом (если значение пропущено, то тариф ещё действовал на момент выгрузки данных)\n",
    "* city — город проживания пользователя\n",
    "* tariff — название тарифного плана\n",
    "\n",
    "**Таблица `calls` (информация о звонках)**:\n",
    "* id — уникальный номер звонка\n",
    "* call_date — дата звонка\n",
    "* duration — длительность звонка в минутах\n",
    "* user_id — идентификатор пользователя, сделавшего звонок\n",
    "\n",
    "**Таблица `messages` (информация о сообщениях)**:\n",
    "* id — уникальный номер сообщения\n",
    "* message_date — дата сообщения\n",
    "* user_id — идентификатор пользователя, отправившего сообщение\n",
    "\n",
    "**Таблица `internet` (информация об интернет-сессиях)**:\n",
    "* id — уникальный номер сессии\n",
    "* mb_used — объём потраченного за сессию интернет-трафика (в мегабайтах)\n",
    "* session_date — дата интернет-сессии\n",
    "* user_id — идентификатор пользователя\n",
    "\n",
    "**Таблица `tariffs` (информация о тарифах)**:\n",
    "* tariff_name — название тарифа\n",
    "* rub_monthly_fee — ежемесячная абонентская плата в рублях\n",
    "* minutes_included — количество минут разговора в месяц, включённых в абонентскую плату\n",
    "* messages_included — количество сообщений в месяц, включённых в абонентскую плату\n",
    "* mb_per_month_included — объём интернет-трафика, включённого в абонентскую плату (в мегабайтах)\n",
    "* rub_per_minute — стоимость минуты разговора сверх тарифного пакета (например, если в тарифе 100 минут разговора в месяц, то со 101 минуты будет взиматься плата)\n",
    "* rub_per_message — стоимость отправки сообщения сверх тарифного пакета\n",
    "* rub_per_gb — стоимость дополнительного гигабайта интернет-трафика сверх тарифного пакета (1 гигабайт = 1024 мегабайта)"
   ]
  },
  {
   "cell_type": "markdown",
   "metadata": {},
   "source": [
    "Данные в таблицах `calls`, `messages`, `internet` необходимо агрегировать до уровня пользователь - месяц, а таблицы `users` и `tariffs` переоформатировать, изменив порядок столбцов."
   ]
  },
  {
   "cell_type": "markdown",
   "metadata": {},
   "source": [
    "Мы провели первичное знакомство с имеющимися данными. Теперь необходимо провести указанные трансформации данных, проверить таблицы на наличие ошибок и аномалий, провести округление и агрегацию данных, а также расчёт ключевых параметров."
   ]
  },
  {
   "cell_type": "markdown",
   "metadata": {},
   "source": [
    "## Предобработка данных, расчёт ключевых параметров пользовательского поведения"
   ]
  },
  {
   "cell_type": "markdown",
   "metadata": {},
   "source": [
    "### Проверка на пропуски, дубликаты и аномалии. Трансформация таблиц"
   ]
  },
  {
   "cell_type": "markdown",
   "metadata": {},
   "source": [
    "Первым делом проверим данные на наличие пропусков."
   ]
  },
  {
   "cell_type": "markdown",
   "metadata": {},
   "source": [
    "Как мы видели в предыдущем разделе, пропуски только в `churn_date`, но это нормально. Значит, эти клиенты действующие и у них нет даты расторжения контракта.\n",
    "\n",
    "Проверим таблицу `users` на наличие явных дубликатов и оценим числовые переменные в ней."
   ]
  },
  {
   "cell_type": "code",
   "execution_count": 12,
   "metadata": {},
   "outputs": [
    {
     "data": {
      "text/plain": [
       "0"
      ]
     },
     "execution_count": 12,
     "metadata": {},
     "output_type": "execute_result"
    }
   ],
   "source": [
    "# проверка users на наличие дубликатов\n",
    "users.duplicated().sum()"
   ]
  },
  {
   "cell_type": "code",
   "execution_count": 13,
   "metadata": {},
   "outputs": [
    {
     "data": {
      "text/html": [
       "<div>\n",
       "<style scoped>\n",
       "    .dataframe tbody tr th:only-of-type {\n",
       "        vertical-align: middle;\n",
       "    }\n",
       "\n",
       "    .dataframe tbody tr th {\n",
       "        vertical-align: top;\n",
       "    }\n",
       "\n",
       "    .dataframe thead th {\n",
       "        text-align: right;\n",
       "    }\n",
       "</style>\n",
       "<table border=\"1\" class=\"dataframe\">\n",
       "  <thead>\n",
       "    <tr style=\"text-align: right;\">\n",
       "      <th></th>\n",
       "      <th>user_id</th>\n",
       "      <th>age</th>\n",
       "    </tr>\n",
       "  </thead>\n",
       "  <tbody>\n",
       "    <tr>\n",
       "      <th>count</th>\n",
       "      <td>500.000000</td>\n",
       "      <td>500.00000</td>\n",
       "    </tr>\n",
       "    <tr>\n",
       "      <th>mean</th>\n",
       "      <td>1249.500000</td>\n",
       "      <td>46.58800</td>\n",
       "    </tr>\n",
       "    <tr>\n",
       "      <th>std</th>\n",
       "      <td>144.481833</td>\n",
       "      <td>16.66763</td>\n",
       "    </tr>\n",
       "    <tr>\n",
       "      <th>min</th>\n",
       "      <td>1000.000000</td>\n",
       "      <td>18.00000</td>\n",
       "    </tr>\n",
       "    <tr>\n",
       "      <th>25%</th>\n",
       "      <td>1124.750000</td>\n",
       "      <td>32.00000</td>\n",
       "    </tr>\n",
       "    <tr>\n",
       "      <th>50%</th>\n",
       "      <td>1249.500000</td>\n",
       "      <td>46.00000</td>\n",
       "    </tr>\n",
       "    <tr>\n",
       "      <th>75%</th>\n",
       "      <td>1374.250000</td>\n",
       "      <td>62.00000</td>\n",
       "    </tr>\n",
       "    <tr>\n",
       "      <th>max</th>\n",
       "      <td>1499.000000</td>\n",
       "      <td>75.00000</td>\n",
       "    </tr>\n",
       "  </tbody>\n",
       "</table>\n",
       "</div>"
      ],
      "text/plain": [
       "           user_id        age\n",
       "count   500.000000  500.00000\n",
       "mean   1249.500000   46.58800\n",
       "std     144.481833   16.66763\n",
       "min    1000.000000   18.00000\n",
       "25%    1124.750000   32.00000\n",
       "50%    1249.500000   46.00000\n",
       "75%    1374.250000   62.00000\n",
       "max    1499.000000   75.00000"
      ]
     },
     "execution_count": 13,
     "metadata": {},
     "output_type": "execute_result"
    }
   ],
   "source": [
    "# оценка числовых переменных таблицы users\n",
    "users.describe()"
   ]
  },
  {
   "cell_type": "markdown",
   "metadata": {},
   "source": [
    "Явных дубликатов нет, аномальных значений тоже.\n",
    "Проверим ещё уникальные значения столбца `city`."
   ]
  },
  {
   "cell_type": "code",
   "execution_count": 14,
   "metadata": {},
   "outputs": [
    {
     "data": {
      "text/plain": [
       "Москва              99\n",
       "Санкт-Петербург     39\n",
       "Новосибирск         16\n",
       "Казань              14\n",
       "Омск                14\n",
       "Уфа                 12\n",
       "Ульяновск           11\n",
       "Екатеринбург        11\n",
       "Краснодар           11\n",
       "Набережные Челны    11\n",
       "Самара               9\n",
       "Челябинск            9\n",
       "Волгоград            8\n",
       "Нижний Новгород      8\n",
       "Пермь                8\n",
       "Улан-Удэ             7\n",
       "Вологда              7\n",
       "Красноярск           7\n",
       "Новокузнецк          7\n",
       "Томск                6\n",
       "Иркутск              6\n",
       "Киров                6\n",
       "Тюмень               6\n",
       "Ростов-на-Дону       6\n",
       "Воронеж              6\n",
       "Сочи                 6\n",
       "Пенза                6\n",
       "Ставрополь           5\n",
       "Магнитогорск         5\n",
       "Махачкала            5\n",
       "Балашиха             5\n",
       "Владивосток          5\n",
       "Тольятти             4\n",
       "Саранск              4\n",
       "Калуга               4\n",
       "Новороссийск         4\n",
       "Чита                 4\n",
       "Астрахань            4\n",
       "Хабаровск            4\n",
       "Рязань               4\n",
       "Кострома             4\n",
       "Петрозаводск         4\n",
       "Мурманск             4\n",
       "Владимир             3\n",
       "Орёл                 3\n",
       "Череповец            3\n",
       "Тверь                3\n",
       "Саратов              3\n",
       "Чебоксары            3\n",
       "Севастополь          3\n",
       "Якутск               3\n",
       "Барнаул              3\n",
       "Курган               3\n",
       "Ярославль            3\n",
       "Брянск               3\n",
       "Нижний Тагил         3\n",
       "Стерлитамак          3\n",
       "Тула                 2\n",
       "Липецк               2\n",
       "Владикавказ          2\n",
       "Name: city, dtype: int64"
      ]
     },
     "execution_count": 14,
     "metadata": {},
     "output_type": "execute_result"
    }
   ],
   "source": [
    "# вывод уникальных значений столбца 'family_status_id' и их частоты\n",
    "users['city'].value_counts().head(60)"
   ]
  },
  {
   "cell_type": "markdown",
   "metadata": {},
   "source": [
    "Проверим данные на наличие отрицательных значений."
   ]
  },
  {
   "cell_type": "code",
   "execution_count": 15,
   "metadata": {},
   "outputs": [
    {
     "data": {
      "text/html": [
       "<div>\n",
       "<style scoped>\n",
       "    .dataframe tbody tr th:only-of-type {\n",
       "        vertical-align: middle;\n",
       "    }\n",
       "\n",
       "    .dataframe tbody tr th {\n",
       "        vertical-align: top;\n",
       "    }\n",
       "\n",
       "    .dataframe thead th {\n",
       "        text-align: right;\n",
       "    }\n",
       "</style>\n",
       "<table border=\"1\" class=\"dataframe\">\n",
       "  <thead>\n",
       "    <tr style=\"text-align: right;\">\n",
       "      <th></th>\n",
       "      <th>duration</th>\n",
       "      <th>user_id</th>\n",
       "    </tr>\n",
       "  </thead>\n",
       "  <tbody>\n",
       "    <tr>\n",
       "      <th>count</th>\n",
       "      <td>202607.000000</td>\n",
       "      <td>202607.000000</td>\n",
       "    </tr>\n",
       "    <tr>\n",
       "      <th>mean</th>\n",
       "      <td>6.755887</td>\n",
       "      <td>1253.940619</td>\n",
       "    </tr>\n",
       "    <tr>\n",
       "      <th>std</th>\n",
       "      <td>5.843365</td>\n",
       "      <td>144.722751</td>\n",
       "    </tr>\n",
       "    <tr>\n",
       "      <th>min</th>\n",
       "      <td>0.000000</td>\n",
       "      <td>1000.000000</td>\n",
       "    </tr>\n",
       "    <tr>\n",
       "      <th>25%</th>\n",
       "      <td>1.300000</td>\n",
       "      <td>1126.000000</td>\n",
       "    </tr>\n",
       "    <tr>\n",
       "      <th>50%</th>\n",
       "      <td>6.000000</td>\n",
       "      <td>1260.000000</td>\n",
       "    </tr>\n",
       "    <tr>\n",
       "      <th>75%</th>\n",
       "      <td>10.700000</td>\n",
       "      <td>1379.000000</td>\n",
       "    </tr>\n",
       "    <tr>\n",
       "      <th>max</th>\n",
       "      <td>38.000000</td>\n",
       "      <td>1499.000000</td>\n",
       "    </tr>\n",
       "  </tbody>\n",
       "</table>\n",
       "</div>"
      ],
      "text/plain": [
       "            duration        user_id\n",
       "count  202607.000000  202607.000000\n",
       "mean        6.755887    1253.940619\n",
       "std         5.843365     144.722751\n",
       "min         0.000000    1000.000000\n",
       "25%         1.300000    1126.000000\n",
       "50%         6.000000    1260.000000\n",
       "75%        10.700000    1379.000000\n",
       "max        38.000000    1499.000000"
      ]
     },
     "execution_count": 15,
     "metadata": {},
     "output_type": "execute_result"
    }
   ],
   "source": [
    "# оценка числовых переменных таблицы calls\n",
    "calls.describe()"
   ]
  },
  {
   "cell_type": "code",
   "execution_count": 16,
   "metadata": {},
   "outputs": [
    {
     "data": {
      "text/html": [
       "<div>\n",
       "<style scoped>\n",
       "    .dataframe tbody tr th:only-of-type {\n",
       "        vertical-align: middle;\n",
       "    }\n",
       "\n",
       "    .dataframe tbody tr th {\n",
       "        vertical-align: top;\n",
       "    }\n",
       "\n",
       "    .dataframe thead th {\n",
       "        text-align: right;\n",
       "    }\n",
       "</style>\n",
       "<table border=\"1\" class=\"dataframe\">\n",
       "  <thead>\n",
       "    <tr style=\"text-align: right;\">\n",
       "      <th></th>\n",
       "      <th>mb_used</th>\n",
       "      <th>user_id</th>\n",
       "    </tr>\n",
       "  </thead>\n",
       "  <tbody>\n",
       "    <tr>\n",
       "      <th>count</th>\n",
       "      <td>149396.000000</td>\n",
       "      <td>149396.000000</td>\n",
       "    </tr>\n",
       "    <tr>\n",
       "      <th>mean</th>\n",
       "      <td>370.192426</td>\n",
       "      <td>1252.099842</td>\n",
       "    </tr>\n",
       "    <tr>\n",
       "      <th>std</th>\n",
       "      <td>278.300951</td>\n",
       "      <td>144.050823</td>\n",
       "    </tr>\n",
       "    <tr>\n",
       "      <th>min</th>\n",
       "      <td>0.000000</td>\n",
       "      <td>1000.000000</td>\n",
       "    </tr>\n",
       "    <tr>\n",
       "      <th>25%</th>\n",
       "      <td>138.187500</td>\n",
       "      <td>1130.000000</td>\n",
       "    </tr>\n",
       "    <tr>\n",
       "      <th>50%</th>\n",
       "      <td>348.015000</td>\n",
       "      <td>1251.000000</td>\n",
       "    </tr>\n",
       "    <tr>\n",
       "      <th>75%</th>\n",
       "      <td>559.552500</td>\n",
       "      <td>1380.000000</td>\n",
       "    </tr>\n",
       "    <tr>\n",
       "      <th>max</th>\n",
       "      <td>1724.830000</td>\n",
       "      <td>1499.000000</td>\n",
       "    </tr>\n",
       "  </tbody>\n",
       "</table>\n",
       "</div>"
      ],
      "text/plain": [
       "             mb_used        user_id\n",
       "count  149396.000000  149396.000000\n",
       "mean      370.192426    1252.099842\n",
       "std       278.300951     144.050823\n",
       "min         0.000000    1000.000000\n",
       "25%       138.187500    1130.000000\n",
       "50%       348.015000    1251.000000\n",
       "75%       559.552500    1380.000000\n",
       "max      1724.830000    1499.000000"
      ]
     },
     "execution_count": 16,
     "metadata": {},
     "output_type": "execute_result"
    }
   ],
   "source": [
    "# оценка числовых переменных таблицы internet\n",
    "internet.describe()"
   ]
  },
  {
   "cell_type": "markdown",
   "metadata": {},
   "source": [
    "Итак, дополнительных ошибок и аномалий в данных не обнаружено."
   ]
  },
  {
   "cell_type": "markdown",
   "metadata": {},
   "source": [
    "Проведём трансформацию двух таблиц: в `users` и `tariffs` поменяем местами столбцы для удобства."
   ]
  },
  {
   "cell_type": "code",
   "execution_count": 17,
   "metadata": {
    "scrolled": true
   },
   "outputs": [
    {
     "data": {
      "text/html": [
       "<div>\n",
       "<style scoped>\n",
       "    .dataframe tbody tr th:only-of-type {\n",
       "        vertical-align: middle;\n",
       "    }\n",
       "\n",
       "    .dataframe tbody tr th {\n",
       "        vertical-align: top;\n",
       "    }\n",
       "\n",
       "    .dataframe thead th {\n",
       "        text-align: right;\n",
       "    }\n",
       "</style>\n",
       "<table border=\"1\" class=\"dataframe\">\n",
       "  <thead>\n",
       "    <tr style=\"text-align: right;\">\n",
       "      <th></th>\n",
       "      <th>user_id</th>\n",
       "      <th>first_name</th>\n",
       "      <th>last_name</th>\n",
       "      <th>age</th>\n",
       "      <th>reg_date</th>\n",
       "      <th>churn_date</th>\n",
       "      <th>city</th>\n",
       "      <th>tariff</th>\n",
       "    </tr>\n",
       "  </thead>\n",
       "  <tbody>\n",
       "    <tr>\n",
       "      <th>0</th>\n",
       "      <td>1000</td>\n",
       "      <td>Рафаил</td>\n",
       "      <td>Верещагин</td>\n",
       "      <td>52</td>\n",
       "      <td>2018-05-25</td>\n",
       "      <td>NaN</td>\n",
       "      <td>Краснодар</td>\n",
       "      <td>ultra</td>\n",
       "    </tr>\n",
       "    <tr>\n",
       "      <th>1</th>\n",
       "      <td>1001</td>\n",
       "      <td>Иван</td>\n",
       "      <td>Ежов</td>\n",
       "      <td>41</td>\n",
       "      <td>2018-11-01</td>\n",
       "      <td>NaN</td>\n",
       "      <td>Москва</td>\n",
       "      <td>smart</td>\n",
       "    </tr>\n",
       "    <tr>\n",
       "      <th>2</th>\n",
       "      <td>1002</td>\n",
       "      <td>Евгений</td>\n",
       "      <td>Абрамович</td>\n",
       "      <td>59</td>\n",
       "      <td>2018-06-17</td>\n",
       "      <td>NaN</td>\n",
       "      <td>Стерлитамак</td>\n",
       "      <td>smart</td>\n",
       "    </tr>\n",
       "    <tr>\n",
       "      <th>3</th>\n",
       "      <td>1003</td>\n",
       "      <td>Белла</td>\n",
       "      <td>Белякова</td>\n",
       "      <td>23</td>\n",
       "      <td>2018-08-17</td>\n",
       "      <td>NaN</td>\n",
       "      <td>Москва</td>\n",
       "      <td>ultra</td>\n",
       "    </tr>\n",
       "    <tr>\n",
       "      <th>4</th>\n",
       "      <td>1004</td>\n",
       "      <td>Татьяна</td>\n",
       "      <td>Авдеенко</td>\n",
       "      <td>68</td>\n",
       "      <td>2018-05-14</td>\n",
       "      <td>NaN</td>\n",
       "      <td>Новокузнецк</td>\n",
       "      <td>ultra</td>\n",
       "    </tr>\n",
       "  </tbody>\n",
       "</table>\n",
       "</div>"
      ],
      "text/plain": [
       "   user_id first_name  last_name  age    reg_date churn_date         city  \\\n",
       "0     1000     Рафаил  Верещагин   52  2018-05-25        NaN    Краснодар   \n",
       "1     1001       Иван       Ежов   41  2018-11-01        NaN       Москва   \n",
       "2     1002    Евгений  Абрамович   59  2018-06-17        NaN  Стерлитамак   \n",
       "3     1003      Белла   Белякова   23  2018-08-17        NaN       Москва   \n",
       "4     1004    Татьяна   Авдеенко   68  2018-05-14        NaN  Новокузнецк   \n",
       "\n",
       "  tariff  \n",
       "0  ultra  \n",
       "1  smart  \n",
       "2  smart  \n",
       "3  ultra  \n",
       "4  ultra  "
      ]
     },
     "execution_count": 17,
     "metadata": {},
     "output_type": "execute_result"
    }
   ],
   "source": [
    "# изменение порядка вывода столбцов в таблице users\n",
    "users = users.reindex(columns=['user_id','first_name','last_name','age',\\\n",
    "                                   'reg_date', 'churn_date','city','tariff'])\n",
    "users.head()"
   ]
  },
  {
   "cell_type": "code",
   "execution_count": 18,
   "metadata": {
    "scrolled": true
   },
   "outputs": [
    {
     "data": {
      "text/html": [
       "<div>\n",
       "<style scoped>\n",
       "    .dataframe tbody tr th:only-of-type {\n",
       "        vertical-align: middle;\n",
       "    }\n",
       "\n",
       "    .dataframe tbody tr th {\n",
       "        vertical-align: top;\n",
       "    }\n",
       "\n",
       "    .dataframe thead th {\n",
       "        text-align: right;\n",
       "    }\n",
       "</style>\n",
       "<table border=\"1\" class=\"dataframe\">\n",
       "  <thead>\n",
       "    <tr style=\"text-align: right;\">\n",
       "      <th></th>\n",
       "      <th>tariff_name</th>\n",
       "      <th>rub_monthly_fee</th>\n",
       "      <th>minutes_included</th>\n",
       "      <th>messages_included</th>\n",
       "      <th>mb_per_month_included</th>\n",
       "      <th>rub_per_minute</th>\n",
       "      <th>rub_per_message</th>\n",
       "      <th>rub_per_gb</th>\n",
       "    </tr>\n",
       "  </thead>\n",
       "  <tbody>\n",
       "    <tr>\n",
       "      <th>0</th>\n",
       "      <td>smart</td>\n",
       "      <td>550</td>\n",
       "      <td>500</td>\n",
       "      <td>50</td>\n",
       "      <td>15360</td>\n",
       "      <td>3</td>\n",
       "      <td>3</td>\n",
       "      <td>200</td>\n",
       "    </tr>\n",
       "    <tr>\n",
       "      <th>1</th>\n",
       "      <td>ultra</td>\n",
       "      <td>1950</td>\n",
       "      <td>3000</td>\n",
       "      <td>1000</td>\n",
       "      <td>30720</td>\n",
       "      <td>1</td>\n",
       "      <td>1</td>\n",
       "      <td>150</td>\n",
       "    </tr>\n",
       "  </tbody>\n",
       "</table>\n",
       "</div>"
      ],
      "text/plain": [
       "  tariff_name  rub_monthly_fee  minutes_included  messages_included  \\\n",
       "0       smart              550               500                 50   \n",
       "1       ultra             1950              3000               1000   \n",
       "\n",
       "   mb_per_month_included  rub_per_minute  rub_per_message  rub_per_gb  \n",
       "0                  15360               3                3         200  \n",
       "1                  30720               1                1         150  "
      ]
     },
     "execution_count": 18,
     "metadata": {},
     "output_type": "execute_result"
    }
   ],
   "source": [
    "# изменение порядка вывода столбцов в таблице tariffs\n",
    "tariffs = tariffs.reindex(columns=['tariff_name','rub_monthly_fee',\\\n",
    "                                   'minutes_included', 'messages_included','mb_per_month_included',\\\n",
    "                                   'rub_per_minute', 'rub_per_message', 'rub_per_gb'])\n",
    "tariffs.head()"
   ]
  },
  {
   "cell_type": "markdown",
   "metadata": {},
   "source": [
    "### Расчёт ключевых параметров пользовательского поведения"
   ]
  },
  {
   "cell_type": "markdown",
   "metadata": {},
   "source": [
    "Не забудем про округление минут и мегабайтов в соответствии с правилами компании:\n",
    "\n",
    "«Мегалайн» всегда округляет секунды до минут, а мегабайты — до гигабайт. Каждый звонок округляется отдельно: даже если он длился всего 1 секунду, будет засчитан как 1 минута.\n",
    "\n",
    "Для веб-трафика отдельные сессии не считаются. Вместо этого общая сумма за месяц округляется в бо́льшую сторону. Если абонент использует 1025 мегабайт в этом месяце, с него возьмут плату за 2 гигабайта. Примите, что неиспользованные за предыдущий месяц звонки, смс, интернет на следующий месяц не переносятся."
   ]
  },
  {
   "cell_type": "markdown",
   "metadata": {},
   "source": [
    "Округлим минуты."
   ]
  },
  {
   "cell_type": "code",
   "execution_count": 19,
   "metadata": {
    "scrolled": false
   },
   "outputs": [
    {
     "data": {
      "text/html": [
       "<div>\n",
       "<style scoped>\n",
       "    .dataframe tbody tr th:only-of-type {\n",
       "        vertical-align: middle;\n",
       "    }\n",
       "\n",
       "    .dataframe tbody tr th {\n",
       "        vertical-align: top;\n",
       "    }\n",
       "\n",
       "    .dataframe thead th {\n",
       "        text-align: right;\n",
       "    }\n",
       "</style>\n",
       "<table border=\"1\" class=\"dataframe\">\n",
       "  <thead>\n",
       "    <tr style=\"text-align: right;\">\n",
       "      <th></th>\n",
       "      <th>id</th>\n",
       "      <th>call_date</th>\n",
       "      <th>duration</th>\n",
       "      <th>user_id</th>\n",
       "    </tr>\n",
       "  </thead>\n",
       "  <tbody>\n",
       "    <tr>\n",
       "      <th>0</th>\n",
       "      <td>1000_0</td>\n",
       "      <td>2018-07-25</td>\n",
       "      <td>0.0</td>\n",
       "      <td>1000</td>\n",
       "    </tr>\n",
       "    <tr>\n",
       "      <th>1</th>\n",
       "      <td>1000_1</td>\n",
       "      <td>2018-08-17</td>\n",
       "      <td>0.0</td>\n",
       "      <td>1000</td>\n",
       "    </tr>\n",
       "    <tr>\n",
       "      <th>2</th>\n",
       "      <td>1000_2</td>\n",
       "      <td>2018-06-11</td>\n",
       "      <td>3.0</td>\n",
       "      <td>1000</td>\n",
       "    </tr>\n",
       "    <tr>\n",
       "      <th>3</th>\n",
       "      <td>1000_3</td>\n",
       "      <td>2018-09-21</td>\n",
       "      <td>14.0</td>\n",
       "      <td>1000</td>\n",
       "    </tr>\n",
       "    <tr>\n",
       "      <th>4</th>\n",
       "      <td>1000_4</td>\n",
       "      <td>2018-12-15</td>\n",
       "      <td>6.0</td>\n",
       "      <td>1000</td>\n",
       "    </tr>\n",
       "    <tr>\n",
       "      <th>...</th>\n",
       "      <td>...</td>\n",
       "      <td>...</td>\n",
       "      <td>...</td>\n",
       "      <td>...</td>\n",
       "    </tr>\n",
       "    <tr>\n",
       "      <th>202602</th>\n",
       "      <td>1499_215</td>\n",
       "      <td>2018-12-26</td>\n",
       "      <td>1.0</td>\n",
       "      <td>1499</td>\n",
       "    </tr>\n",
       "    <tr>\n",
       "      <th>202603</th>\n",
       "      <td>1499_216</td>\n",
       "      <td>2018-10-18</td>\n",
       "      <td>19.0</td>\n",
       "      <td>1499</td>\n",
       "    </tr>\n",
       "    <tr>\n",
       "      <th>202604</th>\n",
       "      <td>1499_217</td>\n",
       "      <td>2018-11-10</td>\n",
       "      <td>11.0</td>\n",
       "      <td>1499</td>\n",
       "    </tr>\n",
       "    <tr>\n",
       "      <th>202605</th>\n",
       "      <td>1499_218</td>\n",
       "      <td>2018-10-06</td>\n",
       "      <td>5.0</td>\n",
       "      <td>1499</td>\n",
       "    </tr>\n",
       "    <tr>\n",
       "      <th>202606</th>\n",
       "      <td>1499_219</td>\n",
       "      <td>2018-12-14</td>\n",
       "      <td>20.0</td>\n",
       "      <td>1499</td>\n",
       "    </tr>\n",
       "  </tbody>\n",
       "</table>\n",
       "<p>202607 rows × 4 columns</p>\n",
       "</div>"
      ],
      "text/plain": [
       "              id   call_date  duration  user_id\n",
       "0         1000_0  2018-07-25       0.0     1000\n",
       "1         1000_1  2018-08-17       0.0     1000\n",
       "2         1000_2  2018-06-11       3.0     1000\n",
       "3         1000_3  2018-09-21      14.0     1000\n",
       "4         1000_4  2018-12-15       6.0     1000\n",
       "...          ...         ...       ...      ...\n",
       "202602  1499_215  2018-12-26       1.0     1499\n",
       "202603  1499_216  2018-10-18      19.0     1499\n",
       "202604  1499_217  2018-11-10      11.0     1499\n",
       "202605  1499_218  2018-10-06       5.0     1499\n",
       "202606  1499_219  2018-12-14      20.0     1499\n",
       "\n",
       "[202607 rows x 4 columns]"
      ]
     },
     "execution_count": 19,
     "metadata": {},
     "output_type": "execute_result"
    }
   ],
   "source": [
    "# округляем в большую сторону значения в столбце duration\n",
    "calls['duration'] = calls['duration'].apply(np.ceil)\n",
    "calls"
   ]
  },
  {
   "cell_type": "markdown",
   "metadata": {},
   "source": [
    "Теперь посчитаем количество разговоров, их общую и среднюю продолжительность для каждого пользователя в месяц."
   ]
  },
  {
   "cell_type": "markdown",
   "metadata": {},
   "source": [
    "Для этого столбец `call_date` нужно перевести в формат `datetime` и далее округлить данные до месяца."
   ]
  },
  {
   "cell_type": "code",
   "execution_count": 20,
   "metadata": {
    "scrolled": false
   },
   "outputs": [],
   "source": [
    "# изменение формата столбца call_date \n",
    "calls['call_date'] = pd.to_datetime(calls['call_date'], format='%Y-%m-%d')\n",
    "# округление данных в столбце call_date до месяца\n",
    "calls['call_date'] = calls['call_date'].dt.month"
   ]
  },
  {
   "cell_type": "code",
   "execution_count": 21,
   "metadata": {},
   "outputs": [
    {
     "data": {
      "text/html": [
       "<div>\n",
       "<style scoped>\n",
       "    .dataframe tbody tr th:only-of-type {\n",
       "        vertical-align: middle;\n",
       "    }\n",
       "\n",
       "    .dataframe tbody tr th {\n",
       "        vertical-align: top;\n",
       "    }\n",
       "\n",
       "    .dataframe thead tr th {\n",
       "        text-align: left;\n",
       "    }\n",
       "</style>\n",
       "<table border=\"1\" class=\"dataframe\">\n",
       "  <thead>\n",
       "    <tr>\n",
       "      <th></th>\n",
       "      <th>user_id</th>\n",
       "      <th colspan=\"4\" halign=\"left\">call_date</th>\n",
       "    </tr>\n",
       "    <tr>\n",
       "      <th></th>\n",
       "      <th></th>\n",
       "      <th></th>\n",
       "      <th>count</th>\n",
       "      <th>sum</th>\n",
       "      <th>mean</th>\n",
       "    </tr>\n",
       "  </thead>\n",
       "  <tbody>\n",
       "    <tr>\n",
       "      <th>0</th>\n",
       "      <td>1000</td>\n",
       "      <td>5</td>\n",
       "      <td>22</td>\n",
       "      <td>110</td>\n",
       "      <td>5</td>\n",
       "    </tr>\n",
       "    <tr>\n",
       "      <th>1</th>\n",
       "      <td>1000</td>\n",
       "      <td>6</td>\n",
       "      <td>43</td>\n",
       "      <td>258</td>\n",
       "      <td>6</td>\n",
       "    </tr>\n",
       "    <tr>\n",
       "      <th>2</th>\n",
       "      <td>1000</td>\n",
       "      <td>7</td>\n",
       "      <td>47</td>\n",
       "      <td>329</td>\n",
       "      <td>7</td>\n",
       "    </tr>\n",
       "    <tr>\n",
       "      <th>3</th>\n",
       "      <td>1000</td>\n",
       "      <td>8</td>\n",
       "      <td>52</td>\n",
       "      <td>416</td>\n",
       "      <td>8</td>\n",
       "    </tr>\n",
       "    <tr>\n",
       "      <th>4</th>\n",
       "      <td>1000</td>\n",
       "      <td>9</td>\n",
       "      <td>58</td>\n",
       "      <td>522</td>\n",
       "      <td>9</td>\n",
       "    </tr>\n",
       "  </tbody>\n",
       "</table>\n",
       "</div>"
      ],
      "text/plain": [
       "  user_id call_date                \n",
       "                    count  sum mean\n",
       "0    1000         5    22  110    5\n",
       "1    1000         6    43  258    6\n",
       "2    1000         7    47  329    7\n",
       "3    1000         8    52  416    8\n",
       "4    1000         9    58  522    9"
      ]
     },
     "execution_count": 21,
     "metadata": {},
     "output_type": "execute_result"
    }
   ],
   "source": [
    "# группировка данных столбцов user_id и call month и расчёт кол-ва звонков в месяц,\n",
    "# их общей продолжительности и средней длительности одного звонка\n",
    "calls_sum = calls.groupby(['user_id', 'call_date']).agg({'call_date':['count', 'sum', 'mean']}).reset_index()\n",
    "calls_sum.head()"
   ]
  },
  {
   "cell_type": "markdown",
   "metadata": {},
   "source": [
    "Переименуем столбцы."
   ]
  },
  {
   "cell_type": "code",
   "execution_count": 22,
   "metadata": {},
   "outputs": [
    {
     "data": {
      "text/html": [
       "<div>\n",
       "<style scoped>\n",
       "    .dataframe tbody tr th:only-of-type {\n",
       "        vertical-align: middle;\n",
       "    }\n",
       "\n",
       "    .dataframe tbody tr th {\n",
       "        vertical-align: top;\n",
       "    }\n",
       "\n",
       "    .dataframe thead th {\n",
       "        text-align: right;\n",
       "    }\n",
       "</style>\n",
       "<table border=\"1\" class=\"dataframe\">\n",
       "  <thead>\n",
       "    <tr style=\"text-align: right;\">\n",
       "      <th></th>\n",
       "      <th>user_id</th>\n",
       "      <th>month</th>\n",
       "      <th>calls</th>\n",
       "      <th>minutes</th>\n",
       "      <th>call_mean</th>\n",
       "    </tr>\n",
       "  </thead>\n",
       "  <tbody>\n",
       "    <tr>\n",
       "      <th>0</th>\n",
       "      <td>1000</td>\n",
       "      <td>5</td>\n",
       "      <td>22</td>\n",
       "      <td>110</td>\n",
       "      <td>5</td>\n",
       "    </tr>\n",
       "    <tr>\n",
       "      <th>1</th>\n",
       "      <td>1000</td>\n",
       "      <td>6</td>\n",
       "      <td>43</td>\n",
       "      <td>258</td>\n",
       "      <td>6</td>\n",
       "    </tr>\n",
       "    <tr>\n",
       "      <th>2</th>\n",
       "      <td>1000</td>\n",
       "      <td>7</td>\n",
       "      <td>47</td>\n",
       "      <td>329</td>\n",
       "      <td>7</td>\n",
       "    </tr>\n",
       "    <tr>\n",
       "      <th>3</th>\n",
       "      <td>1000</td>\n",
       "      <td>8</td>\n",
       "      <td>52</td>\n",
       "      <td>416</td>\n",
       "      <td>8</td>\n",
       "    </tr>\n",
       "    <tr>\n",
       "      <th>4</th>\n",
       "      <td>1000</td>\n",
       "      <td>9</td>\n",
       "      <td>58</td>\n",
       "      <td>522</td>\n",
       "      <td>9</td>\n",
       "    </tr>\n",
       "    <tr>\n",
       "      <th>5</th>\n",
       "      <td>1000</td>\n",
       "      <td>10</td>\n",
       "      <td>57</td>\n",
       "      <td>570</td>\n",
       "      <td>10</td>\n",
       "    </tr>\n",
       "    <tr>\n",
       "      <th>6</th>\n",
       "      <td>1000</td>\n",
       "      <td>11</td>\n",
       "      <td>43</td>\n",
       "      <td>473</td>\n",
       "      <td>11</td>\n",
       "    </tr>\n",
       "    <tr>\n",
       "      <th>7</th>\n",
       "      <td>1000</td>\n",
       "      <td>12</td>\n",
       "      <td>46</td>\n",
       "      <td>552</td>\n",
       "      <td>12</td>\n",
       "    </tr>\n",
       "    <tr>\n",
       "      <th>8</th>\n",
       "      <td>1001</td>\n",
       "      <td>11</td>\n",
       "      <td>59</td>\n",
       "      <td>649</td>\n",
       "      <td>11</td>\n",
       "    </tr>\n",
       "    <tr>\n",
       "      <th>9</th>\n",
       "      <td>1001</td>\n",
       "      <td>12</td>\n",
       "      <td>63</td>\n",
       "      <td>756</td>\n",
       "      <td>12</td>\n",
       "    </tr>\n",
       "  </tbody>\n",
       "</table>\n",
       "</div>"
      ],
      "text/plain": [
       "   user_id  month  calls  minutes  call_mean\n",
       "0     1000      5     22      110          5\n",
       "1     1000      6     43      258          6\n",
       "2     1000      7     47      329          7\n",
       "3     1000      8     52      416          8\n",
       "4     1000      9     58      522          9\n",
       "5     1000     10     57      570         10\n",
       "6     1000     11     43      473         11\n",
       "7     1000     12     46      552         12\n",
       "8     1001     11     59      649         11\n",
       "9     1001     12     63      756         12"
      ]
     },
     "execution_count": 22,
     "metadata": {},
     "output_type": "execute_result"
    }
   ],
   "source": [
    "# переименование столбцов calls_sum\n",
    "calls_sum.columns = ['user_id', 'month', 'calls', 'minutes', 'call_mean']\n",
    "calls_sum.head(10)"
   ]
  },
  {
   "cell_type": "markdown",
   "metadata": {},
   "source": [
    "Теперь рассчитаем отправленное каждым пользователем количество смс в месяц.\n",
    "Для этого вначале переведём в формат datetime столбец massage_date, а далее округлим данные до месяца."
   ]
  },
  {
   "cell_type": "code",
   "execution_count": 23,
   "metadata": {
    "scrolled": false
   },
   "outputs": [],
   "source": [
    "# изменение формата столбца message_date \n",
    "messages['message_date'] = pd.to_datetime(messages['message_date'], format='%Y-%m-%d')\n",
    "# округление данных в столбце message_date до месяца\n",
    "messages['message_date'] = messages['message_date'].dt.month"
   ]
  },
  {
   "cell_type": "code",
   "execution_count": 24,
   "metadata": {},
   "outputs": [
    {
     "data": {
      "text/html": [
       "<div>\n",
       "<style scoped>\n",
       "    .dataframe tbody tr th:only-of-type {\n",
       "        vertical-align: middle;\n",
       "    }\n",
       "\n",
       "    .dataframe tbody tr th {\n",
       "        vertical-align: top;\n",
       "    }\n",
       "\n",
       "    .dataframe thead tr th {\n",
       "        text-align: left;\n",
       "    }\n",
       "</style>\n",
       "<table border=\"1\" class=\"dataframe\">\n",
       "  <thead>\n",
       "    <tr>\n",
       "      <th></th>\n",
       "      <th>user_id</th>\n",
       "      <th colspan=\"2\" halign=\"left\">message_date</th>\n",
       "    </tr>\n",
       "    <tr>\n",
       "      <th></th>\n",
       "      <th></th>\n",
       "      <th></th>\n",
       "      <th>count</th>\n",
       "    </tr>\n",
       "  </thead>\n",
       "  <tbody>\n",
       "    <tr>\n",
       "      <th>0</th>\n",
       "      <td>1000</td>\n",
       "      <td>5</td>\n",
       "      <td>22</td>\n",
       "    </tr>\n",
       "    <tr>\n",
       "      <th>1</th>\n",
       "      <td>1000</td>\n",
       "      <td>6</td>\n",
       "      <td>60</td>\n",
       "    </tr>\n",
       "    <tr>\n",
       "      <th>2</th>\n",
       "      <td>1000</td>\n",
       "      <td>7</td>\n",
       "      <td>75</td>\n",
       "    </tr>\n",
       "    <tr>\n",
       "      <th>3</th>\n",
       "      <td>1000</td>\n",
       "      <td>8</td>\n",
       "      <td>81</td>\n",
       "    </tr>\n",
       "    <tr>\n",
       "      <th>4</th>\n",
       "      <td>1000</td>\n",
       "      <td>9</td>\n",
       "      <td>57</td>\n",
       "    </tr>\n",
       "  </tbody>\n",
       "</table>\n",
       "</div>"
      ],
      "text/plain": [
       "  user_id message_date      \n",
       "                       count\n",
       "0    1000            5    22\n",
       "1    1000            6    60\n",
       "2    1000            7    75\n",
       "3    1000            8    81\n",
       "4    1000            9    57"
      ]
     },
     "execution_count": 24,
     "metadata": {},
     "output_type": "execute_result"
    }
   ],
   "source": [
    "# группировка данных столбцов user_id и month и расчёт общего кол-ва смс в месяц\n",
    "messages_sum = messages.groupby(['user_id', 'message_date']).agg({'message_date':['count']}).reset_index()\n",
    "messages_sum.head()"
   ]
  },
  {
   "cell_type": "markdown",
   "metadata": {},
   "source": [
    "Переименуем столбцы."
   ]
  },
  {
   "cell_type": "code",
   "execution_count": 25,
   "metadata": {
    "scrolled": true
   },
   "outputs": [
    {
     "data": {
      "text/html": [
       "<div>\n",
       "<style scoped>\n",
       "    .dataframe tbody tr th:only-of-type {\n",
       "        vertical-align: middle;\n",
       "    }\n",
       "\n",
       "    .dataframe tbody tr th {\n",
       "        vertical-align: top;\n",
       "    }\n",
       "\n",
       "    .dataframe thead th {\n",
       "        text-align: right;\n",
       "    }\n",
       "</style>\n",
       "<table border=\"1\" class=\"dataframe\">\n",
       "  <thead>\n",
       "    <tr style=\"text-align: right;\">\n",
       "      <th></th>\n",
       "      <th>user_id</th>\n",
       "      <th>month</th>\n",
       "      <th>messages</th>\n",
       "    </tr>\n",
       "  </thead>\n",
       "  <tbody>\n",
       "    <tr>\n",
       "      <th>0</th>\n",
       "      <td>1000</td>\n",
       "      <td>5</td>\n",
       "      <td>22</td>\n",
       "    </tr>\n",
       "    <tr>\n",
       "      <th>1</th>\n",
       "      <td>1000</td>\n",
       "      <td>6</td>\n",
       "      <td>60</td>\n",
       "    </tr>\n",
       "    <tr>\n",
       "      <th>2</th>\n",
       "      <td>1000</td>\n",
       "      <td>7</td>\n",
       "      <td>75</td>\n",
       "    </tr>\n",
       "    <tr>\n",
       "      <th>3</th>\n",
       "      <td>1000</td>\n",
       "      <td>8</td>\n",
       "      <td>81</td>\n",
       "    </tr>\n",
       "    <tr>\n",
       "      <th>4</th>\n",
       "      <td>1000</td>\n",
       "      <td>9</td>\n",
       "      <td>57</td>\n",
       "    </tr>\n",
       "  </tbody>\n",
       "</table>\n",
       "</div>"
      ],
      "text/plain": [
       "   user_id  month  messages\n",
       "0     1000      5        22\n",
       "1     1000      6        60\n",
       "2     1000      7        75\n",
       "3     1000      8        81\n",
       "4     1000      9        57"
      ]
     },
     "execution_count": 25,
     "metadata": {},
     "output_type": "execute_result"
    }
   ],
   "source": [
    "# переименование столбцов таблицы messages_sum\n",
    "messages_sum.columns = ['user_id', 'month', 'messages']\n",
    "messages_sum.head()"
   ]
  },
  {
   "cell_type": "markdown",
   "metadata": {},
   "source": [
    "Теперь обратимся к данным интернет-трафика.\n",
    "Преобразуем формат столбца `session_date` аналогично предыдущим таблицам."
   ]
  },
  {
   "cell_type": "code",
   "execution_count": 26,
   "metadata": {
    "scrolled": false
   },
   "outputs": [
    {
     "data": {
      "text/html": [
       "<div>\n",
       "<style scoped>\n",
       "    .dataframe tbody tr th:only-of-type {\n",
       "        vertical-align: middle;\n",
       "    }\n",
       "\n",
       "    .dataframe tbody tr th {\n",
       "        vertical-align: top;\n",
       "    }\n",
       "\n",
       "    .dataframe thead th {\n",
       "        text-align: right;\n",
       "    }\n",
       "</style>\n",
       "<table border=\"1\" class=\"dataframe\">\n",
       "  <thead>\n",
       "    <tr style=\"text-align: right;\">\n",
       "      <th></th>\n",
       "      <th>id</th>\n",
       "      <th>mb_used</th>\n",
       "      <th>session_date</th>\n",
       "      <th>user_id</th>\n",
       "    </tr>\n",
       "  </thead>\n",
       "  <tbody>\n",
       "    <tr>\n",
       "      <th>0</th>\n",
       "      <td>1000_0</td>\n",
       "      <td>112.95</td>\n",
       "      <td>11</td>\n",
       "      <td>1000</td>\n",
       "    </tr>\n",
       "    <tr>\n",
       "      <th>1</th>\n",
       "      <td>1000_1</td>\n",
       "      <td>1052.81</td>\n",
       "      <td>9</td>\n",
       "      <td>1000</td>\n",
       "    </tr>\n",
       "    <tr>\n",
       "      <th>2</th>\n",
       "      <td>1000_2</td>\n",
       "      <td>1197.26</td>\n",
       "      <td>6</td>\n",
       "      <td>1000</td>\n",
       "    </tr>\n",
       "    <tr>\n",
       "      <th>3</th>\n",
       "      <td>1000_3</td>\n",
       "      <td>550.27</td>\n",
       "      <td>8</td>\n",
       "      <td>1000</td>\n",
       "    </tr>\n",
       "    <tr>\n",
       "      <th>4</th>\n",
       "      <td>1000_4</td>\n",
       "      <td>302.56</td>\n",
       "      <td>9</td>\n",
       "      <td>1000</td>\n",
       "    </tr>\n",
       "  </tbody>\n",
       "</table>\n",
       "</div>"
      ],
      "text/plain": [
       "       id  mb_used  session_date  user_id\n",
       "0  1000_0   112.95            11     1000\n",
       "1  1000_1  1052.81             9     1000\n",
       "2  1000_2  1197.26             6     1000\n",
       "3  1000_3   550.27             8     1000\n",
       "4  1000_4   302.56             9     1000"
      ]
     },
     "execution_count": 26,
     "metadata": {},
     "output_type": "execute_result"
    }
   ],
   "source": [
    "# изменение формата столбца session_date \n",
    "internet['session_date'] = pd.to_datetime(internet['session_date'], format='%Y-%m-%d')\n",
    "# округление данных в столбце session_date до месяца\n",
    "internet['session_date'] = internet['session_date'].dt.month\n",
    "internet.head()"
   ]
  },
  {
   "cell_type": "markdown",
   "metadata": {},
   "source": [
    "Посчитаем пользовательский трафик за каждый месяц."
   ]
  },
  {
   "cell_type": "code",
   "execution_count": 27,
   "metadata": {},
   "outputs": [
    {
     "data": {
      "text/html": [
       "<div>\n",
       "<style scoped>\n",
       "    .dataframe tbody tr th:only-of-type {\n",
       "        vertical-align: middle;\n",
       "    }\n",
       "\n",
       "    .dataframe tbody tr th {\n",
       "        vertical-align: top;\n",
       "    }\n",
       "\n",
       "    .dataframe thead tr th {\n",
       "        text-align: left;\n",
       "    }\n",
       "</style>\n",
       "<table border=\"1\" class=\"dataframe\">\n",
       "  <thead>\n",
       "    <tr>\n",
       "      <th></th>\n",
       "      <th>user_id</th>\n",
       "      <th>session_date</th>\n",
       "      <th>mb_used</th>\n",
       "    </tr>\n",
       "    <tr>\n",
       "      <th></th>\n",
       "      <th></th>\n",
       "      <th></th>\n",
       "      <th>sum</th>\n",
       "    </tr>\n",
       "  </thead>\n",
       "  <tbody>\n",
       "    <tr>\n",
       "      <th>0</th>\n",
       "      <td>1000</td>\n",
       "      <td>5</td>\n",
       "      <td>2253.49</td>\n",
       "    </tr>\n",
       "    <tr>\n",
       "      <th>1</th>\n",
       "      <td>1000</td>\n",
       "      <td>6</td>\n",
       "      <td>23233.77</td>\n",
       "    </tr>\n",
       "    <tr>\n",
       "      <th>2</th>\n",
       "      <td>1000</td>\n",
       "      <td>7</td>\n",
       "      <td>14003.64</td>\n",
       "    </tr>\n",
       "    <tr>\n",
       "      <th>3</th>\n",
       "      <td>1000</td>\n",
       "      <td>8</td>\n",
       "      <td>14055.93</td>\n",
       "    </tr>\n",
       "    <tr>\n",
       "      <th>4</th>\n",
       "      <td>1000</td>\n",
       "      <td>9</td>\n",
       "      <td>14568.91</td>\n",
       "    </tr>\n",
       "    <tr>\n",
       "      <th>5</th>\n",
       "      <td>1000</td>\n",
       "      <td>10</td>\n",
       "      <td>14702.49</td>\n",
       "    </tr>\n",
       "    <tr>\n",
       "      <th>6</th>\n",
       "      <td>1000</td>\n",
       "      <td>11</td>\n",
       "      <td>14756.47</td>\n",
       "    </tr>\n",
       "    <tr>\n",
       "      <th>7</th>\n",
       "      <td>1000</td>\n",
       "      <td>12</td>\n",
       "      <td>9817.61</td>\n",
       "    </tr>\n",
       "    <tr>\n",
       "      <th>8</th>\n",
       "      <td>1001</td>\n",
       "      <td>11</td>\n",
       "      <td>18429.34</td>\n",
       "    </tr>\n",
       "    <tr>\n",
       "      <th>9</th>\n",
       "      <td>1001</td>\n",
       "      <td>12</td>\n",
       "      <td>14036.66</td>\n",
       "    </tr>\n",
       "  </tbody>\n",
       "</table>\n",
       "</div>"
      ],
      "text/plain": [
       "  user_id session_date   mb_used\n",
       "                             sum\n",
       "0    1000            5   2253.49\n",
       "1    1000            6  23233.77\n",
       "2    1000            7  14003.64\n",
       "3    1000            8  14055.93\n",
       "4    1000            9  14568.91\n",
       "5    1000           10  14702.49\n",
       "6    1000           11  14756.47\n",
       "7    1000           12   9817.61\n",
       "8    1001           11  18429.34\n",
       "9    1001           12  14036.66"
      ]
     },
     "execution_count": 27,
     "metadata": {},
     "output_type": "execute_result"
    }
   ],
   "source": [
    "# группировка данных столбцов user_id и month и расчёт общего интернет-трафика за месяц\n",
    "internet_sum = internet.groupby(['user_id', 'session_date']).agg({'mb_used':['sum']}).reset_index()\n",
    "internet_sum.head(10)"
   ]
  },
  {
   "cell_type": "code",
   "execution_count": 28,
   "metadata": {},
   "outputs": [
    {
     "data": {
      "text/html": [
       "<div>\n",
       "<style scoped>\n",
       "    .dataframe tbody tr th:only-of-type {\n",
       "        vertical-align: middle;\n",
       "    }\n",
       "\n",
       "    .dataframe tbody tr th {\n",
       "        vertical-align: top;\n",
       "    }\n",
       "\n",
       "    .dataframe thead tr th {\n",
       "        text-align: left;\n",
       "    }\n",
       "</style>\n",
       "<table border=\"1\" class=\"dataframe\">\n",
       "  <thead>\n",
       "    <tr>\n",
       "      <th></th>\n",
       "      <th>user_id</th>\n",
       "      <th>session_date</th>\n",
       "      <th>mb_used</th>\n",
       "      <th>gb_used</th>\n",
       "    </tr>\n",
       "    <tr>\n",
       "      <th></th>\n",
       "      <th></th>\n",
       "      <th></th>\n",
       "      <th>sum</th>\n",
       "      <th></th>\n",
       "    </tr>\n",
       "  </thead>\n",
       "  <tbody>\n",
       "    <tr>\n",
       "      <th>0</th>\n",
       "      <td>1000</td>\n",
       "      <td>5</td>\n",
       "      <td>2253.49</td>\n",
       "      <td>2.200674</td>\n",
       "    </tr>\n",
       "    <tr>\n",
       "      <th>1</th>\n",
       "      <td>1000</td>\n",
       "      <td>6</td>\n",
       "      <td>23233.77</td>\n",
       "      <td>22.689229</td>\n",
       "    </tr>\n",
       "    <tr>\n",
       "      <th>2</th>\n",
       "      <td>1000</td>\n",
       "      <td>7</td>\n",
       "      <td>14003.64</td>\n",
       "      <td>13.675430</td>\n",
       "    </tr>\n",
       "    <tr>\n",
       "      <th>3</th>\n",
       "      <td>1000</td>\n",
       "      <td>8</td>\n",
       "      <td>14055.93</td>\n",
       "      <td>13.726494</td>\n",
       "    </tr>\n",
       "    <tr>\n",
       "      <th>4</th>\n",
       "      <td>1000</td>\n",
       "      <td>9</td>\n",
       "      <td>14568.91</td>\n",
       "      <td>14.227451</td>\n",
       "    </tr>\n",
       "    <tr>\n",
       "      <th>...</th>\n",
       "      <td>...</td>\n",
       "      <td>...</td>\n",
       "      <td>...</td>\n",
       "      <td>...</td>\n",
       "    </tr>\n",
       "    <tr>\n",
       "      <th>3198</th>\n",
       "      <td>1498</td>\n",
       "      <td>10</td>\n",
       "      <td>20579.36</td>\n",
       "      <td>20.097031</td>\n",
       "    </tr>\n",
       "    <tr>\n",
       "      <th>3199</th>\n",
       "      <td>1499</td>\n",
       "      <td>9</td>\n",
       "      <td>1845.75</td>\n",
       "      <td>1.802490</td>\n",
       "    </tr>\n",
       "    <tr>\n",
       "      <th>3200</th>\n",
       "      <td>1499</td>\n",
       "      <td>10</td>\n",
       "      <td>17788.51</td>\n",
       "      <td>17.371592</td>\n",
       "    </tr>\n",
       "    <tr>\n",
       "      <th>3201</th>\n",
       "      <td>1499</td>\n",
       "      <td>11</td>\n",
       "      <td>17963.31</td>\n",
       "      <td>17.542295</td>\n",
       "    </tr>\n",
       "    <tr>\n",
       "      <th>3202</th>\n",
       "      <td>1499</td>\n",
       "      <td>12</td>\n",
       "      <td>13055.58</td>\n",
       "      <td>12.749590</td>\n",
       "    </tr>\n",
       "  </tbody>\n",
       "</table>\n",
       "<p>3203 rows × 4 columns</p>\n",
       "</div>"
      ],
      "text/plain": [
       "     user_id session_date   mb_used    gb_used\n",
       "                                sum           \n",
       "0       1000            5   2253.49   2.200674\n",
       "1       1000            6  23233.77  22.689229\n",
       "2       1000            7  14003.64  13.675430\n",
       "3       1000            8  14055.93  13.726494\n",
       "4       1000            9  14568.91  14.227451\n",
       "...      ...          ...       ...        ...\n",
       "3198    1498           10  20579.36  20.097031\n",
       "3199    1499            9   1845.75   1.802490\n",
       "3200    1499           10  17788.51  17.371592\n",
       "3201    1499           11  17963.31  17.542295\n",
       "3202    1499           12  13055.58  12.749590\n",
       "\n",
       "[3203 rows x 4 columns]"
      ]
     },
     "execution_count": 28,
     "metadata": {},
     "output_type": "execute_result"
    }
   ],
   "source": [
    "# подсчёт числа гигабайтов трафика в месяц\n",
    "internet_sum['gb_used'] = internet_sum['mb_used'] / 1024\n",
    "internet_sum"
   ]
  },
  {
   "cell_type": "markdown",
   "metadata": {},
   "source": [
    "Посчитаем количество гигабайт, а потом округлим их в большую сторону, согласно Правилам компании. "
   ]
  },
  {
   "cell_type": "code",
   "execution_count": 29,
   "metadata": {},
   "outputs": [
    {
     "data": {
      "text/html": [
       "<div>\n",
       "<style scoped>\n",
       "    .dataframe tbody tr th:only-of-type {\n",
       "        vertical-align: middle;\n",
       "    }\n",
       "\n",
       "    .dataframe tbody tr th {\n",
       "        vertical-align: top;\n",
       "    }\n",
       "\n",
       "    .dataframe thead tr th {\n",
       "        text-align: left;\n",
       "    }\n",
       "</style>\n",
       "<table border=\"1\" class=\"dataframe\">\n",
       "  <thead>\n",
       "    <tr>\n",
       "      <th></th>\n",
       "      <th>user_id</th>\n",
       "      <th>session_date</th>\n",
       "      <th>mb_used</th>\n",
       "      <th>gb_used</th>\n",
       "    </tr>\n",
       "    <tr>\n",
       "      <th></th>\n",
       "      <th></th>\n",
       "      <th></th>\n",
       "      <th>sum</th>\n",
       "      <th></th>\n",
       "    </tr>\n",
       "  </thead>\n",
       "  <tbody>\n",
       "    <tr>\n",
       "      <th>0</th>\n",
       "      <td>1000</td>\n",
       "      <td>5</td>\n",
       "      <td>2253.49</td>\n",
       "      <td>3.0</td>\n",
       "    </tr>\n",
       "    <tr>\n",
       "      <th>1</th>\n",
       "      <td>1000</td>\n",
       "      <td>6</td>\n",
       "      <td>23233.77</td>\n",
       "      <td>23.0</td>\n",
       "    </tr>\n",
       "    <tr>\n",
       "      <th>2</th>\n",
       "      <td>1000</td>\n",
       "      <td>7</td>\n",
       "      <td>14003.64</td>\n",
       "      <td>14.0</td>\n",
       "    </tr>\n",
       "    <tr>\n",
       "      <th>3</th>\n",
       "      <td>1000</td>\n",
       "      <td>8</td>\n",
       "      <td>14055.93</td>\n",
       "      <td>14.0</td>\n",
       "    </tr>\n",
       "    <tr>\n",
       "      <th>4</th>\n",
       "      <td>1000</td>\n",
       "      <td>9</td>\n",
       "      <td>14568.91</td>\n",
       "      <td>15.0</td>\n",
       "    </tr>\n",
       "    <tr>\n",
       "      <th>5</th>\n",
       "      <td>1000</td>\n",
       "      <td>10</td>\n",
       "      <td>14702.49</td>\n",
       "      <td>15.0</td>\n",
       "    </tr>\n",
       "    <tr>\n",
       "      <th>6</th>\n",
       "      <td>1000</td>\n",
       "      <td>11</td>\n",
       "      <td>14756.47</td>\n",
       "      <td>15.0</td>\n",
       "    </tr>\n",
       "    <tr>\n",
       "      <th>7</th>\n",
       "      <td>1000</td>\n",
       "      <td>12</td>\n",
       "      <td>9817.61</td>\n",
       "      <td>10.0</td>\n",
       "    </tr>\n",
       "    <tr>\n",
       "      <th>8</th>\n",
       "      <td>1001</td>\n",
       "      <td>11</td>\n",
       "      <td>18429.34</td>\n",
       "      <td>18.0</td>\n",
       "    </tr>\n",
       "    <tr>\n",
       "      <th>9</th>\n",
       "      <td>1001</td>\n",
       "      <td>12</td>\n",
       "      <td>14036.66</td>\n",
       "      <td>14.0</td>\n",
       "    </tr>\n",
       "  </tbody>\n",
       "</table>\n",
       "</div>"
      ],
      "text/plain": [
       "  user_id session_date   mb_used gb_used\n",
       "                             sum        \n",
       "0    1000            5   2253.49     3.0\n",
       "1    1000            6  23233.77    23.0\n",
       "2    1000            7  14003.64    14.0\n",
       "3    1000            8  14055.93    14.0\n",
       "4    1000            9  14568.91    15.0\n",
       "5    1000           10  14702.49    15.0\n",
       "6    1000           11  14756.47    15.0\n",
       "7    1000           12   9817.61    10.0\n",
       "8    1001           11  18429.34    18.0\n",
       "9    1001           12  14036.66    14.0"
      ]
     },
     "execution_count": 29,
     "metadata": {},
     "output_type": "execute_result"
    }
   ],
   "source": [
    "# округление в большую сторону значения объёма трафика\n",
    "internet_sum['gb_used'] = internet_sum['gb_used'].apply(np.ceil)\n",
    "internet_sum.head(10)"
   ]
  },
  {
   "cell_type": "markdown",
   "metadata": {},
   "source": [
    "Переименуем столбцы и удалим трафик в мегабайтах."
   ]
  },
  {
   "cell_type": "code",
   "execution_count": 30,
   "metadata": {
    "scrolled": true
   },
   "outputs": [],
   "source": [
    "# переименование столбцов internet_sum\n",
    "internet_sum.columns = ['user_id', 'month', 'mb', 'gb']"
   ]
  },
  {
   "cell_type": "code",
   "execution_count": 31,
   "metadata": {
    "scrolled": true
   },
   "outputs": [
    {
     "data": {
      "text/html": [
       "<div>\n",
       "<style scoped>\n",
       "    .dataframe tbody tr th:only-of-type {\n",
       "        vertical-align: middle;\n",
       "    }\n",
       "\n",
       "    .dataframe tbody tr th {\n",
       "        vertical-align: top;\n",
       "    }\n",
       "\n",
       "    .dataframe thead th {\n",
       "        text-align: right;\n",
       "    }\n",
       "</style>\n",
       "<table border=\"1\" class=\"dataframe\">\n",
       "  <thead>\n",
       "    <tr style=\"text-align: right;\">\n",
       "      <th></th>\n",
       "      <th>user_id</th>\n",
       "      <th>month</th>\n",
       "      <th>gb</th>\n",
       "    </tr>\n",
       "  </thead>\n",
       "  <tbody>\n",
       "    <tr>\n",
       "      <th>0</th>\n",
       "      <td>1000</td>\n",
       "      <td>5</td>\n",
       "      <td>3.0</td>\n",
       "    </tr>\n",
       "    <tr>\n",
       "      <th>1</th>\n",
       "      <td>1000</td>\n",
       "      <td>6</td>\n",
       "      <td>23.0</td>\n",
       "    </tr>\n",
       "    <tr>\n",
       "      <th>2</th>\n",
       "      <td>1000</td>\n",
       "      <td>7</td>\n",
       "      <td>14.0</td>\n",
       "    </tr>\n",
       "    <tr>\n",
       "      <th>3</th>\n",
       "      <td>1000</td>\n",
       "      <td>8</td>\n",
       "      <td>14.0</td>\n",
       "    </tr>\n",
       "    <tr>\n",
       "      <th>4</th>\n",
       "      <td>1000</td>\n",
       "      <td>9</td>\n",
       "      <td>15.0</td>\n",
       "    </tr>\n",
       "  </tbody>\n",
       "</table>\n",
       "</div>"
      ],
      "text/plain": [
       "   user_id  month    gb\n",
       "0     1000      5   3.0\n",
       "1     1000      6  23.0\n",
       "2     1000      7  14.0\n",
       "3     1000      8  14.0\n",
       "4     1000      9  15.0"
      ]
     },
     "execution_count": 31,
     "metadata": {},
     "output_type": "execute_result"
    }
   ],
   "source": [
    "# удаление столбца mb\n",
    "internet_sum = internet_sum[['user_id', 'month', 'gb']]\n",
    "internet_sum.head()"
   ]
  },
  {
   "cell_type": "markdown",
   "metadata": {},
   "source": [
    "Итак, мы посчитали ключевые параметры пользовательского поведения в месяц. Теперь объединим данные таблиц `users`, `calls_sum`, `messages_sum`, `internet_sum` в сводную таблицу."
   ]
  },
  {
   "cell_type": "markdown",
   "metadata": {},
   "source": [
    "Сначала объединим таблицы со звонками, сообщениями и интернет-трафиком в таблицу `summary`."
   ]
  },
  {
   "cell_type": "code",
   "execution_count": 32,
   "metadata": {
    "scrolled": true
   },
   "outputs": [
    {
     "data": {
      "text/html": [
       "<div>\n",
       "<style scoped>\n",
       "    .dataframe tbody tr th:only-of-type {\n",
       "        vertical-align: middle;\n",
       "    }\n",
       "\n",
       "    .dataframe tbody tr th {\n",
       "        vertical-align: top;\n",
       "    }\n",
       "\n",
       "    .dataframe thead th {\n",
       "        text-align: right;\n",
       "    }\n",
       "</style>\n",
       "<table border=\"1\" class=\"dataframe\">\n",
       "  <thead>\n",
       "    <tr style=\"text-align: right;\">\n",
       "      <th></th>\n",
       "      <th>user_id</th>\n",
       "      <th>month</th>\n",
       "      <th>calls</th>\n",
       "      <th>minutes</th>\n",
       "      <th>call_mean</th>\n",
       "      <th>messages</th>\n",
       "      <th>gb</th>\n",
       "    </tr>\n",
       "  </thead>\n",
       "  <tbody>\n",
       "    <tr>\n",
       "      <th>0</th>\n",
       "      <td>1000</td>\n",
       "      <td>5</td>\n",
       "      <td>22.0</td>\n",
       "      <td>110.0</td>\n",
       "      <td>5.0</td>\n",
       "      <td>22.0</td>\n",
       "      <td>3.0</td>\n",
       "    </tr>\n",
       "    <tr>\n",
       "      <th>1</th>\n",
       "      <td>1000</td>\n",
       "      <td>6</td>\n",
       "      <td>43.0</td>\n",
       "      <td>258.0</td>\n",
       "      <td>6.0</td>\n",
       "      <td>60.0</td>\n",
       "      <td>23.0</td>\n",
       "    </tr>\n",
       "    <tr>\n",
       "      <th>2</th>\n",
       "      <td>1000</td>\n",
       "      <td>7</td>\n",
       "      <td>47.0</td>\n",
       "      <td>329.0</td>\n",
       "      <td>7.0</td>\n",
       "      <td>75.0</td>\n",
       "      <td>14.0</td>\n",
       "    </tr>\n",
       "    <tr>\n",
       "      <th>3</th>\n",
       "      <td>1000</td>\n",
       "      <td>8</td>\n",
       "      <td>52.0</td>\n",
       "      <td>416.0</td>\n",
       "      <td>8.0</td>\n",
       "      <td>81.0</td>\n",
       "      <td>14.0</td>\n",
       "    </tr>\n",
       "    <tr>\n",
       "      <th>4</th>\n",
       "      <td>1000</td>\n",
       "      <td>9</td>\n",
       "      <td>58.0</td>\n",
       "      <td>522.0</td>\n",
       "      <td>9.0</td>\n",
       "      <td>57.0</td>\n",
       "      <td>15.0</td>\n",
       "    </tr>\n",
       "    <tr>\n",
       "      <th>5</th>\n",
       "      <td>1000</td>\n",
       "      <td>10</td>\n",
       "      <td>57.0</td>\n",
       "      <td>570.0</td>\n",
       "      <td>10.0</td>\n",
       "      <td>73.0</td>\n",
       "      <td>15.0</td>\n",
       "    </tr>\n",
       "    <tr>\n",
       "      <th>6</th>\n",
       "      <td>1000</td>\n",
       "      <td>11</td>\n",
       "      <td>43.0</td>\n",
       "      <td>473.0</td>\n",
       "      <td>11.0</td>\n",
       "      <td>58.0</td>\n",
       "      <td>15.0</td>\n",
       "    </tr>\n",
       "    <tr>\n",
       "      <th>7</th>\n",
       "      <td>1000</td>\n",
       "      <td>12</td>\n",
       "      <td>46.0</td>\n",
       "      <td>552.0</td>\n",
       "      <td>12.0</td>\n",
       "      <td>70.0</td>\n",
       "      <td>10.0</td>\n",
       "    </tr>\n",
       "    <tr>\n",
       "      <th>8</th>\n",
       "      <td>1001</td>\n",
       "      <td>11</td>\n",
       "      <td>59.0</td>\n",
       "      <td>649.0</td>\n",
       "      <td>11.0</td>\n",
       "      <td>NaN</td>\n",
       "      <td>18.0</td>\n",
       "    </tr>\n",
       "    <tr>\n",
       "      <th>9</th>\n",
       "      <td>1001</td>\n",
       "      <td>12</td>\n",
       "      <td>63.0</td>\n",
       "      <td>756.0</td>\n",
       "      <td>12.0</td>\n",
       "      <td>NaN</td>\n",
       "      <td>14.0</td>\n",
       "    </tr>\n",
       "  </tbody>\n",
       "</table>\n",
       "</div>"
      ],
      "text/plain": [
       "   user_id  month  calls  minutes  call_mean  messages    gb\n",
       "0     1000      5   22.0    110.0        5.0      22.0   3.0\n",
       "1     1000      6   43.0    258.0        6.0      60.0  23.0\n",
       "2     1000      7   47.0    329.0        7.0      75.0  14.0\n",
       "3     1000      8   52.0    416.0        8.0      81.0  14.0\n",
       "4     1000      9   58.0    522.0        9.0      57.0  15.0\n",
       "5     1000     10   57.0    570.0       10.0      73.0  15.0\n",
       "6     1000     11   43.0    473.0       11.0      58.0  15.0\n",
       "7     1000     12   46.0    552.0       12.0      70.0  10.0\n",
       "8     1001     11   59.0    649.0       11.0       NaN  18.0\n",
       "9     1001     12   63.0    756.0       12.0       NaN  14.0"
      ]
     },
     "execution_count": 32,
     "metadata": {},
     "output_type": "execute_result"
    }
   ],
   "source": [
    "# создание таблицы summary на основе calls_sum, messages_sum и internet_sum\n",
    "summary = calls_sum\n",
    "summary = summary.merge(messages_sum, on = ['user_id', 'month'], how='outer')\n",
    "summary = summary.merge(internet_sum, on = ['user_id', 'month'], how='outer')\n",
    "summary.head(10)"
   ]
  },
  {
   "cell_type": "markdown",
   "metadata": {},
   "source": [
    "Оценим типы данных, числовые переменные и пропуски в полученной таблице `summary`."
   ]
  },
  {
   "cell_type": "code",
   "execution_count": 33,
   "metadata": {
    "scrolled": true
   },
   "outputs": [
    {
     "name": "stdout",
     "output_type": "stream",
     "text": [
      "<class 'pandas.core.frame.DataFrame'>\n",
      "Int64Index: 3214 entries, 0 to 3213\n",
      "Data columns (total 7 columns):\n",
      " #   Column     Non-Null Count  Dtype  \n",
      "---  ------     --------------  -----  \n",
      " 0   user_id    3214 non-null   int64  \n",
      " 1   month      3214 non-null   int64  \n",
      " 2   calls      3174 non-null   float64\n",
      " 3   minutes    3174 non-null   float64\n",
      " 4   call_mean  3174 non-null   float64\n",
      " 5   messages   2717 non-null   float64\n",
      " 6   gb         3203 non-null   float64\n",
      "dtypes: float64(5), int64(2)\n",
      "memory usage: 200.9 KB\n"
     ]
    }
   ],
   "source": [
    "# вывод информации о типах данных в таблице summary\n",
    "summary.info()"
   ]
  },
  {
   "cell_type": "code",
   "execution_count": 34,
   "metadata": {
    "scrolled": true
   },
   "outputs": [
    {
     "data": {
      "text/html": [
       "<div>\n",
       "<style scoped>\n",
       "    .dataframe tbody tr th:only-of-type {\n",
       "        vertical-align: middle;\n",
       "    }\n",
       "\n",
       "    .dataframe tbody tr th {\n",
       "        vertical-align: top;\n",
       "    }\n",
       "\n",
       "    .dataframe thead th {\n",
       "        text-align: right;\n",
       "    }\n",
       "</style>\n",
       "<table border=\"1\" class=\"dataframe\">\n",
       "  <thead>\n",
       "    <tr style=\"text-align: right;\">\n",
       "      <th></th>\n",
       "      <th>user_id</th>\n",
       "      <th>month</th>\n",
       "      <th>calls</th>\n",
       "      <th>minutes</th>\n",
       "      <th>call_mean</th>\n",
       "      <th>messages</th>\n",
       "      <th>gb</th>\n",
       "    </tr>\n",
       "  </thead>\n",
       "  <tbody>\n",
       "    <tr>\n",
       "      <th>count</th>\n",
       "      <td>3214.000000</td>\n",
       "      <td>3214.000000</td>\n",
       "      <td>3174.000000</td>\n",
       "      <td>3174.000000</td>\n",
       "      <td>3174.000000</td>\n",
       "      <td>2717.000000</td>\n",
       "      <td>3203.000000</td>\n",
       "    </tr>\n",
       "    <tr>\n",
       "      <th>mean</th>\n",
       "      <td>1251.590230</td>\n",
       "      <td>8.317362</td>\n",
       "      <td>63.833333</td>\n",
       "      <td>547.311279</td>\n",
       "      <td>8.311594</td>\n",
       "      <td>45.283769</td>\n",
       "      <td>17.358414</td>\n",
       "    </tr>\n",
       "    <tr>\n",
       "      <th>std</th>\n",
       "      <td>144.659172</td>\n",
       "      <td>2.905413</td>\n",
       "      <td>32.678036</td>\n",
       "      <td>361.673144</td>\n",
       "      <td>2.910625</td>\n",
       "      <td>35.051363</td>\n",
       "      <td>7.343379</td>\n",
       "    </tr>\n",
       "    <tr>\n",
       "      <th>min</th>\n",
       "      <td>1000.000000</td>\n",
       "      <td>1.000000</td>\n",
       "      <td>1.000000</td>\n",
       "      <td>1.000000</td>\n",
       "      <td>1.000000</td>\n",
       "      <td>1.000000</td>\n",
       "      <td>0.000000</td>\n",
       "    </tr>\n",
       "    <tr>\n",
       "      <th>25%</th>\n",
       "      <td>1125.000000</td>\n",
       "      <td>6.000000</td>\n",
       "      <td>41.000000</td>\n",
       "      <td>282.500000</td>\n",
       "      <td>6.000000</td>\n",
       "      <td>19.000000</td>\n",
       "      <td>13.000000</td>\n",
       "    </tr>\n",
       "    <tr>\n",
       "      <th>50%</th>\n",
       "      <td>1253.000000</td>\n",
       "      <td>9.000000</td>\n",
       "      <td>63.000000</td>\n",
       "      <td>495.000000</td>\n",
       "      <td>9.000000</td>\n",
       "      <td>38.000000</td>\n",
       "      <td>17.000000</td>\n",
       "    </tr>\n",
       "    <tr>\n",
       "      <th>75%</th>\n",
       "      <td>1378.750000</td>\n",
       "      <td>11.000000</td>\n",
       "      <td>83.000000</td>\n",
       "      <td>749.750000</td>\n",
       "      <td>11.000000</td>\n",
       "      <td>63.000000</td>\n",
       "      <td>21.000000</td>\n",
       "    </tr>\n",
       "    <tr>\n",
       "      <th>max</th>\n",
       "      <td>1499.000000</td>\n",
       "      <td>12.000000</td>\n",
       "      <td>244.000000</td>\n",
       "      <td>2928.000000</td>\n",
       "      <td>12.000000</td>\n",
       "      <td>224.000000</td>\n",
       "      <td>49.000000</td>\n",
       "    </tr>\n",
       "  </tbody>\n",
       "</table>\n",
       "</div>"
      ],
      "text/plain": [
       "           user_id        month        calls      minutes    call_mean  \\\n",
       "count  3214.000000  3214.000000  3174.000000  3174.000000  3174.000000   \n",
       "mean   1251.590230     8.317362    63.833333   547.311279     8.311594   \n",
       "std     144.659172     2.905413    32.678036   361.673144     2.910625   \n",
       "min    1000.000000     1.000000     1.000000     1.000000     1.000000   \n",
       "25%    1125.000000     6.000000    41.000000   282.500000     6.000000   \n",
       "50%    1253.000000     9.000000    63.000000   495.000000     9.000000   \n",
       "75%    1378.750000    11.000000    83.000000   749.750000    11.000000   \n",
       "max    1499.000000    12.000000   244.000000  2928.000000    12.000000   \n",
       "\n",
       "          messages           gb  \n",
       "count  2717.000000  3203.000000  \n",
       "mean     45.283769    17.358414  \n",
       "std      35.051363     7.343379  \n",
       "min       1.000000     0.000000  \n",
       "25%      19.000000    13.000000  \n",
       "50%      38.000000    17.000000  \n",
       "75%      63.000000    21.000000  \n",
       "max     224.000000    49.000000  "
      ]
     },
     "execution_count": 34,
     "metadata": {},
     "output_type": "execute_result"
    }
   ],
   "source": [
    "# оценка числовых переменных таблицы summary\n",
    "summary.describe()"
   ]
  },
  {
   "cell_type": "code",
   "execution_count": 35,
   "metadata": {
    "scrolled": true
   },
   "outputs": [
    {
     "data": {
      "text/plain": [
       "user_id        0\n",
       "month          0\n",
       "calls         40\n",
       "minutes       40\n",
       "call_mean     40\n",
       "messages     497\n",
       "gb            11\n",
       "dtype: int64"
      ]
     },
     "execution_count": 35,
     "metadata": {},
     "output_type": "execute_result"
    }
   ],
   "source": [
    "# подсчёт пропусков\n",
    "summary.isna().sum()"
   ]
  },
  {
   "cell_type": "markdown",
   "metadata": {},
   "source": [
    "Заменим пропуски в столбце `calls`, `minutes`, `call_mean`, `messages`, `gb` на нули и трансформируем тип данных в этих стоблцах из вещественного в целочисленный."
   ]
  },
  {
   "cell_type": "code",
   "execution_count": 36,
   "metadata": {},
   "outputs": [],
   "source": [
    "# замена пропущенных значений на ноль\n",
    "summary['calls'] = summary['calls'].fillna(0)\n",
    "summary['minutes'] = summary['minutes'].fillna(0)\n",
    "summary['call_mean'] = summary['call_mean'].fillna(0)\n",
    "summary['messages'] = summary['messages'].fillna(0)\n",
    "summary['gb'] = summary['gb'].fillna(0)"
   ]
  },
  {
   "cell_type": "code",
   "execution_count": 37,
   "metadata": {},
   "outputs": [],
   "source": [
    "# изменение типа данных с float64 на int64\n",
    "summary['calls'] = summary['calls'].astype('int64')\n",
    "summary['minutes'] = summary['minutes'].astype('int64')\n",
    "summary['call_mean'] = summary['call_mean'].astype('int64')\n",
    "summary['messages'] = summary['messages'].astype('int64')\n",
    "summary['gb'] = summary['gb'].astype('int64')"
   ]
  },
  {
   "cell_type": "markdown",
   "metadata": {},
   "source": [
    "Проверим полученный результат."
   ]
  },
  {
   "cell_type": "code",
   "execution_count": 38,
   "metadata": {
    "scrolled": true
   },
   "outputs": [
    {
     "name": "stdout",
     "output_type": "stream",
     "text": [
      "<class 'pandas.core.frame.DataFrame'>\n",
      "Int64Index: 3214 entries, 0 to 3213\n",
      "Data columns (total 7 columns):\n",
      " #   Column     Non-Null Count  Dtype\n",
      "---  ------     --------------  -----\n",
      " 0   user_id    3214 non-null   int64\n",
      " 1   month      3214 non-null   int64\n",
      " 2   calls      3214 non-null   int64\n",
      " 3   minutes    3214 non-null   int64\n",
      " 4   call_mean  3214 non-null   int64\n",
      " 5   messages   3214 non-null   int64\n",
      " 6   gb         3214 non-null   int64\n",
      "dtypes: int64(7)\n",
      "memory usage: 200.9 KB\n"
     ]
    }
   ],
   "source": [
    "# вывод информации о типах данных в таблице summary\n",
    "summary.info()"
   ]
  },
  {
   "cell_type": "markdown",
   "metadata": {},
   "source": [
    "Объединим полученные таблицы в одну `total`."
   ]
  },
  {
   "cell_type": "code",
   "execution_count": 68,
   "metadata": {},
   "outputs": [
    {
     "data": {
      "text/html": [
       "<div>\n",
       "<style scoped>\n",
       "    .dataframe tbody tr th:only-of-type {\n",
       "        vertical-align: middle;\n",
       "    }\n",
       "\n",
       "    .dataframe tbody tr th {\n",
       "        vertical-align: top;\n",
       "    }\n",
       "\n",
       "    .dataframe thead th {\n",
       "        text-align: right;\n",
       "    }\n",
       "</style>\n",
       "<table border=\"1\" class=\"dataframe\">\n",
       "  <thead>\n",
       "    <tr style=\"text-align: right;\">\n",
       "      <th></th>\n",
       "      <th>user_id</th>\n",
       "      <th>first_name</th>\n",
       "      <th>last_name</th>\n",
       "      <th>age</th>\n",
       "      <th>reg_date</th>\n",
       "      <th>churn_date</th>\n",
       "      <th>city</th>\n",
       "      <th>tariff</th>\n",
       "      <th>month</th>\n",
       "      <th>calls</th>\n",
       "      <th>minutes</th>\n",
       "      <th>call_mean</th>\n",
       "      <th>messages</th>\n",
       "      <th>gb</th>\n",
       "    </tr>\n",
       "  </thead>\n",
       "  <tbody>\n",
       "    <tr>\n",
       "      <th>0</th>\n",
       "      <td>1000</td>\n",
       "      <td>Рафаил</td>\n",
       "      <td>Верещагин</td>\n",
       "      <td>52</td>\n",
       "      <td>2018-05-25</td>\n",
       "      <td>NaN</td>\n",
       "      <td>Краснодар</td>\n",
       "      <td>ultra</td>\n",
       "      <td>5</td>\n",
       "      <td>22</td>\n",
       "      <td>110</td>\n",
       "      <td>5</td>\n",
       "      <td>22</td>\n",
       "      <td>3</td>\n",
       "    </tr>\n",
       "    <tr>\n",
       "      <th>1</th>\n",
       "      <td>1000</td>\n",
       "      <td>Рафаил</td>\n",
       "      <td>Верещагин</td>\n",
       "      <td>52</td>\n",
       "      <td>2018-05-25</td>\n",
       "      <td>NaN</td>\n",
       "      <td>Краснодар</td>\n",
       "      <td>ultra</td>\n",
       "      <td>6</td>\n",
       "      <td>43</td>\n",
       "      <td>258</td>\n",
       "      <td>6</td>\n",
       "      <td>60</td>\n",
       "      <td>23</td>\n",
       "    </tr>\n",
       "    <tr>\n",
       "      <th>2</th>\n",
       "      <td>1000</td>\n",
       "      <td>Рафаил</td>\n",
       "      <td>Верещагин</td>\n",
       "      <td>52</td>\n",
       "      <td>2018-05-25</td>\n",
       "      <td>NaN</td>\n",
       "      <td>Краснодар</td>\n",
       "      <td>ultra</td>\n",
       "      <td>7</td>\n",
       "      <td>47</td>\n",
       "      <td>329</td>\n",
       "      <td>7</td>\n",
       "      <td>75</td>\n",
       "      <td>14</td>\n",
       "    </tr>\n",
       "    <tr>\n",
       "      <th>3</th>\n",
       "      <td>1000</td>\n",
       "      <td>Рафаил</td>\n",
       "      <td>Верещагин</td>\n",
       "      <td>52</td>\n",
       "      <td>2018-05-25</td>\n",
       "      <td>NaN</td>\n",
       "      <td>Краснодар</td>\n",
       "      <td>ultra</td>\n",
       "      <td>8</td>\n",
       "      <td>52</td>\n",
       "      <td>416</td>\n",
       "      <td>8</td>\n",
       "      <td>81</td>\n",
       "      <td>14</td>\n",
       "    </tr>\n",
       "    <tr>\n",
       "      <th>4</th>\n",
       "      <td>1000</td>\n",
       "      <td>Рафаил</td>\n",
       "      <td>Верещагин</td>\n",
       "      <td>52</td>\n",
       "      <td>2018-05-25</td>\n",
       "      <td>NaN</td>\n",
       "      <td>Краснодар</td>\n",
       "      <td>ultra</td>\n",
       "      <td>9</td>\n",
       "      <td>58</td>\n",
       "      <td>522</td>\n",
       "      <td>9</td>\n",
       "      <td>57</td>\n",
       "      <td>15</td>\n",
       "    </tr>\n",
       "    <tr>\n",
       "      <th>...</th>\n",
       "      <td>...</td>\n",
       "      <td>...</td>\n",
       "      <td>...</td>\n",
       "      <td>...</td>\n",
       "      <td>...</td>\n",
       "      <td>...</td>\n",
       "      <td>...</td>\n",
       "      <td>...</td>\n",
       "      <td>...</td>\n",
       "      <td>...</td>\n",
       "      <td>...</td>\n",
       "      <td>...</td>\n",
       "      <td>...</td>\n",
       "      <td>...</td>\n",
       "    </tr>\n",
       "    <tr>\n",
       "      <th>3209</th>\n",
       "      <td>1489</td>\n",
       "      <td>Павел</td>\n",
       "      <td>Гончаров</td>\n",
       "      <td>35</td>\n",
       "      <td>2018-08-15</td>\n",
       "      <td>NaN</td>\n",
       "      <td>Санкт-Петербург</td>\n",
       "      <td>smart</td>\n",
       "      <td>9</td>\n",
       "      <td>0</td>\n",
       "      <td>0</td>\n",
       "      <td>0</td>\n",
       "      <td>32</td>\n",
       "      <td>17</td>\n",
       "    </tr>\n",
       "    <tr>\n",
       "      <th>3210</th>\n",
       "      <td>1489</td>\n",
       "      <td>Павел</td>\n",
       "      <td>Гончаров</td>\n",
       "      <td>35</td>\n",
       "      <td>2018-08-15</td>\n",
       "      <td>NaN</td>\n",
       "      <td>Санкт-Петербург</td>\n",
       "      <td>smart</td>\n",
       "      <td>10</td>\n",
       "      <td>0</td>\n",
       "      <td>0</td>\n",
       "      <td>0</td>\n",
       "      <td>21</td>\n",
       "      <td>20</td>\n",
       "    </tr>\n",
       "    <tr>\n",
       "      <th>3211</th>\n",
       "      <td>1489</td>\n",
       "      <td>Павел</td>\n",
       "      <td>Гончаров</td>\n",
       "      <td>35</td>\n",
       "      <td>2018-08-15</td>\n",
       "      <td>NaN</td>\n",
       "      <td>Санкт-Петербург</td>\n",
       "      <td>smart</td>\n",
       "      <td>11</td>\n",
       "      <td>0</td>\n",
       "      <td>0</td>\n",
       "      <td>0</td>\n",
       "      <td>20</td>\n",
       "      <td>18</td>\n",
       "    </tr>\n",
       "    <tr>\n",
       "      <th>3212</th>\n",
       "      <td>1489</td>\n",
       "      <td>Павел</td>\n",
       "      <td>Гончаров</td>\n",
       "      <td>35</td>\n",
       "      <td>2018-08-15</td>\n",
       "      <td>NaN</td>\n",
       "      <td>Санкт-Петербург</td>\n",
       "      <td>smart</td>\n",
       "      <td>12</td>\n",
       "      <td>0</td>\n",
       "      <td>0</td>\n",
       "      <td>0</td>\n",
       "      <td>35</td>\n",
       "      <td>17</td>\n",
       "    </tr>\n",
       "    <tr>\n",
       "      <th>3213</th>\n",
       "      <td>1476</td>\n",
       "      <td>Валентина</td>\n",
       "      <td>Семенова</td>\n",
       "      <td>50</td>\n",
       "      <td>2018-04-30</td>\n",
       "      <td>NaN</td>\n",
       "      <td>Москва</td>\n",
       "      <td>ultra</td>\n",
       "      <td>4</td>\n",
       "      <td>0</td>\n",
       "      <td>0</td>\n",
       "      <td>0</td>\n",
       "      <td>0</td>\n",
       "      <td>1</td>\n",
       "    </tr>\n",
       "  </tbody>\n",
       "</table>\n",
       "<p>3214 rows × 14 columns</p>\n",
       "</div>"
      ],
      "text/plain": [
       "      user_id first_name  last_name  age    reg_date churn_date  \\\n",
       "0        1000     Рафаил  Верещагин   52  2018-05-25        NaN   \n",
       "1        1000     Рафаил  Верещагин   52  2018-05-25        NaN   \n",
       "2        1000     Рафаил  Верещагин   52  2018-05-25        NaN   \n",
       "3        1000     Рафаил  Верещагин   52  2018-05-25        NaN   \n",
       "4        1000     Рафаил  Верещагин   52  2018-05-25        NaN   \n",
       "...       ...        ...        ...  ...         ...        ...   \n",
       "3209     1489      Павел   Гончаров   35  2018-08-15        NaN   \n",
       "3210     1489      Павел   Гончаров   35  2018-08-15        NaN   \n",
       "3211     1489      Павел   Гончаров   35  2018-08-15        NaN   \n",
       "3212     1489      Павел   Гончаров   35  2018-08-15        NaN   \n",
       "3213     1476  Валентина   Семенова   50  2018-04-30        NaN   \n",
       "\n",
       "                 city tariff  month  calls  minutes  call_mean  messages  gb  \n",
       "0           Краснодар  ultra      5     22      110          5        22   3  \n",
       "1           Краснодар  ultra      6     43      258          6        60  23  \n",
       "2           Краснодар  ultra      7     47      329          7        75  14  \n",
       "3           Краснодар  ultra      8     52      416          8        81  14  \n",
       "4           Краснодар  ultra      9     58      522          9        57  15  \n",
       "...               ...    ...    ...    ...      ...        ...       ...  ..  \n",
       "3209  Санкт-Петербург  smart      9      0        0          0        32  17  \n",
       "3210  Санкт-Петербург  smart     10      0        0          0        21  20  \n",
       "3211  Санкт-Петербург  smart     11      0        0          0        20  18  \n",
       "3212  Санкт-Петербург  smart     12      0        0          0        35  17  \n",
       "3213           Москва  ultra      4      0        0          0         0   1  \n",
       "\n",
       "[3214 rows x 14 columns]"
      ]
     },
     "execution_count": 68,
     "metadata": {},
     "output_type": "execute_result"
    }
   ],
   "source": [
    "# объединение таблиц users и summary\n",
    "total = users.merge(summary, on = 'user_id', how='outer')\n",
    "total"
   ]
  },
  {
   "cell_type": "markdown",
   "metadata": {
    "scrolled": true
   },
   "source": [
    "Теперь мы можем рассчитать месячную выручку компании по каждому клиенту. \n",
    "\n",
    "Для этого вычтем объём минут, смс и Гб, входящих в выбранный клиентом тариф, умножим остаток на цену сверхлимитного потребления и полученный перерасход `surcharge` сложим с ежемесячной абонплатой."
   ]
  },
  {
   "cell_type": "code",
   "execution_count": 69,
   "metadata": {},
   "outputs": [
    {
     "data": {
      "text/html": [
       "<div>\n",
       "<style scoped>\n",
       "    .dataframe tbody tr th:only-of-type {\n",
       "        vertical-align: middle;\n",
       "    }\n",
       "\n",
       "    .dataframe tbody tr th {\n",
       "        vertical-align: top;\n",
       "    }\n",
       "\n",
       "    .dataframe thead th {\n",
       "        text-align: right;\n",
       "    }\n",
       "</style>\n",
       "<table border=\"1\" class=\"dataframe\">\n",
       "  <thead>\n",
       "    <tr style=\"text-align: right;\">\n",
       "      <th></th>\n",
       "      <th>tariff_name</th>\n",
       "      <th>rub_monthly_fee</th>\n",
       "      <th>minutes_included</th>\n",
       "      <th>messages_included</th>\n",
       "      <th>mb_per_month_included</th>\n",
       "      <th>rub_per_minute</th>\n",
       "      <th>rub_per_message</th>\n",
       "      <th>rub_per_gb</th>\n",
       "    </tr>\n",
       "  </thead>\n",
       "  <tbody>\n",
       "    <tr>\n",
       "      <th>0</th>\n",
       "      <td>smart</td>\n",
       "      <td>550</td>\n",
       "      <td>500</td>\n",
       "      <td>50</td>\n",
       "      <td>15360</td>\n",
       "      <td>3</td>\n",
       "      <td>3</td>\n",
       "      <td>200</td>\n",
       "    </tr>\n",
       "    <tr>\n",
       "      <th>1</th>\n",
       "      <td>ultra</td>\n",
       "      <td>1950</td>\n",
       "      <td>3000</td>\n",
       "      <td>1000</td>\n",
       "      <td>30720</td>\n",
       "      <td>1</td>\n",
       "      <td>1</td>\n",
       "      <td>150</td>\n",
       "    </tr>\n",
       "  </tbody>\n",
       "</table>\n",
       "</div>"
      ],
      "text/plain": [
       "  tariff_name  rub_monthly_fee  minutes_included  messages_included  \\\n",
       "0       smart              550               500                 50   \n",
       "1       ultra             1950              3000               1000   \n",
       "\n",
       "   mb_per_month_included  rub_per_minute  rub_per_message  rub_per_gb  \n",
       "0                  15360               3                3         200  \n",
       "1                  30720               1                1         150  "
      ]
     },
     "execution_count": 69,
     "metadata": {},
     "output_type": "execute_result"
    }
   ],
   "source": [
    "# выведем на экран условия тарифных планов\n",
    "tariffs.head()"
   ]
  },
  {
   "cell_type": "code",
   "execution_count": 70,
   "metadata": {},
   "outputs": [],
   "source": [
    "# расчёт суммы расхода пользователя сверх месячной абонплаты\n",
    "def surcharge(row):\n",
    "    tariff = row['tariff']\n",
    "    minutes = row['minutes']\n",
    "    messages = row['messages']\n",
    "    gb = row['gb']\n",
    "    surcharge = 0\n",
    "    if tariff == 'smart':\n",
    "        if minutes > 500:\n",
    "            surcharge += (minutes - 500) * 3\n",
    "        if messages > 50:\n",
    "            surcharge += (messages - 50) * 3\n",
    "        if gb > 15360/1024:\n",
    "            surcharge += (gb - 15) * 200\n",
    "        return surcharge\n",
    "    else:\n",
    "        if minutes > 3000:\n",
    "            surcharge += (minutes - 3000) * 1\n",
    "        if messages > 1000:\n",
    "            surcharge += (messages - 1000) * 1\n",
    "        if gb > 30720/1024:\n",
    "            surcharge += (gb - 30) * 150\n",
    "        return surcharge\n",
    "total['surcharge'] = total.apply(surcharge, axis=1)"
   ]
  },
  {
   "cell_type": "markdown",
   "metadata": {},
   "source": [
    "Для расчёта совокупного расхода клиента к перерасходу добавим сумму месячной абонплаты. Полученный результат назовём `expenses`."
   ]
  },
  {
   "cell_type": "code",
   "execution_count": 71,
   "metadata": {},
   "outputs": [],
   "source": [
    "# расчёт суммы совокупного расхода пользователя в месяц\n",
    "def expenses(row):\n",
    "    tariff = row['tariff']\n",
    "    surcharge = row['surcharge']\n",
    "    expenses = 0\n",
    "    if tariff == 'smart':\n",
    "        expenses = surcharge + 550\n",
    "        return expenses\n",
    "    else:\n",
    "        expenses = surcharge + 1950\n",
    "        return expenses\n",
    "total['expenses'] = total.apply(expenses, axis=1)"
   ]
  },
  {
   "cell_type": "code",
   "execution_count": 72,
   "metadata": {
    "scrolled": false
   },
   "outputs": [
    {
     "data": {
      "text/html": [
       "<div>\n",
       "<style scoped>\n",
       "    .dataframe tbody tr th:only-of-type {\n",
       "        vertical-align: middle;\n",
       "    }\n",
       "\n",
       "    .dataframe tbody tr th {\n",
       "        vertical-align: top;\n",
       "    }\n",
       "\n",
       "    .dataframe thead th {\n",
       "        text-align: right;\n",
       "    }\n",
       "</style>\n",
       "<table border=\"1\" class=\"dataframe\">\n",
       "  <thead>\n",
       "    <tr style=\"text-align: right;\">\n",
       "      <th></th>\n",
       "      <th>user_id</th>\n",
       "      <th>first_name</th>\n",
       "      <th>last_name</th>\n",
       "      <th>age</th>\n",
       "      <th>reg_date</th>\n",
       "      <th>churn_date</th>\n",
       "      <th>city</th>\n",
       "      <th>tariff</th>\n",
       "      <th>month</th>\n",
       "      <th>calls</th>\n",
       "      <th>minutes</th>\n",
       "      <th>call_mean</th>\n",
       "      <th>messages</th>\n",
       "      <th>gb</th>\n",
       "      <th>surcharge</th>\n",
       "      <th>expenses</th>\n",
       "    </tr>\n",
       "  </thead>\n",
       "  <tbody>\n",
       "    <tr>\n",
       "      <th>0</th>\n",
       "      <td>1000</td>\n",
       "      <td>Рафаил</td>\n",
       "      <td>Верещагин</td>\n",
       "      <td>52</td>\n",
       "      <td>2018-05-25</td>\n",
       "      <td>NaN</td>\n",
       "      <td>Краснодар</td>\n",
       "      <td>ultra</td>\n",
       "      <td>5</td>\n",
       "      <td>22</td>\n",
       "      <td>110</td>\n",
       "      <td>5</td>\n",
       "      <td>22</td>\n",
       "      <td>3</td>\n",
       "      <td>0</td>\n",
       "      <td>1950</td>\n",
       "    </tr>\n",
       "    <tr>\n",
       "      <th>1</th>\n",
       "      <td>1000</td>\n",
       "      <td>Рафаил</td>\n",
       "      <td>Верещагин</td>\n",
       "      <td>52</td>\n",
       "      <td>2018-05-25</td>\n",
       "      <td>NaN</td>\n",
       "      <td>Краснодар</td>\n",
       "      <td>ultra</td>\n",
       "      <td>6</td>\n",
       "      <td>43</td>\n",
       "      <td>258</td>\n",
       "      <td>6</td>\n",
       "      <td>60</td>\n",
       "      <td>23</td>\n",
       "      <td>0</td>\n",
       "      <td>1950</td>\n",
       "    </tr>\n",
       "    <tr>\n",
       "      <th>2</th>\n",
       "      <td>1000</td>\n",
       "      <td>Рафаил</td>\n",
       "      <td>Верещагин</td>\n",
       "      <td>52</td>\n",
       "      <td>2018-05-25</td>\n",
       "      <td>NaN</td>\n",
       "      <td>Краснодар</td>\n",
       "      <td>ultra</td>\n",
       "      <td>7</td>\n",
       "      <td>47</td>\n",
       "      <td>329</td>\n",
       "      <td>7</td>\n",
       "      <td>75</td>\n",
       "      <td>14</td>\n",
       "      <td>0</td>\n",
       "      <td>1950</td>\n",
       "    </tr>\n",
       "    <tr>\n",
       "      <th>3</th>\n",
       "      <td>1000</td>\n",
       "      <td>Рафаил</td>\n",
       "      <td>Верещагин</td>\n",
       "      <td>52</td>\n",
       "      <td>2018-05-25</td>\n",
       "      <td>NaN</td>\n",
       "      <td>Краснодар</td>\n",
       "      <td>ultra</td>\n",
       "      <td>8</td>\n",
       "      <td>52</td>\n",
       "      <td>416</td>\n",
       "      <td>8</td>\n",
       "      <td>81</td>\n",
       "      <td>14</td>\n",
       "      <td>0</td>\n",
       "      <td>1950</td>\n",
       "    </tr>\n",
       "    <tr>\n",
       "      <th>4</th>\n",
       "      <td>1000</td>\n",
       "      <td>Рафаил</td>\n",
       "      <td>Верещагин</td>\n",
       "      <td>52</td>\n",
       "      <td>2018-05-25</td>\n",
       "      <td>NaN</td>\n",
       "      <td>Краснодар</td>\n",
       "      <td>ultra</td>\n",
       "      <td>9</td>\n",
       "      <td>58</td>\n",
       "      <td>522</td>\n",
       "      <td>9</td>\n",
       "      <td>57</td>\n",
       "      <td>15</td>\n",
       "      <td>0</td>\n",
       "      <td>1950</td>\n",
       "    </tr>\n",
       "    <tr>\n",
       "      <th>...</th>\n",
       "      <td>...</td>\n",
       "      <td>...</td>\n",
       "      <td>...</td>\n",
       "      <td>...</td>\n",
       "      <td>...</td>\n",
       "      <td>...</td>\n",
       "      <td>...</td>\n",
       "      <td>...</td>\n",
       "      <td>...</td>\n",
       "      <td>...</td>\n",
       "      <td>...</td>\n",
       "      <td>...</td>\n",
       "      <td>...</td>\n",
       "      <td>...</td>\n",
       "      <td>...</td>\n",
       "      <td>...</td>\n",
       "    </tr>\n",
       "    <tr>\n",
       "      <th>3209</th>\n",
       "      <td>1489</td>\n",
       "      <td>Павел</td>\n",
       "      <td>Гончаров</td>\n",
       "      <td>35</td>\n",
       "      <td>2018-08-15</td>\n",
       "      <td>NaN</td>\n",
       "      <td>Санкт-Петербург</td>\n",
       "      <td>smart</td>\n",
       "      <td>9</td>\n",
       "      <td>0</td>\n",
       "      <td>0</td>\n",
       "      <td>0</td>\n",
       "      <td>32</td>\n",
       "      <td>17</td>\n",
       "      <td>400</td>\n",
       "      <td>950</td>\n",
       "    </tr>\n",
       "    <tr>\n",
       "      <th>3210</th>\n",
       "      <td>1489</td>\n",
       "      <td>Павел</td>\n",
       "      <td>Гончаров</td>\n",
       "      <td>35</td>\n",
       "      <td>2018-08-15</td>\n",
       "      <td>NaN</td>\n",
       "      <td>Санкт-Петербург</td>\n",
       "      <td>smart</td>\n",
       "      <td>10</td>\n",
       "      <td>0</td>\n",
       "      <td>0</td>\n",
       "      <td>0</td>\n",
       "      <td>21</td>\n",
       "      <td>20</td>\n",
       "      <td>1000</td>\n",
       "      <td>1550</td>\n",
       "    </tr>\n",
       "    <tr>\n",
       "      <th>3211</th>\n",
       "      <td>1489</td>\n",
       "      <td>Павел</td>\n",
       "      <td>Гончаров</td>\n",
       "      <td>35</td>\n",
       "      <td>2018-08-15</td>\n",
       "      <td>NaN</td>\n",
       "      <td>Санкт-Петербург</td>\n",
       "      <td>smart</td>\n",
       "      <td>11</td>\n",
       "      <td>0</td>\n",
       "      <td>0</td>\n",
       "      <td>0</td>\n",
       "      <td>20</td>\n",
       "      <td>18</td>\n",
       "      <td>600</td>\n",
       "      <td>1150</td>\n",
       "    </tr>\n",
       "    <tr>\n",
       "      <th>3212</th>\n",
       "      <td>1489</td>\n",
       "      <td>Павел</td>\n",
       "      <td>Гончаров</td>\n",
       "      <td>35</td>\n",
       "      <td>2018-08-15</td>\n",
       "      <td>NaN</td>\n",
       "      <td>Санкт-Петербург</td>\n",
       "      <td>smart</td>\n",
       "      <td>12</td>\n",
       "      <td>0</td>\n",
       "      <td>0</td>\n",
       "      <td>0</td>\n",
       "      <td>35</td>\n",
       "      <td>17</td>\n",
       "      <td>400</td>\n",
       "      <td>950</td>\n",
       "    </tr>\n",
       "    <tr>\n",
       "      <th>3213</th>\n",
       "      <td>1476</td>\n",
       "      <td>Валентина</td>\n",
       "      <td>Семенова</td>\n",
       "      <td>50</td>\n",
       "      <td>2018-04-30</td>\n",
       "      <td>NaN</td>\n",
       "      <td>Москва</td>\n",
       "      <td>ultra</td>\n",
       "      <td>4</td>\n",
       "      <td>0</td>\n",
       "      <td>0</td>\n",
       "      <td>0</td>\n",
       "      <td>0</td>\n",
       "      <td>1</td>\n",
       "      <td>0</td>\n",
       "      <td>1950</td>\n",
       "    </tr>\n",
       "  </tbody>\n",
       "</table>\n",
       "<p>3214 rows × 16 columns</p>\n",
       "</div>"
      ],
      "text/plain": [
       "      user_id first_name  last_name  age    reg_date churn_date  \\\n",
       "0        1000     Рафаил  Верещагин   52  2018-05-25        NaN   \n",
       "1        1000     Рафаил  Верещагин   52  2018-05-25        NaN   \n",
       "2        1000     Рафаил  Верещагин   52  2018-05-25        NaN   \n",
       "3        1000     Рафаил  Верещагин   52  2018-05-25        NaN   \n",
       "4        1000     Рафаил  Верещагин   52  2018-05-25        NaN   \n",
       "...       ...        ...        ...  ...         ...        ...   \n",
       "3209     1489      Павел   Гончаров   35  2018-08-15        NaN   \n",
       "3210     1489      Павел   Гончаров   35  2018-08-15        NaN   \n",
       "3211     1489      Павел   Гончаров   35  2018-08-15        NaN   \n",
       "3212     1489      Павел   Гончаров   35  2018-08-15        NaN   \n",
       "3213     1476  Валентина   Семенова   50  2018-04-30        NaN   \n",
       "\n",
       "                 city tariff  month  calls  minutes  call_mean  messages  gb  \\\n",
       "0           Краснодар  ultra      5     22      110          5        22   3   \n",
       "1           Краснодар  ultra      6     43      258          6        60  23   \n",
       "2           Краснодар  ultra      7     47      329          7        75  14   \n",
       "3           Краснодар  ultra      8     52      416          8        81  14   \n",
       "4           Краснодар  ultra      9     58      522          9        57  15   \n",
       "...               ...    ...    ...    ...      ...        ...       ...  ..   \n",
       "3209  Санкт-Петербург  smart      9      0        0          0        32  17   \n",
       "3210  Санкт-Петербург  smart     10      0        0          0        21  20   \n",
       "3211  Санкт-Петербург  smart     11      0        0          0        20  18   \n",
       "3212  Санкт-Петербург  smart     12      0        0          0        35  17   \n",
       "3213           Москва  ultra      4      0        0          0         0   1   \n",
       "\n",
       "      surcharge  expenses  \n",
       "0             0      1950  \n",
       "1             0      1950  \n",
       "2             0      1950  \n",
       "3             0      1950  \n",
       "4             0      1950  \n",
       "...         ...       ...  \n",
       "3209        400       950  \n",
       "3210       1000      1550  \n",
       "3211        600      1150  \n",
       "3212        400       950  \n",
       "3213          0      1950  \n",
       "\n",
       "[3214 rows x 16 columns]"
      ]
     },
     "execution_count": 72,
     "metadata": {},
     "output_type": "execute_result"
    }
   ],
   "source": [
    "total"
   ]
  },
  {
   "cell_type": "markdown",
   "metadata": {},
   "source": [
    "Данные подготовлены, сводная таблица в разделе клиент - месяц сформирована, подсчитаны ключевые параметры пользовательского поведения за месяц. Теперь можем проводить анализ пользователей."
   ]
  },
  {
   "cell_type": "markdown",
   "metadata": {},
   "source": [
    "## Анализ пользовательского поведения"
   ]
  },
  {
   "cell_type": "code",
   "execution_count": 45,
   "metadata": {
    "scrolled": true
   },
   "outputs": [
    {
     "data": {
      "text/html": [
       "<div>\n",
       "<style scoped>\n",
       "    .dataframe tbody tr th:only-of-type {\n",
       "        vertical-align: middle;\n",
       "    }\n",
       "\n",
       "    .dataframe tbody tr th {\n",
       "        vertical-align: top;\n",
       "    }\n",
       "\n",
       "    .dataframe thead th {\n",
       "        text-align: right;\n",
       "    }\n",
       "</style>\n",
       "<table border=\"1\" class=\"dataframe\">\n",
       "  <thead>\n",
       "    <tr style=\"text-align: right;\">\n",
       "      <th></th>\n",
       "      <th>user_id</th>\n",
       "      <th>age</th>\n",
       "      <th>month</th>\n",
       "      <th>calls</th>\n",
       "      <th>minutes</th>\n",
       "      <th>call_mean</th>\n",
       "      <th>messages</th>\n",
       "      <th>gb</th>\n",
       "      <th>surcharge</th>\n",
       "      <th>expenses</th>\n",
       "    </tr>\n",
       "  </thead>\n",
       "  <tbody>\n",
       "    <tr>\n",
       "      <th>count</th>\n",
       "      <td>3216.000000</td>\n",
       "      <td>3216.000000</td>\n",
       "      <td>3214.000000</td>\n",
       "      <td>3214.000000</td>\n",
       "      <td>3214.000000</td>\n",
       "      <td>3214.000000</td>\n",
       "      <td>3214.000000</td>\n",
       "      <td>3214.000000</td>\n",
       "      <td>3216.000000</td>\n",
       "      <td>3216.000000</td>\n",
       "    </tr>\n",
       "    <tr>\n",
       "      <th>mean</th>\n",
       "      <td>1251.588930</td>\n",
       "      <td>46.643968</td>\n",
       "      <td>8.317362</td>\n",
       "      <td>63.038892</td>\n",
       "      <td>540.499689</td>\n",
       "      <td>8.208152</td>\n",
       "      <td>38.281269</td>\n",
       "      <td>17.299004</td>\n",
       "      <td>720.606654</td>\n",
       "      <td>1699.835510</td>\n",
       "    </tr>\n",
       "    <tr>\n",
       "      <th>std</th>\n",
       "      <td>144.645928</td>\n",
       "      <td>16.581233</td>\n",
       "      <td>2.905413</td>\n",
       "      <td>33.236368</td>\n",
       "      <td>364.502118</td>\n",
       "      <td>3.035722</td>\n",
       "      <td>36.148326</td>\n",
       "      <td>7.400584</td>\n",
       "      <td>976.954789</td>\n",
       "      <td>924.945185</td>\n",
       "    </tr>\n",
       "    <tr>\n",
       "      <th>min</th>\n",
       "      <td>1000.000000</td>\n",
       "      <td>18.000000</td>\n",
       "      <td>1.000000</td>\n",
       "      <td>0.000000</td>\n",
       "      <td>0.000000</td>\n",
       "      <td>0.000000</td>\n",
       "      <td>0.000000</td>\n",
       "      <td>0.000000</td>\n",
       "      <td>0.000000</td>\n",
       "      <td>550.000000</td>\n",
       "    </tr>\n",
       "    <tr>\n",
       "      <th>25%</th>\n",
       "      <td>1125.000000</td>\n",
       "      <td>32.000000</td>\n",
       "      <td>6.000000</td>\n",
       "      <td>40.000000</td>\n",
       "      <td>276.000000</td>\n",
       "      <td>6.000000</td>\n",
       "      <td>9.000000</td>\n",
       "      <td>13.000000</td>\n",
       "      <td>0.000000</td>\n",
       "      <td>950.000000</td>\n",
       "    </tr>\n",
       "    <tr>\n",
       "      <th>50%</th>\n",
       "      <td>1253.000000</td>\n",
       "      <td>46.000000</td>\n",
       "      <td>9.000000</td>\n",
       "      <td>62.000000</td>\n",
       "      <td>492.000000</td>\n",
       "      <td>9.000000</td>\n",
       "      <td>30.000000</td>\n",
       "      <td>17.000000</td>\n",
       "      <td>289.000000</td>\n",
       "      <td>1950.000000</td>\n",
       "    </tr>\n",
       "    <tr>\n",
       "      <th>75%</th>\n",
       "      <td>1378.250000</td>\n",
       "      <td>62.000000</td>\n",
       "      <td>11.000000</td>\n",
       "      <td>82.000000</td>\n",
       "      <td>744.000000</td>\n",
       "      <td>11.000000</td>\n",
       "      <td>57.000000</td>\n",
       "      <td>21.000000</td>\n",
       "      <td>1200.000000</td>\n",
       "      <td>1950.000000</td>\n",
       "    </tr>\n",
       "    <tr>\n",
       "      <th>max</th>\n",
       "      <td>1499.000000</td>\n",
       "      <td>75.000000</td>\n",
       "      <td>12.000000</td>\n",
       "      <td>244.000000</td>\n",
       "      <td>2928.000000</td>\n",
       "      <td>12.000000</td>\n",
       "      <td>224.000000</td>\n",
       "      <td>49.000000</td>\n",
       "      <td>7987.000000</td>\n",
       "      <td>8537.000000</td>\n",
       "    </tr>\n",
       "  </tbody>\n",
       "</table>\n",
       "</div>"
      ],
      "text/plain": [
       "           user_id          age        month        calls      minutes  \\\n",
       "count  3216.000000  3216.000000  3214.000000  3214.000000  3214.000000   \n",
       "mean   1251.588930    46.643968     8.317362    63.038892   540.499689   \n",
       "std     144.645928    16.581233     2.905413    33.236368   364.502118   \n",
       "min    1000.000000    18.000000     1.000000     0.000000     0.000000   \n",
       "25%    1125.000000    32.000000     6.000000    40.000000   276.000000   \n",
       "50%    1253.000000    46.000000     9.000000    62.000000   492.000000   \n",
       "75%    1378.250000    62.000000    11.000000    82.000000   744.000000   \n",
       "max    1499.000000    75.000000    12.000000   244.000000  2928.000000   \n",
       "\n",
       "         call_mean     messages           gb    surcharge     expenses  \n",
       "count  3214.000000  3214.000000  3214.000000  3216.000000  3216.000000  \n",
       "mean      8.208152    38.281269    17.299004   720.606654  1699.835510  \n",
       "std       3.035722    36.148326     7.400584   976.954789   924.945185  \n",
       "min       0.000000     0.000000     0.000000     0.000000   550.000000  \n",
       "25%       6.000000     9.000000    13.000000     0.000000   950.000000  \n",
       "50%       9.000000    30.000000    17.000000   289.000000  1950.000000  \n",
       "75%      11.000000    57.000000    21.000000  1200.000000  1950.000000  \n",
       "max      12.000000   224.000000    49.000000  7987.000000  8537.000000  "
      ]
     },
     "execution_count": 45,
     "metadata": {},
     "output_type": "execute_result"
    }
   ],
   "source": [
    "# оценка числовых переменных таблицы total\n",
    "total.describe()"
   ]
  },
  {
   "cell_type": "markdown",
   "metadata": {},
   "source": [
    "Итак, у нас данные о 500 пользователей \"Мегалайна\" в возрасте от 18 до 75 лет. Кто-то из них пользовался услугами компании весь год, кто-то - только один месяц. В среднем 1 пользователь совершал в месяц 64 звонка общей продолжительностью 547 минут, отправлял 38 смс-сообщений и использовал 17 Гб интернет-трафика. Однако некоторые совсем не пользовались интернетом и не отправляли сообщений, а некоторые говорили почти по 3000 минут в месяц, отправляли 224 смс-ки и использовали 49 Гб интернета. Клиенты \"Мегалайна\" очень разные."
   ]
  },
  {
   "cell_type": "markdown",
   "metadata": {},
   "source": [
    "Проанализируем поведение клиентов оператора в зависимости от их тарифа."
   ]
  },
  {
   "cell_type": "code",
   "execution_count": 46,
   "metadata": {},
   "outputs": [
    {
     "data": {
      "text/html": [
       "<div>\n",
       "<style scoped>\n",
       "    .dataframe tbody tr th:only-of-type {\n",
       "        vertical-align: middle;\n",
       "    }\n",
       "\n",
       "    .dataframe tbody tr th {\n",
       "        vertical-align: top;\n",
       "    }\n",
       "\n",
       "    .dataframe thead th {\n",
       "        text-align: right;\n",
       "    }\n",
       "</style>\n",
       "<table border=\"1\" class=\"dataframe\">\n",
       "  <thead>\n",
       "    <tr style=\"text-align: right;\">\n",
       "      <th></th>\n",
       "      <th>user_id</th>\n",
       "      <th>first_name</th>\n",
       "      <th>last_name</th>\n",
       "      <th>age</th>\n",
       "      <th>reg_date</th>\n",
       "      <th>churn_date</th>\n",
       "      <th>city</th>\n",
       "      <th>tariff</th>\n",
       "      <th>month</th>\n",
       "      <th>calls</th>\n",
       "      <th>minutes</th>\n",
       "      <th>call_mean</th>\n",
       "      <th>messages</th>\n",
       "      <th>gb</th>\n",
       "      <th>surcharge</th>\n",
       "      <th>expenses</th>\n",
       "    </tr>\n",
       "  </thead>\n",
       "  <tbody>\n",
       "    <tr>\n",
       "      <th>8</th>\n",
       "      <td>1001</td>\n",
       "      <td>Иван</td>\n",
       "      <td>Ежов</td>\n",
       "      <td>41</td>\n",
       "      <td>2018-11-01</td>\n",
       "      <td>NaN</td>\n",
       "      <td>Москва</td>\n",
       "      <td>smart</td>\n",
       "      <td>11.0</td>\n",
       "      <td>59.0</td>\n",
       "      <td>649.0</td>\n",
       "      <td>11.0</td>\n",
       "      <td>0.0</td>\n",
       "      <td>18.0</td>\n",
       "      <td>1047.0</td>\n",
       "      <td>1597.0</td>\n",
       "    </tr>\n",
       "    <tr>\n",
       "      <th>9</th>\n",
       "      <td>1001</td>\n",
       "      <td>Иван</td>\n",
       "      <td>Ежов</td>\n",
       "      <td>41</td>\n",
       "      <td>2018-11-01</td>\n",
       "      <td>NaN</td>\n",
       "      <td>Москва</td>\n",
       "      <td>smart</td>\n",
       "      <td>12.0</td>\n",
       "      <td>63.0</td>\n",
       "      <td>756.0</td>\n",
       "      <td>12.0</td>\n",
       "      <td>0.0</td>\n",
       "      <td>14.0</td>\n",
       "      <td>768.0</td>\n",
       "      <td>1318.0</td>\n",
       "    </tr>\n",
       "    <tr>\n",
       "      <th>10</th>\n",
       "      <td>1002</td>\n",
       "      <td>Евгений</td>\n",
       "      <td>Абрамович</td>\n",
       "      <td>59</td>\n",
       "      <td>2018-06-17</td>\n",
       "      <td>NaN</td>\n",
       "      <td>Стерлитамак</td>\n",
       "      <td>smart</td>\n",
       "      <td>6.0</td>\n",
       "      <td>15.0</td>\n",
       "      <td>90.0</td>\n",
       "      <td>6.0</td>\n",
       "      <td>4.0</td>\n",
       "      <td>11.0</td>\n",
       "      <td>0.0</td>\n",
       "      <td>550.0</td>\n",
       "    </tr>\n",
       "    <tr>\n",
       "      <th>11</th>\n",
       "      <td>1002</td>\n",
       "      <td>Евгений</td>\n",
       "      <td>Абрамович</td>\n",
       "      <td>59</td>\n",
       "      <td>2018-06-17</td>\n",
       "      <td>NaN</td>\n",
       "      <td>Стерлитамак</td>\n",
       "      <td>smart</td>\n",
       "      <td>7.0</td>\n",
       "      <td>26.0</td>\n",
       "      <td>182.0</td>\n",
       "      <td>7.0</td>\n",
       "      <td>11.0</td>\n",
       "      <td>18.0</td>\n",
       "      <td>600.0</td>\n",
       "      <td>1150.0</td>\n",
       "    </tr>\n",
       "    <tr>\n",
       "      <th>12</th>\n",
       "      <td>1002</td>\n",
       "      <td>Евгений</td>\n",
       "      <td>Абрамович</td>\n",
       "      <td>59</td>\n",
       "      <td>2018-06-17</td>\n",
       "      <td>NaN</td>\n",
       "      <td>Стерлитамак</td>\n",
       "      <td>smart</td>\n",
       "      <td>8.0</td>\n",
       "      <td>42.0</td>\n",
       "      <td>336.0</td>\n",
       "      <td>8.0</td>\n",
       "      <td>13.0</td>\n",
       "      <td>20.0</td>\n",
       "      <td>1000.0</td>\n",
       "      <td>1550.0</td>\n",
       "    </tr>\n",
       "    <tr>\n",
       "      <th>...</th>\n",
       "      <td>...</td>\n",
       "      <td>...</td>\n",
       "      <td>...</td>\n",
       "      <td>...</td>\n",
       "      <td>...</td>\n",
       "      <td>...</td>\n",
       "      <td>...</td>\n",
       "      <td>...</td>\n",
       "      <td>...</td>\n",
       "      <td>...</td>\n",
       "      <td>...</td>\n",
       "      <td>...</td>\n",
       "      <td>...</td>\n",
       "      <td>...</td>\n",
       "      <td>...</td>\n",
       "      <td>...</td>\n",
       "    </tr>\n",
       "    <tr>\n",
       "      <th>3211</th>\n",
       "      <td>1498</td>\n",
       "      <td>Всеволод</td>\n",
       "      <td>Акимчин</td>\n",
       "      <td>68</td>\n",
       "      <td>2018-07-19</td>\n",
       "      <td>2018-10-25</td>\n",
       "      <td>Владикавказ</td>\n",
       "      <td>smart</td>\n",
       "      <td>10.0</td>\n",
       "      <td>41.0</td>\n",
       "      <td>410.0</td>\n",
       "      <td>10.0</td>\n",
       "      <td>42.0</td>\n",
       "      <td>21.0</td>\n",
       "      <td>1200.0</td>\n",
       "      <td>1750.0</td>\n",
       "    </tr>\n",
       "    <tr>\n",
       "      <th>3212</th>\n",
       "      <td>1499</td>\n",
       "      <td>Гектор</td>\n",
       "      <td>Корнилов</td>\n",
       "      <td>35</td>\n",
       "      <td>2018-09-27</td>\n",
       "      <td>NaN</td>\n",
       "      <td>Пермь</td>\n",
       "      <td>smart</td>\n",
       "      <td>9.0</td>\n",
       "      <td>9.0</td>\n",
       "      <td>81.0</td>\n",
       "      <td>9.0</td>\n",
       "      <td>11.0</td>\n",
       "      <td>2.0</td>\n",
       "      <td>0.0</td>\n",
       "      <td>550.0</td>\n",
       "    </tr>\n",
       "    <tr>\n",
       "      <th>3213</th>\n",
       "      <td>1499</td>\n",
       "      <td>Гектор</td>\n",
       "      <td>Корнилов</td>\n",
       "      <td>35</td>\n",
       "      <td>2018-09-27</td>\n",
       "      <td>NaN</td>\n",
       "      <td>Пермь</td>\n",
       "      <td>smart</td>\n",
       "      <td>10.0</td>\n",
       "      <td>68.0</td>\n",
       "      <td>680.0</td>\n",
       "      <td>10.0</td>\n",
       "      <td>48.0</td>\n",
       "      <td>18.0</td>\n",
       "      <td>1140.0</td>\n",
       "      <td>1690.0</td>\n",
       "    </tr>\n",
       "    <tr>\n",
       "      <th>3214</th>\n",
       "      <td>1499</td>\n",
       "      <td>Гектор</td>\n",
       "      <td>Корнилов</td>\n",
       "      <td>35</td>\n",
       "      <td>2018-09-27</td>\n",
       "      <td>NaN</td>\n",
       "      <td>Пермь</td>\n",
       "      <td>smart</td>\n",
       "      <td>11.0</td>\n",
       "      <td>74.0</td>\n",
       "      <td>814.0</td>\n",
       "      <td>11.0</td>\n",
       "      <td>59.0</td>\n",
       "      <td>18.0</td>\n",
       "      <td>1569.0</td>\n",
       "      <td>2119.0</td>\n",
       "    </tr>\n",
       "    <tr>\n",
       "      <th>3215</th>\n",
       "      <td>1499</td>\n",
       "      <td>Гектор</td>\n",
       "      <td>Корнилов</td>\n",
       "      <td>35</td>\n",
       "      <td>2018-09-27</td>\n",
       "      <td>NaN</td>\n",
       "      <td>Пермь</td>\n",
       "      <td>smart</td>\n",
       "      <td>12.0</td>\n",
       "      <td>69.0</td>\n",
       "      <td>828.0</td>\n",
       "      <td>12.0</td>\n",
       "      <td>66.0</td>\n",
       "      <td>13.0</td>\n",
       "      <td>1032.0</td>\n",
       "      <td>1582.0</td>\n",
       "    </tr>\n",
       "  </tbody>\n",
       "</table>\n",
       "<p>2230 rows × 16 columns</p>\n",
       "</div>"
      ],
      "text/plain": [
       "      user_id first_name  last_name  age    reg_date  churn_date         city  \\\n",
       "8        1001       Иван       Ежов   41  2018-11-01         NaN       Москва   \n",
       "9        1001       Иван       Ежов   41  2018-11-01         NaN       Москва   \n",
       "10       1002    Евгений  Абрамович   59  2018-06-17         NaN  Стерлитамак   \n",
       "11       1002    Евгений  Абрамович   59  2018-06-17         NaN  Стерлитамак   \n",
       "12       1002    Евгений  Абрамович   59  2018-06-17         NaN  Стерлитамак   \n",
       "...       ...        ...        ...  ...         ...         ...          ...   \n",
       "3211     1498   Всеволод    Акимчин   68  2018-07-19  2018-10-25  Владикавказ   \n",
       "3212     1499     Гектор   Корнилов   35  2018-09-27         NaN        Пермь   \n",
       "3213     1499     Гектор   Корнилов   35  2018-09-27         NaN        Пермь   \n",
       "3214     1499     Гектор   Корнилов   35  2018-09-27         NaN        Пермь   \n",
       "3215     1499     Гектор   Корнилов   35  2018-09-27         NaN        Пермь   \n",
       "\n",
       "     tariff  month  calls  minutes  call_mean  messages    gb  surcharge  \\\n",
       "8     smart   11.0   59.0    649.0       11.0       0.0  18.0     1047.0   \n",
       "9     smart   12.0   63.0    756.0       12.0       0.0  14.0      768.0   \n",
       "10    smart    6.0   15.0     90.0        6.0       4.0  11.0        0.0   \n",
       "11    smart    7.0   26.0    182.0        7.0      11.0  18.0      600.0   \n",
       "12    smart    8.0   42.0    336.0        8.0      13.0  20.0     1000.0   \n",
       "...     ...    ...    ...      ...        ...       ...   ...        ...   \n",
       "3211  smart   10.0   41.0    410.0       10.0      42.0  21.0     1200.0   \n",
       "3212  smart    9.0    9.0     81.0        9.0      11.0   2.0        0.0   \n",
       "3213  smart   10.0   68.0    680.0       10.0      48.0  18.0     1140.0   \n",
       "3214  smart   11.0   74.0    814.0       11.0      59.0  18.0     1569.0   \n",
       "3215  smart   12.0   69.0    828.0       12.0      66.0  13.0     1032.0   \n",
       "\n",
       "      expenses  \n",
       "8       1597.0  \n",
       "9       1318.0  \n",
       "10       550.0  \n",
       "11      1150.0  \n",
       "12      1550.0  \n",
       "...        ...  \n",
       "3211    1750.0  \n",
       "3212     550.0  \n",
       "3213    1690.0  \n",
       "3214    2119.0  \n",
       "3215    1582.0  \n",
       "\n",
       "[2230 rows x 16 columns]"
      ]
     },
     "execution_count": 46,
     "metadata": {},
     "output_type": "execute_result"
    }
   ],
   "source": [
    "# создадим таблицу с пользователями тарифа smart\n",
    "total_smart = total.query('tariff == \"smart\"')\n",
    "total_smart"
   ]
  },
  {
   "cell_type": "code",
   "execution_count": 47,
   "metadata": {},
   "outputs": [
    {
     "data": {
      "text/html": [
       "<div>\n",
       "<style scoped>\n",
       "    .dataframe tbody tr th:only-of-type {\n",
       "        vertical-align: middle;\n",
       "    }\n",
       "\n",
       "    .dataframe tbody tr th {\n",
       "        vertical-align: top;\n",
       "    }\n",
       "\n",
       "    .dataframe thead th {\n",
       "        text-align: right;\n",
       "    }\n",
       "</style>\n",
       "<table border=\"1\" class=\"dataframe\">\n",
       "  <thead>\n",
       "    <tr style=\"text-align: right;\">\n",
       "      <th></th>\n",
       "      <th>user_id</th>\n",
       "      <th>first_name</th>\n",
       "      <th>last_name</th>\n",
       "      <th>age</th>\n",
       "      <th>reg_date</th>\n",
       "      <th>churn_date</th>\n",
       "      <th>city</th>\n",
       "      <th>tariff</th>\n",
       "      <th>month</th>\n",
       "      <th>calls</th>\n",
       "      <th>minutes</th>\n",
       "      <th>call_mean</th>\n",
       "      <th>messages</th>\n",
       "      <th>gb</th>\n",
       "      <th>surcharge</th>\n",
       "      <th>expenses</th>\n",
       "    </tr>\n",
       "  </thead>\n",
       "  <tbody>\n",
       "    <tr>\n",
       "      <th>0</th>\n",
       "      <td>1000</td>\n",
       "      <td>Рафаил</td>\n",
       "      <td>Верещагин</td>\n",
       "      <td>52</td>\n",
       "      <td>2018-05-25</td>\n",
       "      <td>NaN</td>\n",
       "      <td>Краснодар</td>\n",
       "      <td>ultra</td>\n",
       "      <td>5.0</td>\n",
       "      <td>22.0</td>\n",
       "      <td>110.0</td>\n",
       "      <td>5.0</td>\n",
       "      <td>22.0</td>\n",
       "      <td>3.0</td>\n",
       "      <td>0.0</td>\n",
       "      <td>1950.0</td>\n",
       "    </tr>\n",
       "    <tr>\n",
       "      <th>1</th>\n",
       "      <td>1000</td>\n",
       "      <td>Рафаил</td>\n",
       "      <td>Верещагин</td>\n",
       "      <td>52</td>\n",
       "      <td>2018-05-25</td>\n",
       "      <td>NaN</td>\n",
       "      <td>Краснодар</td>\n",
       "      <td>ultra</td>\n",
       "      <td>6.0</td>\n",
       "      <td>43.0</td>\n",
       "      <td>258.0</td>\n",
       "      <td>6.0</td>\n",
       "      <td>60.0</td>\n",
       "      <td>23.0</td>\n",
       "      <td>0.0</td>\n",
       "      <td>1950.0</td>\n",
       "    </tr>\n",
       "    <tr>\n",
       "      <th>2</th>\n",
       "      <td>1000</td>\n",
       "      <td>Рафаил</td>\n",
       "      <td>Верещагин</td>\n",
       "      <td>52</td>\n",
       "      <td>2018-05-25</td>\n",
       "      <td>NaN</td>\n",
       "      <td>Краснодар</td>\n",
       "      <td>ultra</td>\n",
       "      <td>7.0</td>\n",
       "      <td>47.0</td>\n",
       "      <td>329.0</td>\n",
       "      <td>7.0</td>\n",
       "      <td>75.0</td>\n",
       "      <td>14.0</td>\n",
       "      <td>0.0</td>\n",
       "      <td>1950.0</td>\n",
       "    </tr>\n",
       "    <tr>\n",
       "      <th>3</th>\n",
       "      <td>1000</td>\n",
       "      <td>Рафаил</td>\n",
       "      <td>Верещагин</td>\n",
       "      <td>52</td>\n",
       "      <td>2018-05-25</td>\n",
       "      <td>NaN</td>\n",
       "      <td>Краснодар</td>\n",
       "      <td>ultra</td>\n",
       "      <td>8.0</td>\n",
       "      <td>52.0</td>\n",
       "      <td>416.0</td>\n",
       "      <td>8.0</td>\n",
       "      <td>81.0</td>\n",
       "      <td>14.0</td>\n",
       "      <td>0.0</td>\n",
       "      <td>1950.0</td>\n",
       "    </tr>\n",
       "    <tr>\n",
       "      <th>4</th>\n",
       "      <td>1000</td>\n",
       "      <td>Рафаил</td>\n",
       "      <td>Верещагин</td>\n",
       "      <td>52</td>\n",
       "      <td>2018-05-25</td>\n",
       "      <td>NaN</td>\n",
       "      <td>Краснодар</td>\n",
       "      <td>ultra</td>\n",
       "      <td>9.0</td>\n",
       "      <td>58.0</td>\n",
       "      <td>522.0</td>\n",
       "      <td>9.0</td>\n",
       "      <td>57.0</td>\n",
       "      <td>15.0</td>\n",
       "      <td>0.0</td>\n",
       "      <td>1950.0</td>\n",
       "    </tr>\n",
       "    <tr>\n",
       "      <th>...</th>\n",
       "      <td>...</td>\n",
       "      <td>...</td>\n",
       "      <td>...</td>\n",
       "      <td>...</td>\n",
       "      <td>...</td>\n",
       "      <td>...</td>\n",
       "      <td>...</td>\n",
       "      <td>...</td>\n",
       "      <td>...</td>\n",
       "      <td>...</td>\n",
       "      <td>...</td>\n",
       "      <td>...</td>\n",
       "      <td>...</td>\n",
       "      <td>...</td>\n",
       "      <td>...</td>\n",
       "      <td>...</td>\n",
       "    </tr>\n",
       "    <tr>\n",
       "      <th>3188</th>\n",
       "      <td>1495</td>\n",
       "      <td>Авксентий</td>\n",
       "      <td>Фокин</td>\n",
       "      <td>65</td>\n",
       "      <td>2018-08-28</td>\n",
       "      <td>NaN</td>\n",
       "      <td>Иркутск</td>\n",
       "      <td>ultra</td>\n",
       "      <td>8.0</td>\n",
       "      <td>17.0</td>\n",
       "      <td>136.0</td>\n",
       "      <td>8.0</td>\n",
       "      <td>13.0</td>\n",
       "      <td>3.0</td>\n",
       "      <td>0.0</td>\n",
       "      <td>1950.0</td>\n",
       "    </tr>\n",
       "    <tr>\n",
       "      <th>3189</th>\n",
       "      <td>1495</td>\n",
       "      <td>Авксентий</td>\n",
       "      <td>Фокин</td>\n",
       "      <td>65</td>\n",
       "      <td>2018-08-28</td>\n",
       "      <td>NaN</td>\n",
       "      <td>Иркутск</td>\n",
       "      <td>ultra</td>\n",
       "      <td>9.0</td>\n",
       "      <td>112.0</td>\n",
       "      <td>1008.0</td>\n",
       "      <td>9.0</td>\n",
       "      <td>82.0</td>\n",
       "      <td>33.0</td>\n",
       "      <td>450.0</td>\n",
       "      <td>2400.0</td>\n",
       "    </tr>\n",
       "    <tr>\n",
       "      <th>3190</th>\n",
       "      <td>1495</td>\n",
       "      <td>Авксентий</td>\n",
       "      <td>Фокин</td>\n",
       "      <td>65</td>\n",
       "      <td>2018-08-28</td>\n",
       "      <td>NaN</td>\n",
       "      <td>Иркутск</td>\n",
       "      <td>ultra</td>\n",
       "      <td>10.0</td>\n",
       "      <td>152.0</td>\n",
       "      <td>1520.0</td>\n",
       "      <td>10.0</td>\n",
       "      <td>82.0</td>\n",
       "      <td>29.0</td>\n",
       "      <td>0.0</td>\n",
       "      <td>1950.0</td>\n",
       "    </tr>\n",
       "    <tr>\n",
       "      <th>3191</th>\n",
       "      <td>1495</td>\n",
       "      <td>Авксентий</td>\n",
       "      <td>Фокин</td>\n",
       "      <td>65</td>\n",
       "      <td>2018-08-28</td>\n",
       "      <td>NaN</td>\n",
       "      <td>Иркутск</td>\n",
       "      <td>ultra</td>\n",
       "      <td>11.0</td>\n",
       "      <td>129.0</td>\n",
       "      <td>1419.0</td>\n",
       "      <td>11.0</td>\n",
       "      <td>79.0</td>\n",
       "      <td>39.0</td>\n",
       "      <td>1350.0</td>\n",
       "      <td>3300.0</td>\n",
       "    </tr>\n",
       "    <tr>\n",
       "      <th>3192</th>\n",
       "      <td>1495</td>\n",
       "      <td>Авксентий</td>\n",
       "      <td>Фокин</td>\n",
       "      <td>65</td>\n",
       "      <td>2018-08-28</td>\n",
       "      <td>NaN</td>\n",
       "      <td>Иркутск</td>\n",
       "      <td>ultra</td>\n",
       "      <td>12.0</td>\n",
       "      <td>155.0</td>\n",
       "      <td>1860.0</td>\n",
       "      <td>12.0</td>\n",
       "      <td>84.0</td>\n",
       "      <td>23.0</td>\n",
       "      <td>0.0</td>\n",
       "      <td>1950.0</td>\n",
       "    </tr>\n",
       "  </tbody>\n",
       "</table>\n",
       "<p>986 rows × 16 columns</p>\n",
       "</div>"
      ],
      "text/plain": [
       "      user_id first_name  last_name  age    reg_date churn_date       city  \\\n",
       "0        1000     Рафаил  Верещагин   52  2018-05-25        NaN  Краснодар   \n",
       "1        1000     Рафаил  Верещагин   52  2018-05-25        NaN  Краснодар   \n",
       "2        1000     Рафаил  Верещагин   52  2018-05-25        NaN  Краснодар   \n",
       "3        1000     Рафаил  Верещагин   52  2018-05-25        NaN  Краснодар   \n",
       "4        1000     Рафаил  Верещагин   52  2018-05-25        NaN  Краснодар   \n",
       "...       ...        ...        ...  ...         ...        ...        ...   \n",
       "3188     1495  Авксентий      Фокин   65  2018-08-28        NaN    Иркутск   \n",
       "3189     1495  Авксентий      Фокин   65  2018-08-28        NaN    Иркутск   \n",
       "3190     1495  Авксентий      Фокин   65  2018-08-28        NaN    Иркутск   \n",
       "3191     1495  Авксентий      Фокин   65  2018-08-28        NaN    Иркутск   \n",
       "3192     1495  Авксентий      Фокин   65  2018-08-28        NaN    Иркутск   \n",
       "\n",
       "     tariff  month  calls  minutes  call_mean  messages    gb  surcharge  \\\n",
       "0     ultra    5.0   22.0    110.0        5.0      22.0   3.0        0.0   \n",
       "1     ultra    6.0   43.0    258.0        6.0      60.0  23.0        0.0   \n",
       "2     ultra    7.0   47.0    329.0        7.0      75.0  14.0        0.0   \n",
       "3     ultra    8.0   52.0    416.0        8.0      81.0  14.0        0.0   \n",
       "4     ultra    9.0   58.0    522.0        9.0      57.0  15.0        0.0   \n",
       "...     ...    ...    ...      ...        ...       ...   ...        ...   \n",
       "3188  ultra    8.0   17.0    136.0        8.0      13.0   3.0        0.0   \n",
       "3189  ultra    9.0  112.0   1008.0        9.0      82.0  33.0      450.0   \n",
       "3190  ultra   10.0  152.0   1520.0       10.0      82.0  29.0        0.0   \n",
       "3191  ultra   11.0  129.0   1419.0       11.0      79.0  39.0     1350.0   \n",
       "3192  ultra   12.0  155.0   1860.0       12.0      84.0  23.0        0.0   \n",
       "\n",
       "      expenses  \n",
       "0       1950.0  \n",
       "1       1950.0  \n",
       "2       1950.0  \n",
       "3       1950.0  \n",
       "4       1950.0  \n",
       "...        ...  \n",
       "3188    1950.0  \n",
       "3189    2400.0  \n",
       "3190    1950.0  \n",
       "3191    3300.0  \n",
       "3192    1950.0  \n",
       "\n",
       "[986 rows x 16 columns]"
      ]
     },
     "execution_count": 47,
     "metadata": {},
     "output_type": "execute_result"
    }
   ],
   "source": [
    "# создадим таблицу с пользователями тарифа ultra\n",
    "total_ultra = total.query('tariff == \"ultra\"')\n",
    "total_ultra"
   ]
  },
  {
   "cell_type": "markdown",
   "metadata": {},
   "source": [
    "Оценим числовые переменные каждой из двух выборок."
   ]
  },
  {
   "cell_type": "code",
   "execution_count": 48,
   "metadata": {
    "scrolled": true
   },
   "outputs": [
    {
     "data": {
      "text/html": [
       "<div>\n",
       "<style scoped>\n",
       "    .dataframe tbody tr th:only-of-type {\n",
       "        vertical-align: middle;\n",
       "    }\n",
       "\n",
       "    .dataframe tbody tr th {\n",
       "        vertical-align: top;\n",
       "    }\n",
       "\n",
       "    .dataframe thead th {\n",
       "        text-align: right;\n",
       "    }\n",
       "</style>\n",
       "<table border=\"1\" class=\"dataframe\">\n",
       "  <thead>\n",
       "    <tr style=\"text-align: right;\">\n",
       "      <th></th>\n",
       "      <th>user_id</th>\n",
       "      <th>age</th>\n",
       "      <th>month</th>\n",
       "      <th>calls</th>\n",
       "      <th>minutes</th>\n",
       "      <th>call_mean</th>\n",
       "      <th>messages</th>\n",
       "      <th>gb</th>\n",
       "      <th>surcharge</th>\n",
       "      <th>expenses</th>\n",
       "    </tr>\n",
       "  </thead>\n",
       "  <tbody>\n",
       "    <tr>\n",
       "      <th>count</th>\n",
       "      <td>2230.000000</td>\n",
       "      <td>2230.000000</td>\n",
       "      <td>2229.000000</td>\n",
       "      <td>2229.000000</td>\n",
       "      <td>2229.000000</td>\n",
       "      <td>2229.000000</td>\n",
       "      <td>2229.000000</td>\n",
       "      <td>2229.000000</td>\n",
       "      <td>2230.000000</td>\n",
       "      <td>2230.000000</td>\n",
       "    </tr>\n",
       "    <tr>\n",
       "      <th>mean</th>\n",
       "      <td>1246.562332</td>\n",
       "      <td>46.557848</td>\n",
       "      <td>8.346792</td>\n",
       "      <td>58.463437</td>\n",
       "      <td>504.138179</td>\n",
       "      <td>8.321669</td>\n",
       "      <td>33.384029</td>\n",
       "      <td>16.328847</td>\n",
       "      <td>986.152915</td>\n",
       "      <td>1536.152915</td>\n",
       "    </tr>\n",
       "    <tr>\n",
       "      <th>std</th>\n",
       "      <td>146.110501</td>\n",
       "      <td>16.349865</td>\n",
       "      <td>2.920316</td>\n",
       "      <td>25.939858</td>\n",
       "      <td>304.117674</td>\n",
       "      <td>2.949939</td>\n",
       "      <td>28.227876</td>\n",
       "      <td>5.747061</td>\n",
       "      <td>1041.182004</td>\n",
       "      <td>1041.182004</td>\n",
       "    </tr>\n",
       "    <tr>\n",
       "      <th>min</th>\n",
       "      <td>1001.000000</td>\n",
       "      <td>18.000000</td>\n",
       "      <td>1.000000</td>\n",
       "      <td>0.000000</td>\n",
       "      <td>0.000000</td>\n",
       "      <td>0.000000</td>\n",
       "      <td>0.000000</td>\n",
       "      <td>0.000000</td>\n",
       "      <td>0.000000</td>\n",
       "      <td>550.000000</td>\n",
       "    </tr>\n",
       "    <tr>\n",
       "      <th>25%</th>\n",
       "      <td>1121.000000</td>\n",
       "      <td>32.000000</td>\n",
       "      <td>6.000000</td>\n",
       "      <td>40.000000</td>\n",
       "      <td>280.000000</td>\n",
       "      <td>6.000000</td>\n",
       "      <td>10.000000</td>\n",
       "      <td>13.000000</td>\n",
       "      <td>66.750000</td>\n",
       "      <td>616.750000</td>\n",
       "    </tr>\n",
       "    <tr>\n",
       "      <th>50%</th>\n",
       "      <td>1240.000000</td>\n",
       "      <td>47.000000</td>\n",
       "      <td>9.000000</td>\n",
       "      <td>60.000000</td>\n",
       "      <td>480.000000</td>\n",
       "      <td>9.000000</td>\n",
       "      <td>28.000000</td>\n",
       "      <td>17.000000</td>\n",
       "      <td>750.000000</td>\n",
       "      <td>1300.000000</td>\n",
       "    </tr>\n",
       "    <tr>\n",
       "      <th>75%</th>\n",
       "      <td>1376.000000</td>\n",
       "      <td>62.000000</td>\n",
       "      <td>11.000000</td>\n",
       "      <td>76.000000</td>\n",
       "      <td>693.000000</td>\n",
       "      <td>11.000000</td>\n",
       "      <td>51.000000</td>\n",
       "      <td>20.000000</td>\n",
       "      <td>1526.750000</td>\n",
       "      <td>2076.750000</td>\n",
       "    </tr>\n",
       "    <tr>\n",
       "      <th>max</th>\n",
       "      <td>1499.000000</td>\n",
       "      <td>75.000000</td>\n",
       "      <td>12.000000</td>\n",
       "      <td>198.000000</td>\n",
       "      <td>2376.000000</td>\n",
       "      <td>12.000000</td>\n",
       "      <td>143.000000</td>\n",
       "      <td>38.000000</td>\n",
       "      <td>7987.000000</td>\n",
       "      <td>8537.000000</td>\n",
       "    </tr>\n",
       "  </tbody>\n",
       "</table>\n",
       "</div>"
      ],
      "text/plain": [
       "           user_id          age        month        calls      minutes  \\\n",
       "count  2230.000000  2230.000000  2229.000000  2229.000000  2229.000000   \n",
       "mean   1246.562332    46.557848     8.346792    58.463437   504.138179   \n",
       "std     146.110501    16.349865     2.920316    25.939858   304.117674   \n",
       "min    1001.000000    18.000000     1.000000     0.000000     0.000000   \n",
       "25%    1121.000000    32.000000     6.000000    40.000000   280.000000   \n",
       "50%    1240.000000    47.000000     9.000000    60.000000   480.000000   \n",
       "75%    1376.000000    62.000000    11.000000    76.000000   693.000000   \n",
       "max    1499.000000    75.000000    12.000000   198.000000  2376.000000   \n",
       "\n",
       "         call_mean     messages           gb    surcharge     expenses  \n",
       "count  2229.000000  2229.000000  2229.000000  2230.000000  2230.000000  \n",
       "mean      8.321669    33.384029    16.328847   986.152915  1536.152915  \n",
       "std       2.949939    28.227876     5.747061  1041.182004  1041.182004  \n",
       "min       0.000000     0.000000     0.000000     0.000000   550.000000  \n",
       "25%       6.000000    10.000000    13.000000    66.750000   616.750000  \n",
       "50%       9.000000    28.000000    17.000000   750.000000  1300.000000  \n",
       "75%      11.000000    51.000000    20.000000  1526.750000  2076.750000  \n",
       "max      12.000000   143.000000    38.000000  7987.000000  8537.000000  "
      ]
     },
     "execution_count": 48,
     "metadata": {},
     "output_type": "execute_result"
    }
   ],
   "source": [
    "# оценка числовых переменных таблицы пользователей тарифа smart\n",
    "total_smart.describe()"
   ]
  },
  {
   "cell_type": "code",
   "execution_count": 49,
   "metadata": {
    "scrolled": true
   },
   "outputs": [
    {
     "data": {
      "text/html": [
       "<div>\n",
       "<style scoped>\n",
       "    .dataframe tbody tr th:only-of-type {\n",
       "        vertical-align: middle;\n",
       "    }\n",
       "\n",
       "    .dataframe tbody tr th {\n",
       "        vertical-align: top;\n",
       "    }\n",
       "\n",
       "    .dataframe thead th {\n",
       "        text-align: right;\n",
       "    }\n",
       "</style>\n",
       "<table border=\"1\" class=\"dataframe\">\n",
       "  <thead>\n",
       "    <tr style=\"text-align: right;\">\n",
       "      <th></th>\n",
       "      <th>user_id</th>\n",
       "      <th>age</th>\n",
       "      <th>month</th>\n",
       "      <th>calls</th>\n",
       "      <th>minutes</th>\n",
       "      <th>call_mean</th>\n",
       "      <th>messages</th>\n",
       "      <th>gb</th>\n",
       "      <th>surcharge</th>\n",
       "      <th>expenses</th>\n",
       "    </tr>\n",
       "  </thead>\n",
       "  <tbody>\n",
       "    <tr>\n",
       "      <th>count</th>\n",
       "      <td>986.000000</td>\n",
       "      <td>986.000000</td>\n",
       "      <td>985.000000</td>\n",
       "      <td>985.000000</td>\n",
       "      <td>985.000000</td>\n",
       "      <td>985.000000</td>\n",
       "      <td>985.000000</td>\n",
       "      <td>985.000000</td>\n",
       "      <td>986.000000</td>\n",
       "      <td>986.000000</td>\n",
       "    </tr>\n",
       "    <tr>\n",
       "      <th>mean</th>\n",
       "      <td>1262.957404</td>\n",
       "      <td>46.838742</td>\n",
       "      <td>8.250761</td>\n",
       "      <td>73.392893</td>\n",
       "      <td>622.783756</td>\n",
       "      <td>7.951269</td>\n",
       "      <td>49.363452</td>\n",
       "      <td>19.494416</td>\n",
       "      <td>120.030426</td>\n",
       "      <td>2070.030426</td>\n",
       "    </tr>\n",
       "    <tr>\n",
       "      <th>std</th>\n",
       "      <td>140.689268</td>\n",
       "      <td>17.099807</td>\n",
       "      <td>2.871762</td>\n",
       "      <td>43.916853</td>\n",
       "      <td>463.293331</td>\n",
       "      <td>3.208167</td>\n",
       "      <td>47.804457</td>\n",
       "      <td>9.853511</td>\n",
       "      <td>376.015578</td>\n",
       "      <td>376.015578</td>\n",
       "    </tr>\n",
       "    <tr>\n",
       "      <th>min</th>\n",
       "      <td>1000.000000</td>\n",
       "      <td>18.000000</td>\n",
       "      <td>1.000000</td>\n",
       "      <td>0.000000</td>\n",
       "      <td>0.000000</td>\n",
       "      <td>0.000000</td>\n",
       "      <td>0.000000</td>\n",
       "      <td>0.000000</td>\n",
       "      <td>0.000000</td>\n",
       "      <td>1950.000000</td>\n",
       "    </tr>\n",
       "    <tr>\n",
       "      <th>25%</th>\n",
       "      <td>1143.000000</td>\n",
       "      <td>30.000000</td>\n",
       "      <td>6.000000</td>\n",
       "      <td>41.000000</td>\n",
       "      <td>264.000000</td>\n",
       "      <td>6.000000</td>\n",
       "      <td>6.000000</td>\n",
       "      <td>12.000000</td>\n",
       "      <td>0.000000</td>\n",
       "      <td>1950.000000</td>\n",
       "    </tr>\n",
       "    <tr>\n",
       "      <th>50%</th>\n",
       "      <td>1277.000000</td>\n",
       "      <td>45.000000</td>\n",
       "      <td>9.000000</td>\n",
       "      <td>74.000000</td>\n",
       "      <td>540.000000</td>\n",
       "      <td>8.000000</td>\n",
       "      <td>38.000000</td>\n",
       "      <td>19.000000</td>\n",
       "      <td>0.000000</td>\n",
       "      <td>1950.000000</td>\n",
       "    </tr>\n",
       "    <tr>\n",
       "      <th>75%</th>\n",
       "      <td>1381.000000</td>\n",
       "      <td>63.000000</td>\n",
       "      <td>11.000000</td>\n",
       "      <td>104.000000</td>\n",
       "      <td>904.000000</td>\n",
       "      <td>11.000000</td>\n",
       "      <td>79.000000</td>\n",
       "      <td>27.000000</td>\n",
       "      <td>0.000000</td>\n",
       "      <td>1950.000000</td>\n",
       "    </tr>\n",
       "    <tr>\n",
       "      <th>max</th>\n",
       "      <td>1495.000000</td>\n",
       "      <td>75.000000</td>\n",
       "      <td>12.000000</td>\n",
       "      <td>244.000000</td>\n",
       "      <td>2928.000000</td>\n",
       "      <td>12.000000</td>\n",
       "      <td>224.000000</td>\n",
       "      <td>49.000000</td>\n",
       "      <td>2850.000000</td>\n",
       "      <td>4800.000000</td>\n",
       "    </tr>\n",
       "  </tbody>\n",
       "</table>\n",
       "</div>"
      ],
      "text/plain": [
       "           user_id         age       month       calls      minutes  \\\n",
       "count   986.000000  986.000000  985.000000  985.000000   985.000000   \n",
       "mean   1262.957404   46.838742    8.250761   73.392893   622.783756   \n",
       "std     140.689268   17.099807    2.871762   43.916853   463.293331   \n",
       "min    1000.000000   18.000000    1.000000    0.000000     0.000000   \n",
       "25%    1143.000000   30.000000    6.000000   41.000000   264.000000   \n",
       "50%    1277.000000   45.000000    9.000000   74.000000   540.000000   \n",
       "75%    1381.000000   63.000000   11.000000  104.000000   904.000000   \n",
       "max    1495.000000   75.000000   12.000000  244.000000  2928.000000   \n",
       "\n",
       "        call_mean    messages          gb    surcharge     expenses  \n",
       "count  985.000000  985.000000  985.000000   986.000000   986.000000  \n",
       "mean     7.951269   49.363452   19.494416   120.030426  2070.030426  \n",
       "std      3.208167   47.804457    9.853511   376.015578   376.015578  \n",
       "min      0.000000    0.000000    0.000000     0.000000  1950.000000  \n",
       "25%      6.000000    6.000000   12.000000     0.000000  1950.000000  \n",
       "50%      8.000000   38.000000   19.000000     0.000000  1950.000000  \n",
       "75%     11.000000   79.000000   27.000000     0.000000  1950.000000  \n",
       "max     12.000000  224.000000   49.000000  2850.000000  4800.000000  "
      ]
     },
     "execution_count": 49,
     "metadata": {},
     "output_type": "execute_result"
    }
   ],
   "source": [
    "# оценка числовых переменных таблицы пользователей тарифа ultra\n",
    "total_ultra.describe()"
   ]
  },
  {
   "cell_type": "markdown",
   "metadata": {},
   "source": [
    "Посмотрим, чем отличаются друг от друга две выборки."
   ]
  },
  {
   "cell_type": "markdown",
   "metadata": {},
   "source": [
    "Клиенты тарифа `smart` в среднем разговаривают 504 минуты в месяц (медианна 480 минут), отправляют 33 сообщений (медиана 28 смс) и используют 16,3 Гб трафика (медиана 17 Гб). В результате тратят в среднем 1536 рублей в месяц (медиана 1300 рублей). Стандартное отклонение составляет 304 минуты, 28,23 смс и 5,75 Гб. Квадрат этих значений является дисперсией."
   ]
  },
  {
   "cell_type": "markdown",
   "metadata": {},
   "source": [
    "Значительно меньшее число клиентов выбирают тариф `ultra`. Они в среднем разговаривают 623 минуты в месяц (медианна 540 минут), отправляют 49 сообщений (медиана 38 смс) и используют 19,5 Гб трафика (медиана 19 Гб). В результате тратят в среднем 2070 рублей в месяц (медиана 1950 рублей). \n",
    "\n",
    "Почти все клиенты `ultra` укладываются в лимиты тарифа по количеству минут, смс-сообщений и интернет-трафику и переплачивают в среднем лишь 120 рублей в месяц - и то лишь за счёт аномальных выбросов с переплатами до 2850 рублей в месяц.\n",
    "\n",
    "Стандартное отклонение составляет 463 минуты, 47,8 смс и 9,85 Гб. Квадрат этих значений является дисперсией."
   ]
  },
  {
   "cell_type": "markdown",
   "metadata": {},
   "source": [
    "Таким образом, по продолжительности звонков и количеству трафика две выборки мало отличаются (на 24% и 19% соответственно). Пользователи `ultra` больше отрпавляют существенно больше сообщений (на 48%). При этом среднемесячный расход на втором тарифе выше на 35% (на 534 рубля) за счёт более высокой абонентской платы."
   ]
  },
  {
   "cell_type": "markdown",
   "metadata": {},
   "source": [
    "Построим гистограммы для того и другого тарифа."
   ]
  },
  {
   "cell_type": "code",
   "execution_count": 50,
   "metadata": {
    "scrolled": true
   },
   "outputs": [
    {
     "data": {
      "text/plain": [
       "<AxesSubplot:>"
      ]
     },
     "execution_count": 50,
     "metadata": {},
     "output_type": "execute_result"
    },
    {
     "data": {
      "image/png": "[encoded data removed]",
      "text/plain": [
       "<Figure size 432x288 with 1 Axes>"
      ]
     },
     "metadata": {
      "needs_background": "light"
     },
     "output_type": "display_data"
    }
   ],
   "source": [
    "# построение гистограммы распределения общей продолжительности звонков\n",
    "# пользователей тарифа smart\n",
    "total_smart['minutes'].hist()"
   ]
  },
  {
   "cell_type": "markdown",
   "metadata": {},
   "source": [
    "Построим \"график с усами\"."
   ]
  },
  {
   "cell_type": "code",
   "execution_count": 51,
   "metadata": {},
   "outputs": [
    {
     "data": {
      "text/plain": [
       "<AxesSubplot:>"
      ]
     },
     "execution_count": 51,
     "metadata": {},
     "output_type": "execute_result"
    },
    {
     "data": {
      "image/png": "[encoded data removed]",
      "text/plain": [
       "<Figure size 432x288 with 1 Axes>"
      ]
     },
     "metadata": {
      "needs_background": "light"
     },
     "output_type": "display_data"
    }
   ],
   "source": [
    "total_smart.boxplot(column='minutes')"
   ]
  },
  {
   "cell_type": "markdown",
   "metadata": {},
   "source": [
    "Оба графика показывают скошенность вправо, что было видно и из сравнения средней и медианы. Заметно и наличие выбросов - аномальных значений свыше 1350 минут в месяц."
   ]
  },
  {
   "cell_type": "code",
   "execution_count": 52,
   "metadata": {},
   "outputs": [
    {
     "data": {
      "text/plain": [
       "<AxesSubplot:>"
      ]
     },
     "execution_count": 52,
     "metadata": {},
     "output_type": "execute_result"
    },
    {
     "data": {
      "image/png": "[encoded data removed]",
      "text/plain": [
       "<Figure size 432x288 with 1 Axes>"
      ]
     },
     "metadata": {
      "needs_background": "light"
     },
     "output_type": "display_data"
    }
   ],
   "source": [
    "# построение гистограммы распределения общей продолжительности звонков\n",
    "# пользователей тарифа ultra\n",
    "total_ultra['minutes'].hist()"
   ]
  },
  {
   "cell_type": "code",
   "execution_count": 53,
   "metadata": {},
   "outputs": [
    {
     "data": {
      "text/plain": [
       "<AxesSubplot:>"
      ]
     },
     "execution_count": 53,
     "metadata": {},
     "output_type": "execute_result"
    },
    {
     "data": {
      "image/png": "[encoded data removed]",
      "text/plain": [
       "<Figure size 432x288 with 1 Axes>"
      ]
     },
     "metadata": {
      "needs_background": "light"
     },
     "output_type": "display_data"
    }
   ],
   "source": [
    "total_ultra.boxplot(column='minutes')"
   ]
  },
  {
   "cell_type": "markdown",
   "metadata": {},
   "source": [
    "Данные также скошены вправо и имеют выбросы - аномальные значения свыше 1900 минут в месяц. При этом выбросов меньше, чем на тарифе `smart`."
   ]
  },
  {
   "cell_type": "markdown",
   "metadata": {},
   "source": [
    "Теперь посмотрим на распределение смс-сообщений."
   ]
  },
  {
   "cell_type": "code",
   "execution_count": 54,
   "metadata": {
    "scrolled": true
   },
   "outputs": [
    {
     "data": {
      "text/plain": [
       "<AxesSubplot:>"
      ]
     },
     "execution_count": 54,
     "metadata": {},
     "output_type": "execute_result"
    },
    {
     "data": {
      "image/png": "[encoded data removed]",
      "text/plain": [
       "<Figure size 432x288 with 1 Axes>"
      ]
     },
     "metadata": {
      "needs_background": "light"
     },
     "output_type": "display_data"
    }
   ],
   "source": [
    "# построение гистограммы распределения количества смс-сообщений\n",
    "# пользователей тарифа smart\n",
    "total_smart['messages'].hist()"
   ]
  },
  {
   "cell_type": "code",
   "execution_count": 55,
   "metadata": {},
   "outputs": [
    {
     "data": {
      "text/plain": [
       "<AxesSubplot:>"
      ]
     },
     "execution_count": 55,
     "metadata": {},
     "output_type": "execute_result"
    },
    {
     "data": {
      "image/png": "[encoded data removed]",
      "text/plain": [
       "<Figure size 432x288 with 1 Axes>"
      ]
     },
     "metadata": {
      "needs_background": "light"
     },
     "output_type": "display_data"
    }
   ],
   "source": [
    "total_smart.boxplot(column='messages')"
   ]
  },
  {
   "cell_type": "markdown",
   "metadata": {},
   "source": [
    "Распределение также скошено вправо, а выбросы (аномальные значения больше 115 сообщений) менее заметны. Большинство пользователей `smart` вполне укладываются в лимит 50 сообщений для тарифа."
   ]
  },
  {
   "cell_type": "code",
   "execution_count": 56,
   "metadata": {
    "scrolled": true
   },
   "outputs": [
    {
     "data": {
      "text/plain": [
       "<AxesSubplot:>"
      ]
     },
     "execution_count": 56,
     "metadata": {},
     "output_type": "execute_result"
    },
    {
     "data": {
      "image/png": "[encoded data removed]",
      "text/plain": [
       "<Figure size 432x288 with 1 Axes>"
      ]
     },
     "metadata": {
      "needs_background": "light"
     },
     "output_type": "display_data"
    }
   ],
   "source": [
    "# построение гистограммы распределения количества смс-сообщений\n",
    "# пользователей тарифа ultra\n",
    "total_ultra['messages'].hist()"
   ]
  },
  {
   "cell_type": "code",
   "execution_count": 57,
   "metadata": {},
   "outputs": [
    {
     "data": {
      "text/plain": [
       "<AxesSubplot:>"
      ]
     },
     "execution_count": 57,
     "metadata": {},
     "output_type": "execute_result"
    },
    {
     "data": {
      "image/png": "[encoded data removed]",
      "text/plain": [
       "<Figure size 432x288 with 1 Axes>"
      ]
     },
     "metadata": {
      "needs_background": "light"
     },
     "output_type": "display_data"
    }
   ],
   "source": [
    "total_ultra.boxplot(column='messages')"
   ]
  },
  {
   "cell_type": "markdown",
   "metadata": {},
   "source": [
    "Ситуация по скошенностью и выбросами для пользователей тарифа `ultra` ещё менее выражена. И это объяснимо - в их тариф включено до 1000 сообщений в месяц."
   ]
  },
  {
   "cell_type": "markdown",
   "metadata": {},
   "source": [
    "Теперь проанализируем интернет-трафик."
   ]
  },
  {
   "cell_type": "code",
   "execution_count": 58,
   "metadata": {
    "scrolled": false
   },
   "outputs": [
    {
     "data": {
      "text/plain": [
       "<AxesSubplot:>"
      ]
     },
     "execution_count": 58,
     "metadata": {},
     "output_type": "execute_result"
    },
    {
     "data": {
      "image/png": "[encoded data removed]",
      "text/plain": [
       "<Figure size 432x288 with 1 Axes>"
      ]
     },
     "metadata": {
      "needs_background": "light"
     },
     "output_type": "display_data"
    }
   ],
   "source": [
    "# построение гистограммы распределения потребления интернет-трафика\n",
    "# пользователей тарифа smart\n",
    "total_smart['gb'].hist()"
   ]
  },
  {
   "cell_type": "code",
   "execution_count": 59,
   "metadata": {},
   "outputs": [
    {
     "data": {
      "text/plain": [
       "<AxesSubplot:>"
      ]
     },
     "execution_count": 59,
     "metadata": {},
     "output_type": "execute_result"
    },
    {
     "data": {
      "image/png": "[encoded data removed]",
      "text/plain": [
       "<Figure size 432x288 with 1 Axes>"
      ]
     },
     "metadata": {
      "needs_background": "light"
     },
     "output_type": "display_data"
    }
   ],
   "source": [
    "total_smart.boxplot(column='gb')"
   ]
  },
  {
   "cell_type": "markdown",
   "metadata": {},
   "source": [
    "Распределение интернет-трафика у клиентов тарифа `smart` - нормальное. А количество выбросов со значением выше 30 Гб в месяц - минимально. Чего не скажешь о выбросах менее 3 Гб в месяц - распределение скошено влево."
   ]
  },
  {
   "cell_type": "code",
   "execution_count": 60,
   "metadata": {
    "scrolled": false
   },
   "outputs": [
    {
     "data": {
      "text/plain": [
       "<AxesSubplot:>"
      ]
     },
     "execution_count": 60,
     "metadata": {},
     "output_type": "execute_result"
    },
    {
     "data": {
      "image/png": "[encoded data removed]",
      "text/plain": [
       "<Figure size 432x288 with 1 Axes>"
      ]
     },
     "metadata": {
      "needs_background": "light"
     },
     "output_type": "display_data"
    }
   ],
   "source": [
    "# построение гистограммы распределения потребления интернет-трафика\n",
    "# пользователей тарифа ultra\n",
    "total_ultra['gb'].hist()"
   ]
  },
  {
   "cell_type": "code",
   "execution_count": 61,
   "metadata": {},
   "outputs": [
    {
     "data": {
      "text/plain": [
       "<AxesSubplot:>"
      ]
     },
     "execution_count": 61,
     "metadata": {},
     "output_type": "execute_result"
    },
    {
     "data": {
      "image/png": "[encoded data removed]",
      "text/plain": [
       "<Figure size 432x288 with 1 Axes>"
      ]
     },
     "metadata": {
      "needs_background": "light"
     },
     "output_type": "display_data"
    }
   ],
   "source": [
    "total_ultra.boxplot(column='gb')"
   ]
  },
  {
   "cell_type": "markdown",
   "metadata": {},
   "source": [
    "На тарифе `ultra` распределение приближено к нормальному, а выбросы отсутствуют - все пользуются интернетом в диапазоне от 0 до 50 Гб в месяц."
   ]
  },
  {
   "cell_type": "markdown",
   "metadata": {},
   "source": [
    "Рассмотрим ещё распределение совокупных ежемесячных расходов клиентов."
   ]
  },
  {
   "cell_type": "code",
   "execution_count": 62,
   "metadata": {
    "scrolled": false
   },
   "outputs": [
    {
     "data": {
      "text/plain": [
       "<AxesSubplot:>"
      ]
     },
     "execution_count": 62,
     "metadata": {},
     "output_type": "execute_result"
    },
    {
     "data": {
      "image/png": "[encoded data removed]",
      "text/plain": [
       "<Figure size 432x288 with 1 Axes>"
      ]
     },
     "metadata": {
      "needs_background": "light"
     },
     "output_type": "display_data"
    }
   ],
   "source": [
    "# построение гистограммы распределения совокупных ежемесячных расходов\n",
    "# пользователей тарифа smart\n",
    "total_smart['expenses'].hist()"
   ]
  },
  {
   "cell_type": "code",
   "execution_count": 63,
   "metadata": {},
   "outputs": [
    {
     "data": {
      "text/plain": [
       "<AxesSubplot:>"
      ]
     },
     "execution_count": 63,
     "metadata": {},
     "output_type": "execute_result"
    },
    {
     "data": {
      "image/png": "[encoded data removed]",
      "text/plain": [
       "<Figure size 432x288 with 1 Axes>"
      ]
     },
     "metadata": {
      "needs_background": "light"
     },
     "output_type": "display_data"
    }
   ],
   "source": [
    "total_smart.boxplot(column='expenses')"
   ]
  },
  {
   "cell_type": "markdown",
   "metadata": {},
   "source": [
    "Мы видим большое число выбросов свыше 4200 рублей в месяц и совсем аномального клиента с расходом в 8537 рублей в месяц."
   ]
  },
  {
   "cell_type": "code",
   "execution_count": 64,
   "metadata": {
    "scrolled": true
   },
   "outputs": [
    {
     "data": {
      "text/plain": [
       "<AxesSubplot:>"
      ]
     },
     "execution_count": 64,
     "metadata": {},
     "output_type": "execute_result"
    },
    {
     "data": {
      "image/png": "[encoded data removed]",
      "text/plain": [
       "<Figure size 432x288 with 1 Axes>"
      ]
     },
     "metadata": {
      "needs_background": "light"
     },
     "output_type": "display_data"
    }
   ],
   "source": [
    "# построение гистограммы распределения совокупных ежемесячных расходов\n",
    "# пользователей тарифа ultra\n",
    "total_ultra['expenses'].hist()"
   ]
  },
  {
   "cell_type": "code",
   "execution_count": 65,
   "metadata": {},
   "outputs": [
    {
     "data": {
      "text/plain": [
       "<AxesSubplot:>"
      ]
     },
     "execution_count": 65,
     "metadata": {},
     "output_type": "execute_result"
    },
    {
     "data": {
      "image/png": "[encoded data removed]",
      "text/plain": [
       "<Figure size 432x288 with 1 Axes>"
      ]
     },
     "metadata": {
      "needs_background": "light"
     },
     "output_type": "display_data"
    }
   ],
   "source": [
    "total_ultra.boxplot(column='expenses')"
   ]
  },
  {
   "cell_type": "markdown",
   "metadata": {},
   "source": [
    "Почти все пользователи тарифа `ultra` укладываются в абонплату 1950 рублей в месяц. Исключение составляют около сотни аномальных выбросов."
   ]
  },
  {
   "cell_type": "markdown",
   "metadata": {},
   "source": [
    "Итак, мы оценили поведение клиентов оператора, исходя из выбранного ими тарифа. Посчитали потребляемое ими количество минут, сообщений и интернет-трафика - среднее и стандартное отклонение. Построили гистограммы и описали распределения данных. Проанализировали их ежемесячные расходы на связь - они отличаются в среднем лишь на 35%, при том, что абонплаты отличаются почти в 4 раза.\n",
    "\n",
    "Перейдём теперь к проверке гипотез."
   ]
  },
  {
   "cell_type": "markdown",
   "metadata": {},
   "source": [
    "## Проверка гипотез"
   ]
  },
  {
   "cell_type": "markdown",
   "metadata": {},
   "source": [
    "Проверим две гипотезы:\n",
    "\n",
    "* средние расходы пользователей тарифов «Ультра» и «Смарт» различаются;\n",
    "* средние расходы пользователей из Москвы отличаются от расходов пользователей из других регионов."
   ]
  },
  {
   "cell_type": "markdown",
   "metadata": {},
   "source": [
    "Распределение значений расходов пользователей обоих тарифов отличаются от нормального. Генеральные совокупности не зависят друг от друга. А поскольку параметры двух категорий клиентов мало отличаются (продолжительность звонков, количество сообщений и интернет-трафика), предположим равенство их дисперсий."
   ]
  },
  {
   "cell_type": "markdown",
   "metadata": {},
   "source": [
    "Нулевая гипотеза состоит в равенстве средних расходов пользователей тарифов «Ультра» и «Смарт».\n",
    "Альтернативная гипотеза - что средние расходы пользователей тарифов «Ультра» и «Смарт» не равны."
   ]
  },
  {
   "cell_type": "code",
   "execution_count": 66,
   "metadata": {},
   "outputs": [
    {
     "name": "stdout",
     "output_type": "stream",
     "text": [
      "p-значение: 2.728112531074669e-53\n",
      "Отвергаем H0\n"
     ]
    }
   ],
   "source": [
    "# проверка нулевой гипотезы о равенстве средних двух независимых генеральных\n",
    "# совокупностей smart и ultra\n",
    "smart = total_smart['expenses']\n",
    "ultra = total_ultra['expenses']\n",
    "alpha = 0.05\n",
    "results = st.ttest_ind(smart, ultra)\n",
    "print('p-значение:', results.pvalue)\n",
    "if results.pvalue < alpha:\n",
    "    print(\"Отвергаем H0\")\n",
    "else:\n",
    "    print(\"Не получилось отвергнуть H0\")"
   ]
  },
  {
   "cell_type": "markdown",
   "metadata": {},
   "source": [
    "Проверка показала, что различие средних расходов пользователей тарифов «Ультра» и «Смарт» статистически значимо и неслучайно. И это ожидаемо - слишком большая разница между средними расходами, которая сформировалась за счёт четырёхкратной разницы в абонентской плате."
   ]
  },
  {
   "cell_type": "markdown",
   "metadata": {},
   "source": [
    "Проверим вторую гипотезу.\n",
    "Нулевая гипотеза - что средние расходы пользователей из Москвы и других регионов не отличаются друг от друга.\n",
    "Альтернативная гипотеза состоит в том, что средние расходы московских и не-московских пользователей не равны друг другу."
   ]
  },
  {
   "cell_type": "code",
   "execution_count": 67,
   "metadata": {},
   "outputs": [
    {
     "name": "stdout",
     "output_type": "stream",
     "text": [
      "p-значение: 0.7895369510499006\n",
      "Не получилось отвергнуть H0\n"
     ]
    }
   ],
   "source": [
    "# проверка нулевой гипотезы о равенстве средних двух независимых генеральных\n",
    "# совокупностей клиентов из Москвы и из других регионов\n",
    "total_Moscow = total.query('city == \"Москва\"')['expenses']\n",
    "total_other = total.query('city != \"Москва\"')['expenses']\n",
    "alpha = 0.05\n",
    "results = st.ttest_ind(total_Moscow, total_other)\n",
    "print('p-значение:', results.pvalue)\n",
    "if results.pvalue < alpha:\n",
    "    print(\"Отвергаем H0\")\n",
    "else:\n",
    "    print(\"Не получилось отвергнуть H0\")"
   ]
  },
  {
   "cell_type": "markdown",
   "metadata": {},
   "source": [
    "Следовательно, расходы клиентов из Москвы и других регионов статистически не отличаются друг от друга."
   ]
  },
  {
   "cell_type": "markdown",
   "metadata": {},
   "source": [
    "Итак, мы проверили две гипотезы: \n",
    "* Различие средних расходов пользователей тарифов «Ультра» и «Смарт» статистически значимо и неслучайно.\n",
    "* Расходы клиентов из Москвы и других регионов статистически не отличаются, тогда как различия пользователей разных тарифов более статистически значимы."
   ]
  },
  {
   "cell_type": "markdown",
   "metadata": {},
   "source": [
    "Осталось определить более выгодный для компании тариф."
   ]
  },
  {
   "cell_type": "markdown",
   "metadata": {},
   "source": [
    "## Вывод. Определение более выгодного для компании тарифа"
   ]
  },
  {
   "cell_type": "markdown",
   "metadata": {},
   "source": [
    "Проведённый анализ показал, что продолжительность звонков и объём интернет-трафика на тарифах «Смарт» и «Ультра» отличаются на 24% и 19% соответственно. Количество смс-сообщений разнится более существенно - в среднем на 48%.\n",
    "\n",
    "При этом абонентская плата на тарифе «Ультра» почти в 4 раза выше, чем у клиентов «Смарт». А суммарные расходы на тарифе «Ультра» выше на 35%, что меньше доп.нагрузки на оборудование и сети.\n",
    "\n",
    "Отличие сумм ежемесячных расходов на разных тарифах неслучайно и статистически значимо.\n",
    "\n",
    "Значит, тарифный план «Ультра» более выгоден для компании."
   ]
  }
 ],
 "metadata": {
  "ExecuteTimeLog": [
   {
    "duration": 3,
    "start_time": "2022-06-06T09:51:03.150Z"
   },
   {
    "duration": 554,
    "start_time": "2022-06-06T19:56:58.299Z"
   },
   {
    "duration": 54,
    "start_time": "2022-06-06T19:58:51.605Z"
   },
   {
    "duration": 3,
    "start_time": "2022-06-06T20:02:15.197Z"
   },
   {
    "duration": 613,
    "start_time": "2022-06-06T20:03:46.917Z"
   },
   {
    "duration": 47,
    "start_time": "2022-06-06T20:07:48.848Z"
   },
   {
    "duration": 177,
    "start_time": "2022-06-06T20:07:49.737Z"
   },
   {
    "duration": 456,
    "start_time": "2022-06-06T20:07:50.522Z"
   },
   {
    "duration": 161,
    "start_time": "2022-06-06T20:07:51.332Z"
   },
   {
    "duration": 60,
    "start_time": "2022-06-06T20:07:52.047Z"
   },
   {
    "duration": 54,
    "start_time": "2022-06-06T21:05:35.591Z"
   },
   {
    "duration": 51,
    "start_time": "2022-06-06T21:06:12.389Z"
   },
   {
    "duration": 14,
    "start_time": "2022-06-06T21:07:39.662Z"
   },
   {
    "duration": 27,
    "start_time": "2022-06-06T21:12:53.080Z"
   },
   {
    "duration": 121,
    "start_time": "2022-06-06T21:13:52.187Z"
   },
   {
    "duration": 57,
    "start_time": "2022-06-07T12:48:55.188Z"
   },
   {
    "duration": 440,
    "start_time": "2022-06-07T12:49:07.339Z"
   },
   {
    "duration": 88,
    "start_time": "2022-06-07T12:49:07.781Z"
   },
   {
    "duration": 11,
    "start_time": "2022-06-07T12:49:07.871Z"
   },
   {
    "duration": 224,
    "start_time": "2022-06-07T12:49:07.884Z"
   },
   {
    "duration": 26,
    "start_time": "2022-06-07T12:49:08.109Z"
   },
   {
    "duration": 307,
    "start_time": "2022-06-07T12:49:08.136Z"
   },
   {
    "duration": 20,
    "start_time": "2022-06-07T12:49:08.445Z"
   },
   {
    "duration": 272,
    "start_time": "2022-06-07T12:49:08.466Z"
   },
   {
    "duration": 12,
    "start_time": "2022-06-07T12:49:08.739Z"
   },
   {
    "duration": 66,
    "start_time": "2022-06-07T12:49:08.753Z"
   },
   {
    "duration": 10,
    "start_time": "2022-06-07T12:49:08.821Z"
   },
   {
    "duration": 82,
    "start_time": "2022-06-07T12:49:08.832Z"
   },
   {
    "duration": 0,
    "start_time": "2022-06-07T12:49:08.916Z"
   },
   {
    "duration": 17,
    "start_time": "2022-06-07T12:51:28.122Z"
   },
   {
    "duration": 44,
    "start_time": "2022-06-07T12:52:24.218Z"
   },
   {
    "duration": 10,
    "start_time": "2022-06-07T12:52:30.523Z"
   },
   {
    "duration": 12,
    "start_time": "2022-06-07T14:39:32.344Z"
   },
   {
    "duration": 8,
    "start_time": "2022-06-07T14:39:40.807Z"
   },
   {
    "duration": 25,
    "start_time": "2022-06-07T14:39:51.254Z"
   },
   {
    "duration": 21,
    "start_time": "2022-06-07T14:40:06.591Z"
   },
   {
    "duration": 45,
    "start_time": "2022-06-07T14:40:19.939Z"
   },
   {
    "duration": 34,
    "start_time": "2022-06-07T14:55:38.365Z"
   },
   {
    "duration": 34,
    "start_time": "2022-06-07T14:55:51.985Z"
   },
   {
    "duration": 34,
    "start_time": "2022-06-07T14:56:02.195Z"
   },
   {
    "duration": 43,
    "start_time": "2022-06-07T15:24:24.916Z"
   },
   {
    "duration": 9,
    "start_time": "2022-06-07T15:25:00.512Z"
   },
   {
    "duration": 32,
    "start_time": "2022-06-07T15:25:13.377Z"
   },
   {
    "duration": 12,
    "start_time": "2022-06-07T15:32:32.250Z"
   },
   {
    "duration": 36,
    "start_time": "2022-06-07T16:12:14.628Z"
   },
   {
    "duration": 7,
    "start_time": "2022-06-07T16:14:05.521Z"
   },
   {
    "duration": 35,
    "start_time": "2022-06-07T16:14:41.194Z"
   },
   {
    "duration": 34,
    "start_time": "2022-06-07T16:14:51.455Z"
   },
   {
    "duration": 9,
    "start_time": "2022-06-07T16:15:08.285Z"
   },
   {
    "duration": 404,
    "start_time": "2022-06-07T16:15:23.170Z"
   },
   {
    "duration": 49,
    "start_time": "2022-06-07T16:15:23.576Z"
   },
   {
    "duration": 12,
    "start_time": "2022-06-07T16:15:23.627Z"
   },
   {
    "duration": 212,
    "start_time": "2022-06-07T16:15:23.641Z"
   },
   {
    "duration": 23,
    "start_time": "2022-06-07T16:15:23.854Z"
   },
   {
    "duration": 295,
    "start_time": "2022-06-07T16:15:23.879Z"
   },
   {
    "duration": 20,
    "start_time": "2022-06-07T16:15:24.175Z"
   },
   {
    "duration": 188,
    "start_time": "2022-06-07T16:15:24.196Z"
   },
   {
    "duration": 16,
    "start_time": "2022-06-07T16:15:24.386Z"
   },
   {
    "duration": 20,
    "start_time": "2022-06-07T16:15:24.405Z"
   },
   {
    "duration": 69,
    "start_time": "2022-06-07T16:15:24.426Z"
   },
   {
    "duration": 0,
    "start_time": "2022-06-07T16:15:24.497Z"
   },
   {
    "duration": 1,
    "start_time": "2022-06-07T16:15:24.498Z"
   },
   {
    "duration": 12,
    "start_time": "2022-06-07T16:15:38.140Z"
   },
   {
    "duration": 21,
    "start_time": "2022-06-07T16:20:57.029Z"
   },
   {
    "duration": 21,
    "start_time": "2022-06-07T16:37:36.457Z"
   },
   {
    "duration": 5,
    "start_time": "2022-06-07T16:37:54.162Z"
   },
   {
    "duration": 9,
    "start_time": "2022-06-07T16:38:02.632Z"
   },
   {
    "duration": 24,
    "start_time": "2022-06-07T16:56:18.723Z"
   },
   {
    "duration": 22,
    "start_time": "2022-06-07T16:56:38.977Z"
   },
   {
    "duration": 23,
    "start_time": "2022-06-07T16:56:47.781Z"
   },
   {
    "duration": 40,
    "start_time": "2022-06-07T16:57:00.572Z"
   },
   {
    "duration": 31,
    "start_time": "2022-06-07T16:57:15.087Z"
   },
   {
    "duration": 34,
    "start_time": "2022-06-07T16:57:21.716Z"
   },
   {
    "duration": 52,
    "start_time": "2022-06-10T17:08:50.969Z"
   },
   {
    "duration": 428,
    "start_time": "2022-06-10T17:09:07.787Z"
   },
   {
    "duration": 86,
    "start_time": "2022-06-10T17:09:08.218Z"
   },
   {
    "duration": 11,
    "start_time": "2022-06-10T17:09:08.305Z"
   },
   {
    "duration": 247,
    "start_time": "2022-06-10T17:09:08.318Z"
   },
   {
    "duration": 24,
    "start_time": "2022-06-10T17:09:08.566Z"
   },
   {
    "duration": 299,
    "start_time": "2022-06-10T17:09:08.592Z"
   },
   {
    "duration": 21,
    "start_time": "2022-06-10T17:09:08.893Z"
   },
   {
    "duration": 269,
    "start_time": "2022-06-10T17:09:08.915Z"
   },
   {
    "duration": 18,
    "start_time": "2022-06-10T17:09:09.186Z"
   },
   {
    "duration": 79,
    "start_time": "2022-06-10T17:09:09.207Z"
   },
   {
    "duration": 91,
    "start_time": "2022-06-10T17:09:09.288Z"
   },
   {
    "duration": 0,
    "start_time": "2022-06-10T17:09:09.380Z"
   },
   {
    "duration": 0,
    "start_time": "2022-06-10T17:09:09.382Z"
   },
   {
    "duration": 0,
    "start_time": "2022-06-10T17:09:09.383Z"
   },
   {
    "duration": 29,
    "start_time": "2022-06-10T17:09:53.610Z"
   },
   {
    "duration": 39,
    "start_time": "2022-06-10T17:12:04.262Z"
   },
   {
    "duration": 71,
    "start_time": "2022-06-10T17:47:39.600Z"
   },
   {
    "duration": 364,
    "start_time": "2022-06-10T17:48:49.275Z"
   },
   {
    "duration": 51,
    "start_time": "2022-06-10T17:48:49.641Z"
   },
   {
    "duration": 13,
    "start_time": "2022-06-10T17:48:49.694Z"
   },
   {
    "duration": 175,
    "start_time": "2022-06-10T17:48:49.709Z"
   },
   {
    "duration": 24,
    "start_time": "2022-06-10T17:48:49.886Z"
   },
   {
    "duration": 141,
    "start_time": "2022-06-10T17:48:49.912Z"
   },
   {
    "duration": 20,
    "start_time": "2022-06-10T17:48:50.054Z"
   },
   {
    "duration": 98,
    "start_time": "2022-06-10T17:48:50.076Z"
   },
   {
    "duration": 17,
    "start_time": "2022-06-10T17:48:50.175Z"
   },
   {
    "duration": 25,
    "start_time": "2022-06-10T17:48:50.194Z"
   },
   {
    "duration": 29,
    "start_time": "2022-06-10T17:48:50.221Z"
   },
   {
    "duration": 54,
    "start_time": "2022-06-10T17:48:50.251Z"
   },
   {
    "duration": 44,
    "start_time": "2022-06-10T17:48:50.306Z"
   },
   {
    "duration": 76,
    "start_time": "2022-06-10T17:48:50.351Z"
   },
   {
    "duration": 0,
    "start_time": "2022-06-10T17:48:50.429Z"
   },
   {
    "duration": 4,
    "start_time": "2022-06-10T17:54:03.572Z"
   },
   {
    "duration": 28,
    "start_time": "2022-06-10T17:54:09.966Z"
   },
   {
    "duration": 36,
    "start_time": "2022-06-10T17:54:17.026Z"
   },
   {
    "duration": 407,
    "start_time": "2022-06-10T17:55:02.264Z"
   },
   {
    "duration": 63,
    "start_time": "2022-06-10T17:55:02.674Z"
   },
   {
    "duration": 10,
    "start_time": "2022-06-10T17:55:02.739Z"
   },
   {
    "duration": 193,
    "start_time": "2022-06-10T17:55:02.751Z"
   },
   {
    "duration": 25,
    "start_time": "2022-06-10T17:55:02.946Z"
   },
   {
    "duration": 146,
    "start_time": "2022-06-10T17:55:02.972Z"
   },
   {
    "duration": 27,
    "start_time": "2022-06-10T17:55:03.119Z"
   },
   {
    "duration": 96,
    "start_time": "2022-06-10T17:55:03.148Z"
   },
   {
    "duration": 23,
    "start_time": "2022-06-10T17:55:03.246Z"
   },
   {
    "duration": 21,
    "start_time": "2022-06-10T17:55:03.272Z"
   },
   {
    "duration": 85,
    "start_time": "2022-06-10T17:55:03.294Z"
   },
   {
    "duration": 48,
    "start_time": "2022-06-10T17:55:03.380Z"
   },
   {
    "duration": 58,
    "start_time": "2022-06-10T17:55:03.430Z"
   },
   {
    "duration": 0,
    "start_time": "2022-06-10T17:55:03.489Z"
   },
   {
    "duration": 9,
    "start_time": "2022-06-10T17:58:24.138Z"
   },
   {
    "duration": 25,
    "start_time": "2022-06-10T18:52:15.558Z"
   },
   {
    "duration": 29,
    "start_time": "2022-06-10T18:52:24.149Z"
   },
   {
    "duration": 18,
    "start_time": "2022-06-10T19:02:20.005Z"
   },
   {
    "duration": 20,
    "start_time": "2022-06-10T19:02:52.529Z"
   },
   {
    "duration": 47,
    "start_time": "2022-06-12T08:05:14.307Z"
   },
   {
    "duration": 404,
    "start_time": "2022-06-12T08:05:28.361Z"
   },
   {
    "duration": 97,
    "start_time": "2022-06-12T08:05:28.767Z"
   },
   {
    "duration": 16,
    "start_time": "2022-06-12T08:05:28.867Z"
   },
   {
    "duration": 334,
    "start_time": "2022-06-12T08:05:28.885Z"
   },
   {
    "duration": 26,
    "start_time": "2022-06-12T08:05:29.220Z"
   },
   {
    "duration": 330,
    "start_time": "2022-06-12T08:05:29.248Z"
   },
   {
    "duration": 38,
    "start_time": "2022-06-12T08:05:29.581Z"
   },
   {
    "duration": 327,
    "start_time": "2022-06-12T08:05:29.621Z"
   },
   {
    "duration": 29,
    "start_time": "2022-06-12T08:05:29.950Z"
   },
   {
    "duration": 83,
    "start_time": "2022-06-12T08:05:29.983Z"
   },
   {
    "duration": 8,
    "start_time": "2022-06-12T08:05:30.068Z"
   },
   {
    "duration": 28,
    "start_time": "2022-06-12T08:05:30.078Z"
   },
   {
    "duration": 25,
    "start_time": "2022-06-12T08:05:30.109Z"
   },
   {
    "duration": 36,
    "start_time": "2022-06-12T08:05:30.136Z"
   },
   {
    "duration": 38,
    "start_time": "2022-06-12T08:05:30.174Z"
   },
   {
    "duration": 12,
    "start_time": "2022-06-12T08:05:30.214Z"
   },
   {
    "duration": 20,
    "start_time": "2022-06-12T08:05:30.228Z"
   },
   {
    "duration": 23,
    "start_time": "2022-06-12T08:05:30.249Z"
   },
   {
    "duration": 72,
    "start_time": "2022-06-12T08:05:30.274Z"
   },
   {
    "duration": 21,
    "start_time": "2022-06-12T08:05:30.348Z"
   },
   {
    "duration": 96,
    "start_time": "2022-06-12T08:05:30.370Z"
   },
   {
    "duration": 0,
    "start_time": "2022-06-12T08:05:30.469Z"
   },
   {
    "duration": 0,
    "start_time": "2022-06-12T08:05:30.470Z"
   },
   {
    "duration": 0,
    "start_time": "2022-06-12T08:05:30.472Z"
   },
   {
    "duration": 0,
    "start_time": "2022-06-12T08:05:30.473Z"
   },
   {
    "duration": 1,
    "start_time": "2022-06-12T08:05:30.474Z"
   },
   {
    "duration": 0,
    "start_time": "2022-06-12T08:05:30.476Z"
   },
   {
    "duration": 4,
    "start_time": "2022-06-12T08:05:47.813Z"
   },
   {
    "duration": 37,
    "start_time": "2022-06-12T08:22:01.306Z"
   },
   {
    "duration": 12,
    "start_time": "2022-06-12T08:22:12.396Z"
   },
   {
    "duration": 11,
    "start_time": "2022-06-12T08:23:14.767Z"
   },
   {
    "duration": 15,
    "start_time": "2022-06-12T10:46:33.814Z"
   },
   {
    "duration": 16,
    "start_time": "2022-06-12T10:50:24.100Z"
   },
   {
    "duration": 19,
    "start_time": "2022-06-12T11:04:40.704Z"
   },
   {
    "duration": 13,
    "start_time": "2022-06-12T11:04:42.794Z"
   },
   {
    "duration": 35,
    "start_time": "2022-06-12T11:06:45.002Z"
   },
   {
    "duration": 428,
    "start_time": "2022-06-12T11:06:55.593Z"
   },
   {
    "duration": 84,
    "start_time": "2022-06-12T11:06:56.023Z"
   },
   {
    "duration": 12,
    "start_time": "2022-06-12T11:06:56.108Z"
   },
   {
    "duration": 227,
    "start_time": "2022-06-12T11:06:56.122Z"
   },
   {
    "duration": 25,
    "start_time": "2022-06-12T11:06:56.351Z"
   },
   {
    "duration": 176,
    "start_time": "2022-06-12T11:06:56.378Z"
   },
   {
    "duration": 23,
    "start_time": "2022-06-12T11:06:56.556Z"
   },
   {
    "duration": 100,
    "start_time": "2022-06-12T11:06:56.581Z"
   },
   {
    "duration": 38,
    "start_time": "2022-06-12T11:06:56.683Z"
   },
   {
    "duration": 21,
    "start_time": "2022-06-12T11:06:56.726Z"
   },
   {
    "duration": 7,
    "start_time": "2022-06-12T11:06:56.748Z"
   },
   {
    "duration": 16,
    "start_time": "2022-06-12T11:06:56.757Z"
   },
   {
    "duration": 22,
    "start_time": "2022-06-12T11:06:56.775Z"
   },
   {
    "duration": 34,
    "start_time": "2022-06-12T11:06:56.799Z"
   },
   {
    "duration": 29,
    "start_time": "2022-06-12T11:06:56.835Z"
   },
   {
    "duration": 11,
    "start_time": "2022-06-12T11:06:56.866Z"
   },
   {
    "duration": 16,
    "start_time": "2022-06-12T11:06:56.895Z"
   },
   {
    "duration": 17,
    "start_time": "2022-06-12T11:06:56.913Z"
   },
   {
    "duration": 67,
    "start_time": "2022-06-12T11:06:56.932Z"
   },
   {
    "duration": 20,
    "start_time": "2022-06-12T11:06:57.007Z"
   },
   {
    "duration": 93,
    "start_time": "2022-06-12T11:06:57.028Z"
   },
   {
    "duration": 0,
    "start_time": "2022-06-12T11:06:57.122Z"
   },
   {
    "duration": 0,
    "start_time": "2022-06-12T11:06:57.124Z"
   },
   {
    "duration": 0,
    "start_time": "2022-06-12T11:06:57.125Z"
   },
   {
    "duration": 0,
    "start_time": "2022-06-12T11:06:57.126Z"
   },
   {
    "duration": 0,
    "start_time": "2022-06-12T11:06:57.127Z"
   },
   {
    "duration": 0,
    "start_time": "2022-06-12T11:06:57.128Z"
   },
   {
    "duration": 0,
    "start_time": "2022-06-12T11:06:57.129Z"
   },
   {
    "duration": 440,
    "start_time": "2022-06-12T11:16:23.112Z"
   },
   {
    "duration": 361,
    "start_time": "2022-06-12T11:19:59.179Z"
   },
   {
    "duration": 379,
    "start_time": "2022-06-12T11:20:30.180Z"
   },
   {
    "duration": 414,
    "start_time": "2022-06-12T11:20:53.896Z"
   },
   {
    "duration": 387,
    "start_time": "2022-06-13T07:57:52.945Z"
   },
   {
    "duration": 97,
    "start_time": "2022-06-13T07:57:53.334Z"
   },
   {
    "duration": 9,
    "start_time": "2022-06-13T07:57:53.433Z"
   },
   {
    "duration": 217,
    "start_time": "2022-06-13T07:57:53.445Z"
   },
   {
    "duration": 25,
    "start_time": "2022-06-13T07:57:53.663Z"
   },
   {
    "duration": 430,
    "start_time": "2022-06-13T07:57:53.690Z"
   },
   {
    "duration": 19,
    "start_time": "2022-06-13T07:57:54.122Z"
   },
   {
    "duration": 261,
    "start_time": "2022-06-13T07:57:54.143Z"
   },
   {
    "duration": 17,
    "start_time": "2022-06-13T07:57:54.405Z"
   },
   {
    "duration": 75,
    "start_time": "2022-06-13T07:57:54.425Z"
   },
   {
    "duration": 6,
    "start_time": "2022-06-13T07:57:54.502Z"
   },
   {
    "duration": 26,
    "start_time": "2022-06-13T07:57:54.510Z"
   },
   {
    "duration": 12,
    "start_time": "2022-06-13T07:57:54.538Z"
   },
   {
    "duration": 43,
    "start_time": "2022-06-13T07:57:54.552Z"
   },
   {
    "duration": 25,
    "start_time": "2022-06-13T07:57:54.597Z"
   },
   {
    "duration": 13,
    "start_time": "2022-06-13T07:57:54.623Z"
   },
   {
    "duration": 26,
    "start_time": "2022-06-13T07:57:54.638Z"
   },
   {
    "duration": 19,
    "start_time": "2022-06-13T07:57:54.666Z"
   },
   {
    "duration": 78,
    "start_time": "2022-06-13T07:57:54.687Z"
   },
   {
    "duration": 0,
    "start_time": "2022-06-13T07:57:54.767Z"
   },
   {
    "duration": 0,
    "start_time": "2022-06-13T07:57:54.768Z"
   },
   {
    "duration": 0,
    "start_time": "2022-06-13T07:57:54.770Z"
   },
   {
    "duration": 0,
    "start_time": "2022-06-13T07:57:54.771Z"
   },
   {
    "duration": 0,
    "start_time": "2022-06-13T07:57:54.773Z"
   },
   {
    "duration": 0,
    "start_time": "2022-06-13T07:57:54.775Z"
   },
   {
    "duration": 0,
    "start_time": "2022-06-13T07:57:54.776Z"
   },
   {
    "duration": 0,
    "start_time": "2022-06-13T07:57:54.778Z"
   },
   {
    "duration": 0,
    "start_time": "2022-06-13T07:57:54.779Z"
   },
   {
    "duration": 0,
    "start_time": "2022-06-13T07:57:54.781Z"
   },
   {
    "duration": 364,
    "start_time": "2022-06-13T08:09:16.874Z"
   },
   {
    "duration": 51,
    "start_time": "2022-06-13T08:09:17.239Z"
   },
   {
    "duration": 12,
    "start_time": "2022-06-13T08:09:17.292Z"
   },
   {
    "duration": 155,
    "start_time": "2022-06-13T08:09:17.306Z"
   },
   {
    "duration": 22,
    "start_time": "2022-06-13T08:09:17.463Z"
   },
   {
    "duration": 127,
    "start_time": "2022-06-13T08:09:17.487Z"
   },
   {
    "duration": 22,
    "start_time": "2022-06-13T08:09:17.615Z"
   },
   {
    "duration": 89,
    "start_time": "2022-06-13T08:09:17.639Z"
   },
   {
    "duration": 22,
    "start_time": "2022-06-13T08:09:17.730Z"
   },
   {
    "duration": 24,
    "start_time": "2022-06-13T08:09:17.757Z"
   },
   {
    "duration": 8,
    "start_time": "2022-06-13T08:09:17.783Z"
   },
   {
    "duration": 34,
    "start_time": "2022-06-13T08:09:17.793Z"
   },
   {
    "duration": 8,
    "start_time": "2022-06-13T08:09:17.829Z"
   },
   {
    "duration": 38,
    "start_time": "2022-06-13T08:09:17.839Z"
   },
   {
    "duration": 54,
    "start_time": "2022-06-13T08:09:17.879Z"
   },
   {
    "duration": 13,
    "start_time": "2022-06-13T08:09:17.935Z"
   },
   {
    "duration": 19,
    "start_time": "2022-06-13T08:09:17.950Z"
   },
   {
    "duration": 21,
    "start_time": "2022-06-13T08:09:17.971Z"
   },
   {
    "duration": 10,
    "start_time": "2022-06-13T08:09:17.994Z"
   },
   {
    "duration": 5,
    "start_time": "2022-06-13T08:09:18.006Z"
   },
   {
    "duration": 75,
    "start_time": "2022-06-13T08:09:18.013Z"
   },
   {
    "duration": 18,
    "start_time": "2022-06-13T08:09:18.090Z"
   },
   {
    "duration": 99,
    "start_time": "2022-06-13T08:09:18.109Z"
   },
   {
    "duration": 0,
    "start_time": "2022-06-13T08:09:18.211Z"
   },
   {
    "duration": 0,
    "start_time": "2022-06-13T08:09:18.212Z"
   },
   {
    "duration": 0,
    "start_time": "2022-06-13T08:09:18.213Z"
   },
   {
    "duration": 0,
    "start_time": "2022-06-13T08:09:18.214Z"
   },
   {
    "duration": 0,
    "start_time": "2022-06-13T08:09:18.227Z"
   },
   {
    "duration": 0,
    "start_time": "2022-06-13T08:09:18.228Z"
   },
   {
    "duration": 555,
    "start_time": "2022-06-13T08:10:57.853Z"
   },
   {
    "duration": 8,
    "start_time": "2022-06-13T08:11:37.357Z"
   },
   {
    "duration": 17,
    "start_time": "2022-06-13T08:11:49.773Z"
   },
   {
    "duration": 2,
    "start_time": "2022-06-13T08:12:57.706Z"
   },
   {
    "duration": 5,
    "start_time": "2022-06-13T08:13:02.685Z"
   },
   {
    "duration": 10,
    "start_time": "2022-06-13T08:13:20.540Z"
   },
   {
    "duration": 34,
    "start_time": "2022-06-13T08:13:33.084Z"
   },
   {
    "duration": 42,
    "start_time": "2022-06-13T08:13:38.102Z"
   },
   {
    "duration": 9,
    "start_time": "2022-06-13T08:20:57.983Z"
   },
   {
    "duration": 17,
    "start_time": "2022-06-13T08:21:05.379Z"
   },
   {
    "duration": 11,
    "start_time": "2022-06-13T08:21:25.073Z"
   },
   {
    "duration": 37,
    "start_time": "2022-06-13T08:22:01.014Z"
   },
   {
    "duration": 9,
    "start_time": "2022-06-13T08:22:07.849Z"
   },
   {
    "duration": 40,
    "start_time": "2022-06-13T08:22:23.804Z"
   },
   {
    "duration": 9,
    "start_time": "2022-06-13T08:23:12.318Z"
   },
   {
    "duration": 9,
    "start_time": "2022-06-13T08:23:28.315Z"
   },
   {
    "duration": 10,
    "start_time": "2022-06-13T08:23:49.970Z"
   },
   {
    "duration": 28,
    "start_time": "2022-06-13T08:24:05.549Z"
   },
   {
    "duration": 3,
    "start_time": "2022-06-13T11:53:06.441Z"
   },
   {
    "duration": 3,
    "start_time": "2022-06-13T11:53:35.805Z"
   },
   {
    "duration": 61,
    "start_time": "2022-06-13T11:53:52.991Z"
   },
   {
    "duration": 373,
    "start_time": "2022-06-13T11:54:15.706Z"
   },
   {
    "duration": 127,
    "start_time": "2022-06-13T11:54:16.082Z"
   },
   {
    "duration": 11,
    "start_time": "2022-06-13T11:54:16.210Z"
   },
   {
    "duration": 256,
    "start_time": "2022-06-13T11:54:16.223Z"
   },
   {
    "duration": 23,
    "start_time": "2022-06-13T11:54:16.480Z"
   },
   {
    "duration": 511,
    "start_time": "2022-06-13T11:54:16.504Z"
   },
   {
    "duration": 22,
    "start_time": "2022-06-13T11:54:17.017Z"
   },
   {
    "duration": 613,
    "start_time": "2022-06-13T11:54:17.041Z"
   },
   {
    "duration": 33,
    "start_time": "2022-06-13T11:54:17.656Z"
   },
   {
    "duration": 84,
    "start_time": "2022-06-13T11:54:17.693Z"
   },
   {
    "duration": 5,
    "start_time": "2022-06-13T11:54:17.779Z"
   },
   {
    "duration": 32,
    "start_time": "2022-06-13T11:54:17.786Z"
   },
   {
    "duration": 10,
    "start_time": "2022-06-13T11:54:17.820Z"
   },
   {
    "duration": 42,
    "start_time": "2022-06-13T11:54:17.832Z"
   },
   {
    "duration": 29,
    "start_time": "2022-06-13T11:54:17.876Z"
   },
   {
    "duration": 11,
    "start_time": "2022-06-13T11:54:17.906Z"
   },
   {
    "duration": 12,
    "start_time": "2022-06-13T11:54:17.919Z"
   },
   {
    "duration": 39,
    "start_time": "2022-06-13T11:54:17.933Z"
   },
   {
    "duration": 4,
    "start_time": "2022-06-13T11:54:17.973Z"
   },
   {
    "duration": 12,
    "start_time": "2022-06-13T11:54:17.978Z"
   },
   {
    "duration": 90,
    "start_time": "2022-06-13T11:54:17.991Z"
   },
   {
    "duration": 9,
    "start_time": "2022-06-13T11:54:18.082Z"
   },
   {
    "duration": 23,
    "start_time": "2022-06-13T11:54:18.092Z"
   },
   {
    "duration": 2,
    "start_time": "2022-06-13T11:54:18.117Z"
   },
   {
    "duration": 7,
    "start_time": "2022-06-13T11:54:18.120Z"
   },
   {
    "duration": 86,
    "start_time": "2022-06-13T11:54:18.128Z"
   },
   {
    "duration": 0,
    "start_time": "2022-06-13T11:54:18.215Z"
   },
   {
    "duration": 1,
    "start_time": "2022-06-13T11:54:18.216Z"
   },
   {
    "duration": 0,
    "start_time": "2022-06-13T11:54:18.218Z"
   },
   {
    "duration": 0,
    "start_time": "2022-06-13T11:54:18.219Z"
   },
   {
    "duration": 335,
    "start_time": "2022-06-13T11:56:34.165Z"
   },
   {
    "duration": 126,
    "start_time": "2022-06-13T11:57:19.409Z"
   },
   {
    "duration": 34,
    "start_time": "2022-06-13T12:00:31.553Z"
   },
   {
    "duration": 23,
    "start_time": "2022-06-13T12:02:55.816Z"
   },
   {
    "duration": 50,
    "start_time": "2022-06-18T11:13:27.997Z"
   },
   {
    "duration": 343,
    "start_time": "2022-06-18T11:13:39.661Z"
   },
   {
    "duration": 118,
    "start_time": "2022-06-18T11:13:40.006Z"
   },
   {
    "duration": 10,
    "start_time": "2022-06-18T11:13:40.125Z"
   },
   {
    "duration": 440,
    "start_time": "2022-06-18T11:13:40.136Z"
   },
   {
    "duration": 18,
    "start_time": "2022-06-18T11:13:40.577Z"
   },
   {
    "duration": 577,
    "start_time": "2022-06-18T11:13:40.597Z"
   },
   {
    "duration": 18,
    "start_time": "2022-06-18T11:13:41.175Z"
   },
   {
    "duration": 145,
    "start_time": "2022-06-18T11:13:41.195Z"
   },
   {
    "duration": 15,
    "start_time": "2022-06-18T11:13:41.341Z"
   },
   {
    "duration": 52,
    "start_time": "2022-06-18T11:13:41.359Z"
   },
   {
    "duration": 6,
    "start_time": "2022-06-18T11:13:41.413Z"
   },
   {
    "duration": 13,
    "start_time": "2022-06-18T11:13:41.421Z"
   },
   {
    "duration": 7,
    "start_time": "2022-06-18T11:13:41.436Z"
   },
   {
    "duration": 32,
    "start_time": "2022-06-18T11:13:41.445Z"
   },
   {
    "duration": 48,
    "start_time": "2022-06-18T11:13:41.479Z"
   },
   {
    "duration": 11,
    "start_time": "2022-06-18T11:13:41.528Z"
   },
   {
    "duration": 10,
    "start_time": "2022-06-18T11:13:41.540Z"
   },
   {
    "duration": 24,
    "start_time": "2022-06-18T11:13:41.552Z"
   },
   {
    "duration": 33,
    "start_time": "2022-06-18T11:13:41.578Z"
   },
   {
    "duration": 76,
    "start_time": "2022-06-18T11:13:41.613Z"
   },
   {
    "duration": 63,
    "start_time": "2022-06-18T11:13:41.691Z"
   },
   {
    "duration": 21,
    "start_time": "2022-06-18T11:13:41.756Z"
   },
   {
    "duration": 2,
    "start_time": "2022-06-18T11:13:41.779Z"
   },
   {
    "duration": 8,
    "start_time": "2022-06-18T11:13:41.782Z"
   },
   {
    "duration": 55,
    "start_time": "2022-06-18T11:13:41.792Z"
   },
   {
    "duration": 144,
    "start_time": "2022-06-18T11:13:41.848Z"
   },
   {
    "duration": 3,
    "start_time": "2022-06-18T11:13:41.993Z"
   },
   {
    "duration": 7,
    "start_time": "2022-06-18T11:13:41.999Z"
   },
   {
    "duration": 20,
    "start_time": "2022-06-18T11:13:42.009Z"
   },
   {
    "duration": 30,
    "start_time": "2022-06-18T11:23:50.737Z"
   },
   {
    "duration": 24,
    "start_time": "2022-06-18T11:25:34.837Z"
   },
   {
    "duration": 421,
    "start_time": "2022-06-18T11:26:15.263Z"
   },
   {
    "duration": 53,
    "start_time": "2022-06-18T11:26:15.687Z"
   },
   {
    "duration": 14,
    "start_time": "2022-06-18T11:26:15.743Z"
   },
   {
    "duration": 178,
    "start_time": "2022-06-18T11:26:15.761Z"
   },
   {
    "duration": 26,
    "start_time": "2022-06-18T11:26:15.942Z"
   },
   {
    "duration": 161,
    "start_time": "2022-06-18T11:26:15.971Z"
   },
   {
    "duration": 21,
    "start_time": "2022-06-18T11:26:16.134Z"
   },
   {
    "duration": 107,
    "start_time": "2022-06-18T11:26:16.157Z"
   },
   {
    "duration": 19,
    "start_time": "2022-06-18T11:26:16.266Z"
   },
   {
    "duration": 21,
    "start_time": "2022-06-18T11:26:16.289Z"
   },
   {
    "duration": 18,
    "start_time": "2022-06-18T11:26:16.312Z"
   },
   {
    "duration": 17,
    "start_time": "2022-06-18T11:26:16.332Z"
   },
   {
    "duration": 9,
    "start_time": "2022-06-18T11:26:16.351Z"
   },
   {
    "duration": 34,
    "start_time": "2022-06-18T11:26:16.362Z"
   },
   {
    "duration": 58,
    "start_time": "2022-06-18T11:26:16.399Z"
   },
   {
    "duration": 14,
    "start_time": "2022-06-18T11:26:16.459Z"
   },
   {
    "duration": 12,
    "start_time": "2022-06-18T11:26:16.475Z"
   },
   {
    "duration": 48,
    "start_time": "2022-06-18T11:26:16.489Z"
   },
   {
    "duration": 3,
    "start_time": "2022-06-18T11:26:16.539Z"
   },
   {
    "duration": 12,
    "start_time": "2022-06-18T11:26:16.544Z"
   },
   {
    "duration": 9,
    "start_time": "2022-06-18T11:26:16.558Z"
   },
   {
    "duration": 73,
    "start_time": "2022-06-18T11:26:16.569Z"
   },
   {
    "duration": 32,
    "start_time": "2022-06-18T11:26:16.644Z"
   },
   {
    "duration": 63,
    "start_time": "2022-06-18T11:26:16.678Z"
   },
   {
    "duration": 37,
    "start_time": "2022-06-18T11:26:16.742Z"
   },
   {
    "duration": 45,
    "start_time": "2022-06-18T11:26:16.782Z"
   },
   {
    "duration": 72,
    "start_time": "2022-06-18T11:26:16.828Z"
   },
   {
    "duration": 0,
    "start_time": "2022-06-18T11:26:16.902Z"
   },
   {
    "duration": 0,
    "start_time": "2022-06-18T11:26:16.904Z"
   },
   {
    "duration": 0,
    "start_time": "2022-06-18T11:26:16.905Z"
   },
   {
    "duration": 0,
    "start_time": "2022-06-18T11:26:16.907Z"
   },
   {
    "duration": 23,
    "start_time": "2022-06-18T11:33:36.742Z"
   },
   {
    "duration": 42,
    "start_time": "2022-06-18T11:38:54.426Z"
   },
   {
    "duration": 17,
    "start_time": "2022-06-18T11:39:34.289Z"
   },
   {
    "duration": 21,
    "start_time": "2022-06-18T11:39:36.545Z"
   },
   {
    "duration": 13,
    "start_time": "2022-06-18T11:40:41.038Z"
   },
   {
    "duration": 21,
    "start_time": "2022-06-18T11:40:55.592Z"
   },
   {
    "duration": 29,
    "start_time": "2022-06-18T11:45:16.924Z"
   },
   {
    "duration": 19,
    "start_time": "2022-06-18T11:45:54.543Z"
   },
   {
    "duration": 32,
    "start_time": "2022-06-18T11:47:26.688Z"
   },
   {
    "duration": 31,
    "start_time": "2022-06-18T11:47:47.909Z"
   },
   {
    "duration": 23,
    "start_time": "2022-06-18T11:48:01.488Z"
   },
   {
    "duration": 24,
    "start_time": "2022-06-18T12:02:05.398Z"
   },
   {
    "duration": 16,
    "start_time": "2022-06-18T12:02:53.160Z"
   },
   {
    "duration": 8,
    "start_time": "2022-06-18T12:03:00.540Z"
   },
   {
    "duration": 359,
    "start_time": "2022-06-18T12:06:10.387Z"
   },
   {
    "duration": 51,
    "start_time": "2022-06-18T12:06:10.748Z"
   },
   {
    "duration": 10,
    "start_time": "2022-06-18T12:06:10.800Z"
   },
   {
    "duration": 182,
    "start_time": "2022-06-18T12:06:10.812Z"
   },
   {
    "duration": 34,
    "start_time": "2022-06-18T12:06:10.995Z"
   },
   {
    "duration": 142,
    "start_time": "2022-06-18T12:06:11.033Z"
   },
   {
    "duration": 18,
    "start_time": "2022-06-18T12:06:11.177Z"
   },
   {
    "duration": 97,
    "start_time": "2022-06-18T12:06:11.197Z"
   },
   {
    "duration": 15,
    "start_time": "2022-06-18T12:06:11.295Z"
   },
   {
    "duration": 32,
    "start_time": "2022-06-18T12:06:11.314Z"
   },
   {
    "duration": 5,
    "start_time": "2022-06-18T12:06:11.348Z"
   },
   {
    "duration": 15,
    "start_time": "2022-06-18T12:06:11.354Z"
   },
   {
    "duration": 7,
    "start_time": "2022-06-18T12:06:11.370Z"
   },
   {
    "duration": 29,
    "start_time": "2022-06-18T12:06:11.379Z"
   },
   {
    "duration": 36,
    "start_time": "2022-06-18T12:06:11.410Z"
   },
   {
    "duration": 11,
    "start_time": "2022-06-18T12:06:11.448Z"
   },
   {
    "duration": 10,
    "start_time": "2022-06-18T12:06:11.460Z"
   },
   {
    "duration": 15,
    "start_time": "2022-06-18T12:06:11.471Z"
   },
   {
    "duration": 2,
    "start_time": "2022-06-18T12:06:11.488Z"
   },
   {
    "duration": 5,
    "start_time": "2022-06-18T12:06:11.491Z"
   },
   {
    "duration": 28,
    "start_time": "2022-06-18T12:06:11.497Z"
   },
   {
    "duration": 61,
    "start_time": "2022-06-18T12:06:11.529Z"
   },
   {
    "duration": 20,
    "start_time": "2022-06-18T12:06:11.592Z"
   },
   {
    "duration": 29,
    "start_time": "2022-06-18T12:06:11.614Z"
   },
   {
    "duration": 28,
    "start_time": "2022-06-18T12:06:11.644Z"
   },
   {
    "duration": 17,
    "start_time": "2022-06-18T12:06:11.673Z"
   },
   {
    "duration": 38,
    "start_time": "2022-06-18T12:06:11.691Z"
   },
   {
    "duration": 11,
    "start_time": "2022-06-18T12:06:11.733Z"
   },
   {
    "duration": 31,
    "start_time": "2022-06-18T12:06:11.746Z"
   },
   {
    "duration": 13,
    "start_time": "2022-06-18T12:06:11.779Z"
   },
   {
    "duration": 819,
    "start_time": "2022-06-18T12:06:11.794Z"
   },
   {
    "duration": 0,
    "start_time": "2022-06-18T12:06:12.615Z"
   },
   {
    "duration": 0,
    "start_time": "2022-06-18T12:06:12.616Z"
   },
   {
    "duration": 0,
    "start_time": "2022-06-18T12:06:12.617Z"
   },
   {
    "duration": 0,
    "start_time": "2022-06-18T12:06:12.618Z"
   },
   {
    "duration": 21,
    "start_time": "2022-06-18T12:06:51.879Z"
   },
   {
    "duration": 438,
    "start_time": "2022-06-18T12:07:07.914Z"
   },
   {
    "duration": 50,
    "start_time": "2022-06-18T12:07:08.353Z"
   },
   {
    "duration": 10,
    "start_time": "2022-06-18T12:07:08.405Z"
   },
   {
    "duration": 174,
    "start_time": "2022-06-18T12:07:08.417Z"
   },
   {
    "duration": 22,
    "start_time": "2022-06-18T12:07:08.592Z"
   },
   {
    "duration": 161,
    "start_time": "2022-06-18T12:07:08.616Z"
   },
   {
    "duration": 24,
    "start_time": "2022-06-18T12:07:08.779Z"
   },
   {
    "duration": 149,
    "start_time": "2022-06-18T12:07:08.805Z"
   },
   {
    "duration": 17,
    "start_time": "2022-06-18T12:07:08.956Z"
   },
   {
    "duration": 46,
    "start_time": "2022-06-18T12:07:08.977Z"
   },
   {
    "duration": 10,
    "start_time": "2022-06-18T12:07:09.030Z"
   },
   {
    "duration": 24,
    "start_time": "2022-06-18T12:07:09.042Z"
   },
   {
    "duration": 21,
    "start_time": "2022-06-18T12:07:09.068Z"
   },
   {
    "duration": 45,
    "start_time": "2022-06-18T12:07:09.091Z"
   },
   {
    "duration": 39,
    "start_time": "2022-06-18T12:07:09.138Z"
   },
   {
    "duration": 11,
    "start_time": "2022-06-18T12:07:09.179Z"
   },
   {
    "duration": 17,
    "start_time": "2022-06-18T12:07:09.191Z"
   },
   {
    "duration": 24,
    "start_time": "2022-06-18T12:07:09.209Z"
   },
   {
    "duration": 8,
    "start_time": "2022-06-18T12:07:09.234Z"
   },
   {
    "duration": 9,
    "start_time": "2022-06-18T12:07:09.243Z"
   },
   {
    "duration": 26,
    "start_time": "2022-06-18T12:07:09.253Z"
   },
   {
    "duration": 75,
    "start_time": "2022-06-18T12:07:09.281Z"
   },
   {
    "duration": 22,
    "start_time": "2022-06-18T12:07:09.357Z"
   },
   {
    "duration": 29,
    "start_time": "2022-06-18T12:07:09.381Z"
   },
   {
    "duration": 48,
    "start_time": "2022-06-18T12:07:09.412Z"
   },
   {
    "duration": 16,
    "start_time": "2022-06-18T12:07:09.461Z"
   },
   {
    "duration": 25,
    "start_time": "2022-06-18T12:07:09.479Z"
   },
   {
    "duration": 22,
    "start_time": "2022-06-18T12:07:09.507Z"
   },
   {
    "duration": 58,
    "start_time": "2022-06-18T12:07:09.530Z"
   },
   {
    "duration": 14,
    "start_time": "2022-06-18T12:07:09.590Z"
   },
   {
    "duration": 35,
    "start_time": "2022-06-18T12:07:09.606Z"
   },
   {
    "duration": 78,
    "start_time": "2022-06-18T12:07:09.642Z"
   },
   {
    "duration": 0,
    "start_time": "2022-06-18T12:07:09.722Z"
   },
   {
    "duration": 0,
    "start_time": "2022-06-18T12:07:09.725Z"
   },
   {
    "duration": 0,
    "start_time": "2022-06-18T12:07:09.726Z"
   },
   {
    "duration": 26,
    "start_time": "2022-06-18T12:14:01.658Z"
   },
   {
    "duration": 7,
    "start_time": "2022-06-18T12:17:02.249Z"
   },
   {
    "duration": 9,
    "start_time": "2022-06-18T12:17:38.947Z"
   },
   {
    "duration": 21,
    "start_time": "2022-06-18T12:17:41.169Z"
   },
   {
    "duration": 36,
    "start_time": "2022-06-18T13:55:45.495Z"
   },
   {
    "duration": 13,
    "start_time": "2022-06-18T13:59:16.999Z"
   },
   {
    "duration": 11,
    "start_time": "2022-06-18T14:00:36.866Z"
   },
   {
    "duration": 16,
    "start_time": "2022-06-18T14:02:05.043Z"
   },
   {
    "duration": 373,
    "start_time": "2022-06-18T14:02:22.252Z"
   },
   {
    "duration": 50,
    "start_time": "2022-06-18T14:02:22.627Z"
   },
   {
    "duration": 12,
    "start_time": "2022-06-18T14:02:22.678Z"
   },
   {
    "duration": 168,
    "start_time": "2022-06-18T14:02:22.692Z"
   },
   {
    "duration": 21,
    "start_time": "2022-06-18T14:02:22.861Z"
   },
   {
    "duration": 129,
    "start_time": "2022-06-18T14:02:22.883Z"
   },
   {
    "duration": 25,
    "start_time": "2022-06-18T14:02:23.013Z"
   },
   {
    "duration": 84,
    "start_time": "2022-06-18T14:02:23.039Z"
   },
   {
    "duration": 15,
    "start_time": "2022-06-18T14:02:23.125Z"
   },
   {
    "duration": 19,
    "start_time": "2022-06-18T14:02:23.143Z"
   },
   {
    "duration": 6,
    "start_time": "2022-06-18T14:02:23.163Z"
   },
   {
    "duration": 15,
    "start_time": "2022-06-18T14:02:23.170Z"
   },
   {
    "duration": 6,
    "start_time": "2022-06-18T14:02:23.186Z"
   },
   {
    "duration": 40,
    "start_time": "2022-06-18T14:02:23.193Z"
   },
   {
    "duration": 24,
    "start_time": "2022-06-18T14:02:23.235Z"
   },
   {
    "duration": 10,
    "start_time": "2022-06-18T14:02:23.261Z"
   },
   {
    "duration": 9,
    "start_time": "2022-06-18T14:02:23.273Z"
   },
   {
    "duration": 23,
    "start_time": "2022-06-18T14:02:23.284Z"
   },
   {
    "duration": 17,
    "start_time": "2022-06-18T14:02:23.308Z"
   },
   {
    "duration": 2,
    "start_time": "2022-06-18T14:02:23.327Z"
   },
   {
    "duration": 5,
    "start_time": "2022-06-18T14:02:23.330Z"
   },
   {
    "duration": 61,
    "start_time": "2022-06-18T14:02:23.336Z"
   },
   {
    "duration": 27,
    "start_time": "2022-06-18T14:02:23.398Z"
   },
   {
    "duration": 28,
    "start_time": "2022-06-18T14:02:23.427Z"
   },
   {
    "duration": 29,
    "start_time": "2022-06-18T14:02:23.456Z"
   },
   {
    "duration": 16,
    "start_time": "2022-06-18T14:02:23.487Z"
   },
   {
    "duration": 17,
    "start_time": "2022-06-18T14:02:23.526Z"
   },
   {
    "duration": 40,
    "start_time": "2022-06-18T14:02:23.546Z"
   },
   {
    "duration": 6,
    "start_time": "2022-06-18T14:02:23.588Z"
   },
   {
    "duration": 47,
    "start_time": "2022-06-18T14:02:23.596Z"
   },
   {
    "duration": 13,
    "start_time": "2022-06-18T14:02:23.645Z"
   },
   {
    "duration": 73,
    "start_time": "2022-06-18T14:02:23.659Z"
   },
   {
    "duration": 0,
    "start_time": "2022-06-18T14:02:23.734Z"
   },
   {
    "duration": 0,
    "start_time": "2022-06-18T14:02:23.735Z"
   },
   {
    "duration": 0,
    "start_time": "2022-06-18T14:02:23.736Z"
   },
   {
    "duration": 17,
    "start_time": "2022-06-18T14:03:33.818Z"
   },
   {
    "duration": 14,
    "start_time": "2022-06-18T14:05:36.161Z"
   },
   {
    "duration": 439,
    "start_time": "2022-06-18T14:05:47.811Z"
   },
   {
    "duration": 51,
    "start_time": "2022-06-18T14:05:48.252Z"
   },
   {
    "duration": 10,
    "start_time": "2022-06-18T14:05:48.305Z"
   },
   {
    "duration": 158,
    "start_time": "2022-06-18T14:05:48.316Z"
   },
   {
    "duration": 50,
    "start_time": "2022-06-18T14:05:48.476Z"
   },
   {
    "duration": 133,
    "start_time": "2022-06-18T14:05:48.528Z"
   },
   {
    "duration": 19,
    "start_time": "2022-06-18T14:05:48.662Z"
   },
   {
    "duration": 97,
    "start_time": "2022-06-18T14:05:48.682Z"
   },
   {
    "duration": 28,
    "start_time": "2022-06-18T14:05:48.781Z"
   },
   {
    "duration": 32,
    "start_time": "2022-06-18T14:05:48.824Z"
   },
   {
    "duration": 9,
    "start_time": "2022-06-18T14:05:48.863Z"
   },
   {
    "duration": 26,
    "start_time": "2022-06-18T14:05:48.874Z"
   },
   {
    "duration": 9,
    "start_time": "2022-06-18T14:05:48.902Z"
   },
   {
    "duration": 33,
    "start_time": "2022-06-18T14:05:48.912Z"
   },
   {
    "duration": 28,
    "start_time": "2022-06-18T14:05:48.947Z"
   },
   {
    "duration": 13,
    "start_time": "2022-06-18T14:05:48.977Z"
   },
   {
    "duration": 10,
    "start_time": "2022-06-18T14:05:48.992Z"
   },
   {
    "duration": 17,
    "start_time": "2022-06-18T14:05:49.027Z"
   },
   {
    "duration": 3,
    "start_time": "2022-06-18T14:05:49.046Z"
   },
   {
    "duration": 8,
    "start_time": "2022-06-18T14:05:49.051Z"
   },
   {
    "duration": 4,
    "start_time": "2022-06-18T14:05:49.061Z"
   },
   {
    "duration": 74,
    "start_time": "2022-06-18T14:05:49.067Z"
   },
   {
    "duration": 22,
    "start_time": "2022-06-18T14:05:49.142Z"
   },
   {
    "duration": 31,
    "start_time": "2022-06-18T14:05:49.166Z"
   },
   {
    "duration": 50,
    "start_time": "2022-06-18T14:05:49.198Z"
   },
   {
    "duration": 17,
    "start_time": "2022-06-18T14:05:49.249Z"
   },
   {
    "duration": 18,
    "start_time": "2022-06-18T14:05:49.267Z"
   },
   {
    "duration": 66,
    "start_time": "2022-06-18T14:05:49.288Z"
   },
   {
    "duration": 7,
    "start_time": "2022-06-18T14:05:49.356Z"
   },
   {
    "duration": 24,
    "start_time": "2022-06-18T14:05:49.365Z"
   },
   {
    "duration": 42,
    "start_time": "2022-06-18T14:05:49.391Z"
   },
   {
    "duration": 13,
    "start_time": "2022-06-18T14:05:49.435Z"
   },
   {
    "duration": 11,
    "start_time": "2022-06-18T14:05:49.450Z"
   },
   {
    "duration": 87,
    "start_time": "2022-06-18T14:05:49.462Z"
   },
   {
    "duration": 0,
    "start_time": "2022-06-18T14:05:49.551Z"
   },
   {
    "duration": 0,
    "start_time": "2022-06-18T14:05:49.552Z"
   },
   {
    "duration": 0,
    "start_time": "2022-06-18T14:05:49.553Z"
   },
   {
    "duration": 14,
    "start_time": "2022-06-18T14:06:21.556Z"
   },
   {
    "duration": 11,
    "start_time": "2022-06-18T14:08:24.474Z"
   },
   {
    "duration": 9,
    "start_time": "2022-06-18T14:08:57.504Z"
   },
   {
    "duration": 11,
    "start_time": "2022-06-18T14:17:58.269Z"
   },
   {
    "duration": 36,
    "start_time": "2022-06-18T14:19:06.536Z"
   },
   {
    "duration": 15,
    "start_time": "2022-06-18T14:20:28.649Z"
   },
   {
    "duration": 15,
    "start_time": "2022-06-18T14:20:49.641Z"
   },
   {
    "duration": 421,
    "start_time": "2022-06-18T14:21:24.436Z"
   },
   {
    "duration": 51,
    "start_time": "2022-06-18T14:21:24.859Z"
   },
   {
    "duration": 16,
    "start_time": "2022-06-18T14:21:24.912Z"
   },
   {
    "duration": 198,
    "start_time": "2022-06-18T14:21:24.931Z"
   },
   {
    "duration": 38,
    "start_time": "2022-06-18T14:21:25.131Z"
   },
   {
    "duration": 156,
    "start_time": "2022-06-18T14:21:25.171Z"
   },
   {
    "duration": 24,
    "start_time": "2022-06-18T14:21:25.328Z"
   },
   {
    "duration": 89,
    "start_time": "2022-06-18T14:21:25.354Z"
   },
   {
    "duration": 17,
    "start_time": "2022-06-18T14:21:25.444Z"
   },
   {
    "duration": 20,
    "start_time": "2022-06-18T14:21:25.465Z"
   },
   {
    "duration": 6,
    "start_time": "2022-06-18T14:21:25.486Z"
   },
   {
    "duration": 16,
    "start_time": "2022-06-18T14:21:25.493Z"
   },
   {
    "duration": 7,
    "start_time": "2022-06-18T14:21:25.526Z"
   },
   {
    "duration": 34,
    "start_time": "2022-06-18T14:21:25.534Z"
   },
   {
    "duration": 29,
    "start_time": "2022-06-18T14:21:25.570Z"
   },
   {
    "duration": 31,
    "start_time": "2022-06-18T14:21:25.600Z"
   },
   {
    "duration": 10,
    "start_time": "2022-06-18T14:21:25.633Z"
   },
   {
    "duration": 21,
    "start_time": "2022-06-18T14:21:25.645Z"
   },
   {
    "duration": 4,
    "start_time": "2022-06-18T14:21:25.667Z"
   },
   {
    "duration": 11,
    "start_time": "2022-06-18T14:21:25.673Z"
   },
   {
    "duration": 9,
    "start_time": "2022-06-18T14:21:25.685Z"
   },
   {
    "duration": 68,
    "start_time": "2022-06-18T14:21:25.695Z"
   },
   {
    "duration": 24,
    "start_time": "2022-06-18T14:21:25.765Z"
   },
   {
    "duration": 44,
    "start_time": "2022-06-18T14:21:25.791Z"
   },
   {
    "duration": 31,
    "start_time": "2022-06-18T14:21:25.836Z"
   },
   {
    "duration": 16,
    "start_time": "2022-06-18T14:21:25.869Z"
   },
   {
    "duration": 40,
    "start_time": "2022-06-18T14:21:25.887Z"
   },
   {
    "duration": 58,
    "start_time": "2022-06-18T14:21:25.930Z"
   },
   {
    "duration": 8,
    "start_time": "2022-06-18T14:21:25.990Z"
   },
   {
    "duration": 52,
    "start_time": "2022-06-18T14:21:25.999Z"
   },
   {
    "duration": 19,
    "start_time": "2022-06-18T14:21:26.053Z"
   },
   {
    "duration": 18,
    "start_time": "2022-06-18T14:21:26.074Z"
   },
   {
    "duration": 33,
    "start_time": "2022-06-18T14:21:26.094Z"
   },
   {
    "duration": 72,
    "start_time": "2022-06-18T14:21:26.128Z"
   },
   {
    "duration": 0,
    "start_time": "2022-06-18T14:21:26.202Z"
   },
   {
    "duration": 0,
    "start_time": "2022-06-18T14:21:26.203Z"
   },
   {
    "duration": 0,
    "start_time": "2022-06-18T14:21:26.204Z"
   },
   {
    "duration": 17,
    "start_time": "2022-06-18T14:22:06.122Z"
   },
   {
    "duration": 381,
    "start_time": "2022-06-18T14:22:22.929Z"
   },
   {
    "duration": 49,
    "start_time": "2022-06-18T14:22:23.312Z"
   },
   {
    "duration": 10,
    "start_time": "2022-06-18T14:22:23.363Z"
   },
   {
    "duration": 166,
    "start_time": "2022-06-18T14:22:23.375Z"
   },
   {
    "duration": 22,
    "start_time": "2022-06-18T14:22:23.542Z"
   },
   {
    "duration": 133,
    "start_time": "2022-06-18T14:22:23.565Z"
   },
   {
    "duration": 26,
    "start_time": "2022-06-18T14:22:23.700Z"
   },
   {
    "duration": 82,
    "start_time": "2022-06-18T14:22:23.728Z"
   },
   {
    "duration": 15,
    "start_time": "2022-06-18T14:22:23.812Z"
   },
   {
    "duration": 40,
    "start_time": "2022-06-18T14:22:23.831Z"
   },
   {
    "duration": 7,
    "start_time": "2022-06-18T14:22:23.872Z"
   },
   {
    "duration": 15,
    "start_time": "2022-06-18T14:22:23.880Z"
   },
   {
    "duration": 14,
    "start_time": "2022-06-18T14:22:23.896Z"
   },
   {
    "duration": 48,
    "start_time": "2022-06-18T14:22:23.912Z"
   },
   {
    "duration": 32,
    "start_time": "2022-06-18T14:22:23.962Z"
   },
   {
    "duration": 18,
    "start_time": "2022-06-18T14:22:23.996Z"
   },
   {
    "duration": 20,
    "start_time": "2022-06-18T14:22:24.016Z"
   },
   {
    "duration": 41,
    "start_time": "2022-06-18T14:22:24.038Z"
   },
   {
    "duration": 3,
    "start_time": "2022-06-18T14:22:24.080Z"
   },
   {
    "duration": 18,
    "start_time": "2022-06-18T14:22:24.085Z"
   },
   {
    "duration": 12,
    "start_time": "2022-06-18T14:22:24.105Z"
   },
   {
    "duration": 58,
    "start_time": "2022-06-18T14:22:24.119Z"
   },
   {
    "duration": 22,
    "start_time": "2022-06-18T14:22:24.179Z"
   },
   {
    "duration": 37,
    "start_time": "2022-06-18T14:22:24.202Z"
   },
   {
    "duration": 29,
    "start_time": "2022-06-18T14:22:24.240Z"
   },
   {
    "duration": 16,
    "start_time": "2022-06-18T14:22:24.271Z"
   },
   {
    "duration": 47,
    "start_time": "2022-06-18T14:22:24.289Z"
   },
   {
    "duration": 54,
    "start_time": "2022-06-18T14:22:24.340Z"
   },
   {
    "duration": 6,
    "start_time": "2022-06-18T14:22:24.396Z"
   },
   {
    "duration": 43,
    "start_time": "2022-06-18T14:22:24.404Z"
   },
   {
    "duration": 18,
    "start_time": "2022-06-18T14:22:24.449Z"
   },
   {
    "duration": 19,
    "start_time": "2022-06-18T14:22:24.469Z"
   },
   {
    "duration": 41,
    "start_time": "2022-06-18T14:22:24.489Z"
   },
   {
    "duration": 65,
    "start_time": "2022-06-18T14:22:24.532Z"
   },
   {
    "duration": 0,
    "start_time": "2022-06-18T14:22:24.600Z"
   },
   {
    "duration": 0,
    "start_time": "2022-06-18T14:22:24.601Z"
   },
   {
    "duration": 0,
    "start_time": "2022-06-18T14:22:24.602Z"
   },
   {
    "duration": 18,
    "start_time": "2022-06-18T14:30:01.732Z"
   },
   {
    "duration": 12,
    "start_time": "2022-06-18T14:30:32.414Z"
   },
   {
    "duration": 16,
    "start_time": "2022-06-18T14:31:42.088Z"
   },
   {
    "duration": 10,
    "start_time": "2022-06-18T14:35:45.644Z"
   },
   {
    "duration": 12,
    "start_time": "2022-06-18T14:39:49.974Z"
   },
   {
    "duration": 11,
    "start_time": "2022-06-18T14:39:59.773Z"
   },
   {
    "duration": 13,
    "start_time": "2022-06-18T14:40:11.039Z"
   },
   {
    "duration": 13,
    "start_time": "2022-06-18T14:40:39.982Z"
   },
   {
    "duration": 8,
    "start_time": "2022-06-18T14:40:50.726Z"
   },
   {
    "duration": 13,
    "start_time": "2022-06-18T14:41:04.095Z"
   },
   {
    "duration": 9,
    "start_time": "2022-06-18T14:41:07.534Z"
   },
   {
    "duration": 10,
    "start_time": "2022-06-18T14:43:12.216Z"
   },
   {
    "duration": 145,
    "start_time": "2022-06-18T14:51:30.378Z"
   },
   {
    "duration": 437,
    "start_time": "2022-06-18T14:52:02.185Z"
   },
   {
    "duration": 58,
    "start_time": "2022-06-18T14:52:02.626Z"
   },
   {
    "duration": 11,
    "start_time": "2022-06-18T14:52:02.686Z"
   },
   {
    "duration": 163,
    "start_time": "2022-06-18T14:52:02.699Z"
   },
   {
    "duration": 22,
    "start_time": "2022-06-18T14:52:02.863Z"
   },
   {
    "duration": 133,
    "start_time": "2022-06-18T14:52:02.887Z"
   },
   {
    "duration": 27,
    "start_time": "2022-06-18T14:52:03.021Z"
   },
   {
    "duration": 93,
    "start_time": "2022-06-18T14:52:03.050Z"
   },
   {
    "duration": 17,
    "start_time": "2022-06-18T14:52:03.144Z"
   },
   {
    "duration": 27,
    "start_time": "2022-06-18T14:52:03.164Z"
   },
   {
    "duration": 6,
    "start_time": "2022-06-18T14:52:03.192Z"
   },
   {
    "duration": 20,
    "start_time": "2022-06-18T14:52:03.199Z"
   },
   {
    "duration": 14,
    "start_time": "2022-06-18T14:52:03.220Z"
   },
   {
    "duration": 29,
    "start_time": "2022-06-18T14:52:03.235Z"
   },
   {
    "duration": 25,
    "start_time": "2022-06-18T14:52:03.266Z"
   },
   {
    "duration": 11,
    "start_time": "2022-06-18T14:52:03.293Z"
   },
   {
    "duration": 24,
    "start_time": "2022-06-18T14:52:03.305Z"
   },
   {
    "duration": 20,
    "start_time": "2022-06-18T14:52:03.330Z"
   },
   {
    "duration": 6,
    "start_time": "2022-06-18T14:52:03.351Z"
   },
   {
    "duration": 5,
    "start_time": "2022-06-18T14:52:03.359Z"
   },
   {
    "duration": 10,
    "start_time": "2022-06-18T14:52:03.366Z"
   },
   {
    "duration": 59,
    "start_time": "2022-06-18T14:52:03.377Z"
   },
   {
    "duration": 24,
    "start_time": "2022-06-18T14:52:03.438Z"
   },
   {
    "duration": 98,
    "start_time": "2022-06-18T14:52:03.463Z"
   },
   {
    "duration": 0,
    "start_time": "2022-06-18T14:52:03.563Z"
   },
   {
    "duration": 0,
    "start_time": "2022-06-18T14:52:03.564Z"
   },
   {
    "duration": 0,
    "start_time": "2022-06-18T14:52:03.565Z"
   },
   {
    "duration": 0,
    "start_time": "2022-06-18T14:52:03.566Z"
   },
   {
    "duration": 0,
    "start_time": "2022-06-18T14:52:03.567Z"
   },
   {
    "duration": 0,
    "start_time": "2022-06-18T14:52:03.568Z"
   },
   {
    "duration": 0,
    "start_time": "2022-06-18T14:52:03.570Z"
   },
   {
    "duration": 0,
    "start_time": "2022-06-18T14:52:03.571Z"
   },
   {
    "duration": 0,
    "start_time": "2022-06-18T14:52:03.571Z"
   },
   {
    "duration": 0,
    "start_time": "2022-06-18T14:52:03.572Z"
   },
   {
    "duration": 0,
    "start_time": "2022-06-18T14:52:03.573Z"
   },
   {
    "duration": 0,
    "start_time": "2022-06-18T14:52:03.574Z"
   },
   {
    "duration": 0,
    "start_time": "2022-06-18T14:52:03.575Z"
   },
   {
    "duration": 0,
    "start_time": "2022-06-18T14:52:03.576Z"
   },
   {
    "duration": 0,
    "start_time": "2022-06-18T14:52:03.577Z"
   },
   {
    "duration": 32,
    "start_time": "2022-06-18T14:53:45.445Z"
   },
   {
    "duration": 32,
    "start_time": "2022-06-18T14:57:06.224Z"
   },
   {
    "duration": 37,
    "start_time": "2022-06-18T14:57:23.564Z"
   },
   {
    "duration": 392,
    "start_time": "2022-06-18T14:58:00.936Z"
   },
   {
    "duration": 49,
    "start_time": "2022-06-18T14:58:01.330Z"
   },
   {
    "duration": 11,
    "start_time": "2022-06-18T14:58:01.380Z"
   },
   {
    "duration": 167,
    "start_time": "2022-06-18T14:58:01.393Z"
   },
   {
    "duration": 23,
    "start_time": "2022-06-18T14:58:01.561Z"
   },
   {
    "duration": 141,
    "start_time": "2022-06-18T14:58:01.586Z"
   },
   {
    "duration": 19,
    "start_time": "2022-06-18T14:58:01.728Z"
   },
   {
    "duration": 95,
    "start_time": "2022-06-18T14:58:01.748Z"
   },
   {
    "duration": 17,
    "start_time": "2022-06-18T14:58:01.845Z"
   },
   {
    "duration": 24,
    "start_time": "2022-06-18T14:58:01.866Z"
   },
   {
    "duration": 7,
    "start_time": "2022-06-18T14:58:01.892Z"
   },
   {
    "duration": 29,
    "start_time": "2022-06-18T14:58:01.901Z"
   },
   {
    "duration": 15,
    "start_time": "2022-06-18T14:58:01.933Z"
   },
   {
    "duration": 32,
    "start_time": "2022-06-18T14:58:01.952Z"
   },
   {
    "duration": 52,
    "start_time": "2022-06-18T14:58:01.985Z"
   },
   {
    "duration": 12,
    "start_time": "2022-06-18T14:58:02.039Z"
   },
   {
    "duration": 11,
    "start_time": "2022-06-18T14:58:02.052Z"
   },
   {
    "duration": 18,
    "start_time": "2022-06-18T14:58:02.065Z"
   },
   {
    "duration": 2,
    "start_time": "2022-06-18T14:58:02.085Z"
   },
   {
    "duration": 5,
    "start_time": "2022-06-18T14:58:02.088Z"
   },
   {
    "duration": 7,
    "start_time": "2022-06-18T14:58:02.095Z"
   },
   {
    "duration": 72,
    "start_time": "2022-06-18T14:58:02.103Z"
   },
   {
    "duration": 79,
    "start_time": "2022-06-18T14:58:02.177Z"
   },
   {
    "duration": 0,
    "start_time": "2022-06-18T14:58:02.258Z"
   },
   {
    "duration": 0,
    "start_time": "2022-06-18T14:58:02.260Z"
   },
   {
    "duration": 0,
    "start_time": "2022-06-18T14:58:02.261Z"
   },
   {
    "duration": 0,
    "start_time": "2022-06-18T14:58:02.262Z"
   },
   {
    "duration": 0,
    "start_time": "2022-06-18T14:58:02.263Z"
   },
   {
    "duration": 0,
    "start_time": "2022-06-18T14:58:02.264Z"
   },
   {
    "duration": 0,
    "start_time": "2022-06-18T14:58:02.265Z"
   },
   {
    "duration": 0,
    "start_time": "2022-06-18T14:58:02.266Z"
   },
   {
    "duration": 0,
    "start_time": "2022-06-18T14:58:02.267Z"
   },
   {
    "duration": 0,
    "start_time": "2022-06-18T14:58:02.268Z"
   },
   {
    "duration": 0,
    "start_time": "2022-06-18T14:58:02.269Z"
   },
   {
    "duration": 0,
    "start_time": "2022-06-18T14:58:02.270Z"
   },
   {
    "duration": 0,
    "start_time": "2022-06-18T14:58:02.271Z"
   },
   {
    "duration": 0,
    "start_time": "2022-06-18T14:58:02.272Z"
   },
   {
    "duration": 0,
    "start_time": "2022-06-18T14:58:02.273Z"
   },
   {
    "duration": 0,
    "start_time": "2022-06-18T14:58:02.274Z"
   },
   {
    "duration": 0,
    "start_time": "2022-06-18T14:58:02.275Z"
   },
   {
    "duration": 29,
    "start_time": "2022-06-18T15:00:49.483Z"
   },
   {
    "duration": 28,
    "start_time": "2022-06-18T15:06:40.591Z"
   },
   {
    "duration": 2,
    "start_time": "2022-06-18T15:06:54.950Z"
   },
   {
    "duration": 7,
    "start_time": "2022-06-18T15:06:55.693Z"
   },
   {
    "duration": 32,
    "start_time": "2022-06-18T15:07:54.518Z"
   },
   {
    "duration": 11,
    "start_time": "2022-06-18T15:08:04.868Z"
   },
   {
    "duration": 19,
    "start_time": "2022-06-18T15:08:28.676Z"
   },
   {
    "duration": 21,
    "start_time": "2022-06-18T15:09:00.736Z"
   },
   {
    "duration": 118,
    "start_time": "2022-06-18T15:10:41.632Z"
   },
   {
    "duration": 19,
    "start_time": "2022-06-18T15:11:33.612Z"
   },
   {
    "duration": 123,
    "start_time": "2022-06-18T15:12:21.897Z"
   },
   {
    "duration": 19,
    "start_time": "2022-06-18T15:12:58.098Z"
   },
   {
    "duration": 6,
    "start_time": "2022-06-18T15:13:00.352Z"
   },
   {
    "duration": 54,
    "start_time": "2022-06-18T15:15:13.916Z"
   },
   {
    "duration": 27,
    "start_time": "2022-06-18T15:15:44.008Z"
   },
   {
    "duration": 25,
    "start_time": "2022-06-18T15:16:13.686Z"
   },
   {
    "duration": 199,
    "start_time": "2022-06-18T15:18:30.031Z"
   },
   {
    "duration": 18,
    "start_time": "2022-06-18T15:18:38.044Z"
   },
   {
    "duration": 580,
    "start_time": "2022-06-18T15:21:17.935Z"
   },
   {
    "duration": 9,
    "start_time": "2022-06-18T15:22:23.288Z"
   },
   {
    "duration": 440,
    "start_time": "2022-06-18T15:38:33.677Z"
   },
   {
    "duration": 9,
    "start_time": "2022-06-18T15:39:20.999Z"
   },
   {
    "duration": 529,
    "start_time": "2022-06-18T15:40:26.179Z"
   },
   {
    "duration": 392,
    "start_time": "2022-06-18T15:40:34.611Z"
   },
   {
    "duration": 49,
    "start_time": "2022-06-18T15:40:35.005Z"
   },
   {
    "duration": 10,
    "start_time": "2022-06-18T15:40:35.056Z"
   },
   {
    "duration": 147,
    "start_time": "2022-06-18T15:40:35.067Z"
   },
   {
    "duration": 27,
    "start_time": "2022-06-18T15:40:35.215Z"
   },
   {
    "duration": 118,
    "start_time": "2022-06-18T15:40:35.243Z"
   },
   {
    "duration": 16,
    "start_time": "2022-06-18T15:40:35.363Z"
   },
   {
    "duration": 85,
    "start_time": "2022-06-18T15:40:35.381Z"
   },
   {
    "duration": 14,
    "start_time": "2022-06-18T15:40:35.467Z"
   },
   {
    "duration": 18,
    "start_time": "2022-06-18T15:40:35.485Z"
   },
   {
    "duration": 5,
    "start_time": "2022-06-18T15:40:35.505Z"
   },
   {
    "duration": 22,
    "start_time": "2022-06-18T15:40:35.511Z"
   },
   {
    "duration": 5,
    "start_time": "2022-06-18T15:40:35.534Z"
   },
   {
    "duration": 29,
    "start_time": "2022-06-18T15:40:35.540Z"
   },
   {
    "duration": 24,
    "start_time": "2022-06-18T15:40:35.570Z"
   },
   {
    "duration": 35,
    "start_time": "2022-06-18T15:40:35.595Z"
   },
   {
    "duration": 22,
    "start_time": "2022-06-18T15:40:35.632Z"
   },
   {
    "duration": 41,
    "start_time": "2022-06-18T15:40:35.655Z"
   },
   {
    "duration": 2,
    "start_time": "2022-06-18T15:40:35.698Z"
   },
   {
    "duration": 12,
    "start_time": "2022-06-18T15:40:35.701Z"
   },
   {
    "duration": 13,
    "start_time": "2022-06-18T15:40:35.715Z"
   },
   {
    "duration": 55,
    "start_time": "2022-06-18T15:40:35.729Z"
   },
   {
    "duration": 39,
    "start_time": "2022-06-18T15:40:35.786Z"
   },
   {
    "duration": 9,
    "start_time": "2022-06-18T15:40:35.827Z"
   },
   {
    "duration": 30,
    "start_time": "2022-06-18T15:40:35.838Z"
   },
   {
    "duration": 19,
    "start_time": "2022-06-18T15:40:35.870Z"
   },
   {
    "duration": 6,
    "start_time": "2022-06-18T15:40:35.890Z"
   },
   {
    "duration": 65,
    "start_time": "2022-06-18T15:40:35.899Z"
   },
   {
    "duration": 24,
    "start_time": "2022-06-18T15:40:35.966Z"
   },
   {
    "duration": 33,
    "start_time": "2022-06-18T15:40:35.992Z"
   },
   {
    "duration": 15,
    "start_time": "2022-06-18T15:40:36.027Z"
   },
   {
    "duration": 3,
    "start_time": "2022-06-18T15:40:36.043Z"
   },
   {
    "duration": 11,
    "start_time": "2022-06-18T15:40:36.047Z"
   },
   {
    "duration": 88,
    "start_time": "2022-06-18T15:40:36.059Z"
   },
   {
    "duration": 0,
    "start_time": "2022-06-18T15:40:36.149Z"
   },
   {
    "duration": 0,
    "start_time": "2022-06-18T15:40:36.150Z"
   },
   {
    "duration": 0,
    "start_time": "2022-06-18T15:40:36.151Z"
   },
   {
    "duration": 0,
    "start_time": "2022-06-18T15:40:36.152Z"
   },
   {
    "duration": 0,
    "start_time": "2022-06-18T15:40:36.154Z"
   },
   {
    "duration": 0,
    "start_time": "2022-06-18T15:40:36.154Z"
   },
   {
    "duration": 8,
    "start_time": "2022-06-18T15:44:05.834Z"
   },
   {
    "duration": 22,
    "start_time": "2022-06-18T15:44:34.216Z"
   },
   {
    "duration": 12,
    "start_time": "2022-06-18T16:00:02.311Z"
   },
   {
    "duration": 14,
    "start_time": "2022-06-18T16:00:13.596Z"
   },
   {
    "duration": 374,
    "start_time": "2022-06-18T16:00:25.971Z"
   },
   {
    "duration": 52,
    "start_time": "2022-06-18T16:00:26.347Z"
   },
   {
    "duration": 11,
    "start_time": "2022-06-18T16:00:26.400Z"
   },
   {
    "duration": 195,
    "start_time": "2022-06-18T16:00:26.413Z"
   },
   {
    "duration": 32,
    "start_time": "2022-06-18T16:00:26.610Z"
   },
   {
    "duration": 163,
    "start_time": "2022-06-18T16:00:26.644Z"
   },
   {
    "duration": 25,
    "start_time": "2022-06-18T16:00:26.808Z"
   },
   {
    "duration": 92,
    "start_time": "2022-06-18T16:00:26.834Z"
   },
   {
    "duration": 18,
    "start_time": "2022-06-18T16:00:26.927Z"
   },
   {
    "duration": 20,
    "start_time": "2022-06-18T16:00:26.949Z"
   },
   {
    "duration": 5,
    "start_time": "2022-06-18T16:00:26.970Z"
   },
   {
    "duration": 13,
    "start_time": "2022-06-18T16:00:26.977Z"
   },
   {
    "duration": 4,
    "start_time": "2022-06-18T16:00:26.991Z"
   },
   {
    "duration": 48,
    "start_time": "2022-06-18T16:00:26.997Z"
   },
   {
    "duration": 26,
    "start_time": "2022-06-18T16:00:27.047Z"
   },
   {
    "duration": 11,
    "start_time": "2022-06-18T16:00:27.075Z"
   },
   {
    "duration": 24,
    "start_time": "2022-06-18T16:00:27.087Z"
   },
   {
    "duration": 40,
    "start_time": "2022-06-18T16:00:27.125Z"
   },
   {
    "duration": 28,
    "start_time": "2022-06-18T16:00:27.166Z"
   },
   {
    "duration": 30,
    "start_time": "2022-06-18T16:00:27.195Z"
   },
   {
    "duration": 22,
    "start_time": "2022-06-18T16:00:27.227Z"
   },
   {
    "duration": 36,
    "start_time": "2022-06-18T16:00:27.251Z"
   },
   {
    "duration": 71,
    "start_time": "2022-06-18T16:00:27.288Z"
   },
   {
    "duration": 33,
    "start_time": "2022-06-18T16:00:27.360Z"
   },
   {
    "duration": 9,
    "start_time": "2022-06-18T16:00:27.394Z"
   },
   {
    "duration": 43,
    "start_time": "2022-06-18T16:00:27.404Z"
   },
   {
    "duration": 20,
    "start_time": "2022-06-18T16:00:27.448Z"
   },
   {
    "duration": 6,
    "start_time": "2022-06-18T16:00:27.472Z"
   },
   {
    "duration": 75,
    "start_time": "2022-06-18T16:00:27.480Z"
   },
   {
    "duration": 25,
    "start_time": "2022-06-18T16:00:27.556Z"
   },
   {
    "duration": 24,
    "start_time": "2022-06-18T16:00:27.582Z"
   },
   {
    "duration": 29,
    "start_time": "2022-06-18T16:00:27.607Z"
   },
   {
    "duration": 3,
    "start_time": "2022-06-18T16:00:27.638Z"
   },
   {
    "duration": 29,
    "start_time": "2022-06-18T16:00:27.642Z"
   },
   {
    "duration": 20,
    "start_time": "2022-06-18T16:00:27.672Z"
   },
   {
    "duration": 29,
    "start_time": "2022-06-18T16:00:27.694Z"
   },
   {
    "duration": 34,
    "start_time": "2022-06-18T16:00:27.724Z"
   },
   {
    "duration": 3,
    "start_time": "2022-06-18T16:00:27.760Z"
   },
   {
    "duration": 26,
    "start_time": "2022-06-18T16:00:27.764Z"
   },
   {
    "duration": 35,
    "start_time": "2022-06-18T16:00:27.791Z"
   },
   {
    "duration": 22,
    "start_time": "2022-06-18T16:02:16.218Z"
   },
   {
    "duration": 22,
    "start_time": "2022-06-18T16:03:41.379Z"
   },
   {
    "duration": 23,
    "start_time": "2022-06-18T16:04:15.270Z"
   },
   {
    "duration": 6,
    "start_time": "2022-06-18T16:05:16.000Z"
   },
   {
    "duration": 20,
    "start_time": "2022-06-18T16:06:00.684Z"
   },
   {
    "duration": 8,
    "start_time": "2022-06-18T16:06:19.103Z"
   },
   {
    "duration": 31,
    "start_time": "2022-06-18T16:08:58.245Z"
   },
   {
    "duration": 27,
    "start_time": "2022-06-18T16:09:13.249Z"
   },
   {
    "duration": 57,
    "start_time": "2022-06-18T16:11:54.633Z"
   },
   {
    "duration": 10,
    "start_time": "2022-06-18T16:14:04.397Z"
   },
   {
    "duration": 11,
    "start_time": "2022-06-18T16:15:17.227Z"
   },
   {
    "duration": 10,
    "start_time": "2022-06-18T16:15:38.579Z"
   },
   {
    "duration": 7,
    "start_time": "2022-06-18T16:16:01.690Z"
   },
   {
    "duration": 8,
    "start_time": "2022-06-18T16:17:00.691Z"
   },
   {
    "duration": 11,
    "start_time": "2022-06-18T16:19:10.148Z"
   },
   {
    "duration": 11,
    "start_time": "2022-06-18T16:19:17.246Z"
   },
   {
    "duration": 11,
    "start_time": "2022-06-18T16:21:52.698Z"
   },
   {
    "duration": 11,
    "start_time": "2022-06-18T16:22:37.546Z"
   },
   {
    "duration": 43,
    "start_time": "2022-06-20T10:15:32.515Z"
   },
   {
    "duration": 457,
    "start_time": "2022-06-20T10:17:32.779Z"
   },
   {
    "duration": 91,
    "start_time": "2022-06-20T10:17:33.238Z"
   },
   {
    "duration": 12,
    "start_time": "2022-06-20T10:17:33.331Z"
   },
   {
    "duration": 218,
    "start_time": "2022-06-20T10:17:33.346Z"
   },
   {
    "duration": 24,
    "start_time": "2022-06-20T10:17:33.566Z"
   },
   {
    "duration": 299,
    "start_time": "2022-06-20T10:17:33.592Z"
   },
   {
    "duration": 20,
    "start_time": "2022-06-20T10:17:33.892Z"
   },
   {
    "duration": 281,
    "start_time": "2022-06-20T10:17:33.914Z"
   },
   {
    "duration": 18,
    "start_time": "2022-06-20T10:17:34.197Z"
   },
   {
    "duration": 63,
    "start_time": "2022-06-20T10:17:34.219Z"
   },
   {
    "duration": 6,
    "start_time": "2022-06-20T10:17:34.284Z"
   },
   {
    "duration": 20,
    "start_time": "2022-06-20T10:17:34.292Z"
   },
   {
    "duration": 7,
    "start_time": "2022-06-20T10:17:34.313Z"
   },
   {
    "duration": 30,
    "start_time": "2022-06-20T10:17:34.322Z"
   },
   {
    "duration": 34,
    "start_time": "2022-06-20T10:17:34.354Z"
   },
   {
    "duration": 13,
    "start_time": "2022-06-20T10:17:34.390Z"
   },
   {
    "duration": 14,
    "start_time": "2022-06-20T10:17:34.405Z"
   },
   {
    "duration": 13,
    "start_time": "2022-06-20T10:17:34.420Z"
   },
   {
    "duration": 40,
    "start_time": "2022-06-20T10:17:34.434Z"
   },
   {
    "duration": 2,
    "start_time": "2022-06-20T10:17:34.476Z"
   },
   {
    "duration": 5,
    "start_time": "2022-06-20T10:17:34.480Z"
   },
   {
    "duration": 6,
    "start_time": "2022-06-20T10:17:34.486Z"
   },
   {
    "duration": 66,
    "start_time": "2022-06-20T10:17:34.493Z"
   },
   {
    "duration": 29,
    "start_time": "2022-06-20T10:17:34.560Z"
   },
   {
    "duration": 7,
    "start_time": "2022-06-20T10:17:34.591Z"
   },
   {
    "duration": 33,
    "start_time": "2022-06-20T10:17:34.599Z"
   },
   {
    "duration": 41,
    "start_time": "2022-06-20T10:17:34.634Z"
   },
   {
    "duration": 6,
    "start_time": "2022-06-20T10:17:34.678Z"
   },
   {
    "duration": 45,
    "start_time": "2022-06-20T10:17:34.686Z"
   },
   {
    "duration": 53,
    "start_time": "2022-06-20T10:17:34.733Z"
   },
   {
    "duration": 15,
    "start_time": "2022-06-20T10:17:34.787Z"
   },
   {
    "duration": 16,
    "start_time": "2022-06-20T10:17:34.804Z"
   },
   {
    "duration": 3,
    "start_time": "2022-06-20T10:17:34.821Z"
   },
   {
    "duration": 13,
    "start_time": "2022-06-20T10:17:34.825Z"
   },
   {
    "duration": 24,
    "start_time": "2022-06-20T10:17:34.840Z"
   },
   {
    "duration": 10,
    "start_time": "2022-06-20T10:17:34.866Z"
   },
   {
    "duration": 86,
    "start_time": "2022-06-20T10:17:34.877Z"
   },
   {
    "duration": 0,
    "start_time": "2022-06-20T10:17:34.964Z"
   },
   {
    "duration": 0,
    "start_time": "2022-06-20T10:17:34.965Z"
   },
   {
    "duration": 0,
    "start_time": "2022-06-20T10:17:34.967Z"
   },
   {
    "duration": 0,
    "start_time": "2022-06-20T10:17:34.968Z"
   },
   {
    "duration": 0,
    "start_time": "2022-06-20T10:17:34.969Z"
   },
   {
    "duration": 11,
    "start_time": "2022-06-20T10:19:09.028Z"
   },
   {
    "duration": 28,
    "start_time": "2022-06-20T10:24:38.034Z"
   },
   {
    "duration": 12,
    "start_time": "2022-06-20T10:26:16.903Z"
   },
   {
    "duration": 6,
    "start_time": "2022-06-20T10:31:42.071Z"
   },
   {
    "duration": 3,
    "start_time": "2022-06-20T10:36:11.468Z"
   },
   {
    "duration": 5,
    "start_time": "2022-06-20T10:36:19.697Z"
   },
   {
    "duration": 4,
    "start_time": "2022-06-20T10:36:29.269Z"
   },
   {
    "duration": 12,
    "start_time": "2022-06-20T10:37:13.900Z"
   },
   {
    "duration": 4,
    "start_time": "2022-06-20T10:39:27.670Z"
   },
   {
    "duration": 10,
    "start_time": "2022-06-20T10:39:34.153Z"
   },
   {
    "duration": 12,
    "start_time": "2022-06-20T10:40:04.081Z"
   },
   {
    "duration": 19,
    "start_time": "2022-06-20T10:45:02.837Z"
   },
   {
    "duration": 10,
    "start_time": "2022-06-20T10:57:39.740Z"
   },
   {
    "duration": 7,
    "start_time": "2022-06-20T10:58:10.653Z"
   },
   {
    "duration": 6,
    "start_time": "2022-06-20T11:00:04.443Z"
   },
   {
    "duration": 7,
    "start_time": "2022-06-20T11:00:11.461Z"
   },
   {
    "duration": 14,
    "start_time": "2022-06-20T11:00:17.443Z"
   },
   {
    "duration": 19,
    "start_time": "2022-06-20T11:00:56.318Z"
   },
   {
    "duration": 28,
    "start_time": "2022-06-20T11:03:36.638Z"
   },
   {
    "duration": 73,
    "start_time": "2022-06-20T13:10:04.185Z"
   },
   {
    "duration": 439,
    "start_time": "2022-06-20T13:10:15.688Z"
   },
   {
    "duration": 142,
    "start_time": "2022-06-20T13:10:16.129Z"
   },
   {
    "duration": 18,
    "start_time": "2022-06-20T13:10:16.273Z"
   },
   {
    "duration": 312,
    "start_time": "2022-06-20T13:10:16.294Z"
   },
   {
    "duration": 27,
    "start_time": "2022-06-20T13:10:16.608Z"
   },
   {
    "duration": 825,
    "start_time": "2022-06-20T13:10:16.636Z"
   },
   {
    "duration": 41,
    "start_time": "2022-06-20T13:10:17.462Z"
   },
   {
    "duration": 425,
    "start_time": "2022-06-20T13:10:17.505Z"
   },
   {
    "duration": 16,
    "start_time": "2022-06-20T13:10:17.932Z"
   },
   {
    "duration": 122,
    "start_time": "2022-06-20T13:10:17.952Z"
   },
   {
    "duration": 18,
    "start_time": "2022-06-20T13:10:18.075Z"
   },
   {
    "duration": 32,
    "start_time": "2022-06-20T13:10:18.096Z"
   },
   {
    "duration": 22,
    "start_time": "2022-06-20T13:10:18.131Z"
   },
   {
    "duration": 81,
    "start_time": "2022-06-20T13:10:18.155Z"
   },
   {
    "duration": 63,
    "start_time": "2022-06-20T13:10:18.239Z"
   },
   {
    "duration": 24,
    "start_time": "2022-06-20T13:10:18.304Z"
   },
   {
    "duration": 15,
    "start_time": "2022-06-20T13:10:18.329Z"
   },
   {
    "duration": 57,
    "start_time": "2022-06-20T13:10:18.347Z"
   },
   {
    "duration": 36,
    "start_time": "2022-06-20T13:10:18.406Z"
   },
   {
    "duration": 17,
    "start_time": "2022-06-20T13:10:18.445Z"
   },
   {
    "duration": 50,
    "start_time": "2022-06-20T13:10:18.464Z"
   },
   {
    "duration": 17,
    "start_time": "2022-06-20T13:10:18.517Z"
   },
   {
    "duration": 93,
    "start_time": "2022-06-20T13:10:18.536Z"
   },
   {
    "duration": 49,
    "start_time": "2022-06-20T13:10:18.631Z"
   },
   {
    "duration": 20,
    "start_time": "2022-06-20T13:10:18.682Z"
   },
   {
    "duration": 62,
    "start_time": "2022-06-20T13:10:18.704Z"
   },
   {
    "duration": 52,
    "start_time": "2022-06-20T13:10:18.768Z"
   },
   {
    "duration": 10,
    "start_time": "2022-06-20T13:10:18.825Z"
   },
   {
    "duration": 118,
    "start_time": "2022-06-20T13:10:18.838Z"
   },
   {
    "duration": 72,
    "start_time": "2022-06-20T13:10:18.960Z"
   },
   {
    "duration": 49,
    "start_time": "2022-06-20T13:10:19.034Z"
   },
   {
    "duration": 26,
    "start_time": "2022-06-20T13:10:19.086Z"
   },
   {
    "duration": 31,
    "start_time": "2022-06-20T13:10:19.114Z"
   },
   {
    "duration": 75,
    "start_time": "2022-06-20T13:10:19.147Z"
   },
   {
    "duration": 34,
    "start_time": "2022-06-20T13:10:19.224Z"
   },
   {
    "duration": 64,
    "start_time": "2022-06-20T13:10:19.259Z"
   },
   {
    "duration": 91,
    "start_time": "2022-06-20T13:10:19.324Z"
   },
   {
    "duration": 23,
    "start_time": "2022-06-20T13:10:19.417Z"
   },
   {
    "duration": 48,
    "start_time": "2022-06-20T13:10:19.442Z"
   },
   {
    "duration": 20,
    "start_time": "2022-06-20T13:10:19.492Z"
   },
   {
    "duration": 33,
    "start_time": "2022-06-20T13:10:19.514Z"
   },
   {
    "duration": 71,
    "start_time": "2022-06-20T13:10:19.549Z"
   },
   {
    "duration": 23,
    "start_time": "2022-06-20T13:10:19.622Z"
   },
   {
    "duration": 63,
    "start_time": "2022-06-20T13:10:19.646Z"
   },
   {
    "duration": 0,
    "start_time": "2022-06-20T13:10:19.711Z"
   },
   {
    "duration": 0,
    "start_time": "2022-06-20T13:10:19.712Z"
   },
   {
    "duration": 0,
    "start_time": "2022-06-20T13:10:19.713Z"
   },
   {
    "duration": 0,
    "start_time": "2022-06-20T13:10:19.715Z"
   },
   {
    "duration": 0,
    "start_time": "2022-06-20T13:10:19.716Z"
   },
   {
    "duration": 69,
    "start_time": "2022-06-20T13:32:25.666Z"
   },
   {
    "duration": 39,
    "start_time": "2022-06-20T13:32:34.344Z"
   },
   {
    "duration": 37,
    "start_time": "2022-06-20T13:42:12.447Z"
   },
   {
    "duration": 20,
    "start_time": "2022-06-20T13:42:15.308Z"
   },
   {
    "duration": 78,
    "start_time": "2022-06-20T15:44:52.458Z"
   },
   {
    "duration": 440,
    "start_time": "2022-06-20T15:45:06.678Z"
   },
   {
    "duration": 89,
    "start_time": "2022-06-20T15:45:07.120Z"
   },
   {
    "duration": 12,
    "start_time": "2022-06-20T15:45:07.212Z"
   },
   {
    "duration": 265,
    "start_time": "2022-06-20T15:45:07.227Z"
   },
   {
    "duration": 39,
    "start_time": "2022-06-20T15:45:07.494Z"
   },
   {
    "duration": 365,
    "start_time": "2022-06-20T15:45:07.536Z"
   },
   {
    "duration": 25,
    "start_time": "2022-06-20T15:45:07.903Z"
   },
   {
    "duration": 288,
    "start_time": "2022-06-20T15:45:07.929Z"
   },
   {
    "duration": 31,
    "start_time": "2022-06-20T15:45:08.219Z"
   },
   {
    "duration": 75,
    "start_time": "2022-06-20T15:45:08.254Z"
   },
   {
    "duration": 8,
    "start_time": "2022-06-20T15:45:08.331Z"
   },
   {
    "duration": 21,
    "start_time": "2022-06-20T15:45:08.341Z"
   },
   {
    "duration": 7,
    "start_time": "2022-06-20T15:45:08.365Z"
   },
   {
    "duration": 38,
    "start_time": "2022-06-20T15:45:08.374Z"
   },
   {
    "duration": 32,
    "start_time": "2022-06-20T15:45:08.414Z"
   },
   {
    "duration": 15,
    "start_time": "2022-06-20T15:45:08.448Z"
   },
   {
    "duration": 40,
    "start_time": "2022-06-20T15:45:08.465Z"
   },
   {
    "duration": 14,
    "start_time": "2022-06-20T15:45:08.508Z"
   },
   {
    "duration": 15,
    "start_time": "2022-06-20T15:45:08.523Z"
   },
   {
    "duration": 3,
    "start_time": "2022-06-20T15:45:08.540Z"
   },
   {
    "duration": 9,
    "start_time": "2022-06-20T15:45:08.545Z"
   },
   {
    "duration": 20,
    "start_time": "2022-06-20T15:45:08.557Z"
   },
   {
    "duration": 108,
    "start_time": "2022-06-20T15:45:08.578Z"
   },
   {
    "duration": 47,
    "start_time": "2022-06-20T15:45:08.688Z"
   },
   {
    "duration": 7,
    "start_time": "2022-06-20T15:45:08.737Z"
   },
   {
    "duration": 52,
    "start_time": "2022-06-20T15:45:08.746Z"
   },
   {
    "duration": 20,
    "start_time": "2022-06-20T15:45:08.800Z"
   },
   {
    "duration": 8,
    "start_time": "2022-06-20T15:45:08.825Z"
   },
   {
    "duration": 121,
    "start_time": "2022-06-20T15:45:08.836Z"
   },
   {
    "duration": 37,
    "start_time": "2022-06-20T15:45:08.959Z"
   },
   {
    "duration": 26,
    "start_time": "2022-06-20T15:45:08.999Z"
   },
   {
    "duration": 26,
    "start_time": "2022-06-20T15:45:09.029Z"
   },
   {
    "duration": 32,
    "start_time": "2022-06-20T15:45:09.057Z"
   },
   {
    "duration": 43,
    "start_time": "2022-06-20T15:45:09.092Z"
   },
   {
    "duration": 27,
    "start_time": "2022-06-20T15:45:09.137Z"
   },
   {
    "duration": 24,
    "start_time": "2022-06-20T15:45:09.167Z"
   },
   {
    "duration": 55,
    "start_time": "2022-06-20T15:45:09.193Z"
   },
   {
    "duration": 8,
    "start_time": "2022-06-20T15:45:09.250Z"
   },
   {
    "duration": 16,
    "start_time": "2022-06-20T15:45:09.261Z"
   },
   {
    "duration": 14,
    "start_time": "2022-06-20T15:45:09.281Z"
   },
   {
    "duration": 31,
    "start_time": "2022-06-20T15:45:09.298Z"
   },
   {
    "duration": 46,
    "start_time": "2022-06-20T15:45:09.332Z"
   },
   {
    "duration": 12,
    "start_time": "2022-06-20T15:45:09.380Z"
   },
   {
    "duration": 75,
    "start_time": "2022-06-20T15:45:09.395Z"
   },
   {
    "duration": 43,
    "start_time": "2022-06-20T15:45:09.472Z"
   },
   {
    "duration": 28,
    "start_time": "2022-06-20T15:45:09.519Z"
   },
   {
    "duration": 47,
    "start_time": "2022-06-20T15:45:09.549Z"
   },
   {
    "duration": 47,
    "start_time": "2022-06-20T15:45:09.598Z"
   },
   {
    "duration": 3,
    "start_time": "2022-06-20T15:45:09.647Z"
   },
   {
    "duration": 6,
    "start_time": "2022-06-20T15:45:09.652Z"
   },
   {
    "duration": 5,
    "start_time": "2022-06-20T15:45:09.661Z"
   },
   {
    "duration": 51,
    "start_time": "2022-06-20T15:45:09.696Z"
   },
   {
    "duration": 9,
    "start_time": "2022-06-20T15:48:41.762Z"
   },
   {
    "duration": 35,
    "start_time": "2022-06-20T15:48:46.680Z"
   },
   {
    "duration": 73,
    "start_time": "2022-06-20T15:53:20.021Z"
   },
   {
    "duration": 57,
    "start_time": "2022-06-20T15:57:25.568Z"
   },
   {
    "duration": 37,
    "start_time": "2022-06-20T15:57:47.857Z"
   },
   {
    "duration": 617,
    "start_time": "2022-06-20T17:03:39.697Z"
   },
   {
    "duration": 129,
    "start_time": "2022-06-20T17:05:15.707Z"
   },
   {
    "duration": 168,
    "start_time": "2022-06-20T17:20:25.095Z"
   },
   {
    "duration": 127,
    "start_time": "2022-06-20T17:20:52.616Z"
   },
   {
    "duration": 219,
    "start_time": "2022-06-20T17:26:14.020Z"
   },
   {
    "duration": 44,
    "start_time": "2022-06-20T20:04:39.263Z"
   },
   {
    "duration": 381,
    "start_time": "2022-06-20T20:04:46.494Z"
   },
   {
    "duration": 94,
    "start_time": "2022-06-20T20:04:46.876Z"
   },
   {
    "duration": 11,
    "start_time": "2022-06-20T20:04:46.972Z"
   },
   {
    "duration": 277,
    "start_time": "2022-06-20T20:04:46.984Z"
   },
   {
    "duration": 24,
    "start_time": "2022-06-20T20:04:47.263Z"
   },
   {
    "duration": 328,
    "start_time": "2022-06-20T20:04:47.288Z"
   },
   {
    "duration": 31,
    "start_time": "2022-06-20T20:04:47.617Z"
   },
   {
    "duration": 323,
    "start_time": "2022-06-20T20:04:47.649Z"
   },
   {
    "duration": 17,
    "start_time": "2022-06-20T20:04:47.974Z"
   },
   {
    "duration": 101,
    "start_time": "2022-06-20T20:04:47.995Z"
   },
   {
    "duration": 5,
    "start_time": "2022-06-20T20:04:48.098Z"
   },
   {
    "duration": 37,
    "start_time": "2022-06-20T20:04:48.104Z"
   },
   {
    "duration": 20,
    "start_time": "2022-06-20T20:04:48.143Z"
   },
   {
    "duration": 40,
    "start_time": "2022-06-20T20:04:48.165Z"
   },
   {
    "duration": 36,
    "start_time": "2022-06-20T20:04:48.207Z"
   },
   {
    "duration": 19,
    "start_time": "2022-06-20T20:04:48.244Z"
   },
   {
    "duration": 19,
    "start_time": "2022-06-20T20:04:48.265Z"
   },
   {
    "duration": 24,
    "start_time": "2022-06-20T20:04:48.286Z"
   },
   {
    "duration": 41,
    "start_time": "2022-06-20T20:04:48.312Z"
   },
   {
    "duration": 7,
    "start_time": "2022-06-20T20:04:48.354Z"
   },
   {
    "duration": 22,
    "start_time": "2022-06-20T20:04:48.362Z"
   },
   {
    "duration": 20,
    "start_time": "2022-06-20T20:04:48.386Z"
   },
   {
    "duration": 99,
    "start_time": "2022-06-20T20:04:48.407Z"
   },
   {
    "duration": 36,
    "start_time": "2022-06-20T20:04:48.508Z"
   },
   {
    "duration": 7,
    "start_time": "2022-06-20T20:04:48.545Z"
   },
   {
    "duration": 40,
    "start_time": "2022-06-20T20:04:48.554Z"
   },
   {
    "duration": 24,
    "start_time": "2022-06-20T20:04:48.596Z"
   },
   {
    "duration": 13,
    "start_time": "2022-06-20T20:04:48.633Z"
   },
   {
    "duration": 66,
    "start_time": "2022-06-20T20:04:48.647Z"
   },
   {
    "duration": 28,
    "start_time": "2022-06-20T20:04:48.715Z"
   },
   {
    "duration": 33,
    "start_time": "2022-06-20T20:04:48.744Z"
   },
   {
    "duration": 30,
    "start_time": "2022-06-20T20:04:48.779Z"
   },
   {
    "duration": 7,
    "start_time": "2022-06-20T20:04:48.811Z"
   },
   {
    "duration": 45,
    "start_time": "2022-06-20T20:04:48.820Z"
   },
   {
    "duration": 29,
    "start_time": "2022-06-20T20:04:48.866Z"
   },
   {
    "duration": 23,
    "start_time": "2022-06-20T20:04:48.897Z"
   },
   {
    "duration": 45,
    "start_time": "2022-06-20T20:04:48.922Z"
   },
   {
    "duration": 5,
    "start_time": "2022-06-20T20:04:48.969Z"
   },
   {
    "duration": 24,
    "start_time": "2022-06-20T20:04:48.976Z"
   },
   {
    "duration": 19,
    "start_time": "2022-06-20T20:04:49.001Z"
   },
   {
    "duration": 40,
    "start_time": "2022-06-20T20:04:49.022Z"
   },
   {
    "duration": 34,
    "start_time": "2022-06-20T20:04:49.064Z"
   },
   {
    "duration": 12,
    "start_time": "2022-06-20T20:04:49.100Z"
   },
   {
    "duration": 73,
    "start_time": "2022-06-20T20:04:49.113Z"
   },
   {
    "duration": 30,
    "start_time": "2022-06-20T20:04:49.187Z"
   },
   {
    "duration": 20,
    "start_time": "2022-06-20T20:04:49.218Z"
   },
   {
    "duration": 43,
    "start_time": "2022-06-20T20:04:49.239Z"
   },
   {
    "duration": 17,
    "start_time": "2022-06-20T20:04:49.284Z"
   },
   {
    "duration": 36,
    "start_time": "2022-06-20T20:04:49.302Z"
   },
   {
    "duration": 44,
    "start_time": "2022-06-20T20:04:49.340Z"
   },
   {
    "duration": 37,
    "start_time": "2022-06-20T20:04:49.386Z"
   },
   {
    "duration": 545,
    "start_time": "2022-06-20T20:04:49.424Z"
   },
   {
    "duration": 99,
    "start_time": "2022-06-20T20:04:49.970Z"
   },
   {
    "duration": 136,
    "start_time": "2022-06-20T20:04:50.071Z"
   },
   {
    "duration": 161,
    "start_time": "2022-06-20T20:04:50.208Z"
   },
   {
    "duration": 119,
    "start_time": "2022-06-20T20:04:50.370Z"
   },
   {
    "duration": 104,
    "start_time": "2022-06-20T20:04:50.491Z"
   },
   {
    "duration": 3,
    "start_time": "2022-06-20T20:04:50.596Z"
   },
   {
    "duration": 25,
    "start_time": "2022-06-20T20:04:50.600Z"
   },
   {
    "duration": 17,
    "start_time": "2022-06-20T20:04:50.636Z"
   },
   {
    "duration": 54,
    "start_time": "2022-06-20T20:04:50.654Z"
   },
   {
    "duration": 151,
    "start_time": "2022-06-20T20:09:02.363Z"
   },
   {
    "duration": 113,
    "start_time": "2022-06-20T20:09:12.553Z"
   },
   {
    "duration": 125,
    "start_time": "2022-06-20T20:12:00.836Z"
   },
   {
    "duration": 99,
    "start_time": "2022-06-20T20:12:26.881Z"
   },
   {
    "duration": 155,
    "start_time": "2022-06-20T20:15:21.668Z"
   },
   {
    "duration": 145,
    "start_time": "2022-06-20T20:15:25.669Z"
   },
   {
    "duration": 115,
    "start_time": "2022-06-20T20:18:38.260Z"
   },
   {
    "duration": 98,
    "start_time": "2022-06-20T20:18:58.871Z"
   },
   {
    "duration": 187,
    "start_time": "2022-06-20T20:24:20.610Z"
   },
   {
    "duration": 103,
    "start_time": "2022-06-20T20:24:54.925Z"
   },
   {
    "duration": 134,
    "start_time": "2022-06-20T20:26:01.725Z"
   },
   {
    "duration": 147,
    "start_time": "2022-06-20T20:26:24.212Z"
   },
   {
    "duration": 126,
    "start_time": "2022-06-20T20:26:36.376Z"
   },
   {
    "duration": 99,
    "start_time": "2022-06-20T20:28:18.078Z"
   },
   {
    "duration": 594,
    "start_time": "2022-06-21T10:40:10.281Z"
   },
   {
    "duration": 348,
    "start_time": "2022-06-21T10:40:26.683Z"
   },
   {
    "duration": 112,
    "start_time": "2022-06-21T10:40:27.033Z"
   },
   {
    "duration": 11,
    "start_time": "2022-06-21T10:40:27.146Z"
   },
   {
    "duration": 524,
    "start_time": "2022-06-21T10:40:27.159Z"
   },
   {
    "duration": 23,
    "start_time": "2022-06-21T10:40:27.685Z"
   },
   {
    "duration": 420,
    "start_time": "2022-06-21T10:40:27.709Z"
   },
   {
    "duration": 22,
    "start_time": "2022-06-21T10:40:28.132Z"
   },
   {
    "duration": 151,
    "start_time": "2022-06-21T10:40:28.155Z"
   },
   {
    "duration": 14,
    "start_time": "2022-06-21T10:40:28.307Z"
   },
   {
    "duration": 55,
    "start_time": "2022-06-21T10:40:28.325Z"
   },
   {
    "duration": 5,
    "start_time": "2022-06-21T10:40:28.381Z"
   },
   {
    "duration": 16,
    "start_time": "2022-06-21T10:40:28.387Z"
   },
   {
    "duration": 8,
    "start_time": "2022-06-21T10:40:28.404Z"
   },
   {
    "duration": 27,
    "start_time": "2022-06-21T10:40:28.414Z"
   },
   {
    "duration": 24,
    "start_time": "2022-06-21T10:40:28.442Z"
   },
   {
    "duration": 9,
    "start_time": "2022-06-21T10:40:28.468Z"
   },
   {
    "duration": 14,
    "start_time": "2022-06-21T10:40:28.479Z"
   },
   {
    "duration": 12,
    "start_time": "2022-06-21T10:40:28.501Z"
   },
   {
    "duration": 25,
    "start_time": "2022-06-21T10:40:28.515Z"
   },
   {
    "duration": 3,
    "start_time": "2022-06-21T10:40:28.541Z"
   },
   {
    "duration": 6,
    "start_time": "2022-06-21T10:40:28.545Z"
   },
   {
    "duration": 4,
    "start_time": "2022-06-21T10:40:28.553Z"
   },
   {
    "duration": 51,
    "start_time": "2022-06-21T10:40:28.559Z"
   },
   {
    "duration": 39,
    "start_time": "2022-06-21T10:40:28.611Z"
   },
   {
    "duration": 7,
    "start_time": "2022-06-21T10:40:28.651Z"
   },
   {
    "duration": 29,
    "start_time": "2022-06-21T10:40:28.659Z"
   },
   {
    "duration": 39,
    "start_time": "2022-06-21T10:40:28.690Z"
   },
   {
    "duration": 7,
    "start_time": "2022-06-21T10:40:28.732Z"
   },
   {
    "duration": 48,
    "start_time": "2022-06-21T10:40:28.741Z"
   },
   {
    "duration": 22,
    "start_time": "2022-06-21T10:40:28.790Z"
   },
   {
    "duration": 28,
    "start_time": "2022-06-21T10:40:28.814Z"
   },
   {
    "duration": 15,
    "start_time": "2022-06-21T10:40:28.843Z"
   },
   {
    "duration": 6,
    "start_time": "2022-06-21T10:40:28.859Z"
   },
   {
    "duration": 9,
    "start_time": "2022-06-21T10:40:28.866Z"
   },
   {
    "duration": 13,
    "start_time": "2022-06-21T10:40:28.877Z"
   },
   {
    "duration": 9,
    "start_time": "2022-06-21T10:40:28.891Z"
   },
   {
    "duration": 51,
    "start_time": "2022-06-21T10:40:28.901Z"
   },
   {
    "duration": 4,
    "start_time": "2022-06-21T10:40:28.953Z"
   },
   {
    "duration": 6,
    "start_time": "2022-06-21T10:40:28.959Z"
   },
   {
    "duration": 6,
    "start_time": "2022-06-21T10:40:28.967Z"
   },
   {
    "duration": 10,
    "start_time": "2022-06-21T10:40:28.974Z"
   },
   {
    "duration": 17,
    "start_time": "2022-06-21T10:40:28.986Z"
   },
   {
    "duration": 30,
    "start_time": "2022-06-21T10:40:29.004Z"
   },
   {
    "duration": 50,
    "start_time": "2022-06-21T10:40:29.036Z"
   },
   {
    "duration": 49,
    "start_time": "2022-06-21T10:40:29.087Z"
   },
   {
    "duration": 16,
    "start_time": "2022-06-21T10:40:29.138Z"
   },
   {
    "duration": 42,
    "start_time": "2022-06-21T10:40:29.156Z"
   },
   {
    "duration": 19,
    "start_time": "2022-06-21T10:40:29.199Z"
   },
   {
    "duration": 17,
    "start_time": "2022-06-21T10:40:29.229Z"
   },
   {
    "duration": 34,
    "start_time": "2022-06-21T10:40:29.247Z"
   },
   {
    "duration": 52,
    "start_time": "2022-06-21T10:40:29.282Z"
   },
   {
    "duration": 631,
    "start_time": "2022-06-21T10:40:29.335Z"
   },
   {
    "duration": 95,
    "start_time": "2022-06-21T10:40:29.967Z"
   },
   {
    "duration": 124,
    "start_time": "2022-06-21T10:40:30.064Z"
   },
   {
    "duration": 98,
    "start_time": "2022-06-21T10:40:30.190Z"
   },
   {
    "duration": 167,
    "start_time": "2022-06-21T10:40:30.290Z"
   },
   {
    "duration": 94,
    "start_time": "2022-06-21T10:40:30.458Z"
   },
   {
    "duration": 136,
    "start_time": "2022-06-21T10:40:30.554Z"
   },
   {
    "duration": 105,
    "start_time": "2022-06-21T10:40:30.691Z"
   },
   {
    "duration": 135,
    "start_time": "2022-06-21T10:40:30.798Z"
   },
   {
    "duration": 101,
    "start_time": "2022-06-21T10:40:30.935Z"
   },
   {
    "duration": 114,
    "start_time": "2022-06-21T10:40:31.038Z"
   },
   {
    "duration": 106,
    "start_time": "2022-06-21T10:40:31.154Z"
   },
   {
    "duration": 109,
    "start_time": "2022-06-21T10:40:31.262Z"
   },
   {
    "duration": 94,
    "start_time": "2022-06-21T10:40:31.373Z"
   },
   {
    "duration": 123,
    "start_time": "2022-06-21T10:40:31.469Z"
   },
   {
    "duration": 155,
    "start_time": "2022-06-21T10:40:31.593Z"
   },
   {
    "duration": 352,
    "start_time": "2022-06-21T10:40:31.749Z"
   },
   {
    "duration": 2,
    "start_time": "2022-06-21T10:40:32.103Z"
   },
   {
    "duration": 10,
    "start_time": "2022-06-21T10:40:32.107Z"
   },
   {
    "duration": 4,
    "start_time": "2022-06-21T10:40:32.118Z"
   },
   {
    "duration": 199,
    "start_time": "2022-06-21T10:40:32.123Z"
   },
   {
    "duration": 7,
    "start_time": "2022-06-21T10:50:34.811Z"
   },
   {
    "duration": 5,
    "start_time": "2022-06-21T10:50:47.637Z"
   },
   {
    "duration": 46,
    "start_time": "2022-06-23T09:42:48.269Z"
   },
   {
    "duration": 373,
    "start_time": "2022-06-23T09:42:57.880Z"
   },
   {
    "duration": 83,
    "start_time": "2022-06-23T09:42:58.254Z"
   },
   {
    "duration": 11,
    "start_time": "2022-06-23T09:42:58.339Z"
   },
   {
    "duration": 238,
    "start_time": "2022-06-23T09:42:58.352Z"
   },
   {
    "duration": 25,
    "start_time": "2022-06-23T09:42:58.591Z"
   },
   {
    "duration": 300,
    "start_time": "2022-06-23T09:42:58.617Z"
   },
   {
    "duration": 25,
    "start_time": "2022-06-23T09:42:58.919Z"
   },
   {
    "duration": 276,
    "start_time": "2022-06-23T09:42:58.946Z"
   },
   {
    "duration": 19,
    "start_time": "2022-06-23T09:42:59.224Z"
   },
   {
    "duration": 58,
    "start_time": "2022-06-23T09:42:59.247Z"
   },
   {
    "duration": 5,
    "start_time": "2022-06-23T09:42:59.307Z"
   },
   {
    "duration": 25,
    "start_time": "2022-06-23T09:42:59.314Z"
   },
   {
    "duration": 10,
    "start_time": "2022-06-23T09:42:59.340Z"
   },
   {
    "duration": 46,
    "start_time": "2022-06-23T09:42:59.352Z"
   },
   {
    "duration": 28,
    "start_time": "2022-06-23T09:42:59.399Z"
   },
   {
    "duration": 12,
    "start_time": "2022-06-23T09:42:59.428Z"
   },
   {
    "duration": 36,
    "start_time": "2022-06-23T09:42:59.441Z"
   },
   {
    "duration": 14,
    "start_time": "2022-06-23T09:42:59.479Z"
   },
   {
    "duration": 25,
    "start_time": "2022-06-23T09:42:59.495Z"
   },
   {
    "duration": 6,
    "start_time": "2022-06-23T09:42:59.522Z"
   },
   {
    "duration": 30,
    "start_time": "2022-06-23T09:42:59.529Z"
   },
   {
    "duration": 20,
    "start_time": "2022-06-23T09:42:59.560Z"
   },
   {
    "duration": 60,
    "start_time": "2022-06-23T09:42:59.581Z"
   },
   {
    "duration": 33,
    "start_time": "2022-06-23T09:42:59.642Z"
   },
   {
    "duration": 7,
    "start_time": "2022-06-23T09:42:59.677Z"
   },
   {
    "duration": 53,
    "start_time": "2022-06-23T09:42:59.686Z"
   },
   {
    "duration": 21,
    "start_time": "2022-06-23T09:42:59.740Z"
   },
   {
    "duration": 7,
    "start_time": "2022-06-23T09:42:59.765Z"
   },
   {
    "duration": 67,
    "start_time": "2022-06-23T09:42:59.773Z"
   },
   {
    "duration": 27,
    "start_time": "2022-06-23T09:42:59.841Z"
   },
   {
    "duration": 16,
    "start_time": "2022-06-23T09:42:59.869Z"
   },
   {
    "duration": 38,
    "start_time": "2022-06-23T09:42:59.886Z"
   },
   {
    "duration": 7,
    "start_time": "2022-06-23T09:42:59.926Z"
   },
   {
    "duration": 11,
    "start_time": "2022-06-23T09:42:59.935Z"
   },
   {
    "duration": 15,
    "start_time": "2022-06-23T09:42:59.947Z"
   },
   {
    "duration": 11,
    "start_time": "2022-06-23T09:42:59.965Z"
   },
   {
    "duration": 54,
    "start_time": "2022-06-23T09:42:59.977Z"
   },
   {
    "duration": 6,
    "start_time": "2022-06-23T09:43:00.033Z"
   },
   {
    "duration": 20,
    "start_time": "2022-06-23T09:43:00.040Z"
   },
   {
    "duration": 7,
    "start_time": "2022-06-23T09:43:00.061Z"
   },
   {
    "duration": 30,
    "start_time": "2022-06-23T09:43:00.069Z"
   },
   {
    "duration": 23,
    "start_time": "2022-06-23T09:43:00.101Z"
   },
   {
    "duration": 13,
    "start_time": "2022-06-23T09:43:00.126Z"
   },
   {
    "duration": 51,
    "start_time": "2022-06-23T09:43:00.140Z"
   },
   {
    "duration": 53,
    "start_time": "2022-06-23T09:43:00.193Z"
   },
   {
    "duration": 18,
    "start_time": "2022-06-23T09:43:00.248Z"
   },
   {
    "duration": 43,
    "start_time": "2022-06-23T09:43:00.267Z"
   },
   {
    "duration": 29,
    "start_time": "2022-06-23T09:43:00.311Z"
   },
   {
    "duration": 22,
    "start_time": "2022-06-23T09:43:00.342Z"
   },
   {
    "duration": 31,
    "start_time": "2022-06-23T09:43:00.366Z"
   },
   {
    "duration": 51,
    "start_time": "2022-06-23T09:43:00.399Z"
   },
   {
    "duration": 594,
    "start_time": "2022-06-23T09:43:00.452Z"
   },
   {
    "duration": 106,
    "start_time": "2022-06-23T09:43:01.048Z"
   },
   {
    "duration": 140,
    "start_time": "2022-06-23T09:43:01.156Z"
   },
   {
    "duration": 184,
    "start_time": "2022-06-23T09:43:01.298Z"
   },
   {
    "duration": 118,
    "start_time": "2022-06-23T09:43:01.484Z"
   },
   {
    "duration": 102,
    "start_time": "2022-06-23T09:43:01.604Z"
   },
   {
    "duration": 155,
    "start_time": "2022-06-23T09:43:01.708Z"
   },
   {
    "duration": 132,
    "start_time": "2022-06-23T09:43:01.865Z"
   },
   {
    "duration": 146,
    "start_time": "2022-06-23T09:43:02.000Z"
   },
   {
    "duration": 110,
    "start_time": "2022-06-23T09:43:02.148Z"
   },
   {
    "duration": 132,
    "start_time": "2022-06-23T09:43:02.259Z"
   },
   {
    "duration": 108,
    "start_time": "2022-06-23T09:43:02.393Z"
   },
   {
    "duration": 167,
    "start_time": "2022-06-23T09:43:02.502Z"
   },
   {
    "duration": 126,
    "start_time": "2022-06-23T09:43:02.670Z"
   },
   {
    "duration": 202,
    "start_time": "2022-06-23T09:43:02.800Z"
   },
   {
    "duration": 124,
    "start_time": "2022-06-23T09:43:03.004Z"
   },
   {
    "duration": 403,
    "start_time": "2022-06-23T09:43:03.130Z"
   },
   {
    "duration": 11,
    "start_time": "2022-06-23T09:43:03.535Z"
   },
   {
    "duration": 15,
    "start_time": "2022-06-23T09:43:03.547Z"
   },
   {
    "duration": 5,
    "start_time": "2022-06-23T09:43:03.564Z"
   },
   {
    "duration": 5,
    "start_time": "2022-06-23T09:43:03.573Z"
   },
   {
    "duration": 53,
    "start_time": "2022-06-23T09:43:03.579Z"
   },
   {
    "duration": 11,
    "start_time": "2022-06-23T09:52:13.707Z"
   },
   {
    "duration": 20,
    "start_time": "2022-06-23T09:52:56.396Z"
   },
   {
    "duration": 21,
    "start_time": "2022-06-23T09:53:09.368Z"
   },
   {
    "duration": 20,
    "start_time": "2022-06-23T09:53:27.685Z"
   },
   {
    "duration": 20,
    "start_time": "2022-06-23T09:53:40.592Z"
   },
   {
    "duration": 354,
    "start_time": "2022-06-26T07:14:20.576Z"
   },
   {
    "duration": 47,
    "start_time": "2022-06-26T07:14:20.932Z"
   },
   {
    "duration": 9,
    "start_time": "2022-06-26T07:14:20.980Z"
   },
   {
    "duration": 131,
    "start_time": "2022-06-26T07:14:20.991Z"
   },
   {
    "duration": 28,
    "start_time": "2022-06-26T07:14:21.124Z"
   },
   {
    "duration": 109,
    "start_time": "2022-06-26T07:14:21.153Z"
   },
   {
    "duration": 106,
    "start_time": "2022-06-26T07:14:21.263Z"
   },
   {
    "duration": 16,
    "start_time": "2022-06-26T07:14:21.371Z"
   },
   {
    "duration": 86,
    "start_time": "2022-06-26T07:14:21.388Z"
   },
   {
    "duration": 17,
    "start_time": "2022-06-26T07:14:21.478Z"
   },
   {
    "duration": 18,
    "start_time": "2022-06-26T07:14:21.497Z"
   },
   {
    "duration": 5,
    "start_time": "2022-06-26T07:14:21.517Z"
   },
   {
    "duration": 12,
    "start_time": "2022-06-26T07:14:21.523Z"
   },
   {
    "duration": 5,
    "start_time": "2022-06-26T07:14:21.550Z"
   },
   {
    "duration": 25,
    "start_time": "2022-06-26T07:14:21.556Z"
   },
   {
    "duration": 18,
    "start_time": "2022-06-26T07:14:21.583Z"
   },
   {
    "duration": 9,
    "start_time": "2022-06-26T07:14:21.602Z"
   },
   {
    "duration": 8,
    "start_time": "2022-06-26T07:14:21.612Z"
   },
   {
    "duration": 34,
    "start_time": "2022-06-26T07:14:21.622Z"
   },
   {
    "duration": 46,
    "start_time": "2022-06-26T07:14:21.658Z"
   },
   {
    "duration": 46,
    "start_time": "2022-06-26T07:14:21.705Z"
   },
   {
    "duration": 7,
    "start_time": "2022-06-26T07:14:21.753Z"
   },
   {
    "duration": 28,
    "start_time": "2022-06-26T07:14:21.762Z"
   },
   {
    "duration": 17,
    "start_time": "2022-06-26T07:14:21.791Z"
   },
   {
    "duration": 6,
    "start_time": "2022-06-26T07:14:21.810Z"
   },
   {
    "duration": 65,
    "start_time": "2022-06-26T07:14:21.817Z"
   },
   {
    "duration": 25,
    "start_time": "2022-06-26T07:14:21.883Z"
   },
   {
    "duration": 14,
    "start_time": "2022-06-26T07:14:21.912Z"
   },
   {
    "duration": 35,
    "start_time": "2022-06-26T07:14:21.927Z"
   },
   {
    "duration": 3,
    "start_time": "2022-06-26T07:14:21.963Z"
   },
   {
    "duration": 8,
    "start_time": "2022-06-26T07:14:21.968Z"
   },
   {
    "duration": 20,
    "start_time": "2022-06-26T07:14:21.978Z"
   },
   {
    "duration": 9,
    "start_time": "2022-06-26T07:14:21.999Z"
   },
   {
    "duration": 45,
    "start_time": "2022-06-26T07:14:22.010Z"
   },
   {
    "duration": 4,
    "start_time": "2022-06-26T07:14:22.057Z"
   },
   {
    "duration": 6,
    "start_time": "2022-06-26T07:14:22.063Z"
   },
   {
    "duration": 4,
    "start_time": "2022-06-26T07:14:22.070Z"
   },
   {
    "duration": 9,
    "start_time": "2022-06-26T07:14:22.076Z"
   },
   {
    "duration": 20,
    "start_time": "2022-06-26T07:14:22.086Z"
   },
   {
    "duration": 6,
    "start_time": "2022-06-26T07:14:22.107Z"
   },
   {
    "duration": 69,
    "start_time": "2022-06-26T07:14:22.114Z"
   },
   {
    "duration": 28,
    "start_time": "2022-06-26T07:14:22.185Z"
   },
   {
    "duration": 15,
    "start_time": "2022-06-26T07:14:22.214Z"
   },
   {
    "duration": 44,
    "start_time": "2022-06-26T07:14:22.230Z"
   },
   {
    "duration": 16,
    "start_time": "2022-06-26T07:14:22.276Z"
   },
   {
    "duration": 15,
    "start_time": "2022-06-26T07:14:22.293Z"
   },
   {
    "duration": 45,
    "start_time": "2022-06-26T07:14:22.309Z"
   },
   {
    "duration": 29,
    "start_time": "2022-06-26T07:14:22.355Z"
   },
   {
    "duration": 325,
    "start_time": "2022-06-26T07:14:22.386Z"
   },
   {
    "duration": 81,
    "start_time": "2022-06-26T07:14:22.712Z"
   },
   {
    "duration": 109,
    "start_time": "2022-06-26T07:14:22.795Z"
   },
   {
    "duration": 91,
    "start_time": "2022-06-26T07:14:22.905Z"
   },
   {
    "duration": 166,
    "start_time": "2022-06-26T07:14:22.998Z"
   },
   {
    "duration": 97,
    "start_time": "2022-06-26T07:14:23.166Z"
   },
   {
    "duration": 126,
    "start_time": "2022-06-26T07:14:23.265Z"
   },
   {
    "duration": 102,
    "start_time": "2022-06-26T07:14:23.393Z"
   },
   {
    "duration": 119,
    "start_time": "2022-06-26T07:14:23.497Z"
   },
   {
    "duration": 91,
    "start_time": "2022-06-26T07:14:23.617Z"
   },
   {
    "duration": 118,
    "start_time": "2022-06-26T07:14:23.709Z"
   },
   {
    "duration": 84,
    "start_time": "2022-06-26T07:14:23.829Z"
   },
   {
    "duration": 121,
    "start_time": "2022-06-26T07:14:23.914Z"
   },
   {
    "duration": 101,
    "start_time": "2022-06-26T07:14:24.036Z"
   },
   {
    "duration": 133,
    "start_time": "2022-06-26T07:14:24.138Z"
   },
   {
    "duration": 218,
    "start_time": "2022-06-26T07:14:24.273Z"
   },
   {
    "duration": 403,
    "start_time": "2022-06-26T07:14:24.493Z"
   },
   {
    "duration": 10,
    "start_time": "2022-06-26T07:14:24.897Z"
   },
   {
    "duration": 6,
    "start_time": "2022-06-26T07:22:09.558Z"
   },
   {
    "duration": 449,
    "start_time": "2022-06-27T18:58:14.479Z"
   },
   {
    "duration": 175,
    "start_time": "2022-06-27T18:58:14.938Z"
   },
   {
    "duration": 25,
    "start_time": "2022-06-27T18:58:15.115Z"
   },
   {
    "duration": 646,
    "start_time": "2022-06-27T18:58:15.149Z"
   },
   {
    "duration": 27,
    "start_time": "2022-06-27T18:58:15.797Z"
   },
   {
    "duration": 850,
    "start_time": "2022-06-27T18:58:15.831Z"
   },
   {
    "duration": 171,
    "start_time": "2022-06-27T18:58:16.686Z"
   },
   {
    "duration": 43,
    "start_time": "2022-06-27T18:58:16.861Z"
   },
   {
    "duration": 599,
    "start_time": "2022-06-27T18:58:16.906Z"
   },
   {
    "duration": 29,
    "start_time": "2022-06-27T18:58:17.510Z"
   },
   {
    "duration": 151,
    "start_time": "2022-06-27T18:58:17.541Z"
   },
   {
    "duration": 9,
    "start_time": "2022-06-27T18:58:17.694Z"
   },
   {
    "duration": 42,
    "start_time": "2022-06-27T18:58:17.705Z"
   },
   {
    "duration": 41,
    "start_time": "2022-06-27T18:58:17.750Z"
   },
   {
    "duration": 69,
    "start_time": "2022-06-27T18:58:17.795Z"
   },
   {
    "duration": 45,
    "start_time": "2022-06-27T18:58:17.869Z"
   },
   {
    "duration": 16,
    "start_time": "2022-06-27T18:58:17.916Z"
   },
   {
    "duration": 62,
    "start_time": "2022-06-27T18:58:17.934Z"
   },
   {
    "duration": 79,
    "start_time": "2022-06-27T18:58:17.998Z"
   },
   {
    "duration": 73,
    "start_time": "2022-06-27T18:58:18.079Z"
   },
   {
    "duration": 94,
    "start_time": "2022-06-27T18:58:18.157Z"
   },
   {
    "duration": 11,
    "start_time": "2022-06-27T18:58:18.256Z"
   },
   {
    "duration": 141,
    "start_time": "2022-06-27T18:58:18.269Z"
   },
   {
    "duration": 33,
    "start_time": "2022-06-27T18:58:18.413Z"
   },
   {
    "duration": 46,
    "start_time": "2022-06-27T18:58:18.455Z"
   },
   {
    "duration": 135,
    "start_time": "2022-06-27T18:58:18.504Z"
   },
   {
    "duration": 55,
    "start_time": "2022-06-27T18:58:18.640Z"
   },
   {
    "duration": 39,
    "start_time": "2022-06-27T18:58:18.702Z"
   },
   {
    "duration": 21,
    "start_time": "2022-06-27T18:58:18.743Z"
   },
   {
    "duration": 65,
    "start_time": "2022-06-27T18:58:18.766Z"
   },
   {
    "duration": 14,
    "start_time": "2022-06-27T18:58:18.834Z"
   },
   {
    "duration": 47,
    "start_time": "2022-06-27T18:58:18.850Z"
   },
   {
    "duration": 50,
    "start_time": "2022-06-27T18:58:18.899Z"
   },
   {
    "duration": 95,
    "start_time": "2022-06-27T18:58:18.958Z"
   },
   {
    "duration": 8,
    "start_time": "2022-06-27T18:58:19.054Z"
   },
   {
    "duration": 55,
    "start_time": "2022-06-27T18:58:19.063Z"
   },
   {
    "duration": 17,
    "start_time": "2022-06-27T18:58:19.120Z"
   },
   {
    "duration": 71,
    "start_time": "2022-06-27T18:58:19.141Z"
   },
   {
    "duration": 55,
    "start_time": "2022-06-27T18:58:19.214Z"
   },
   {
    "duration": 14,
    "start_time": "2022-06-27T18:58:19.271Z"
   },
   {
    "duration": 95,
    "start_time": "2022-06-27T18:58:19.287Z"
   },
   {
    "duration": 57,
    "start_time": "2022-06-27T18:58:19.387Z"
   },
   {
    "duration": 53,
    "start_time": "2022-06-27T18:58:19.453Z"
   },
   {
    "duration": 49,
    "start_time": "2022-06-27T18:58:19.509Z"
   },
   {
    "duration": 52,
    "start_time": "2022-06-27T18:58:19.560Z"
   },
   {
    "duration": 31,
    "start_time": "2022-06-27T18:58:19.614Z"
   },
   {
    "duration": 57,
    "start_time": "2022-06-27T18:58:19.647Z"
   },
   {
    "duration": 60,
    "start_time": "2022-06-27T18:58:19.706Z"
   },
   {
    "duration": 802,
    "start_time": "2022-06-27T18:58:19.775Z"
   },
   {
    "duration": 144,
    "start_time": "2022-06-27T18:58:20.579Z"
   },
   {
    "duration": 178,
    "start_time": "2022-06-27T18:58:20.725Z"
   },
   {
    "duration": 214,
    "start_time": "2022-06-27T18:58:20.906Z"
   },
   {
    "duration": 191,
    "start_time": "2022-06-27T18:58:21.122Z"
   },
   {
    "duration": 145,
    "start_time": "2022-06-27T18:58:21.315Z"
   },
   {
    "duration": 171,
    "start_time": "2022-06-27T18:58:21.467Z"
   },
   {
    "duration": 128,
    "start_time": "2022-06-27T18:58:21.639Z"
   },
   {
    "duration": 181,
    "start_time": "2022-06-27T18:58:21.769Z"
   },
   {
    "duration": 146,
    "start_time": "2022-06-27T18:58:21.952Z"
   },
   {
    "duration": 199,
    "start_time": "2022-06-27T18:58:22.102Z"
   },
   {
    "duration": 114,
    "start_time": "2022-06-27T18:58:22.303Z"
   },
   {
    "duration": 182,
    "start_time": "2022-06-27T18:58:22.419Z"
   },
   {
    "duration": 144,
    "start_time": "2022-06-27T18:58:22.603Z"
   },
   {
    "duration": 248,
    "start_time": "2022-06-27T18:58:22.750Z"
   },
   {
    "duration": 151,
    "start_time": "2022-06-27T18:58:23.002Z"
   },
   {
    "duration": 445,
    "start_time": "2022-06-27T18:58:23.155Z"
   },
   {
    "duration": 38,
    "start_time": "2022-06-27T18:58:23.603Z"
   },
   {
    "duration": 2,
    "start_time": "2022-06-27T19:34:14.474Z"
   },
   {
    "duration": 905,
    "start_time": "2022-06-27T19:40:17.192Z"
   },
   {
    "duration": 86,
    "start_time": "2022-06-27T19:40:18.099Z"
   },
   {
    "duration": 11,
    "start_time": "2022-06-27T19:40:18.187Z"
   },
   {
    "duration": 266,
    "start_time": "2022-06-27T19:40:18.202Z"
   },
   {
    "duration": 22,
    "start_time": "2022-06-27T19:40:18.471Z"
   },
   {
    "duration": 175,
    "start_time": "2022-06-27T19:40:18.495Z"
   },
   {
    "duration": 177,
    "start_time": "2022-06-27T19:40:18.672Z"
   },
   {
    "duration": 25,
    "start_time": "2022-06-27T19:40:18.851Z"
   },
   {
    "duration": 130,
    "start_time": "2022-06-27T19:40:18.878Z"
   },
   {
    "duration": 35,
    "start_time": "2022-06-27T19:40:19.013Z"
   },
   {
    "duration": 53,
    "start_time": "2022-06-27T19:40:19.050Z"
   },
   {
    "duration": 7,
    "start_time": "2022-06-27T19:40:19.104Z"
   },
   {
    "duration": 57,
    "start_time": "2022-06-27T19:40:19.113Z"
   },
   {
    "duration": 10,
    "start_time": "2022-06-27T19:40:19.172Z"
   },
   {
    "duration": 35,
    "start_time": "2022-06-27T19:40:19.183Z"
   },
   {
    "duration": 34,
    "start_time": "2022-06-27T19:40:19.220Z"
   },
   {
    "duration": 29,
    "start_time": "2022-06-27T19:40:19.259Z"
   },
   {
    "duration": 11,
    "start_time": "2022-06-27T19:40:19.290Z"
   },
   {
    "duration": 19,
    "start_time": "2022-06-27T19:40:19.303Z"
   },
   {
    "duration": 76,
    "start_time": "2022-06-27T19:40:19.323Z"
   },
   {
    "duration": 39,
    "start_time": "2022-06-27T19:40:19.401Z"
   },
   {
    "duration": 10,
    "start_time": "2022-06-27T19:40:19.441Z"
   },
   {
    "duration": 51,
    "start_time": "2022-06-27T19:40:19.454Z"
   },
   {
    "duration": 25,
    "start_time": "2022-06-27T19:40:19.507Z"
   },
   {
    "duration": 9,
    "start_time": "2022-06-27T19:40:19.533Z"
   },
   {
    "duration": 87,
    "start_time": "2022-06-27T19:40:19.543Z"
   },
   {
    "duration": 37,
    "start_time": "2022-06-27T19:40:19.636Z"
   },
   {
    "duration": 20,
    "start_time": "2022-06-27T19:40:19.679Z"
   },
   {
    "duration": 27,
    "start_time": "2022-06-27T19:40:19.700Z"
   },
   {
    "duration": 40,
    "start_time": "2022-06-27T19:40:19.731Z"
   },
   {
    "duration": 28,
    "start_time": "2022-06-27T19:40:19.774Z"
   },
   {
    "duration": 86,
    "start_time": "2022-06-27T19:40:19.803Z"
   },
   {
    "duration": 12,
    "start_time": "2022-06-27T19:40:19.891Z"
   },
   {
    "duration": 77,
    "start_time": "2022-06-27T19:40:19.905Z"
   },
   {
    "duration": 6,
    "start_time": "2022-06-27T19:40:19.983Z"
   },
   {
    "duration": 23,
    "start_time": "2022-06-27T19:40:19.990Z"
   },
   {
    "duration": 67,
    "start_time": "2022-06-27T19:40:20.015Z"
   },
   {
    "duration": 24,
    "start_time": "2022-06-27T19:40:20.084Z"
   },
   {
    "duration": 83,
    "start_time": "2022-06-27T19:40:20.110Z"
   },
   {
    "duration": 9,
    "start_time": "2022-06-27T19:40:20.195Z"
   },
   {
    "duration": 86,
    "start_time": "2022-06-27T19:40:20.205Z"
   },
   {
    "duration": 41,
    "start_time": "2022-06-27T19:40:20.293Z"
   },
   {
    "duration": 38,
    "start_time": "2022-06-27T19:40:20.336Z"
   },
   {
    "duration": 40,
    "start_time": "2022-06-27T19:40:20.376Z"
   },
   {
    "duration": 50,
    "start_time": "2022-06-27T19:40:20.417Z"
   },
   {
    "duration": 31,
    "start_time": "2022-06-27T19:40:20.469Z"
   },
   {
    "duration": 54,
    "start_time": "2022-06-27T19:40:20.501Z"
   },
   {
    "duration": 37,
    "start_time": "2022-06-27T19:40:20.559Z"
   },
   {
    "duration": 600,
    "start_time": "2022-06-27T19:40:20.598Z"
   },
   {
    "duration": 121,
    "start_time": "2022-06-27T19:40:21.200Z"
   },
   {
    "duration": 157,
    "start_time": "2022-06-27T19:40:21.323Z"
   },
   {
    "duration": 119,
    "start_time": "2022-06-27T19:40:21.481Z"
   },
   {
    "duration": 177,
    "start_time": "2022-06-27T19:40:21.603Z"
   },
   {
    "duration": 131,
    "start_time": "2022-06-27T19:40:21.782Z"
   },
   {
    "duration": 160,
    "start_time": "2022-06-27T19:40:21.915Z"
   },
   {
    "duration": 156,
    "start_time": "2022-06-27T19:40:22.077Z"
   },
   {
    "duration": 164,
    "start_time": "2022-06-27T19:40:22.245Z"
   },
   {
    "duration": 153,
    "start_time": "2022-06-27T19:40:22.411Z"
   },
   {
    "duration": 167,
    "start_time": "2022-06-27T19:40:22.568Z"
   },
   {
    "duration": 184,
    "start_time": "2022-06-27T19:40:22.739Z"
   },
   {
    "duration": 165,
    "start_time": "2022-06-27T19:40:22.928Z"
   },
   {
    "duration": 135,
    "start_time": "2022-06-27T19:40:23.095Z"
   },
   {
    "duration": 149,
    "start_time": "2022-06-27T19:40:23.241Z"
   },
   {
    "duration": 126,
    "start_time": "2022-06-27T19:40:23.391Z"
   },
   {
    "duration": 15,
    "start_time": "2022-06-27T19:40:23.519Z"
   },
   {
    "duration": 51,
    "start_time": "2022-06-27T19:40:23.538Z"
   },
   {
    "duration": 952,
    "start_time": "2022-06-28T13:50:37.590Z"
   },
   {
    "duration": 50,
    "start_time": "2022-06-28T13:50:38.544Z"
   },
   {
    "duration": 16,
    "start_time": "2022-06-28T13:50:38.596Z"
   },
   {
    "duration": 291,
    "start_time": "2022-06-28T13:50:38.614Z"
   },
   {
    "duration": 44,
    "start_time": "2022-06-28T13:50:38.907Z"
   },
   {
    "duration": 182,
    "start_time": "2022-06-28T13:50:38.954Z"
   },
   {
    "duration": 200,
    "start_time": "2022-06-28T13:50:39.138Z"
   },
   {
    "duration": 30,
    "start_time": "2022-06-28T13:50:39.340Z"
   },
   {
    "duration": 154,
    "start_time": "2022-06-28T13:50:39.372Z"
   },
   {
    "duration": 35,
    "start_time": "2022-06-28T13:50:39.528Z"
   },
   {
    "duration": 34,
    "start_time": "2022-06-28T13:50:39.566Z"
   },
   {
    "duration": 28,
    "start_time": "2022-06-28T13:50:39.602Z"
   },
   {
    "duration": 61,
    "start_time": "2022-06-28T13:50:39.632Z"
   },
   {
    "duration": 11,
    "start_time": "2022-06-28T13:50:39.697Z"
   },
   {
    "duration": 84,
    "start_time": "2022-06-28T13:50:39.710Z"
   },
   {
    "duration": 54,
    "start_time": "2022-06-28T13:50:39.796Z"
   },
   {
    "duration": 26,
    "start_time": "2022-06-28T13:50:39.860Z"
   },
   {
    "duration": 33,
    "start_time": "2022-06-28T13:50:39.889Z"
   },
   {
    "duration": 55,
    "start_time": "2022-06-28T13:50:39.925Z"
   },
   {
    "duration": 83,
    "start_time": "2022-06-28T13:50:39.982Z"
   },
   {
    "duration": 46,
    "start_time": "2022-06-28T13:50:40.068Z"
   },
   {
    "duration": 15,
    "start_time": "2022-06-28T13:50:40.130Z"
   },
   {
    "duration": 58,
    "start_time": "2022-06-28T13:50:40.147Z"
   },
   {
    "duration": 33,
    "start_time": "2022-06-28T13:50:40.208Z"
   },
   {
    "duration": 24,
    "start_time": "2022-06-28T13:50:40.243Z"
   },
   {
    "duration": 85,
    "start_time": "2022-06-28T13:50:40.269Z"
   },
   {
    "duration": 37,
    "start_time": "2022-06-28T13:50:40.356Z"
   },
   {
    "duration": 19,
    "start_time": "2022-06-28T13:50:40.395Z"
   },
   {
    "duration": 35,
    "start_time": "2022-06-28T13:50:40.426Z"
   },
   {
    "duration": 16,
    "start_time": "2022-06-28T13:50:40.463Z"
   },
   {
    "duration": 19,
    "start_time": "2022-06-28T13:50:40.481Z"
   },
   {
    "duration": 52,
    "start_time": "2022-06-28T13:50:40.502Z"
   },
   {
    "duration": 26,
    "start_time": "2022-06-28T13:50:40.556Z"
   },
   {
    "duration": 51,
    "start_time": "2022-06-28T13:50:40.583Z"
   },
   {
    "duration": 9,
    "start_time": "2022-06-28T13:50:40.640Z"
   },
   {
    "duration": 15,
    "start_time": "2022-06-28T13:50:40.651Z"
   },
   {
    "duration": 9,
    "start_time": "2022-06-28T13:50:40.668Z"
   },
   {
    "duration": 25,
    "start_time": "2022-06-28T13:50:40.679Z"
   },
   {
    "duration": 60,
    "start_time": "2022-06-28T13:50:40.706Z"
   },
   {
    "duration": 29,
    "start_time": "2022-06-28T13:50:40.770Z"
   },
   {
    "duration": 88,
    "start_time": "2022-06-28T13:50:40.805Z"
   },
   {
    "duration": 56,
    "start_time": "2022-06-28T13:50:40.895Z"
   },
   {
    "duration": 30,
    "start_time": "2022-06-28T13:50:40.953Z"
   },
   {
    "duration": 67,
    "start_time": "2022-06-28T13:50:40.985Z"
   },
   {
    "duration": 40,
    "start_time": "2022-06-28T13:50:41.055Z"
   },
   {
    "duration": 61,
    "start_time": "2022-06-28T13:50:41.097Z"
   },
   {
    "duration": 51,
    "start_time": "2022-06-28T13:50:41.160Z"
   },
   {
    "duration": 74,
    "start_time": "2022-06-28T13:50:41.213Z"
   },
   {
    "duration": 594,
    "start_time": "2022-06-28T13:50:41.289Z"
   },
   {
    "duration": 152,
    "start_time": "2022-06-28T13:50:41.886Z"
   },
   {
    "duration": 150,
    "start_time": "2022-06-28T13:50:42.042Z"
   },
   {
    "duration": 130,
    "start_time": "2022-06-28T13:50:42.194Z"
   },
   {
    "duration": 171,
    "start_time": "2022-06-28T13:50:42.326Z"
   },
   {
    "duration": 142,
    "start_time": "2022-06-28T13:50:42.498Z"
   },
   {
    "duration": 147,
    "start_time": "2022-06-28T13:50:42.642Z"
   },
   {
    "duration": 121,
    "start_time": "2022-06-28T13:50:42.791Z"
   },
   {
    "duration": 166,
    "start_time": "2022-06-28T13:50:42.914Z"
   },
   {
    "duration": 139,
    "start_time": "2022-06-28T13:50:43.082Z"
   },
   {
    "duration": 200,
    "start_time": "2022-06-28T13:50:43.226Z"
   },
   {
    "duration": 204,
    "start_time": "2022-06-28T13:50:43.428Z"
   },
   {
    "duration": 155,
    "start_time": "2022-06-28T13:50:43.634Z"
   },
   {
    "duration": 169,
    "start_time": "2022-06-28T13:50:43.791Z"
   },
   {
    "duration": 143,
    "start_time": "2022-06-28T13:50:43.962Z"
   },
   {
    "duration": 138,
    "start_time": "2022-06-28T13:50:44.107Z"
   },
   {
    "duration": 6,
    "start_time": "2022-06-28T13:50:44.247Z"
   },
   {
    "duration": 19,
    "start_time": "2022-06-28T13:50:44.255Z"
   },
   {
    "duration": 17,
    "start_time": "2022-06-28T13:51:31.970Z"
   },
   {
    "duration": 12,
    "start_time": "2022-06-28T13:53:30.755Z"
   },
   {
    "duration": 903,
    "start_time": "2022-06-28T13:59:41.063Z"
   },
   {
    "duration": 37,
    "start_time": "2022-06-28T13:59:41.969Z"
   },
   {
    "duration": 12,
    "start_time": "2022-06-28T13:59:42.008Z"
   },
   {
    "duration": 221,
    "start_time": "2022-06-28T13:59:42.022Z"
   },
   {
    "duration": 44,
    "start_time": "2022-06-28T13:59:42.248Z"
   },
   {
    "duration": 190,
    "start_time": "2022-06-28T13:59:42.294Z"
   },
   {
    "duration": 178,
    "start_time": "2022-06-28T13:59:42.485Z"
   },
   {
    "duration": 22,
    "start_time": "2022-06-28T13:59:42.666Z"
   },
   {
    "duration": 123,
    "start_time": "2022-06-28T13:59:42.690Z"
   },
   {
    "duration": 24,
    "start_time": "2022-06-28T13:59:42.815Z"
   },
   {
    "duration": 50,
    "start_time": "2022-06-28T13:59:42.841Z"
   },
   {
    "duration": 6,
    "start_time": "2022-06-28T13:59:42.893Z"
   },
   {
    "duration": 19,
    "start_time": "2022-06-28T13:59:42.901Z"
   },
   {
    "duration": 11,
    "start_time": "2022-06-28T13:59:42.923Z"
   },
   {
    "duration": 63,
    "start_time": "2022-06-28T13:59:42.938Z"
   },
   {
    "duration": 38,
    "start_time": "2022-06-28T13:59:43.003Z"
   },
   {
    "duration": 18,
    "start_time": "2022-06-28T13:59:43.048Z"
   },
   {
    "duration": 19,
    "start_time": "2022-06-28T13:59:43.068Z"
   },
   {
    "duration": 34,
    "start_time": "2022-06-28T13:59:43.089Z"
   },
   {
    "duration": 88,
    "start_time": "2022-06-28T13:59:43.125Z"
   },
   {
    "duration": 47,
    "start_time": "2022-06-28T13:59:43.215Z"
   },
   {
    "duration": 13,
    "start_time": "2022-06-28T13:59:43.267Z"
   },
   {
    "duration": 60,
    "start_time": "2022-06-28T13:59:43.282Z"
   },
   {
    "duration": 29,
    "start_time": "2022-06-28T13:59:43.348Z"
   },
   {
    "duration": 8,
    "start_time": "2022-06-28T13:59:43.379Z"
   },
   {
    "duration": 74,
    "start_time": "2022-06-28T13:59:43.389Z"
   },
   {
    "duration": 33,
    "start_time": "2022-06-28T13:59:43.466Z"
   },
   {
    "duration": 17,
    "start_time": "2022-06-28T13:59:43.502Z"
   },
   {
    "duration": 49,
    "start_time": "2022-06-28T13:59:43.521Z"
   },
   {
    "duration": 5,
    "start_time": "2022-06-28T13:59:43.572Z"
   },
   {
    "duration": 13,
    "start_time": "2022-06-28T13:59:43.578Z"
   },
   {
    "duration": 24,
    "start_time": "2022-06-28T13:59:43.593Z"
   },
   {
    "duration": 19,
    "start_time": "2022-06-28T13:59:43.619Z"
   },
   {
    "duration": 60,
    "start_time": "2022-06-28T13:59:43.639Z"
   },
   {
    "duration": 8,
    "start_time": "2022-06-28T13:59:43.703Z"
   },
   {
    "duration": 10,
    "start_time": "2022-06-28T13:59:43.713Z"
   },
   {
    "duration": 54,
    "start_time": "2022-06-28T13:59:43.724Z"
   },
   {
    "duration": 16,
    "start_time": "2022-06-28T13:59:43.779Z"
   },
   {
    "duration": 28,
    "start_time": "2022-06-28T13:59:43.797Z"
   },
   {
    "duration": 14,
    "start_time": "2022-06-28T13:59:43.836Z"
   },
   {
    "duration": 75,
    "start_time": "2022-06-28T13:59:43.862Z"
   },
   {
    "duration": 46,
    "start_time": "2022-06-28T13:59:43.946Z"
   },
   {
    "duration": 70,
    "start_time": "2022-06-28T13:59:43.994Z"
   },
   {
    "duration": 8,
    "start_time": "2022-06-28T13:59:44.066Z"
   },
   {
    "duration": 42,
    "start_time": "2022-06-28T13:59:44.076Z"
   },
   {
    "duration": 31,
    "start_time": "2022-06-28T13:59:44.120Z"
   },
   {
    "duration": 51,
    "start_time": "2022-06-28T13:59:44.152Z"
   },
   {
    "duration": 52,
    "start_time": "2022-06-28T13:59:44.205Z"
   },
   {
    "duration": 37,
    "start_time": "2022-06-28T13:59:44.260Z"
   },
   {
    "duration": 606,
    "start_time": "2022-06-28T13:59:44.299Z"
   },
   {
    "duration": 162,
    "start_time": "2022-06-28T13:59:44.908Z"
   },
   {
    "duration": 181,
    "start_time": "2022-06-28T13:59:45.072Z"
   },
   {
    "duration": 130,
    "start_time": "2022-06-28T13:59:45.257Z"
   },
   {
    "duration": 191,
    "start_time": "2022-06-28T13:59:45.389Z"
   },
   {
    "duration": 128,
    "start_time": "2022-06-28T13:59:45.581Z"
   },
   {
    "duration": 168,
    "start_time": "2022-06-28T13:59:45.711Z"
   },
   {
    "duration": 142,
    "start_time": "2022-06-28T13:59:45.882Z"
   },
   {
    "duration": 163,
    "start_time": "2022-06-28T13:59:46.038Z"
   },
   {
    "duration": 153,
    "start_time": "2022-06-28T13:59:46.203Z"
   },
   {
    "duration": 190,
    "start_time": "2022-06-28T13:59:46.364Z"
   },
   {
    "duration": 202,
    "start_time": "2022-06-28T13:59:46.555Z"
   },
   {
    "duration": 162,
    "start_time": "2022-06-28T13:59:46.759Z"
   },
   {
    "duration": 184,
    "start_time": "2022-06-28T13:59:46.923Z"
   },
   {
    "duration": 163,
    "start_time": "2022-06-28T13:59:47.109Z"
   },
   {
    "duration": 139,
    "start_time": "2022-06-28T13:59:47.274Z"
   },
   {
    "duration": 19,
    "start_time": "2022-06-28T13:59:47.416Z"
   },
   {
    "duration": 38,
    "start_time": "2022-06-28T13:59:47.445Z"
   },
   {
    "duration": 35,
    "start_time": "2022-06-28T14:03:02.518Z"
   },
   {
    "duration": 12,
    "start_time": "2022-06-28T14:03:05.929Z"
   },
   {
    "duration": 70,
    "start_time": "2022-06-28T14:03:06.517Z"
   },
   {
    "duration": 46,
    "start_time": "2022-06-28T14:03:07.442Z"
   },
   {
    "duration": 22,
    "start_time": "2022-06-28T14:03:08.164Z"
   },
   {
    "duration": 9,
    "start_time": "2022-06-28T14:03:11.093Z"
   },
   {
    "duration": 21,
    "start_time": "2022-06-28T14:08:02.300Z"
   },
   {
    "duration": 12,
    "start_time": "2022-06-28T14:08:32.143Z"
   },
   {
    "duration": 147,
    "start_time": "2022-06-28T14:10:27.975Z"
   },
   {
    "duration": 14,
    "start_time": "2022-06-28T14:10:31.195Z"
   },
   {
    "duration": 17,
    "start_time": "2022-06-28T14:10:57.589Z"
   },
   {
    "duration": 14,
    "start_time": "2022-06-28T14:11:31.994Z"
   },
   {
    "duration": 8,
    "start_time": "2022-06-28T14:11:57.790Z"
   }
  ],
  "kernelspec": {
   "display_name": "Python 3 (ipykernel)",
   "language": "python",
   "name": "python3"
  },
  "language_info": {
   "codemirror_mode": {
    "name": "ipython",
    "version": 3
   },
   "file_extension": ".py",
   "mimetype": "text/x-python",
   "name": "python",
   "nbconvert_exporter": "python",
   "pygments_lexer": "ipython3",
   "version": "3.9.7"
  },
  "toc": {
   "base_numbering": 1,
   "nav_menu": {
    "height": "265px",
    "width": "160px"
   },
   "number_sections": true,
   "sideBar": true,
   "skip_h1_title": true,
   "title_cell": "Содержание",
   "title_sidebar": "Contents",
   "toc_cell": true,
   "toc_position": {
    "height": "calc(100% - 180px)",
    "left": "10px",
    "top": "150px",
    "width": "280px"
   },
   "toc_section_display": true,
   "toc_window_display": true
  }
 },
 "nbformat": 4,
 "nbformat_minor": 2
}
